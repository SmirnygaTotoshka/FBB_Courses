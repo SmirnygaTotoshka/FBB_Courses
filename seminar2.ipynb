{
  "nbformat": 4,
  "nbformat_minor": 5,
  "metadata": {
    "kernelspec": {
      "display_name": "Python 3",
      "language": "python",
      "name": "python3"
    },
    "language_info": {
      "codemirror_mode": {
        "name": "ipython",
        "version": 3
      },
      "file_extension": ".py",
      "mimetype": "text/x-python",
      "name": "python",
      "nbconvert_exporter": "python",
      "pygments_lexer": "ipython3",
      "version": "3.7.10"
    },
    "colab": {
      "name": "seminar2.ipynb",
      "provenance": [],
      "collapsed_sections": [],
      "include_colab_link": true
    }
  },
  "cells": [
    {
      "cell_type": "markdown",
      "metadata": {
        "id": "view-in-github",
        "colab_type": "text"
      },
      "source": [
        "<a href=\"https://colab.research.google.com/github/SmirnygaTotoshka/FBB_Courses/blob/main/seminar2.ipynb\" target=\"_parent\"><img src=\"https://colab.research.google.com/assets/colab-badge.svg\" alt=\"Open In Colab\"/></a>"
      ]
    },
    {
      "cell_type": "markdown",
      "metadata": {
        "id": "bb9cd518-2ed8-495f-bea5-6c1c701708c6"
      },
      "source": [
        "# Машинное обучение в биологии\n",
        "\n",
        "### Семинар 2: Основные понятия и простейшие модели машинного обучения\n",
        "\n",
        "#### Учимся на геномных эмбеддингах. Работа с веществами в Python. Классификация веществ и проблемы разбиения их на обучение и тест."
      ],
      "id": "bb9cd518-2ed8-495f-bea5-6c1c701708c6"
    },
    {
      "cell_type": "code",
      "metadata": {
        "id": "654ff1e0-8eac-452c-a57e-66501bb1a884"
      },
      "source": [
        "import numpy as np\n",
        "import pandas as pd\n",
        "\n",
        "import matplotlib.pyplot as plt\n",
        "import seaborn as sns\n",
        "\n",
        "sns.set()\n",
        "sns.set_style(\"whitegrid\")"
      ],
      "id": "654ff1e0-8eac-452c-a57e-66501bb1a884",
      "execution_count": null,
      "outputs": []
    },
    {
      "cell_type": "markdown",
      "metadata": {
        "id": "89d5e03d-32f0-48ab-9974-1bc2327f6ede"
      },
      "source": [
        "### Задача 1: Предсказание растворимости белков"
      ],
      "id": "89d5e03d-32f0-48ab-9974-1bc2327f6ede"
    },
    {
      "cell_type": "markdown",
      "metadata": {
        "id": "82a27b22-3e1c-484a-bd21-c231de7bb52a"
      },
      "source": [
        "В этой задаче предлагается произвести предсказание растворимости различных белков, используя их физико-химические свойства и белковый состав."
      ],
      "id": "82a27b22-3e1c-484a-bd21-c231de7bb52a"
    },
    {
      "cell_type": "code",
      "metadata": {
        "id": "S22zU4DvNk6h"
      },
      "source": [
        "!wget --no-check-certificate 'https://docs.google.com/uc?export=download&id=1KNyRSO87bQF0NFVwHQD2TynthsoplAZO' -O solubility_data.csv"
      ],
      "id": "S22zU4DvNk6h",
      "execution_count": null,
      "outputs": []
    },
    {
      "cell_type": "markdown",
      "metadata": {
        "id": "22d78c75-e3bf-435c-8b16-7cf21ff153f2"
      },
      "source": [
        "Датасет `solubility_data.csv` загружен за вас, определены `X` и `y`."
      ],
      "id": "22d78c75-e3bf-435c-8b16-7cf21ff153f2"
    },
    {
      "cell_type": "code",
      "metadata": {
        "id": "9da660ce-7081-41ca-a067-c60c625b7f4b"
      },
      "source": [
        "sol = pd.read_csv(\"./solubility_data.csv\", header=0, index_col=0)\n",
        "sol.head(3)"
      ],
      "id": "9da660ce-7081-41ca-a067-c60c625b7f4b",
      "execution_count": null,
      "outputs": []
    },
    {
      "cell_type": "code",
      "metadata": {
        "id": "26dd218d-46fe-4e82-b7ac-eceb40f2042d"
      },
      "source": [
        "X = sol.iloc[:,1:]\n",
        "y = sol[\"solubility\"]"
      ],
      "id": "26dd218d-46fe-4e82-b7ac-eceb40f2042d",
      "execution_count": null,
      "outputs": []
    },
    {
      "cell_type": "markdown",
      "metadata": {
        "id": "a81b5a30-1c29-43de-b8e1-9604c77da775"
      },
      "source": [
        "**Разбейте X и y на тренировочную и тестовую выборки**, как в лекции. Соотношение train/test поставьте равным 4:1.\\\n",
        "*Подсказка*: воспользуйтесь функцией `train_test_split`."
      ],
      "id": "a81b5a30-1c29-43de-b8e1-9604c77da775"
    },
    {
      "cell_type": "code",
      "metadata": {
        "id": "eb40457f-b8b5-447d-8497-efe3b0671b71"
      },
      "source": [
        ""
      ],
      "id": "eb40457f-b8b5-447d-8497-efe3b0671b71",
      "execution_count": null,
      "outputs": []
    },
    {
      "cell_type": "markdown",
      "metadata": {
        "id": "29b75ec0-447f-4b6c-bb9f-31fa67acf73f"
      },
      "source": [
        "**Осуществите стандартизацию признаков в выборке**."
      ],
      "id": "29b75ec0-447f-4b6c-bb9f-31fa67acf73f"
    },
    {
      "cell_type": "code",
      "metadata": {
        "id": "0462e61c-0fba-442b-be4d-ed4eeefc30db"
      },
      "source": [
        ""
      ],
      "id": "0462e61c-0fba-442b-be4d-ed4eeefc30db",
      "execution_count": null,
      "outputs": []
    },
    {
      "cell_type": "markdown",
      "metadata": {
        "id": "0c151708-47a0-4437-a0d9-596f9fe6d726"
      },
      "source": [
        "**Импортируйте модель регрессии k-NN и обучите ее (`model.fit`)**.\\\n",
        "*Вопрос*: на какой части выборки происходит обучение: тренировочной или тестовой?"
      ],
      "id": "0c151708-47a0-4437-a0d9-596f9fe6d726"
    },
    {
      "cell_type": "code",
      "metadata": {
        "id": "f56a89e5-4a31-4ccb-ba4f-c61a467b84a2"
      },
      "source": [
        ""
      ],
      "id": "f56a89e5-4a31-4ccb-ba4f-c61a467b84a2",
      "execution_count": null,
      "outputs": []
    },
    {
      "cell_type": "markdown",
      "metadata": {
        "id": "381dbe6d-1366-4ed4-b8f9-81379d7506a0"
      },
      "source": [
        "**Получите предсказание на оставшейся выборке**. Оцените его качество метриками RMSE, MAE."
      ],
      "id": "381dbe6d-1366-4ed4-b8f9-81379d7506a0"
    },
    {
      "cell_type": "code",
      "metadata": {
        "id": "4a6dd01e-44ec-470c-8c69-63201384dfd8"
      },
      "source": [
        ""
      ],
      "id": "4a6dd01e-44ec-470c-8c69-63201384dfd8",
      "execution_count": null,
      "outputs": []
    },
    {
      "cell_type": "markdown",
      "metadata": {
        "id": "3a8da971-b518-4052-8261-f970870b3743"
      },
      "source": [
        "Следующая функция строит график зависимости качества на тестовой и тренировочной выборках от параметра модели.\\\n",
        "Измените помеченную строку в функции так, чтобы ее можно было использовать **для построения графика зависимости качества от количества соседей для модели k-NN**."
      ],
      "id": "3a8da971-b518-4052-8261-f970870b3743"
    },
    {
      "cell_type": "code",
      "metadata": {
        "id": "c5f6c835-17e6-43cd-aa37-b1c4b6ad25dd"
      },
      "source": [
        "from sklearn.metrics import mean_squared_error\n",
        "\n",
        "def make_qual_chart(X_train, X_test, y_train, y_test, metric=mean_squared_error, limit=50):\n",
        "    train_quals = np.zeros(limit)\n",
        "    test_quals = np.zeros(limit)\n",
        "    param_range = np.arange(1, limit + 1)\n",
        "    \n",
        "    for ind, value in enumerate(param_range):\n",
        "        ### CHANGE THE NEXT LINE!\n",
        "        model = None\n",
        "        # FIT\n",
        "        model.fit(X_train, y_train)\n",
        "        # PREDICT\n",
        "        y_train_pred = model.predict(X_train)\n",
        "        y_test_pred = model.predict(X_test)\n",
        "        # EVALUATE QUALITY\n",
        "        train_quals[ind] = metric(y_true=y_train, y_pred=y_train_pred)\n",
        "        test_quals[ind] = metric(y_true=y_test, y_pred=y_test_pred)\n",
        "    \n",
        "    # baseline = metric(y_true=y_test, y_pred=np.full_like(y_test, y_train.mean()))\n",
        "    \n",
        "    # TRACING CHART\n",
        "    plt.figure(figsize=(10, 7))\n",
        "    plt.plot(param_range, train_quals, label=\"Train\")\n",
        "    plt.plot(param_range, test_quals, label=\"Test\")\n",
        "    # plt.axhline(baseline, color=\"k\", ls=\"--\", lw=1.5, label=\"Baseline\")\n",
        "    plt.legend()\n",
        "    plt.show()\n",
        "    return param_range, train_quals, test_quals"
      ],
      "id": "c5f6c835-17e6-43cd-aa37-b1c4b6ad25dd",
      "execution_count": null,
      "outputs": []
    },
    {
      "cell_type": "code",
      "metadata": {
        "id": "3589c57d-d338-41ab-98e8-8e9c12bcda50"
      },
      "source": [
        ""
      ],
      "id": "3589c57d-d338-41ab-98e8-8e9c12bcda50",
      "execution_count": null,
      "outputs": []
    },
    {
      "cell_type": "markdown",
      "metadata": {
        "id": "770d6ecb-37be-4a13-89d0-0c969e634543"
      },
      "source": [
        "Сделайте вывод о том, **какое число соседей является оптимальным для данной задачи**."
      ],
      "id": "770d6ecb-37be-4a13-89d0-0c969e634543"
    },
    {
      "cell_type": "code",
      "metadata": {
        "id": "752fd9b2-4a62-4bcf-a36b-96c0da837055"
      },
      "source": [
        ""
      ],
      "id": "752fd9b2-4a62-4bcf-a36b-96c0da837055",
      "execution_count": null,
      "outputs": []
    },
    {
      "cell_type": "markdown",
      "metadata": {
        "id": "a87d79ba-c9b2-4fcd-bb61-e3a3561b7309"
      },
      "source": [
        "### Задача 2: Обучение на геномных эмбеддингах"
      ],
      "id": "a87d79ba-c9b2-4fcd-bb61-e3a3561b7309"
    },
    {
      "cell_type": "markdown",
      "metadata": {
        "id": "018a8ba8-9f12-4aab-9b98-560553982e3b"
      },
      "source": [
        "В этой задаче предлагается произвести трехклассовую классификацию разных однонуклеотидных замен в ДНК, основываясь на их нейросетевых геномных эмбеддингах."
      ],
      "id": "018a8ba8-9f12-4aab-9b98-560553982e3b"
    },
    {
      "cell_type": "code",
      "metadata": {
        "id": "DRbz9nBPPHo3"
      },
      "source": [
        "!wget --no-check-certificate 'https://docs.google.com/uc?export=download&id=1RDTcTnhOcMX4DnJbzdPalWENNFtXi2r8' -O tfs_deepsea.csv"
      ],
      "id": "DRbz9nBPPHo3",
      "execution_count": null,
      "outputs": []
    },
    {
      "cell_type": "markdown",
      "metadata": {
        "id": "a9c427c4-a23b-4452-92b4-26ed2624ab5f"
      },
      "source": [
        "Загрузите датасет `tfs_deepsea.csv`, в качестве `y` используйте колонку `Direction`, в качестве `X` - все колонки, начиная с девятой."
      ],
      "id": "a9c427c4-a23b-4452-92b4-26ed2624ab5f"
    },
    {
      "cell_type": "code",
      "metadata": {
        "id": "10bdbee0-9e71-4ad7-8e20-3ba96a47e0c4"
      },
      "source": [
        "tfs = pd.read_csv(\"tfs_deepsea.csv\", header=0)\n",
        "tfs.head(3)"
      ],
      "id": "10bdbee0-9e71-4ad7-8e20-3ba96a47e0c4",
      "execution_count": null,
      "outputs": []
    },
    {
      "cell_type": "code",
      "metadata": {
        "id": "7e5fba7c-2ca3-44eb-9604-68d8cecd8c99"
      },
      "source": [
        ""
      ],
      "id": "7e5fba7c-2ca3-44eb-9604-68d8cecd8c99",
      "execution_count": null,
      "outputs": []
    },
    {
      "cell_type": "markdown",
      "metadata": {
        "id": "de761526-7be2-4f21-b92d-1df55ec1e59e"
      },
      "source": [
        "**Разбейте X и y на тренировочную и тестовую выборки**, как в лекции. Соотношение train/test поставьте равным 4:1.\\\n",
        "*Подсказка*: воспользуйтесь функцией `train_test_split`."
      ],
      "id": "de761526-7be2-4f21-b92d-1df55ec1e59e"
    },
    {
      "cell_type": "code",
      "metadata": {
        "id": "2685d7e6-1f7a-4c22-9e7d-c4312c39bb53"
      },
      "source": [
        ""
      ],
      "id": "2685d7e6-1f7a-4c22-9e7d-c4312c39bb53",
      "execution_count": null,
      "outputs": []
    },
    {
      "cell_type": "markdown",
      "metadata": {
        "id": "ec0a711a-5755-4bba-9bed-0a4718d1248d"
      },
      "source": [
        "**Осуществите стандартизацию признаков в выборке**."
      ],
      "id": "ec0a711a-5755-4bba-9bed-0a4718d1248d"
    },
    {
      "cell_type": "code",
      "metadata": {
        "id": "4ebe265e-aa17-47a7-9faa-727eb06ec19a"
      },
      "source": [
        ""
      ],
      "id": "4ebe265e-aa17-47a7-9faa-727eb06ec19a",
      "execution_count": null,
      "outputs": []
    },
    {
      "cell_type": "markdown",
      "metadata": {
        "id": "74eb7e2b-4dc8-4d36-83ab-9ef5cf252886"
      },
      "source": [
        "**Импортируйте модель логистической регрессии и обучите ее на соответствующей части выборки (`model.fit`)**."
      ],
      "id": "74eb7e2b-4dc8-4d36-83ab-9ef5cf252886"
    },
    {
      "cell_type": "code",
      "metadata": {
        "id": "4a24c5cf-6993-4c8a-8f87-6c061a9bfafa"
      },
      "source": [
        ""
      ],
      "id": "4a24c5cf-6993-4c8a-8f87-6c061a9bfafa",
      "execution_count": null,
      "outputs": []
    },
    {
      "cell_type": "markdown",
      "metadata": {
        "id": "04d4e9d0-8122-46e1-9341-e5000f3ee715"
      },
      "source": [
        "**Получите предсказание на оставшейся выборке**. Оцените его качество метриками из отчета о классификации (`classification_report`)."
      ],
      "id": "04d4e9d0-8122-46e1-9341-e5000f3ee715"
    },
    {
      "cell_type": "code",
      "metadata": {
        "id": "c7062e89-3cff-4167-96ee-7b1b3df74f8e"
      },
      "source": [
        ""
      ],
      "id": "c7062e89-3cff-4167-96ee-7b1b3df74f8e",
      "execution_count": null,
      "outputs": []
    },
    {
      "cell_type": "markdown",
      "metadata": {
        "id": "cd886df0-66f0-4e46-8754-ba221400048e"
      },
      "source": [
        "Разбейте X и y на тренировочную и тестовую выборки, **так, как указано в ячейке ниже**. Повторите все шаги, чтобы определить качество классификации."
      ],
      "id": "cd886df0-66f0-4e46-8754-ba221400048e"
    },
    {
      "cell_type": "code",
      "metadata": {
        "id": "64ed362f-42ad-4fa8-b833-80745c8c962e"
      },
      "source": [
        "X_train = X[tfs[\"construction\"] == \"ECR11\"].values\n",
        "X_test = X[tfs[\"construction\"] == \"ALDOB\"].values\n",
        "y_train = y[tfs[\"construction\"] == \"ECR11\"].values\n",
        "y_test = y[tfs[\"construction\"] == \"ALDOB\"].values"
      ],
      "id": "64ed362f-42ad-4fa8-b833-80745c8c962e",
      "execution_count": null,
      "outputs": []
    },
    {
      "cell_type": "code",
      "metadata": {
        "id": "e42a113c-3483-4887-b526-cdde56fba6f9"
      },
      "source": [
        ""
      ],
      "id": "e42a113c-3483-4887-b526-cdde56fba6f9",
      "execution_count": null,
      "outputs": []
    },
    {
      "cell_type": "markdown",
      "metadata": {
        "id": "16bcf556-47ef-460c-aaaf-97442ca77692"
      },
      "source": [
        "**Сделайте выводы об изменении качества**."
      ],
      "id": "16bcf556-47ef-460c-aaaf-97442ca77692"
    },
    {
      "cell_type": "code",
      "metadata": {
        "id": "0795fe2e-eef2-4c35-9777-a7220f4c83fe"
      },
      "source": [
        ""
      ],
      "id": "0795fe2e-eef2-4c35-9777-a7220f4c83fe",
      "execution_count": null,
      "outputs": []
    },
    {
      "cell_type": "markdown",
      "metadata": {
        "id": "e8482c12-6d88-4916-a847-6b5353fe55c1"
      },
      "source": [
        "### Задача 3: Классификация химических веществ"
      ],
      "id": "e8482c12-6d88-4916-a847-6b5353fe55c1"
    },
    {
      "cell_type": "code",
      "metadata": {
        "id": "-r3XZfzYPOBO",
        "colab": {
          "base_uri": "https://localhost:8080/"
        },
        "outputId": "8556f76a-6459-4ea5-fb2b-32ecca80cdce"
      },
      "source": [
        "!wget --no-check-certificate 'https://docs.google.com/uc?export=download&id=1SYdyTbPD01GYcdz7hkyWZGoA5RV44fg7' -O bace.csv"
      ],
      "id": "-r3XZfzYPOBO",
      "execution_count": null,
      "outputs": [
        {
          "output_type": "stream",
          "name": "stdout",
          "text": [
            "--2021-09-29 21:27:25--  https://docs.google.com/uc?export=download&id=1SYdyTbPD01GYcdz7hkyWZGoA5RV44fg7\n",
            "Resolving docs.google.com (docs.google.com)... 108.177.13.100, 108.177.13.113, 108.177.13.139, ...\n",
            "Connecting to docs.google.com (docs.google.com)|108.177.13.100|:443... connected.\n",
            "HTTP request sent, awaiting response... 302 Moved Temporarily\n",
            "Location: https://doc-0c-50-docs.googleusercontent.com/docs/securesc/ha0ro937gcuc7l7deffksulhg5h7mbp1/uiqd2ruq60rohrbolgubauq25irqtb6p/1632950775000/10688067377005935076/*/1SYdyTbPD01GYcdz7hkyWZGoA5RV44fg7?e=download [following]\n",
            "Warning: wildcards not supported in HTTP.\n",
            "--2021-09-29 21:27:26--  https://doc-0c-50-docs.googleusercontent.com/docs/securesc/ha0ro937gcuc7l7deffksulhg5h7mbp1/uiqd2ruq60rohrbolgubauq25irqtb6p/1632950775000/10688067377005935076/*/1SYdyTbPD01GYcdz7hkyWZGoA5RV44fg7?e=download\n",
            "Resolving doc-0c-50-docs.googleusercontent.com (doc-0c-50-docs.googleusercontent.com)... 74.125.141.132, 2607:f8b0:400c:c06::84\n",
            "Connecting to doc-0c-50-docs.googleusercontent.com (doc-0c-50-docs.googleusercontent.com)|74.125.141.132|:443... connected.\n",
            "HTTP request sent, awaiting response... 200 OK\n",
            "Length: unspecified [text/csv]\n",
            "Saving to: ‘bace.csv’\n",
            "\n",
            "bace.csv                [ <=>                ]   3.72M  --.-KB/s    in 0.04s   \n",
            "\n",
            "2021-09-29 21:27:27 (96.6 MB/s) - ‘bace.csv’ saved [3897767]\n",
            "\n"
          ]
        }
      ]
    },
    {
      "cell_type": "markdown",
      "metadata": {
        "id": "c6e33fae-8f5c-4207-abe5-b27cf4d47436"
      },
      "source": [
        "Датасет [BACE](http://moleculenet.ai/datasets-1) загружен за вас, определены `X`, `y` и `smiles`."
      ],
      "id": "c6e33fae-8f5c-4207-abe5-b27cf4d47436"
    },
    {
      "cell_type": "code",
      "metadata": {
        "id": "26b131ae-2a07-48f3-a24f-d406471a99b1"
      },
      "source": [
        "bace = pd.read_csv(\"./bace.csv\", header=0)\n",
        "bace.head(3)"
      ],
      "id": "26b131ae-2a07-48f3-a24f-d406471a99b1",
      "execution_count": null,
      "outputs": []
    },
    {
      "cell_type": "code",
      "metadata": {
        "id": "4d7630b3-92e2-4d1f-b305-30e211de181e"
      },
      "source": [
        "X = bace.iloc[:,4:].values\n",
        "y = bace[\"Class\"].values\n",
        "smiles = bace[\"mol\"].values"
      ],
      "id": "4d7630b3-92e2-4d1f-b305-30e211de181e",
      "execution_count": null,
      "outputs": []
    },
    {
      "cell_type": "markdown",
      "metadata": {
        "id": "b82862fa-1ac5-4418-ba1f-8db8173ebd8b"
      },
      "source": [
        "**Разбейте X и y на тренировочную и тестовую выборки**, как в лекции. Соотношение train/test поставьте равным 3:1.\\\n",
        "*Подсказка*: воспользуйтесь функцией `train_test_split`."
      ],
      "id": "b82862fa-1ac5-4418-ba1f-8db8173ebd8b"
    },
    {
      "cell_type": "code",
      "metadata": {
        "id": "3be4f823-3b68-4988-a597-bae25c8ddd73"
      },
      "source": [
        ""
      ],
      "id": "3be4f823-3b68-4988-a597-bae25c8ddd73",
      "execution_count": null,
      "outputs": []
    },
    {
      "cell_type": "markdown",
      "metadata": {
        "id": "e8413973-d3b5-49f4-8234-c115fd15ad23"
      },
      "source": [
        "**Осуществите стандартизацию признаков в выборке**."
      ],
      "id": "e8413973-d3b5-49f4-8234-c115fd15ad23"
    },
    {
      "cell_type": "code",
      "metadata": {
        "id": "7d2574c1-bc21-4dc6-b983-1303269b3bed"
      },
      "source": [
        ""
      ],
      "id": "7d2574c1-bc21-4dc6-b983-1303269b3bed",
      "execution_count": null,
      "outputs": []
    },
    {
      "cell_type": "markdown",
      "metadata": {
        "id": "6c71dc81-9935-4493-b1a2-56fb5be672d0"
      },
      "source": [
        "**Импортируйте модель логистической регрессии и обучите ее на соответствующей части выборки (`model.fit`)**."
      ],
      "id": "6c71dc81-9935-4493-b1a2-56fb5be672d0"
    },
    {
      "cell_type": "code",
      "metadata": {
        "id": "f674454a-45e0-4427-960a-94c82e78d7d1"
      },
      "source": [
        ""
      ],
      "id": "f674454a-45e0-4427-960a-94c82e78d7d1",
      "execution_count": null,
      "outputs": []
    },
    {
      "cell_type": "markdown",
      "metadata": {
        "id": "b12d7f89-ee99-47aa-b0ff-52e312a0938f"
      },
      "source": [
        "**Получите предсказание на оставшейся выборке**. Оцените его качество метриками из отчета о классификации (`classification_report`)."
      ],
      "id": "b12d7f89-ee99-47aa-b0ff-52e312a0938f"
    },
    {
      "cell_type": "code",
      "metadata": {
        "id": "a4561cf9-15ca-4d45-903f-14b478ac8448"
      },
      "source": [
        ""
      ],
      "id": "a4561cf9-15ca-4d45-903f-14b478ac8448",
      "execution_count": null,
      "outputs": []
    },
    {
      "cell_type": "markdown",
      "metadata": {
        "id": "258f3c59-f419-4394-aa87-fa5c58a8c2d1"
      },
      "source": [
        "Функция `fingerprint_train_test_split`, приведенная ниже, осуществляет **разбиение train/test на основании молекулярных \"отпечатков\" (molecular fingerprints)**. Воспользуйтесь ей, чтобы получить **неслучайное разбиение на train/test** и повторите предыдущие шаги, чтобы оценить качество модели на таком случае."
      ],
      "id": "258f3c59-f419-4394-aa87-fa5c58a8c2d1"
    },
    {
      "cell_type": "code",
      "metadata": {
        "colab": {
          "base_uri": "https://localhost:8080/"
        },
        "id": "w03_Vi4MQLX_",
        "outputId": "3b9fcdcc-39d4-4644-ca4b-ced65eaf03e4"
      },
      "source": [
        "!pip install rdkit-pypi"
      ],
      "id": "w03_Vi4MQLX_",
      "execution_count": null,
      "outputs": [
        {
          "output_type": "stream",
          "name": "stdout",
          "text": [
            "Collecting rdkit-pypi\n",
            "  Downloading rdkit_pypi-2021.3.5.1-cp37-cp37m-manylinux_2_17_x86_64.manylinux2014_x86_64.whl (19.7 MB)\n",
            "\u001b[K     |████████████████████████████████| 19.7 MB 4.9 MB/s \n",
            "\u001b[?25hRequirement already satisfied: numpy>=1.19 in /usr/local/lib/python3.7/dist-packages (from rdkit-pypi) (1.19.5)\n",
            "Installing collected packages: rdkit-pypi\n",
            "Successfully installed rdkit-pypi-2021.3.5.1\n"
          ]
        }
      ]
    },
    {
      "cell_type": "code",
      "metadata": {
        "id": "9a29ae65-3c94-4bf3-8a17-204607b8dc57"
      },
      "source": [
        "from rdkit import Chem\n",
        "from rdkit.Chem import AllChem\n",
        "from rdkit import DataStructs"
      ],
      "id": "9a29ae65-3c94-4bf3-8a17-204607b8dc57",
      "execution_count": null,
      "outputs": []
    },
    {
      "cell_type": "code",
      "metadata": {
        "id": "7b6cb627-57fc-4bcb-971c-40a30e850f75"
      },
      "source": [
        "def _split_fingerprints(fps, size1, size2):\n",
        "    \"\"\"This is called by fingerprint_train_test_split to divide a list of fingerprints into\n",
        "    two groups.\n",
        "    \"\"\"\n",
        "    assert len(fps) == size1 + size2\n",
        "\n",
        "    # Begin by assigning the first molecule to the first group.\n",
        "\n",
        "    fp_in_group = [[fps[0]], []]\n",
        "    indices_in_group = ([0], [])\n",
        "    remaining_fp = fps[1:]\n",
        "    remaining_indices = list(range(1, len(fps)))\n",
        "    max_similarity_to_group = [\n",
        "        DataStructs.BulkTanimotoSimilarity(fps[0], remaining_fp),\n",
        "        [0] * len(remaining_fp)\n",
        "    ]\n",
        "    while len(remaining_fp) > 0:\n",
        "    # Decide which group to assign a molecule to.\n",
        "        group = 0 if len(fp_in_group[0]) / size1 <= len(\n",
        "            fp_in_group[1]) / size2 else 1\n",
        "\n",
        "        # Identify the unassigned molecule that is least similar to everything in\n",
        "        # the other group.\n",
        "\n",
        "        i = np.argmin(max_similarity_to_group[1 - group])\n",
        "\n",
        "        # Add it to the group.\n",
        "\n",
        "        fp = remaining_fp[i]\n",
        "        fp_in_group[group].append(fp)\n",
        "        indices_in_group[group].append(remaining_indices[i])\n",
        "\n",
        "        # Update the data on unassigned molecules.\n",
        "\n",
        "        similarity = DataStructs.BulkTanimotoSimilarity(fp, remaining_fp)\n",
        "        max_similarity_to_group[group] = np.delete(\n",
        "            np.maximum(similarity, max_similarity_to_group[group]), i)\n",
        "        max_similarity_to_group[1 - group] = np.delete(\n",
        "            max_similarity_to_group[1 - group], i)\n",
        "        del remaining_fp[i]\n",
        "        del remaining_indices[i]\n",
        "    return indices_in_group"
      ],
      "id": "7b6cb627-57fc-4bcb-971c-40a30e850f75",
      "execution_count": null,
      "outputs": []
    },
    {
      "cell_type": "code",
      "metadata": {
        "id": "cfe6c073-0fc4-4f23-8fab-8744f725db28"
      },
      "source": [
        "def fingerprint_train_test_split(X, y, smiles, test_size=0.1):\n",
        "    assert X.shape[0] == y.shape[0] == smiles.shape[0]\n",
        "    mols = [Chem.MolFromSmiles(s) for s in smiles]\n",
        "    fps = [AllChem.GetMorganFingerprintAsBitVect(x, 2, 1024) for x in mols]\n",
        "\n",
        "    # Split into two groups: training set and everything else.\n",
        "\n",
        "    test_size = int(test_size * len(y))\n",
        "    train_size = len(y) - test_size\n",
        "    train_inds, test_inds = _split_fingerprints(fps, train_size, test_size)\n",
        "    \n",
        "    X_train = X[train_inds,:]\n",
        "    X_test = X[test_inds,:]\n",
        "    y_train = y[train_inds]\n",
        "    y_test = y[test_inds]\n",
        "    \n",
        "    return X_train, X_test, y_train, y_test"
      ],
      "id": "cfe6c073-0fc4-4f23-8fab-8744f725db28",
      "execution_count": null,
      "outputs": []
    },
    {
      "cell_type": "code",
      "metadata": {
        "id": "bac99465-3e69-4eb6-a05e-2abfffe97fe1"
      },
      "source": [
        ""
      ],
      "id": "bac99465-3e69-4eb6-a05e-2abfffe97fe1",
      "execution_count": null,
      "outputs": []
    },
    {
      "cell_type": "markdown",
      "metadata": {
        "id": "d1051f3a-d90a-4cfb-887c-97aad6b31158"
      },
      "source": [
        "**Сделайте выводы**."
      ],
      "id": "d1051f3a-d90a-4cfb-887c-97aad6b31158"
    },
    {
      "cell_type": "code",
      "metadata": {
        "id": "e26b8e9c-1824-406c-a423-d006bfdbc9e8"
      },
      "source": [
        ""
      ],
      "id": "e26b8e9c-1824-406c-a423-d006bfdbc9e8",
      "execution_count": null,
      "outputs": []
    },
    {
      "cell_type": "markdown",
      "metadata": {
        "id": "8e230a47-c382-40eb-8512-57353a4a8df0"
      },
      "source": [
        "---"
      ],
      "id": "8e230a47-c382-40eb-8512-57353a4a8df0"
    }
  ]
}