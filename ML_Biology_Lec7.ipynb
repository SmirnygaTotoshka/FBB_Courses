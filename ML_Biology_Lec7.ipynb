{
  "nbformat": 4,
  "nbformat_minor": 0,
  "metadata": {
    "colab": {
      "name": "ML_Biology_Lec7.ipynb",
      "provenance": [],
      "collapsed_sections": [],
      "include_colab_link": true
    },
    "kernelspec": {
      "name": "python3",
      "display_name": "Python 3"
    },
    "language_info": {
      "name": "python"
    },
    "accelerator": "GPU"
  },
  "cells": [
    {
      "cell_type": "markdown",
      "metadata": {
        "id": "view-in-github",
        "colab_type": "text"
      },
      "source": [
        "<a href=\"https://colab.research.google.com/github/SmirnygaTotoshka/FBB_Courses/blob/main/ML_Biology_Lec7.ipynb\" target=\"_parent\"><img src=\"https://colab.research.google.com/assets/colab-badge.svg\" alt=\"Open In Colab\"/></a>"
      ]
    },
    {
      "cell_type": "markdown",
      "metadata": {
        "id": "WeDbFmRHFbdh"
      },
      "source": [
        "#Бустинг"
      ]
    },
    {
      "cell_type": "markdown",
      "metadata": {
        "id": "rkwO70QQoK3-"
      },
      "source": [
        "Идея градиентного бустинига, как и некоторых других методов, заключается в том, что мы обучаем не одну сильную модель, а много слабых. При этом каждая из из них, во время обучения, приближает нас к способности производить верное предсказание. Особенность же его в том, что после этапа и подсчета функции ошибки, градиентным спуском получает новое приблилжение, на котором обучается следующая модель. Таким образом, с каждой последующей моделью бустинг приближается к глобальному минимуму функции ошибки.\n"
      ]
    },
    {
      "cell_type": "markdown",
      "metadata": {
        "id": "obm97PPVlWKw"
      },
      "source": [
        "<img src=\"https://kodomo.fbb.msu.ru/FBB/year_20/ml/Grad_Golf.png\" alt=\"Drawing\" width= \"550px;\"/>\n"
      ]
    },
    {
      "cell_type": "markdown",
      "metadata": {
        "id": "9V1CE5D3CqPW"
      },
      "source": [
        "<img src=\"https://kodomo.fbb.msu.ru/FBB/year_20/ml/id_l/L7_00.jpg\" alt=\"alttext\" width=600/>"
      ]
    },
    {
      "cell_type": "markdown",
      "metadata": {
        "id": "btOttp7ll4o9"
      },
      "source": [
        "#Adaboost"
      ]
    },
    {
      "cell_type": "markdown",
      "metadata": {
        "id": "kbBDW_jcl69j"
      },
      "source": [
        "Рассмотрим один первых вариант градиентного бустинга.\n",
        "\n",
        "Допустим у нас есть набор плюсов и минусов, которые нужно классифицировать. Присвоим им одинаковый вес, потому что для этой модели вес элементов нужен."
      ]
    },
    {
      "cell_type": "markdown",
      "metadata": {
        "id": "aIRoEVNUjIEd"
      },
      "source": [
        "<img src=\"https://kodomo.fbb.msu.ru/FBB/year_20/ml/Ada_boost_1.png\" alt=\"Drawing\" width= \"550px;\"/>\n"
      ]
    },
    {
      "cell_type": "markdown",
      "metadata": {
        "id": "XLWNA3XUnJcX"
      },
      "source": [
        "Первая модель отлично отделила все минусы и верно определила некоторые плюсы. Неверно определенным элементам прибавляем веса."
      ]
    },
    {
      "cell_type": "markdown",
      "metadata": {
        "id": "61fO9kn_jMQN"
      },
      "source": [
        "<img src=\"https://kodomo.fbb.msu.ru/FBB/year_20/ml/Ada_boost_2.png\" alt=\"Drawing\" width= \"450px;\"/>\n"
      ]
    },
    {
      "cell_type": "markdown",
      "metadata": {
        "id": "Krlrx12xnT2R"
      },
      "source": [
        "Следующая модель обратила внимание на все плюсы, но неверно классифицировала несколько минусов. Теперь их очередь набирать вес."
      ]
    },
    {
      "cell_type": "markdown",
      "metadata": {
        "id": "TgBqkA3pjaK6"
      },
      "source": [
        "<img src=\"https://kodomo.fbb.msu.ru/FBB/year_20/ml/Ada_boost_3.png\" alt=\"Drawing\" width= \"450px;\"/>\n"
      ]
    },
    {
      "cell_type": "markdown",
      "metadata": {
        "id": "RAFQFGu-ne1f"
      },
      "source": [
        "Новая модель отделила увесиситые минусы. "
      ]
    },
    {
      "cell_type": "markdown",
      "metadata": {
        "id": "JiBYcPgBjdb8"
      },
      "source": [
        "<img src=\"https://kodomo.fbb.msu.ru/FBB/year_20/ml/Ada_boost_4.png\" alt=\"Drawing\" width= \"450px;\"/>\n"
      ]
    },
    {
      "cell_type": "markdown",
      "metadata": {
        "id": "1nl-gXBGoN35"
      },
      "source": [
        "Теперь объединяем прдесказанные модели. В этой лекции мы не будем вдаваться в подробности того, как это делает Adaboost. \n",
        "\n",
        "\n",
        "Суммарно мы удачно классифицируем все представленные элементы."
      ]
    },
    {
      "cell_type": "markdown",
      "metadata": {
        "id": "Qd9KgyjHjfU9"
      },
      "source": [
        "<img src=\"https://kodomo.fbb.msu.ru/FBB/year_20/ml/Ada_boost_5.png\" alt=\"Drawing\" width= \"650px;\"/>\n"
      ]
    },
    {
      "cell_type": "markdown",
      "metadata": {
        "id": "pZTDlq_8o_bV"
      },
      "source": [
        "#Градиентный бустинг"
      ]
    },
    {
      "cell_type": "markdown",
      "metadata": {
        "id": "W4psZATkpEt4"
      },
      "source": [
        "Давайте немного поговорим про градиентный спуск. Грубо говоря, это способ пошагового поиска минимума функции. Для градиентного бустинга, нас интересует непосредственно функция ошибок. "
      ]
    },
    {
      "cell_type": "markdown",
      "metadata": {
        "id": "JYQliK0bpy40"
      },
      "source": [
        "<img src=\"https://kodomo.fbb.msu.ru/FBB/year_20/ml/grad.jpeg\" alt=\"Drawing\" width= \"650px;\"/>"
      ]
    },
    {
      "cell_type": "code",
      "metadata": {
        "id": "er6ngSNGFfof"
      },
      "source": [
        "import matplotlib.pyplot as plt\n",
        "import numpy as np\n",
        "import sklearn\n",
        "from sklearn import datasets, ensemble\n",
        "from sklearn.inspection import permutation_importance\n",
        "from sklearn.metrics import mean_squared_error\n",
        "from sklearn.model_selection import train_test_split\n",
        "from sklearn.metrics import accuracy_score\n",
        "from sklearn.tree import DecisionTreeClassifier, DecisionTreeRegressor\n",
        "from sklearn.ensemble import RandomForestClassifier"
      ],
      "execution_count": null,
      "outputs": []
    },
    {
      "cell_type": "code",
      "metadata": {
        "id": "kS6wQKvwOIvs"
      },
      "source": [
        "diabetes = datasets.load_diabetes()\n",
        "X, y = diabetes.data, diabetes.target"
      ],
      "execution_count": null,
      "outputs": []
    },
    {
      "cell_type": "code",
      "metadata": {
        "id": "2etDlLjTOIyV"
      },
      "source": [
        "X_train, X_test, y_train, y_test = train_test_split(X, y, test_size=0.1, random_state=0)\n",
        "\n",
        "params = {'n_estimators': 500,\n",
        "          'max_depth': 4,\n",
        "          'min_samples_split': 5,\n",
        "          'learning_rate': 0.01,\n",
        "          'loss': 'ls'}"
      ],
      "execution_count": null,
      "outputs": []
    },
    {
      "cell_type": "code",
      "metadata": {
        "colab": {
          "base_uri": "https://localhost:8080/"
        },
        "id": "SUfhtgu9OTJ0",
        "outputId": "41c99b02-a0a2-4aa3-b3ba-9fdef0fa61ce"
      },
      "source": [
        "reg = ensemble.GradientBoostingRegressor(**params)\n",
        "reg.fit(X_train, y_train)\n",
        "\n",
        "mse = mean_squared_error(y_test, reg.predict(X_test))\n",
        "print(\"The mean squared error (MSE) on test set: {:.4f}\".format(mse))"
      ],
      "execution_count": null,
      "outputs": [
        {
          "output_type": "stream",
          "name": "stdout",
          "text": [
            "The mean squared error (MSE) on test set: 3425.8713\n"
          ]
        }
      ]
    },
    {
      "cell_type": "code",
      "metadata": {
        "colab": {
          "base_uri": "https://localhost:8080/",
          "height": 441
        },
        "id": "KCB4MjbgOTMH",
        "outputId": "b0704a02-e1eb-4f1f-9b8d-5656048bb6b3"
      },
      "source": [
        "test_score = np.zeros((params['n_estimators'],), dtype=np.float64)\n",
        "for i, y_pred in enumerate(reg.staged_predict(X_test)):\n",
        "    test_score[i] = reg.loss_(y_test, y_pred)\n",
        "\n",
        "fig = plt.figure(figsize=(6, 6))\n",
        "plt.subplot(1, 1, 1)\n",
        "plt.title('Deviance')\n",
        "plt.plot(np.arange(params['n_estimators']) + 1, reg.train_score_, 'b-',\n",
        "         label='Training Set Deviance')\n",
        "plt.plot(np.arange(params['n_estimators']) + 1, test_score, 'r-',\n",
        "         label='Test Set Deviance')\n",
        "plt.legend(loc='upper right')\n",
        "plt.xlabel('Boosting Iterations')\n",
        "plt.ylabel('Deviance')\n",
        "fig.tight_layout()\n",
        "plt.show()"
      ],
      "execution_count": null,
      "outputs": [
        {
          "output_type": "display_data",
          "data": {
            "image/png": "[encoded data removed]",
            "text/plain": [
              "<Figure size 432x432 with 1 Axes>"
            ]
          },
          "metadata": {
            "needs_background": "light"
          }
        }
      ]
    },
    {
      "cell_type": "markdown",
      "metadata": {
        "id": "2juPifPzsVhy"
      },
      "source": [
        "На стадии оптимизации парметров имеет смысл оставить learning rate на последок. Остальными параметрами помимо шага, являются колличество деревьев и их глубину - это параметры напрямую характеризующие сложность деревьев. Мы хотим максимально простые, но еще способные на предсказания. Для этого подходят ограничение глубины дерева и минимальное число объектов в листе."
      ]
    },
    {
      "cell_type": "markdown",
      "metadata": {
        "id": "e9DzwtRjvxlc"
      },
      "source": [
        "Важно помнить, что бустинги могут повышать качество предсказаний на тесте, даже если уже заучили весь трейн."
      ]
    },
    {
      "cell_type": "markdown",
      "metadata": {
        "id": "wWstepWtqtJI"
      },
      "source": [
        "Посмотрим на Bias-Variance tradeoff на дереве, в случайном лесе и градиентом бустинге"
      ]
    },
    {
      "cell_type": "code",
      "metadata": {
        "id": "Rr-JRHYEqqSv"
      },
      "source": [
        "def plot_decision_boundary(clf, X, y, axes=[-1.5, 2.5, -1, 1.5], alpha=0.5, contour=True):\n",
        "    from matplotlib.colors import ListedColormap\n",
        "    x1s = np.linspace(axes[0], axes[1], 100)\n",
        "    x2s = np.linspace(axes[2], axes[3], 100)\n",
        "    x1, x2 = np.meshgrid(x1s, x2s)\n",
        "    X_new = np.c_[x1.ravel(), x2.ravel()]\n",
        "    y_pred = clf.predict(X_new).reshape(x1.shape)\n",
        "    custom_cmap = ListedColormap(['#f7e2eb','#6ab5a6','#e0eaf4'])\n",
        "    plt.contourf(x1, x2, y_pred, alpha=0.3, cmap=custom_cmap)\n",
        "    if contour:\n",
        "        custom_cmap2 = ListedColormap(['#f7e2eb','#4c4c7f','#e0eaf4'])\n",
        "        plt.contour(x1, x2, y_pred, cmap=custom_cmap2, alpha=0.8)\n",
        "    plt.plot(X[:, 0][y==0], X[:, 1][y==0], \"r*\", alpha=alpha)\n",
        "    plt.plot(X[:, 0][y==1], X[:, 1][y==1], \"^\", c=\"#0795ff\", alpha=alpha)\n",
        "    plt.axis(axes)\n",
        "    plt.xlabel(r\"$x_1$\", fontsize=18)\n",
        "    plt.ylabel(r\"$x_2$\", fontsize=18, rotation=0)"
      ],
      "execution_count": null,
      "outputs": []
    },
    {
      "cell_type": "code",
      "metadata": {
        "colab": {
          "base_uri": "https://localhost:8080/",
          "height": 485
        },
        "id": "b0lyVRMdrJaa",
        "outputId": "58bac489-94df-49dd-d10f-9e799a325b00"
      },
      "source": [
        "from sklearn.ensemble import GradientBoostingClassifier\n",
        "\n",
        "X, y = sklearn.datasets.make_moons(n_samples=500, noise=0.30, random_state=42)\n",
        "X_train, X_test, y_train, y_test = train_test_split(X, y, random_state=42)\n",
        "\n",
        "\n",
        "plt.figure(figsize=(18,8))\n",
        "plt.subplot(341)\n",
        "dt1 = DecisionTreeClassifier(max_depth=1) \n",
        "dt1.fit(X_train, y_train)\n",
        "plot_decision_boundary(dt1, X, y)\n",
        "plt.xticks([], [])\n",
        "plt.yticks([], [])\n",
        "\n",
        "plt.title(\"Decision tree, max_depth=1\", fontsize=14)\n",
        "plt.xlabel(\"\")\n",
        "plt.ylabel(\"\")\n",
        "plt.xticks([], [])\n",
        "plt.yticks([], [])\n",
        "\n",
        "plt.subplot(342)\n",
        "dt3 = DecisionTreeClassifier(max_depth=3) \n",
        "dt3.fit(X_train, y_train)\n",
        "plot_decision_boundary(dt3, X, y)\n",
        "plt.title(\"Decision tree, max_depth=3\", fontsize=14)\n",
        "plt.xlabel(\"\")\n",
        "plt.ylabel(\"\")\n",
        "plt.xticks([], [])\n",
        "plt.yticks([], [])\n",
        "\n",
        "\n",
        "\n",
        "plt.subplot(343)\n",
        "dt5 = DecisionTreeClassifier(max_depth=5) \n",
        "dt5.fit(X_train, y_train)\n",
        "plot_decision_boundary(dt5, X, y)\n",
        "plt.title(\"Decision tree, max_depth=5\", fontsize=14)\n",
        "plt.xlabel(\"\")\n",
        "plt.ylabel(\"\")\n",
        "plt.xticks([], [])\n",
        "plt.yticks([], [])\n",
        "\n",
        "plt.subplot(344)\n",
        "dt12 = DecisionTreeClassifier(max_depth=12) \n",
        "dt12.fit(X_train, y_train)\n",
        "plot_decision_boundary(dt12, X, y)\n",
        "plt.title(\"Decision tree, max_depth=12\", fontsize=14)\n",
        "plt.xlabel(\"\")\n",
        "plt.ylabel(\"\")\n",
        "plt.xticks([], [])\n",
        "plt.yticks([], [])\n",
        "\n",
        "plt.subplot(345)\n",
        "rf1 = RandomForestClassifier(max_depth=1, n_estimators=500, n_jobs=-1) \n",
        "rf1.fit(X_train, y_train)\n",
        "plot_decision_boundary(rf1, X, y)\n",
        "plt.title(\"Random forest, max_depth=1\", fontsize=14)\n",
        "plt.xlabel(\"\")\n",
        "plt.ylabel(\"\")\n",
        "plt.xticks([], [])\n",
        "plt.yticks([], [])\n",
        "\n",
        "plt.subplot(346)\n",
        "rf3 = RandomForestClassifier(max_depth=3, n_estimators=500, n_jobs=-1) \n",
        "rf3.fit(X_train, y_train)\n",
        "plot_decision_boundary(rf3, X, y)\n",
        "plt.title(\"Random forest, max_depth=3\", fontsize=14)\n",
        "plt.xlabel(\"\")\n",
        "plt.ylabel(\"\")\n",
        "plt.xticks([], [])\n",
        "plt.yticks([], [])\n",
        "\n",
        "plt.subplot(347)\n",
        "rf5 = RandomForestClassifier(max_depth=5, n_estimators=500, n_jobs=-1) \n",
        "rf5.fit(X_train, y_train)\n",
        "plot_decision_boundary(rf5, X, y)\n",
        "plt.title(\"Random forest, max_depth=5\", fontsize=14)\n",
        "plt.xlabel(\"\")\n",
        "plt.ylabel(\"\")\n",
        "plt.xticks([], [])\n",
        "plt.yticks([], [])\n",
        "\n",
        "plt.subplot(348)\n",
        "rf12 = RandomForestClassifier(max_depth=5, n_estimators=500, n_jobs=-1) \n",
        "rf12.fit(X_train, y_train)\n",
        "plot_decision_boundary(rf12, X, y)\n",
        "plt.title(\"Decision tree, max_depth=12\", fontsize=14)\n",
        "plt.subplots_adjust()\n",
        "plt.xlabel(\"\")\n",
        "plt.ylabel(\"\")\n",
        "plt.xticks([], [])\n",
        "plt.yticks([], [])\n",
        "\n",
        "plt.subplot(349)\n",
        "boost1 = GradientBoostingClassifier(max_depth=1, n_estimators=250)\n",
        "boost1.fit(X_train, y_train)\n",
        "plot_decision_boundary(boost1, X, y)\n",
        "plt.title(\"Gradient boosting, max_depth=1\", fontsize=14)\n",
        "plt.xlabel(\"\")\n",
        "plt.ylabel(\"\")\n",
        "plt.xticks([], [])\n",
        "plt.yticks([], [])\n",
        "\n",
        "plt.subplot(3, 4, 10)\n",
        "boost3 =  GradientBoostingClassifier(max_depth=3, n_estimators=250) \n",
        "boost3.fit(X_train, y_train)\n",
        "plot_decision_boundary(rf3, X, y)\n",
        "plt.title(\"Gradient boosting, max_depth=3\", fontsize=14)\n",
        "plt.xlabel(\"\")\n",
        "plt.ylabel(\"\")\n",
        "plt.xticks([], [])\n",
        "plt.yticks([], [])\n",
        "\n",
        "plt.subplot(3, 4, 11)\n",
        "boost5 =  GradientBoostingClassifier(max_depth=5, n_estimators=250) \n",
        "boost5.fit(X_train, y_train)\n",
        "plot_decision_boundary(rf5, X, y)\n",
        "plt.title(\"Gradient boosting, max_depth=5\", fontsize=14)\n",
        "plt.xlabel(\"\")\n",
        "plt.ylabel(\"\")\n",
        "plt.xticks([], [])\n",
        "plt.yticks([], [])\n",
        "\n",
        "plt.subplot(3, 4, 12)\n",
        "boost12 =  GradientBoostingClassifier(max_depth=5, n_estimators=250) \n",
        "boost12.fit(X_train, y_train)\n",
        "plot_decision_boundary(boost12, X, y)\n",
        "plt.title(\"Gradient boosting, max_depth=12\", fontsize=14)\n",
        "plt.subplots_adjust()\n",
        "plt.xlabel(\"\")\n",
        "plt.ylabel(\"\")\n",
        "plt.xticks([], [])\n",
        "plt.yticks([], [])\n",
        "plt.show()"
      ],
      "execution_count": null,
      "outputs": [
        {
          "output_type": "display_data",
          "data": {
            "image/png": "[encoded data removed]",
            "text/plain": [
              "<Figure size 1296x576 with 12 Axes>"
            ]
          },
          "metadata": {}
        }
      ]
    },
    {
      "cell_type": "markdown",
      "metadata": {
        "id": "6x8hgkpjvIQl"
      },
      "source": [
        "У градиентного бустинга имеется много примечательных модификаций срдеи которых - xgboost, lightgbm, catboost."
      ]
    },
    {
      "cell_type": "markdown",
      "metadata": {
        "id": "ATsFwKiCFgSC"
      },
      "source": [
        "#Xgboost"
      ]
    },
    {
      "cell_type": "markdown",
      "metadata": {
        "id": "ZyK4J4JGt7U-"
      },
      "source": [
        "**Xgboost** является модификацией градинтного бустинга. Работает быстрее, дополнительно штрафует деревья за большую глубину. \n",
        "\n",
        "Чтобы градиентный спуск происходил медленно, мы используем деревья глубины 2-3"
      ]
    },
    {
      "cell_type": "code",
      "metadata": {
        "id": "dY6l1mfYFlfJ"
      },
      "source": [
        "import xgboost\n",
        "\n",
        "X_train, X_test, y_train, y_test = train_test_split(X, y, random_state=0)"
      ],
      "execution_count": null,
      "outputs": []
    },
    {
      "cell_type": "code",
      "metadata": {
        "colab": {
          "base_uri": "https://localhost:8080/"
        },
        "id": "cEdrG5AkPRiB",
        "outputId": "25882a39-fdc7-41cd-f0ce-94c2e17ca0d1"
      },
      "source": [
        "xg_reg = xgboost.XGBRegressor(learning_rate = 0.1, max_depth = 5, alpha = 10, min_child_weight=9, n_estimators = 10)\n",
        "\n",
        "xg_reg.fit(X_train,y_train)\n",
        "\n",
        "preds = xg_reg.predict(X_test)\n",
        "rmse = np.sqrt(mean_squared_error(y_test, preds))\n",
        "print(\"RMSE: %f\" % (rmse))"
      ],
      "execution_count": null,
      "outputs": [
        {
          "output_type": "stream",
          "name": "stdout",
          "text": [
            "[12:11:57] WARNING: /workspace/src/objective/regression_obj.cu:152: reg:linear is now deprecated in favor of reg:squarederror.\n",
            "RMSE: 0.338297\n"
          ]
        }
      ]
    },
    {
      "cell_type": "markdown",
      "metadata": {
        "id": "e9DoRJ0yFl9r"
      },
      "source": [
        "#Lightgbm"
      ]
    },
    {
      "cell_type": "markdown",
      "metadata": {
        "id": "3SY9tJAwvD7Z"
      },
      "source": [
        "**Lightgbm** - оптимизированная и более быстрая модификация градиентного бустинга. В отличие от xgboost не штрафует за глубину дерева, но ограничивает число листей в каждом дереве.\n",
        "\n",
        "Так же, отличие Lightgbm что он бьет деревья по узлам, а не по уровням. Каждое разбиение должно понижать функцию ошибки."
      ]
    },
    {
      "cell_type": "code",
      "metadata": {
        "id": "cnP6xi_AFosb"
      },
      "source": [
        "import lightgbm"
      ],
      "execution_count": null,
      "outputs": []
    },
    {
      "cell_type": "code",
      "metadata": {
        "id": "kIWYc0SIVCzk"
      },
      "source": [
        "lgg_reg = lightgbm.LGBMRegressor(n_estimators=2000, learning_rate=0.1, max_depth=-1, num_leaves=100,                       \n",
        "                     random_state=0, min_child_weight=7, n_jobs=-1) "
      ],
      "execution_count": null,
      "outputs": []
    },
    {
      "cell_type": "code",
      "metadata": {
        "colab": {
          "base_uri": "https://localhost:8080/"
        },
        "id": "ajilywWZVC1r",
        "outputId": "ca00c050-c358-4bd1-f5c7-909c7467b593"
      },
      "source": [
        "lgg_reg.fit(X_train,y_train)\n",
        "\n",
        "preds = lgg_reg.predict(X_test)\n",
        "rmse = np.sqrt(mean_squared_error(y_test, preds))\n",
        "print(\"RMSE: %f\" % (rmse))"
      ],
      "execution_count": null,
      "outputs": [
        {
          "output_type": "stream",
          "name": "stdout",
          "text": [
            "RMSE: 0.367369\n"
          ]
        }
      ]
    },
    {
      "cell_type": "markdown",
      "metadata": {
        "id": "sOmu3OF4FpD4"
      },
      "source": [
        "#Catboost"
      ]
    },
    {
      "cell_type": "code",
      "metadata": {
        "colab": {
          "base_uri": "https://localhost:8080/"
        },
        "id": "Dm5EtkHqFq1w",
        "outputId": "274e8876-9c80-4766-8938-cc2f76d61f81"
      },
      "source": [
        "!pip install catboost"
      ],
      "execution_count": null,
      "outputs": [
        {
          "output_type": "stream",
          "name": "stdout",
          "text": [
            "Requirement already satisfied: catboost in /usr/local/lib/python3.7/dist-packages (1.0.0)\n",
            "Requirement already satisfied: six in /usr/local/lib/python3.7/dist-packages (from catboost) (1.15.0)\n",
            "Requirement already satisfied: pandas>=0.24.0 in /usr/local/lib/python3.7/dist-packages (from catboost) (1.1.5)\n",
            "Requirement already satisfied: graphviz in /usr/local/lib/python3.7/dist-packages (from catboost) (0.10.1)\n",
            "Requirement already satisfied: scipy in /usr/local/lib/python3.7/dist-packages (from catboost) (1.4.1)\n",
            "Requirement already satisfied: numpy>=1.16.0 in /usr/local/lib/python3.7/dist-packages (from catboost) (1.19.5)\n",
            "Requirement already satisfied: matplotlib in /usr/local/lib/python3.7/dist-packages (from catboost) (3.2.2)\n",
            "Requirement already satisfied: plotly in /usr/local/lib/python3.7/dist-packages (from catboost) (4.4.1)\n",
            "Requirement already satisfied: python-dateutil>=2.7.3 in /usr/local/lib/python3.7/dist-packages (from pandas>=0.24.0->catboost) (2.8.2)\n",
            "Requirement already satisfied: pytz>=2017.2 in /usr/local/lib/python3.7/dist-packages (from pandas>=0.24.0->catboost) (2018.9)\n",
            "Requirement already satisfied: cycler>=0.10 in /usr/local/lib/python3.7/dist-packages (from matplotlib->catboost) (0.10.0)\n",
            "Requirement already satisfied: pyparsing!=2.0.4,!=2.1.2,!=2.1.6,>=2.0.1 in /usr/local/lib/python3.7/dist-packages (from matplotlib->catboost) (2.4.7)\n",
            "Requirement already satisfied: kiwisolver>=1.0.1 in /usr/local/lib/python3.7/dist-packages (from matplotlib->catboost) (1.3.2)\n",
            "Requirement already satisfied: retrying>=1.3.3 in /usr/local/lib/python3.7/dist-packages (from plotly->catboost) (1.3.3)\n"
          ]
        }
      ]
    },
    {
      "cell_type": "markdown",
      "metadata": {
        "id": "epbZ386Hw16X"
      },
      "source": [
        "**Catboost** -  разрабатывался для улучшения точности в предсказании категориальных признаков. \n",
        "\n",
        "Имеет большое колличество эвристик для категориальных признаков разного вида и тд. Если у вас много категориальных признаков - catboost может очеень неплохо обогнать другие методы."
      ]
    },
    {
      "cell_type": "markdown",
      "metadata": {
        "id": "rf1djPGswsKg"
      },
      "source": [
        "****"
      ]
    },
    {
      "cell_type": "code",
      "metadata": {
        "id": "QqmOrzPHWJue"
      },
      "source": [
        "import catboost\n",
        "\n",
        "cat_reg = catboost.CatBoostRegressor(iterations=2000,  \n",
        "                     learning_rate=0.1, \n",
        "                     depth=6,                       \n",
        "                     random_state=777,\n",
        "                     min_data_in_leaf=7,\n",
        "                     verbose=0)"
      ],
      "execution_count": null,
      "outputs": []
    },
    {
      "cell_type": "code",
      "metadata": {
        "colab": {
          "base_uri": "https://localhost:8080/"
        },
        "id": "ntPkAS2PWJ3v",
        "outputId": "52272039-67bb-4301-c36b-9190297ec639"
      },
      "source": [
        "cat_reg.fit(X_train,y_train)\n",
        "\n",
        "preds = cat_reg.predict(X_test)\n",
        "rmse = np.sqrt(mean_squared_error(y_test, preds))\n",
        "print(\"RMSE: %f\" % (rmse))"
      ],
      "execution_count": null,
      "outputs": [
        {
          "output_type": "stream",
          "name": "stdout",
          "text": [
            "RMSE: 0.327159\n"
          ]
        }
      ]
    },
    {
      "cell_type": "markdown",
      "metadata": {
        "id": "sqmtrTKsFsta"
      },
      "source": [
        "#Предсказание свойств лекарств при помощи градиентного бустинга"
      ]
    },
    {
      "cell_type": "markdown",
      "metadata": {
        "id": "Bft_PCFpyNsg"
      },
      "source": [
        "Задача предсказания свойств вещества и его потенциальной возможности иметь лекарственные свойства является важной задачей для современной области вычислительной химии и биологии. Нахождение дешевых и быстрых способов находить и проверять теоритически записи о конкртеных веществах - путь к серьзному ускорению и удешевлению процесса разработки лекарственных препаратов. Неудивительно, что работы в этом напрвалении идет сразу во многих подобластех, от квантовой химии до машинного обучения. \n",
        " "
      ]
    },
    {
      "cell_type": "markdown",
      "metadata": {
        "id": "Vzhe3XU0zt4J"
      },
      "source": [
        "Один из подходов к таким предсказаниям - это оценивать аффиность конкретного соединения к возможной мишени. С помощью модификаций градиентного бустинга это тоже можно проворачивать.\n",
        "\n",
        "Simboost и SimboostQuant, которые работают в паре. Simboost  предсказывает аффинность между предполагаемой мешению и соединением, а SimboostQuant пытается предсказать точность полученной оценки. "
      ]
    },
    {
      "cell_type": "markdown",
      "metadata": {
        "id": "H60n3_gkCvo9"
      },
      "source": [
        "<img src=\"https://kodomo.fbb.msu.ru/FBB/year_20/ml/id_l/L7_01.png\" alt=\"alttext\" width=600/>"
      ]
    },
    {
      "cell_type": "markdown",
      "metadata": {
        "id": "fmF8c3Hs6q5G"
      },
      "source": [
        "doi.org/10.1186/s13321-017-0209-z\n"
      ]
    },
    {
      "cell_type": "markdown",
      "metadata": {
        "id": "MG-XY32V-yAK"
      },
      "source": [
        "Кроме этого, xgboost часто используется в качестве \"надстройки\", над признаками, полученными от нейросети. Так делают, в частности, в статье [DeepSEA](https://www.ncbi.nlm.nih.gov/pmc/articles/PMC4768299/). \n",
        "\n"
      ]
    },
    {
      "cell_type": "markdown",
      "metadata": {
        "id": "a-amXOVsvYSg"
      },
      "source": [
        "<img src=\"https://kodomo.fbb.msu.ru/FBB/year_20/ml/paper0.png\" alt=\"Drawing\" width= \"800px;\"/>"
      ]
    },
    {
      "cell_type": "markdown",
      "metadata": {
        "id": "nTg-aof-vo2q"
      },
      "source": [
        "Еще пара примеров."
      ]
    },
    {
      "cell_type": "markdown",
      "metadata": {
        "id": "Xp1EComdu6tR"
      },
      "source": [
        "<img src=\"https://kodomo.fbb.msu.ru/FBB/year_20/ml/paper1.png\" alt=\"Drawing\" width= \"800px;\"/>\n",
        "\n",
        "https://pubmed.ncbi.nlm.nih.gov/30873528/"
      ]
    },
    {
      "cell_type": "markdown",
      "metadata": {
        "id": "fyFDjPz3vItJ"
      },
      "source": [
        "<img src=\"https://kodomo.fbb.msu.ru/FBB/year_20/ml/paper2.png\" alt=\"Drawing\" width= \"800px;\"/>\n",
        "\n",
        "https://bmcbioinformatics.biomedcentral.com/articles/10.1186/s12859-018-2527-1\n"
      ]
    },
    {
      "cell_type": "markdown",
      "metadata": {
        "id": "jYNrRUkBFw3D"
      },
      "source": [
        "# Оценка важности признаков в дереве решений "
      ]
    },
    {
      "cell_type": "markdown",
      "metadata": {
        "id": "y6Ql0BCl2xDo"
      },
      "source": [
        "В биологии как правило нам важно не только качество предсказания, но и то, какие именно признаки использует модель. Это позволяет находить новые биологические закономерности и оценивать биологическую релевантность модели\n",
        "\n",
        "Существует множество методов, позволяющих оценить важность признаков для модели. У каждого из этих методов есть свои минусы и плюсы, часть применимы только к деревьям, часть подходят для разных моделей\n"
      ]
    },
    {
      "cell_type": "markdown",
      "metadata": {
        "id": "QOMJCyIy1DC-"
      },
      "source": [
        "## Gini impurity"
      ]
    },
    {
      "cell_type": "markdown",
      "metadata": {
        "id": "P_qwLxgH1DDR"
      },
      "source": [
        "\n",
        "Эта мера считает, что важность признака для дерева определяется тем, насколько часто данный признак участвует в разбиениях и насколько хорошие разбиения позволяет производить. \n",
        "\n",
        "Также этот критерий учитывает то, что разбиения в начале дерева более важны, чем последующие.\n",
        "\n",
        "Критерий может быть немного по-разному реализован, из-за этого разные библиотеки выдают разные значения Gini impurity важности для признаков. Обычно эти отличия не влияют на ранжирование признаков по важности. "
      ]
    },
    {
      "cell_type": "code",
      "metadata": {
        "id": "tEOS_i9H1DDT"
      },
      "source": [
        "import pandas as pd\n",
        "import seaborn as sns\n",
        "import matplotlib.pyplot as plt\n",
        "\n",
        "\n",
        "cat_reg.feature_importances_\n",
        "\n",
        "columns_dia = [\"age\", \"sex\", \"bmi\", \"bp\", \"s1 tc\", \"s2 ldl\", \"s3 hdl\", \"s4 tch\", \"s5 ltg\", \"s6 glu\"]"
      ],
      "execution_count": null,
      "outputs": []
    },
    {
      "cell_type": "code",
      "metadata": {
        "colab": {
          "base_uri": "https://localhost:8080/"
        },
        "id": "9Btor8Dm1DDV",
        "outputId": "de733f14-bb95-4b31-8a47-9bfded370ffd"
      },
      "source": [
        "X"
      ],
      "execution_count": null,
      "outputs": [
        {
          "output_type": "execute_result",
          "data": {
            "text/plain": [
              "array([[ 0.03807591,  0.05068012,  0.06169621, ..., -0.00259226,\n",
              "         0.01990842, -0.01764613],\n",
              "       [-0.00188202, -0.04464164, -0.05147406, ..., -0.03949338,\n",
              "        -0.06832974, -0.09220405],\n",
              "       [ 0.08529891,  0.05068012,  0.04445121, ..., -0.00259226,\n",
              "         0.00286377, -0.02593034],\n",
              "       ...,\n",
              "       [ 0.04170844,  0.05068012, -0.01590626, ..., -0.01107952,\n",
              "        -0.04687948,  0.01549073],\n",
              "       [-0.04547248, -0.04464164,  0.03906215, ...,  0.02655962,\n",
              "         0.04452837, -0.02593034],\n",
              "       [-0.04547248, -0.04464164, -0.0730303 , ..., -0.03949338,\n",
              "        -0.00421986,  0.00306441]])"
            ]
          },
          "metadata": {},
          "execution_count": 15
        }
      ]
    },
    {
      "cell_type": "code",
      "metadata": {
        "colab": {
          "base_uri": "https://localhost:8080/",
          "height": 514
        },
        "id": "sH5K4RGz1DDW",
        "outputId": "cd4c2d50-aacb-49ac-f7d9-47272192502d"
      },
      "source": [
        "df = pd.DataFrame({\"Compound\": columns_dia, \"amount\": cat_reg.feature_importances_})\n",
        "\n",
        "plt.figure(figsize=(8,8))\n",
        "sns.barplot(data=df, y=\"Compound\", x=\"amount\", orient = 'h')\n"
      ],
      "execution_count": null,
      "outputs": [
        {
          "output_type": "execute_result",
          "data": {
            "text/plain": [
              "<matplotlib.axes._subplots.AxesSubplot at 0x7f54024abb90>"
            ]
          },
          "metadata": {},
          "execution_count": 16
        },
        {
          "output_type": "display_data",
          "data": {
            "image/png": "[encoded data removed]",
            "text/plain": [
              "<Figure size 576x576 with 1 Axes>"
            ]
          },
          "metadata": {
            "needs_background": "light"
          }
        }
      ]
    },
    {
      "cell_type": "markdown",
      "metadata": {
        "id": "fyFynMjr1DDX"
      },
      "source": [
        "## Перестановочный метод."
      ]
    },
    {
      "cell_type": "markdown",
      "metadata": {
        "id": "mPEKPctu1DDY"
      },
      "source": [
        "Можно оценить знначимость признака перемешав его значения. Если признак важный, то точность предсказания при таком перемешивании начинает падать. В зависимости от того на сколько точность падает в сравнении с исходным качеством, становится ясна важность признака.\n",
        "\n",
        "\n",
        "Минусом такого подхода является ошибка при работе с кореллированными признаками - их значимость будет завышена."
      ]
    },
    {
      "cell_type": "code",
      "metadata": {
        "id": "xOl7cYG8GDKp"
      },
      "source": [
        "from sklearn.inspection import permutation_importance"
      ],
      "execution_count": null,
      "outputs": []
    },
    {
      "cell_type": "code",
      "metadata": {
        "id": "MB7_NmOVaiFr"
      },
      "source": [
        "r = permutation_importance(cat_reg, X_test, y_test,\n",
        "                            n_repeats=100,\n",
        "                            random_state=0)"
      ],
      "execution_count": null,
      "outputs": []
    },
    {
      "cell_type": "code",
      "metadata": {
        "colab": {
          "base_uri": "https://localhost:8080/",
          "height": 514
        },
        "id": "JY8rBi45aiIP",
        "outputId": "841281aa-c3f2-4441-9841-c72c25748ab2"
      },
      "source": [
        "df = pd.DataFrame({\"Compound\": columns_dia, \"amount\": r.importances_mean})\n",
        "\n",
        "plt.figure(figsize=(8,8))\n",
        "sns.barplot(data=df, y=\"Compound\", x=\"amount\",orient = 'h')"
      ],
      "execution_count": null,
      "outputs": [
        {
          "output_type": "execute_result",
          "data": {
            "text/plain": [
              "<matplotlib.axes._subplots.AxesSubplot at 0x7f5401bedb50>"
            ]
          },
          "metadata": {},
          "execution_count": 19
        },
        {
          "output_type": "display_data",
          "data": {
            "image/png": "[encoded data removed]",
            "text/plain": [
              "<Figure size 576x576 with 1 Axes>"
            ]
          },
          "metadata": {
            "needs_background": "light"
          }
        }
      ]
    },
    {
      "cell_type": "code",
      "metadata": {
        "id": "W8GxjoyA1DDY"
      },
      "source": [
        "from sklearn.inspection import permutation_importance"
      ],
      "execution_count": null,
      "outputs": []
    },
    {
      "cell_type": "code",
      "metadata": {
        "id": "k0xl3brR1DDZ"
      },
      "source": [
        "r = permutation_importance(cat_reg, X_test, y_test,\n",
        "                            n_repeats=100,\n",
        "                            random_state=0)"
      ],
      "execution_count": null,
      "outputs": []
    },
    {
      "cell_type": "code",
      "metadata": {
        "colab": {
          "base_uri": "https://localhost:8080/",
          "height": 514
        },
        "id": "FSEQkN0m1DDZ",
        "outputId": "841281aa-c3f2-4441-9841-c72c25748ab2"
      },
      "source": [
        "df = pd.DataFrame({\"Compound\": columns_dia, \"amount\": r.importances_mean})\n",
        "\n",
        "plt.figure(figsize=(8,8))\n",
        "sns.barplot(data=df, y=\"Compound\", x=\"amount\",orient = 'h')"
      ],
      "execution_count": null,
      "outputs": [
        {
          "output_type": "execute_result",
          "data": {
            "text/plain": [
              "<matplotlib.axes._subplots.AxesSubplot at 0x7f5401bedb50>"
            ]
          },
          "metadata": {},
          "execution_count": 19
        },
        {
          "output_type": "display_data",
          "data": {
            "image/png": "[encoded data removed]",
            "text/plain": [
              "<Figure size 576x576 with 1 Axes>"
            ]
          },
          "metadata": {
            "needs_background": "light"
          }
        }
      ]
    },
    {
      "cell_type": "markdown",
      "metadata": {
        "id": "2RbyeqAi1Ts2"
      },
      "source": [
        "#Boruta"
      ]
    },
    {
      "cell_type": "markdown",
      "metadata": {
        "id": "lTPiMu6k5nGe"
      },
      "source": [
        "Boruta - метод, который позволяет выбрать признаки, которые модель **значимо** считает важными. Они не возвращает важностей признаков напрямую (только нестрого ранжирует отобранные), но зато избавляет нас от необходимости выбирать порог, на котором мы считаем признаки значимыми. \n"
      ]
    },
    {
      "cell_type": "markdown",
      "metadata": {
        "id": "mRmEGP1Mkx4n"
      },
      "source": [
        "Создадим на основе нашего датасета датасет с теневыми признаками. \n",
        "Теневой признак - это исходный признак, который перемешан вдоль строк.  За счет этого его распределение сохраняется, а вот связь с предсказываемой переменной теряется. \n",
        "\n",
        "\n",
        "<img src=\"https://kodomo.fbb.msu.ru/FBB/year_20/boruta1.png\" alt=\"alttext\" width=600/>\n",
        "\n",
        "Далее добавим колонки из теневого датасета в датасет с исходными признакми.\n",
        "\n"
      ]
    },
    {
      "cell_type": "markdown",
      "metadata": {
        "id": "KG6Ik2vFl8WF"
      },
      "source": [
        "После этого обучимся на таком датасете предсказывать целевую переменную и возьмем полученные каким-то способом важности признаков. \n",
        "\n",
        "Считаем хорошими только те признаки, которые по важности лучше теневых. \n",
        "\n",
        "Однако на этом нельзя остановиться: перемешивание - случайный процесс, и потому некоторые признаки могут проиграть теневым по случайным причинам. \n",
        "\n",
        "Потому повторяем процедуру много раз. Для каждого признака мы будем знать сколько раз мы посчитали его хорошим. \n",
        "\n",
        "<img src=\"https://kodomo.fbb.msu.ru/FBB/year_20/boruta_bell.png\" alt=\"alttext\" width=600/>"
      ]
    },
    {
      "cell_type": "markdown",
      "metadata": {
        "id": "AMDISbawmyf-"
      },
      "source": [
        "Те признаки, которые считались хорошими очень часто - можно взять. Те признаки, которые проигрывали теневым очень часто - можно выкинуть. \n",
        "Останутся пограничные признаки, которые незначимо отличаются от теневых, и непонятно, в какую сторону. Обычно их тоже выкидывают"
      ]
    },
    {
      "cell_type": "code",
      "metadata": {
        "colab": {
          "base_uri": "https://localhost:8080/"
        },
        "id": "U4IUzwmaGAG5",
        "outputId": "060dfd68-dc69-4d7f-f4ef-d6b98edadbe4"
      },
      "source": [
        "!pip install boruta"
      ],
      "execution_count": null,
      "outputs": [
        {
          "output_type": "stream",
          "name": "stdout",
          "text": [
            "Collecting boruta\n",
            "  Downloading Boruta-0.3-py3-none-any.whl (56 kB)\n",
            "\u001b[?25l\r\u001b[K     |█████▉                          | 10 kB 29.5 MB/s eta 0:00:01\r\u001b[K     |███████████▋                    | 20 kB 20.4 MB/s eta 0:00:01\r\u001b[K     |█████████████████▍              | 30 kB 11.3 MB/s eta 0:00:01\r\u001b[K     |███████████████████████▏        | 40 kB 8.9 MB/s eta 0:00:01\r\u001b[K     |█████████████████████████████   | 51 kB 5.1 MB/s eta 0:00:01\r\u001b[K     |████████████████████████████████| 56 kB 2.5 MB/s \n",
            "\u001b[?25hRequirement already satisfied: scipy>=0.17.0 in /usr/local/lib/python3.7/dist-packages (from boruta) (1.4.1)\n",
            "Requirement already satisfied: numpy>=1.10.4 in /usr/local/lib/python3.7/dist-packages (from boruta) (1.19.5)\n",
            "Requirement already satisfied: scikit-learn>=0.17.1 in /usr/local/lib/python3.7/dist-packages (from boruta) (0.22.2.post1)\n",
            "Requirement already satisfied: joblib>=0.11 in /usr/local/lib/python3.7/dist-packages (from scikit-learn>=0.17.1->boruta) (1.0.1)\n",
            "Installing collected packages: boruta\n",
            "Successfully installed boruta-0.3\n"
          ]
        }
      ]
    },
    {
      "cell_type": "code",
      "metadata": {
        "id": "E15QW7L7a2gn"
      },
      "source": [
        "from sklearn import preprocessing\n",
        "from boruta import BorutaPy"
      ],
      "execution_count": null,
      "outputs": []
    },
    {
      "cell_type": "code",
      "metadata": {
        "colab": {
          "base_uri": "https://localhost:8080/"
        },
        "id": "VHRj8HFQa2nD",
        "outputId": "a8c865dc-47c6-425c-fef6-a09df21ddad0"
      },
      "source": [
        "fetch = BorutaPy(reg, n_estimators='auto', verbose=2, random_state=1)\n",
        "fetch.fit(X_train, y_train)\n",
        "fetch.support_\n",
        "fetch.ranking_\n",
        "X_filtered = fetch.transform(X_train)"
      ],
      "execution_count": null,
      "outputs": [
        {
          "output_type": "stream",
          "name": "stdout",
          "text": [
            "Iteration: \t1 / 100\n",
            "Confirmed: \t0\n",
            "Tentative: \t2\n",
            "Rejected: \t0\n",
            "Iteration: \t2 / 100\n",
            "Confirmed: \t0\n",
            "Tentative: \t2\n",
            "Rejected: \t0\n",
            "Iteration: \t3 / 100\n",
            "Confirmed: \t0\n",
            "Tentative: \t2\n",
            "Rejected: \t0\n",
            "Iteration: \t4 / 100\n",
            "Confirmed: \t0\n",
            "Tentative: \t2\n",
            "Rejected: \t0\n",
            "Iteration: \t5 / 100\n",
            "Confirmed: \t0\n",
            "Tentative: \t2\n",
            "Rejected: \t0\n",
            "Iteration: \t6 / 100\n",
            "Confirmed: \t0\n",
            "Tentative: \t2\n",
            "Rejected: \t0\n",
            "Iteration: \t7 / 100\n",
            "Confirmed: \t0\n",
            "Tentative: \t2\n",
            "Rejected: \t0\n",
            "Iteration: \t8 / 100\n",
            "Confirmed: \t2\n",
            "Tentative: \t0\n",
            "Rejected: \t0\n",
            "\n",
            "\n",
            "BorutaPy finished running.\n",
            "\n",
            "Iteration: \t9 / 100\n",
            "Confirmed: \t2\n",
            "Tentative: \t0\n",
            "Rejected: \t0\n"
          ]
        }
      ]
    },
    {
      "cell_type": "code",
      "metadata": {
        "colab": {
          "base_uri": "https://localhost:8080/"
        },
        "id": "MvLs7HsjbWFs",
        "outputId": "c39db6bf-9aec-4301-c0bc-32409c80e219"
      },
      "source": [
        "ranks = list(zip(diabetes.feature_names, fetch.ranking_, fetch.support_))\n",
        "#X_check, y_check = diabetes.data, diabetes.target\n",
        "\n",
        "X_check = []\n",
        "8_05\n",
        "for n, feat in enumerate(ranks):\n",
        "    print('Feature: {:<25} Rank: {},  Keep: {}'.format(feat[0], feat[1], feat[2]))"
      ],
      "execution_count": null,
      "outputs": [
        {
          "output_type": "stream",
          "name": "stdout",
          "text": [
            "Feature: age                       Rank: 1,  Keep: True\n",
            "Feature: sex                       Rank: 1,  Keep: True\n"
          ]
        }
      ]
    },
    {
      "cell_type": "markdown",
      "metadata": {
        "id": "9WGGQp_s0F1d"
      },
      "source": [
        "# Explainability \n",
        "\n",
        "Часто нам нужно не просто отобрать значимые признаки, но мы еще хотим понять, почему модель приняла то или иное решение по поводу данного объекта. \n",
        "\n"
      ]
    },
    {
      "cell_type": "markdown",
      "metadata": {
        "id": "MfRpBdtuuOL0"
      },
      "source": [
        "## Детекция неправильного построения датасета\n",
        "\n",
        "### Хаски\n",
        "Один из известных примеров - нейросеть, обученная отличать волков от собак породы хаски, научилась отличать их на основе снега на заднем фоне.\n",
        "\n",
        "Просто волки встречаются на снегу очень часто, а хаски - редко. \n",
        "\n",
        "\n",
        "\n"
      ]
    },
    {
      "cell_type": "markdown",
      "metadata": {
        "id": "FYp0__HJwjAL"
      },
      "source": [
        "<img src=\"https://kodomo.fbb.msu.ru/FBB/year_20/husky_wolf.png\" alt=\"alttext\" width=600/>\n",
        "\n"
      ]
    },
    {
      "cell_type": "markdown",
      "metadata": {
        "id": "m93tj1fNxDRh"
      },
      "source": [
        "### Лошади\n",
        "\n",
        "Другим известным [примером](https://www.nature.com/articles/s41467-019-08987-4) является история про то, как модели определяли фотографии лошадей на основании подписей на картинках. \n",
        "\n",
        "Фотографии в датасете были собраны из интернета и с них не были удалены подписи заводчиков. \n",
        "\n"
      ]
    },
    {
      "cell_type": "markdown",
      "metadata": {
        "id": "7Nu-tj94yMMZ"
      },
      "source": [
        "В результе если подпись на картинке с лошадью есть, то модель распознает лошадь. Иначе - нет. \n",
        "<img src=\"https://kodomo.fbb.msu.ru/FBB/year_20/cleverhans_horse.png\" alt=\"alttext\" width=600/>\n",
        "\n"
      ]
    },
    {
      "cell_type": "markdown",
      "metadata": {
        "id": "PdwagjPgyNIP"
      },
      "source": [
        "Более того, если перенести подпись заводчика на картинку с машиной, то она будет классифицирована как картинка с лошадью\n",
        "\n",
        "<img src=\"https://kodomo.fbb.msu.ru/FBB/year_20/cleverhans_car.png\" alt=\"alttext\" width=600/>"
      ]
    },
    {
      "cell_type": "markdown",
      "metadata": {
        "id": "vqQ6WnE-0VrR"
      },
      "source": [
        "## Медицинские изображения \n",
        "\n",
        "\n"
      ]
    },
    {
      "cell_type": "markdown",
      "metadata": {
        "id": "w1IjcY_x1XIn"
      },
      "source": [
        "На медицинских изображениях [тоже](https://journals.plos.org/plosmedicine/article?id=10.1371/journal.pmed.1002683) могут быть специфические метки, например, от врачей или прибора. \n",
        "\n",
        "И нейросеть может научиться детектировать именно это. \n",
        "\n",
        "<img src=\"https://kodomo.fbb.msu.ru/FBB/year_20/chest_radiograph_explain.png\" alt=\"alttext\" width='300px'/>\n"
      ]
    },
    {
      "cell_type": "markdown",
      "metadata": {
        "id": "9McmRsANGDuy"
      },
      "source": [
        "#SHAP"
      ]
    },
    {
      "cell_type": "markdown",
      "metadata": {
        "id": "cUcUCR_F6t7a"
      },
      "source": [
        "Одним из методов, позволяющих объяснять предсказания модели является SHAP. \n",
        "\n",
        "\n",
        "<img src=\"https://miro.medium.com/max/1120/1*GOwxZ1ApAidTIDoa2l98ew.png\" alt=\"alttext\" width='300px'/>\n",
        "\n",
        "Пусть у нас есть некая модель, которая предсказывает з/п на основании пола, возраста и работы. \n",
        "\n",
        "\n",
        "\n"
      ]
    },
    {
      "cell_type": "markdown",
      "metadata": {
        "id": "gJ8NfW7a3J3H"
      },
      "source": [
        "Самое простое \"предсказание\", не учитывающее никакие другие признаки -  это средняя зарплата \n",
        "\n",
        "Далее мы можем сделать предсказание при помощи моделей, берущих в рассмотрение ровно один признак. \n",
        "Затем - два.\n",
        "И, наконец, модель, использующую все признаки. \n",
        "\n"
      ]
    },
    {
      "cell_type": "markdown",
      "metadata": {
        "id": "avSy4EAT3aCQ"
      },
      "source": [
        "Как оценить вклад признака Age? "
      ]
    },
    {
      "cell_type": "markdown",
      "metadata": {
        "id": "k5fd8xvE285C"
      },
      "source": [
        "\n",
        "\n",
        "<img src=\"https://miro.medium.com/max/1120/1*7keBLSQszepu5jITz8SKxA.png\" alt=\"alttext\" width='400px'/>"
      ]
    },
    {
      "cell_type": "markdown",
      "metadata": {
        "id": "sDHf_obe3dYP"
      },
      "source": [
        "Стрелки на картинке обозначают переходы от моделей без признака Age к моделям с этим признакам. Изменение предсказанного значения между моделью без Age и с ним, происходит именно за счет признака Age. \n",
        "\n",
        "Тогда мы можем считать, что \n",
        "\n",
        "\n",
        "<img src=\"https://miro.medium.com/max/1120/1*QpRB2gX5uJVU2cWRkrNvsA.png\" alt=\"alttext\" width='700px'/>\n"
      ]
    },
    {
      "cell_type": "markdown",
      "metadata": {
        "id": "V0qXzbJ84gqJ"
      },
      "source": [
        "Осталось только понять, как взвесить ребра. Сделаем так, чтобы на каждом \"уровне\" сумма ребер была равна 1. И поделим веса между ребрами поровну\n",
        "\n",
        "<img src=\"https://kodomo.fbb.msu.ru/FBB/year_20/marginal_weights_shap.png\" alt=\"alttext\" width='400px'/>"
      ]
    },
    {
      "cell_type": "code",
      "metadata": {
        "colab": {
          "base_uri": "https://localhost:8080/"
        },
        "id": "J-dQhT6eGG12",
        "outputId": "224bdf70-68e9-4220-f5be-4708fd36c8fa"
      },
      "source": [
        "!pip install shap\n",
        "\n",
        "import shap"
      ],
      "execution_count": null,
      "outputs": [
        {
          "output_type": "stream",
          "name": "stdout",
          "text": [
            "Collecting shap\n",
            "  Downloading shap-0.40.0.tar.gz (371 kB)\n",
            "\u001b[?25l\r\u001b[K     |▉                               | 10 kB 23.1 MB/s eta 0:00:01\r\u001b[K     |█▊                              | 20 kB 19.7 MB/s eta 0:00:01\r\u001b[K     |██▋                             | 30 kB 14.9 MB/s eta 0:00:01\r\u001b[K     |███▌                            | 40 kB 13.8 MB/s eta 0:00:01\r\u001b[K     |████▍                           | 51 kB 5.3 MB/s eta 0:00:01\r\u001b[K     |█████▎                          | 61 kB 5.7 MB/s eta 0:00:01\r\u001b[K     |██████▏                         | 71 kB 5.3 MB/s eta 0:00:01\r\u001b[K     |███████                         | 81 kB 5.9 MB/s eta 0:00:01\r\u001b[K     |████████                        | 92 kB 5.8 MB/s eta 0:00:01\r\u001b[K     |████████▉                       | 102 kB 5.1 MB/s eta 0:00:01\r\u001b[K     |█████████▊                      | 112 kB 5.1 MB/s eta 0:00:01\r\u001b[K     |██████████▋                     | 122 kB 5.1 MB/s eta 0:00:01\r\u001b[K     |███████████▌                    | 133 kB 5.1 MB/s eta 0:00:01\r\u001b[K     |████████████▍                   | 143 kB 5.1 MB/s eta 0:00:01\r\u001b[K     |█████████████▎                  | 153 kB 5.1 MB/s eta 0:00:01\r\u001b[K     |██████████████                  | 163 kB 5.1 MB/s eta 0:00:01\r\u001b[K     |███████████████                 | 174 kB 5.1 MB/s eta 0:00:01\r\u001b[K     |███████████████▉                | 184 kB 5.1 MB/s eta 0:00:01\r\u001b[K     |████████████████▊               | 194 kB 5.1 MB/s eta 0:00:01\r\u001b[K     |█████████████████▋              | 204 kB 5.1 MB/s eta 0:00:01\r\u001b[K     |██████████████████▌             | 215 kB 5.1 MB/s eta 0:00:01\r\u001b[K     |███████████████████▍            | 225 kB 5.1 MB/s eta 0:00:01\r\u001b[K     |████████████████████▎           | 235 kB 5.1 MB/s eta 0:00:01\r\u001b[K     |█████████████████████▏          | 245 kB 5.1 MB/s eta 0:00:01\r\u001b[K     |██████████████████████          | 256 kB 5.1 MB/s eta 0:00:01\r\u001b[K     |███████████████████████         | 266 kB 5.1 MB/s eta 0:00:01\r\u001b[K     |███████████████████████▉        | 276 kB 5.1 MB/s eta 0:00:01\r\u001b[K     |████████████████████████▊       | 286 kB 5.1 MB/s eta 0:00:01\r\u001b[K     |█████████████████████████▋      | 296 kB 5.1 MB/s eta 0:00:01\r\u001b[K     |██████████████████████████▌     | 307 kB 5.1 MB/s eta 0:00:01\r\u001b[K     |███████████████████████████▎    | 317 kB 5.1 MB/s eta 0:00:01\r\u001b[K     |████████████████████████████▏   | 327 kB 5.1 MB/s eta 0:00:01\r\u001b[K     |█████████████████████████████   | 337 kB 5.1 MB/s eta 0:00:01\r\u001b[K     |██████████████████████████████  | 348 kB 5.1 MB/s eta 0:00:01\r\u001b[K     |██████████████████████████████▉ | 358 kB 5.1 MB/s eta 0:00:01\r\u001b[K     |███████████████████████████████▊| 368 kB 5.1 MB/s eta 0:00:01\r\u001b[K     |████████████████████████████████| 371 kB 5.1 MB/s \n",
            "\u001b[?25h  Installing build dependencies ... \u001b[?25l\u001b[?25hdone\n",
            "  Getting requirements to build wheel ... \u001b[?25l\u001b[?25hdone\n",
            "    Preparing wheel metadata ... \u001b[?25l\u001b[?25hdone\n",
            "Requirement already satisfied: scikit-learn in /usr/local/lib/python3.7/dist-packages (from shap) (0.22.2.post1)\n",
            "Requirement already satisfied: tqdm>4.25.0 in /usr/local/lib/python3.7/dist-packages (from shap) (4.62.3)\n",
            "Requirement already satisfied: cloudpickle in /usr/local/lib/python3.7/dist-packages (from shap) (1.3.0)\n",
            "Requirement already satisfied: numpy in /usr/local/lib/python3.7/dist-packages (from shap) (1.19.5)\n",
            "Requirement already satisfied: pandas in /usr/local/lib/python3.7/dist-packages (from shap) (1.1.5)\n",
            "Requirement already satisfied: packaging>20.9 in /usr/local/lib/python3.7/dist-packages (from shap) (21.0)\n",
            "Requirement already satisfied: numba in /usr/local/lib/python3.7/dist-packages (from shap) (0.51.2)\n",
            "Collecting slicer==0.0.7\n",
            "  Downloading slicer-0.0.7-py3-none-any.whl (14 kB)\n",
            "Requirement already satisfied: scipy in /usr/local/lib/python3.7/dist-packages (from shap) (1.4.1)\n",
            "Requirement already satisfied: pyparsing>=2.0.2 in /usr/local/lib/python3.7/dist-packages (from packaging>20.9->shap) (2.4.7)\n",
            "Requirement already satisfied: setuptools in /usr/local/lib/python3.7/dist-packages (from numba->shap) (57.4.0)\n",
            "Requirement already satisfied: llvmlite<0.35,>=0.34.0.dev0 in /usr/local/lib/python3.7/dist-packages (from numba->shap) (0.34.0)\n",
            "Requirement already satisfied: python-dateutil>=2.7.3 in /usr/local/lib/python3.7/dist-packages (from pandas->shap) (2.8.2)\n",
            "Requirement already satisfied: pytz>=2017.2 in /usr/local/lib/python3.7/dist-packages (from pandas->shap) (2018.9)\n",
            "Requirement already satisfied: six>=1.5 in /usr/local/lib/python3.7/dist-packages (from python-dateutil>=2.7.3->pandas->shap) (1.15.0)\n",
            "Requirement already satisfied: joblib>=0.11 in /usr/local/lib/python3.7/dist-packages (from scikit-learn->shap) (1.0.1)\n",
            "Building wheels for collected packages: shap\n",
            "  Building wheel for shap (PEP 517) ... \u001b[?25l\u001b[?25hdone\n",
            "  Created wheel for shap: filename=shap-0.40.0-cp37-cp37m-linux_x86_64.whl size=509240 sha256=1433906be3d60ff5a083d083a8bdc2f3a98cd9f437a8f72ef926e29afed0147e\n",
            "  Stored in directory: /root/.cache/pip/wheels/ec/35/84/e304841ac4b910bc95fe9a6e5302eb2507b4333728851dcbfb\n",
            "Successfully built shap\n",
            "Installing collected packages: slicer, shap\n",
            "Successfully installed shap-0.40.0 slicer-0.0.7\n"
          ]
        }
      ]
    },
    {
      "cell_type": "code",
      "metadata": {
        "colab": {
          "base_uri": "https://localhost:8080/",
          "height": 225
        },
        "id": "06XJU2CaiA8Y",
        "outputId": "8791b9a2-c74f-4392-d9c2-2409829369a5"
      },
      "source": [
        "# explain the model's predictions using SHAP\n",
        "# (same syntax works for LightGBM, CatBoost, scikit-learn, transformers, Spark, etc.)\n",
        "explainer = shap.Explainer(cat_reg)\n",
        "shap_values = explainer(X)\n",
        "\n",
        "# visualize the first prediction's explanation\n",
        "shap.plots.waterfall(shap_values[0])"
      ],
      "execution_count": null,
      "outputs": [
        {
          "output_type": "display_data",
          "data": {
            "image/png": "[encoded data removed]",
            "text/plain": [
              "<Figure size 576x180 with 3 Axes>"
            ]
          },
          "metadata": {}
        }
      ]
    },
    {
      "cell_type": "markdown",
      "metadata": {
        "id": "T1VO1KKSGHPD"
      },
      "source": [
        "#Анализ функциональных групп лиганда, важных для заданного фермента при помощи SHAP"
      ]
    },
    {
      "cell_type": "markdown",
      "metadata": {
        "id": "4V1Jyfjw8G6G"
      },
      "source": [
        "Помимо уже упомянутого SimBoost, машинное обучение может решать обратную задачу. Допустим у нас уже есть большая библиотека известных терапевтических соединений (а она у нас есть) для которых точно известно, что они связываются с конкретным ферментом, что если мы обучим по этой базе модель, и попытаемся оценить, какие признаки для этой модели важн, а какие нет. Если выяснять действительно важные регигионы автоматически - это открывате огромный потенциал к более быстрой, а главное более осозноной разработке новых препаратов."
      ]
    },
    {
      "cell_type": "markdown",
      "metadata": {
        "id": "b0K7VD10C2P5"
      },
      "source": [
        "<img src=\"https://kodomo.fbb.msu.ru/FBB/year_20/ml/id_l/L7_02.png\" alt=\"alttext\" width=600/>"
      ]
    },
    {
      "cell_type": "markdown",
      "metadata": {
        "id": "8fHy-L1M900s"
      },
      "source": [
        "Датасет состовлялся из базы даннх ChEMBL. Сами молекулы векторизировались, дальше обучалось маодели и при помощи SHAP анализировалось значемость тех или инфх признаков исследуемого вещества.\n"
      ]
    }
  ]
}