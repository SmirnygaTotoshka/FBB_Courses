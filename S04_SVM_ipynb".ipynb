{
  "nbformat": 4,
  "nbformat_minor": 0,
  "metadata": {
    "kernelspec": {
      "display_name": "Python 3",
      "language": "python",
      "name": "python3"
    },
    "language_info": {
      "codemirror_mode": {
        "name": "ipython",
        "version": 3
      },
      "file_extension": ".py",
      "mimetype": "text/x-python",
      "name": "python",
      "nbconvert_exporter": "python",
      "pygments_lexer": "ipython3",
      "version": "3.8.3"
    },
    "colab": {
      "name": "S04_SVM.ipynb\"",
      "provenance": [],
      "collapsed_sections": [],
      "include_colab_link": true
    }
  },
  "cells": [
    {
      "cell_type": "markdown",
      "metadata": {
        "id": "view-in-github",
        "colab_type": "text"
      },
      "source": [
        "<a href=\"https://colab.research.google.com/github/SmirnygaTotoshka/FBB_Courses/blob/main/S04_SVM_ipynb%22.ipynb\" target=\"_parent\"><img src=\"https://colab.research.google.com/assets/colab-badge.svg\" alt=\"Open In Colab\"/></a>"
      ]
    },
    {
      "cell_type": "code",
      "metadata": {
        "id": "iGYb6Zq3NBW1"
      },
      "source": [
        "import numpy as np\n",
        "import pandas as pd\n",
        "from sklearn.model_selection import train_test_split"
      ],
      "execution_count": null,
      "outputs": []
    },
    {
      "cell_type": "markdown",
      "metadata": {
        "id": "tzHdFIgSNBW2"
      },
      "source": [
        "# Метод опорных векторов (SVM)"
      ]
    },
    {
      "cell_type": "code",
      "metadata": {
        "id": "FhP5FYA4NBW3"
      },
      "source": [
        "from sklearn.svm import SVC"
      ],
      "execution_count": null,
      "outputs": []
    },
    {
      "cell_type": "code",
      "metadata": {
        "id": "lSJVBI3yNBW3"
      },
      "source": [
        "from sklearn import datasets \n",
        "import numpy as np\n",
        "import matplotlib.pyplot as plt"
      ],
      "execution_count": null,
      "outputs": []
    },
    {
      "cell_type": "markdown",
      "metadata": {
        "id": "lhq-DMsDNBW3"
      },
      "source": [
        "## C = inf"
      ]
    },
    {
      "cell_type": "code",
      "metadata": {
        "id": "n4kRxz-HNBW3"
      },
      "source": [
        "iris = datasets.load_iris() # датасет с данными об ирисах, собранный Фишером, содержит три вида ирисов\n",
        "X = iris[\"data\"][:, (2, 3)]  # petal length, petal width\n",
        "y = iris[\"target\"]\n",
        "\n",
        "setosa_or_versicolor = (y == 0) | (y == 1) \n",
        "X = X[setosa_or_versicolor]\n",
        "y = y[setosa_or_versicolor]"
      ],
      "execution_count": null,
      "outputs": []
    },
    {
      "cell_type": "markdown",
      "metadata": {
        "id": "-eoYXgr7NBW4"
      },
      "source": [
        "Обучим классификатор с бесконечным штрафом за неправильную классификацию "
      ]
    },
    {
      "cell_type": "code",
      "metadata": {
        "id": "7f_uS_pVNBW4",
        "colab": {
          "base_uri": "https://localhost:8080/"
        },
        "outputId": "1bb36d84-e29a-43b4-e431-7f579580a688"
      },
      "source": [
        "svm_clf = SVC(kernel=\"linear\", C=np.inf) \n",
        "svm_clf.fit(X, y)"
      ],
      "execution_count": null,
      "outputs": [
        {
          "output_type": "execute_result",
          "data": {
            "text/plain": [
              "SVC(C=inf, break_ties=False, cache_size=200, class_weight=None, coef0=0.0,\n",
              "    decision_function_shape='ovr', degree=3, gamma='scale', kernel='linear',\n",
              "    max_iter=-1, probability=False, random_state=None, shrinking=True,\n",
              "    tol=0.001, verbose=False)"
            ]
          },
          "metadata": {},
          "execution_count": 7
        }
      ]
    },
    {
      "cell_type": "code",
      "metadata": {
        "id": "hlx6ezPbNBW4"
      },
      "source": [
        "# handson-ml course \n",
        "def plot_svc_decision_boundary(svm_clf, xmin, xmax):\n",
        "    w = svm_clf.coef_[0]\n",
        "    b = svm_clf.intercept_[0]\n",
        "\n",
        "    # At the decision boundary, w0*x0 + w1*x1 + b = 0\n",
        "    # => x1 = -w0/w1 * x0 - b/w1\n",
        "    x0 = np.linspace(xmin, xmax, 200)\n",
        "    decision_boundary = -w[0]/w[1] * x0 - b/w[1]\n",
        "\n",
        "    margin = 1/w[1]\n",
        "    gutter_up = decision_boundary + margin\n",
        "    gutter_down = decision_boundary - margin\n",
        "\n",
        "    svs = svm_clf.support_vectors_\n",
        "    plt.scatter(svs[:, 0], svs[:, 1], s=180, facecolors='#FFAAAA')\n",
        "    plt.plot(x0, decision_boundary, \"k-\", linewidth=2)\n",
        "    plt.plot(x0, gutter_up, \"k--\", linewidth=2)\n",
        "    plt.plot(x0, gutter_down, \"k--\", linewidth=2)"
      ],
      "execution_count": null,
      "outputs": []
    },
    {
      "cell_type": "code",
      "metadata": {
        "id": "MASXwDHhNBW5",
        "colab": {
          "base_uri": "https://localhost:8080/",
          "height": 217
        },
        "outputId": "ae1f5b86-bcf0-4739-81d4-17613a2120c6"
      },
      "source": [
        "x0 = np.linspace(0, 5.5, 200)\n",
        "pred_1 = 5*x0 - 20\n",
        "pred_2 = x0 - 1.8\n",
        "pred_3 = 0.1 * x0 + 0.5\n",
        "\n",
        "plt.figure(figsize=(12,2.7))\n",
        "\n",
        "plot_svc_decision_boundary(svm_clf, 0, 5.5)\n",
        "plt.plot(X[:, 0][y==1], X[:, 1][y==1], \"bs\")\n",
        "plt.plot(X[:, 0][y==0], X[:, 1][y==0], \"yo\")\n",
        "plt.ylabel(\"Petal width\", fontsize=14)\n",
        "plt.xlabel(\"Petal length\", fontsize=14)\n",
        "plt.axis([0, 5.5, 0, 2])\n",
        "plt.show()"
      ],
      "execution_count": null,
      "outputs": [
        {
          "output_type": "display_data",
          "data": {
            "image/png": "[encoded data removed]",
            "text/plain": [
              "<Figure size 864x194.4 with 1 Axes>"
            ]
          },
          "metadata": {
            "needs_background": "light"
          }
        }
      ]
    },
    {
      "cell_type": "markdown",
      "metadata": {
        "id": "XTV8FVwkNBW5"
      },
      "source": [
        "Подпишите на графике опорные вектора. Что они собой представляют?"
      ]
    },
    {
      "cell_type": "code",
      "metadata": {
        "id": "S-kCPJgNNBW5"
      },
      "source": [
        ""
      ],
      "execution_count": null,
      "outputs": []
    },
    {
      "cell_type": "markdown",
      "metadata": {
        "id": "Wb4V4iV6NBW5"
      },
      "source": [
        "Добавим один выброс"
      ]
    },
    {
      "cell_type": "code",
      "metadata": {
        "id": "KwxGWTFUNBW5",
        "colab": {
          "base_uri": "https://localhost:8080/"
        },
        "outputId": "54edbed1-b30f-411c-da25-7baa5aa7075e"
      },
      "source": [
        "svm_clf = SVC(kernel=\"linear\", C=np.inf) \n",
        "X_out = np.concatenate([X, np.array([3.2, 0.8]).reshape(1, 2)], axis=0)\n",
        "y_out = np.concatenate([y, np.array([0])])\n",
        "\n",
        "svm_clf.fit(X_out, y_out)"
      ],
      "execution_count": null,
      "outputs": [
        {
          "output_type": "execute_result",
          "data": {
            "text/plain": [
              "SVC(C=inf, break_ties=False, cache_size=200, class_weight=None, coef0=0.0,\n",
              "    decision_function_shape='ovr', degree=3, gamma='scale', kernel='linear',\n",
              "    max_iter=-1, probability=False, random_state=None, shrinking=True,\n",
              "    tol=0.001, verbose=False)"
            ]
          },
          "metadata": {},
          "execution_count": 10
        }
      ]
    },
    {
      "cell_type": "code",
      "metadata": {
        "id": "BHEZ2AqkNBW6",
        "colab": {
          "base_uri": "https://localhost:8080/",
          "height": 217
        },
        "outputId": "02106b68-1c48-4447-84b1-d47ac88b635d"
      },
      "source": [
        "x0 = np.linspace(0, 5.5, 200)\n",
        "pred_1 = 5*x0 - 20\n",
        "pred_2 = x0 - 1.8\n",
        "pred_3 = 0.1 * x0 + 0.5\n",
        "\n",
        "plt.figure(figsize=(12,2.7))\n",
        "\n",
        "plot_svc_decision_boundary(svm_clf, 0, 5.5)\n",
        "plt.plot(X_out[:, 0][y_out==1], X_out[:, 1][y_out==1], \"bs\")\n",
        "plt.plot(X_out[:, 0][y_out==0], X_out[:, 1][y_out==0], \"yo\")\n",
        "plt.ylabel(\"Petal width\", fontsize=14)\n",
        "plt.xlabel(\"Petal length\", fontsize=14)\n",
        "plt.axis([0, 5.5, 0, 2])\n",
        "plt.show()"
      ],
      "execution_count": null,
      "outputs": [
        {
          "output_type": "display_data",
          "data": {
            "image/png": "[encoded data removed]",
            "text/plain": [
              "<Figure size 864x194.4 with 1 Axes>"
            ]
          },
          "metadata": {
            "needs_background": "light"
          }
        }
      ]
    },
    {
      "cell_type": "markdown",
      "metadata": {
        "id": "zepxb_OcNBW6"
      },
      "source": [
        "Объясните, почему полученное решение плохое. "
      ]
    },
    {
      "cell_type": "code",
      "metadata": {
        "id": "mT_kMFJaNBW6"
      },
      "source": [
        ""
      ],
      "execution_count": null,
      "outputs": []
    },
    {
      "cell_type": "markdown",
      "metadata": {
        "id": "0Qz-09krNBW6"
      },
      "source": [
        "Теперь добавим другой выброс"
      ]
    },
    {
      "cell_type": "code",
      "metadata": {
        "id": "RZAO6xfKNBW6"
      },
      "source": [
        "X_out = np.concatenate([X, np.array([3.4, 1.3]).reshape(1, 2)], axis=0)\n",
        "y_out = np.concatenate([y, np.array([0])])\n",
        "\n"
      ],
      "execution_count": null,
      "outputs": []
    },
    {
      "cell_type": "code",
      "metadata": {
        "id": "CWnVQCdJNBW6",
        "colab": {
          "base_uri": "https://localhost:8080/",
          "height": 287
        },
        "outputId": "4168945b-7bbe-405f-946a-2f6c266e3958"
      },
      "source": [
        "plt.plot(X_out[:, 0][y_out==1], X_out[:, 1][y_out==1], \"bs\")\n",
        "plt.plot(X_out[:, 0][y_out==0], X_out[:, 1][y_out==0], \"yo\")\n",
        "plt.ylabel(\"Petal width\", fontsize=14)\n",
        "plt.xlabel(\"Petal length\", fontsize=14)\n",
        "plt.axis([0, 5.5, 0, 2])\n",
        "plt.show()"
      ],
      "execution_count": null,
      "outputs": [
        {
          "output_type": "display_data",
          "data": {
            "image/png": "[encoded data removed]",
            "text/plain": [
              "<Figure size 432x288 with 1 Axes>"
            ]
          },
          "metadata": {
            "needs_background": "light"
          }
        }
      ]
    },
    {
      "cell_type": "markdown",
      "metadata": {
        "id": "g6RnUs5YNBW7"
      },
      "source": [
        "Объясните, почему ниже расположенная строчка кода приводит к зависанию"
      ]
    },
    {
      "cell_type": "code",
      "metadata": {
        "id": "IJc76H-mNBW7"
      },
      "source": [
        "svm_clf = SVC(kernel=\"linear\", C=np.inf) \n",
        "svm_clf.fit(X_out, y_out)"
      ],
      "execution_count": null,
      "outputs": []
    },
    {
      "cell_type": "code",
      "metadata": {
        "id": "jhTeGIy6NBW7"
      },
      "source": [
        ""
      ],
      "execution_count": null,
      "outputs": []
    },
    {
      "cell_type": "markdown",
      "metadata": {
        "id": "KZ3RtNl6NBW7"
      },
      "source": [
        "## Чувствительность к масштабу признаков"
      ]
    },
    {
      "cell_type": "code",
      "metadata": {
        "id": "GWGcDRDUNBW7",
        "colab": {
          "base_uri": "https://localhost:8080/",
          "height": 281
        },
        "outputId": "9f36ab1f-01f8-404f-b61c-3c92ef4f4c9b"
      },
      "source": [
        "# handson-ml course \n",
        "\n",
        "Xs = np.array([[1, 50], [5, 20], [3, 80], [5, 60]]).astype(np.float64)\n",
        "ys = np.array([0, 0, 1, 1])\n",
        "svm_clf = SVC(kernel=\"linear\", C=100)\n",
        "svm_clf.fit(Xs, ys)\n",
        "\n",
        "plt.figure(figsize=(12,3.2))\n",
        "plt.subplot(121)\n",
        "plt.plot(Xs[:, 0][ys==1], Xs[:, 1][ys==1], \"bo\")\n",
        "plt.plot(Xs[:, 0][ys==0], Xs[:, 1][ys==0], \"ms\")\n",
        "plot_svc_decision_boundary(svm_clf, 0, 6)\n",
        "plt.xlabel(\"$x_0$\", fontsize=20)\n",
        "plt.ylabel(\"$x_1$  \", fontsize=20, rotation=0)\n",
        "plt.title(\"Unscaled\", fontsize=16)\n",
        "plt.axis([0, 6, 0, 90])\n",
        "\n",
        "from sklearn.preprocessing import StandardScaler\n",
        "scaler = StandardScaler()\n",
        "X_scaled = scaler.fit_transform(Xs)\n",
        "svm_clf.fit(X_scaled, ys)\n",
        "\n",
        "plt.subplot(122)\n",
        "plt.plot(X_scaled[:, 0][ys==1], X_scaled[:, 1][ys==1], \"bo\")\n",
        "plt.plot(X_scaled[:, 0][ys==0], X_scaled[:, 1][ys==0], \"ms\")\n",
        "plot_svc_decision_boundary(svm_clf, -2, 2)\n",
        "plt.xlabel(\"$x_0$\", fontsize=20)\n",
        "plt.title(\"Scaled\", fontsize=16)\n",
        "plt.axis([-2, 2, -2, 2])"
      ],
      "execution_count": null,
      "outputs": [
        {
          "output_type": "execute_result",
          "data": {
            "text/plain": [
              "(-2.0, 2.0, -2.0, 2.0)"
            ]
          },
          "metadata": {},
          "execution_count": 11
        },
        {
          "output_type": "display_data",
          "data": {
            "image/png": "[encoded data removed]",
            "text/plain": [
              "<Figure size 864x230.4 with 2 Axes>"
            ]
          },
          "metadata": {
            "needs_background": "light"
          }
        }
      ]
    },
    {
      "cell_type": "markdown",
      "metadata": {
        "id": "GM5lPCdhNBW8"
      },
      "source": [
        "Чувствителен ли SVM к масштабу признаков? "
      ]
    },
    {
      "cell_type": "code",
      "metadata": {
        "id": "IZLtgiN6NBW8"
      },
      "source": [
        ""
      ],
      "execution_count": null,
      "outputs": []
    },
    {
      "cell_type": "markdown",
      "metadata": {
        "id": "P3bh-HbQNBW8"
      },
      "source": [
        "Какой еще алгоритм из разобранных ранее крайне чувствителен к масштабу признаков?"
      ]
    },
    {
      "cell_type": "markdown",
      "metadata": {
        "id": "wwRa3j1XNBW8"
      },
      "source": [
        "## Разные значения C"
      ]
    },
    {
      "cell_type": "code",
      "metadata": {
        "id": "IfSmrKbfNBW8",
        "colab": {
          "base_uri": "https://localhost:8080/",
          "height": 320
        },
        "outputId": "1d0ee815-1b3b-4e41-ad66-22c6e3f697ca"
      },
      "source": [
        "X, Y = datasets.make_classification(n_features=2, \n",
        "                                       n_redundant=0,\n",
        "                                       n_informative=1,\n",
        "                                       random_state=202, \n",
        "                                       n_clusters_per_class=1,\n",
        "                                       flip_y=0, \n",
        "                                       n_samples=200)\n",
        "import seaborn as sns\n",
        "import matplotlib.pyplot as plt\n",
        "plt.figure(figsize=(5,5))\n",
        "sns.scatterplot(x=X[:, 1], y=X[:, 0], hue=Y)\n",
        "plt.show()"
      ],
      "execution_count": null,
      "outputs": [
        {
          "output_type": "display_data",
          "data": {
            "image/png": "[encoded data removed]",
            "text/plain": [
              "<Figure size 360x360 with 1 Axes>"
            ]
          },
          "metadata": {
            "needs_background": "light"
          }
        }
      ]
    },
    {
      "cell_type": "markdown",
      "metadata": {
        "id": "zeHSURdvNBW9"
      },
      "source": [
        "Продемонстрируйте (при помощи графиков и используя датасет, сгенерированный в предыдущей ячейке), как меняется граница решений для kernel=\"linear\" в зависимости от значения C"
      ]
    },
    {
      "cell_type": "code",
      "metadata": {
        "id": "1XW0hdz6NBW9"
      },
      "source": [
        ""
      ],
      "execution_count": null,
      "outputs": []
    },
    {
      "cell_type": "markdown",
      "metadata": {
        "id": "k96AZxMNNBW9"
      },
      "source": [
        "Как связан bias-variance trade-off с значением параметра C"
      ]
    },
    {
      "cell_type": "code",
      "metadata": {
        "id": "0Rc77oudNBW9"
      },
      "source": [
        ""
      ],
      "execution_count": null,
      "outputs": []
    },
    {
      "cell_type": "markdown",
      "metadata": {
        "id": "AqzcIT5qNBW9"
      },
      "source": [
        "## Разные ядра"
      ]
    },
    {
      "cell_type": "code",
      "metadata": {
        "id": "BrnNE23CNBW9",
        "colab": {
          "base_uri": "https://localhost:8080/",
          "height": 320
        },
        "outputId": "f333b0d1-77ff-41ca-9293-e80d31cf6787"
      },
      "source": [
        "X, Y = datasets.make_moons(n_samples=200, \n",
        "                           noise=0.25,\n",
        "                           random_state=200)\n",
        "plt.figure(figsize=(5,5))\n",
        "sns.scatterplot(x=X[:, 0], y=X[:, 1], hue=Y)\n",
        "plt.grid(True, which='both')\n",
        "plt.show()"
      ],
      "execution_count": null,
      "outputs": [
        {
          "output_type": "display_data",
          "data": {
            "image/png": "[encoded data removed]",
            "text/plain": [
              "<Figure size 360x360 with 1 Axes>"
            ]
          },
          "metadata": {
            "needs_background": "light"
          }
        }
      ]
    },
    {
      "cell_type": "code",
      "metadata": {
        "id": "2PHRD5yeNBW9"
      },
      "source": [
        "# handson-ml course \n",
        "\n",
        "def plot_predictions(clf, axes):\n",
        "    x0s = np.linspace(axes[0], axes[1], 500)\n",
        "    x1s = np.linspace(axes[2], axes[3], 500)\n",
        "    x0, x1 = np.meshgrid(x0s, x1s)\n",
        "    X = np.c_[x0.ravel(), x1.ravel()]\n",
        "    y_pred = clf.predict(X).reshape(x0.shape)\n",
        "    y_decision = clf.decision_function(X).reshape(x0.shape)\n",
        "    plt.contourf(x0, x1, y_pred, cmap=plt.cm.brg, alpha=0.2)\n",
        "    plt.contourf(x0, x1, y_decision, cmap=plt.cm.brg, alpha=0.1)"
      ],
      "execution_count": null,
      "outputs": []
    },
    {
      "cell_type": "code",
      "metadata": {
        "id": "dXriHKlmNBW-",
        "colab": {
          "base_uri": "https://localhost:8080/",
          "height": 596
        },
        "outputId": "78f2a127-bb6c-4a2d-fecd-662ed5d788c4"
      },
      "source": [
        "svm = SVC(kernel=\"rbf\", gamma=5, C=1000)\n",
        "svm.fit(X, Y)\n",
        "plt.figure(figsize=(10,10))\n",
        "sns.scatterplot(x=X[:, 0], y=X[:, 1], hue=Y, s=100)\n",
        "plt.grid(True, which='both')\n",
        "plot_predictions(svm, [-2, 2.5, -2, 2])\n",
        "plt.show()"
      ],
      "execution_count": null,
      "outputs": [
        {
          "output_type": "display_data",
          "data": {
            "image/png": "[encoded data removed]",
            "text/plain": [
              "<Figure size 720x720 with 1 Axes>"
            ]
          },
          "metadata": {
            "needs_background": "light"
          }
        }
      ]
    },
    {
      "cell_type": "markdown",
      "metadata": {
        "id": "JHasuqO0NBW-"
      },
      "source": [
        "Постройте decision border для kernel=\"poly\" для значений degree 3, 5, 10 и 20. C поставьте равным 10 "
      ]
    },
    {
      "cell_type": "code",
      "metadata": {
        "id": "VhE5oX7TNBW-"
      },
      "source": [
        ""
      ],
      "execution_count": null,
      "outputs": []
    },
    {
      "cell_type": "markdown",
      "metadata": {
        "id": "hn1wr4LwNBW_"
      },
      "source": [
        "Используя построенные графики скажите, какая степень полинома дает лучшее решение?  "
      ]
    },
    {
      "cell_type": "code",
      "metadata": {
        "id": "9eDZ9NXiNBW_"
      },
      "source": [
        ""
      ],
      "execution_count": null,
      "outputs": []
    },
    {
      "cell_type": "markdown",
      "metadata": {
        "id": "terDjXpzNBW_"
      },
      "source": [
        "Как думаете, будет ли зависеть потребление памяти моделью от степени полинома?"
      ]
    },
    {
      "cell_type": "code",
      "metadata": {
        "id": "d2-cxld4NBW_"
      },
      "source": [
        ""
      ],
      "execution_count": null,
      "outputs": []
    },
    {
      "cell_type": "markdown",
      "metadata": {
        "id": "RNWN6n9-NBW_"
      },
      "source": [
        "Проверьте свои догадки при помощи функции memit jupyter-notebook https://jakevdp.github.io/PythonDataScienceHandbook/01.07-timing-and-profiling.html"
      ]
    },
    {
      "cell_type": "code",
      "metadata": {
        "id": "9e_ymNZsaPIu"
      },
      "source": [
        "pip install memory_profiler"
      ],
      "execution_count": null,
      "outputs": []
    },
    {
      "cell_type": "code",
      "metadata": {
        "id": "ogHrTY0PNBW_"
      },
      "source": [
        "%load_ext memory_profiler"
      ],
      "execution_count": null,
      "outputs": []
    },
    {
      "cell_type": "code",
      "metadata": {
        "id": "Nnj1mHth-qaq"
      },
      "source": [
        ""
      ],
      "execution_count": null,
      "outputs": []
    },
    {
      "cell_type": "markdown",
      "metadata": {
        "id": "PAW1o6ZhNBW_"
      },
      "source": [
        "Постройте decision border для kernel=\"rbf\" для значений gamma=0.1, 3 и 0.5 и C =0.001, 1000."
      ]
    },
    {
      "cell_type": "code",
      "metadata": {
        "id": "4osRbHnfNBW_"
      },
      "source": [
        ""
      ],
      "execution_count": null,
      "outputs": []
    },
    {
      "cell_type": "markdown",
      "metadata": {
        "id": "hhDLCIq2NBXA"
      },
      "source": [
        "#### Дополнительно \n",
        "\n",
        "На рисунке, который вы получите для gamma=5, C=1000, есть области, в которых нет никаких точек. \n",
        "\n",
        "Эти области \"явно\" расположены ближе к синим точкам, чем к желтым. \n",
        "\n",
        "Однако, по какой-то причине, модель в этих областях принимает решение не в пользу синих точек. \n",
        "\n",
        "Почитайте подробнее про то, как устроено ядро rbf и попытайтесь объяснить наблюдаемый феномен"
      ]
    },
    {
      "cell_type": "markdown",
      "metadata": {
        "id": "EBhDpTcZMhHC"
      },
      "source": [
        "# Предсказание растворимости веществ\n",
        "\n",
        "Загрузим недавно опубликованный датасет [AqSolDB](https://www.nature.com/articles/s41597-019-0151-1), объединяющий информацию о растворимости химических веществ из разных источников. \n",
        "\n"
      ]
    },
    {
      "cell_type": "code",
      "metadata": {
        "id": "I2jk6OelNEXK"
      },
      "source": [
        "!wget  https://kodomo.fbb.msu.ru/FBB/year_20/ml/curated-solubility-dataset.csv"
      ],
      "execution_count": null,
      "outputs": []
    },
    {
      "cell_type": "code",
      "metadata": {
        "id": "EmfoTr9sNjKn"
      },
      "source": [
        "import numpy as np\n",
        "import pandas as pd"
      ],
      "execution_count": null,
      "outputs": []
    },
    {
      "cell_type": "code",
      "metadata": {
        "id": "saPTfsTZNsZk"
      },
      "source": [
        "data = pd.read_csv(\"curated-solubility-dataset.csv\")"
      ],
      "execution_count": null,
      "outputs": []
    },
    {
      "cell_type": "code",
      "metadata": {
        "id": "h8vxNAocNt3i"
      },
      "source": [
        "data.head()"
      ],
      "execution_count": null,
      "outputs": []
    },
    {
      "cell_type": "markdown",
      "metadata": {
        "id": "07l_NjWuWbWB"
      },
      "source": [
        "В качестве Y используйте колонку **Solubility**"
      ]
    },
    {
      "cell_type": "code",
      "metadata": {
        "id": "vl7Zp8FBWfLm"
      },
      "source": [
        ""
      ],
      "execution_count": null,
      "outputs": []
    },
    {
      "cell_type": "markdown",
      "metadata": {
        "id": "AFcd25SeWevu"
      },
      "source": [
        "В качестве X - все колонки после Solubility"
      ]
    },
    {
      "cell_type": "code",
      "metadata": {
        "id": "h8azcxnTWjzj"
      },
      "source": [
        ""
      ],
      "execution_count": null,
      "outputs": []
    },
    {
      "cell_type": "markdown",
      "metadata": {
        "id": "ZA_2FOXEWO66"
      },
      "source": [
        "Разбейте ваши данные на обучение и тест в отношении 8:2"
      ]
    },
    {
      "cell_type": "code",
      "metadata": {
        "id": "YRtogoaNWkQU"
      },
      "source": [
        ""
      ],
      "execution_count": null,
      "outputs": []
    },
    {
      "cell_type": "markdown",
      "metadata": {
        "id": "poMbLDnTOSwe"
      },
      "source": [
        "Попробуйте на данной задаче и на основе только посчитанных авторами признаков (начинаются с MolWt), предсказать растворимость веществ при помощи:\n",
        "\n",
        "1. Линейной регрессии\n",
        "\n",
        "2. KNN-регрессии\n",
        "\n",
        "3. SVM (понадобится SVR из пакета)"
      ]
    },
    {
      "cell_type": "code",
      "metadata": {
        "id": "HzVWXXo0_MRU"
      },
      "source": [
        "from sklearn.linear_model import LinearRegression\n",
        "from sklearn.neighbors import KNeighborsRegressor\n",
        "from sklearn.svm import SVR"
      ],
      "execution_count": null,
      "outputs": []
    },
    {
      "cell_type": "markdown",
      "metadata": {
        "id": "ajzP5a7w_Fw-"
      },
      "source": [
        "Так как у второго и третьего алгоритма есть гиперпараметры, то сначала на трейне используйте GridSearchCV"
      ]
    },
    {
      "cell_type": "code",
      "metadata": {
        "id": "qQxOwtbE-Lqu"
      },
      "source": [
        "from sklearn.model_selection import GridSearchCV, train_test_split"
      ],
      "execution_count": null,
      "outputs": []
    },
    {
      "cell_type": "code",
      "metadata": {
        "id": "2-BvrLIyFA12"
      },
      "source": [
        "# пример из мануала для SVC- адаптируйте к вашей задаче\n",
        "iris = datasets.load_iris()\n",
        "parameters = {'kernel':('linear', 'rbf'), 'C':[0.01, 0.1, 1, 10]}\n",
        "svc = svm.SVC()\n",
        "clf = GridSearchCV(svc, parameters)\n",
        "clf.fit(iris.data, iris.target)"
      ],
      "execution_count": null,
      "outputs": []
    },
    {
      "cell_type": "markdown",
      "metadata": {
        "id": "y5TpXzXGWmIF"
      },
      "source": [
        "Для SVR используйте те же параметры, что указаны в ячейке. \n",
        "Для KNN - число соседей"
      ]
    },
    {
      "cell_type": "code",
      "metadata": {
        "id": "WjKN57c6Wve5"
      },
      "source": [
        ""
      ],
      "execution_count": null,
      "outputs": []
    },
    {
      "cell_type": "markdown",
      "metadata": {
        "id": "sefMe35EWv_o"
      },
      "source": [
        "Выберите лучший на кросс-валидации алгоритм"
      ]
    },
    {
      "cell_type": "code",
      "metadata": {
        "id": "GeYrIrwgW0RV"
      },
      "source": [
        ""
      ],
      "execution_count": null,
      "outputs": []
    },
    {
      "cell_type": "markdown",
      "metadata": {
        "id": "R9hlmQNxW0-H"
      },
      "source": [
        "Проверьте финальную модель на тесте"
      ]
    },
    {
      "cell_type": "code",
      "metadata": {
        "id": "j_NEbC5GW3MV"
      },
      "source": [
        ""
      ],
      "execution_count": null,
      "outputs": []
    },
    {
      "cell_type": "markdown",
      "metadata": {
        "id": "if0k2jh2v5T5"
      },
      "source": [
        "Какие проблемы вы видите в случайном разбиении, примененом нами"
      ]
    },
    {
      "cell_type": "markdown",
      "metadata": {
        "id": "psFXWPYK97gN"
      },
      "source": [
        "# Классификация мутаций при помощи deltaSVM "
      ]
    },
    {
      "cell_type": "markdown",
      "metadata": {
        "id": "iErSr_zFCUFO"
      },
      "source": [
        "Качать файлы из сети в коллабе можно при помощи команды **wget**"
      ]
    },
    {
      "cell_type": "markdown",
      "metadata": {
        "id": "d-ullyL4C4Eq"
      },
      "source": [
        "`!wget`"
      ]
    },
    {
      "cell_type": "markdown",
      "metadata": {
        "id": "B558sBrSAQup"
      },
      "source": [
        "Скачайте файл [aldobecr11_seqs.tsv](https://kodomo.fbb.msu.ru/FBB/year_21/aldobecr11_seqs.csv) с прошлого семинера, в который добавили последовательности длины 21 нуклеотид, окружающие замену"
      ]
    },
    {
      "cell_type": "code",
      "metadata": {
        "id": "1JLzDPLNB5SZ"
      },
      "source": [
        "!wget https://kodomo.fbb.msu.ru/FBB/year_21/aldobecr11_seqs.csv"
      ],
      "execution_count": null,
      "outputs": []
    },
    {
      "cell_type": "markdown",
      "metadata": {
        "id": "wAAere_0rCDF"
      },
      "source": [
        "Загрузите веса deltaSVM для клеточной линии [HepG2](https://kodomo.fbb.msu.ru/FBB/year_21/hepg2.out) "
      ]
    },
    {
      "cell_type": "code",
      "metadata": {
        "id": "DBqmEfxOpXWl"
      },
      "source": [
        "?data.to_csv"
      ],
      "execution_count": null,
      "outputs": []
    },
    {
      "cell_type": "markdown",
      "metadata": {
        "id": "XfXUGKKsAhxX"
      },
      "source": [
        "Далее идет код для работы с весами deltaSVM"
      ]
    },
    {
      "cell_type": "code",
      "metadata": {
        "id": "-at3qRAuAlNg"
      },
      "source": [
        "from dataclasses import dataclass, field\n",
        "from typing import Dict, Tuple, Union, Optional, Generator\n",
        "from pathlib import Path\n",
        "\n",
        "def reverse_complement(seq: str, alphabet: Optional[Dict[str, str]] = None) -> str:\n",
        "    if alphabet is None:\n",
        "        alphabet = {\"A\": \"T\", \"C\": \"G\", \"G\": \"C\", \"T\": \"A\"}\n",
        "    rev_compl = []\n",
        "    for s in reversed(seq):\n",
        "        rev_compl.append(alphabet[s])\n",
        "    return \"\".join(rev_compl)\n",
        "\n",
        "def kmer_split(seq: str, k: int) -> Generator[str, None, None]:\n",
        "    if k <= 0:\n",
        "        raise Exception(f\"k must be positive: {k}\")\n",
        "    if len(seq) < k:\n",
        "        raise Exception(\n",
        "            f\"Length of sequence must be equal or greater than k, {k} vs {len(seq)}\"\n",
        "        )\n",
        "\n",
        "    for i in range(0, len(seq) - k + 1, 1):\n",
        "        yield seq[i : i + k]\n",
        "\n",
        "@dataclass\n",
        "class SVMDelta:\n",
        "    scores: Dict[str, float] = field(repr=False)\n",
        "    k: int\n",
        "    distinct_reversed: bool = False\n",
        "\n",
        "    def __post_init__(self) -> None:\n",
        "        self._check_scores()\n",
        "\n",
        "    def _check_scores(self) -> None:\n",
        "        kmers_cnt = 4 ** self.k\n",
        "        if kmers_cnt != len(self.scores):\n",
        "            raise GkmSvmException(\n",
        "                \"Scores doesn't include information about all kmers.\"\n",
        "                f\"Entries: {len(self.scores)}. Required: {kmers_cnt}\"\n",
        "            )\n",
        "\n",
        "    @staticmethod\n",
        "    def _check_seq(seq: str) -> None:\n",
        "        for s in seq:\n",
        "            if s not in (\"A\", \"T\", \"G\", \"C\"):\n",
        "                raise GkmSvmException(f\"Sequence must contain only A, T, G and C: {s}\")\n",
        "\n",
        "    def decision_function(self, seq: str) -> float:\n",
        "        self._check_seq(seq)\n",
        "        score = 0.0\n",
        "\n",
        "        for kmer in kmer_split(seq, self.k):\n",
        "            score += self.scores[kmer]\n",
        "        return score\n",
        "\n",
        "    def _trunc_seq(self, seq: str, pos: int) -> Tuple[str, int]:\n",
        "        ss = max(0, pos - self.k + 1)\n",
        "        se = min(len(seq), pos + self.k)\n",
        "        return seq[ss:se], pos - ss\n",
        "\n",
        "    @staticmethod\n",
        "    def _get_alt_seq(seq: str, pos: int, alt: str) -> str:\n",
        "        return seq[:pos] + alt + seq[pos + 1 :]\n",
        "\n",
        "    def score_snv(self, seq: str, pos: int, alt: str) -> float:\n",
        "        seq, pos = self._trunc_seq(seq, pos)\n",
        "        ref_seq = seq\n",
        "        alt_seq = self._get_alt_seq(seq, pos, alt)\n",
        "        ref_score = self.decision_function(ref_seq)\n",
        "        alt_score = self.decision_function(alt_seq)\n",
        "        return alt_score - ref_score\n",
        "\n",
        "    @staticmethod\n",
        "    def _check_save_path(path: Path, exists_ok: bool = True) -> None:\n",
        "        if path.exists():\n",
        "            if not exists_ok:\n",
        "                raise GkmSvmException(f\"Provided path exists: {path}\")\n",
        "            if not path.is_file():\n",
        "                raise GkmSvmException(f\"Provided path is not a file: {path}\")\n",
        "\n",
        "    def save(self, path: Union[Path, str], exist_ok: bool = True) -> None:\n",
        "        path = Path(path)\n",
        "        self._check_save_path(path, exist_ok)\n",
        "        with open(path, \"w\") as out:\n",
        "            for kmer, score in self.scores.items():\n",
        "                print(f\"{kmer}\\t{score}\", file=out)\n",
        "\n",
        "    @staticmethod\n",
        "    def _check_load_path(path: Path) -> None:\n",
        "        if not path.exists():\n",
        "            raise GkmSvmException(f\"Provided path doesn't exist: {path}\")\n",
        "        if not path.is_file():\n",
        "            raise GkmSvmException(f\"Provided path is not a file: {path}\")\n",
        "\n",
        "    @classmethod\n",
        "    def load(cls, path: Union[Path, str], distinct_reversed: bool = False):\n",
        "        path = Path(path)\n",
        "        cls._check_load_path(path)\n",
        "        dt: Dict[str, float] = {}\n",
        "        with open(path, \"r\") as k_scores:\n",
        "            seq, _ = k_scores.readline().split()\n",
        "            k = len(seq)\n",
        "            k_scores.seek(0)\n",
        "\n",
        "            for ind, line in enumerate(k_scores):\n",
        "                seq, score_s = line.split()\n",
        "                score = float(score_s)\n",
        "                if len(seq) != k:\n",
        "                    raise GkmSvmException(\n",
        "                        f\"Provided file contains kmers of different size: line {ind}. \"\n",
        "                        f\"Expected {k}, got {len(seq)}\"\n",
        "                    )\n",
        "                dt[seq] = score\n",
        "                if not distinct_reversed:\n",
        "                    r_seq = reverse_complement(seq)\n",
        "                    dt[r_seq] = score\n",
        "        return cls(dt, k, distinct_reversed=distinct_reversed)"
      ],
      "execution_count": null,
      "outputs": []
    },
    {
      "cell_type": "markdown",
      "metadata": {
        "id": "MogwvshSsTsO"
      },
      "source": [
        "Пример запуска - оценим вклад замены в середине последовательности "
      ]
    },
    {
      "cell_type": "code",
      "metadata": {
        "id": "dH20y1hxsbhj"
      },
      "source": [
        "model = SVMDelta.load(\"hepg2.out\")"
      ],
      "execution_count": null,
      "outputs": []
    },
    {
      "cell_type": "markdown",
      "metadata": {
        "id": "gkdcAnmpsgc8"
      },
      "source": [
        "Для каждой строки таблицы посчитайте вклад замены, оценный при помощи deltaSVM.\n"
      ]
    },
    {
      "cell_type": "code",
      "metadata": {
        "id": "Fmel8GJpXhqL"
      },
      "source": [
        ""
      ],
      "execution_count": null,
      "outputs": []
    },
    {
      "cell_type": "markdown",
      "metadata": {
        "id": "FNTy-lOqsqHU"
      },
      "source": [
        "Оцените корреляцию Value и полученного скора"
      ]
    },
    {
      "cell_type": "code",
      "metadata": {
        "id": "lv1RnUYhKQ3b"
      },
      "source": [
        "from scipy.stats import pearsonr, spearmanr"
      ],
      "execution_count": null,
      "outputs": []
    },
    {
      "cell_type": "markdown",
      "metadata": {
        "id": "UjrqrlGPAjkb"
      },
      "source": [
        "Постройте график зависимости deltaSVM скора от колонки Value в файле aldobecr11.tsv"
      ]
    },
    {
      "cell_type": "code",
      "metadata": {
        "id": "dpOkhtMV7WRS"
      },
      "source": [
        ""
      ],
      "execution_count": null,
      "outputs": []
    },
    {
      "cell_type": "markdown",
      "metadata": {
        "id": "C_K0AL3OVTZR"
      },
      "source": [
        "## \"Парадокс\""
      ]
    },
    {
      "cell_type": "code",
      "metadata": {
        "id": "8wkBUPWwVTZR"
      },
      "source": [
        "import pandas as pd\n",
        "import numpy as np\n",
        "from sklearn.linear_model import LogisticRegression\n",
        "from sklearn.model_selection import train_test_split\n",
        "from sklearn.metrics import roc_auc_score, average_precision_score, accuracy_score"
      ],
      "execution_count": null,
      "outputs": []
    },
    {
      "cell_type": "markdown",
      "metadata": {
        "id": "U_LT-moSVTZR"
      },
      "source": [
        "Создадим таблицу 200 на 10000 со \"здоровыми\" и \"больными\" пациентами и данными об \"экспрессии\" их генов. \n"
      ]
    },
    {
      "cell_type": "code",
      "metadata": {
        "id": "2-EuqXwTVTZR"
      },
      "source": [
        "gene_count = 10000\n",
        "genes = [f\"Gene{ind}\" for ind in range(gene_count)]\n",
        "healthy = pd.DataFrame(np.random.normal(size=(100, gene_count), \n",
        "                                        loc=0, \n",
        "                                        scale=1), \n",
        "                       columns=genes)\n",
        "healthy['State'] = \"H\"\n",
        "diseased = pd.DataFrame(np.random.normal(size=(100, gene_count), \n",
        "                                         loc=0, \n",
        "                                         scale=1),\n",
        "                        columns=genes)\n",
        "diseased['State'] = \"D\"\n",
        "patients = pd.concat([healthy, diseased], axis=0)"
      ],
      "execution_count": null,
      "outputs": []
    },
    {
      "cell_type": "code",
      "metadata": {
        "id": "-I0bsLXpVTZR"
      },
      "source": [
        "patients"
      ],
      "execution_count": null,
      "outputs": []
    },
    {
      "cell_type": "code",
      "metadata": {
        "id": "YbeGHXdNVTZR"
      },
      "source": [
        "X = patients.drop(\"State\", axis=1)\n",
        "Y = patients['State']"
      ],
      "execution_count": null,
      "outputs": []
    },
    {
      "cell_type": "code",
      "metadata": {
        "id": "G02ZsBAiVTZR"
      },
      "source": [
        "top_k = 10\n",
        "\n",
        "diffs = X[Y == \"H\"].mean(axis=0) - X[Y == 'D'].mean(axis=0)\n",
        "top = np.abs(diffs).sort_values(ascending=False)[0:top_k]\n",
        "genes = top.index"
      ],
      "execution_count": null,
      "outputs": []
    },
    {
      "cell_type": "code",
      "metadata": {
        "id": "lNiXFCCJVTZR"
      },
      "source": [
        "X_selected = X[genes]"
      ],
      "execution_count": null,
      "outputs": []
    },
    {
      "cell_type": "code",
      "metadata": {
        "id": "UoATaE-dVTZR"
      },
      "source": [
        "X_train, X_test, y_train, y_test = train_test_split(X_selected, Y == \"D\", test_size=0.3)"
      ],
      "execution_count": null,
      "outputs": []
    },
    {
      "cell_type": "code",
      "metadata": {
        "id": "Lhwl2LRtVTZS"
      },
      "source": [
        "model = LogisticRegression()\n",
        "model.fit(X_train, y_train)\n"
      ],
      "execution_count": null,
      "outputs": []
    },
    {
      "cell_type": "code",
      "metadata": {
        "id": "azMGzb45VTZS"
      },
      "source": [
        "y_train_pred = model.predict_proba(X_train)[:, 1]\n",
        "train_rocauc = roc_auc_score(y_score=y_train_pred, y_true=y_train)\n",
        "train_prauc = average_precision_score(y_score=y_train_pred, y_true=y_train)\n",
        "train_accuracy = accuracy_score(y_pred=y_train_pred > 0.5, y_true=y_train)\n",
        "print(\"Train quality:\")\n",
        "print(f\"ROCAUC : {train_rocauc:.02f}\")\n",
        "print(f\"PRAUC : {train_prauc:.02f}\")\n",
        "print(f\"Accuracy: accuracy {train_accuracy:.02f}\")"
      ],
      "execution_count": null,
      "outputs": []
    },
    {
      "cell_type": "code",
      "metadata": {
        "id": "xncgiX_YVTZS"
      },
      "source": [
        "y_test_pred = model.predict_proba(X_test)[:, 1]\n",
        "train_rocauc = roc_auc_score(y_score=y_test_pred, y_true=y_test)\n",
        "train_prauc = average_precision_score(y_score=y_test_pred, y_true=y_test)\n",
        "train_accuracy = accuracy_score(y_pred=y_test_pred > 0.5, y_true=y_test)\n",
        "print(\"Test quality:\")\n",
        "print(f\"ROCAUC : {train_rocauc:.02f}\")\n",
        "print(f\"PRAUC : {train_prauc:.02f}\")\n",
        "print(f\"Accuracy: accuracy {train_accuracy:.02f}\")"
      ],
      "execution_count": null,
      "outputs": []
    },
    {
      "cell_type": "markdown",
      "metadata": {
        "id": "Y_KQ9egKVTZS"
      },
      "source": [
        "Очевидно, что мы не могли выучить никаких разумных признаков. Однако, мы их все же выучили... Объясните полученный парадокс"
      ]
    },
    {
      "cell_type": "code",
      "metadata": {
        "id": "UhL2t9krVTZS"
      },
      "source": [
        ""
      ],
      "execution_count": null,
      "outputs": []
    },
    {
      "cell_type": "markdown",
      "metadata": {
        "id": "algOX766VTZS"
      },
      "source": [
        "Тем не менее, может мы просто что-то делаем не так. Попробуем встроенные в sklearn методы для выбора признаков"
      ]
    },
    {
      "cell_type": "code",
      "metadata": {
        "id": "dOtMM0aEVTZS"
      },
      "source": [
        "from sklearn.feature_selection import (SelectKBest, SelectFdr, SelectFwe,\n",
        "                                       SelectPercentile, f_classif)"
      ],
      "execution_count": null,
      "outputs": []
    },
    {
      "cell_type": "code",
      "metadata": {
        "id": "pgdhii9qVTZS"
      },
      "source": [
        "X_selected = SelectKBest(f_classif, k=10).fit_transform(X, Y)"
      ],
      "execution_count": null,
      "outputs": []
    },
    {
      "cell_type": "markdown",
      "metadata": {
        "id": "vBHWChyrVTZS"
      },
      "source": [
        "Повторите все на отобранных стандартным методом sklearn признаках. Результат объясните"
      ]
    },
    {
      "cell_type": "code",
      "metadata": {
        "id": "e9pju5OCVTZT"
      },
      "source": [
        ""
      ],
      "execution_count": null,
      "outputs": []
    },
    {
      "cell_type": "markdown",
      "metadata": {
        "id": "ZleySo7gVTZT"
      },
      "source": [
        "Что делает метод выделения признаков SelectFdr? Что такое FDR? Опишите ниже"
      ]
    },
    {
      "cell_type": "code",
      "metadata": {
        "id": "9NMi3g8PVTZT"
      },
      "source": [
        ""
      ],
      "execution_count": null,
      "outputs": []
    },
    {
      "cell_type": "markdown",
      "metadata": {
        "id": "s2ghiflkVTZT"
      },
      "source": [
        "Примените метод SelectFdr. Результат объясните"
      ]
    },
    {
      "cell_type": "code",
      "metadata": {
        "id": "Dwn-ZUrCVTZT"
      },
      "source": [
        ""
      ],
      "execution_count": null,
      "outputs": []
    },
    {
      "cell_type": "markdown",
      "metadata": {
        "id": "52ZN3b9XVTZT"
      },
      "source": [
        "Почему вообще возникла проблема в начале? Объясните"
      ]
    },
    {
      "cell_type": "code",
      "metadata": {
        "id": "ROUjLWPWVTZT"
      },
      "source": [
        ""
      ],
      "execution_count": null,
      "outputs": []
    },
    {
      "cell_type": "markdown",
      "metadata": {
        "id": "JC60oVsMVTZT"
      },
      "source": [
        "Как бы эту проблему можно было бы избежать?"
      ]
    },
    {
      "cell_type": "code",
      "metadata": {
        "id": "hNxbV2dZVTZT"
      },
      "source": [
        ""
      ],
      "execution_count": null,
      "outputs": []
    }
  ]
}