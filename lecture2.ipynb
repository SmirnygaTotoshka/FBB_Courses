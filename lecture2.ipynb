{
  "nbformat": 4,
  "nbformat_minor": 5,
  "metadata": {
    "celltoolbar": "Slideshow",
    "colab": {
      "name": "lecture2.ipynb",
      "provenance": [],
      "collapsed_sections": [
        "204ffdc2",
        "d5945e1c",
        "45b7d013",
        "f647bde1",
        "2711dbd3",
        "f930b657",
        "46e477e5",
        "9dabcb95",
        "157de679"
      ],
      "toc_visible": true,
      "include_colab_link": true
    },
    "kernelspec": {
      "display_name": "Python 3",
      "language": "python",
      "name": "python3"
    },
    "language_info": {
      "codemirror_mode": {
        "name": "ipython",
        "version": 3
      },
      "file_extension": ".py",
      "mimetype": "text/x-python",
      "name": "python",
      "nbconvert_exporter": "python",
      "pygments_lexer": "ipython3",
      "version": "3.7.10"
    }
  },
  "cells": [
    {
      "cell_type": "markdown",
      "metadata": {
        "id": "view-in-github",
        "colab_type": "text"
      },
      "source": [
        "<a href=\"https://colab.research.google.com/github/SmirnygaTotoshka/FBB_Courses/blob/main/lecture2.ipynb\" target=\"_parent\"><img src=\"https://colab.research.google.com/assets/colab-badge.svg\" alt=\"Open In Colab\"/></a>"
      ]
    },
    {
      "cell_type": "markdown",
      "metadata": {
        "id": "c2ff3aed-cb83-4720-aad7-c26d38fdaa3d"
      },
      "source": [
        "# Машинное обучение в биологии\n",
        "\n",
        "### Лекция 2: Основные понятия и простейшие модели машинного обучения"
      ],
      "id": "c2ff3aed-cb83-4720-aad7-c26d38fdaa3d"
    },
    {
      "cell_type": "code",
      "metadata": {
        "id": "685e76e1"
      },
      "source": [
        "import matplotlib.pyplot as plt\n",
        "import seaborn as sns\n",
        "\n",
        "sns.set()\n",
        "sns.set_style(\"ticks\")"
      ],
      "id": "685e76e1",
      "execution_count": null,
      "outputs": []
    },
    {
      "cell_type": "markdown",
      "metadata": {
        "id": "3f76314f"
      },
      "source": [
        "## Обучение модели"
      ],
      "id": "3f76314f"
    },
    {
      "cell_type": "markdown",
      "metadata": {
        "id": "04f277ad"
      },
      "source": [
        "**Как вы думаете, что значит фраза \"обучить модель\"?**"
      ],
      "id": "04f277ad"
    },
    {
      "cell_type": "markdown",
      "metadata": {
        "id": "aa8ded7c-56c1-4ed9-8e10-b159ee621a25"
      },
      "source": [
        "![ml1_stonks.jpg](https://kodomo.fbb.msu.ru/FBB/year_20/ml/mfk/lec2/ml1_stonks.jpg)"
      ],
      "id": "aa8ded7c-56c1-4ed9-8e10-b159ee621a25"
    },
    {
      "cell_type": "markdown",
      "metadata": {
        "id": "11ba8b06"
      },
      "source": [
        "**Обучение** для модели - это итеративное улучшение описания данных моделью с помощью изменения ее параметров."
      ],
      "id": "11ba8b06"
    },
    {
      "cell_type": "markdown",
      "metadata": {
        "id": "23bfa833"
      },
      "source": [
        "Например, для простой линейной регрессионной модели обучение будет выглядеть как-то так:"
      ],
      "id": "23bfa833"
    },
    {
      "cell_type": "markdown",
      "metadata": {
        "id": "37d07547"
      },
      "source": [
        "![training_gif.gif](https://kodomo.fbb.msu.ru/FBB/year_20/ml/mfk/lec2/training_gif.gif)"
      ],
      "id": "37d07547"
    },
    {
      "cell_type": "markdown",
      "metadata": {
        "id": "7ee02dcd"
      },
      "source": [
        "Сколько здесь параметров и как эти параметры меняются?"
      ],
      "id": "7ee02dcd"
    },
    {
      "cell_type": "markdown",
      "metadata": {
        "id": "51398ad1"
      },
      "source": [
        "Фактически при обучении происходит **\"подгон\" параметров** вашей модели таким образом, чтобы данные **как можно лучше были описаны** этой моделью. Подгоном это можно назвать потому, что мы формулируем гипотезу после того, как видим данные, а не заранее."
      ],
      "id": "51398ad1"
    },
    {
      "cell_type": "markdown",
      "metadata": {
        "id": "790addc8"
      },
      "source": [
        "*Получается, машинное обучение - это профессиональный уровень подгона моделей?*"
      ],
      "id": "790addc8"
    },
    {
      "cell_type": "markdown",
      "metadata": {
        "id": "e29c5b84"
      },
      "source": [
        "Это не совсем так. Давайте рассмотрим эту проблему на примере самой простой модели."
      ],
      "id": "e29c5b84"
    },
    {
      "cell_type": "markdown",
      "metadata": {
        "id": "312b8502"
      },
      "source": [
        "## Самая простая модель классификации"
      ],
      "id": "312b8502"
    },
    {
      "cell_type": "markdown",
      "metadata": {
        "id": "8b994352"
      },
      "source": [
        "**Как вы думаете, как устроена самая простая модель для задачи классификации?**"
      ],
      "id": "8b994352"
    },
    {
      "cell_type": "markdown",
      "metadata": {
        "id": "a858c024"
      },
      "source": [
        "Представим, что в исходных данных у нас есть несколько размеченных образцов (будем дальше называть их **точками**). Будем считать признаки точки ее координатами в пространстве."
      ],
      "id": "a858c024"
    },
    {
      "cell_type": "markdown",
      "metadata": {
        "id": "214e228f"
      },
      "source": [
        "Тогда самый простой* способ предсказывать класс точки - это **искать ближайшую точку и выдавать ее класс в качестве предсказания**."
      ],
      "id": "214e228f"
    },
    {
      "cell_type": "markdown",
      "metadata": {
        "id": "79645d08"
      },
      "source": [
        "Немного более общий способ называется **k-NN** (метод k ближайших соседей, k nearest neighbours)."
      ],
      "id": "79645d08"
    },
    {
      "cell_type": "markdown",
      "metadata": {
        "id": "d89df00c"
      },
      "source": [
        "В этом случае находится **k ближайших известных точек** к той, которую мы хотим классифицировать, и предсказывается **тот класс, которого больше** среди \"соседей\"."
      ],
      "id": "d89df00c"
    },
    {
      "cell_type": "markdown",
      "metadata": {
        "id": "e770282f"
      },
      "source": [
        "![knn_ex.png](https://kodomo.fbb.msu.ru/FBB/year_20/ml/mfk/lec2/knn_ex.png)"
      ],
      "id": "e770282f"
    },
    {
      "cell_type": "markdown",
      "metadata": {
        "id": "261cd587"
      },
      "source": [
        "### Попробуем обучить классификатор k-NN"
      ],
      "id": "261cd587"
    },
    {
      "cell_type": "code",
      "metadata": {
        "id": "f299d608"
      },
      "source": [
        "import sklearn.datasets\n",
        "from sklearn.neighbors import KNeighborsClassifier"
      ],
      "id": "f299d608",
      "execution_count": null,
      "outputs": []
    },
    {
      "cell_type": "code",
      "metadata": {
        "id": "1c4b1ad0"
      },
      "source": [
        "breast_cancer = sklearn.datasets.load_breast_cancer()\n",
        "X = breast_cancer.data\n",
        "y = breast_cancer.target"
      ],
      "id": "1c4b1ad0",
      "execution_count": null,
      "outputs": []
    },
    {
      "cell_type": "code",
      "metadata": {
        "id": "098fcb41",
        "outputId": "935cd965-9ab7-4f8a-8fcf-4ee91a1d8972"
      },
      "source": [
        "knn = KNeighborsClassifier(n_neighbors=5)\n",
        "knn.fit(X, y)"
      ],
      "id": "098fcb41",
      "execution_count": null,
      "outputs": [
        {
          "data": {
            "text/plain": [
              "KNeighborsClassifier()"
            ]
          },
          "execution_count": 4,
          "metadata": {},
          "output_type": "execute_result"
        }
      ]
    },
    {
      "cell_type": "code",
      "metadata": {
        "id": "b727d7b3",
        "outputId": "3c48152a-f3df-4000-dcf1-61f8bc59dd86"
      },
      "source": [
        "knn.predict(X)[:30]"
      ],
      "id": "b727d7b3",
      "execution_count": null,
      "outputs": [
        {
          "data": {
            "text/plain": [
              "array([0, 0, 0, 1, 0, 0, 0, 0, 0, 0, 0, 0, 0, 1, 1, 0, 0, 0, 0, 1, 1, 1,\n",
              "       0, 0, 0, 0, 1, 0, 0, 0])"
            ]
          },
          "execution_count": 5,
          "metadata": {},
          "output_type": "execute_result"
        }
      ]
    },
    {
      "cell_type": "code",
      "metadata": {
        "id": "33ef2af3",
        "outputId": "544bbb45-8ac3-490e-c90a-532935513bb8"
      },
      "source": [
        "y[:30]"
      ],
      "id": "33ef2af3",
      "execution_count": null,
      "outputs": [
        {
          "data": {
            "text/plain": [
              "array([0, 0, 0, 0, 0, 0, 0, 0, 0, 0, 0, 0, 0, 0, 0, 0, 0, 0, 0, 1, 1, 1,\n",
              "       0, 0, 0, 0, 0, 0, 0, 0])"
            ]
          },
          "execution_count": 6,
          "metadata": {},
          "output_type": "execute_result"
        }
      ]
    },
    {
      "cell_type": "markdown",
      "metadata": {
        "id": "d24a45dc"
      },
      "source": [
        "Последние два вектора похожи, но хочется это как-то **измерить количественно**. Каким образом можно это сделать?"
      ],
      "id": "d24a45dc"
    },
    {
      "cell_type": "markdown",
      "metadata": {
        "id": "00cefbac"
      },
      "source": [
        "Для этого существует множество различных метрик качества. Мы вернемся к этому позднее."
      ],
      "id": "00cefbac"
    },
    {
      "cell_type": "markdown",
      "metadata": {
        "id": "723a0b77"
      },
      "source": [
        "### Плюсы и минусы k-NN"
      ],
      "id": "723a0b77"
    },
    {
      "cell_type": "markdown",
      "metadata": {
        "id": "7c970d1d"
      },
      "source": [
        "**Плюсы**:\n",
        "* Простота реализации\n",
        "* Дает хорошую интуицию о поведении почти всех моделей машинного обучения"
      ],
      "id": "7c970d1d"
    },
    {
      "cell_type": "markdown",
      "metadata": {
        "id": "aeaf53a7"
      },
      "source": [
        "**Минусы**:\n",
        "* Длительное время предсказания (особенно для больших выборок)\n",
        "* Трудность в интерпретации предсказания\n",
        "* Необходима предобработка признаков"
      ],
      "id": "aeaf53a7"
    },
    {
      "cell_type": "markdown",
      "metadata": {
        "id": "a32a53ab-27a4-4570-a912-e8b1a860c051"
      },
      "source": [
        "### Предобработка признаков"
      ],
      "id": "a32a53ab-27a4-4570-a912-e8b1a860c051"
    },
    {
      "cell_type": "markdown",
      "metadata": {
        "id": "1f3dd6a1"
      },
      "source": [
        "**Иногда признаки не сравнимы между собой** или вообще измеряются в разных величинах. Масштаб признаков непосредственно влияет на определение расстояния между объектами."
      ],
      "id": "1f3dd6a1"
    },
    {
      "cell_type": "markdown",
      "metadata": {
        "id": "886d32c6-e730-486d-a779-52a90e89b741"
      },
      "source": [
        "![scaling.png](https://kodomo.fbb.msu.ru/FBB/year_20/ml/mfk/lec2/scaling.png)"
      ],
      "id": "886d32c6-e730-486d-a779-52a90e89b741"
    },
    {
      "cell_type": "markdown",
      "metadata": {
        "id": "57e01878"
      },
      "source": [
        "### Сложность модели k-NN"
      ],
      "id": "57e01878"
    },
    {
      "cell_type": "markdown",
      "metadata": {
        "id": "35e355c2"
      },
      "source": [
        "**Что такое \"сложность\" модели?**"
      ],
      "id": "35e355c2"
    },
    {
      "cell_type": "markdown",
      "metadata": {
        "id": "be1e1cc1"
      },
      "source": [
        "Этот вопрос выглядит очень простым, но ответ на него довольно непрост.\n",
        "\n",
        "В общем смысле, под \"сложностью\" в этом курсе мы будем понимать вовсе не то, насколько сложный алгоритм лежит в основе модели, а то, **насколько большое количество информации о закономерностях в данных способна выявить модель в процессе обучения**."
      ],
      "id": "be1e1cc1"
    },
    {
      "cell_type": "markdown",
      "metadata": {
        "id": "6695f315"
      },
      "source": [
        "Количество информации, хранящейся в обученной модели, можно считать соразмерным тому, насколько точно мы можем восстановить информацию об использованных для обучения данных."
      ],
      "id": "6695f315"
    },
    {
      "cell_type": "markdown",
      "metadata": {
        "id": "cc3cb96d"
      },
      "source": [
        "Очень близкое понятие - это \"емкость\" модели (model capacity). Обычно они взаимоменяемы."
      ],
      "id": "cc3cb96d"
    },
    {
      "cell_type": "markdown",
      "metadata": {
        "id": "c38a9ea2"
      },
      "source": [
        "**Имея в виду такое определение \"сложности\", какие модели k-NN являются более сложными?**\n",
        "\n",
        "Модель сложнее при высоких k или при низких?"
      ],
      "id": "c38a9ea2"
    },
    {
      "cell_type": "markdown",
      "metadata": {
        "id": "26757f30"
      },
      "source": [
        "![knn_complexity.png](https://kodomo.fbb.msu.ru/FBB/year_20/ml/mfk/lec2/knn_complexity.png)"
      ],
      "id": "26757f30"
    },
    {
      "cell_type": "markdown",
      "metadata": {
        "id": "494c8119"
      },
      "source": [
        "Как мы видим, границы между классами по версии модели с низкими k оказываются **очень рваными** и не всегда соответствующими действительности.\n",
        "\n",
        "В то же время, при очень высоких k мы наблюдаем **чрезмерно простую границу**."
      ],
      "id": "494c8119"
    },
    {
      "cell_type": "markdown",
      "metadata": {
        "id": "bed4d02c-46d0-434f-9259-aea9e0bc3006"
      },
      "source": [
        "**Какой будет результат, если взять число соседей, равное размеру выборки?**"
      ],
      "id": "bed4d02c-46d0-434f-9259-aea9e0bc3006"
    },
    {
      "cell_type": "markdown",
      "metadata": {
        "id": "3c69a589"
      },
      "source": [
        "**Какой вывод мы можем сделать?**"
      ],
      "id": "3c69a589"
    },
    {
      "cell_type": "markdown",
      "metadata": {
        "id": "f63512dd"
      },
      "source": [
        "* Слишком простая модель не способна описать данные хорошо. Она выявляет только **очень базовые закономерности**.\n",
        "* Слишком сложная модель начинает описывать **шум, который присутствует в данных**.\n",
        "* Для адекватного предсказания нужно брать модель **и не слишком сложную, и не слишком простую**."
      ],
      "id": "f63512dd"
    },
    {
      "cell_type": "markdown",
      "metadata": {
        "id": "d19b74ec"
      },
      "source": [
        "![model_complexity.png](https://kodomo.fbb.msu.ru/FBB/year_20/ml/mfk/lec2/model_complexity.png)"
      ],
      "id": "d19b74ec"
    },
    {
      "cell_type": "markdown",
      "metadata": {
        "id": "0faf12b1"
      },
      "source": [
        "## Недообучение и переобучение"
      ],
      "id": "0faf12b1"
    },
    {
      "cell_type": "markdown",
      "metadata": {
        "id": "bf94ed92"
      },
      "source": [
        "Как мы заметили, при усложнении модели ее **описание входных данных становится более и более точным, в какой-то момент становясь неадекватно точным**. Так происходит не только с моделью k-NN. Давайте рассмотрим пример аппрокисмации полиномом (полиномиальная регрессия):"
      ],
      "id": "bf94ed92"
    },
    {
      "cell_type": "markdown",
      "metadata": {
        "id": "69eccdb6"
      },
      "source": [
        "![overfitting.png](https://kodomo.fbb.msu.ru/FBB/year_20/ml/mfk/lec2/overfitting.png)"
      ],
      "id": "69eccdb6"
    },
    {
      "cell_type": "markdown",
      "metadata": {
        "id": "de6e4fe9"
      },
      "source": [
        "Как мы видим, при степени k = 1 модель недостаточно сложна, чтобы уловить зависимости в данных, а при степени k = 17 модель описывает все: и шум, и данные, и поэтому хуже описывает исходную функцию.\n",
        "\n",
        "Эти явления называют **недообучением** и **переобучением** модели."
      ],
      "id": "de6e4fe9"
    },
    {
      "cell_type": "markdown",
      "metadata": {
        "id": "18a83e8a"
      },
      "source": [
        "**Недообучение модели** возникает, когда модели не хватает сложности для того, чтобы выучить взаимосвязь, лежащую в основе данных."
      ],
      "id": "18a83e8a"
    },
    {
      "cell_type": "markdown",
      "metadata": {
        "id": "39c3b087"
      },
      "source": [
        "**Переобучение модели** возникает, когда модель хорошо описывает не только сами данные, но и шум в этих данных."
      ],
      "id": "39c3b087"
    },
    {
      "cell_type": "markdown",
      "metadata": {
        "id": "89eb394b"
      },
      "source": [
        "Предположим, что мы можем количественно измерять качество предсказаний модели k-NN. Давайте оценим, насколько хорошо полученная модель опишет те же данные, которые использовались для ее обучения.\n",
        "\n",
        "**Как вы думаете, для какого k качество было бы наилучшим?**"
      ],
      "id": "89eb394b"
    },
    {
      "cell_type": "markdown",
      "metadata": {
        "id": "b401fb06"
      },
      "source": [
        "Для k = 1. Это так, потому что при предсказании используется **точка, наиболее близкая к определяемой**, то есть **она сама**. Очевидно, предсказываемый класс будет всегда совпадать."
      ],
      "id": "b401fb06"
    },
    {
      "cell_type": "markdown",
      "metadata": {
        "id": "f50d43d7"
      },
      "source": [
        "![knn_k1.png](https://kodomo.fbb.msu.ru/FBB/year_20/ml/mfk/lec2/knn_k1.png)"
      ],
      "id": "f50d43d7"
    },
    {
      "cell_type": "markdown",
      "metadata": {
        "id": "87ae8f4c"
      },
      "source": [
        "![knn_quality.png](https://kodomo.fbb.msu.ru/FBB/year_20/ml/mfk/lec2/knn_quality.png)"
      ],
      "id": "87ae8f4c"
    },
    {
      "cell_type": "markdown",
      "metadata": {
        "id": "9fdc59d7"
      },
      "source": [
        "Это как раз тот случай \"идеального подгона\" - мы подогнали нашу модель так, что она идеально описывает входные данные. Но задача машинного обучения вовсе не в этом..."
      ],
      "id": "9fdc59d7"
    },
    {
      "cell_type": "markdown",
      "metadata": {
        "id": "w0Mkim2-sYH7"
      },
      "source": [
        "...ведь тогда непобедимым бейзлайном является обычный словарь :^)"
      ],
      "id": "w0Mkim2-sYH7"
    },
    {
      "cell_type": "markdown",
      "metadata": {
        "id": "86561f71"
      },
      "source": [
        "### Задача обучения с учителем\n",
        "\n",
        "Задача машинного обучения - создать такую модель, которая будет **хорошо описывать новые данные**, которые модель не \"видела\"."
      ],
      "id": "86561f71"
    },
    {
      "cell_type": "markdown",
      "metadata": {
        "id": "a2b9b95d"
      },
      "source": [
        "**Как вы думаете, каким способом нужно оценивать качество модели?**"
      ],
      "id": "a2b9b95d"
    },
    {
      "cell_type": "markdown",
      "metadata": {
        "id": "8ae6ba1d"
      },
      "source": [
        "Классический способ: **до обучения модели выборка разбивается на 2 части**: одна из них называется **тренировочной** (train), а другая - **тестовой** (test)."
      ],
      "id": "8ae6ba1d"
    },
    {
      "cell_type": "markdown",
      "metadata": {
        "id": "d90945a1"
      },
      "source": [
        "**В какой пропорции разбивают на train/test?**"
      ],
      "id": "d90945a1"
    },
    {
      "cell_type": "markdown",
      "metadata": {
        "id": "a3e3d81f"
      },
      "source": [
        "На самом деле, это достаточно творческий вопрос, и ответ на него в первую очередь **зависит от объема и природы ваших данных**. Иногда для теста достаточно 1% информации, а иногда нужно положить туда добрую половину."
      ],
      "id": "a3e3d81f"
    },
    {
      "cell_type": "markdown",
      "metadata": {
        "id": "92c5b382"
      },
      "source": [
        "Обычно берут **70-80% для обучения** и **20-30% для теста** модели, но это не жесткое правило."
      ],
      "id": "92c5b382"
    },
    {
      "cell_type": "markdown",
      "metadata": {
        "id": "28bba7ff"
      },
      "source": [
        "![train-test.png](https://kodomo.fbb.msu.ru/FBB/year_20/ml/mfk/lec2/train-test.png)"
      ],
      "id": "28bba7ff"
    },
    {
      "cell_type": "markdown",
      "metadata": {
        "id": "b983ee41-fdbd-4612-9316-6ebad7d73d16"
      },
      "source": [
        "#### Зависимость качества от сложности модели"
      ],
      "id": "b983ee41-fdbd-4612-9316-6ebad7d73d16"
    },
    {
      "cell_type": "markdown",
      "metadata": {
        "id": "3ba7d2d4"
      },
      "source": [
        "Если оценим качество модели k-NN в зависимости от числа соседей k на train и test, то получим такую картину:"
      ],
      "id": "3ba7d2d4"
    },
    {
      "cell_type": "markdown",
      "metadata": {
        "id": "7cbddca5"
      },
      "source": [
        "![knn_quality_test.png](https://kodomo.fbb.msu.ru/FBB/year_20/ml/mfk/lec2/knn_quality_test.png)"
      ],
      "id": "7cbddca5"
    },
    {
      "cell_type": "markdown",
      "metadata": {
        "id": "205c955f"
      },
      "source": [
        "Как мы видим, при k $\\approx$ 30 качество на test перестает расти с увеличением сложности модели. При дальнейшем увеличении сложности качество на test падает."
      ],
      "id": "205c955f"
    },
    {
      "cell_type": "markdown",
      "metadata": {
        "id": "77590ea2"
      },
      "source": [
        "Когда с увеличением сложности модели вы наблюдаете **увеличение качества модели на train** и **уменьшение качества на test**, происходит переобучение.\n",
        "\n",
        "![knn_quality_test.png](https://kodomo.fbb.msu.ru/FBB/year_20/ml/mfk/lec2/knn_quality_test.png)"
      ],
      "id": "77590ea2"
    },
    {
      "cell_type": "markdown",
      "metadata": {
        "id": "9b70c504-c29c-499c-bd81-9014f37f6e2a"
      },
      "source": [
        "#### Зависимость качества от соотношения train/test"
      ],
      "id": "9b70c504-c29c-499c-bd81-9014f37f6e2a"
    },
    {
      "cell_type": "markdown",
      "metadata": {
        "id": "Y1wATlU8vpTX"
      },
      "source": [
        "Качество также зависит от соотношения train/test."
      ],
      "id": "Y1wATlU8vpTX"
    },
    {
      "cell_type": "markdown",
      "metadata": {
        "id": "bb6c0570-1d5e-489c-bb5f-beb2129979e2"
      },
      "source": [
        "![train-test-split.png](https://kodomo.fbb.msu.ru/FBB/year_20/ml/mfk/lec2/train-test-split.png)"
      ],
      "id": "bb6c0570-1d5e-489c-bb5f-beb2129979e2"
    },
    {
      "cell_type": "markdown",
      "metadata": {
        "id": "b41404ff"
      },
      "source": [
        "Для того чтобы посмотреть, как это все работает, нужно познакомиться с разными **метриками качества**."
      ],
      "id": "b41404ff"
    },
    {
      "cell_type": "markdown",
      "metadata": {
        "id": "86bf01b6"
      },
      "source": [
        "## Оценка качества модели в задаче классификации"
      ],
      "id": "86bf01b6"
    },
    {
      "cell_type": "markdown",
      "metadata": {
        "id": "87cca948"
      },
      "source": [
        "Хорошо бы иметь возможность количественно **оценить, насколько хорошо обученная модель описывает данные**. Для этого используют несколько разных метрик качества."
      ],
      "id": "87cca948"
    },
    {
      "cell_type": "markdown",
      "metadata": {
        "id": "505e6ba0"
      },
      "source": [
        "Для разных задач обучения с учителем (supervised) используются различные метрики. Мы разберем, какие метрики используются для задачи классификации и задачи регрессии."
      ],
      "id": "505e6ba0"
    },
    {
      "cell_type": "markdown",
      "metadata": {
        "id": "27ba3f66"
      },
      "source": [
        "Для каждой метрики мы попытаемся сформулировать т.н. **baseline** - качество, которое достигается либо случайным предсказателем, либо очень простой моделью."
      ],
      "id": "27ba3f66"
    },
    {
      "cell_type": "markdown",
      "metadata": {
        "id": "63b34fe3"
      },
      "source": [
        "Перед тем, как пытаться оценить качество модели классификации, мы:\n",
        "1. Составим тренировочную и тестовую выборки.\n",
        "2. Обучим модель на тренировочной выборке.\n",
        "3. Получим вектор предсказаний модели для тестовой выборки."
      ],
      "id": "63b34fe3"
    },
    {
      "cell_type": "markdown",
      "metadata": {
        "id": "c40b60e4"
      },
      "source": [
        "**Разбиение на train/test**"
      ],
      "id": "c40b60e4"
    },
    {
      "cell_type": "code",
      "metadata": {
        "id": "dc65e231"
      },
      "source": [
        "from sklearn.model_selection import train_test_split"
      ],
      "id": "dc65e231",
      "execution_count": null,
      "outputs": []
    },
    {
      "cell_type": "code",
      "metadata": {
        "id": "32f3a2e4"
      },
      "source": [
        "breast_cancer = sklearn.datasets.load_breast_cancer()\n",
        "X = breast_cancer.data\n",
        "y = breast_cancer.target\n",
        "\n",
        "X_train, X_test, y_train, y_test = train_test_split(X, y, test_size=0.3, \n",
        "                                                    random_state=777)"
      ],
      "id": "32f3a2e4",
      "execution_count": null,
      "outputs": []
    },
    {
      "cell_type": "code",
      "metadata": {
        "id": "06e7f453",
        "outputId": "ade59504-157f-4808-9c6a-91817ac5f088"
      },
      "source": [
        "print(f\"Train size = {y_train.shape}\")\n",
        "print(f\"Test size = {y_test.shape}\")"
      ],
      "id": "06e7f453",
      "execution_count": null,
      "outputs": [
        {
          "name": "stdout",
          "output_type": "stream",
          "text": [
            "Train size = (398,)\n",
            "Test size = (171,)\n"
          ]
        }
      ]
    },
    {
      "cell_type": "markdown",
      "metadata": {
        "id": "54eb6eac"
      },
      "source": [
        "**Обучение модели на train**"
      ],
      "id": "54eb6eac"
    },
    {
      "cell_type": "code",
      "metadata": {
        "id": "3527fb90"
      },
      "source": [
        "from sklearn.neighbors import KNeighborsClassifier"
      ],
      "id": "3527fb90",
      "execution_count": null,
      "outputs": []
    },
    {
      "cell_type": "code",
      "metadata": {
        "id": "748d1861",
        "outputId": "d3c0fd46-674e-435d-e766-44bf03d77893"
      },
      "source": [
        "knn = KNeighborsClassifier(n_neighbors=35)\n",
        "knn.fit(X_train, y_train)"
      ],
      "id": "748d1861",
      "execution_count": null,
      "outputs": [
        {
          "data": {
            "text/plain": [
              "KNeighborsClassifier(n_neighbors=35)"
            ]
          },
          "execution_count": 11,
          "metadata": {},
          "output_type": "execute_result"
        }
      ]
    },
    {
      "cell_type": "markdown",
      "metadata": {
        "id": "e8bc381f"
      },
      "source": [
        "**Получение предсказаний для test**"
      ],
      "id": "e8bc381f"
    },
    {
      "cell_type": "code",
      "metadata": {
        "id": "63f41473"
      },
      "source": [
        "y_test_pred = knn.predict(X_test)"
      ],
      "id": "63f41473",
      "execution_count": null,
      "outputs": []
    },
    {
      "cell_type": "markdown",
      "metadata": {
        "id": "9db935ed"
      },
      "source": [
        "**Получение предсказаний для train**\n",
        "\n",
        "(в педагогических целях)"
      ],
      "id": "9db935ed"
    },
    {
      "cell_type": "code",
      "metadata": {
        "id": "fff0686e"
      },
      "source": [
        "y_train_pred = knn.predict(X_train)"
      ],
      "id": "fff0686e",
      "execution_count": null,
      "outputs": []
    },
    {
      "cell_type": "markdown",
      "metadata": {
        "id": "66095250"
      },
      "source": [
        "### Метрика Accuracy (точность v1.0)"
      ],
      "id": "66095250"
    },
    {
      "cell_type": "markdown",
      "metadata": {
        "id": "e9783acb"
      },
      "source": [
        "*Однажды Сталин беседовал с метеорологами. Он сам в юности работал наблюдателем-метеорологом в Тифлисской физической обсерватории.*\n",
        "\n",
        "*— Какая у вас точность прогнозов? — спросил Сталин.*\n",
        "\n",
        "*— Сорок процентов, товарищ Сталин, — сокрушённо ответили метеорологи. — Современными приборами трудно достичь большей точности.*\n",
        "\n",
        "*— А вы говорите наоборот, — предложил Сталин, — и тогда у вас будет шестьдесят процентов!*"
      ],
      "id": "e9783acb"
    },
    {
      "cell_type": "markdown",
      "metadata": {
        "id": "129771b1"
      },
      "source": [
        "**Accuracy** (точность) - метрика качества, равная доле правильно классифицированных образцов."
      ],
      "id": "129771b1"
    },
    {
      "cell_type": "markdown",
      "metadata": {
        "id": "c1aae814"
      },
      "source": [
        "$$accuracy = \\dfrac{N_{correct}}{N}$$"
      ],
      "id": "c1aae814"
    },
    {
      "cell_type": "code",
      "metadata": {
        "id": "806045c0"
      },
      "source": [
        "from sklearn.metrics import accuracy_score"
      ],
      "id": "806045c0",
      "execution_count": null,
      "outputs": []
    },
    {
      "cell_type": "markdown",
      "metadata": {
        "id": "80207fe6"
      },
      "source": [
        "Качество на train:"
      ],
      "id": "80207fe6"
    },
    {
      "cell_type": "code",
      "metadata": {
        "id": "eedf35ed",
        "outputId": "66892bdf-04de-416f-b01c-94b66921fbf8"
      },
      "source": [
        "accuracy_score(y_true=y_train, y_pred=y_train_pred)"
      ],
      "id": "eedf35ed",
      "execution_count": null,
      "outputs": [
        {
          "data": {
            "text/plain": [
              "0.9221105527638191"
            ]
          },
          "execution_count": 15,
          "metadata": {},
          "output_type": "execute_result"
        }
      ]
    },
    {
      "cell_type": "markdown",
      "metadata": {
        "id": "c172c19b"
      },
      "source": [
        "Качество на test:"
      ],
      "id": "c172c19b"
    },
    {
      "cell_type": "code",
      "metadata": {
        "id": "af530b39",
        "outputId": "662fe3e0-00de-4853-ade8-fedd16541b24"
      },
      "source": [
        "accuracy_score(y_true=y_test, y_pred=y_test_pred)"
      ],
      "id": "af530b39",
      "execution_count": null,
      "outputs": [
        {
          "data": {
            "text/plain": [
              "0.9181286549707602"
            ]
          },
          "execution_count": 16,
          "metadata": {},
          "output_type": "execute_result"
        }
      ]
    },
    {
      "cell_type": "markdown",
      "metadata": {
        "id": "448690ce"
      },
      "source": [
        "Как мы видим, **качество на train выше, чем качество на test**."
      ],
      "id": "448690ce"
    },
    {
      "cell_type": "markdown",
      "metadata": {
        "id": "0a8e1205"
      },
      "source": [
        "Метрика accuracy **очень простая** и ее можно посчитать **для любого числа классов** (дальше мы будем рассматривать метрики для *бинарной* классификации)."
      ],
      "id": "0a8e1205"
    },
    {
      "cell_type": "markdown",
      "metadata": {
        "id": "79da881a"
      },
      "source": [
        "Однако в ее простоте заключается ее большой недостаток: accuracy не способна показать, в объектах какого класса мы ошибаемся чаще."
      ],
      "id": "79da881a"
    },
    {
      "cell_type": "code",
      "metadata": {
        "id": "9f7ff14a",
        "outputId": "d6d304c9-8e3b-4ecb-8fc7-cc5dbb8ae9bd"
      },
      "source": [
        "import numpy as np\n",
        "\n",
        "dummy_y = np.zeros(1000)\n",
        "dummy_y[:50] = 1\n",
        "dummy_y_pred = np.zeros(1000)\n",
        "dummy_y_pred[0] = 1\n",
        "\n",
        "accuracy_score(y_true=dummy_y, y_pred=dummy_y_pred)"
      ],
      "id": "9f7ff14a",
      "execution_count": null,
      "outputs": [
        {
          "data": {
            "text/plain": [
              "0.951"
            ]
          },
          "execution_count": 17,
          "metadata": {},
          "output_type": "execute_result"
        }
      ]
    },
    {
      "cell_type": "markdown",
      "metadata": {
        "id": "ee16e3fd"
      },
      "source": [
        "Классификатор предсказывает нули почти вседа. По сути он бесполезен, но его метрика accuracy высокая."
      ],
      "id": "ee16e3fd"
    },
    {
      "cell_type": "markdown",
      "metadata": {
        "id": "bB7gc34OyCMe"
      },
      "source": [
        "В scikit-learn есть т.н. Dummy-классификаторы, которыми удобно пользоваться для оценки качества бейзлайна."
      ],
      "id": "bB7gc34OyCMe"
    },
    {
      "cell_type": "markdown",
      "metadata": {
        "id": "22a936bc"
      },
      "source": [
        "Следовательно, **baseline для метрики accuracy - это наибольшая из долей классов**.\n",
        "\n",
        "Например, если класса 3, и их доли равны 20%, 30% и 50%, то baseline = 0.5."
      ],
      "id": "22a936bc"
    },
    {
      "cell_type": "markdown",
      "metadata": {
        "id": "976aab4b"
      },
      "source": [
        "**Почему так?**"
      ],
      "id": "976aab4b"
    },
    {
      "cell_type": "markdown",
      "metadata": {
        "id": "a92a01ba"
      },
      "source": [
        "Модель, которая независимо от входных данных предсказывает наибольший класс (фактически предсказывая среднее) будет иметь такое качество."
      ],
      "id": "a92a01ba"
    },
    {
      "cell_type": "markdown",
      "metadata": {
        "id": "382a7fd6"
      },
      "source": [
        "### Метрики качества бинарной классификации"
      ],
      "id": "382a7fd6"
    },
    {
      "cell_type": "markdown",
      "metadata": {
        "id": "e70b6a60"
      },
      "source": [
        "При бинарной классификации обычно **выделяют \"положительный\"** (positive) **и \"отрицательный\"** (negative) **классы**."
      ],
      "id": "e70b6a60"
    },
    {
      "cell_type": "markdown",
      "metadata": {
        "id": "b013aba8"
      },
      "source": [
        "![tp_fp_tn_fn.png](https://kodomo.fbb.msu.ru/FBB/year_20/ml/mfk/lec2/tp_fp_tn_fn.png)\n",
        "\n",
        "*Источник: [Wikipedia Commons](https://en.wikipedia.org/wiki/Sensitivity_and_specificity#/media/File:Sensitivity_and_specificity_1.01.svg)*"
      ],
      "id": "b013aba8"
    },
    {
      "cell_type": "markdown",
      "metadata": {
        "id": "1e999214"
      },
      "source": [
        "**TP, FP, TN и FN** - это количества образцов в каждой из групп."
      ],
      "id": "1e999214"
    },
    {
      "cell_type": "code",
      "metadata": {
        "id": "a377cc1c"
      },
      "source": [
        "from sklearn.metrics import confusion_matrix"
      ],
      "id": "a377cc1c",
      "execution_count": null,
      "outputs": []
    },
    {
      "cell_type": "code",
      "metadata": {
        "id": "c5e6377e",
        "outputId": "2a7361bc-c9e1-4ee1-a332-28a9aafa5f73"
      },
      "source": [
        "confusion_matrix(y_true=y_test, y_pred=y_test_pred)"
      ],
      "id": "c5e6377e",
      "execution_count": null,
      "outputs": [
        {
          "data": {
            "text/plain": [
              "array([[ 44,  13],\n",
              "       [  1, 113]], dtype=int64)"
            ]
          },
          "execution_count": 19,
          "metadata": {},
          "output_type": "execute_result"
        }
      ]
    },
    {
      "cell_type": "code",
      "metadata": {
        "id": "9a048c20"
      },
      "source": [
        "from sklearn.metrics import plot_confusion_matrix"
      ],
      "id": "9a048c20",
      "execution_count": null,
      "outputs": []
    },
    {
      "cell_type": "code",
      "metadata": {
        "id": "e4773840",
        "outputId": "671f54fd-f830-4a62-c7e5-d2d4e27409af"
      },
      "source": [
        "plot_confusion_matrix(estimator=knn, X=X_test, y_true=y_test)"
      ],
      "id": "e4773840",
      "execution_count": null,
      "outputs": [
        {
          "data": {
            "text/plain": [
              "<sklearn.metrics._plot.confusion_matrix.ConfusionMatrixDisplay at 0x1a1d30cfe08>"
            ]
          },
          "execution_count": 21,
          "metadata": {},
          "output_type": "execute_result"
        },
        {
          "data": {
            "image/png": "[encoded data removed]",
            "text/plain": [
              "<Figure size 432x288 with 2 Axes>"
            ]
          },
          "metadata": {},
          "output_type": "display_data"
        }
      ]
    },
    {
      "cell_type": "markdown",
      "metadata": {
        "id": "df6dfcf3"
      },
      "source": [
        "Сами по себе TP, FP, TN, FN говорят не очень многое, но **они могут быть использованы в комбинации**, и из них получают множество других метрик."
      ],
      "id": "df6dfcf3"
    },
    {
      "cell_type": "markdown",
      "metadata": {
        "id": "70b4b262"
      },
      "source": [
        "### Метрика precision (точность v2.0)"
      ],
      "id": "70b4b262"
    },
    {
      "cell_type": "markdown",
      "metadata": {
        "id": "3345f239"
      },
      "source": [
        "Да, по-русски она тоже называется \"точность\". Эта метрика отражает, **сколько положительных предсказаний были правильными**."
      ],
      "id": "3345f239"
    },
    {
      "cell_type": "markdown",
      "metadata": {
        "id": "03199bea"
      },
      "source": [
        "$$precision = \\dfrac{TP}{TP + FP}$$"
      ],
      "id": "03199bea"
    },
    {
      "cell_type": "code",
      "metadata": {
        "id": "6a7a389c"
      },
      "source": [
        "from sklearn.metrics import precision_score"
      ],
      "id": "6a7a389c",
      "execution_count": null,
      "outputs": []
    },
    {
      "cell_type": "code",
      "metadata": {
        "id": "fc567ed4",
        "outputId": "cd42fd39-ea81-4b8f-bb12-208485933048"
      },
      "source": [
        "precision_score(y_true=y_train, y_pred=y_train_pred)"
      ],
      "id": "fc567ed4",
      "execution_count": null,
      "outputs": [
        {
          "data": {
            "text/plain": [
              "0.9108527131782945"
            ]
          },
          "execution_count": 23,
          "metadata": {},
          "output_type": "execute_result"
        }
      ]
    },
    {
      "cell_type": "code",
      "metadata": {
        "id": "6d6abdff",
        "outputId": "023df387-4378-4c76-fb87-55fb88d4dafb"
      },
      "source": [
        "precision_score(y_true=y_test, y_pred=y_test_pred)"
      ],
      "id": "6d6abdff",
      "execution_count": null,
      "outputs": [
        {
          "data": {
            "text/plain": [
              "0.8968253968253969"
            ]
          },
          "execution_count": 24,
          "metadata": {},
          "output_type": "execute_result"
        }
      ]
    },
    {
      "cell_type": "markdown",
      "metadata": {
        "id": "49fb27e9"
      },
      "source": [
        "Если положительный класс предсказывается очень редко, то метрика становится неинформативна."
      ],
      "id": "49fb27e9"
    },
    {
      "cell_type": "code",
      "metadata": {
        "id": "e083e882",
        "outputId": "2ad116b2-e7bd-4d90-c296-e64fc0e7b557"
      },
      "source": [
        "import numpy as np\n",
        "\n",
        "dummy_y = np.zeros(1000)\n",
        "dummy_y[:50] = 1\n",
        "dummy_y_pred = np.zeros(1000)\n",
        "dummy_y_pred[0] = 1\n",
        "\n",
        "precision_score(y_true=dummy_y, y_pred=dummy_y_pred)"
      ],
      "id": "e083e882",
      "execution_count": null,
      "outputs": [
        {
          "data": {
            "text/plain": [
              "1.0"
            ]
          },
          "execution_count": 25,
          "metadata": {},
          "output_type": "execute_result"
        }
      ]
    },
    {
      "cell_type": "markdown",
      "metadata": {
        "id": "2e1fb27a"
      },
      "source": [
        "### Метрика recall (sensitivity, чувствительность)"
      ],
      "id": "2e1fb27a"
    },
    {
      "cell_type": "markdown",
      "metadata": {
        "id": "4f215cfc"
      },
      "source": [
        "Эта метрика показывает, **сколько положительных образцов были определены правильно**."
      ],
      "id": "4f215cfc"
    },
    {
      "cell_type": "markdown",
      "metadata": {
        "id": "486bc249"
      },
      "source": [
        "$$recall = \\dfrac{TP}{TP + FN}$$"
      ],
      "id": "486bc249"
    },
    {
      "cell_type": "code",
      "metadata": {
        "id": "89be02ff"
      },
      "source": [
        "from sklearn.metrics import recall_score"
      ],
      "id": "89be02ff",
      "execution_count": null,
      "outputs": []
    },
    {
      "cell_type": "code",
      "metadata": {
        "id": "bef9f466",
        "outputId": "6dee019f-b4e7-4fd2-bc83-33922e19b819"
      },
      "source": [
        "recall_score(y_true=y_train, y_pred=y_train_pred)"
      ],
      "id": "bef9f466",
      "execution_count": null,
      "outputs": [
        {
          "data": {
            "text/plain": [
              "0.9670781893004116"
            ]
          },
          "execution_count": 27,
          "metadata": {},
          "output_type": "execute_result"
        }
      ]
    },
    {
      "cell_type": "code",
      "metadata": {
        "id": "9c8773f2",
        "outputId": "fcb86873-7d8b-4ba3-e662-f4a410cf78d4"
      },
      "source": [
        "recall_score(y_true=y_test, y_pred=y_test_pred)"
      ],
      "id": "9c8773f2",
      "execution_count": null,
      "outputs": [
        {
          "data": {
            "text/plain": [
              "0.9912280701754386"
            ]
          },
          "execution_count": 28,
          "metadata": {},
          "output_type": "execute_result"
        }
      ]
    },
    {
      "cell_type": "markdown",
      "metadata": {
        "id": "78c6c426"
      },
      "source": [
        "Если положительный класс предсказывается очень редко, то метрика это хорошо иллюстрирует."
      ],
      "id": "78c6c426"
    },
    {
      "cell_type": "code",
      "metadata": {
        "id": "f40bf716",
        "outputId": "a53ba783-3f8f-4f27-dda1-b3a99a8828ea"
      },
      "source": [
        "import numpy as np\n",
        "\n",
        "dummy_y = np.zeros(1000)\n",
        "dummy_y[:50] = 1\n",
        "dummy_y_pred = np.zeros(1000)\n",
        "dummy_y_pred[0] = 1\n",
        "\n",
        "recall_score(y_true=dummy_y, y_pred=dummy_y_pred)"
      ],
      "id": "f40bf716",
      "execution_count": null,
      "outputs": [
        {
          "data": {
            "text/plain": [
              "0.02"
            ]
          },
          "execution_count": 29,
          "metadata": {},
          "output_type": "execute_result"
        }
      ]
    },
    {
      "cell_type": "markdown",
      "metadata": {
        "id": "c7213c40"
      },
      "source": [
        "...зато наоборот - плохо."
      ],
      "id": "c7213c40"
    },
    {
      "cell_type": "code",
      "metadata": {
        "id": "767da53b",
        "outputId": "4ed7f453-ca1a-4962-a6ed-2fc743ea2faa"
      },
      "source": [
        "import numpy as np\n",
        "\n",
        "dummy_y = np.zeros(1000)\n",
        "dummy_y[:50] = 1\n",
        "dummy_y_pred = np.ones(1000)  # now all predictions are = 1\n",
        "dummy_y_pred[0] = 0\n",
        "\n",
        "recall_score(y_true=dummy_y, y_pred=dummy_y_pred)"
      ],
      "id": "767da53b",
      "execution_count": null,
      "outputs": [
        {
          "data": {
            "text/plain": [
              "0.98"
            ]
          },
          "execution_count": 30,
          "metadata": {},
          "output_type": "execute_result"
        }
      ]
    },
    {
      "cell_type": "markdown",
      "metadata": {
        "id": "bd6071eb"
      },
      "source": [
        "### Метрика specificity (специфичность)"
      ],
      "id": "bd6071eb"
    },
    {
      "cell_type": "markdown",
      "metadata": {
        "id": "ffbe1956"
      },
      "source": [
        "Эта метрика показывает, **сколько отрицательных образцов были определены правильно**."
      ],
      "id": "ffbe1956"
    },
    {
      "cell_type": "markdown",
      "metadata": {
        "id": "1c965bc5"
      },
      "source": [
        "$$specificity = \\dfrac{TN}{TN + FP}$$"
      ],
      "id": "1c965bc5"
    },
    {
      "cell_type": "markdown",
      "metadata": {
        "id": "2066b7ad"
      },
      "source": [
        "Фактически это **recall для негативного класса**."
      ],
      "id": "2066b7ad"
    },
    {
      "cell_type": "code",
      "metadata": {
        "id": "8e05cf55",
        "outputId": "3fc5115c-a3b4-4452-dcaa-591617515019"
      },
      "source": [
        "from sklearn.metrics import specificity_score"
      ],
      "id": "8e05cf55",
      "execution_count": null,
      "outputs": [
        {
          "ename": "ImportError",
          "evalue": "cannot import name 'specificity_score' from 'sklearn.metrics' (C:\\Users\\arsen_z\\Anaconda3\\lib\\site-packages\\sklearn\\metrics\\__init__.py)",
          "output_type": "error",
          "traceback": [
            "\u001b[1;31m---------------------------------------------------------------------------\u001b[0m",
            "\u001b[1;31mImportError\u001b[0m                               Traceback (most recent call last)",
            "\u001b[1;32m<ipython-input-31-c9b5e9266fa3>\u001b[0m in \u001b[0;36m<module>\u001b[1;34m\u001b[0m\n\u001b[1;32m----> 1\u001b[1;33m \u001b[1;32mfrom\u001b[0m \u001b[0msklearn\u001b[0m\u001b[1;33m.\u001b[0m\u001b[0mmetrics\u001b[0m \u001b[1;32mimport\u001b[0m \u001b[0mspecificity_score\u001b[0m\u001b[1;33m\u001b[0m\u001b[1;33m\u001b[0m\u001b[0m\n\u001b[0m",
            "\u001b[1;31mImportError\u001b[0m: cannot import name 'specificity_score' from 'sklearn.metrics' (C:\\Users\\arsen_z\\Anaconda3\\lib\\site-packages\\sklearn\\metrics\\__init__.py)"
          ]
        }
      ]
    },
    {
      "cell_type": "markdown",
      "metadata": {
        "id": "7dd879a0"
      },
      "source": [
        "В scikit-learn нет функции для расчета этой метрики."
      ],
      "id": "7dd879a0"
    },
    {
      "cell_type": "markdown",
      "metadata": {
        "id": "c178f00e"
      },
      "source": [
        "Как мы видим, перечисленные метрики (precision, recall, specificity) пользуются только частью матрицы ошибок. Следующие метрики пытаются исправить этот недостаток."
      ],
      "id": "c178f00e"
    },
    {
      "cell_type": "markdown",
      "metadata": {
        "id": "d098174f"
      },
      "source": [
        "### F1-score"
      ],
      "id": "d098174f"
    },
    {
      "cell_type": "markdown",
      "metadata": {
        "id": "2ecf8739"
      },
      "source": [
        "Метрика F1 - это **среднее гармоническое precision и recall**."
      ],
      "id": "2ecf8739"
    },
    {
      "cell_type": "markdown",
      "metadata": {
        "id": "1125d7ed"
      },
      "source": [
        "$$F1 = \\dfrac{2}{\\dfrac{1}{recall} + \\dfrac{1}{precision}}$$"
      ],
      "id": "1125d7ed"
    },
    {
      "cell_type": "code",
      "metadata": {
        "id": "6e963fb0"
      },
      "source": [
        "from sklearn.metrics import f1_score"
      ],
      "id": "6e963fb0",
      "execution_count": null,
      "outputs": []
    },
    {
      "cell_type": "code",
      "metadata": {
        "id": "c3eec1ad",
        "outputId": "e783e506-bccf-43cd-8979-0ed1dd0549b2"
      },
      "source": [
        "f1_score(y_true=y_train, y_pred=y_train_pred)"
      ],
      "id": "c3eec1ad",
      "execution_count": null,
      "outputs": [
        {
          "data": {
            "text/plain": [
              "0.93812375249501"
            ]
          },
          "execution_count": 33,
          "metadata": {},
          "output_type": "execute_result"
        }
      ]
    },
    {
      "cell_type": "code",
      "metadata": {
        "id": "acf2a359",
        "outputId": "0c6a5f2d-4f61-4d7d-8a0c-1c8b5f0d6782"
      },
      "source": [
        "f1_score(y_true=y_test, y_pred=y_test_pred)"
      ],
      "id": "acf2a359",
      "execution_count": null,
      "outputs": [
        {
          "data": {
            "text/plain": [
              "0.9416666666666667"
            ]
          },
          "execution_count": 34,
          "metadata": {},
          "output_type": "execute_result"
        }
      ]
    },
    {
      "cell_type": "markdown",
      "metadata": {
        "id": "3c3147a3"
      },
      "source": [
        "В обоих вырожденных случаях предсказания F1 ловит проблему (дает низкое качество)."
      ],
      "id": "3c3147a3"
    },
    {
      "cell_type": "code",
      "metadata": {
        "id": "5ae43757",
        "outputId": "3269ebe8-e495-4475-bc83-ac028b391c58"
      },
      "source": [
        "import numpy as np\n",
        "\n",
        "dummy_y = np.zeros(1000)\n",
        "dummy_y[:50] = 1\n",
        "dummy_y_pred = np.zeros(1000)\n",
        "dummy_y_pred[0] = 1\n",
        "\n",
        "f1_score(y_true=dummy_y, y_pred=dummy_y_pred)"
      ],
      "id": "5ae43757",
      "execution_count": null,
      "outputs": [
        {
          "data": {
            "text/plain": [
              "0.0392156862745098"
            ]
          },
          "execution_count": 35,
          "metadata": {},
          "output_type": "execute_result"
        }
      ]
    },
    {
      "cell_type": "code",
      "metadata": {
        "id": "cc720d2b",
        "outputId": "4b72bbfa-45b1-4a12-9585-5d4621fa9bac"
      },
      "source": [
        "import numpy as np\n",
        "\n",
        "dummy_y = np.zeros(1000)\n",
        "dummy_y[:50] = 1\n",
        "dummy_y_pred = np.ones(1000)  # now all predictions are = 1\n",
        "dummy_y_pred[0] = 0\n",
        "\n",
        "f1_score(y_true=dummy_y, y_pred=dummy_y_pred)"
      ],
      "id": "cc720d2b",
      "execution_count": null,
      "outputs": [
        {
          "data": {
            "text/plain": [
              "0.09342230695900858"
            ]
          },
          "execution_count": 36,
          "metadata": {},
          "output_type": "execute_result"
        }
      ]
    },
    {
      "cell_type": "markdown",
      "metadata": {
        "id": "ed95fc45"
      },
      "source": [
        "### Метрика MCC (корреляция Мэтьюса)"
      ],
      "id": "ed95fc45"
    },
    {
      "cell_type": "markdown",
      "metadata": {
        "id": "a83d55ed"
      },
      "source": [
        "Метрика MCC (Matthews correlation coefficient) - это **коэффициент корреляции для бинарных величин**."
      ],
      "id": "a83d55ed"
    },
    {
      "cell_type": "markdown",
      "metadata": {
        "id": "a26db5d7"
      },
      "source": [
        "В начале 2020 года вышла [статья](https://bmcgenomics.biomedcentral.com/articles/10.1186/s12864-019-6413-7), где предлагается использовать для оценки качества классификатора корреляцию Мэтьюса.\n",
        "\n",
        "Авторы утверждают, что она работает лучше, чем  F1-score."
      ],
      "id": "a26db5d7"
    },
    {
      "cell_type": "code",
      "metadata": {
        "id": "a97c5bc1"
      },
      "source": [
        "from sklearn.metrics import matthews_corrcoef"
      ],
      "id": "a97c5bc1",
      "execution_count": null,
      "outputs": []
    },
    {
      "cell_type": "code",
      "metadata": {
        "id": "0230abb5",
        "outputId": "55bdd316-8f1c-488f-9e28-afe1700ff083"
      },
      "source": [
        "matthews_corrcoef(y_true=y_train, y_pred=y_train_pred)"
      ],
      "id": "0230abb5",
      "execution_count": null,
      "outputs": [
        {
          "data": {
            "text/plain": [
              "0.8360171378255667"
            ]
          },
          "execution_count": 38,
          "metadata": {},
          "output_type": "execute_result"
        }
      ]
    },
    {
      "cell_type": "code",
      "metadata": {
        "id": "4a1d9533",
        "outputId": "f12aa744-193a-4e10-ba1a-16fd3ed77fd9"
      },
      "source": [
        "matthews_corrcoef(y_true=y_test, y_pred=y_test_pred)"
      ],
      "id": "4a1d9533",
      "execution_count": null,
      "outputs": [
        {
          "data": {
            "text/plain": [
              "0.816982446237566"
            ]
          },
          "execution_count": 39,
          "metadata": {},
          "output_type": "execute_result"
        }
      ]
    },
    {
      "cell_type": "markdown",
      "metadata": {
        "id": "7a29f6e1"
      },
      "source": [
        "Замечательно то, что MCC симметричен относительно класса."
      ],
      "id": "7a29f6e1"
    },
    {
      "cell_type": "code",
      "metadata": {
        "id": "d38a74f0",
        "outputId": "d778cee7-c760-4888-ad77-edb561e1ef2d"
      },
      "source": [
        "import numpy as np\n",
        "\n",
        "dummy_y = np.zeros(1000)\n",
        "dummy_y[:50] = 1\n",
        "dummy_y_pred = np.zeros(1000)\n",
        "dummy_y_pred[0] = 1\n",
        "\n",
        "matthews_corrcoef(y_true=dummy_y, y_pred=dummy_y_pred)"
      ],
      "id": "d38a74f0",
      "execution_count": null,
      "outputs": [
        {
          "data": {
            "text/plain": [
              "0.13790945949795835"
            ]
          },
          "execution_count": 40,
          "metadata": {},
          "output_type": "execute_result"
        }
      ]
    },
    {
      "cell_type": "code",
      "metadata": {
        "id": "0b8d809f",
        "outputId": "69fdf34e-5499-41a5-c63b-127e6aeccc01"
      },
      "source": [
        "import numpy as np\n",
        "\n",
        "dummy_y = np.zeros(1000)\n",
        "dummy_y[:50] = 1\n",
        "dummy_y_pred = np.ones(1000)  # now all predictions are = 1\n",
        "dummy_y_pred[0] = 0\n",
        "\n",
        "matthews_corrcoef(y_true=dummy_y, y_pred=dummy_y_pred)"
      ],
      "id": "0b8d809f",
      "execution_count": null,
      "outputs": [
        {
          "data": {
            "text/plain": [
              "-0.13790945949795835"
            ]
          },
          "execution_count": 41,
          "metadata": {},
          "output_type": "execute_result"
        }
      ]
    },
    {
      "cell_type": "markdown",
      "metadata": {
        "id": "5686a379-0cc8-46e7-82d1-a2d3214297bf"
      },
      "source": [
        "### Интегральные метрики качества"
      ],
      "id": "5686a379-0cc8-46e7-82d1-a2d3214297bf"
    },
    {
      "cell_type": "markdown",
      "metadata": {
        "id": "2285c3e9"
      },
      "source": [
        "Большинство бинарных классификаторов обычно предсказывает не точный класс (0/1), а **вероятность того, что наблюдаемый объект относится к положительному классу** (с точки зрения классификатора)."
      ],
      "id": "2285c3e9"
    },
    {
      "cell_type": "code",
      "metadata": {
        "id": "c8ca06f9"
      },
      "source": [
        "y_train_proba = knn.predict_proba(X_train)[:,1]"
      ],
      "id": "c8ca06f9",
      "execution_count": null,
      "outputs": []
    },
    {
      "cell_type": "code",
      "metadata": {
        "id": "faa6faa8"
      },
      "source": [
        "y_test_proba = knn.predict_proba(X_test)[:,1]"
      ],
      "id": "faa6faa8",
      "execution_count": null,
      "outputs": []
    },
    {
      "cell_type": "markdown",
      "metadata": {
        "id": "cfdd7fd9"
      },
      "source": [
        "Когда мы получаем предсказание-вероятность, то качество такого классификатора можно оценить с помощью **установления различных отсечек по вероятности**."
      ],
      "id": "cfdd7fd9"
    },
    {
      "cell_type": "markdown",
      "metadata": {
        "id": "c1f8d689-fc59-449a-beef-531018457e10"
      },
      "source": [
        "Инегральные метрики качества способны **агрегировать информацию** из всего множества **различных таблиц ошибок**, полученных с разными отсечками."
      ],
      "id": "c1f8d689-fc59-449a-beef-531018457e10"
    },
    {
      "cell_type": "markdown",
      "metadata": {
        "id": "5f4e1495"
      },
      "source": [
        "#### ROC кривая, AUC ROC"
      ],
      "id": "5f4e1495"
    },
    {
      "cell_type": "markdown",
      "metadata": {
        "id": "26c01812"
      },
      "source": [
        "ROС-кривая (receiver operating characteristic, рабочая характеристика приёмника) помогает **оценить качество бинарной классификации графически**. Для этого **для каждого возможного порога** (все вероятности выше порога принимаются за 1, а ниже - за 0) **измеряются метрики recall и specificity**, и **объединяются в кривую** по возрастанию порога."
      ],
      "id": "26c01812"
    },
    {
      "cell_type": "markdown",
      "metadata": {
        "id": "4f53b384-6c24-4b81-9dae-096b45ec37f3"
      },
      "source": [
        "![rocauc_expl.png](https://kodomo.fbb.msu.ru/FBB/year_20/ml/mfk/lec2/rocauc_expl.png)"
      ],
      "id": "4f53b384-6c24-4b81-9dae-096b45ec37f3"
    },
    {
      "cell_type": "code",
      "metadata": {
        "id": "efe2c561"
      },
      "source": [
        "from sklearn.metrics import roc_curve\n",
        "import matplotlib.pyplot as plt"
      ],
      "id": "efe2c561",
      "execution_count": null,
      "outputs": []
    },
    {
      "cell_type": "code",
      "metadata": {
        "id": "8d27e530"
      },
      "source": [
        "fpr_train, tpr_train, thres_train = roc_curve(y_true=y_train, y_score=y_train_proba)\n",
        "fpr_test, tpr_test, thres_test = roc_curve(y_true=y_test, y_score=y_test_proba)"
      ],
      "id": "8d27e530",
      "execution_count": null,
      "outputs": []
    },
    {
      "cell_type": "code",
      "metadata": {
        "id": "1bf6009c",
        "outputId": "f51f92bd-a664-449a-b1e9-9ecc80c51466"
      },
      "source": [
        "plt.figure(figsize=(7, 6))\n",
        "plt.plot(fpr_train, tpr_train, label=\"Train\", lw=2)\n",
        "plt.plot(fpr_test, tpr_test, label=\"Test\", lw=2)\n",
        "plt.plot([0, 1], [0, 1], \"k--\", lw=1)\n",
        "plt.ylabel(\"sensitivity (recall)\", fontsize=14)\n",
        "plt.xlabel(\"1 - specificity\", fontsize=14)\n",
        "plt.legend(); plt.show()"
      ],
      "id": "1bf6009c",
      "execution_count": null,
      "outputs": [
        {
          "data": {
            "image/png": "[encoded data removed]",
            "text/plain": [
              "<Figure size 504x432 with 1 Axes>"
            ]
          },
          "metadata": {},
          "output_type": "display_data"
        }
      ]
    },
    {
      "cell_type": "markdown",
      "metadata": {
        "id": "97ffa184"
      },
      "source": [
        "**Бейзлайн для ROC-кривой** - случайный классификатор. Он дает диагональную прямую, идущую от точки (0, 0) до точки (1, 1)."
      ],
      "id": "97ffa184"
    },
    {
      "cell_type": "markdown",
      "metadata": {
        "id": "e12205a0"
      },
      "source": [
        "Почему\\*\\*\\*? Можно объяснить так: $recall$ и $specificity$ - это, соответственно, доли правильно определенных положительных и отрицательных образцов при выбранном пороге. При уменьшении порога мы переносим точки из класса $0$ в класс $1$. Тогда доля корректно определенных положительных образцов растет (исходно она равна $0$), а доля корректно определенных отрицательных образцов падает (исходно она равна $1$; $1 - specificty = 0$). Предположим, величина выборки равна $N$, а доля положительного класса под порогом равна $p$. Если ранжирование классификатора случайно, то мы ожидаем, что каждая следующая точка или увеличит recall, или уменьшит specificity. В среднем $recall$ увеличится на $\\frac{p}{N}$, а $specificity$ уменьшится на $\\frac{1 - p}{N}$. В результате в среднем мы будем оставаться около прямой $recall = 1 - specificity$."
      ],
      "id": "e12205a0"
    },
    {
      "cell_type": "markdown",
      "metadata": {
        "id": "3f0f57c1"
      },
      "source": [
        "В качестве метрики обычно используют **ROC AUC - площадь под ROC-кривой**."
      ],
      "id": "3f0f57c1"
    },
    {
      "cell_type": "markdown",
      "metadata": {
        "id": "c3a1ce45-7d51-49d0-85dd-32b9b4e0e8be"
      },
      "source": [
        "**Для любопытных**: Классическая интерпретация ROC AUC определяет ее как вероятность, что **случайно взятый объект положительного класса имеет оценку принадлежности к этому классу выше, чем случайно взятый объект отрицательного класса**."
      ],
      "id": "c3a1ce45-7d51-49d0-85dd-32b9b4e0e8be"
    },
    {
      "cell_type": "code",
      "metadata": {
        "id": "8ffffa18"
      },
      "source": [
        "from sklearn.metrics import roc_auc_score"
      ],
      "id": "8ffffa18",
      "execution_count": null,
      "outputs": []
    },
    {
      "cell_type": "code",
      "metadata": {
        "id": "06e551aa",
        "outputId": "7614d524-73bb-4d90-b385-2f9e9e31a0be"
      },
      "source": [
        "roc_auc_score(y_true=y_train, y_score=y_train_proba)"
      ],
      "id": "06e551aa",
      "execution_count": null,
      "outputs": [
        {
          "data": {
            "text/plain": [
              "0.9801407141908933"
            ]
          },
          "execution_count": 48,
          "metadata": {},
          "output_type": "execute_result"
        }
      ]
    },
    {
      "cell_type": "code",
      "metadata": {
        "id": "ab5e50f4",
        "outputId": "adf5c921-7cca-46b1-d315-64383427125c"
      },
      "source": [
        "roc_auc_score(y_true=y_test, y_score=y_test_proba)"
      ],
      "id": "ab5e50f4",
      "execution_count": null,
      "outputs": [
        {
          "data": {
            "text/plain": [
              "0.9706063404124345"
            ]
          },
          "execution_count": 49,
          "metadata": {},
          "output_type": "execute_result"
        }
      ]
    },
    {
      "cell_type": "markdown",
      "metadata": {
        "id": "32381073"
      },
      "source": [
        "**Бейзлайн для AUC ROC**, очевидно, равен 0.5."
      ],
      "id": "32381073"
    },
    {
      "cell_type": "markdown",
      "metadata": {
        "id": "12cea520"
      },
      "source": [
        "#### PR-кривая, AUC PR"
      ],
      "id": "12cea520"
    },
    {
      "cell_type": "markdown",
      "metadata": {
        "id": "aa292700"
      },
      "source": [
        "PR-кривая строится аналогично ROC-кривой, но в качестве метрик при разделении для каждого порога используются precision и recall."
      ],
      "id": "aa292700"
    },
    {
      "cell_type": "code",
      "metadata": {
        "id": "07647982"
      },
      "source": [
        "from sklearn.metrics import precision_recall_curve"
      ],
      "id": "07647982",
      "execution_count": null,
      "outputs": []
    },
    {
      "cell_type": "code",
      "metadata": {
        "id": "7ff90f3b"
      },
      "source": [
        "precision_train, recall_train, thres_train = precision_recall_curve(\n",
        "    y_true=y_train,\n",
        "    probas_pred=y_train_proba\n",
        ")\n",
        "precision_test, recall_test, thres_test = precision_recall_curve(\n",
        "    y_true=y_test,\n",
        "    probas_pred=y_test_proba\n",
        ")"
      ],
      "id": "7ff90f3b",
      "execution_count": null,
      "outputs": []
    },
    {
      "cell_type": "code",
      "metadata": {
        "id": "4d036109",
        "outputId": "aa971c0e-f89e-4422-9007-f589cbb4bd06"
      },
      "source": [
        "plt.figure(figsize=(7, 6))\n",
        "plt.plot(recall_train, precision_train, label=\"Train\", lw=2)\n",
        "plt.plot(recall_test, precision_test, label=\"Test\", lw=2)\n",
        "plt.ylabel(\"precision\", fontsize=14)\n",
        "plt.xlabel(\"recall\", fontsize=14)\n",
        "plt.legend(); plt.show()"
      ],
      "id": "4d036109",
      "execution_count": null,
      "outputs": [
        {
          "data": {
            "image/png": "[encoded data removed]",
            "text/plain": [
              "<Figure size 504x432 with 1 Axes>"
            ]
          },
          "metadata": {},
          "output_type": "display_data"
        }
      ]
    },
    {
      "cell_type": "markdown",
      "metadata": {
        "id": "54343c2a"
      },
      "source": [
        "Аналогично ROC AUC, в качестве метрики используется **PR AUC - площадь под PR-кривой**."
      ],
      "id": "54343c2a"
    },
    {
      "cell_type": "code",
      "metadata": {
        "id": "496ad87f"
      },
      "source": [
        "from sklearn.metrics import average_precision_score"
      ],
      "id": "496ad87f",
      "execution_count": null,
      "outputs": []
    },
    {
      "cell_type": "code",
      "metadata": {
        "id": "3a6dbef8",
        "outputId": "95af79bd-ff37-45e9-bb2f-92c67406c1b1"
      },
      "source": [
        "average_precision_score(y_true=y_train, y_score=y_train_proba)"
      ],
      "id": "3a6dbef8",
      "execution_count": null,
      "outputs": [
        {
          "data": {
            "text/plain": [
              "0.985868982788476"
            ]
          },
          "execution_count": 54,
          "metadata": {},
          "output_type": "execute_result"
        }
      ]
    },
    {
      "cell_type": "code",
      "metadata": {
        "id": "685991b2",
        "outputId": "b55aa735-04da-4556-d472-e1212928f585"
      },
      "source": [
        "average_precision_score(y_true=y_test, y_score=y_test_proba)"
      ],
      "id": "685991b2",
      "execution_count": null,
      "outputs": [
        {
          "data": {
            "text/plain": [
              "0.9837427330163486"
            ]
          },
          "execution_count": 55,
          "metadata": {},
          "output_type": "execute_result"
        }
      ]
    },
    {
      "cell_type": "markdown",
      "metadata": {
        "id": "cdc56064"
      },
      "source": [
        "**Бейзлайн для AUC PR равен доле положительного класса в выборке**."
      ],
      "id": "cdc56064"
    },
    {
      "cell_type": "markdown",
      "metadata": {
        "id": "204ffdc2"
      },
      "source": [
        "### Classification report"
      ],
      "id": "204ffdc2"
    },
    {
      "cell_type": "markdown",
      "metadata": {
        "id": "ff452117"
      },
      "source": [
        "В sklearn есть замечательная возможность посмотреть быструю сводку различных метрик."
      ],
      "id": "ff452117"
    },
    {
      "cell_type": "code",
      "metadata": {
        "id": "8abfe625"
      },
      "source": [
        "from sklearn.metrics import classification_report"
      ],
      "id": "8abfe625",
      "execution_count": null,
      "outputs": []
    },
    {
      "cell_type": "code",
      "metadata": {
        "id": "880c2965",
        "outputId": "fb205862-8dba-4d6d-f167-f08a1d9c5216"
      },
      "source": [
        "print(classification_report(y_true=y_train, y_pred=y_train_pred))"
      ],
      "id": "880c2965",
      "execution_count": null,
      "outputs": [
        {
          "name": "stdout",
          "output_type": "stream",
          "text": [
            "              precision    recall  f1-score   support\n",
            "\n",
            "           0       0.94      0.85      0.89       155\n",
            "           1       0.91      0.97      0.94       243\n",
            "\n",
            "    accuracy                           0.92       398\n",
            "   macro avg       0.93      0.91      0.92       398\n",
            "weighted avg       0.92      0.92      0.92       398\n",
            "\n"
          ]
        }
      ]
    },
    {
      "cell_type": "code",
      "metadata": {
        "id": "e7dcbedd",
        "outputId": "a8593f44-75c1-4fa7-bd71-2e8e9ab36390"
      },
      "source": [
        "print(classification_report(y_true=y_test, y_pred=y_test_pred))"
      ],
      "id": "e7dcbedd",
      "execution_count": null,
      "outputs": [
        {
          "name": "stdout",
          "output_type": "stream",
          "text": [
            "              precision    recall  f1-score   support\n",
            "\n",
            "           0       0.98      0.77      0.86        57\n",
            "           1       0.90      0.99      0.94       114\n",
            "\n",
            "    accuracy                           0.92       171\n",
            "   macro avg       0.94      0.88      0.90       171\n",
            "weighted avg       0.92      0.92      0.92       171\n",
            "\n"
          ]
        }
      ]
    },
    {
      "cell_type": "markdown",
      "metadata": {
        "id": "d5945e1c"
      },
      "source": [
        "## Самая простая модель регрессии"
      ],
      "id": "d5945e1c"
    },
    {
      "cell_type": "markdown",
      "metadata": {
        "id": "ff7dac40"
      },
      "source": [
        "**Как вы думаете, как устроена самая простая модель для задачи регрессии?**"
      ],
      "id": "ff7dac40"
    },
    {
      "cell_type": "markdown",
      "metadata": {
        "id": "41a253e3"
      },
      "source": [
        "На самом деле, мы можем использовать тот же принцип **k-NN**, но вместо того, чтобы предсказывать класс, нужно каким-то образом **агрегировать значения, полученные от k ближайших соседей**."
      ],
      "id": "41a253e3"
    },
    {
      "cell_type": "markdown",
      "metadata": {
        "id": "6798373e"
      },
      "source": [
        "Чаще всего предсказывают **среднее по соседям** значение; чуть реже - **медиану**."
      ],
      "id": "6798373e"
    },
    {
      "cell_type": "markdown",
      "metadata": {
        "id": "45b7d013"
      },
      "source": [
        "### Попробуем обучить регрессор k-NN"
      ],
      "id": "45b7d013"
    },
    {
      "cell_type": "markdown",
      "metadata": {
        "id": "0f3e1e45"
      },
      "source": [
        "**Сразу разобьем данные на train и test**."
      ],
      "id": "0f3e1e45"
    },
    {
      "cell_type": "code",
      "metadata": {
        "id": "d7b0e068"
      },
      "source": [
        "import sklearn.datasets"
      ],
      "id": "d7b0e068",
      "execution_count": null,
      "outputs": []
    },
    {
      "cell_type": "code",
      "metadata": {
        "id": "c3f53532"
      },
      "source": [
        "boston = sklearn.datasets.load_boston()\n",
        "X = boston.data\n",
        "y = boston.target"
      ],
      "id": "c3f53532",
      "execution_count": null,
      "outputs": []
    },
    {
      "cell_type": "code",
      "metadata": {
        "id": "286d114d"
      },
      "source": [
        "X_train, X_test, y_train, y_test = train_test_split(X, y, test_size=0.3, random_state=777)"
      ],
      "id": "286d114d",
      "execution_count": null,
      "outputs": []
    },
    {
      "cell_type": "markdown",
      "metadata": {
        "id": "4e1f82cd"
      },
      "source": [
        "В этот раз произведем **стандартизацию признаков**."
      ],
      "id": "4e1f82cd"
    },
    {
      "cell_type": "code",
      "metadata": {
        "id": "07506e9c"
      },
      "source": [
        "from sklearn.preprocessing import StandardScaler"
      ],
      "id": "07506e9c",
      "execution_count": null,
      "outputs": []
    },
    {
      "cell_type": "code",
      "metadata": {
        "id": "7778c265"
      },
      "source": [
        "scaler = StandardScaler()\n",
        "scaler.fit(X_train)\n",
        "X_train = scaler.transform(X_train)\n",
        "X_test = scaler.transform(X_test)"
      ],
      "id": "7778c265",
      "execution_count": null,
      "outputs": []
    },
    {
      "cell_type": "markdown",
      "metadata": {
        "id": "e566e6f2"
      },
      "source": [
        "**Зачем это вообще нужно?**"
      ],
      "id": "e566e6f2"
    },
    {
      "cell_type": "markdown",
      "metadata": {
        "id": "c2ab6913"
      },
      "source": [
        "Числовые признаки зачастую **не сравнимы между собой**, и один из признаков может изменяться в пределах тысяч и десятков тысяч (цена), а другой - в пределах единиц. Тогда первый признак будет **иметь значительно большее влияние на расстояние** между точками, практически **нивелируя влияние второго**. Чтобы этого избежать, **признаки можно стандартизовать**."
      ],
      "id": "c2ab6913"
    },
    {
      "cell_type": "markdown",
      "metadata": {
        "id": "3495f8d3"
      },
      "source": [
        "Теперь **обучим регрессионную модель**:"
      ],
      "id": "3495f8d3"
    },
    {
      "cell_type": "code",
      "metadata": {
        "id": "5562e872"
      },
      "source": [
        "from sklearn.neighbors import KNeighborsRegressor"
      ],
      "id": "5562e872",
      "execution_count": null,
      "outputs": []
    },
    {
      "cell_type": "code",
      "metadata": {
        "id": "f14ae3dc",
        "outputId": "490204fd-f77f-49e9-d7c6-b73929fdecbe"
      },
      "source": [
        "knn = KNeighborsRegressor(n_neighbors=5)\n",
        "knn.fit(X_train, y_train)"
      ],
      "id": "f14ae3dc",
      "execution_count": null,
      "outputs": [
        {
          "data": {
            "text/plain": [
              "KNeighborsRegressor()"
            ]
          },
          "execution_count": 65,
          "metadata": {},
          "output_type": "execute_result"
        }
      ]
    },
    {
      "cell_type": "code",
      "metadata": {
        "id": "b940eb3b"
      },
      "source": [
        "y_train_pred = knn.predict(X_train)"
      ],
      "id": "b940eb3b",
      "execution_count": null,
      "outputs": []
    },
    {
      "cell_type": "code",
      "metadata": {
        "id": "8ddf8573",
        "outputId": "be8b33b3-3155-4cde-856e-c03758e7bc1b"
      },
      "source": [
        "y_test_pred = knn.predict(X_test)\n",
        "y_test_pred[:30]"
      ],
      "id": "8ddf8573",
      "execution_count": null,
      "outputs": [
        {
          "data": {
            "text/plain": [
              "array([18.98, 11.78, 12.46, 22.8 , 29.66, 18.34, 21.08, 33.32, 19.58,\n",
              "       42.6 , 23.22, 23.32, 10.42, 20.94, 19.32, 33.06,  8.06, 24.3 ,\n",
              "       24.22, 19.02, 17.04, 20.58, 11.58, 26.28, 17.66, 25.48, 25.78,\n",
              "       29.18, 23.2 , 22.3 ])"
            ]
          },
          "execution_count": 67,
          "metadata": {},
          "output_type": "execute_result"
        }
      ]
    },
    {
      "cell_type": "code",
      "metadata": {
        "id": "5ad61210",
        "outputId": "098d2156-8e00-4e64-fdf9-779cc20e1ad0"
      },
      "source": [
        "y_test[:30]"
      ],
      "id": "5ad61210",
      "execution_count": null,
      "outputs": [
        {
          "data": {
            "text/plain": [
              "array([22.5,  8.3, 17.2, 25. , 28.5, 23. , 18.9, 50. , 15.6, 38.7, 24.6,\n",
              "       23.3,  9.5, 20. , 18.3, 36.4,  5. , 19.4, 28.1, 17.8, 19.6, 24.5,\n",
              "       10.4, 23.7, 19.4, 23.9, 21.4, 29.9, 24.4, 23.1])"
            ]
          },
          "execution_count": 68,
          "metadata": {},
          "output_type": "execute_result"
        }
      ]
    },
    {
      "cell_type": "markdown",
      "metadata": {
        "id": "80eb71f0"
      },
      "source": [
        "Вроде бы снова похоже, но непонятно, как именно оценивать качество. Давайте сразу с этим разберемся."
      ],
      "id": "80eb71f0"
    },
    {
      "cell_type": "markdown",
      "metadata": {
        "id": "f647bde1"
      },
      "source": [
        "## Оценка качества модели в задаче регрессии"
      ],
      "id": "f647bde1"
    },
    {
      "cell_type": "markdown",
      "metadata": {
        "id": "bbbff7f4"
      },
      "source": [
        "Непосредственно **оценить качество регрессии сложнее**, чем качество классификации."
      ],
      "id": "bbbff7f4"
    },
    {
      "cell_type": "markdown",
      "metadata": {
        "id": "13d19c04-8e47-4ca6-a4e6-324e96f6c9d0"
      },
      "source": [
        "Самый простой способ - визуальный."
      ],
      "id": "13d19c04-8e47-4ca6-a4e6-324e96f6c9d0"
    },
    {
      "cell_type": "code",
      "metadata": {
        "id": "e8ca27ec-f124-4b2f-9521-1e33b30f5bb2",
        "outputId": "6a7050d4-bed5-448d-c1e9-bf10a451ef5a"
      },
      "source": [
        "plt.scatter(y_test, y_test_pred, marker=\".\")\n",
        "plt.xlabel(\"Истинные значения\", fontsize=14)\n",
        "plt.ylabel(\"Предсказанные значения\", fontsize=14)\n",
        "plt.show()"
      ],
      "id": "e8ca27ec-f124-4b2f-9521-1e33b30f5bb2",
      "execution_count": null,
      "outputs": [
        {
          "data": {
            "image/png": "[encoded data removed]",
            "text/plain": [
              "<Figure size 432x288 with 1 Axes>"
            ]
          },
          "metadata": {},
          "output_type": "display_data"
        }
      ]
    },
    {
      "cell_type": "markdown",
      "metadata": {
        "id": "eeac5586"
      },
      "source": [
        "Также существует несколько метрик для оценки того, **насколько сильно модель отклоняется от настоящих значений**."
      ],
      "id": "eeac5586"
    },
    {
      "cell_type": "markdown",
      "metadata": {
        "id": "2711dbd3"
      },
      "source": [
        "### Метрика MSE (mean squared error, среднеквадратичная ошибка)"
      ],
      "id": "2711dbd3"
    },
    {
      "cell_type": "markdown",
      "metadata": {
        "id": "fa845c1f"
      },
      "source": [
        "$$MSE = \\dfrac{\\sum_{i = 1}^{N}error_i^2}{N}$$"
      ],
      "id": "fa845c1f"
    },
    {
      "cell_type": "markdown",
      "metadata": {
        "id": "3d6b6140"
      },
      "source": [
        "![residuals.png](https://kodomo.fbb.msu.ru/FBB/year_20/ml/mfk/lec2/residuals.png)"
      ],
      "id": "3d6b6140"
    },
    {
      "cell_type": "markdown",
      "metadata": {
        "id": "ce5ce4cf"
      },
      "source": [
        "Посчитаем MSE на train и test для модели:"
      ],
      "id": "ce5ce4cf"
    },
    {
      "cell_type": "code",
      "metadata": {
        "id": "511b56cd"
      },
      "source": [
        "from sklearn.metrics import mean_squared_error"
      ],
      "id": "511b56cd",
      "execution_count": null,
      "outputs": []
    },
    {
      "cell_type": "code",
      "metadata": {
        "id": "c4cc352c",
        "outputId": "34ee670f-903d-496d-d572-f54b40348de5"
      },
      "source": [
        "mean_squared_error(y_true=y_train, y_pred=y_train_pred)"
      ],
      "id": "c4cc352c",
      "execution_count": null,
      "outputs": [
        {
          "data": {
            "text/plain": [
              "14.080089265536722"
            ]
          },
          "execution_count": 71,
          "metadata": {},
          "output_type": "execute_result"
        }
      ]
    },
    {
      "cell_type": "code",
      "metadata": {
        "id": "da11139f",
        "outputId": "fc2073b2-27f1-4fd3-8220-4f2fb199b11c"
      },
      "source": [
        "mean_squared_error(y_true=y_test, y_pred=y_test_pred)"
      ],
      "id": "da11139f",
      "execution_count": null,
      "outputs": [
        {
          "data": {
            "text/plain": [
              "21.11007894736842"
            ]
          },
          "execution_count": 72,
          "metadata": {},
          "output_type": "execute_result"
        }
      ]
    },
    {
      "cell_type": "markdown",
      "metadata": {
        "id": "f930b657"
      },
      "source": [
        "### Метрика MAE (mean absolute error, средняя абсолютная ошибка)"
      ],
      "id": "f930b657"
    },
    {
      "cell_type": "markdown",
      "metadata": {
        "id": "734701b4"
      },
      "source": [
        "$$MAE = \\dfrac{\\sum_{i = 1}^{N}|error_i|}{N}$$"
      ],
      "id": "734701b4"
    },
    {
      "cell_type": "code",
      "metadata": {
        "id": "0514bbc1"
      },
      "source": [
        "from sklearn.metrics import mean_absolute_error"
      ],
      "id": "0514bbc1",
      "execution_count": null,
      "outputs": []
    },
    {
      "cell_type": "code",
      "metadata": {
        "id": "b394480b",
        "outputId": "f86e2beb-5f01-4fa2-d47a-ccfd20b53356"
      },
      "source": [
        "mean_absolute_error(y_true=y_train, y_pred=y_train_pred)"
      ],
      "id": "b394480b",
      "execution_count": null,
      "outputs": [
        {
          "data": {
            "text/plain": [
              "2.2901129943502823"
            ]
          },
          "execution_count": 74,
          "metadata": {},
          "output_type": "execute_result"
        }
      ]
    },
    {
      "cell_type": "code",
      "metadata": {
        "id": "2e732293",
        "outputId": "bd69cb32-adc3-4b6a-ab49-490db1f773cd"
      },
      "source": [
        "mean_absolute_error(y_true=y_test, y_pred=y_test_pred)"
      ],
      "id": "2e732293",
      "execution_count": null,
      "outputs": [
        {
          "data": {
            "text/plain": [
              "2.975"
            ]
          },
          "execution_count": 75,
          "metadata": {},
          "output_type": "execute_result"
        }
      ]
    },
    {
      "cell_type": "markdown",
      "metadata": {
        "id": "ea8de90f"
      },
      "source": [
        "Бейзлайн для регрессионной задачи можно получить, оценив качество **простой модели, всегда предсказывающей среднее** (MSE) **или медиану** (MAE)."
      ],
      "id": "ea8de90f"
    },
    {
      "cell_type": "markdown",
      "metadata": {
        "id": "76ab4ced"
      },
      "source": [
        "## Линейная и логистическая регрессионные модели"
      ],
      "id": "76ab4ced"
    },
    {
      "cell_type": "markdown",
      "metadata": {
        "id": "46e477e5"
      },
      "source": [
        "### Линейная регрессия"
      ],
      "id": "46e477e5"
    },
    {
      "cell_type": "markdown",
      "metadata": {
        "id": "2f4c0fd3"
      },
      "source": [
        "Задача линейной регрессии - определить **наилучшим образом соответствующую данным линию** (при 2 признаках уже плоскость, формально - [гиперплоскость](https://ru.wikipedia.org/wiki/Гиперплоскость))."
      ],
      "id": "2f4c0fd3"
    },
    {
      "cell_type": "markdown",
      "metadata": {
        "id": "b14e21e3"
      },
      "source": [
        "Общее уравнение для такой прямой:\n",
        "$$y = \\alpha + \\beta \\cdot x + \\epsilon$$"
      ],
      "id": "b14e21e3"
    },
    {
      "cell_type": "markdown",
      "metadata": {
        "id": "a642b1c1"
      },
      "source": [
        "Для гиперплоскости (при n признаках):\n",
        "$$y = \\alpha + \\beta_1 \\cdot x_1 + \\beta_2 \\cdot x_2 + ... + \\beta_n \\cdot x_n + \\epsilon$$"
      ],
      "id": "a642b1c1"
    },
    {
      "cell_type": "markdown",
      "metadata": {
        "id": "e238a81d"
      },
      "source": [
        "Отметим, что предсказываемая переменная в итоговой модели будет **зависеть от каждого из признаков _линейно_** с каким-то коэффициентом."
      ],
      "id": "e238a81d"
    },
    {
      "cell_type": "markdown",
      "metadata": {
        "id": "196665cc"
      },
      "source": [
        "**Что делать, если мы хотим нелинейную зависимость?**"
      ],
      "id": "196665cc"
    },
    {
      "cell_type": "markdown",
      "metadata": {
        "id": "b6c0cda4"
      },
      "source": [
        "Можно:\n",
        "* **Изменить сами признаки** - например, логарифмировать для поиска зависимости вида: $$y = \\alpha + \\beta(\\log{x})$$"
      ],
      "id": "b6c0cda4"
    },
    {
      "cell_type": "markdown",
      "metadata": {
        "id": "8fb60fea"
      },
      "source": [
        "* Добавить **измененные копии признаков** - например, полиномиальная регрессия сводится к линейной возведением каждого из признаков в соответствующие степени:\n",
        "$$y = \\alpha + \\beta_1(x) + \\beta_2(x^2) + ... + \\beta_n(x^n)$$"
      ],
      "id": "8fb60fea"
    },
    {
      "cell_type": "markdown",
      "metadata": {
        "id": "fc5ba674"
      },
      "source": [
        "Обучим линейную модель на данных:"
      ],
      "id": "fc5ba674"
    },
    {
      "cell_type": "code",
      "metadata": {
        "id": "a6443db0"
      },
      "source": [
        "from sklearn.linear_model import LinearRegression"
      ],
      "id": "a6443db0",
      "execution_count": null,
      "outputs": []
    },
    {
      "cell_type": "code",
      "metadata": {
        "id": "cb46f4c6",
        "outputId": "0d33385a-a3a9-4ca9-c52c-e9559bde3323"
      },
      "source": [
        "linreg = LinearRegression()\n",
        "linreg.fit(X_train, y_train)"
      ],
      "id": "cb46f4c6",
      "execution_count": null,
      "outputs": [
        {
          "data": {
            "text/plain": [
              "LinearRegression()"
            ]
          },
          "execution_count": 77,
          "metadata": {},
          "output_type": "execute_result"
        }
      ]
    },
    {
      "cell_type": "code",
      "metadata": {
        "id": "bc1a862c"
      },
      "source": [
        "y_train_pred = linreg.predict(X_train)"
      ],
      "id": "bc1a862c",
      "execution_count": null,
      "outputs": []
    },
    {
      "cell_type": "code",
      "metadata": {
        "id": "93c2ff01",
        "outputId": "0673e696-ab34-4b6e-e301-f73f36c37bab"
      },
      "source": [
        "y_test_pred = linreg.predict(X_test)\n",
        "y_test_pred[:30]"
      ],
      "id": "93c2ff01",
      "execution_count": null,
      "outputs": [
        {
          "data": {
            "text/plain": [
              "array([17.7077016 , 10.39977561, 13.9354228 , 21.87181077, 33.53120541,\n",
              "       19.10585322, 14.89163323, 36.09370313,  9.66842785, 35.70505588,\n",
              "       29.62306225, 28.47637255, 13.00830374, 20.6224633 , 18.89613724,\n",
              "       32.64719498,  6.25458346, 23.30021087, 25.2525182 , 17.11582633,\n",
              "       17.44735116, 20.44833656,  7.47228032, 27.48534884, 15.49407604,\n",
              "       25.89870843, 25.36179777, 31.69022938, 23.56142221, 23.62526944])"
            ]
          },
          "execution_count": 79,
          "metadata": {},
          "output_type": "execute_result"
        }
      ]
    },
    {
      "cell_type": "code",
      "metadata": {
        "id": "a078a4a2",
        "outputId": "5f0a1faf-c0ec-4ef2-fe69-0ac8b7639d21"
      },
      "source": [
        "y_test[:30]"
      ],
      "id": "a078a4a2",
      "execution_count": null,
      "outputs": [
        {
          "data": {
            "text/plain": [
              "array([22.5,  8.3, 17.2, 25. , 28.5, 23. , 18.9, 50. , 15.6, 38.7, 24.6,\n",
              "       23.3,  9.5, 20. , 18.3, 36.4,  5. , 19.4, 28.1, 17.8, 19.6, 24.5,\n",
              "       10.4, 23.7, 19.4, 23.9, 21.4, 29.9, 24.4, 23.1])"
            ]
          },
          "execution_count": 80,
          "metadata": {},
          "output_type": "execute_result"
        }
      ]
    },
    {
      "cell_type": "markdown",
      "metadata": {
        "id": "f4ee6c26"
      },
      "source": [
        "Сразу измерим метрики качества:"
      ],
      "id": "f4ee6c26"
    },
    {
      "cell_type": "code",
      "metadata": {
        "id": "32b07e98",
        "outputId": "9607f056-f07e-4a9d-ea40-b7b26e138c51"
      },
      "source": [
        "mean_squared_error(y_true=y_train, y_pred=y_train_pred)"
      ],
      "id": "32b07e98",
      "execution_count": null,
      "outputs": [
        {
          "data": {
            "text/plain": [
              "21.024239146904783"
            ]
          },
          "execution_count": 81,
          "metadata": {},
          "output_type": "execute_result"
        }
      ]
    },
    {
      "cell_type": "code",
      "metadata": {
        "id": "a131952d",
        "outputId": "47bcb689-7668-40ff-c72f-f7f2a7c6f5f0"
      },
      "source": [
        "mean_squared_error(y_true=y_test, y_pred=y_test_pred)"
      ],
      "id": "a131952d",
      "execution_count": null,
      "outputs": [
        {
          "data": {
            "text/plain": [
              "25.347913375305126"
            ]
          },
          "execution_count": 82,
          "metadata": {},
          "output_type": "execute_result"
        }
      ]
    },
    {
      "cell_type": "code",
      "metadata": {
        "id": "36544758",
        "outputId": "cdabdc0e-1f74-4e37-d9c0-9e153c049535"
      },
      "source": [
        "mean_absolute_error(y_true=y_train, y_pred=y_train_pred)"
      ],
      "id": "36544758",
      "execution_count": null,
      "outputs": [
        {
          "data": {
            "text/plain": [
              "3.219853750399562"
            ]
          },
          "execution_count": 83,
          "metadata": {},
          "output_type": "execute_result"
        }
      ]
    },
    {
      "cell_type": "code",
      "metadata": {
        "id": "961c8359",
        "outputId": "af847a91-c346-4dd1-9cbf-ccfd87f8d8c7"
      },
      "source": [
        "mean_absolute_error(y_true=y_test, y_pred=y_test_pred)"
      ],
      "id": "961c8359",
      "execution_count": null,
      "outputs": [
        {
          "data": {
            "text/plain": [
              "3.719902906135513"
            ]
          },
          "execution_count": 84,
          "metadata": {},
          "output_type": "execute_result"
        }
      ]
    },
    {
      "cell_type": "markdown",
      "metadata": {
        "id": "24c566a7"
      },
      "source": [
        "### Плюсы и минусы линейной регрессии"
      ],
      "id": "24c566a7"
    },
    {
      "cell_type": "markdown",
      "metadata": {
        "id": "eb12ec22"
      },
      "source": [
        "**Плюсы**:\n",
        "* Простота модели\n",
        "* Очень быстрое обучение\n",
        "* Хорошая интерпретируемость (для нормализованных данных больший по модулю коэффициент ~ значимый признак)\n",
        "* На вход можно подавать более сложные признаки"
      ],
      "id": "eb12ec22"
    },
    {
      "cell_type": "markdown",
      "metadata": {
        "id": "676037dd"
      },
      "source": [
        "**Минусы**:\n",
        "* Модель неспособна описать более сложные нелинейные зависимости предсказываемой переменной от признаков"
      ],
      "id": "676037dd"
    },
    {
      "cell_type": "markdown",
      "metadata": {
        "id": "9dabcb95"
      },
      "source": [
        "### Логистическая регрессия"
      ],
      "id": "9dabcb95"
    },
    {
      "cell_type": "markdown",
      "metadata": {
        "id": "657c078e"
      },
      "source": [
        "Логистическая регрессия, несотря на свое название, **используется в задаче классификации** (которая сводится к задаче регрессии)."
      ],
      "id": "657c078e"
    },
    {
      "cell_type": "markdown",
      "metadata": {
        "id": "31de2ed4"
      },
      "source": [
        "В случае с одним признаком, вместо того, чтобы осуществлять \"подгон\" прямой, **осуществляется настройка логистической функции** (сигмоиды)."
      ],
      "id": "31de2ed4"
    },
    {
      "cell_type": "markdown",
      "metadata": {
        "id": "b9b5b366"
      },
      "source": [
        "![sigmoid.png](https://kodomo.fbb.msu.ru/FBB/year_20/ml/mfk/lec2/sigmoid.png)"
      ],
      "id": "b9b5b366"
    },
    {
      "cell_type": "markdown",
      "metadata": {
        "id": "7318792d"
      },
      "source": [
        "Формула сигмоиды (для многомерного случая):\n",
        "\n",
        "$$\\sigma(z) = \\dfrac{1}{1 - e^{-z}}$$\n",
        "\n",
        "$$z(x) = \\alpha + \\beta_1 \\cdot x_1 + ... + \\beta_n \\cdot x_n$$"
      ],
      "id": "7318792d"
    },
    {
      "cell_type": "markdown",
      "metadata": {
        "id": "4d110356"
      },
      "source": [
        "Загрузим данные для классификации и попробуем обучить логистическую модель:"
      ],
      "id": "4d110356"
    },
    {
      "cell_type": "code",
      "metadata": {
        "id": "7beefa10"
      },
      "source": [
        "import sklearn.datasets"
      ],
      "id": "7beefa10",
      "execution_count": null,
      "outputs": []
    },
    {
      "cell_type": "code",
      "metadata": {
        "id": "68878487"
      },
      "source": [
        "breast_cancer = sklearn.datasets.load_breast_cancer()\n",
        "X = breast_cancer.data\n",
        "y = breast_cancer.target"
      ],
      "id": "68878487",
      "execution_count": null,
      "outputs": []
    },
    {
      "cell_type": "code",
      "metadata": {
        "id": "e4d1f316"
      },
      "source": [
        "X_train, X_test, y_train, y_test = train_test_split(X, y, test_size=0.3, random_state=777)"
      ],
      "id": "e4d1f316",
      "execution_count": null,
      "outputs": []
    },
    {
      "cell_type": "markdown",
      "metadata": {
        "id": "c6fc8056"
      },
      "source": [
        "Обучим модель:"
      ],
      "id": "c6fc8056"
    },
    {
      "cell_type": "code",
      "metadata": {
        "id": "738f2be9"
      },
      "source": [
        "from sklearn.linear_model import LogisticRegression"
      ],
      "id": "738f2be9",
      "execution_count": null,
      "outputs": []
    },
    {
      "cell_type": "code",
      "metadata": {
        "id": "d23fc7fb",
        "outputId": "3746e570-1b17-4fa6-f95f-5c465c31092d"
      },
      "source": [
        "logreg = LogisticRegression(max_iter=100)\n",
        "logreg.fit(X_train, y_train)"
      ],
      "id": "d23fc7fb",
      "execution_count": null,
      "outputs": [
        {
          "name": "stderr",
          "output_type": "stream",
          "text": [
            "C:\\Users\\arsen_z\\Anaconda3\\lib\\site-packages\\sklearn\\linear_model\\_logistic.py:765: ConvergenceWarning: lbfgs failed to converge (status=1):\n",
            "STOP: TOTAL NO. of ITERATIONS REACHED LIMIT.\n",
            "\n",
            "Increase the number of iterations (max_iter) or scale the data as shown in:\n",
            "    https://scikit-learn.org/stable/modules/preprocessing.html\n",
            "Please also refer to the documentation for alternative solver options:\n",
            "    https://scikit-learn.org/stable/modules/linear_model.html#logistic-regression\n",
            "  extra_warning_msg=_LOGISTIC_SOLVER_CONVERGENCE_MSG)\n"
          ]
        },
        {
          "data": {
            "text/plain": [
              "LogisticRegression()"
            ]
          },
          "execution_count": 89,
          "metadata": {},
          "output_type": "execute_result"
        }
      ]
    },
    {
      "cell_type": "code",
      "metadata": {
        "id": "c696c840",
        "outputId": "b6b3f1dc-c6c6-41f3-a020-9f3c6cc9e363"
      },
      "source": [
        "logreg = LogisticRegression(max_iter=10000)\n",
        "logreg.fit(X_train, y_train)"
      ],
      "id": "c696c840",
      "execution_count": null,
      "outputs": [
        {
          "data": {
            "text/plain": [
              "LogisticRegression(max_iter=10000)"
            ]
          },
          "execution_count": 90,
          "metadata": {},
          "output_type": "execute_result"
        }
      ]
    },
    {
      "cell_type": "markdown",
      "metadata": {
        "id": "6d8ff26c"
      },
      "source": [
        "Получим **предсказание**:"
      ],
      "id": "6d8ff26c"
    },
    {
      "cell_type": "code",
      "metadata": {
        "id": "81bb5250"
      },
      "source": [
        "y_train_pred = logreg.predict(X_train)"
      ],
      "id": "81bb5250",
      "execution_count": null,
      "outputs": []
    },
    {
      "cell_type": "code",
      "metadata": {
        "id": "20d7d225",
        "outputId": "1892bc4b-e5f5-49ff-e8c1-3e2f64980e37"
      },
      "source": [
        "y_test_pred = logreg.predict(X_test)\n",
        "y_test_pred[:30]"
      ],
      "id": "20d7d225",
      "execution_count": null,
      "outputs": [
        {
          "data": {
            "text/plain": [
              "array([1, 1, 0, 1, 0, 1, 1, 1, 1, 0, 1, 1, 1, 0, 0, 1, 1, 1, 1, 1, 1, 0,\n",
              "       0, 1, 0, 1, 1, 0, 0, 1])"
            ]
          },
          "execution_count": 92,
          "metadata": {},
          "output_type": "execute_result"
        }
      ]
    },
    {
      "cell_type": "code",
      "metadata": {
        "id": "f58ae6b0",
        "outputId": "b2052319-189f-4ac7-c155-199b22c0a3a2"
      },
      "source": [
        "y_test[:30]"
      ],
      "id": "f58ae6b0",
      "execution_count": null,
      "outputs": [
        {
          "data": {
            "text/plain": [
              "array([1, 1, 0, 1, 0, 0, 1, 1, 1, 0, 0, 1, 1, 1, 0, 1, 1, 1, 1, 1, 1, 0,\n",
              "       0, 1, 0, 1, 1, 0, 0, 1])"
            ]
          },
          "execution_count": 93,
          "metadata": {},
          "output_type": "execute_result"
        }
      ]
    },
    {
      "cell_type": "markdown",
      "metadata": {
        "id": "09182402"
      },
      "source": [
        "Сразу измерим метрики качества:"
      ],
      "id": "09182402"
    },
    {
      "cell_type": "code",
      "metadata": {
        "id": "9a4acd13",
        "outputId": "2ca9a4be-e5e4-4a82-9cb7-73cf61bc9396"
      },
      "source": [
        "print(classification_report(y_true=y_train, y_pred=y_train_pred))"
      ],
      "id": "9a4acd13",
      "execution_count": null,
      "outputs": [
        {
          "name": "stdout",
          "output_type": "stream",
          "text": [
            "              precision    recall  f1-score   support\n",
            "\n",
            "           0       0.97      0.95      0.96       155\n",
            "           1       0.97      0.98      0.97       243\n",
            "\n",
            "    accuracy                           0.97       398\n",
            "   macro avg       0.97      0.96      0.97       398\n",
            "weighted avg       0.97      0.97      0.97       398\n",
            "\n"
          ]
        }
      ]
    },
    {
      "cell_type": "code",
      "metadata": {
        "id": "cdfaaf28",
        "outputId": "403aca17-0c7a-4320-ed8e-a2bd333696bf"
      },
      "source": [
        "print(classification_report(y_true=y_test, y_pred=y_test_pred))"
      ],
      "id": "cdfaaf28",
      "execution_count": null,
      "outputs": [
        {
          "name": "stdout",
          "output_type": "stream",
          "text": [
            "              precision    recall  f1-score   support\n",
            "\n",
            "           0       0.93      0.89      0.91        57\n",
            "           1       0.95      0.96      0.96       114\n",
            "\n",
            "    accuracy                           0.94       171\n",
            "   macro avg       0.94      0.93      0.93       171\n",
            "weighted avg       0.94      0.94      0.94       171\n",
            "\n"
          ]
        }
      ]
    },
    {
      "cell_type": "markdown",
      "metadata": {
        "id": "120c93d9"
      },
      "source": [
        "...и основанные на предсказываемой вероятности метрики:"
      ],
      "id": "120c93d9"
    },
    {
      "cell_type": "code",
      "metadata": {
        "id": "23826f97",
        "outputId": "2c6811f5-8d05-4e3e-e94c-bacc4e3a63d7"
      },
      "source": [
        "roc_auc_score(y_true=y_train, y_score=y_train_proba)"
      ],
      "id": "23826f97",
      "execution_count": null,
      "outputs": [
        {
          "data": {
            "text/plain": [
              "0.9801407141908933"
            ]
          },
          "execution_count": 96,
          "metadata": {},
          "output_type": "execute_result"
        }
      ]
    },
    {
      "cell_type": "code",
      "metadata": {
        "id": "aed84eb8",
        "outputId": "3441f722-7733-4c80-aa94-95e7126f6490"
      },
      "source": [
        "roc_auc_score(y_true=y_test, y_score=y_test_proba)"
      ],
      "id": "aed84eb8",
      "execution_count": null,
      "outputs": [
        {
          "data": {
            "text/plain": [
              "0.9706063404124345"
            ]
          },
          "execution_count": 97,
          "metadata": {},
          "output_type": "execute_result"
        }
      ]
    },
    {
      "cell_type": "code",
      "metadata": {
        "id": "cbf364d4",
        "outputId": "6128570e-5125-4e19-c589-728fd05a9c7b"
      },
      "source": [
        "average_precision_score(y_true=y_train, y_score=y_train_proba)"
      ],
      "id": "cbf364d4",
      "execution_count": null,
      "outputs": [
        {
          "data": {
            "text/plain": [
              "0.985868982788476"
            ]
          },
          "execution_count": 98,
          "metadata": {},
          "output_type": "execute_result"
        }
      ]
    },
    {
      "cell_type": "code",
      "metadata": {
        "id": "ffc89f3e",
        "outputId": "5b554aea-fa68-4895-8270-30068a3eaaf0"
      },
      "source": [
        "average_precision_score(y_true=y_test, y_score=y_test_proba)"
      ],
      "id": "ffc89f3e",
      "execution_count": null,
      "outputs": [
        {
          "data": {
            "text/plain": [
              "0.9837427330163486"
            ]
          },
          "execution_count": 99,
          "metadata": {},
          "output_type": "execute_result"
        }
      ]
    },
    {
      "cell_type": "markdown",
      "metadata": {
        "id": "87e69f51"
      },
      "source": [
        "Дополнительно можно построить ROC-кривую"
      ],
      "id": "87e69f51"
    },
    {
      "cell_type": "code",
      "metadata": {
        "id": "b6227f20"
      },
      "source": [
        "y_train_proba = logreg.predict_proba(X_train)[:,1]\n",
        "y_test_proba = logreg.predict_proba(X_test)[:,1]"
      ],
      "id": "b6227f20",
      "execution_count": null,
      "outputs": []
    },
    {
      "cell_type": "code",
      "metadata": {
        "id": "4e6f0c23"
      },
      "source": [
        "fpr_train, tpr_train, thres_train = roc_curve(y_true=y_train, y_score=y_train_proba)\n",
        "fpr_test, tpr_test, thres_test = roc_curve(y_true=y_test, y_score=y_test_proba)"
      ],
      "id": "4e6f0c23",
      "execution_count": null,
      "outputs": []
    },
    {
      "cell_type": "code",
      "metadata": {
        "id": "4ae21278",
        "outputId": "d5abfc5a-1370-479e-bc7f-2bd227c70de8"
      },
      "source": [
        "plt.figure(figsize=(7, 6))\n",
        "plt.plot(fpr_train, tpr_train, label=\"Train\", lw=2)\n",
        "plt.plot(fpr_test, tpr_test, label=\"Test\", lw=2)\n",
        "plt.plot([0, 1], [0, 1], \"k--\", lw=1)\n",
        "plt.ylabel(\"sensitivity (recall)\", fontsize=14)\n",
        "plt.xlabel(\"1 - specificity\", fontsize=14)\n",
        "plt.legend(); plt.show()"
      ],
      "id": "4ae21278",
      "execution_count": null,
      "outputs": [
        {
          "data": {
            "image/png": "[encoded data removed]",
            "text/plain": [
              "<Figure size 504x432 with 1 Axes>"
            ]
          },
          "metadata": {},
          "output_type": "display_data"
        }
      ]
    },
    {
      "cell_type": "markdown",
      "metadata": {
        "id": "c1a9b6c9"
      },
      "source": [
        "Но как происходит оптимизация параметров модели? В ошибке, которую мы наблюдали выше, было указано, что сходимость не была достигнута."
      ],
      "id": "c1a9b6c9"
    },
    {
      "cell_type": "markdown",
      "metadata": {
        "id": "3d2f7aa1"
      },
      "source": [
        "Чтобы понять, как происходит оптимизация параметров (a.k.a. \"подгон\"), нужно разобраться с двумя дополнительными вещами."
      ],
      "id": "3d2f7aa1"
    },
    {
      "cell_type": "markdown",
      "metadata": {
        "id": "6a3d1dbf"
      },
      "source": [
        "## Функция потерь, градиентный спуск"
      ],
      "id": "6a3d1dbf"
    },
    {
      "cell_type": "markdown",
      "metadata": {
        "id": "813a5087"
      },
      "source": [
        "При \"подгоне\" (fitting) самой модели происходит приблизительно следующее:"
      ],
      "id": "813a5087"
    },
    {
      "cell_type": "markdown",
      "metadata": {
        "id": "d37c1f8a"
      },
      "source": [
        "![training_gif.gif](https://kodomo.fbb.msu.ru/FBB/year_20/ml/mfk/lec2/training_gif.gif)"
      ],
      "id": "d37c1f8a"
    },
    {
      "cell_type": "markdown",
      "metadata": {
        "id": "41fbbb6c"
      },
      "source": [
        "Сама модель на картинке описывается формулой: $y = a + b \\cdot x$\n",
        "\n",
        "Ее параметры итеративно меняются от $a = 0, b = 0$ до $ a \\approx 1, b \\approx 2.2$"
      ],
      "id": "41fbbb6c"
    },
    {
      "cell_type": "markdown",
      "metadata": {
        "id": "3364cb30"
      },
      "source": [
        "Каким образом оптимизатор (компьютер) узнает, в какую сторону ему нужно изменять параметры?"
      ],
      "id": "3364cb30"
    },
    {
      "cell_type": "markdown",
      "metadata": {
        "id": "66a2afb4"
      },
      "source": [
        "### Функция потерь (функция ошибки, loss function)"
      ],
      "id": "66a2afb4"
    },
    {
      "cell_type": "markdown",
      "metadata": {
        "id": "f0ffa098"
      },
      "source": [
        "Для того, чтобы все это уметь, на каждом шаге (итерации) оптимизатору необходимо понимать, насколько сильно модель ошибается (т.е. насколько ее предсказания отличаются от значений тренировочной выборки)."
      ],
      "id": "f0ffa098"
    },
    {
      "cell_type": "markdown",
      "metadata": {
        "id": "6477f2cc"
      },
      "source": [
        "В качестве функции ошибки для линейной регрессии можно использовать метрику качества MSE или MAE."
      ],
      "id": "6477f2cc"
    },
    {
      "cell_type": "markdown",
      "metadata": {
        "id": "a26a2657"
      },
      "source": [
        "**Для любопытных**: На самом деле, можно использовать любую другую метрику, значение которой тем меньше, чем параметры модели ближе к оптимальному описанию данных. И оптимизация модели будет работать, но, возможно, не так хорошо."
      ],
      "id": "a26a2657"
    },
    {
      "cell_type": "markdown",
      "metadata": {
        "id": "fa0d37f0"
      },
      "source": [
        "**Для любопытных**: MSE и MAE гарантированно являются наилучшими из возможных функций потерь (для линейной регрессии, по методу максимального правдоподобия), если случайная шумовая компонента ($\\epsilon$) распределена нормально (MSE) или по Лапласу (MAE)."
      ],
      "id": "fa0d37f0"
    },
    {
      "cell_type": "markdown",
      "metadata": {
        "id": "7f5923bc"
      },
      "source": [
        "![training_gif_2.gif](https://kodomo.fbb.msu.ru/FBB/year_20/ml/mfk/lec2/training_gif_2.gif)"
      ],
      "id": "7f5923bc"
    },
    {
      "cell_type": "markdown",
      "metadata": {
        "id": "1157508f"
      },
      "source": [
        "Как мы видим, для получения хороших параметров нужна **минимизация функции потерь**. Обратим внимание: при оптимизании нам важно, что **функция ошибки зависит от параметров модели** (коэффициентов), которые мы можем изменять; данные же остаются фиксированными (в простом случае)."
      ],
      "id": "1157508f"
    },
    {
      "cell_type": "markdown",
      "metadata": {
        "id": "5333a535"
      },
      "source": [
        "Чтобы понять, в какую сторону нужно менять параметры, используется **подсчет градиента функции ошибки**."
      ],
      "id": "5333a535"
    },
    {
      "cell_type": "markdown",
      "metadata": {
        "id": "31ed4cd4"
      },
      "source": [
        "**Что такое градиент?**"
      ],
      "id": "31ed4cd4"
    },
    {
      "cell_type": "markdown",
      "metadata": {
        "id": "9d0cbc15"
      },
      "source": [
        "Простыми словами, градиент - это вектор ($\\nabla$), направленный в сторону наиболее быстрого роста функции. Соответственно, направление ($-\\nabla$) соответствует направлению максимального уменьшения функции."
      ],
      "id": "9d0cbc15"
    },
    {
      "cell_type": "markdown",
      "metadata": {
        "id": "8e161e98-3b4a-4ade-a36a-4ae3945ce105"
      },
      "source": [
        "**Для любопытных**: Градиент - это **набор частных производных** целевой функции. Для нас важно то, что **направление вектора градиента ($\\nabla$) совпадает с направлением максимального роста функции**."
      ],
      "id": "8e161e98-3b4a-4ade-a36a-4ae3945ce105"
    },
    {
      "cell_type": "markdown",
      "metadata": {
        "id": "20ae5124"
      },
      "source": [
        "Соответственно, оптимизация градиентным спуском - это изменение параметров модели в сторону, противоположную градиенту функции ошибок."
      ],
      "id": "20ae5124"
    },
    {
      "cell_type": "markdown",
      "metadata": {
        "id": "83b66855"
      },
      "source": [
        "![gradient_desc.png](https://kodomo.fbb.msu.ru/FBB/year_20/ml/mfk/lec2/gradient_desc.png)"
      ],
      "id": "83b66855"
    },
    {
      "cell_type": "markdown",
      "metadata": {
        "id": "2154fd7d"
      },
      "source": [
        "## Заключение"
      ],
      "id": "2154fd7d"
    },
    {
      "cell_type": "markdown",
      "metadata": {
        "id": "157de679"
      },
      "source": [
        "### TL;DR"
      ],
      "id": "157de679"
    },
    {
      "cell_type": "markdown",
      "metadata": {
        "id": "0af97193"
      },
      "source": [
        "* **Обучение** для модели - это **итеративное улучшение описания данных** моделью с помощью изменения ее параметров."
      ],
      "id": "0af97193"
    },
    {
      "cell_type": "markdown",
      "metadata": {
        "id": "7a0785f3"
      },
      "source": [
        "* В обучении с учителем есть 2 основные задачи: **задача классификации и задача регрессии**"
      ],
      "id": "7a0785f3"
    },
    {
      "cell_type": "markdown",
      "metadata": {
        "id": "ce52e337"
      },
      "source": [
        "* Самые простые **модели для задачи классификации** - это **k-NN и логистическая регрессия**"
      ],
      "id": "ce52e337"
    },
    {
      "cell_type": "markdown",
      "metadata": {
        "id": "1280f17d"
      },
      "source": [
        "* Самые простые **модели для задачи регрессии** - это **k-NN и линейная регрессия**"
      ],
      "id": "1280f17d"
    },
    {
      "cell_type": "markdown",
      "metadata": {
        "id": "f3257f2f"
      },
      "source": [
        "### TL;DR"
      ],
      "id": "f3257f2f"
    },
    {
      "cell_type": "markdown",
      "metadata": {
        "id": "39dded70"
      },
      "source": [
        "* Модель может **переобучиться**, т.е. **выучить не только закономерности** в данных, **но и шум**. Чтобы ловить такие ошибки, исходную выборку **разбивают на 2 части (train и test)**. Train используют для обучения модели, а test - для проверки качества."
      ],
      "id": "39dded70"
    },
    {
      "cell_type": "markdown",
      "metadata": {
        "id": "d8d21e2d"
      },
      "source": [
        "* Для оценки качества используют много метрик. Важно знать:\n",
        "  * Для задачи классификации: **accuracy, F1, AUC ROC**\n",
        "  * Для задачи регрессии: **MSE, MAE**"
      ],
      "id": "d8d21e2d"
    },
    {
      "cell_type": "markdown",
      "metadata": {
        "id": "40721e67"
      },
      "source": [
        "* Оптимизация параметров модели (если их нужно оптимизировать) чаще всего осуществляется с помощью **градиентного спуска по функции ошибок**."
      ],
      "id": "40721e67"
    },
    {
      "cell_type": "markdown",
      "metadata": {
        "id": "8a086c69"
      },
      "source": [
        "# Вот и все!\n",
        "\n",
        "## Дальше семинар"
      ],
      "id": "8a086c69"
    }
  ]
}