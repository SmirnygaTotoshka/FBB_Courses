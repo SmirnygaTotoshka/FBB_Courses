{
  "nbformat": 4,
  "nbformat_minor": 5,
  "metadata": {
    "colab": {
      "name": "ML_in_Bio_Lec_1.ipynb",
      "provenance": [],
      "include_colab_link": true
    },
    "kernelspec": {
      "display_name": "Python 3",
      "language": "python",
      "name": "python3"
    },
    "language_info": {
      "codemirror_mode": {
        "name": "ipython",
        "version": 3
      },
      "file_extension": ".py",
      "mimetype": "text/x-python",
      "name": "python",
      "nbconvert_exporter": "python",
      "pygments_lexer": "ipython3",
      "version": "3.8.5"
    },
    "toc": {
      "base_numbering": 1,
      "nav_menu": {},
      "number_sections": true,
      "sideBar": true,
      "skip_h1_title": false,
      "title_cell": "Table of Contents",
      "title_sidebar": "Contents",
      "toc_cell": false,
      "toc_position": {
        "height": "calc(100% - 180px)",
        "left": "10px",
        "top": "150px",
        "width": "165px"
      },
      "toc_section_display": true,
      "toc_window_display": true
    }
  },
  "cells": [
    {
      "cell_type": "markdown",
      "metadata": {
        "id": "view-in-github",
        "colab_type": "text"
      },
      "source": [
        "<a href=\"https://colab.research.google.com/github/SmirnygaTotoshka/FBB_Courses/blob/main/ML_in_Bio_Lec_1.ipynb\" target=\"_parent\"><img src=\"https://colab.research.google.com/assets/colab-badge.svg\" alt=\"Open In Colab\"/></a>"
      ]
    },
    {
      "cell_type": "markdown",
      "metadata": {
        "id": "straight-begin"
      },
      "source": [
        "# Обзор машинного обучения. Лекция 1"
      ],
      "id": "straight-begin"
    },
    {
      "cell_type": "markdown",
      "metadata": {
        "id": "ranging-helmet"
      },
      "source": [
        "## Введение в машинное обучение"
      ],
      "id": "ranging-helmet"
    },
    {
      "cell_type": "markdown",
      "metadata": {
        "id": "satellite-hawaii"
      },
      "source": [
        "<div align='center'><img src=\"https://kodomo.fbb.msu.ru/FBB/year_20/ml/introductory/ai_ml_dl_relations.png\" alt=\"Drawing\" width= \"700px;\"/></div>"
      ],
      "id": "satellite-hawaii"
    },
    {
      "cell_type": "markdown",
      "metadata": {
        "id": "fitted-attack"
      },
      "source": [
        "<div align='center'><b>Мы в рамках этого курса будем говорить именно про ML и DL.</b></div>"
      ],
      "id": "fitted-attack"
    },
    {
      "cell_type": "markdown",
      "metadata": {
        "id": "expected-struggle"
      },
      "source": [
        "<b>ML - это про программирование.</b>"
      ],
      "id": "expected-struggle"
    },
    {
      "cell_type": "markdown",
      "metadata": {
        "id": "surprised-helping"
      },
      "source": [
        "<b>ML</b> - способ заставить компьютер выполнить какую-то задачу (как и обычное программирование). Как минимум, задача должна быть формализуема (не ждите, что компьютер сам поймёт, что делать). \n",
        "\n",
        "Проблема в том, что для задач, подходящих для ML, очень трудно придумать набор правил и пошагово записать их для компьютера, как в других программистских задачах. \n",
        "\n",
        "Давайте-ка лучше программа выучит закономерности в данных и научится решать задачу... Для того, чтобы оценить, как хорошо эта задача решается, должна быть метрика оценки качества. Говорят, что программа ***P*** *обучается* решать некоторую задачу ***T***, если по мере накопления опыта ***E*** улучшается метрика оценки качества выполнения этой задачи ***M***. "
      ],
      "id": "surprised-helping"
    },
    {
      "cell_type": "markdown",
      "metadata": {
        "id": "compatible-serum"
      },
      "source": [
        "<b>Давайте сразу на примере?</b>"
      ],
      "id": "compatible-serum"
    },
    {
      "cell_type": "code",
      "metadata": {
        "ExecuteTime": {
          "end_time": "2021-02-18T18:53:33.018462Z",
          "start_time": "2021-02-18T18:53:29.196302Z"
        },
        "id": "developing-updating",
        "outputId": "22e7b37a-7936-4b19-c8aa-9d283771ed90"
      },
      "source": [
        "import warnings\n",
        "\n",
        "import pandas as pd\n",
        "import numpy as np\n",
        "from sklearn.datasets import load_breast_cancer\n",
        "from sklearn.model_selection import train_test_split\n",
        "from sklearn.metrics import roc_auc_score\n",
        "from sklearn.linear_model import LogisticRegression\n",
        "from matplotlib import pyplot as plt\n",
        "\n",
        "warnings.filterwarnings('ignore')\n",
        "\n",
        "brca = load_breast_cancer()\n",
        "print(brca.DESCR)\n",
        "X = pd.DataFrame(columns=brca.feature_names, data=brca.data)\n",
        "y = brca.target"
      ],
      "id": "developing-updating",
      "execution_count": null,
      "outputs": [
        {
          "output_type": "stream",
          "text": [
            ".. _breast_cancer_dataset:\n",
            "\n",
            "Breast cancer wisconsin (diagnostic) dataset\n",
            "--------------------------------------------\n",
            "\n",
            "**Data Set Characteristics:**\n",
            "\n",
            "    :Number of Instances: 569\n",
            "\n",
            "    :Number of Attributes: 30 numeric, predictive attributes and the class\n",
            "\n",
            "    :Attribute Information:\n",
            "        - radius (mean of distances from center to points on the perimeter)\n",
            "        - texture (standard deviation of gray-scale values)\n",
            "        - perimeter\n",
            "        - area\n",
            "        - smoothness (local variation in radius lengths)\n",
            "        - compactness (perimeter^2 / area - 1.0)\n",
            "        - concavity (severity of concave portions of the contour)\n",
            "        - concave points (number of concave portions of the contour)\n",
            "        - symmetry\n",
            "        - fractal dimension (\"coastline approximation\" - 1)\n",
            "\n",
            "        The mean, standard error, and \"worst\" or largest (mean of the three\n",
            "        worst/largest values) of these features were computed for each image,\n",
            "        resulting in 30 features.  For instance, field 0 is Mean Radius, field\n",
            "        10 is Radius SE, field 20 is Worst Radius.\n",
            "\n",
            "        - class:\n",
            "                - WDBC-Malignant\n",
            "                - WDBC-Benign\n",
            "\n",
            "    :Summary Statistics:\n",
            "\n",
            "    ===================================== ====== ======\n",
            "                                           Min    Max\n",
            "    ===================================== ====== ======\n",
            "    radius (mean):                        6.981  28.11\n",
            "    texture (mean):                       9.71   39.28\n",
            "    perimeter (mean):                     43.79  188.5\n",
            "    area (mean):                          143.5  2501.0\n",
            "    smoothness (mean):                    0.053  0.163\n",
            "    compactness (mean):                   0.019  0.345\n",
            "    concavity (mean):                     0.0    0.427\n",
            "    concave points (mean):                0.0    0.201\n",
            "    symmetry (mean):                      0.106  0.304\n",
            "    fractal dimension (mean):             0.05   0.097\n",
            "    radius (standard error):              0.112  2.873\n",
            "    texture (standard error):             0.36   4.885\n",
            "    perimeter (standard error):           0.757  21.98\n",
            "    area (standard error):                6.802  542.2\n",
            "    smoothness (standard error):          0.002  0.031\n",
            "    compactness (standard error):         0.002  0.135\n",
            "    concavity (standard error):           0.0    0.396\n",
            "    concave points (standard error):      0.0    0.053\n",
            "    symmetry (standard error):            0.008  0.079\n",
            "    fractal dimension (standard error):   0.001  0.03\n",
            "    radius (worst):                       7.93   36.04\n",
            "    texture (worst):                      12.02  49.54\n",
            "    perimeter (worst):                    50.41  251.2\n",
            "    area (worst):                         185.2  4254.0\n",
            "    smoothness (worst):                   0.071  0.223\n",
            "    compactness (worst):                  0.027  1.058\n",
            "    concavity (worst):                    0.0    1.252\n",
            "    concave points (worst):               0.0    0.291\n",
            "    symmetry (worst):                     0.156  0.664\n",
            "    fractal dimension (worst):            0.055  0.208\n",
            "    ===================================== ====== ======\n",
            "\n",
            "    :Missing Attribute Values: None\n",
            "\n",
            "    :Class Distribution: 212 - Malignant, 357 - Benign\n",
            "\n",
            "    :Creator:  Dr. William H. Wolberg, W. Nick Street, Olvi L. Mangasarian\n",
            "\n",
            "    :Donor: Nick Street\n",
            "\n",
            "    :Date: November, 1995\n",
            "\n",
            "This is a copy of UCI ML Breast Cancer Wisconsin (Diagnostic) datasets.\n",
            "https://goo.gl/U2Uwz2\n",
            "\n",
            "Features are computed from a digitized image of a fine needle\n",
            "aspirate (FNA) of a breast mass.  They describe\n",
            "characteristics of the cell nuclei present in the image.\n",
            "\n",
            "Separating plane described above was obtained using\n",
            "Multisurface Method-Tree (MSM-T) [K. P. Bennett, \"Decision Tree\n",
            "Construction Via Linear Programming.\" Proceedings of the 4th\n",
            "Midwest Artificial Intelligence and Cognitive Science Society,\n",
            "pp. 97-101, 1992], a classification method which uses linear\n",
            "programming to construct a decision tree.  Relevant features\n",
            "were selected using an exhaustive search in the space of 1-4\n",
            "features and 1-3 separating planes.\n",
            "\n",
            "The actual linear program used to obtain the separating plane\n",
            "in the 3-dimensional space is that described in:\n",
            "[K. P. Bennett and O. L. Mangasarian: \"Robust Linear\n",
            "Programming Discrimination of Two Linearly Inseparable Sets\",\n",
            "Optimization Methods and Software 1, 1992, 23-34].\n",
            "\n",
            "This database is also available through the UW CS ftp server:\n",
            "\n",
            "ftp ftp.cs.wisc.edu\n",
            "cd math-prog/cpo-dataset/machine-learn/WDBC/\n",
            "\n",
            ".. topic:: References\n",
            "\n",
            "   - W.N. Street, W.H. Wolberg and O.L. Mangasarian. Nuclear feature extraction \n",
            "     for breast tumor diagnosis. IS&T/SPIE 1993 International Symposium on \n",
            "     Electronic Imaging: Science and Technology, volume 1905, pages 861-870,\n",
            "     San Jose, CA, 1993.\n",
            "   - O.L. Mangasarian, W.N. Street and W.H. Wolberg. Breast cancer diagnosis and \n",
            "     prognosis via linear programming. Operations Research, 43(4), pages 570-577, \n",
            "     July-August 1995.\n",
            "   - W.H. Wolberg, W.N. Street, and O.L. Mangasarian. Machine learning techniques\n",
            "     to diagnose breast cancer from fine-needle aspirates. Cancer Letters 77 (1994) \n",
            "     163-171.\n"
          ],
          "name": "stdout"
        }
      ]
    },
    {
      "cell_type": "markdown",
      "metadata": {
        "id": "dried-declaration"
      },
      "source": [
        "Как правило, каждый из объектов задается набором признаков:<br>\n",
        "$f_j: X\\rightarrow D_j, j=1,\\ldots,n$.\n",
        "\n",
        "Признаки могут быть разные по природе:\n",
        "1. бинарные $D_j=\\{0,1\\}$;\n",
        "2. номинальные (категории) $|D_j| < \\infty$;\n",
        "3. порядковые (ранги) $|D_j| < \\infty$, $D_j$ - упорядочено;\n",
        "4. количественные $D_j = \\mathcal{R}$."
      ],
      "id": "dried-declaration"
    },
    {
      "cell_type": "markdown",
      "metadata": {
        "id": "oriented-therapy"
      },
      "source": [
        "Объект - вектор из признаков. В машинном обучении принято, чтобы объекты были в строках, а признаки - в столбцах. "
      ],
      "id": "oriented-therapy"
    },
    {
      "cell_type": "markdown",
      "metadata": {
        "id": "double-disclosure"
      },
      "source": [
        "Посмотрим на описание объектов в данном примере. "
      ],
      "id": "double-disclosure"
    },
    {
      "cell_type": "code",
      "metadata": {
        "ExecuteTime": {
          "end_time": "2021-02-18T18:53:33.074882Z",
          "start_time": "2021-02-18T18:53:33.020257Z"
        },
        "id": "known-shade",
        "scrolled": false,
        "outputId": "e9b3bd2a-d8b7-4850-bfa1-bb8c16635794"
      },
      "source": [
        "X "
      ],
      "id": "known-shade",
      "execution_count": null,
      "outputs": [
        {
          "output_type": "execute_result",
          "data": {
            "text/html": [
              "<div>\n",
              "<style scoped>\n",
              "    .dataframe tbody tr th:only-of-type {\n",
              "        vertical-align: middle;\n",
              "    }\n",
              "\n",
              "    .dataframe tbody tr th {\n",
              "        vertical-align: top;\n",
              "    }\n",
              "\n",
              "    .dataframe thead th {\n",
              "        text-align: right;\n",
              "    }\n",
              "</style>\n",
              "<table border=\"1\" class=\"dataframe\">\n",
              "  <thead>\n",
              "    <tr style=\"text-align: right;\">\n",
              "      <th></th>\n",
              "      <th>mean radius</th>\n",
              "      <th>mean texture</th>\n",
              "      <th>mean perimeter</th>\n",
              "      <th>mean area</th>\n",
              "      <th>mean smoothness</th>\n",
              "      <th>mean compactness</th>\n",
              "      <th>mean concavity</th>\n",
              "      <th>mean concave points</th>\n",
              "      <th>mean symmetry</th>\n",
              "      <th>mean fractal dimension</th>\n",
              "      <th>...</th>\n",
              "      <th>worst radius</th>\n",
              "      <th>worst texture</th>\n",
              "      <th>worst perimeter</th>\n",
              "      <th>worst area</th>\n",
              "      <th>worst smoothness</th>\n",
              "      <th>worst compactness</th>\n",
              "      <th>worst concavity</th>\n",
              "      <th>worst concave points</th>\n",
              "      <th>worst symmetry</th>\n",
              "      <th>worst fractal dimension</th>\n",
              "    </tr>\n",
              "  </thead>\n",
              "  <tbody>\n",
              "    <tr>\n",
              "      <th>0</th>\n",
              "      <td>17.99</td>\n",
              "      <td>10.38</td>\n",
              "      <td>122.80</td>\n",
              "      <td>1001.0</td>\n",
              "      <td>0.11840</td>\n",
              "      <td>0.27760</td>\n",
              "      <td>0.30010</td>\n",
              "      <td>0.14710</td>\n",
              "      <td>0.2419</td>\n",
              "      <td>0.07871</td>\n",
              "      <td>...</td>\n",
              "      <td>25.380</td>\n",
              "      <td>17.33</td>\n",
              "      <td>184.60</td>\n",
              "      <td>2019.0</td>\n",
              "      <td>0.16220</td>\n",
              "      <td>0.66560</td>\n",
              "      <td>0.7119</td>\n",
              "      <td>0.2654</td>\n",
              "      <td>0.4601</td>\n",
              "      <td>0.11890</td>\n",
              "    </tr>\n",
              "    <tr>\n",
              "      <th>1</th>\n",
              "      <td>20.57</td>\n",
              "      <td>17.77</td>\n",
              "      <td>132.90</td>\n",
              "      <td>1326.0</td>\n",
              "      <td>0.08474</td>\n",
              "      <td>0.07864</td>\n",
              "      <td>0.08690</td>\n",
              "      <td>0.07017</td>\n",
              "      <td>0.1812</td>\n",
              "      <td>0.05667</td>\n",
              "      <td>...</td>\n",
              "      <td>24.990</td>\n",
              "      <td>23.41</td>\n",
              "      <td>158.80</td>\n",
              "      <td>1956.0</td>\n",
              "      <td>0.12380</td>\n",
              "      <td>0.18660</td>\n",
              "      <td>0.2416</td>\n",
              "      <td>0.1860</td>\n",
              "      <td>0.2750</td>\n",
              "      <td>0.08902</td>\n",
              "    </tr>\n",
              "    <tr>\n",
              "      <th>2</th>\n",
              "      <td>19.69</td>\n",
              "      <td>21.25</td>\n",
              "      <td>130.00</td>\n",
              "      <td>1203.0</td>\n",
              "      <td>0.10960</td>\n",
              "      <td>0.15990</td>\n",
              "      <td>0.19740</td>\n",
              "      <td>0.12790</td>\n",
              "      <td>0.2069</td>\n",
              "      <td>0.05999</td>\n",
              "      <td>...</td>\n",
              "      <td>23.570</td>\n",
              "      <td>25.53</td>\n",
              "      <td>152.50</td>\n",
              "      <td>1709.0</td>\n",
              "      <td>0.14440</td>\n",
              "      <td>0.42450</td>\n",
              "      <td>0.4504</td>\n",
              "      <td>0.2430</td>\n",
              "      <td>0.3613</td>\n",
              "      <td>0.08758</td>\n",
              "    </tr>\n",
              "    <tr>\n",
              "      <th>3</th>\n",
              "      <td>11.42</td>\n",
              "      <td>20.38</td>\n",
              "      <td>77.58</td>\n",
              "      <td>386.1</td>\n",
              "      <td>0.14250</td>\n",
              "      <td>0.28390</td>\n",
              "      <td>0.24140</td>\n",
              "      <td>0.10520</td>\n",
              "      <td>0.2597</td>\n",
              "      <td>0.09744</td>\n",
              "      <td>...</td>\n",
              "      <td>14.910</td>\n",
              "      <td>26.50</td>\n",
              "      <td>98.87</td>\n",
              "      <td>567.7</td>\n",
              "      <td>0.20980</td>\n",
              "      <td>0.86630</td>\n",
              "      <td>0.6869</td>\n",
              "      <td>0.2575</td>\n",
              "      <td>0.6638</td>\n",
              "      <td>0.17300</td>\n",
              "    </tr>\n",
              "    <tr>\n",
              "      <th>4</th>\n",
              "      <td>20.29</td>\n",
              "      <td>14.34</td>\n",
              "      <td>135.10</td>\n",
              "      <td>1297.0</td>\n",
              "      <td>0.10030</td>\n",
              "      <td>0.13280</td>\n",
              "      <td>0.19800</td>\n",
              "      <td>0.10430</td>\n",
              "      <td>0.1809</td>\n",
              "      <td>0.05883</td>\n",
              "      <td>...</td>\n",
              "      <td>22.540</td>\n",
              "      <td>16.67</td>\n",
              "      <td>152.20</td>\n",
              "      <td>1575.0</td>\n",
              "      <td>0.13740</td>\n",
              "      <td>0.20500</td>\n",
              "      <td>0.4000</td>\n",
              "      <td>0.1625</td>\n",
              "      <td>0.2364</td>\n",
              "      <td>0.07678</td>\n",
              "    </tr>\n",
              "    <tr>\n",
              "      <th>...</th>\n",
              "      <td>...</td>\n",
              "      <td>...</td>\n",
              "      <td>...</td>\n",
              "      <td>...</td>\n",
              "      <td>...</td>\n",
              "      <td>...</td>\n",
              "      <td>...</td>\n",
              "      <td>...</td>\n",
              "      <td>...</td>\n",
              "      <td>...</td>\n",
              "      <td>...</td>\n",
              "      <td>...</td>\n",
              "      <td>...</td>\n",
              "      <td>...</td>\n",
              "      <td>...</td>\n",
              "      <td>...</td>\n",
              "      <td>...</td>\n",
              "      <td>...</td>\n",
              "      <td>...</td>\n",
              "      <td>...</td>\n",
              "      <td>...</td>\n",
              "    </tr>\n",
              "    <tr>\n",
              "      <th>564</th>\n",
              "      <td>21.56</td>\n",
              "      <td>22.39</td>\n",
              "      <td>142.00</td>\n",
              "      <td>1479.0</td>\n",
              "      <td>0.11100</td>\n",
              "      <td>0.11590</td>\n",
              "      <td>0.24390</td>\n",
              "      <td>0.13890</td>\n",
              "      <td>0.1726</td>\n",
              "      <td>0.05623</td>\n",
              "      <td>...</td>\n",
              "      <td>25.450</td>\n",
              "      <td>26.40</td>\n",
              "      <td>166.10</td>\n",
              "      <td>2027.0</td>\n",
              "      <td>0.14100</td>\n",
              "      <td>0.21130</td>\n",
              "      <td>0.4107</td>\n",
              "      <td>0.2216</td>\n",
              "      <td>0.2060</td>\n",
              "      <td>0.07115</td>\n",
              "    </tr>\n",
              "    <tr>\n",
              "      <th>565</th>\n",
              "      <td>20.13</td>\n",
              "      <td>28.25</td>\n",
              "      <td>131.20</td>\n",
              "      <td>1261.0</td>\n",
              "      <td>0.09780</td>\n",
              "      <td>0.10340</td>\n",
              "      <td>0.14400</td>\n",
              "      <td>0.09791</td>\n",
              "      <td>0.1752</td>\n",
              "      <td>0.05533</td>\n",
              "      <td>...</td>\n",
              "      <td>23.690</td>\n",
              "      <td>38.25</td>\n",
              "      <td>155.00</td>\n",
              "      <td>1731.0</td>\n",
              "      <td>0.11660</td>\n",
              "      <td>0.19220</td>\n",
              "      <td>0.3215</td>\n",
              "      <td>0.1628</td>\n",
              "      <td>0.2572</td>\n",
              "      <td>0.06637</td>\n",
              "    </tr>\n",
              "    <tr>\n",
              "      <th>566</th>\n",
              "      <td>16.60</td>\n",
              "      <td>28.08</td>\n",
              "      <td>108.30</td>\n",
              "      <td>858.1</td>\n",
              "      <td>0.08455</td>\n",
              "      <td>0.10230</td>\n",
              "      <td>0.09251</td>\n",
              "      <td>0.05302</td>\n",
              "      <td>0.1590</td>\n",
              "      <td>0.05648</td>\n",
              "      <td>...</td>\n",
              "      <td>18.980</td>\n",
              "      <td>34.12</td>\n",
              "      <td>126.70</td>\n",
              "      <td>1124.0</td>\n",
              "      <td>0.11390</td>\n",
              "      <td>0.30940</td>\n",
              "      <td>0.3403</td>\n",
              "      <td>0.1418</td>\n",
              "      <td>0.2218</td>\n",
              "      <td>0.07820</td>\n",
              "    </tr>\n",
              "    <tr>\n",
              "      <th>567</th>\n",
              "      <td>20.60</td>\n",
              "      <td>29.33</td>\n",
              "      <td>140.10</td>\n",
              "      <td>1265.0</td>\n",
              "      <td>0.11780</td>\n",
              "      <td>0.27700</td>\n",
              "      <td>0.35140</td>\n",
              "      <td>0.15200</td>\n",
              "      <td>0.2397</td>\n",
              "      <td>0.07016</td>\n",
              "      <td>...</td>\n",
              "      <td>25.740</td>\n",
              "      <td>39.42</td>\n",
              "      <td>184.60</td>\n",
              "      <td>1821.0</td>\n",
              "      <td>0.16500</td>\n",
              "      <td>0.86810</td>\n",
              "      <td>0.9387</td>\n",
              "      <td>0.2650</td>\n",
              "      <td>0.4087</td>\n",
              "      <td>0.12400</td>\n",
              "    </tr>\n",
              "    <tr>\n",
              "      <th>568</th>\n",
              "      <td>7.76</td>\n",
              "      <td>24.54</td>\n",
              "      <td>47.92</td>\n",
              "      <td>181.0</td>\n",
              "      <td>0.05263</td>\n",
              "      <td>0.04362</td>\n",
              "      <td>0.00000</td>\n",
              "      <td>0.00000</td>\n",
              "      <td>0.1587</td>\n",
              "      <td>0.05884</td>\n",
              "      <td>...</td>\n",
              "      <td>9.456</td>\n",
              "      <td>30.37</td>\n",
              "      <td>59.16</td>\n",
              "      <td>268.6</td>\n",
              "      <td>0.08996</td>\n",
              "      <td>0.06444</td>\n",
              "      <td>0.0000</td>\n",
              "      <td>0.0000</td>\n",
              "      <td>0.2871</td>\n",
              "      <td>0.07039</td>\n",
              "    </tr>\n",
              "  </tbody>\n",
              "</table>\n",
              "<p>569 rows × 30 columns</p>\n",
              "</div>"
            ],
            "text/plain": [
              "     mean radius  mean texture  mean perimeter  mean area  mean smoothness  \\\n",
              "0          17.99         10.38          122.80     1001.0          0.11840   \n",
              "1          20.57         17.77          132.90     1326.0          0.08474   \n",
              "2          19.69         21.25          130.00     1203.0          0.10960   \n",
              "3          11.42         20.38           77.58      386.1          0.14250   \n",
              "4          20.29         14.34          135.10     1297.0          0.10030   \n",
              "..           ...           ...             ...        ...              ...   \n",
              "564        21.56         22.39          142.00     1479.0          0.11100   \n",
              "565        20.13         28.25          131.20     1261.0          0.09780   \n",
              "566        16.60         28.08          108.30      858.1          0.08455   \n",
              "567        20.60         29.33          140.10     1265.0          0.11780   \n",
              "568         7.76         24.54           47.92      181.0          0.05263   \n",
              "\n",
              "     mean compactness  mean concavity  mean concave points  mean symmetry  \\\n",
              "0             0.27760         0.30010              0.14710         0.2419   \n",
              "1             0.07864         0.08690              0.07017         0.1812   \n",
              "2             0.15990         0.19740              0.12790         0.2069   \n",
              "3             0.28390         0.24140              0.10520         0.2597   \n",
              "4             0.13280         0.19800              0.10430         0.1809   \n",
              "..                ...             ...                  ...            ...   \n",
              "564           0.11590         0.24390              0.13890         0.1726   \n",
              "565           0.10340         0.14400              0.09791         0.1752   \n",
              "566           0.10230         0.09251              0.05302         0.1590   \n",
              "567           0.27700         0.35140              0.15200         0.2397   \n",
              "568           0.04362         0.00000              0.00000         0.1587   \n",
              "\n",
              "     mean fractal dimension  ...  worst radius  worst texture  \\\n",
              "0                   0.07871  ...        25.380          17.33   \n",
              "1                   0.05667  ...        24.990          23.41   \n",
              "2                   0.05999  ...        23.570          25.53   \n",
              "3                   0.09744  ...        14.910          26.50   \n",
              "4                   0.05883  ...        22.540          16.67   \n",
              "..                      ...  ...           ...            ...   \n",
              "564                 0.05623  ...        25.450          26.40   \n",
              "565                 0.05533  ...        23.690          38.25   \n",
              "566                 0.05648  ...        18.980          34.12   \n",
              "567                 0.07016  ...        25.740          39.42   \n",
              "568                 0.05884  ...         9.456          30.37   \n",
              "\n",
              "     worst perimeter  worst area  worst smoothness  worst compactness  \\\n",
              "0             184.60      2019.0           0.16220            0.66560   \n",
              "1             158.80      1956.0           0.12380            0.18660   \n",
              "2             152.50      1709.0           0.14440            0.42450   \n",
              "3              98.87       567.7           0.20980            0.86630   \n",
              "4             152.20      1575.0           0.13740            0.20500   \n",
              "..               ...         ...               ...                ...   \n",
              "564           166.10      2027.0           0.14100            0.21130   \n",
              "565           155.00      1731.0           0.11660            0.19220   \n",
              "566           126.70      1124.0           0.11390            0.30940   \n",
              "567           184.60      1821.0           0.16500            0.86810   \n",
              "568            59.16       268.6           0.08996            0.06444   \n",
              "\n",
              "     worst concavity  worst concave points  worst symmetry  \\\n",
              "0             0.7119                0.2654          0.4601   \n",
              "1             0.2416                0.1860          0.2750   \n",
              "2             0.4504                0.2430          0.3613   \n",
              "3             0.6869                0.2575          0.6638   \n",
              "4             0.4000                0.1625          0.2364   \n",
              "..               ...                   ...             ...   \n",
              "564           0.4107                0.2216          0.2060   \n",
              "565           0.3215                0.1628          0.2572   \n",
              "566           0.3403                0.1418          0.2218   \n",
              "567           0.9387                0.2650          0.4087   \n",
              "568           0.0000                0.0000          0.2871   \n",
              "\n",
              "     worst fractal dimension  \n",
              "0                    0.11890  \n",
              "1                    0.08902  \n",
              "2                    0.08758  \n",
              "3                    0.17300  \n",
              "4                    0.07678  \n",
              "..                       ...  \n",
              "564                  0.07115  \n",
              "565                  0.06637  \n",
              "566                  0.07820  \n",
              "567                  0.12400  \n",
              "568                  0.07039  \n",
              "\n",
              "[569 rows x 30 columns]"
            ]
          },
          "metadata": {
            "tags": []
          },
          "execution_count": 2
        }
      ]
    },
    {
      "cell_type": "markdown",
      "metadata": {
        "id": "limited-ocean"
      },
      "source": [
        "Посмотрим, что хотим научиться предсказывать."
      ],
      "id": "limited-ocean"
    },
    {
      "cell_type": "code",
      "metadata": {
        "ExecuteTime": {
          "end_time": "2021-02-18T18:53:33.144464Z",
          "start_time": "2021-02-18T18:53:33.076223Z"
        },
        "id": "fatty-better",
        "scrolled": true,
        "outputId": "573c1b91-8d24-4e5f-c41f-fdc0d489ff03"
      },
      "source": [
        "print(brca.target_names)\n",
        "print(y)"
      ],
      "id": "fatty-better",
      "execution_count": null,
      "outputs": [
        {
          "output_type": "stream",
          "text": [
            "['malignant' 'benign']\n",
            "[0 0 0 0 0 0 0 0 0 0 0 0 0 0 0 0 0 0 0 1 1 1 0 0 0 0 0 0 0 0 0 0 0 0 0 0 0\n",
            " 1 0 0 0 0 0 0 0 0 1 0 1 1 1 1 1 0 0 1 0 0 1 1 1 1 0 1 0 0 1 1 1 1 0 1 0 0\n",
            " 1 0 1 0 0 1 1 1 0 0 1 0 0 0 1 1 1 0 1 1 0 0 1 1 1 0 0 1 1 1 1 0 1 1 0 1 1\n",
            " 1 1 1 1 1 1 0 0 0 1 0 0 1 1 1 0 0 1 0 1 0 0 1 0 0 1 1 0 1 1 0 1 1 1 1 0 1\n",
            " 1 1 1 1 1 1 1 1 0 1 1 1 1 0 0 1 0 1 1 0 0 1 1 0 0 1 1 1 1 0 1 1 0 0 0 1 0\n",
            " 1 0 1 1 1 0 1 1 0 0 1 0 0 0 0 1 0 0 0 1 0 1 0 1 1 0 1 0 0 0 0 1 1 0 0 1 1\n",
            " 1 0 1 1 1 1 1 0 0 1 1 0 1 1 0 0 1 0 1 1 1 1 0 1 1 1 1 1 0 1 0 0 0 0 0 0 0\n",
            " 0 0 0 0 0 0 0 1 1 1 1 1 1 0 1 0 1 1 0 1 1 0 1 0 0 1 1 1 1 1 1 1 1 1 1 1 1\n",
            " 1 0 1 1 0 1 0 1 1 1 1 1 1 1 1 1 1 1 1 1 1 0 1 1 1 0 1 0 1 1 1 1 0 0 0 1 1\n",
            " 1 1 0 1 0 1 0 1 1 1 0 1 1 1 1 1 1 1 0 0 0 1 1 1 1 1 1 1 1 1 1 1 0 0 1 0 0\n",
            " 0 1 0 0 1 1 1 1 1 0 1 1 1 1 1 0 1 1 1 0 1 1 0 0 1 1 1 1 1 1 0 1 1 1 1 1 1\n",
            " 1 0 1 1 1 1 1 0 1 1 0 1 1 1 1 1 1 1 1 1 1 1 1 0 1 0 0 1 0 1 1 1 1 1 0 1 1\n",
            " 0 1 0 1 1 0 1 0 1 1 1 1 1 1 1 1 0 0 1 1 1 1 1 1 0 1 1 1 1 1 1 1 1 1 1 0 1\n",
            " 1 1 1 1 1 1 0 1 0 1 1 0 1 1 1 1 1 0 0 1 0 1 0 1 1 1 1 1 0 1 1 0 1 0 1 0 0\n",
            " 1 1 1 0 1 1 1 1 1 1 1 1 1 1 1 0 1 0 0 1 1 1 1 1 1 1 1 1 1 1 1 1 1 1 1 1 1\n",
            " 1 1 1 1 1 1 1 0 0 0 0 0 0 1]\n"
          ],
          "name": "stdout"
        }
      ]
    },
    {
      "cell_type": "markdown",
      "metadata": {
        "id": "residential-transsexual"
      },
      "source": [
        "**Мы говорили, что программа должна лучше выполнять задачу в рамках некоторой метрике по мере накопления опыта, верно?**<br>\n",
        "Посмотрим на это. "
      ],
      "id": "residential-transsexual"
    },
    {
      "cell_type": "code",
      "metadata": {
        "ExecuteTime": {
          "end_time": "2021-02-18T18:53:36.301578Z",
          "start_time": "2021-02-18T18:53:33.147838Z"
        },
        "id": "anonymous-vehicle",
        "scrolled": false,
        "outputId": "4d84594d-a2bb-4e16-bc4c-69e98655e3f8"
      },
      "source": [
        "X_train, X_test, y_train, y_test = train_test_split(\n",
        "    X, y, test_size=0.2, random_state=2)\n",
        "\n",
        "clf = LogisticRegression(random_state=1)\n",
        "\n",
        "shape = range(10, X_train.shape[0], 5)\n",
        "eval_res = pd.DataFrame(index=shape, columns=['Train set size',\n",
        "                                              'Test AUC-ROC'])\n",
        "eval_res['Train set size'] = list(shape)\n",
        "\n",
        "for i in shape:\n",
        "    clf.fit(X_train[:i], y_train[:i])\n",
        "    y_pred = clf.predict_proba(X_test)[:, 1]\n",
        "    test_score = roc_auc_score(y_true=y_test,\n",
        "                               y_score=y_pred)\n",
        "    eval_res.at[i, 'Test AUC-ROC'] = test_score\n",
        "\n",
        "plt.figure(figsize=(8, 8))\n",
        "plt.title('Quality VS Experience', fontdict={'fontsize': 24})\n",
        "plt.ylabel('Quality', fontdict={'fontsize': 16})\n",
        "plt.xlabel('Train set size', fontdict={'fontsize': 16})\n",
        "plt.plot(eval_res['Train set size'], eval_res['Test AUC-ROC']);"
      ],
      "id": "anonymous-vehicle",
      "execution_count": null,
      "outputs": [
        {
          "output_type": "display_data",
          "data": {
            "image/png": "[encoded data removed]",
            "text/plain": [
              "<Figure size 576x576 with 1 Axes>"
            ]
          },
          "metadata": {
            "tags": [],
            "needs_background": "light"
          }
        }
      ]
    },
    {
      "cell_type": "markdown",
      "metadata": {
        "id": "similar-savage"
      },
      "source": [
        "Итак, у нас некоторый алгоритм предсказывал, является ли новообразование злокачественным или доброкачественным (**задача**), причём делал это лучше с точки зрения **метрики** AUC-ROC по мере увеличения размера обучающей выборки (**опыта**). "
      ],
      "id": "similar-savage"
    },
    {
      "cell_type": "markdown",
      "metadata": {
        "id": "smart-pilot"
      },
      "source": [
        "Что концептуально произошло? \n",
        "<div align='center'><img src=\"https://kodomo.fbb.msu.ru/FBB/year_20/ml/introductory/workflow.png\" alt=\"Drawing\" width= \"900px;\"/></div>"
      ],
      "id": "smart-pilot"
    },
    {
      "cell_type": "markdown",
      "metadata": {
        "id": "standard-cabin"
      },
      "source": [
        "В данном \"игрушечном\" примере извлечение признаков сделали за нас, но всё же кто-то эти признаки придумал. "
      ],
      "id": "standard-cabin"
    },
    {
      "cell_type": "markdown",
      "metadata": {
        "id": "northern-powell"
      },
      "source": [
        "Мы посмотрели на один пример машинного обучения, но оно бывает разное."
      ],
      "id": "northern-powell"
    },
    {
      "cell_type": "markdown",
      "metadata": {
        "id": "hawaiian-place"
      },
      "source": [
        "## Некоторые серьёзные успехи ML в биологии"
      ],
      "id": "hawaiian-place"
    },
    {
      "cell_type": "markdown",
      "metadata": {
        "id": "veterinary-engagement"
      },
      "source": [
        "### AlphaFold2 "
      ],
      "id": "veterinary-engagement"
    },
    {
      "cell_type": "markdown",
      "metadata": {
        "id": "WKt_V_ju2rga"
      },
      "source": [
        "<div align='center'><img src=\"https://kodomo.fbb.msu.ru/FBB/year_20/ml/introductory/af2.png\" alt=\"Drawing\" width= \"1000px;\"/></div>"
      ],
      "id": "WKt_V_ju2rga"
    },
    {
      "cell_type": "markdown",
      "metadata": {
        "id": "de7c1917"
      },
      "source": [
        "![alphafold2](https://lh3.googleusercontent.com/J5RC0j1DeUWaNc5h6nGwJwsQSLUuTXINP6we2ymLJ_WUg9bH-hvfvI8WVFeghN-_YR69MryNK5O2rFcVNwz9PZePpBtLdwdshCGzLdM=w1440-rw-v1)\n",
        "Source: https://deepmind.com/blog/article/alphafold-a-solution-to-a-50-year-old-grand-challenge-in-biology\n",
        "\n",
        "https://doi.org/10.1038/s41586-021-03819-2"
      ],
      "id": "de7c1917"
    },
    {
      "cell_type": "markdown",
      "metadata": {
        "id": "t2Qh9X1vCeU_"
      },
      "source": [
        "Но иногда бывает и такое... \n",
        "\n",
        "<div align='center'><img src=\"https://kodomo.fbb.msu.ru/FBB/year_20/ml/introductory/fail.jpg\" alt=\"Drawing\" width= \"400px;\"/></div>\n",
        "\n",
        "К чести AlphaFold2, степень уверенности модели в петлях низкая."
      ],
      "id": "t2Qh9X1vCeU_"
    },
    {
      "cell_type": "markdown",
      "metadata": {
        "id": "unauthorized-outline"
      },
      "source": [
        "### Отбор/генерация молекул - кандидатов в лекарства"
      ],
      "id": "unauthorized-outline"
    },
    {
      "cell_type": "markdown",
      "metadata": {
        "id": "contained-persian"
      },
      "source": [
        "<div align='center'><img src=\"https://kodomo.fbb.msu.ru/FBB/year_20/ml/introductory/antibiotic_discovery.png\" alt=\"Drawing\" width= \"600px;\"/></div>\n",
        "\n",
        "Source: https://doi.org/10.1016/j.cell.2020.01.021"
      ],
      "id": "contained-persian"
    },
    {
      "cell_type": "markdown",
      "metadata": {
        "id": "reserved-newcastle"
      },
      "source": [
        "### Ускорение super-resolution микроскопии"
      ],
      "id": "reserved-newcastle"
    },
    {
      "cell_type": "markdown",
      "metadata": {
        "id": "meaning-funds"
      },
      "source": [
        "<div align='center'><img src=\"https://kodomo.fbb.msu.ru/FBB/year_20/ml/introductory/anna_palm.png\" alt=\"Drawing\" width= \"800px;\"/></div>\n",
        "\n",
        "Source: https://doi.org/10.1038/nbt.4106"
      ],
      "id": "meaning-funds"
    },
    {
      "cell_type": "markdown",
      "metadata": {
        "id": "spatial-diana"
      },
      "source": [
        "## Виды машинного обучения"
      ],
      "id": "spatial-diana"
    },
    {
      "cell_type": "markdown",
      "metadata": {
        "id": "saving-money"
      },
      "source": [
        "* <b>Supervised learning</b> (обучение на размеченных данных/обучение по прецедентам/обучение с учителем)\n",
        "* <b>Unsupervised learning</b> (обучение на неразмеченных данных/обучение без учителя)\n",
        "* *Semi-supervised learning* (обучение на частично размеченных данных/обучение с частичным привлечением учителя)\n",
        "* Reinforcement learning (обучение с подкреплением)\n",
        "* *Self-supervised learning* (самообучение)\n",
        "* ... "
      ],
      "id": "saving-money"
    },
    {
      "cell_type": "markdown",
      "metadata": {
        "id": "imposed-acquisition"
      },
      "source": [
        "### Обучение на размеченных данных "
      ],
      "id": "imposed-acquisition"
    },
    {
      "cell_type": "markdown",
      "metadata": {
        "id": "italic-monroe"
      },
      "source": [
        "Пусть $X$ - признаковое пространство объектов, а $Y$ - множество допустимых значений целевой переменной.<br>\n",
        "Исходя из предположения о существовании функции $y: X \\rightarrow Y$, и имея<br>\n",
        "*обучающую выборку* $\\{x_1, \\ldots, x_l\\}\\subset X$<br>\n",
        "с *известными ответами* $y_i=y(x_i), i=1,\\ldots,l$ ($y$ тоже может быть вектором!)<br>\n",
        "\n",
        "***хотим найти:***\n",
        "$a: X \\rightarrow Y$ - алгоритм, приближающий $y$ на всем множестве $X$.\n",
        "\n",
        "*Метод обучения* $\\mu: (X\\times Y)\\rightarrow A$, по произвольной обучающей выборке $X^l=(x_i, y_i)_{i=1}^l$ находит некоторый соответствующий алгоритм $a\\in A$.\n",
        "\n",
        "$A=\\{g(x,\\theta) | \\theta\\in\\Theta\\}$ - параметрическое семейство функций,\n",
        "где $g: X\\times\\Theta\\rightarrow Y$ - фиксированная функция.\n",
        "$\\theta$ - веса модели. "
      ],
      "id": "italic-monroe"
    },
    {
      "cell_type": "code",
      "metadata": {
        "ExecuteTime": {
          "end_time": "2021-02-18T18:53:36.306967Z",
          "start_time": "2021-02-18T18:53:36.303050Z"
        },
        "id": "conceptual-newport"
      },
      "source": [
        "clf = LogisticRegression(random_state=1)"
      ],
      "id": "conceptual-newport",
      "execution_count": null,
      "outputs": []
    },
    {
      "cell_type": "markdown",
      "metadata": {
        "id": "saved-canadian"
      },
      "source": [
        "* Обучение модели на имеющихся данных: метод $\\mu$ по выборке $X^l$ строит алгоритм $a=\\mu(X^l)$. \n",
        "\n",
        "$\\Bigg[\\begin{pmatrix} f_1(x_1) & \\ldots & f_n(x_1) \\\\ \\ldots & \\ldots & \\ldots \\\\ f_1(x_l) & \\ldots & f_n(x_l) \\end{pmatrix} \\rightarrow \\begin{pmatrix} y_1 \\\\ \\ldots \\\\ y_l \\end{pmatrix} \\Bigg]\\rightarrow a$<br>"
      ],
      "id": "saved-canadian"
    },
    {
      "cell_type": "code",
      "metadata": {
        "ExecuteTime": {
          "end_time": "2021-02-18T18:53:36.401673Z",
          "start_time": "2021-02-18T18:53:36.313012Z"
        },
        "id": "corrected-robinson",
        "outputId": "0b256a56-4f08-45ed-b8f4-aeaf0293d02b"
      },
      "source": [
        "clf.fit(X_train, y_train)"
      ],
      "id": "corrected-robinson",
      "execution_count": null,
      "outputs": [
        {
          "output_type": "execute_result",
          "data": {
            "text/plain": [
              "LogisticRegression(random_state=1)"
            ]
          },
          "metadata": {
            "tags": []
          },
          "execution_count": 6
        }
      ]
    },
    {
      "cell_type": "markdown",
      "metadata": {
        "id": "infrared-thesis"
      },
      "source": [
        "* Применение обученной модели на новых данных: алгоритм $a$ для новых объектов $x$ выдает ответы $a(x)$. \n",
        "\n",
        "$\\begin{pmatrix} f_1(x'_1) & \\ldots & f_n(x'_1) \\\\ \\ldots & \\ldots & \\ldots \\\\ f_1(x'_k) & \\ldots & f_n(x'_k) \\end{pmatrix} \\rightarrow \\begin{pmatrix} a(x'_1) \\\\ \\ldots \\\\ a(x'_k) \\end{pmatrix}$"
      ],
      "id": "infrared-thesis"
    },
    {
      "cell_type": "code",
      "metadata": {
        "ExecuteTime": {
          "end_time": "2021-02-18T18:53:36.411056Z",
          "start_time": "2021-02-18T18:53:36.403243Z"
        },
        "id": "alert-notebook",
        "outputId": "fc4b0f6c-81f3-4fa7-ee87-407d7706bc89"
      },
      "source": [
        "clf.predict(X_test)"
      ],
      "id": "alert-notebook",
      "execution_count": null,
      "outputs": [
        {
          "output_type": "execute_result",
          "data": {
            "text/plain": [
              "array([1, 1, 1, 0, 0, 0, 1, 1, 1, 1, 0, 1, 1, 1, 1, 0, 1, 1, 1, 0, 1, 1,\n",
              "       1, 1, 1, 0, 1, 1, 0, 0, 1, 1, 1, 0, 0, 1, 1, 0, 1, 1, 0, 0, 1, 1,\n",
              "       0, 1, 1, 1, 0, 0, 1, 0, 0, 1, 1, 0, 1, 1, 1, 1, 1, 0, 1, 0, 0, 1,\n",
              "       0, 0, 0, 1, 1, 0, 1, 0, 1, 0, 1, 1, 0, 0, 0, 0, 0, 1, 1, 0, 1, 1,\n",
              "       1, 0, 1, 1, 1, 0, 0, 1, 0, 0, 1, 1, 1, 0, 0, 0, 1, 1, 1, 1, 1, 1,\n",
              "       0, 0, 1, 0])"
            ]
          },
          "metadata": {
            "tags": []
          },
          "execution_count": 7
        }
      ]
    },
    {
      "cell_type": "markdown",
      "metadata": {
        "id": "statewide-jungle"
      },
      "source": [
        "![fit-predict](https://www.meme-arsenal.com/memes/9dc9a016bb80921aa7be05ad62400f94.jpg)"
      ],
      "id": "statewide-jungle"
    },
    {
      "cell_type": "markdown",
      "metadata": {
        "id": "primary-appointment"
      },
      "source": [
        "Ура, мы умеем в ML? Где наша з/п 300 килорублей в секунду???\n",
        "\n",
        "Не совсем..."
      ],
      "id": "primary-appointment"
    },
    {
      "cell_type": "markdown",
      "metadata": {
        "id": "answering-upset"
      },
      "source": [
        "**ML - это про статистику.**\n",
        "\n",
        "По выборке мы хотим получить представление о генеральной совокупности, а именно - оценить плотность $p(y|x)$.<br>\n",
        "Если выборка нерепрезентативна, то ничего не получится. Дизайн эксперимента важен! "
      ],
      "id": "answering-upset"
    },
    {
      "cell_type": "markdown",
      "metadata": {
        "id": "stupid-layer"
      },
      "source": [
        "<div align='center'><img src=\"https://kodomo.fbb.msu.ru/FBB/year_20/ml/introductory/lifecycle.png\" alt=\"Drawing\" width= \"1000px;\"/></div>\n"
      ],
      "id": "stupid-layer"
    },
    {
      "cell_type": "markdown",
      "metadata": {
        "id": "fatal-spare"
      },
      "source": [
        "Этапы получения и препроцессинга данных невероятно важны! \n",
        "\n",
        "**ML - это иногда про Авгиевы конюшни**, ведь данные могут быть:\n",
        "\n",
        "* неточными - погрешности измерения, в биологии регулярно;\n",
        "* разнородными - указаны в разных шкалах или единицах измерения;\n",
        "* неполными - есть пропуски в данных, для некоторых объектов не указано(ы) значение(я);\n",
        "* противоречивыми - разные ответы для одинаковых объектов;\n",
        "* избыточными - слишком много объектов - вычислительно трудно их обрабатывать, слишком много признаков - много шума;\n",
        "* недостаточными - объектов мало, признаков много (GWAS);\n",
        "* неструктурированными - нет признаковых описаний (в случае картинок, аудио, видео, текстов и пр. - DL в помощь);\n",
        "* ..."
      ],
      "id": "fatal-spare"
    },
    {
      "cell_type": "code",
      "metadata": {
        "ExecuteTime": {
          "end_time": "2021-02-18T18:53:37.677209Z",
          "start_time": "2021-02-18T18:53:36.412321Z"
        },
        "id": "arctic-seating"
      },
      "source": [
        "survey = pd.read_csv('developer_survey_2020/survey_results_public.csv')"
      ],
      "id": "arctic-seating",
      "execution_count": null,
      "outputs": []
    },
    {
      "cell_type": "code",
      "metadata": {
        "ExecuteTime": {
          "end_time": "2021-02-18T18:53:37.725567Z",
          "start_time": "2021-02-18T18:53:37.678715Z"
        },
        "id": "exact-power",
        "scrolled": false,
        "outputId": "5c84681a-f2e5-46ff-ef21-45d9c2bcaf1d"
      },
      "source": [
        "survey.head(10) "
      ],
      "id": "exact-power",
      "execution_count": null,
      "outputs": [
        {
          "output_type": "execute_result",
          "data": {
            "text/html": [
              "<div>\n",
              "<style scoped>\n",
              "    .dataframe tbody tr th:only-of-type {\n",
              "        vertical-align: middle;\n",
              "    }\n",
              "\n",
              "    .dataframe tbody tr th {\n",
              "        vertical-align: top;\n",
              "    }\n",
              "\n",
              "    .dataframe thead th {\n",
              "        text-align: right;\n",
              "    }\n",
              "</style>\n",
              "<table border=\"1\" class=\"dataframe\">\n",
              "  <thead>\n",
              "    <tr style=\"text-align: right;\">\n",
              "      <th></th>\n",
              "      <th>Respondent</th>\n",
              "      <th>MainBranch</th>\n",
              "      <th>Hobbyist</th>\n",
              "      <th>Age</th>\n",
              "      <th>Age1stCode</th>\n",
              "      <th>CompFreq</th>\n",
              "      <th>CompTotal</th>\n",
              "      <th>ConvertedComp</th>\n",
              "      <th>Country</th>\n",
              "      <th>CurrencyDesc</th>\n",
              "      <th>...</th>\n",
              "      <th>SurveyEase</th>\n",
              "      <th>SurveyLength</th>\n",
              "      <th>Trans</th>\n",
              "      <th>UndergradMajor</th>\n",
              "      <th>WebframeDesireNextYear</th>\n",
              "      <th>WebframeWorkedWith</th>\n",
              "      <th>WelcomeChange</th>\n",
              "      <th>WorkWeekHrs</th>\n",
              "      <th>YearsCode</th>\n",
              "      <th>YearsCodePro</th>\n",
              "    </tr>\n",
              "  </thead>\n",
              "  <tbody>\n",
              "    <tr>\n",
              "      <th>0</th>\n",
              "      <td>1</td>\n",
              "      <td>I am a developer by profession</td>\n",
              "      <td>Yes</td>\n",
              "      <td>NaN</td>\n",
              "      <td>13</td>\n",
              "      <td>Monthly</td>\n",
              "      <td>NaN</td>\n",
              "      <td>NaN</td>\n",
              "      <td>Germany</td>\n",
              "      <td>European Euro</td>\n",
              "      <td>...</td>\n",
              "      <td>Neither easy nor difficult</td>\n",
              "      <td>Appropriate in length</td>\n",
              "      <td>No</td>\n",
              "      <td>Computer science, computer engineering, or sof...</td>\n",
              "      <td>ASP.NET Core</td>\n",
              "      <td>ASP.NET;ASP.NET Core</td>\n",
              "      <td>Just as welcome now as I felt last year</td>\n",
              "      <td>50.0</td>\n",
              "      <td>36</td>\n",
              "      <td>27</td>\n",
              "    </tr>\n",
              "    <tr>\n",
              "      <th>1</th>\n",
              "      <td>2</td>\n",
              "      <td>I am a developer by profession</td>\n",
              "      <td>No</td>\n",
              "      <td>NaN</td>\n",
              "      <td>19</td>\n",
              "      <td>NaN</td>\n",
              "      <td>NaN</td>\n",
              "      <td>NaN</td>\n",
              "      <td>United Kingdom</td>\n",
              "      <td>Pound sterling</td>\n",
              "      <td>...</td>\n",
              "      <td>NaN</td>\n",
              "      <td>NaN</td>\n",
              "      <td>NaN</td>\n",
              "      <td>Computer science, computer engineering, or sof...</td>\n",
              "      <td>NaN</td>\n",
              "      <td>NaN</td>\n",
              "      <td>Somewhat more welcome now than last year</td>\n",
              "      <td>NaN</td>\n",
              "      <td>7</td>\n",
              "      <td>4</td>\n",
              "    </tr>\n",
              "    <tr>\n",
              "      <th>2</th>\n",
              "      <td>3</td>\n",
              "      <td>I code primarily as a hobby</td>\n",
              "      <td>Yes</td>\n",
              "      <td>NaN</td>\n",
              "      <td>15</td>\n",
              "      <td>NaN</td>\n",
              "      <td>NaN</td>\n",
              "      <td>NaN</td>\n",
              "      <td>Russian Federation</td>\n",
              "      <td>NaN</td>\n",
              "      <td>...</td>\n",
              "      <td>Neither easy nor difficult</td>\n",
              "      <td>Appropriate in length</td>\n",
              "      <td>NaN</td>\n",
              "      <td>NaN</td>\n",
              "      <td>NaN</td>\n",
              "      <td>NaN</td>\n",
              "      <td>Somewhat more welcome now than last year</td>\n",
              "      <td>NaN</td>\n",
              "      <td>4</td>\n",
              "      <td>NaN</td>\n",
              "    </tr>\n",
              "    <tr>\n",
              "      <th>3</th>\n",
              "      <td>4</td>\n",
              "      <td>I am a developer by profession</td>\n",
              "      <td>Yes</td>\n",
              "      <td>25.0</td>\n",
              "      <td>18</td>\n",
              "      <td>NaN</td>\n",
              "      <td>NaN</td>\n",
              "      <td>NaN</td>\n",
              "      <td>Albania</td>\n",
              "      <td>Albanian lek</td>\n",
              "      <td>...</td>\n",
              "      <td>NaN</td>\n",
              "      <td>NaN</td>\n",
              "      <td>No</td>\n",
              "      <td>Computer science, computer engineering, or sof...</td>\n",
              "      <td>NaN</td>\n",
              "      <td>NaN</td>\n",
              "      <td>Somewhat less welcome now than last year</td>\n",
              "      <td>40.0</td>\n",
              "      <td>7</td>\n",
              "      <td>4</td>\n",
              "    </tr>\n",
              "    <tr>\n",
              "      <th>4</th>\n",
              "      <td>5</td>\n",
              "      <td>I used to be a developer by profession, but no...</td>\n",
              "      <td>Yes</td>\n",
              "      <td>31.0</td>\n",
              "      <td>16</td>\n",
              "      <td>NaN</td>\n",
              "      <td>NaN</td>\n",
              "      <td>NaN</td>\n",
              "      <td>United States</td>\n",
              "      <td>NaN</td>\n",
              "      <td>...</td>\n",
              "      <td>Easy</td>\n",
              "      <td>Too short</td>\n",
              "      <td>No</td>\n",
              "      <td>Computer science, computer engineering, or sof...</td>\n",
              "      <td>Django;Ruby on Rails</td>\n",
              "      <td>Ruby on Rails</td>\n",
              "      <td>Just as welcome now as I felt last year</td>\n",
              "      <td>NaN</td>\n",
              "      <td>15</td>\n",
              "      <td>8</td>\n",
              "    </tr>\n",
              "    <tr>\n",
              "      <th>5</th>\n",
              "      <td>6</td>\n",
              "      <td>I am a developer by profession</td>\n",
              "      <td>No</td>\n",
              "      <td>NaN</td>\n",
              "      <td>14</td>\n",
              "      <td>NaN</td>\n",
              "      <td>NaN</td>\n",
              "      <td>NaN</td>\n",
              "      <td>Germany</td>\n",
              "      <td>European Euro</td>\n",
              "      <td>...</td>\n",
              "      <td>Neither easy nor difficult</td>\n",
              "      <td>Appropriate in length</td>\n",
              "      <td>NaN</td>\n",
              "      <td>NaN</td>\n",
              "      <td>React.js</td>\n",
              "      <td>NaN</td>\n",
              "      <td>NaN</td>\n",
              "      <td>NaN</td>\n",
              "      <td>6</td>\n",
              "      <td>4</td>\n",
              "    </tr>\n",
              "    <tr>\n",
              "      <th>6</th>\n",
              "      <td>7</td>\n",
              "      <td>I am a developer by profession</td>\n",
              "      <td>Yes</td>\n",
              "      <td>NaN</td>\n",
              "      <td>18</td>\n",
              "      <td>Monthly</td>\n",
              "      <td>NaN</td>\n",
              "      <td>NaN</td>\n",
              "      <td>India</td>\n",
              "      <td>United States dollar</td>\n",
              "      <td>...</td>\n",
              "      <td>NaN</td>\n",
              "      <td>NaN</td>\n",
              "      <td>NaN</td>\n",
              "      <td>Computer science, computer engineering, or sof...</td>\n",
              "      <td>NaN</td>\n",
              "      <td>NaN</td>\n",
              "      <td>A lot more welcome now than last year</td>\n",
              "      <td>NaN</td>\n",
              "      <td>6</td>\n",
              "      <td>4</td>\n",
              "    </tr>\n",
              "    <tr>\n",
              "      <th>7</th>\n",
              "      <td>8</td>\n",
              "      <td>I am a developer by profession</td>\n",
              "      <td>Yes</td>\n",
              "      <td>36.0</td>\n",
              "      <td>12</td>\n",
              "      <td>Yearly</td>\n",
              "      <td>116000.0</td>\n",
              "      <td>116000.0</td>\n",
              "      <td>United States</td>\n",
              "      <td>United States dollar</td>\n",
              "      <td>...</td>\n",
              "      <td>Easy</td>\n",
              "      <td>Appropriate in length</td>\n",
              "      <td>No</td>\n",
              "      <td>Computer science, computer engineering, or sof...</td>\n",
              "      <td>Django;React.js;Vue.js</td>\n",
              "      <td>Flask</td>\n",
              "      <td>Just as welcome now as I felt last year</td>\n",
              "      <td>39.0</td>\n",
              "      <td>17</td>\n",
              "      <td>13</td>\n",
              "    </tr>\n",
              "    <tr>\n",
              "      <th>8</th>\n",
              "      <td>9</td>\n",
              "      <td>I am a developer by profession</td>\n",
              "      <td>No</td>\n",
              "      <td>30.0</td>\n",
              "      <td>20</td>\n",
              "      <td>NaN</td>\n",
              "      <td>NaN</td>\n",
              "      <td>NaN</td>\n",
              "      <td>Tunisia</td>\n",
              "      <td>United States dollar</td>\n",
              "      <td>...</td>\n",
              "      <td>Neither easy nor difficult</td>\n",
              "      <td>Appropriate in length</td>\n",
              "      <td>No</td>\n",
              "      <td>Computer science, computer engineering, or sof...</td>\n",
              "      <td>Angular.js</td>\n",
              "      <td>jQuery</td>\n",
              "      <td>Just as welcome now as I felt last year</td>\n",
              "      <td>50.0</td>\n",
              "      <td>6</td>\n",
              "      <td>4</td>\n",
              "    </tr>\n",
              "    <tr>\n",
              "      <th>9</th>\n",
              "      <td>10</td>\n",
              "      <td>I am a developer by profession</td>\n",
              "      <td>Yes</td>\n",
              "      <td>22.0</td>\n",
              "      <td>14</td>\n",
              "      <td>Yearly</td>\n",
              "      <td>25000.0</td>\n",
              "      <td>32315.0</td>\n",
              "      <td>United Kingdom</td>\n",
              "      <td>Pound sterling</td>\n",
              "      <td>...</td>\n",
              "      <td>Easy</td>\n",
              "      <td>Appropriate in length</td>\n",
              "      <td>No</td>\n",
              "      <td>Mathematics or statistics</td>\n",
              "      <td>Flask;jQuery</td>\n",
              "      <td>Flask;jQuery</td>\n",
              "      <td>Somewhat more welcome now than last year</td>\n",
              "      <td>36.0</td>\n",
              "      <td>8</td>\n",
              "      <td>4</td>\n",
              "    </tr>\n",
              "  </tbody>\n",
              "</table>\n",
              "<p>10 rows × 61 columns</p>\n",
              "</div>"
            ],
            "text/plain": [
              "   Respondent                                         MainBranch Hobbyist  \\\n",
              "0           1                     I am a developer by profession      Yes   \n",
              "1           2                     I am a developer by profession       No   \n",
              "2           3                        I code primarily as a hobby      Yes   \n",
              "3           4                     I am a developer by profession      Yes   \n",
              "4           5  I used to be a developer by profession, but no...      Yes   \n",
              "5           6                     I am a developer by profession       No   \n",
              "6           7                     I am a developer by profession      Yes   \n",
              "7           8                     I am a developer by profession      Yes   \n",
              "8           9                     I am a developer by profession       No   \n",
              "9          10                     I am a developer by profession      Yes   \n",
              "\n",
              "    Age Age1stCode CompFreq  CompTotal  ConvertedComp             Country  \\\n",
              "0   NaN         13  Monthly        NaN            NaN             Germany   \n",
              "1   NaN         19      NaN        NaN            NaN      United Kingdom   \n",
              "2   NaN         15      NaN        NaN            NaN  Russian Federation   \n",
              "3  25.0         18      NaN        NaN            NaN             Albania   \n",
              "4  31.0         16      NaN        NaN            NaN       United States   \n",
              "5   NaN         14      NaN        NaN            NaN             Germany   \n",
              "6   NaN         18  Monthly        NaN            NaN               India   \n",
              "7  36.0         12   Yearly   116000.0       116000.0       United States   \n",
              "8  30.0         20      NaN        NaN            NaN             Tunisia   \n",
              "9  22.0         14   Yearly    25000.0        32315.0      United Kingdom   \n",
              "\n",
              "           CurrencyDesc  ...                  SurveyEase  \\\n",
              "0         European Euro  ...  Neither easy nor difficult   \n",
              "1        Pound sterling  ...                         NaN   \n",
              "2                   NaN  ...  Neither easy nor difficult   \n",
              "3          Albanian lek  ...                         NaN   \n",
              "4                   NaN  ...                        Easy   \n",
              "5         European Euro  ...  Neither easy nor difficult   \n",
              "6  United States dollar  ...                         NaN   \n",
              "7  United States dollar  ...                        Easy   \n",
              "8  United States dollar  ...  Neither easy nor difficult   \n",
              "9        Pound sterling  ...                        Easy   \n",
              "\n",
              "            SurveyLength Trans  \\\n",
              "0  Appropriate in length    No   \n",
              "1                    NaN   NaN   \n",
              "2  Appropriate in length   NaN   \n",
              "3                    NaN    No   \n",
              "4              Too short    No   \n",
              "5  Appropriate in length   NaN   \n",
              "6                    NaN   NaN   \n",
              "7  Appropriate in length    No   \n",
              "8  Appropriate in length    No   \n",
              "9  Appropriate in length    No   \n",
              "\n",
              "                                      UndergradMajor  WebframeDesireNextYear  \\\n",
              "0  Computer science, computer engineering, or sof...            ASP.NET Core   \n",
              "1  Computer science, computer engineering, or sof...                     NaN   \n",
              "2                                                NaN                     NaN   \n",
              "3  Computer science, computer engineering, or sof...                     NaN   \n",
              "4  Computer science, computer engineering, or sof...    Django;Ruby on Rails   \n",
              "5                                                NaN                React.js   \n",
              "6  Computer science, computer engineering, or sof...                     NaN   \n",
              "7  Computer science, computer engineering, or sof...  Django;React.js;Vue.js   \n",
              "8  Computer science, computer engineering, or sof...              Angular.js   \n",
              "9                          Mathematics or statistics            Flask;jQuery   \n",
              "\n",
              "     WebframeWorkedWith                             WelcomeChange WorkWeekHrs  \\\n",
              "0  ASP.NET;ASP.NET Core   Just as welcome now as I felt last year        50.0   \n",
              "1                   NaN  Somewhat more welcome now than last year         NaN   \n",
              "2                   NaN  Somewhat more welcome now than last year         NaN   \n",
              "3                   NaN  Somewhat less welcome now than last year        40.0   \n",
              "4         Ruby on Rails   Just as welcome now as I felt last year         NaN   \n",
              "5                   NaN                                       NaN         NaN   \n",
              "6                   NaN     A lot more welcome now than last year         NaN   \n",
              "7                 Flask   Just as welcome now as I felt last year        39.0   \n",
              "8                jQuery   Just as welcome now as I felt last year        50.0   \n",
              "9          Flask;jQuery  Somewhat more welcome now than last year        36.0   \n",
              "\n",
              "  YearsCode YearsCodePro  \n",
              "0        36           27  \n",
              "1         7            4  \n",
              "2         4          NaN  \n",
              "3         7            4  \n",
              "4        15            8  \n",
              "5         6            4  \n",
              "6         6            4  \n",
              "7        17           13  \n",
              "8         6            4  \n",
              "9         8            4  \n",
              "\n",
              "[10 rows x 61 columns]"
            ]
          },
          "metadata": {
            "tags": []
          },
          "execution_count": 9
        }
      ]
    },
    {
      "cell_type": "markdown",
      "metadata": {
        "id": "major-complex"
      },
      "source": [
        "<b>ML - это про оптимизацию.</b>\n",
        "\n",
        "Как мы оценим, насколько хорошо работает наша модель?<br>\n",
        "\n",
        "$L(a,x)$ - функция потерь - величина ошибки алгоритма $a\\in A$ на объекте $x\\in X$.<br>\n",
        "Функционал качества, или эмпирический риск - среднее арифметическое ошибок на выборке: $Q(a, X^l)=\\frac{1}{l}\\sum_{i=1}^l L(a, x_i)$<br>\n",
        "Метод обучения должен найти минимум функционала качества. \n",
        "$\\mu(X^l)=\\arg\\min_{a\\in A}Q(a, X^l)$\n",
        "\n",
        "Поиск экстремума функции - это задача оптимизации. "
      ],
      "id": "major-complex"
    },
    {
      "cell_type": "markdown",
      "metadata": {
        "id": "dried-deadline"
      },
      "source": [
        "#### Классификация "
      ],
      "id": "dried-deadline"
    },
    {
      "cell_type": "markdown",
      "metadata": {
        "id": "elect-blanket"
      },
      "source": [
        "* $Y=\\{0, 1\\}$ - бинарная классификация;\n",
        "* $Y=\\{1,\\ldots,M\\}$ - множественная классификация на $M$ непересекающихся классов;\n",
        "* $Y=\\{0,1\\}^M$ - множественная классификация на $M$ классов, которые могут пересекаться."
      ],
      "id": "elect-blanket"
    },
    {
      "cell_type": "markdown",
      "metadata": {
        "id": "peaceful-honor"
      },
      "source": [
        "В нашем самом первом примере мы решали как раз задачу бинарной классификации."
      ],
      "id": "peaceful-honor"
    },
    {
      "cell_type": "markdown",
      "metadata": {
        "id": "powerful-trail"
      },
      "source": [
        "Околобиологические/биомедицинские примеры множественной классификации: "
      ],
      "id": "powerful-trail"
    },
    {
      "cell_type": "markdown",
      "metadata": {
        "id": "perfect-underwear"
      },
      "source": [
        "Предсказание по фотографии участка кожи, является ли образование на ней нормой, доброкачественной неоплазией или злокачественной неоплазией. \n",
        "\n",
        "<div align='center'><img src=\"https://kodomo.fbb.msu.ru/FBB/year_20/ml/introductory/skin_lesions_dl.png\" alt=\"Drawing\" width= \"1000px;\"/></div>\n",
        "\n",
        "<div align='center'><img src=\"https://kodomo.fbb.msu.ru/FBB/year_20/ml/introductory/Skin.png\" alt=\"Drawing\" width= \"1000px;\"/></div>\n",
        "\n",
        "Source: https://doi.org/10.1038/nature21056"
      ],
      "id": "perfect-underwear"
    },
    {
      "cell_type": "markdown",
      "metadata": {
        "id": "cooked-celebration"
      },
      "source": [
        "Предсказание по фотографии гистологического среза, нормальное ли это лёгкое, LUAD или LUSC, а также статус некоторых часто мутирующих в раках лёгкого генов. \n",
        "\n",
        "<div align='center'><img src=\"https://kodomo.fbb.msu.ru/FBB/year_20/ml/introductory/luad_lusc_normal.png\" alt=\"Drawing\" width= \"1000px;\"/></div>\n",
        "\n",
        "<div align='center'><img src=\"https://kodomo.fbb.msu.ru/FBB/year_20/ml/introductory/lusc_luad.png\" alt=\"Drawing\" width= \"300px;\"/></div>\n",
        "\n",
        "\n",
        "Source: https://doi.org/10.1038/s41591-018-0177-5\n"
      ],
      "id": "cooked-celebration"
    },
    {
      "cell_type": "markdown",
      "metadata": {
        "id": "catholic-crisis"
      },
      "source": [
        "Предсказания ответа на терапию, эффектов SNV, статуса метилирования, элементов вторичной структуры, типа клетки и т.д. и т.п. "
      ],
      "id": "catholic-crisis"
    },
    {
      "cell_type": "markdown",
      "metadata": {
        "id": "twenty-village"
      },
      "source": [
        "#### Регрессия "
      ],
      "id": "twenty-village"
    },
    {
      "cell_type": "markdown",
      "metadata": {
        "id": "planned-scene"
      },
      "source": [
        "$Y=\\mathcal{R}$ или $Y=\\mathcal{R}^m$."
      ],
      "id": "planned-scene"
    },
    {
      "cell_type": "markdown",
      "metadata": {
        "id": "experimental-complex"
      },
      "source": [
        "Предсказание непрерывной переменной. "
      ],
      "id": "experimental-complex"
    },
    {
      "cell_type": "markdown",
      "metadata": {
        "id": "impossible-russell"
      },
      "source": [
        "<div align='center'><img src=\"https://kodomo.fbb.msu.ru/FBB/year_20/ml/introductory/bond_diss_ent.png\" alt=\"Drawing\" width= \"800px;\"/></div>\n",
        "\n",
        "<div align='center'><img src=\"https://kodomo.fbb.msu.ru/FBB/year_20/ml/introductory/enthalpy.png\" alt=\"Drawing\" width= \"600px;\"/></div>\n",
        "\n",
        "\n",
        "Source: https://doi.org/10.1038/s41467-020-16201-z "
      ],
      "id": "impossible-russell"
    },
    {
      "cell_type": "markdown",
      "metadata": {
        "id": "spectacular-diving"
      },
      "source": [
        "Предсказание констант полуингибирования чего-нибудь для веществ, констант диссоциации для комплексов, уровня экпрессии гена и прочее, и прочее... "
      ],
      "id": "spectacular-diving"
    },
    {
      "cell_type": "markdown",
      "metadata": {
        "id": "continental-attribute"
      },
      "source": [
        "#### Ранжирование"
      ],
      "id": "continental-attribute"
    },
    {
      "cell_type": "markdown",
      "metadata": {
        "id": "mobile-merit"
      },
      "source": [
        "$Y$ - упорядоченное множество."
      ],
      "id": "mobile-merit"
    },
    {
      "cell_type": "markdown",
      "metadata": {
        "id": "modified-group"
      },
      "source": [
        "Наиболее типичные примеры - из более классического бизнеса: порядок поисковой выдачи, рекомендация товаров и пр.\n",
        "\n",
        "Биомедицинское: предсказание группы риска пациента, ранжирование терапий/клинических испытаний, подходящих для данного пациента. "
      ],
      "id": "modified-group"
    },
    {
      "cell_type": "markdown",
      "metadata": {
        "id": "completed-winter"
      },
      "source": [
        "#### Ещё некоторые важные челленжи в биологии"
      ],
      "id": "completed-winter"
    },
    {
      "cell_type": "markdown",
      "metadata": {
        "id": "indonesian-atlas"
      },
      "source": [
        "* Basecalling (особенно для ONT) \n",
        "<div align='center'><img src=\"https://kodomo.fbb.msu.ru/FBB/year_20/ml/introductory/bc_ont.png\" alt=\"Drawing\" width= \"800px;\"/></div>\n",
        "\n",
        "Source: https://doi.org/10.1101/2020.02.25.956771\n"
      ],
      "id": "indonesian-atlas"
    },
    {
      "cell_type": "markdown",
      "metadata": {
        "id": "massive-amsterdam"
      },
      "source": [
        "* Hi-C super resolution \n",
        "<div align='center'><img src=\"https://kodomo.fbb.msu.ru/FBB/year_20/ml/introductory/hic_pipeline.png\" alt=\"Drawing\" width= \"800px;\"/></div>\n",
        "\n",
        "<div align='center'><img src=\"https://kodomo.fbb.msu.ru/FBB/year_20/ml/introductory/hic.png\" alt=\"Drawing\" width= \"800px;\"/></div>\n",
        "\n",
        "Source: https://doi.org/10.1038/s41467-018-03113-2\n"
      ],
      "id": "massive-amsterdam"
    },
    {
      "cell_type": "markdown",
      "metadata": {
        "id": "adolescent-romania"
      },
      "source": [
        "* Missing data imputation (особенно для single-cell) \n",
        "<div align='center'><img src=\"https://kodomo.fbb.msu.ru/FBB/year_20/ml/introductory/scimpute.png\" alt=\"Drawing\" width= \"800px;\"/></div>\n",
        "\n",
        "<div align='center'><img src=\"https://kodomo.fbb.msu.ru/FBB/year_20/ml/introductory/scigan.png\" alt=\"Drawing\" width= \"800px;\"/></div>\n",
        "\n",
        "\n",
        "Source: https://doi.org/10.1038/s41467-018-03405-7\n"
      ],
      "id": "adolescent-romania"
    },
    {
      "cell_type": "markdown",
      "metadata": {
        "id": "significant-rubber"
      },
      "source": [
        "### Обучение на неразмеченных данных "
      ],
      "id": "significant-rubber"
    },
    {
      "cell_type": "markdown",
      "metadata": {
        "id": "fleet-quebec"
      },
      "source": [
        "На бытовом уровне задача формулируется как \"найти какую-нибудь структуру в данных\". Чувствуете, что формулировка уже куда менее строгая? Выражаясь статистически, оценить распределение $p(x)$, порождающее данные. "
      ],
      "id": "fleet-quebec"
    },
    {
      "cell_type": "markdown",
      "metadata": {
        "id": "color-interim"
      },
      "source": [
        "#### Кластеризация"
      ],
      "id": "color-interim"
    },
    {
      "cell_type": "markdown",
      "metadata": {
        "id": "clear-egypt"
      },
      "source": [
        "Наиболее часто в этом виде машинного обучения встречается задача кластеризации:\n",
        "\n",
        "Пусть $X$ - признаковое пространство объектов, дана $\\{x_1, \\ldots, x_l\\}\\subset X$ - выборка<br>\n",
        "и определена функция расстояний между объектами $\\rho: X\\times X\\rightarrow[0,\\infty)$. \n",
        "\n",
        "**Хотим найти:**<br>\n",
        "$Y$ - множество кластеров;\n",
        "$a: X\\rightarrow Y$ - алгоритм кластеризации такой, что в результате его работы выполняется:   \n",
        "* объекты внутри одного кластера похожи;   \n",
        "* объекты разных кластеров различны."
      ],
      "id": "clear-egypt"
    },
    {
      "cell_type": "markdown",
      "metadata": {
        "id": "julian-venezuela"
      },
      "source": [
        "Филогенетическая реконструкция - это кластеризация. \n",
        "\n",
        "<div align='center'><img src=\"https://kodomo.fbb.msu.ru/FBB/year_20/ml/introductory/sars2_tree.png\" alt=\"Drawing\" width= \"800px;\"/></div>\n",
        "\n",
        "\n",
        "Source: https://doi.org/10.1038/s41598-020-79484-8"
      ],
      "id": "julian-venezuela"
    },
    {
      "cell_type": "markdown",
      "metadata": {
        "id": "running-democrat"
      },
      "source": [
        "Исходя из числа мутантных и референсных ридов, картированных на позиции с мутациями, оценить структуру клеточных популяций опухоли. \n",
        "\n",
        "<div align='center'><img src=\"https://kodomo.fbb.msu.ru/FBB/year_20/ml/introductory/sciclone.png\" alt=\"Drawing\" width= \"400px;\"/></div>\n",
        "\n",
        "Source: https://doi.org/10.1371/journal.pcbi.1003665\n"
      ],
      "id": "running-democrat"
    },
    {
      "cell_type": "markdown",
      "metadata": {
        "id": "meaningful-investing"
      },
      "source": [
        "#### Снижение размерности "
      ],
      "id": "meaningful-investing"
    },
    {
      "cell_type": "markdown",
      "metadata": {
        "id": "nonprofit-matthew"
      },
      "source": [
        "Задача снижения размерности заключается в нахождении оптимальной проекции объектов в пространство более низкой размерности. Нужна как для удобства визуализации многомерных данных, так и для получения более компактного их представления для других задач. "
      ],
      "id": "nonprofit-matthew"
    },
    {
      "cell_type": "markdown",
      "metadata": {
        "id": "pharmaceutical-thought"
      },
      "source": [
        "<div align='center'><img src=\"https://kodomo.fbb.msu.ru/FBB/year_20/ml/introductory/scrna.png\" alt=\"Drawing\" width= \"800px;\"/></div>\n",
        "\n",
        "\n",
        "Source: https://doi.org/10.1038/nbt.4314 \n"
      ],
      "id": "pharmaceutical-thought"
    },
    {
      "cell_type": "markdown",
      "metadata": {
        "id": "convertible-jewelry"
      },
      "source": [
        "#### Детекция аномалий "
      ],
      "id": "convertible-jewelry"
    },
    {
      "cell_type": "markdown",
      "metadata": {
        "id": "literary-knitting"
      },
      "source": [
        "Эта задача определения выбросов или \"новых\" данных, т.е., возможно, порождённых другим распределением, объекты из которого не присутствовали в выборке. "
      ],
      "id": "literary-knitting"
    },
    {
      "cell_type": "markdown",
      "metadata": {
        "id": "british-responsibility"
      },
      "source": [
        "<div align='center'><img src=\"https://kodomo.fbb.msu.ru/FBB/year_20/ml/introductory/anomaly_ts.png\" alt=\"Drawing\" width= \"800px;\"/></div>\n",
        "\n"
      ],
      "id": "british-responsibility"
    },
    {
      "cell_type": "markdown",
      "metadata": {
        "id": "historic-pasta"
      },
      "source": [
        "Но это не обязательно временной ряд."
      ],
      "id": "historic-pasta"
    },
    {
      "cell_type": "markdown",
      "metadata": {
        "id": "arbitrary-wyoming"
      },
      "source": [
        "<div align='center'><img src=\"https://kodomo.fbb.msu.ru/FBB/year_20/ml/introductory/cancer_anomaly.png\" alt=\"Drawing\" width= \"800px;\"/></div>\n",
        "\n",
        "<div align='center'><img src=\"https://kodomo.fbb.msu.ru/FBB/year_20/ml/introductory/anomaly.png\" alt=\"Drawing\" width= \"600px;\"/></div>\n",
        "\n",
        "\n",
        "Source: https://doi.org/10.3389/fgene.2019.00599\n"
      ],
      "id": "arbitrary-wyoming"
    },
    {
      "cell_type": "markdown",
      "metadata": {
        "id": "worldwide-metallic"
      },
      "source": [
        "<div align='center'><img src=\"https://kodomo.fbb.msu.ru/FBB/year_20/ml/introductory/evol_bvae.png\" alt=\"Drawing\" width= \"800px;\"/></div>\n",
        "\n",
        "\n",
        "Source: https://doi.org/10.1101/2020.12.21.423785\n",
        "\n",
        "\"The natural distribution of protein sequences we observe across organisms is the result of billions of evolutionary experiments. By modeling that distribution, we implicitly capture constraints on the protein sequences that maintain fitness.\"\n"
      ],
      "id": "worldwide-metallic"
    },
    {
      "cell_type": "markdown",
      "metadata": {
        "id": "vanilla-sunset"
      },
      "source": [
        ":)"
      ],
      "id": "vanilla-sunset"
    }
  ]
}