{
  "nbformat": 4,
  "nbformat_minor": 5,
  "metadata": {
    "kernelspec": {
      "display_name": "Python 3",
      "language": "python",
      "name": "python3"
    },
    "language_info": {
      "codemirror_mode": {
        "name": "ipython",
        "version": 3
      },
      "file_extension": ".py",
      "mimetype": "text/x-python",
      "name": "python",
      "nbconvert_exporter": "python",
      "pygments_lexer": "ipython3",
      "version": "3.7.10"
    },
    "colab": {
      "name": "Копия блокнота \"ML_in_Bio_Sem_4.ipynb\"",
      "provenance": [],
      "collapsed_sections": [],
      "include_colab_link": true
    }
  },
  "cells": [
    {
      "cell_type": "markdown",
      "metadata": {
        "id": "view-in-github",
        "colab_type": "text"
      },
      "source": [
        "<a href=\"https://colab.research.google.com/github/SmirnygaTotoshka/FBB_Courses/blob/main/%D0%9A%D0%BE%D0%BF%D0%B8%D1%8F_%D0%B1%D0%BB%D0%BE%D0%BA%D0%BD%D0%BE%D1%82%D0%B0_%22ML_in_Bio_Sem_4_ipynb%22.ipynb\" target=\"_parent\"><img src=\"https://colab.research.google.com/assets/colab-badge.svg\" alt=\"Open In Colab\"/></a>"
      ]
    },
    {
      "cell_type": "markdown",
      "metadata": {
        "id": "bb9cd518-2ed8-495f-bea5-6c1c701708c6"
      },
      "source": [
        "# Машинное обучение в биологии\n",
        "\n",
        "### Семинар 4: Методы понижения размерности\n",
        "\n",
        "#### Визуализация транскриптомных данных. Анализ данных, выявление выбросов и батч-эффекта."
      ],
      "id": "bb9cd518-2ed8-495f-bea5-6c1c701708c6"
    },
    {
      "cell_type": "code",
      "metadata": {
        "id": "654ff1e0-8eac-452c-a57e-66501bb1a884"
      },
      "source": [
        "import numpy as np\n",
        "import pandas as pd\n",
        "\n",
        "import matplotlib.pyplot as plt\n",
        "import seaborn as sns\n",
        "\n",
        "sns.set()\n",
        "sns.set_style(\"whitegrid\")"
      ],
      "id": "654ff1e0-8eac-452c-a57e-66501bb1a884",
      "execution_count": null,
      "outputs": []
    },
    {
      "cell_type": "markdown",
      "metadata": {
        "id": "a87d79ba-c9b2-4fcd-bb61-e3a3561b7309"
      },
      "source": [
        "### Задача 1: Визуализация транскриптомных данных"
      ],
      "id": "a87d79ba-c9b2-4fcd-bb61-e3a3561b7309"
    },
    {
      "cell_type": "markdown",
      "metadata": {
        "id": "018a8ba8-9f12-4aab-9b98-560553982e3b"
      },
      "source": [
        "В этой задаче предлагается загрузить транскриптомные данные и произвести снижение размерности методом PCA."
      ],
      "id": "018a8ba8-9f12-4aab-9b98-560553982e3b"
    },
    {
      "cell_type": "markdown",
      "metadata": {
        "id": "a9c427c4-a23b-4452-92b4-26ed2624ab5f"
      },
      "source": [
        "**Загрузите датасет** (`gse53625_expression.csv`) и метаданные к нему (`gse53625_metadata.csv`)."
      ],
      "id": "a9c427c4-a23b-4452-92b4-26ed2624ab5f"
    },
    {
      "cell_type": "code",
      "metadata": {
        "id": "02fb2674-bda3-454d-a48c-73e12ffa486c"
      },
      "source": [
        "!wget --load-cookies /tmp/cookies.txt \"https://docs.google.com/uc?export=download&confirm=$(wget --quiet --save-cookies /tmp/cookies.txt --keep-session-cookies --no-check-certificate 'https://docs.google.com/uc?export=download&id=1b5XLe7hVBv2Y0xiXaG0-SGGAk4HLSOTl' -O- | sed -rn 's/.*confirm=([0-9A-Za-z_]+).*/\\1\\n/p')&id=1b5XLe7hVBv2Y0xiXaG0-SGGAk4HLSOTl\" -O gse53625_expression.csv && rm -rf /tmp/cookies.txt\n",
        "!wget --no-check-certificate 'https://docs.google.com/uc?export=download&id=1vhCwAOc0v8HE75Q-47sWmETAmi_JiH7N' -O gse53625_metadata.csv"
      ],
      "id": "02fb2674-bda3-454d-a48c-73e12ffa486c",
      "execution_count": null,
      "outputs": []
    },
    {
      "cell_type": "code",
      "metadata": {
        "id": "hCOPtBv12x_z"
      },
      "source": [
        ""
      ],
      "id": "hCOPtBv12x_z",
      "execution_count": null,
      "outputs": []
    },
    {
      "cell_type": "markdown",
      "metadata": {
        "id": "e6ef97f7-2a06-468b-8c7d-2de8da249657"
      },
      "source": [
        "**Обучите модель** PCA с двумя компонентами."
      ],
      "id": "e6ef97f7-2a06-468b-8c7d-2de8da249657"
    },
    {
      "cell_type": "code",
      "metadata": {
        "id": "3822b5b8-a8c0-425c-a2cf-bd5bd24c8d84"
      },
      "source": [
        ""
      ],
      "id": "3822b5b8-a8c0-425c-a2cf-bd5bd24c8d84",
      "execution_count": null,
      "outputs": []
    },
    {
      "cell_type": "markdown",
      "metadata": {
        "id": "4831cc2e-6ec8-4e3f-a3f1-acdb9efa51b2"
      },
      "source": [
        "**Постройте диаграмму рассеяния** для первых двух компонент."
      ],
      "id": "4831cc2e-6ec8-4e3f-a3f1-acdb9efa51b2"
    },
    {
      "cell_type": "code",
      "metadata": {
        "id": "367cf63e-c9c2-4c3f-850a-38639120de6f"
      },
      "source": [
        ""
      ],
      "id": "367cf63e-c9c2-4c3f-850a-38639120de6f",
      "execution_count": null,
      "outputs": []
    },
    {
      "cell_type": "markdown",
      "metadata": {
        "id": "76f00959-b020-4bbb-bed4-18b568459e02"
      },
      "source": [
        "**Какую долю дисперсии** объясняют найденные компоненты?"
      ],
      "id": "76f00959-b020-4bbb-bed4-18b568459e02"
    },
    {
      "cell_type": "code",
      "metadata": {
        "id": "b4bda94d-9857-4891-b93a-5097b493b923"
      },
      "source": [
        ""
      ],
      "id": "b4bda94d-9857-4891-b93a-5097b493b923",
      "execution_count": null,
      "outputs": []
    },
    {
      "cell_type": "markdown",
      "metadata": {
        "id": "4bd54069-a086-416b-b779-d5e9406ae9be"
      },
      "source": [
        "**Осуществите стандартизацию признаков** в выборке."
      ],
      "id": "4bd54069-a086-416b-b779-d5e9406ae9be"
    },
    {
      "cell_type": "code",
      "metadata": {
        "id": "2984a0c1-b71c-4ceb-bdfe-896e0f1cdec5"
      },
      "source": [
        ""
      ],
      "id": "2984a0c1-b71c-4ceb-bdfe-896e0f1cdec5",
      "execution_count": null,
      "outputs": []
    },
    {
      "cell_type": "markdown",
      "metadata": {
        "id": "93785ad2-ccdd-42e7-acfa-d63d7f00c8ed"
      },
      "source": [
        "Произведите **обучение модели** PCA и **визуализацию**. Оцените долю объясняемой дисперсии."
      ],
      "id": "93785ad2-ccdd-42e7-acfa-d63d7f00c8ed"
    },
    {
      "cell_type": "code",
      "metadata": {
        "id": "9239e96e-411d-4223-a9ba-1d715b26f03d"
      },
      "source": [
        ""
      ],
      "id": "9239e96e-411d-4223-a9ba-1d715b26f03d",
      "execution_count": null,
      "outputs": []
    },
    {
      "cell_type": "markdown",
      "metadata": {
        "id": "a7ae5bde-0946-47e7-b8b8-46dc817c3923"
      },
      "source": [
        "**Какую долю дисперсии** объясняют найденные компоненты?"
      ],
      "id": "a7ae5bde-0946-47e7-b8b8-46dc817c3923"
    },
    {
      "cell_type": "markdown",
      "metadata": {
        "id": "f7fa6906-ecd9-4548-a798-10aaec59399c"
      },
      "source": [
        "**Сделайте выводы**. Всегда ли стоит осуществлять нормализацию/стандартизацию транскриптомных данных?"
      ],
      "id": "f7fa6906-ecd9-4548-a798-10aaec59399c"
    },
    {
      "cell_type": "code",
      "metadata": {
        "id": "a46c84b2-7396-4e8e-93f8-1095f30e9657"
      },
      "source": [
        ""
      ],
      "id": "a46c84b2-7396-4e8e-93f8-1095f30e9657",
      "execution_count": null,
      "outputs": []
    },
    {
      "cell_type": "markdown",
      "metadata": {
        "id": "89d5e03d-32f0-48ab-9974-1bc2327f6ede"
      },
      "source": [
        "### Задача 2: Загрузка транскриптомных данных. Исправление batch-эффекта."
      ],
      "id": "89d5e03d-32f0-48ab-9974-1bc2327f6ede"
    },
    {
      "cell_type": "markdown",
      "metadata": {
        "id": "82a27b22-3e1c-484a-bd21-c231de7bb52a"
      },
      "source": [
        "В этой задаче предлагается воспользоваться пакетом [pyComBat](https://github.com/epigenelabs/pyComBat) для коррекции batch-эффекта в транскриптомных данных."
      ],
      "id": "82a27b22-3e1c-484a-bd21-c231de7bb52a"
    },
    {
      "cell_type": "markdown",
      "metadata": {
        "id": "a81b5a30-1c29-43de-b8e1-9604c77da775"
      },
      "source": [
        "**Установите пакет pyComBat в окружение**. Для этого воспользуйтесь инструкцией на главной странице [репозитория pyComBat](https://github.com/epigenelabs/pyComBat) на GitHub."
      ],
      "id": "a81b5a30-1c29-43de-b8e1-9604c77da775"
    },
    {
      "cell_type": "code",
      "metadata": {
        "id": "eb40457f-b8b5-447d-8497-efe3b0671b71"
      },
      "source": [
        ""
      ],
      "id": "eb40457f-b8b5-447d-8497-efe3b0671b71",
      "execution_count": null,
      "outputs": []
    },
    {
      "cell_type": "markdown",
      "metadata": {
        "id": "29b75ec0-447f-4b6c-bb9f-31fa67acf73f"
      },
      "source": [
        "**Разберитесь, как осуществляется коррекция batch-эффекта** в pyComBat и осуществите коррекцию."
      ],
      "id": "29b75ec0-447f-4b6c-bb9f-31fa67acf73f"
    },
    {
      "cell_type": "code",
      "metadata": {
        "id": "6675b9c0-9245-4b55-8441-0468dc3821f7"
      },
      "source": [
        ""
      ],
      "id": "6675b9c0-9245-4b55-8441-0468dc3821f7",
      "execution_count": null,
      "outputs": []
    },
    {
      "cell_type": "markdown",
      "metadata": {
        "id": "0c151708-47a0-4437-a0d9-596f9fe6d726"
      },
      "source": [
        "**Сохраните полученный результат в файл** `gse53625_expression_corrected.csv`."
      ],
      "id": "0c151708-47a0-4437-a0d9-596f9fe6d726"
    },
    {
      "cell_type": "code",
      "metadata": {
        "id": "f56a89e5-4a31-4ccb-ba4f-c61a467b84a2"
      },
      "source": [
        ""
      ],
      "id": "f56a89e5-4a31-4ccb-ba4f-c61a467b84a2",
      "execution_count": null,
      "outputs": []
    },
    {
      "cell_type": "markdown",
      "metadata": {
        "id": "e8482c12-6d88-4916-a847-6b5353fe55c1"
      },
      "source": [
        "### Задача 3: Снижение размерности после коррекции batch-эффекта"
      ],
      "id": "e8482c12-6d88-4916-a847-6b5353fe55c1"
    },
    {
      "cell_type": "markdown",
      "metadata": {
        "id": "c6e33fae-8f5c-4207-abe5-b27cf4d47436"
      },
      "source": [
        "В этой задаче предлагается сравнить результаты снижения размерности до и после коррекции batch-эффекта в транскриптомных данных."
      ],
      "id": "c6e33fae-8f5c-4207-abe5-b27cf4d47436"
    },
    {
      "cell_type": "markdown",
      "metadata": {
        "id": "78fd8db0-d5ef-4ae1-b703-8102146b643f"
      },
      "source": [
        "**Загрузите датасет** `gse53625_expression_corrected.csv`, если вы не сделали предыдущее задание."
      ],
      "id": "78fd8db0-d5ef-4ae1-b703-8102146b643f"
    },
    {
      "cell_type": "code",
      "metadata": {
        "id": "740bf5fb-56da-4d19-b7ca-a9c3c6302afb"
      },
      "source": [
        "!wget --load-cookies /tmp/cookies.txt \"https://docs.google.com/uc?export=download&confirm=$(wget --quiet --save-cookies /tmp/cookies.txt --keep-session-cookies --no-check-certificate 'https://docs.google.com/uc?export=download&id=1P0OnSsTF9tn0yDq72k8ECVtgQL8pf_RP' -O- | sed -rn 's/.*confirm=([0-9A-Za-z_]+).*/\\1\\n/p')&id=1P0OnSsTF9tn0yDq72k8ECVtgQL8pf_RP\" -O gse53625_expression_corrected.csv && rm -rf /tmp/cookies.txt"
      ],
      "id": "740bf5fb-56da-4d19-b7ca-a9c3c6302afb",
      "execution_count": null,
      "outputs": []
    },
    {
      "cell_type": "markdown",
      "metadata": {
        "id": "d5656256-43b8-4eaa-9e74-bf15f00789f8"
      },
      "source": [
        "Произведите **обучение модели** PCA и **визуализацию**. Оцените долю объясняемой дисперсии."
      ],
      "id": "d5656256-43b8-4eaa-9e74-bf15f00789f8"
    },
    {
      "cell_type": "code",
      "metadata": {
        "id": "acbdf78c-cd17-4271-adff-b1c94999e068"
      },
      "source": [
        ""
      ],
      "id": "acbdf78c-cd17-4271-adff-b1c94999e068",
      "execution_count": null,
      "outputs": []
    },
    {
      "cell_type": "markdown",
      "metadata": {
        "id": "6475489b-90c5-4ad3-b21b-65a10d9feabd"
      },
      "source": [
        "Произведите **стандартизацию данных** и повторите предыдущий пункт."
      ],
      "id": "6475489b-90c5-4ad3-b21b-65a10d9feabd"
    },
    {
      "cell_type": "code",
      "metadata": {
        "id": "3fe72ab0-85ea-43b2-a837-45873b636db6"
      },
      "source": [
        ""
      ],
      "id": "3fe72ab0-85ea-43b2-a837-45873b636db6",
      "execution_count": null,
      "outputs": []
    },
    {
      "cell_type": "markdown",
      "metadata": {
        "id": "e994bf13-a37e-44ed-8ff1-53f7ed238702"
      },
      "source": [
        "**Сделайте выводы**."
      ],
      "id": "e994bf13-a37e-44ed-8ff1-53f7ed238702"
    },
    {
      "cell_type": "code",
      "metadata": {
        "id": "3a157eee-239d-4cf8-b2c4-8913ed263020"
      },
      "source": [
        ""
      ],
      "id": "3a157eee-239d-4cf8-b2c4-8913ed263020",
      "execution_count": null,
      "outputs": []
    },
    {
      "cell_type": "markdown",
      "metadata": {
        "id": "666ba9cb-aa82-4aa7-a305-f2b66ed9fcb6"
      },
      "source": [
        "### Задача 4: Классификация на основе данных сниженной размерности"
      ],
      "id": "666ba9cb-aa82-4aa7-a305-f2b66ed9fcb6"
    },
    {
      "cell_type": "markdown",
      "metadata": {
        "id": "4a1868b7-8eda-4b9d-8714-658813562ad3"
      },
      "source": [
        "В этой задаче предлагается сравнить качество двуклассовой классификации на исходных данных и на главных компонентах."
      ],
      "id": "4a1868b7-8eda-4b9d-8714-658813562ad3"
    },
    {
      "cell_type": "markdown",
      "metadata": {
        "id": "b82862fa-1ac5-4418-ba1f-8db8173ebd8b"
      },
      "source": [
        "**Разбейте X и y на тренировочную и тестовую выборки**. Соотношение train/test поставьте равным 1:1.\\\n",
        "*Напоминание*: воспользуйтесь функцией `train_test_split`."
      ],
      "id": "b82862fa-1ac5-4418-ba1f-8db8173ebd8b"
    },
    {
      "cell_type": "code",
      "metadata": {
        "id": "3be4f823-3b68-4988-a597-bae25c8ddd73"
      },
      "source": [
        ""
      ],
      "id": "3be4f823-3b68-4988-a597-bae25c8ddd73",
      "execution_count": null,
      "outputs": []
    },
    {
      "cell_type": "markdown",
      "metadata": {
        "id": "e8413973-d3b5-49f4-8234-c115fd15ad23"
      },
      "source": [
        "**Стандартизуйте данные и обучите на них модель логистической регрессии**."
      ],
      "id": "e8413973-d3b5-49f4-8234-c115fd15ad23"
    },
    {
      "cell_type": "code",
      "metadata": {
        "id": "95cf3f96-eb91-4d8f-8060-df553b4c7086"
      },
      "source": [
        ""
      ],
      "id": "95cf3f96-eb91-4d8f-8060-df553b4c7086",
      "execution_count": null,
      "outputs": []
    },
    {
      "cell_type": "markdown",
      "metadata": {
        "id": "cb98c00e-4611-495b-a203-f114592679f7"
      },
      "source": [
        "**Оцените качество модели**."
      ],
      "id": "cb98c00e-4611-495b-a203-f114592679f7"
    },
    {
      "cell_type": "code",
      "metadata": {
        "id": "04dafc1c-50d9-4d7c-af65-fb62b3488ebb"
      },
      "source": [
        ""
      ],
      "id": "04dafc1c-50d9-4d7c-af65-fb62b3488ebb",
      "execution_count": null,
      "outputs": []
    },
    {
      "cell_type": "markdown",
      "metadata": {
        "id": "834cb5ee-6bbb-45ca-9c79-202d0eee7d5f"
      },
      "source": [
        "Подберите **оптимальное количество компонент для PCA** на `X_train`."
      ],
      "id": "834cb5ee-6bbb-45ca-9c79-202d0eee7d5f"
    },
    {
      "cell_type": "code",
      "metadata": {
        "id": "b16ccf17-2019-483f-92cb-1e1af856d45a"
      },
      "source": [
        ""
      ],
      "id": "b16ccf17-2019-483f-92cb-1e1af856d45a",
      "execution_count": null,
      "outputs": []
    },
    {
      "cell_type": "markdown",
      "metadata": {
        "id": "e9083945-ad0d-47ed-8de3-b6261316db9c"
      },
      "source": [
        "Повторите обучение и оценку качества **с добавлением метода снижения размерности** перед обучением классификатора."
      ],
      "id": "e9083945-ad0d-47ed-8de3-b6261316db9c"
    },
    {
      "cell_type": "code",
      "metadata": {
        "id": "8e29db1b-bba8-4b88-bc0d-9f0f818fb16f"
      },
      "source": [
        ""
      ],
      "id": "8e29db1b-bba8-4b88-bc0d-9f0f818fb16f",
      "execution_count": null,
      "outputs": []
    },
    {
      "cell_type": "markdown",
      "metadata": {
        "id": "b72b0eb9-0a51-4073-89ff-3a5eb3287a27"
      },
      "source": [
        "**Оцените качество модели**."
      ],
      "id": "b72b0eb9-0a51-4073-89ff-3a5eb3287a27"
    },
    {
      "cell_type": "code",
      "metadata": {
        "id": "9877ed55-2a52-4275-8aea-16bb8c8f9287"
      },
      "source": [
        ""
      ],
      "id": "9877ed55-2a52-4275-8aea-16bb8c8f9287",
      "execution_count": null,
      "outputs": []
    },
    {
      "cell_type": "markdown",
      "metadata": {
        "id": "d1051f3a-d90a-4cfb-887c-97aad6b31158"
      },
      "source": [
        "**Сделайте выводы**."
      ],
      "id": "d1051f3a-d90a-4cfb-887c-97aad6b31158"
    },
    {
      "cell_type": "code",
      "metadata": {
        "id": "e26b8e9c-1824-406c-a423-d006bfdbc9e8"
      },
      "source": [
        ""
      ],
      "id": "e26b8e9c-1824-406c-a423-d006bfdbc9e8",
      "execution_count": null,
      "outputs": []
    },
    {
      "cell_type": "markdown",
      "metadata": {
        "id": "d446e6f3-d4e7-4e9b-8cfd-28bd8005f6cf"
      },
      "source": [
        "### Задача 5: Сравнение способов визуализации данных"
      ],
      "id": "d446e6f3-d4e7-4e9b-8cfd-28bd8005f6cf"
    },
    {
      "cell_type": "markdown",
      "metadata": {
        "id": "5091840f-c4d9-48d4-bfd9-775111488b48"
      },
      "source": [
        "В этой задаче предлагается сравнить различные способы визуализации данных друг с другом."
      ],
      "id": "5091840f-c4d9-48d4-bfd9-775111488b48"
    },
    {
      "cell_type": "code",
      "metadata": {
        "id": "6adc5526-536e-4a73-aea8-f889f5391603"
      },
      "source": [
        "from sklearn.datasets import fetch_openml"
      ],
      "id": "6adc5526-536e-4a73-aea8-f889f5391603",
      "execution_count": null,
      "outputs": []
    },
    {
      "cell_type": "code",
      "metadata": {
        "id": "98811bb8-75c0-485f-94d7-16952f8aa4ba"
      },
      "source": [
        "mnist = fetch_openml('mnist_784')"
      ],
      "id": "98811bb8-75c0-485f-94d7-16952f8aa4ba",
      "execution_count": null,
      "outputs": []
    },
    {
      "cell_type": "code",
      "metadata": {
        "id": "779587a2-c50f-428a-af4a-be799210e738"
      },
      "source": [
        "X = mnist.data\n",
        "y = mnist.target"
      ],
      "id": "779587a2-c50f-428a-af4a-be799210e738",
      "execution_count": null,
      "outputs": []
    },
    {
      "cell_type": "markdown",
      "metadata": {
        "id": "36a298cf-5d41-48c9-a439-6054ebd970a1"
      },
      "source": [
        "**Визуализируйте эти данные с помощью PCA, t-SNE и UMAP**. Попробуйте несколько различных комбинаций параметров в каждом случае."
      ],
      "id": "36a298cf-5d41-48c9-a439-6054ebd970a1"
    },
    {
      "cell_type": "code",
      "metadata": {
        "id": "52d84cbe-6464-4937-8a2e-f73ee8833d02"
      },
      "source": [
        ""
      ],
      "id": "52d84cbe-6464-4937-8a2e-f73ee8833d02",
      "execution_count": null,
      "outputs": []
    },
    {
      "cell_type": "markdown",
      "metadata": {
        "id": "3f7f87e1-7477-44d4-a592-8e19bc368b6c"
      },
      "source": [
        "**Сделайте выводы**."
      ],
      "id": "3f7f87e1-7477-44d4-a592-8e19bc368b6c"
    },
    {
      "cell_type": "code",
      "metadata": {
        "id": "aa5575e0-99a3-49ad-a696-c578a673d56a"
      },
      "source": [
        ""
      ],
      "id": "aa5575e0-99a3-49ad-a696-c578a673d56a",
      "execution_count": null,
      "outputs": []
    },
    {
      "cell_type": "markdown",
      "metadata": {
        "id": "8e230a47-c382-40eb-8512-57353a4a8df0"
      },
      "source": [
        "---"
      ],
      "id": "8e230a47-c382-40eb-8512-57353a4a8df0"
    }
  ]
}