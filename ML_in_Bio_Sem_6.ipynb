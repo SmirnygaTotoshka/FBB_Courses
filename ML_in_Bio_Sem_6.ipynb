{
  "nbformat": 4,
  "nbformat_minor": 0,
  "metadata": {
    "colab": {
      "name": "ML_in_Bio_Sem_6.ipynb",
      "provenance": [],
      "collapsed_sections": [],
      "toc_visible": true,
      "include_colab_link": true
    },
    "kernelspec": {
      "display_name": "Python 3",
      "name": "python3"
    },
    "language_info": {
      "name": "python"
    }
  },
  "cells": [
    {
      "cell_type": "markdown",
      "metadata": {
        "id": "view-in-github",
        "colab_type": "text"
      },
      "source": [
        "<a href=\"https://colab.research.google.com/github/SmirnygaTotoshka/FBB_Courses/blob/main/ML_in_Bio_Sem_6.ipynb\" target=\"_parent\"><img src=\"https://colab.research.google.com/assets/colab-badge.svg\" alt=\"Open In Colab\"/></a>"
      ]
    },
    {
      "cell_type": "markdown",
      "metadata": {
        "id": "-NrdaY2Q1x_A"
      },
      "source": [
        "# Семинар 6"
      ]
    },
    {
      "cell_type": "code",
      "metadata": {
        "id": "WCxnBz_L1LSD"
      },
      "source": [
        "import scipy\n",
        "import numpy as np \n",
        "import pandas as pd\n",
        "\n",
        "import itertools\n",
        "import matplotlib.pyplot as plt\n",
        "import seaborn as sns\n",
        "\n",
        "from sklearn.metrics import matthews_corrcoef\n",
        "\n",
        "from sklearn.svm import SVC\n",
        "from sklearn.linear_model import LogisticRegression\n",
        "from sklearn.ensemble import RandomForestClassifier, BaggingClassifier\n",
        "from sklearn.tree import DecisionTreeClassifier, DecisionTreeRegressor\n",
        "from sklearn.model_selection import KFold, GridSearchCV, train_test_split"
      ],
      "execution_count": null,
      "outputs": []
    },
    {
      "cell_type": "markdown",
      "metadata": {
        "id": "kIoYd7az2Jsy"
      },
      "source": [
        "## 1. Bias-variance trade-off\n",
        "\n",
        "\n",
        "Продемонстрируйте bias-variance trade-off на примере DecisionTreeRegressor на представленном датасете, используя функцию plot_regression_predictions и приведенный ниже код (можете модифицировать). \n",
        "\n",
        "*Подсказка*: попробуйте несколько значений глубины *max_depth* в пределах от 2 до 10 и сравните с дефолтным None. Также можете попробовать варьировать другие параметры."
      ]
    },
    {
      "cell_type": "code",
      "metadata": {
        "colab": {
          "base_uri": "https://localhost:8080/",
          "height": 279
        },
        "id": "ubA-dRmW1yFp",
        "outputId": "cdcb7199-5330-4877-e9bc-365880cd2a19"
      },
      "source": [
        "np.random.seed(42)\n",
        "m = 200\n",
        "X = np.random.rand(m, 1) * 3 - 1\n",
        "y = 4 * (X - 0.5) ** 3\n",
        "y = y + np.random.randn(m, 1) / 10\n",
        "\n",
        "# визуализируем\n",
        "plt.scatter(X,y,s=10)\n",
        "plt.xlabel('x')\n",
        "plt.ylabel('y')\n",
        "plt.show()"
      ],
      "execution_count": null,
      "outputs": [
        {
          "data": {
            "image/png": "[encoded data removed]",
            "text/plain": [
              "<Figure size 432x288 with 1 Axes>"
            ]
          },
          "metadata": {},
          "output_type": "display_data"
        }
      ]
    },
    {
      "cell_type": "code",
      "metadata": {
        "id": "z-OTg4Er1yHy"
      },
      "source": [
        "def plot_regression_predictions(tree_reg, X, y, ax, limits=[0, 1, -1, 1], title=\"\"):\n",
        "    \"\"\"Передайте обученное дерево, координаты кривой Х и y, \n",
        "        объект ax для отрисовки, опционально - координаты границ\n",
        "         и заголовок графика\"\"\"\n",
        "    x1 = np.linspace(limits[0], limits[1], 500).reshape(-1, 1)\n",
        "    y_pred = tree_reg.predict(x1)\n",
        "    ax.axis(limits)\n",
        "    ax.set_title(title)\n",
        "    ax.plot(X, y, \"b.\")\n",
        "    ax.plot(x1, y_pred, \"r.-\", alpha=0.1, linewidth=1, label=\"y\")    "
      ],
      "execution_count": null,
      "outputs": []
    },
    {
      "cell_type": "code",
      "metadata": {
        "id": "D4WmPs-nTFEo"
      },
      "source": [
        "# Замените \"?\" рабочим кодом либо напишите полностью свое решение\n",
        "fig, axes = plt.subplots(2,3, figsize=(12,15))\n",
        "axes = axes.flat\n",
        "\n",
        "for i, d in enumerate( ?? ):\n",
        "    axes[i].set(xlabel=\"$x_1$\", ylabel=\"$y$\")\n",
        "    axes[i].label_outer()\n",
        "    model = DecisionTreeRegressor(max_depth=??).fit(??, ?)\n",
        "    plot_regression_predictions(???, ??, ?, axes[i], limits=[0, 1, -1, 1], title=f\"Max depth: {d}\")  "
      ],
      "execution_count": null,
      "outputs": []
    },
    {
      "cell_type": "code",
      "metadata": {
        "id": "ehQAquBPMKhv"
      },
      "source": [
        "# Выводы - ?"
      ],
      "execution_count": null,
      "outputs": []
    },
    {
      "cell_type": "markdown",
      "metadata": {
        "id": "9PWjntNx1gnl"
      },
      "source": [
        "## 2. Качество Bagging с различными базовыми моделями\n",
        "\n",
        "Попробуем оценить эффект бэггинга на качестве различных моделей классификации: логистической регрессии, SVC и дерева решений.\n",
        "\n",
        "На датасете *breast_cancer* обучите модели Decision Tree, SVC (с параметрами по умолчанию) и логистическую регрессию.\n",
        "\n",
        "Полученные предсказания на тесте оцените при помощи корреляции мэтьюса (**sklearn.metrics.matthews_corrcoef**, почитать про пользу этой метрики можно [здесь](https://bmcgenomics.biomedcentral.com/articles/10.1186/s12864-019-6413-7)), построив 90% доверительные интервалы при помощи реализующей bootstrap функции *bootstrap_metric*. Результат отобразите в виде боксплотов.\n",
        "\n",
        "Обучите **BaggingClassifier** (предварительно почитав [документацию](https://scikit-learn.org/stable/modules/generated/sklearn.ensemble.BaggingClassifier.html)) с теми же самыми моделями в качестве базового эстиматора и числом эстиматоров равным 100. \n",
        "\n",
        "На новом графике отобразите боксплоты для всех 6 моделей. Сделайте вывод о "
      ]
    },
    {
      "cell_type": "code",
      "metadata": {
        "id": "hVRK_B3Faeg5"
      },
      "source": [
        "from sklearn.datasets import load_breast_cancer\n",
        "\n",
        "def bootstrap_metric(x, y,\n",
        "                    metric_fn,\n",
        "                    samples_cnt=1000,\n",
        "                    random_state=777):\n",
        "    size = len(x)\n",
        "    np.random.seed(random_state)\n",
        "    b_metric = np.zeros(samples_cnt)\n",
        "    for it in range(samples_cnt):\n",
        "        poses = np.random.choice(x.shape[0], size=x.shape[0], replace=True)\n",
        "        \n",
        "        x_boot = x[poses]\n",
        "        y_boot = y[poses]\n",
        "        \n",
        "        m_val = metric_fn(x_boot, y_boot)\n",
        "        b_metric[it] = m_val\n",
        "    \n",
        "    return b_metric"
      ],
      "execution_count": null,
      "outputs": []
    },
    {
      "cell_type": "code",
      "metadata": {
        "id": "gTSg26thaejS"
      },
      "source": [
        "breast_cancer = load_breast_cancer()\n",
        "#print(breast_cancer.DESCR)"
      ],
      "execution_count": null,
      "outputs": []
    },
    {
      "cell_type": "code",
      "metadata": {
        "id": "ufhspv5baelQ"
      },
      "source": [
        "X = breast_cancer.data\n",
        "y = breast_cancer.target\n",
        "X_train, X_test, y_train, y_test = train_test_split(X, y, random_state=777)"
      ],
      "execution_count": null,
      "outputs": []
    },
    {
      "cell_type": "markdown",
      "metadata": {
        "id": "BBEU8nZT5QiZ"
      },
      "source": [
        "Обучите базовые модели и сравните качество:"
      ]
    },
    {
      "cell_type": "code",
      "metadata": {
        "id": "JZWZ4hKZfSS8"
      },
      "source": [
        "logr_model = LogisticRegression(solver='liblinear',\\\n",
        "                                max_iter=1000).fit(X_train, y_train)\n",
        "\n",
        "dt_model = DecisionTreeClassifier().fit(??, ?)\n",
        "\n",
        "svc_model = SVC().fit(??)"
      ],
      "execution_count": null,
      "outputs": []
    },
    {
      "cell_type": "code",
      "metadata": {
        "id": "hs-5uFx3aepZ"
      },
      "source": [
        "dt_pred    =   dt_model.predict(X_test)\n",
        "svc_pred   =   ...\n",
        "logr_pred  =   ..."
      ],
      "execution_count": null,
      "outputs": []
    },
    {
      "cell_type": "code",
      "metadata": {
        "id": "ZUHR-faaaerU"
      },
      "source": [
        "boot_score_dt = bootstrap_metric(y_test,\n",
        "                                   dt_pred,\n",
        "                                   metric_fn=lambda x, y: matthews_corrcoef(y_true=x, \n",
        "                                                                                  y_pred=y))\n",
        "boot_score_svc = bootstrap_metric(y_test,\n",
        "                                   svc_pred,\n",
        "                                   metric_fn=lambda x, y: matthews_corrcoef(y_true=x, \n",
        "                                                                                  y_pred=y))\n",
        "boot_score_logr = bootstrap_metric(y_test,\n",
        "                                   logr_pred,\n",
        "                                   metric_fn=lambda x, y: matthews_corrcoef(y_true=x, \n",
        "                                                                                  y_pred=y))"
      ],
      "execution_count": null,
      "outputs": []
    },
    {
      "cell_type": "code",
      "metadata": {
        "id": "Pcj7OPMJaetr"
      },
      "source": [
        "plt.figure(figsize=(12,8))\n",
        "sns.boxplot(y=np.concatenate([boot_score_dt,\n",
        "                              boot_score_svc, \n",
        "                              boot_score_logr]),\n",
        "             x=[\"DT\"] * 1000 + ['SVC'] * 1000 + ['Log-reg'] * 1000 )\n",
        "plt.show();"
      ],
      "execution_count": null,
      "outputs": []
    },
    {
      "cell_type": "markdown",
      "metadata": {
        "id": "z_FGqp415VL_"
      },
      "source": [
        "Создайте ансамбли BaggingClassifier с рассмотренными выше моделями в качестве базовых эстиматоров и числом эстиматоров равным 100. Получите для каждого из них предсказание и bootstrap-оценку. Добавьте полученные данные на график."
      ]
    },
    {
      "cell_type": "code",
      "metadata": {
        "id": "F-AIfcMdfBBb"
      },
      "source": [
        "bagged_svc_model = BaggingClassifier(SVC(), \\\n",
        "                                     n_estimators=100).fit(X_train, y_train)\n",
        "..."
      ],
      "execution_count": null,
      "outputs": []
    },
    {
      "cell_type": "code",
      "metadata": {
        "id": "TIUJrv_aaex3"
      },
      "source": [
        ""
      ],
      "execution_count": null,
      "outputs": []
    },
    {
      "cell_type": "code",
      "metadata": {
        "id": "GrlrjLqVae0I"
      },
      "source": [
        ""
      ],
      "execution_count": null,
      "outputs": []
    },
    {
      "cell_type": "code",
      "metadata": {
        "id": "mKFwU2exae1o"
      },
      "source": [
        "plt.figure(figsize=(12,8))\n",
        "sns.boxplot(y=np.concatenate([boot_score_dt,\n",
        "                              boot_score_svc, \n",
        "                              boot_score_logr,\n",
        "                              ......]),\n",
        "             x=[\"DT\"] * 1000 + ['SVC'] * 1000 + ['Log-reg'] * 1000 + ......)\n",
        "plt.show()"
      ],
      "execution_count": null,
      "outputs": []
    },
    {
      "cell_type": "code",
      "metadata": {
        "id": "EKZEvwJE6iDO"
      },
      "source": [
        "# Вывод -?"
      ],
      "execution_count": null,
      "outputs": []
    },
    {
      "cell_type": "markdown",
      "metadata": {
        "id": "ejmQcq7r3X0k"
      },
      "source": [
        "## 3. Древесные модели и работа с признаками.\n",
        "\n",
        "Поработаем с  [датасетом](https://www.kaggle.com/ronitf/heart-disease-uci), содержащим признаковые описания здоровых людей и пациентов с заболеваниями сердца."
      ]
    },
    {
      "cell_type": "code",
      "metadata": {
        "colab": {
          "base_uri": "https://localhost:8080/"
        },
        "id": "wZobOoh7m5N1",
        "outputId": "d9b840f8-a2f1-405e-df6f-734f152d46ae"
      },
      "source": [
        "!gdown  --id 1CFoY_hHBK83u4MQZhAJEEocNC2TYcWTf -O heart.csv "
      ],
      "execution_count": null,
      "outputs": [
        {
          "output_type": "stream",
          "name": "stdout",
          "text": [
            "Downloading...\n",
            "From: https://drive.google.com/uc?id=1CFoY_hHBK83u4MQZhAJEEocNC2TYcWTf\n",
            "To: /content/heart.csv\n",
            "\r  0% 0.00/11.3k [00:00<?, ?B/s]\r100% 11.3k/11.3k [00:00<00:00, 10.3MB/s]\n"
          ]
        }
      ]
    },
    {
      "cell_type": "code",
      "metadata": {
        "colab": {
          "base_uri": "https://localhost:8080/"
        },
        "id": "ILnUaCD2m5P9",
        "outputId": "923a45af-256c-4588-d1cf-1c4836d23a1c"
      },
      "source": [
        "heart_dataset = pd.read_csv(\"heart.csv\")\n",
        "print(heart_dataset.shape)\n",
        "print(heart_dataset.columns.values)\n",
        "X = heart_dataset.drop(\"target\", axis=1)\n",
        "y = heart_dataset['target'] > 0\n",
        "X_train, X_test, y_train, y_test = train_test_split(X, y.values, random_state=777)"
      ],
      "execution_count": null,
      "outputs": [
        {
          "output_type": "stream",
          "name": "stdout",
          "text": [
            "(303, 14)\n",
            "['age' 'sex' 'cp' 'trestbps' 'chol' 'fbs' 'restecg' 'thalach' 'exang'\n",
            " 'oldpeak' 'slope' 'ca' 'thal' 'target']\n"
          ]
        }
      ]
    },
    {
      "cell_type": "code",
      "metadata": {
        "colab": {
          "base_uri": "https://localhost:8080/",
          "height": 419
        },
        "id": "4c-WB3ZSm5R_",
        "outputId": "eef05e09-ab0f-4740-ddda-b756e3e181dc"
      },
      "source": [
        "heart_dataset"
      ],
      "execution_count": null,
      "outputs": [
        {
          "output_type": "execute_result",
          "data": {
            "text/html": [
              "<div>\n",
              "<style scoped>\n",
              "    .dataframe tbody tr th:only-of-type {\n",
              "        vertical-align: middle;\n",
              "    }\n",
              "\n",
              "    .dataframe tbody tr th {\n",
              "        vertical-align: top;\n",
              "    }\n",
              "\n",
              "    .dataframe thead th {\n",
              "        text-align: right;\n",
              "    }\n",
              "</style>\n",
              "<table border=\"1\" class=\"dataframe\">\n",
              "  <thead>\n",
              "    <tr style=\"text-align: right;\">\n",
              "      <th></th>\n",
              "      <th>age</th>\n",
              "      <th>sex</th>\n",
              "      <th>cp</th>\n",
              "      <th>trestbps</th>\n",
              "      <th>chol</th>\n",
              "      <th>fbs</th>\n",
              "      <th>restecg</th>\n",
              "      <th>thalach</th>\n",
              "      <th>exang</th>\n",
              "      <th>oldpeak</th>\n",
              "      <th>slope</th>\n",
              "      <th>ca</th>\n",
              "      <th>thal</th>\n",
              "      <th>target</th>\n",
              "    </tr>\n",
              "  </thead>\n",
              "  <tbody>\n",
              "    <tr>\n",
              "      <th>0</th>\n",
              "      <td>63</td>\n",
              "      <td>1</td>\n",
              "      <td>3</td>\n",
              "      <td>145</td>\n",
              "      <td>233</td>\n",
              "      <td>1</td>\n",
              "      <td>0</td>\n",
              "      <td>150</td>\n",
              "      <td>0</td>\n",
              "      <td>2.3</td>\n",
              "      <td>0</td>\n",
              "      <td>0</td>\n",
              "      <td>1</td>\n",
              "      <td>1</td>\n",
              "    </tr>\n",
              "    <tr>\n",
              "      <th>1</th>\n",
              "      <td>37</td>\n",
              "      <td>1</td>\n",
              "      <td>2</td>\n",
              "      <td>130</td>\n",
              "      <td>250</td>\n",
              "      <td>0</td>\n",
              "      <td>1</td>\n",
              "      <td>187</td>\n",
              "      <td>0</td>\n",
              "      <td>3.5</td>\n",
              "      <td>0</td>\n",
              "      <td>0</td>\n",
              "      <td>2</td>\n",
              "      <td>1</td>\n",
              "    </tr>\n",
              "    <tr>\n",
              "      <th>2</th>\n",
              "      <td>41</td>\n",
              "      <td>0</td>\n",
              "      <td>1</td>\n",
              "      <td>130</td>\n",
              "      <td>204</td>\n",
              "      <td>0</td>\n",
              "      <td>0</td>\n",
              "      <td>172</td>\n",
              "      <td>0</td>\n",
              "      <td>1.4</td>\n",
              "      <td>2</td>\n",
              "      <td>0</td>\n",
              "      <td>2</td>\n",
              "      <td>1</td>\n",
              "    </tr>\n",
              "    <tr>\n",
              "      <th>3</th>\n",
              "      <td>56</td>\n",
              "      <td>1</td>\n",
              "      <td>1</td>\n",
              "      <td>120</td>\n",
              "      <td>236</td>\n",
              "      <td>0</td>\n",
              "      <td>1</td>\n",
              "      <td>178</td>\n",
              "      <td>0</td>\n",
              "      <td>0.8</td>\n",
              "      <td>2</td>\n",
              "      <td>0</td>\n",
              "      <td>2</td>\n",
              "      <td>1</td>\n",
              "    </tr>\n",
              "    <tr>\n",
              "      <th>4</th>\n",
              "      <td>57</td>\n",
              "      <td>0</td>\n",
              "      <td>0</td>\n",
              "      <td>120</td>\n",
              "      <td>354</td>\n",
              "      <td>0</td>\n",
              "      <td>1</td>\n",
              "      <td>163</td>\n",
              "      <td>1</td>\n",
              "      <td>0.6</td>\n",
              "      <td>2</td>\n",
              "      <td>0</td>\n",
              "      <td>2</td>\n",
              "      <td>1</td>\n",
              "    </tr>\n",
              "    <tr>\n",
              "      <th>...</th>\n",
              "      <td>...</td>\n",
              "      <td>...</td>\n",
              "      <td>...</td>\n",
              "      <td>...</td>\n",
              "      <td>...</td>\n",
              "      <td>...</td>\n",
              "      <td>...</td>\n",
              "      <td>...</td>\n",
              "      <td>...</td>\n",
              "      <td>...</td>\n",
              "      <td>...</td>\n",
              "      <td>...</td>\n",
              "      <td>...</td>\n",
              "      <td>...</td>\n",
              "    </tr>\n",
              "    <tr>\n",
              "      <th>298</th>\n",
              "      <td>57</td>\n",
              "      <td>0</td>\n",
              "      <td>0</td>\n",
              "      <td>140</td>\n",
              "      <td>241</td>\n",
              "      <td>0</td>\n",
              "      <td>1</td>\n",
              "      <td>123</td>\n",
              "      <td>1</td>\n",
              "      <td>0.2</td>\n",
              "      <td>1</td>\n",
              "      <td>0</td>\n",
              "      <td>3</td>\n",
              "      <td>0</td>\n",
              "    </tr>\n",
              "    <tr>\n",
              "      <th>299</th>\n",
              "      <td>45</td>\n",
              "      <td>1</td>\n",
              "      <td>3</td>\n",
              "      <td>110</td>\n",
              "      <td>264</td>\n",
              "      <td>0</td>\n",
              "      <td>1</td>\n",
              "      <td>132</td>\n",
              "      <td>0</td>\n",
              "      <td>1.2</td>\n",
              "      <td>1</td>\n",
              "      <td>0</td>\n",
              "      <td>3</td>\n",
              "      <td>0</td>\n",
              "    </tr>\n",
              "    <tr>\n",
              "      <th>300</th>\n",
              "      <td>68</td>\n",
              "      <td>1</td>\n",
              "      <td>0</td>\n",
              "      <td>144</td>\n",
              "      <td>193</td>\n",
              "      <td>1</td>\n",
              "      <td>1</td>\n",
              "      <td>141</td>\n",
              "      <td>0</td>\n",
              "      <td>3.4</td>\n",
              "      <td>1</td>\n",
              "      <td>2</td>\n",
              "      <td>3</td>\n",
              "      <td>0</td>\n",
              "    </tr>\n",
              "    <tr>\n",
              "      <th>301</th>\n",
              "      <td>57</td>\n",
              "      <td>1</td>\n",
              "      <td>0</td>\n",
              "      <td>130</td>\n",
              "      <td>131</td>\n",
              "      <td>0</td>\n",
              "      <td>1</td>\n",
              "      <td>115</td>\n",
              "      <td>1</td>\n",
              "      <td>1.2</td>\n",
              "      <td>1</td>\n",
              "      <td>1</td>\n",
              "      <td>3</td>\n",
              "      <td>0</td>\n",
              "    </tr>\n",
              "    <tr>\n",
              "      <th>302</th>\n",
              "      <td>57</td>\n",
              "      <td>0</td>\n",
              "      <td>1</td>\n",
              "      <td>130</td>\n",
              "      <td>236</td>\n",
              "      <td>0</td>\n",
              "      <td>0</td>\n",
              "      <td>174</td>\n",
              "      <td>0</td>\n",
              "      <td>0.0</td>\n",
              "      <td>1</td>\n",
              "      <td>1</td>\n",
              "      <td>2</td>\n",
              "      <td>0</td>\n",
              "    </tr>\n",
              "  </tbody>\n",
              "</table>\n",
              "<p>303 rows × 14 columns</p>\n",
              "</div>"
            ],
            "text/plain": [
              "     age  sex  cp  trestbps  chol  fbs  ...  exang  oldpeak  slope  ca  thal  target\n",
              "0     63    1   3       145   233    1  ...      0      2.3      0   0     1       1\n",
              "1     37    1   2       130   250    0  ...      0      3.5      0   0     2       1\n",
              "2     41    0   1       130   204    0  ...      0      1.4      2   0     2       1\n",
              "3     56    1   1       120   236    0  ...      0      0.8      2   0     2       1\n",
              "4     57    0   0       120   354    0  ...      1      0.6      2   0     2       1\n",
              "..   ...  ...  ..       ...   ...  ...  ...    ...      ...    ...  ..   ...     ...\n",
              "298   57    0   0       140   241    0  ...      1      0.2      1   0     3       0\n",
              "299   45    1   3       110   264    0  ...      0      1.2      1   0     3       0\n",
              "300   68    1   0       144   193    1  ...      0      3.4      1   2     3       0\n",
              "301   57    1   0       130   131    0  ...      1      1.2      1   1     3       0\n",
              "302   57    0   1       130   236    0  ...      0      0.0      1   1     2       0\n",
              "\n",
              "[303 rows x 14 columns]"
            ]
          },
          "metadata": {},
          "execution_count": 72
        }
      ]
    },
    {
      "cell_type": "markdown",
      "metadata": {
        "id": "QQ2OOjxbV62j"
      },
      "source": [
        "### Эксперимент: обучение классификаторов на вещественных признаках"
      ]
    },
    {
      "cell_type": "markdown",
      "metadata": {
        "id": "PRA2NflRT0Au"
      },
      "source": [
        "Качество алгоритмов может зависеть не только от значений гиперпараметров, но и от предобратки исходных признаков. Некоторые из рассмотренных нами алгоритмов чувствительны к масштабу признаков. Посмотрим, насколько различны распределения признаков. Постройте гистограммы для признаков age, trestbps, chol, thalach, oldpeak.\n",
        "\n",
        "Глядя на получившиеся графики, скажите в чем заключается особенность данных? На какие алгоритмы это может повлиять? Почему?"
      ]
    },
    {
      "cell_type": "code",
      "metadata": {
        "id": "-iificxxT8Tt"
      },
      "source": [
        "fig, axes = plt.subplots(3,2, figsize=(12,10))\n",
        "axes = axes.flat\n",
        "for i, name in enumerate( ??? ):\n",
        "    heart_dataset[name].hist(ax=axes[i])\n",
        "    axes[i].set_title(name)\n",
        "fig.tight_layout()"
      ],
      "execution_count": null,
      "outputs": []
    },
    {
      "cell_type": "markdown",
      "metadata": {
        "id": "HBBSs1ydT7t_"
      },
      "source": [
        "Масштабирование признаков можно выполнить, например, одним из следующих способов:\n",
        "\n",
        "$x_{new} = \\dfrac{x - \\mu}{\\sigma}$, где $\\mu, \\sigma$ — среднее и стандартное отклонение значения признака по всей выборке;\n",
        "\n",
        "$x_{new} = \\dfrac{x - x_{min}}{x_{max} - x_{min}}$, где $[x_{min}, x_{max}]$ —  интервал наблюдаемых значений признака.\n",
        "\n",
        "Такие схемы масштабирования приведены в классах [StandardScaler](http://scikit-learn.org/stable/modules/generated/sklearn.preprocessing.StandardScaler.html#sklearn.preprocessing.StandardScaler) и [MinMaxScaler](http://scikit-learn.org/stable/modules/generated/sklearn.preprocessing.MinMaxScaler.html#sklearn.preprocessing.MinMaxScaler).\n",
        "\n",
        "Отберите все вещественные признаки и масштабируйте их одним из указанных способов.\n",
        "\n",
        "\n"
      ]
    },
    {
      "cell_type": "code",
      "metadata": {
        "id": "gl03W2O8T76X"
      },
      "source": [
        "from sklearn.preprocessing import ??Scaler\n"
      ],
      "execution_count": null,
      "outputs": []
    },
    {
      "cell_type": "markdown",
      "metadata": {
        "id": "OspIFIZeHVHa"
      },
      "source": [
        "В этой задаче будем рассматривать алгоритм *RandomForestClassifier*.\n",
        "\n",
        "Для начала оцените среднее и std качества работы алгоритма с параметрами по умолчанию на масштабированных и исходных вещественных признаках из тренировочной выборки при помощи функции [cross_val_score](https://scikit-learn.org/stable/modules/generated/sklearn.model_selection.cross_val_score.html). По умолчанию она оценивает качество работы модели по 5 фолдам.\n",
        "\n",
        "\n",
        "Сделайте вывод о необходимости масштабировать признаки перед подачей их в древесные модели."
      ]
    },
    {
      "cell_type": "code",
      "metadata": {
        "id": "PeefBXTF0GEm"
      },
      "source": [
        "from sklearn.model_selection import cross_val_score\n",
        "\n",
        "cross_val_score(estimator=RandomForestClassifier(), X=??, y=??)"
      ],
      "execution_count": null,
      "outputs": []
    },
    {
      "cell_type": "code",
      "metadata": {
        "id": "xukes39I0vEq"
      },
      "source": [
        ""
      ],
      "execution_count": null,
      "outputs": []
    },
    {
      "cell_type": "code",
      "metadata": {
        "id": "T48uDusFR7v6"
      },
      "source": [
        "# Вывод"
      ],
      "execution_count": null,
      "outputs": []
    },
    {
      "cell_type": "markdown",
      "metadata": {
        "id": "k5WmI0X2DVWV"
      },
      "source": [
        "### Добавление категориальных признаков в модель\n",
        "\n",
        "Вспомним, что у нас еще есть категориальные признаки. Случайный лес умеет работать с ними напрямую в том виде, в котором они в датасете находятся сейчас, однако многие другие модели требуют дополнительной предобработки.\n",
        "\n",
        "Преобразуйте все категориальные признаки с помощью метода one-hot-encoding (например, это можно сделать с помощью функции [pandas.get_dummies](http://pandas.pydata.org/pandas-docs/stable/generated/pandas.get_dummies.html)). Передайте в функцию список колонок, которые необходимо закодировать.\n",
        "\n",
        "После кодирования признаков разбейте датасет заново на тренировочную и тестовую выборки тем же способом, что и раньше."
      ]
    },
    {
      "cell_type": "code",
      "metadata": {
        "id": "USqvKoP-DVdn"
      },
      "source": [
        "heart_dataset_transformed = pd.get_dummies(heart_dataset, columns = [ ??? ])"
      ],
      "execution_count": null,
      "outputs": []
    },
    {
      "cell_type": "markdown",
      "metadata": {
        "id": "XHt1Wygq0GK5"
      },
      "source": [
        "Обучим случайный лес.\n",
        "\n",
        "Подберите для него оптимальные значения гиперпараметров, а именно параметр глубины (*max_depth*), критерий разбиения в деревьях (*criterion*) и максимальное число признаков *max_features*.\n",
        "\n",
        "Для подбора гиперпараметров воспользуйтесь перебором по сетке, который реализован в классе [GridSearchCV](https://scikit-learn.org/stable/modules/generated/sklearn.model_selection.GridSearchCV.html). Для ускорения вычислений можете передать параметр *n_jobs = -1*.\n",
        "\n",
        "Обратите внимание, что эта операция может быть ресурсо- и трудоемкой! Не используйте большие массивы перебираемых значений параметров."
      ]
    },
    {
      "cell_type": "code",
      "metadata": {
        "id": "KgrK0AwEHVR5"
      },
      "source": [
        ""
      ],
      "execution_count": null,
      "outputs": []
    },
    {
      "cell_type": "markdown",
      "metadata": {
        "id": "h58HH5-x2nOt"
      },
      "source": [
        "Оцените качество предсказания обученной на вещественных признаках модели на тесте. Используйте classification_report."
      ]
    },
    {
      "cell_type": "code",
      "metadata": {
        "id": "2btuaxVAHVT1"
      },
      "source": [
        ""
      ],
      "execution_count": null,
      "outputs": []
    },
    {
      "cell_type": "code",
      "metadata": {
        "id": "8KBDSqgN893q"
      },
      "source": [
        "# Выводы"
      ],
      "execution_count": null,
      "outputs": []
    },
    {
      "cell_type": "markdown",
      "metadata": {
        "id": "5Be1IGUWSea8"
      },
      "source": [
        "## 4. Случайный лес и кодирование биологических последовательностей\n",
        "\n",
        "Сплайсинг $-$ происходящее в ходе процессинга РНК вырезание определённых нуклеотидных последовательностей (интронов) из молекул РНК и соединения оставшихся последовательностей, сохраняющихся в «зрелой» молекуле (экзонов).\n",
        "Участвующие в процессе сплайсинга белки распознают границы интронов благодаря наличию в последовательности донорных (5') и акцепторных (3') сайтов.\n",
        "\n",
        "Датасет представляет собой последовательности РНК длиной 60 нуклеотидов, размеченные на 3 класса: содержит донорный сайт, содержит акцепторный сайт, и не содержит таких сайтов."
      ]
    },
    {
      "cell_type": "code",
      "metadata": {
        "colab": {
          "base_uri": "https://localhost:8080/"
        },
        "id": "RiW42NOvSeir",
        "outputId": "a2ceca1a-eb69-4d4e-c0aa-035f919a8e43"
      },
      "source": [
        "!if [ ! -f ./rna_seq.csv ]; then wget https://kodomo.fbb.msu.ru/FBB/year_20/ml/dtrees/rna_seq.csv; fi"
      ],
      "execution_count": null,
      "outputs": [
        {
          "output_type": "stream",
          "name": "stdout",
          "text": [
            "--2021-10-17 18:00:15--  https://kodomo.fbb.msu.ru/FBB/year_20/ml/dtrees/rna_seq.csv\n",
            "Resolving kodomo.fbb.msu.ru (kodomo.fbb.msu.ru)... 93.180.63.127\n",
            "Connecting to kodomo.fbb.msu.ru (kodomo.fbb.msu.ru)|93.180.63.127|:443... connected.\n",
            "HTTP request sent, awaiting response... 200 OK\n",
            "Length: 388928 (380K) [text/csv]\n",
            "Saving to: ‘rna_seq.csv’\n",
            "\n",
            "rna_seq.csv         100%[===================>] 379.81K   440KB/s    in 0.9s    \n",
            "\n",
            "2021-10-17 18:01:06 (440 KB/s) - ‘rna_seq.csv’ saved [388928/388928]\n",
            "\n"
          ]
        }
      ]
    },
    {
      "cell_type": "markdown",
      "metadata": {
        "id": "-eRcKzIEmjRo"
      },
      "source": [
        "Стоблец **class** содержит метки классов:\n",
        "* 1: Донорный сайт\n",
        "* 2: Акцепторный сайт\n",
        "* 3: Не содержит сайтов сплайсинга\n",
        "\n",
        "Столбцы **B0-B59** содержат последоватедовательности РНК, соотвествующие этим классам."
      ]
    },
    {
      "cell_type": "code",
      "metadata": {
        "id": "3aDFc3xgYplL"
      },
      "source": [
        " import numpy as np\n",
        " import pandas as pd\n",
        " pd.set_option('display.max_columns', 999)\n",
        "\n",
        " from sklearn.preprocessing import OneHotEncoder\n",
        " from sklearn.model_selection import train_test_split\n",
        " from sklearn.ensemble import RandomForestClassifier"
      ],
      "execution_count": null,
      "outputs": []
    },
    {
      "cell_type": "code",
      "metadata": {
        "colab": {
          "base_uri": "https://localhost:8080/",
          "height": 241
        },
        "id": "pZTDosRmk0xr",
        "outputId": "1a3fe8da-9cb8-4de1-971d-0ee1ecbd611a"
      },
      "source": [
        "data = pd.read_csv(\"rna_seq.csv\")\n",
        "print(data.shape)\n",
        "data.head()"
      ],
      "execution_count": null,
      "outputs": [
        {
          "output_type": "stream",
          "name": "stdout",
          "text": [
            "(3186, 61)\n"
          ]
        },
        {
          "output_type": "execute_result",
          "data": {
            "text/html": [
              "<div>\n",
              "<style scoped>\n",
              "    .dataframe tbody tr th:only-of-type {\n",
              "        vertical-align: middle;\n",
              "    }\n",
              "\n",
              "    .dataframe tbody tr th {\n",
              "        vertical-align: top;\n",
              "    }\n",
              "\n",
              "    .dataframe thead th {\n",
              "        text-align: right;\n",
              "    }\n",
              "</style>\n",
              "<table border=\"1\" class=\"dataframe\">\n",
              "  <thead>\n",
              "    <tr style=\"text-align: right;\">\n",
              "      <th></th>\n",
              "      <th>class</th>\n",
              "      <th>B0</th>\n",
              "      <th>B1</th>\n",
              "      <th>B2</th>\n",
              "      <th>B3</th>\n",
              "      <th>B4</th>\n",
              "      <th>B5</th>\n",
              "      <th>B6</th>\n",
              "      <th>B7</th>\n",
              "      <th>B8</th>\n",
              "      <th>B9</th>\n",
              "      <th>B10</th>\n",
              "      <th>B11</th>\n",
              "      <th>B12</th>\n",
              "      <th>B13</th>\n",
              "      <th>B14</th>\n",
              "      <th>B15</th>\n",
              "      <th>B16</th>\n",
              "      <th>B17</th>\n",
              "      <th>B18</th>\n",
              "      <th>B19</th>\n",
              "      <th>B20</th>\n",
              "      <th>B21</th>\n",
              "      <th>B22</th>\n",
              "      <th>B23</th>\n",
              "      <th>B24</th>\n",
              "      <th>B25</th>\n",
              "      <th>B26</th>\n",
              "      <th>B27</th>\n",
              "      <th>B28</th>\n",
              "      <th>B29</th>\n",
              "      <th>B30</th>\n",
              "      <th>B31</th>\n",
              "      <th>B32</th>\n",
              "      <th>B33</th>\n",
              "      <th>B34</th>\n",
              "      <th>B35</th>\n",
              "      <th>B36</th>\n",
              "      <th>B37</th>\n",
              "      <th>B38</th>\n",
              "      <th>B39</th>\n",
              "      <th>B40</th>\n",
              "      <th>B41</th>\n",
              "      <th>B42</th>\n",
              "      <th>B43</th>\n",
              "      <th>B44</th>\n",
              "      <th>B45</th>\n",
              "      <th>B46</th>\n",
              "      <th>B47</th>\n",
              "      <th>B48</th>\n",
              "      <th>B49</th>\n",
              "      <th>B50</th>\n",
              "      <th>B51</th>\n",
              "      <th>B52</th>\n",
              "      <th>B53</th>\n",
              "      <th>B54</th>\n",
              "      <th>B55</th>\n",
              "      <th>B56</th>\n",
              "      <th>B57</th>\n",
              "      <th>B58</th>\n",
              "      <th>B59</th>\n",
              "    </tr>\n",
              "  </thead>\n",
              "  <tbody>\n",
              "    <tr>\n",
              "      <th>0</th>\n",
              "      <td>3</td>\n",
              "      <td>C</td>\n",
              "      <td>U</td>\n",
              "      <td>A</td>\n",
              "      <td>G</td>\n",
              "      <td>G</td>\n",
              "      <td>C</td>\n",
              "      <td>U</td>\n",
              "      <td>C</td>\n",
              "      <td>C</td>\n",
              "      <td>A</td>\n",
              "      <td>G</td>\n",
              "      <td>A</td>\n",
              "      <td>U</td>\n",
              "      <td>A</td>\n",
              "      <td>G</td>\n",
              "      <td>C</td>\n",
              "      <td>C</td>\n",
              "      <td>A</td>\n",
              "      <td>U</td>\n",
              "      <td>A</td>\n",
              "      <td>G</td>\n",
              "      <td>A</td>\n",
              "      <td>A</td>\n",
              "      <td>G</td>\n",
              "      <td>A</td>\n",
              "      <td>A</td>\n",
              "      <td>C</td>\n",
              "      <td>C</td>\n",
              "      <td>A</td>\n",
              "      <td>A</td>\n",
              "      <td>A</td>\n",
              "      <td>C</td>\n",
              "      <td>A</td>\n",
              "      <td>C</td>\n",
              "      <td>U</td>\n",
              "      <td>U</td>\n",
              "      <td>U</td>\n",
              "      <td>C</td>\n",
              "      <td>U</td>\n",
              "      <td>G</td>\n",
              "      <td>C</td>\n",
              "      <td>G</td>\n",
              "      <td>U</td>\n",
              "      <td>G</td>\n",
              "      <td>U</td>\n",
              "      <td>G</td>\n",
              "      <td>U</td>\n",
              "      <td>G</td>\n",
              "      <td>A</td>\n",
              "      <td>G</td>\n",
              "      <td>A</td>\n",
              "      <td>A</td>\n",
              "      <td>U</td>\n",
              "      <td>A</td>\n",
              "      <td>A</td>\n",
              "      <td>U</td>\n",
              "      <td>C</td>\n",
              "      <td>A</td>\n",
              "      <td>G</td>\n",
              "      <td>A</td>\n",
              "    </tr>\n",
              "    <tr>\n",
              "      <th>1</th>\n",
              "      <td>3</td>\n",
              "      <td>G</td>\n",
              "      <td>G</td>\n",
              "      <td>U</td>\n",
              "      <td>G</td>\n",
              "      <td>U</td>\n",
              "      <td>U</td>\n",
              "      <td>G</td>\n",
              "      <td>C</td>\n",
              "      <td>U</td>\n",
              "      <td>C</td>\n",
              "      <td>U</td>\n",
              "      <td>U</td>\n",
              "      <td>A</td>\n",
              "      <td>G</td>\n",
              "      <td>G</td>\n",
              "      <td>A</td>\n",
              "      <td>U</td>\n",
              "      <td>G</td>\n",
              "      <td>U</td>\n",
              "      <td>A</td>\n",
              "      <td>U</td>\n",
              "      <td>C</td>\n",
              "      <td>C</td>\n",
              "      <td>C</td>\n",
              "      <td>C</td>\n",
              "      <td>U</td>\n",
              "      <td>C</td>\n",
              "      <td>A</td>\n",
              "      <td>A</td>\n",
              "      <td>A</td>\n",
              "      <td>C</td>\n",
              "      <td>C</td>\n",
              "      <td>U</td>\n",
              "      <td>A</td>\n",
              "      <td>C</td>\n",
              "      <td>C</td>\n",
              "      <td>U</td>\n",
              "      <td>G</td>\n",
              "      <td>G</td>\n",
              "      <td>U</td>\n",
              "      <td>G</td>\n",
              "      <td>G</td>\n",
              "      <td>U</td>\n",
              "      <td>U</td>\n",
              "      <td>C</td>\n",
              "      <td>U</td>\n",
              "      <td>G</td>\n",
              "      <td>U</td>\n",
              "      <td>G</td>\n",
              "      <td>C</td>\n",
              "      <td>C</td>\n",
              "      <td>U</td>\n",
              "      <td>U</td>\n",
              "      <td>C</td>\n",
              "      <td>C</td>\n",
              "      <td>C</td>\n",
              "      <td>C</td>\n",
              "      <td>U</td>\n",
              "      <td>A</td>\n",
              "      <td>C</td>\n",
              "    </tr>\n",
              "    <tr>\n",
              "      <th>2</th>\n",
              "      <td>3</td>\n",
              "      <td>G</td>\n",
              "      <td>G</td>\n",
              "      <td>C</td>\n",
              "      <td>U</td>\n",
              "      <td>G</td>\n",
              "      <td>G</td>\n",
              "      <td>A</td>\n",
              "      <td>C</td>\n",
              "      <td>C</td>\n",
              "      <td>G</td>\n",
              "      <td>A</td>\n",
              "      <td>C</td>\n",
              "      <td>C</td>\n",
              "      <td>A</td>\n",
              "      <td>C</td>\n",
              "      <td>A</td>\n",
              "      <td>G</td>\n",
              "      <td>C</td>\n",
              "      <td>G</td>\n",
              "      <td>C</td>\n",
              "      <td>G</td>\n",
              "      <td>U</td>\n",
              "      <td>G</td>\n",
              "      <td>C</td>\n",
              "      <td>A</td>\n",
              "      <td>G</td>\n",
              "      <td>U</td>\n",
              "      <td>A</td>\n",
              "      <td>A</td>\n",
              "      <td>G</td>\n",
              "      <td>U</td>\n",
              "      <td>C</td>\n",
              "      <td>G</td>\n",
              "      <td>G</td>\n",
              "      <td>C</td>\n",
              "      <td>C</td>\n",
              "      <td>C</td>\n",
              "      <td>C</td>\n",
              "      <td>C</td>\n",
              "      <td>U</td>\n",
              "      <td>G</td>\n",
              "      <td>C</td>\n",
              "      <td>C</td>\n",
              "      <td>C</td>\n",
              "      <td>C</td>\n",
              "      <td>G</td>\n",
              "      <td>U</td>\n",
              "      <td>C</td>\n",
              "      <td>C</td>\n",
              "      <td>U</td>\n",
              "      <td>G</td>\n",
              "      <td>C</td>\n",
              "      <td>C</td>\n",
              "      <td>C</td>\n",
              "      <td>U</td>\n",
              "      <td>G</td>\n",
              "      <td>C</td>\n",
              "      <td>C</td>\n",
              "      <td>G</td>\n",
              "      <td>G</td>\n",
              "    </tr>\n",
              "    <tr>\n",
              "      <th>3</th>\n",
              "      <td>1</td>\n",
              "      <td>U</td>\n",
              "      <td>U</td>\n",
              "      <td>C</td>\n",
              "      <td>U</td>\n",
              "      <td>A</td>\n",
              "      <td>U</td>\n",
              "      <td>G</td>\n",
              "      <td>A</td>\n",
              "      <td>G</td>\n",
              "      <td>A</td>\n",
              "      <td>A</td>\n",
              "      <td>A</td>\n",
              "      <td>C</td>\n",
              "      <td>G</td>\n",
              "      <td>U</td>\n",
              "      <td>G</td>\n",
              "      <td>G</td>\n",
              "      <td>C</td>\n",
              "      <td>A</td>\n",
              "      <td>U</td>\n",
              "      <td>U</td>\n",
              "      <td>G</td>\n",
              "      <td>U</td>\n",
              "      <td>G</td>\n",
              "      <td>C</td>\n",
              "      <td>G</td>\n",
              "      <td>C</td>\n",
              "      <td>A</td>\n",
              "      <td>A</td>\n",
              "      <td>G</td>\n",
              "      <td>G</td>\n",
              "      <td>U</td>\n",
              "      <td>G</td>\n",
              "      <td>G</td>\n",
              "      <td>G</td>\n",
              "      <td>C</td>\n",
              "      <td>C</td>\n",
              "      <td>C</td>\n",
              "      <td>C</td>\n",
              "      <td>G</td>\n",
              "      <td>C</td>\n",
              "      <td>G</td>\n",
              "      <td>G</td>\n",
              "      <td>G</td>\n",
              "      <td>A</td>\n",
              "      <td>C</td>\n",
              "      <td>G</td>\n",
              "      <td>G</td>\n",
              "      <td>G</td>\n",
              "      <td>G</td>\n",
              "      <td>C</td>\n",
              "      <td>A</td>\n",
              "      <td>G</td>\n",
              "      <td>C</td>\n",
              "      <td>U</td>\n",
              "      <td>C</td>\n",
              "      <td>C</td>\n",
              "      <td>G</td>\n",
              "      <td>G</td>\n",
              "      <td>G</td>\n",
              "    </tr>\n",
              "    <tr>\n",
              "      <th>4</th>\n",
              "      <td>2</td>\n",
              "      <td>C</td>\n",
              "      <td>U</td>\n",
              "      <td>C</td>\n",
              "      <td>C</td>\n",
              "      <td>C</td>\n",
              "      <td>C</td>\n",
              "      <td>A</td>\n",
              "      <td>C</td>\n",
              "      <td>C</td>\n",
              "      <td>C</td>\n",
              "      <td>A</td>\n",
              "      <td>C</td>\n",
              "      <td>C</td>\n",
              "      <td>U</td>\n",
              "      <td>G</td>\n",
              "      <td>U</td>\n",
              "      <td>C</td>\n",
              "      <td>C</td>\n",
              "      <td>A</td>\n",
              "      <td>C</td>\n",
              "      <td>C</td>\n",
              "      <td>C</td>\n",
              "      <td>G</td>\n",
              "      <td>C</td>\n",
              "      <td>C</td>\n",
              "      <td>C</td>\n",
              "      <td>G</td>\n",
              "      <td>C</td>\n",
              "      <td>A</td>\n",
              "      <td>G</td>\n",
              "      <td>A</td>\n",
              "      <td>U</td>\n",
              "      <td>C</td>\n",
              "      <td>G</td>\n",
              "      <td>C</td>\n",
              "      <td>U</td>\n",
              "      <td>U</td>\n",
              "      <td>C</td>\n",
              "      <td>C</td>\n",
              "      <td>U</td>\n",
              "      <td>G</td>\n",
              "      <td>G</td>\n",
              "      <td>A</td>\n",
              "      <td>G</td>\n",
              "      <td>C</td>\n",
              "      <td>C</td>\n",
              "      <td>A</td>\n",
              "      <td>G</td>\n",
              "      <td>G</td>\n",
              "      <td>C</td>\n",
              "      <td>A</td>\n",
              "      <td>A</td>\n",
              "      <td>G</td>\n",
              "      <td>A</td>\n",
              "      <td>A</td>\n",
              "      <td>C</td>\n",
              "      <td>U</td>\n",
              "      <td>C</td>\n",
              "      <td>C</td>\n",
              "      <td>A</td>\n",
              "    </tr>\n",
              "  </tbody>\n",
              "</table>\n",
              "</div>"
            ],
            "text/plain": [
              "   class B0 B1 B2 B3 B4 B5 B6 B7 B8 B9 B10 B11 B12 B13 B14 B15 B16 B17 B18  \\\n",
              "0      3  C  U  A  G  G  C  U  C  C  A   G   A   U   A   G   C   C   A   U   \n",
              "1      3  G  G  U  G  U  U  G  C  U  C   U   U   A   G   G   A   U   G   U   \n",
              "2      3  G  G  C  U  G  G  A  C  C  G   A   C   C   A   C   A   G   C   G   \n",
              "3      1  U  U  C  U  A  U  G  A  G  A   A   A   C   G   U   G   G   C   A   \n",
              "4      2  C  U  C  C  C  C  A  C  C  C   A   C   C   U   G   U   C   C   A   \n",
              "\n",
              "  B19 B20 B21 B22 B23 B24 B25 B26 B27 B28 B29 B30 B31 B32 B33 B34 B35 B36 B37  \\\n",
              "0   A   G   A   A   G   A   A   C   C   A   A   A   C   A   C   U   U   U   C   \n",
              "1   A   U   C   C   C   C   U   C   A   A   A   C   C   U   A   C   C   U   G   \n",
              "2   C   G   U   G   C   A   G   U   A   A   G   U   C   G   G   C   C   C   C   \n",
              "3   U   U   G   U   G   C   G   C   A   A   G   G   U   G   G   G   C   C   C   \n",
              "4   C   C   C   G   C   C   C   G   C   A   G   A   U   C   G   C   U   U   C   \n",
              "\n",
              "  B38 B39 B40 B41 B42 B43 B44 B45 B46 B47 B48 B49 B50 B51 B52 B53 B54 B55 B56  \\\n",
              "0   U   G   C   G   U   G   U   G   U   G   A   G   A   A   U   A   A   U   C   \n",
              "1   G   U   G   G   U   U   C   U   G   U   G   C   C   U   U   C   C   C   C   \n",
              "2   C   U   G   C   C   C   C   G   U   C   C   U   G   C   C   C   U   G   C   \n",
              "3   C   G   C   G   G   G   A   C   G   G   G   G   C   A   G   C   U   C   C   \n",
              "4   C   U   G   G   A   G   C   C   A   G   G   C   A   A   G   A   A   C   U   \n",
              "\n",
              "  B57 B58 B59  \n",
              "0   A   G   A  \n",
              "1   U   A   C  \n",
              "2   C   G   G  \n",
              "3   G   G   G  \n",
              "4   C   C   A  "
            ]
          },
          "metadata": {},
          "execution_count": 50
        }
      ]
    },
    {
      "cell_type": "code",
      "metadata": {
        "colab": {
          "base_uri": "https://localhost:8080/"
        },
        "id": "YrFtLHNQm013",
        "outputId": "8e1e36f5-8d4f-436e-a867-f24185300880"
      },
      "source": [
        "data[\"class\"].value_counts()"
      ],
      "execution_count": null,
      "outputs": [
        {
          "output_type": "execute_result",
          "data": {
            "text/plain": [
              "3    1654\n",
              "1     767\n",
              "2     765\n",
              "Name: class, dtype: int64"
            ]
          },
          "metadata": {},
          "execution_count": 51
        }
      ]
    },
    {
      "cell_type": "markdown",
      "metadata": {
        "id": "ijlg5uE5lXn0"
      },
      "source": [
        "Закодируйте последовательности по следующей схеме:\n",
        "\n",
        "* A $\\rightarrow$ 1 0 0\n",
        "* C $\\rightarrow$ 0 1 0\n",
        "* G $\\rightarrow$ 0 0 1\n",
        "* U $\\rightarrow$ 0 0 0\n",
        "\n"
      ]
    },
    {
      "cell_type": "code",
      "metadata": {
        "id": "Yo5rhNh3Hjap"
      },
      "source": [
        "y = data[\"class\"]\n",
        "\n",
        "enc = OneHotEncoder(handle_unknown='error', drop = 60*[\"U\"]) # не заводим для U отдельный признак\n",
        "\n",
        "X = pd.DataFrame(enc.fit_transform(data.drop(\"class\", axis=1)).toarray()).astype(int)"
      ],
      "execution_count": null,
      "outputs": []
    },
    {
      "cell_type": "markdown",
      "metadata": {
        "id": "EUWgiZwaZVDk"
      },
      "source": [
        "На 2-3 объектах проверьте, что кодирование прошло успешно.\n",
        "Дополните словарь и используйте его, чтобы закодировать признаки для этих объектов \"вручную\", затем сравните с полученным результатом."
      ]
    },
    {
      "cell_type": "code",
      "metadata": {
        "id": "Je1Cb06KZg1t"
      },
      "source": [
        "rna_dct = {\n",
        "    \"A\": (1, 0, 0),\n",
        "    # put your code here\n",
        "}"
      ],
      "execution_count": null,
      "outputs": []
    },
    {
      "cell_type": "code",
      "metadata": {
        "colab": {
          "base_uri": "https://localhost:8080/"
        },
        "id": "hL6xNLY-bUE-",
        "outputId": "94ef7b02-ebe4-4509-ce99-5d4b0b9c0832"
      },
      "source": [
        "small_batch = data.drop(\"class\", axis=1).head(3).values\n",
        "\n",
        "np.all( np.array([ list(map(lambda y: rna_dct[y], x)) for x in small_batch ]).reshape(3,180) == X.# put your code here )  "
      ],
      "execution_count": null,
      "outputs": [
        {
          "output_type": "execute_result",
          "data": {
            "text/plain": [
              "True"
            ]
          },
          "metadata": {},
          "execution_count": 47
        }
      ]
    },
    {
      "cell_type": "markdown",
      "metadata": {
        "id": "q1MqIwmQo5_z"
      },
      "source": [
        "Создайте и обучите модель случайного леса на подготовленных данных.\n",
        "Подберите оптимальные параметры *max_features* и *max_depth*.\n",
        "Качество предсказания оцените при помощи *classification_report* и *matthews_corrcoef*.\n"
      ]
    },
    {
      "cell_type": "code",
      "metadata": {
        "id": "ypQKag8GVMfG"
      },
      "source": [
        "# Train-Test split\n",
        "\n",
        "X_train, X_test, y_train, y_test = train_test_split(X, y, test_size=0.3,\n",
        "                                                    random_state=0)"
      ],
      "execution_count": null,
      "outputs": []
    },
    {
      "cell_type": "code",
      "metadata": {
        "id": "SIeYBuClWieU"
      },
      "source": [
        "# put your code here"
      ],
      "execution_count": null,
      "outputs": []
    },
    {
      "cell_type": "code",
      "metadata": {
        "id": "DT4BPOWFWnxm"
      },
      "source": [
        "y_pred = ???\n"
      ],
      "execution_count": null,
      "outputs": []
    },
    {
      "cell_type": "code",
      "metadata": {
        "id": "VoqiUaj6Wtax"
      },
      "source": [
        "from sklearn.metrics import classification_report\n",
        "from sklearn.metrics import matthews_corrcoef"
      ],
      "execution_count": null,
      "outputs": []
    },
    {
      "cell_type": "code",
      "metadata": {
        "id": "5lCO-W45WzMY"
      },
      "source": [
        "print(f\"Matthews correlation coefficient: {matthews_corrcoef(y_test, y_pred):.4f}\\n\\n\")\n",
        "\n",
        "\n",
        "print(classification_report(y_test, y_pred))"
      ],
      "execution_count": null,
      "outputs": []
    }
  ]
}