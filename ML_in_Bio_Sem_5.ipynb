{
  "nbformat": 4,
  "nbformat_minor": 0,
  "metadata": {
    "colab": {
      "name": "ML_in_Bio_Sem_5.ipynb",
      "provenance": [],
      "collapsed_sections": [],
      "include_colab_link": true
    },
    "kernelspec": {
      "name": "python3",
      "display_name": "Python 3"
    },
    "language_info": {
      "name": "python"
    }
  },
  "cells": [
    {
      "cell_type": "markdown",
      "metadata": {
        "id": "view-in-github",
        "colab_type": "text"
      },
      "source": [
        "<a href=\"https://colab.research.google.com/github/SmirnygaTotoshka/FBB_Courses/blob/main/ML_in_Bio_Sem_5.ipynb\" target=\"_parent\"><img src=\"https://colab.research.google.com/assets/colab-badge.svg\" alt=\"Open In Colab\"/></a>"
      ]
    },
    {
      "cell_type": "markdown",
      "metadata": {
        "id": "e8mFqJUb-lnc"
      },
      "source": [
        "# Семинар 5. \n"
      ]
    },
    {
      "cell_type": "markdown",
      "metadata": {
        "id": "YfI0Pru6v2X6"
      },
      "source": [
        "Сначала решим оставшиеся с семинара 4 задания."
      ]
    },
    {
      "cell_type": "markdown",
      "metadata": {
        "id": "EBhDpTcZMhHC"
      },
      "source": [
        "# Предсказание растворимости веществ\n",
        "\n",
        "Загрузим недавно опубликованный датасет [AqSolDB](https://www.nature.com/articles/s41597-019-0151-1), объединяющий информацию о растворимости химических веществ из разных источников. \n",
        "\n"
      ]
    },
    {
      "cell_type": "code",
      "metadata": {
        "colab": {
          "base_uri": "https://localhost:8080/"
        },
        "id": "I2jk6OelNEXK",
        "outputId": "09480241-4bda-4be4-df09-f10f520d7458"
      },
      "source": [
        "!wget  https://kodomo.fbb.msu.ru/FBB/year_20/ml/curated-solubility-dataset.csv"
      ],
      "execution_count": null,
      "outputs": [
        {
          "output_type": "stream",
          "name": "stdout",
          "text": [
            "--2021-10-14 14:42:16--  https://kodomo.fbb.msu.ru/FBB/year_20/ml/curated-solubility-dataset.csv\n",
            "Resolving kodomo.fbb.msu.ru (kodomo.fbb.msu.ru)... 93.180.63.127\n",
            "Connecting to kodomo.fbb.msu.ru (kodomo.fbb.msu.ru)|93.180.63.127|:443... connected.\n",
            "HTTP request sent, awaiting response... 200 OK\n",
            "Length: 3750208 (3.6M) [text/csv]\n",
            "Saving to: ‘curated-solubility-dataset.csv.1’\n",
            "\n",
            "curated-solubility- 100%[===================>]   3.58M  2.56MB/s    in 1.4s    \n",
            "\n",
            "2021-10-14 14:42:18 (2.56 MB/s) - ‘curated-solubility-dataset.csv.1’ saved [3750208/3750208]\n",
            "\n"
          ]
        }
      ]
    },
    {
      "cell_type": "code",
      "metadata": {
        "id": "EmfoTr9sNjKn"
      },
      "source": [
        "import numpy as np\n",
        "import pandas as pd"
      ],
      "execution_count": null,
      "outputs": []
    },
    {
      "cell_type": "code",
      "metadata": {
        "id": "saPTfsTZNsZk"
      },
      "source": [
        "data = pd.read_csv(\"curated-solubility-dataset.csv\")"
      ],
      "execution_count": null,
      "outputs": []
    },
    {
      "cell_type": "code",
      "metadata": {
        "colab": {
          "base_uri": "https://localhost:8080/",
          "height": 309
        },
        "id": "h8vxNAocNt3i",
        "outputId": "874409a9-415e-418c-8deb-c4eeeeb7580c"
      },
      "source": [
        "data.head()"
      ],
      "execution_count": null,
      "outputs": [
        {
          "output_type": "execute_result",
          "data": {
            "text/html": [
              "<div>\n",
              "<style scoped>\n",
              "    .dataframe tbody tr th:only-of-type {\n",
              "        vertical-align: middle;\n",
              "    }\n",
              "\n",
              "    .dataframe tbody tr th {\n",
              "        vertical-align: top;\n",
              "    }\n",
              "\n",
              "    .dataframe thead th {\n",
              "        text-align: right;\n",
              "    }\n",
              "</style>\n",
              "<table border=\"1\" class=\"dataframe\">\n",
              "  <thead>\n",
              "    <tr style=\"text-align: right;\">\n",
              "      <th></th>\n",
              "      <th>ID</th>\n",
              "      <th>Name</th>\n",
              "      <th>InChI</th>\n",
              "      <th>InChIKey</th>\n",
              "      <th>SMILES</th>\n",
              "      <th>Solubility</th>\n",
              "      <th>SD</th>\n",
              "      <th>Ocurrences</th>\n",
              "      <th>Group</th>\n",
              "      <th>MolWt</th>\n",
              "      <th>MolLogP</th>\n",
              "      <th>MolMR</th>\n",
              "      <th>HeavyAtomCount</th>\n",
              "      <th>NumHAcceptors</th>\n",
              "      <th>NumHDonors</th>\n",
              "      <th>NumHeteroatoms</th>\n",
              "      <th>NumRotatableBonds</th>\n",
              "      <th>NumValenceElectrons</th>\n",
              "      <th>NumAromaticRings</th>\n",
              "      <th>NumSaturatedRings</th>\n",
              "      <th>NumAliphaticRings</th>\n",
              "      <th>RingCount</th>\n",
              "      <th>TPSA</th>\n",
              "      <th>LabuteASA</th>\n",
              "      <th>BalabanJ</th>\n",
              "      <th>BertzCT</th>\n",
              "    </tr>\n",
              "  </thead>\n",
              "  <tbody>\n",
              "    <tr>\n",
              "      <th>0</th>\n",
              "      <td>A-3</td>\n",
              "      <td>N,N,N-trimethyloctadecan-1-aminium bromide</td>\n",
              "      <td>InChI=1S/C21H46N.BrH/c1-5-6-7-8-9-10-11-12-13-...</td>\n",
              "      <td>SZEMGTQCPRNXEG-UHFFFAOYSA-M</td>\n",
              "      <td>[Br-].CCCCCCCCCCCCCCCCCC[N+](C)(C)C</td>\n",
              "      <td>-3.616127</td>\n",
              "      <td>0.0</td>\n",
              "      <td>1</td>\n",
              "      <td>G1</td>\n",
              "      <td>392.510</td>\n",
              "      <td>3.9581</td>\n",
              "      <td>102.4454</td>\n",
              "      <td>23.0</td>\n",
              "      <td>0.0</td>\n",
              "      <td>0.0</td>\n",
              "      <td>2.0</td>\n",
              "      <td>17.0</td>\n",
              "      <td>142.0</td>\n",
              "      <td>0.0</td>\n",
              "      <td>0.0</td>\n",
              "      <td>0.0</td>\n",
              "      <td>0.0</td>\n",
              "      <td>0.00</td>\n",
              "      <td>158.520601</td>\n",
              "      <td>0.000000e+00</td>\n",
              "      <td>210.377334</td>\n",
              "    </tr>\n",
              "    <tr>\n",
              "      <th>1</th>\n",
              "      <td>A-4</td>\n",
              "      <td>Benzo[cd]indol-2(1H)-one</td>\n",
              "      <td>InChI=1S/C11H7NO/c13-11-8-5-1-3-7-4-2-6-9(12-1...</td>\n",
              "      <td>GPYLCFQEKPUWLD-UHFFFAOYSA-N</td>\n",
              "      <td>O=C1Nc2cccc3cccc1c23</td>\n",
              "      <td>-3.254767</td>\n",
              "      <td>0.0</td>\n",
              "      <td>1</td>\n",
              "      <td>G1</td>\n",
              "      <td>169.183</td>\n",
              "      <td>2.4055</td>\n",
              "      <td>51.9012</td>\n",
              "      <td>13.0</td>\n",
              "      <td>1.0</td>\n",
              "      <td>1.0</td>\n",
              "      <td>2.0</td>\n",
              "      <td>0.0</td>\n",
              "      <td>62.0</td>\n",
              "      <td>2.0</td>\n",
              "      <td>0.0</td>\n",
              "      <td>1.0</td>\n",
              "      <td>3.0</td>\n",
              "      <td>29.10</td>\n",
              "      <td>75.183563</td>\n",
              "      <td>2.582996e+00</td>\n",
              "      <td>511.229248</td>\n",
              "    </tr>\n",
              "    <tr>\n",
              "      <th>2</th>\n",
              "      <td>A-5</td>\n",
              "      <td>4-chlorobenzaldehyde</td>\n",
              "      <td>InChI=1S/C7H5ClO/c8-7-3-1-6(5-9)2-4-7/h1-5H</td>\n",
              "      <td>AVPYQKSLYISFPO-UHFFFAOYSA-N</td>\n",
              "      <td>Clc1ccc(C=O)cc1</td>\n",
              "      <td>-2.177078</td>\n",
              "      <td>0.0</td>\n",
              "      <td>1</td>\n",
              "      <td>G1</td>\n",
              "      <td>140.569</td>\n",
              "      <td>2.1525</td>\n",
              "      <td>36.8395</td>\n",
              "      <td>9.0</td>\n",
              "      <td>1.0</td>\n",
              "      <td>0.0</td>\n",
              "      <td>2.0</td>\n",
              "      <td>1.0</td>\n",
              "      <td>46.0</td>\n",
              "      <td>1.0</td>\n",
              "      <td>0.0</td>\n",
              "      <td>0.0</td>\n",
              "      <td>1.0</td>\n",
              "      <td>17.07</td>\n",
              "      <td>58.261134</td>\n",
              "      <td>3.009782e+00</td>\n",
              "      <td>202.661065</td>\n",
              "    </tr>\n",
              "    <tr>\n",
              "      <th>3</th>\n",
              "      <td>A-8</td>\n",
              "      <td>zinc bis[2-hydroxy-3,5-bis(1-phenylethyl)benzo...</td>\n",
              "      <td>InChI=1S/2C23H22O3.Zn/c2*1-15(17-9-5-3-6-10-17...</td>\n",
              "      <td>XTUPUYCJWKHGSW-UHFFFAOYSA-L</td>\n",
              "      <td>[Zn++].CC(c1ccccc1)c2cc(C(C)c3ccccc3)c(O)c(c2)...</td>\n",
              "      <td>-3.924409</td>\n",
              "      <td>0.0</td>\n",
              "      <td>1</td>\n",
              "      <td>G1</td>\n",
              "      <td>756.226</td>\n",
              "      <td>8.1161</td>\n",
              "      <td>200.7106</td>\n",
              "      <td>53.0</td>\n",
              "      <td>6.0</td>\n",
              "      <td>2.0</td>\n",
              "      <td>7.0</td>\n",
              "      <td>10.0</td>\n",
              "      <td>264.0</td>\n",
              "      <td>6.0</td>\n",
              "      <td>0.0</td>\n",
              "      <td>0.0</td>\n",
              "      <td>6.0</td>\n",
              "      <td>120.72</td>\n",
              "      <td>323.755434</td>\n",
              "      <td>2.322963e-07</td>\n",
              "      <td>1964.648666</td>\n",
              "    </tr>\n",
              "    <tr>\n",
              "      <th>4</th>\n",
              "      <td>A-9</td>\n",
              "      <td>4-({4-[bis(oxiran-2-ylmethyl)amino]phenyl}meth...</td>\n",
              "      <td>InChI=1S/C25H30N2O4/c1-5-20(26(10-22-14-28-22)...</td>\n",
              "      <td>FAUAZXVRLVIARB-UHFFFAOYSA-N</td>\n",
              "      <td>C1OC1CN(CC2CO2)c3ccc(Cc4ccc(cc4)N(CC5CO5)CC6CO...</td>\n",
              "      <td>-4.662065</td>\n",
              "      <td>0.0</td>\n",
              "      <td>1</td>\n",
              "      <td>G1</td>\n",
              "      <td>422.525</td>\n",
              "      <td>2.4854</td>\n",
              "      <td>119.0760</td>\n",
              "      <td>31.0</td>\n",
              "      <td>6.0</td>\n",
              "      <td>0.0</td>\n",
              "      <td>6.0</td>\n",
              "      <td>12.0</td>\n",
              "      <td>164.0</td>\n",
              "      <td>2.0</td>\n",
              "      <td>4.0</td>\n",
              "      <td>4.0</td>\n",
              "      <td>6.0</td>\n",
              "      <td>56.60</td>\n",
              "      <td>183.183268</td>\n",
              "      <td>1.084427e+00</td>\n",
              "      <td>769.899934</td>\n",
              "    </tr>\n",
              "  </tbody>\n",
              "</table>\n",
              "</div>"
            ],
            "text/plain": [
              "    ID  ...      BertzCT\n",
              "0  A-3  ...   210.377334\n",
              "1  A-4  ...   511.229248\n",
              "2  A-5  ...   202.661065\n",
              "3  A-8  ...  1964.648666\n",
              "4  A-9  ...   769.899934\n",
              "\n",
              "[5 rows x 26 columns]"
            ]
          },
          "metadata": {},
          "execution_count": 4
        }
      ]
    },
    {
      "cell_type": "markdown",
      "metadata": {
        "id": "07l_NjWuWbWB"
      },
      "source": [
        "В качестве Y используйте колонку **Solubility**"
      ]
    },
    {
      "cell_type": "code",
      "metadata": {
        "id": "vl7Zp8FBWfLm",
        "colab": {
          "base_uri": "https://localhost:8080/"
        },
        "outputId": "84fbd92f-fa3d-454a-d8d3-b4652b067d94"
      },
      "source": [
        "y = data.Solubility\n",
        "y.shape"
      ],
      "execution_count": null,
      "outputs": [
        {
          "output_type": "execute_result",
          "data": {
            "text/plain": [
              "(9982,)"
            ]
          },
          "metadata": {},
          "execution_count": 5
        }
      ]
    },
    {
      "cell_type": "markdown",
      "metadata": {
        "id": "AFcd25SeWevu"
      },
      "source": [
        "В качестве X - все колонки после Solubility"
      ]
    },
    {
      "cell_type": "code",
      "metadata": {
        "id": "h8azcxnTWjzj",
        "colab": {
          "base_uri": "https://localhost:8080/"
        },
        "outputId": "4056e4c2-8cde-4f29-c59f-b0009013b80b"
      },
      "source": [
        "X = data.drop(['ID', 'Name', 'InChI', 'InChIKey', 'SMILES', 'Solubility', 'SD',\n",
        "       'Ocurrences', 'Group'], axis=1, inplace = False)\n",
        "X.shape"
      ],
      "execution_count": null,
      "outputs": [
        {
          "output_type": "execute_result",
          "data": {
            "text/plain": [
              "(9982, 17)"
            ]
          },
          "metadata": {},
          "execution_count": 6
        }
      ]
    },
    {
      "cell_type": "markdown",
      "metadata": {
        "id": "ZA_2FOXEWO66"
      },
      "source": [
        "Разбейте ваши данные на обучение и тест в отношении 8:2"
      ]
    },
    {
      "cell_type": "code",
      "metadata": {
        "id": "YRtogoaNWkQU"
      },
      "source": [
        "from sklearn.model_selection import train_test_split\n",
        "X_train, X_test, y_train, y_test = train_test_split(\n",
        "     X, y, test_size=0.2, random_state=42)"
      ],
      "execution_count": null,
      "outputs": []
    },
    {
      "cell_type": "markdown",
      "metadata": {
        "id": "poMbLDnTOSwe"
      },
      "source": [
        "Попробуйте на данной задаче и на основе только посчитанных авторами признаков (начинаются с MolWt), предсказать растворимость веществ при помощи:\n",
        "\n",
        "1. Линейной регрессии\n",
        "\n",
        "2. KNN-регрессии\n",
        "\n",
        "3. SVM (понадобится SVR из пакета)"
      ]
    },
    {
      "cell_type": "code",
      "metadata": {
        "id": "HzVWXXo0_MRU"
      },
      "source": [
        "from sklearn.linear_model import LinearRegression\n",
        "from sklearn.neighbors import KNeighborsRegressor\n",
        "from sklearn.svm import SVR"
      ],
      "execution_count": null,
      "outputs": []
    },
    {
      "cell_type": "markdown",
      "metadata": {
        "id": "ajzP5a7w_Fw-"
      },
      "source": [
        "Так как у второго и третьего алгоритма есть гиперпараметры, то сначала на трейне используйте GridSearchCV"
      ]
    },
    {
      "cell_type": "code",
      "metadata": {
        "id": "qQxOwtbE-Lqu"
      },
      "source": [
        "from sklearn.model_selection import GridSearchCV, train_test_split"
      ],
      "execution_count": null,
      "outputs": []
    },
    {
      "cell_type": "code",
      "metadata": {
        "id": "2-BvrLIyFA12"
      },
      "source": [
        "# пример из мануала для SVC- адаптируйте к вашей задаче\n",
        "iris = datasets.load_iris()\n",
        "parameters = {'kernel':('linear', 'rbf'), 'C':[0.01, 0.1, 1, 10]}\n",
        "svc = svm.SVC()\n",
        "clf = GridSearchCV(svc, parameters)\n",
        "clf.fit(iris.data, iris.target)"
      ],
      "execution_count": null,
      "outputs": []
    },
    {
      "cell_type": "markdown",
      "metadata": {
        "id": "y5TpXzXGWmIF"
      },
      "source": [
        "Для SVR можете использовать дефолтные гиперпараметры.\n",
        "Для KNN подберите число соседей"
      ]
    },
    {
      "cell_type": "code",
      "metadata": {
        "id": "WjKN57c6Wve5"
      },
      "source": [
        ""
      ],
      "execution_count": null,
      "outputs": []
    },
    {
      "cell_type": "markdown",
      "metadata": {
        "id": "sefMe35EWv_o"
      },
      "source": [
        "Выберите лучший на кросс-валидации алгоритм"
      ]
    },
    {
      "cell_type": "code",
      "metadata": {
        "id": "GeYrIrwgW0RV"
      },
      "source": [
        ""
      ],
      "execution_count": null,
      "outputs": []
    },
    {
      "cell_type": "markdown",
      "metadata": {
        "id": "R9hlmQNxW0-H"
      },
      "source": [
        "Проверьте финальную модель на тесте"
      ]
    },
    {
      "cell_type": "code",
      "metadata": {
        "id": "xgoE0Lcfvqri"
      },
      "source": [
        ""
      ],
      "execution_count": null,
      "outputs": []
    },
    {
      "cell_type": "markdown",
      "metadata": {
        "id": "C_K0AL3OVTZR"
      },
      "source": [
        "## \"Парадокс\""
      ]
    },
    {
      "cell_type": "code",
      "metadata": {
        "id": "8wkBUPWwVTZR"
      },
      "source": [
        "import pandas as pd\n",
        "import numpy as np\n",
        "from sklearn.linear_model import LogisticRegression\n",
        "from sklearn.model_selection import train_test_split\n",
        "from sklearn.metrics import roc_auc_score, average_precision_score, accuracy_score"
      ],
      "execution_count": null,
      "outputs": []
    },
    {
      "cell_type": "markdown",
      "metadata": {
        "id": "U_LT-moSVTZR"
      },
      "source": [
        "Создадим таблицу 200 на 10000 со \"здоровыми\" и \"больными\" пациентами и данными об \"экспрессии\" их генов. \n"
      ]
    },
    {
      "cell_type": "code",
      "metadata": {
        "id": "2-EuqXwTVTZR"
      },
      "source": [
        "gene_count = 10000\n",
        "genes = [f\"Gene{ind}\" for ind in range(gene_count)]\n",
        "healthy = pd.DataFrame(np.random.normal(size=(100, gene_count), \n",
        "                                        loc=0, \n",
        "                                        scale=1), \n",
        "                       columns=genes)\n",
        "healthy['State'] = \"H\"\n",
        "diseased = pd.DataFrame(np.random.normal(size=(100, gene_count), \n",
        "                                         loc=0, \n",
        "                                         scale=1),\n",
        "                        columns=genes)\n",
        "diseased['State'] = \"D\"\n",
        "patients = pd.concat([healthy, diseased], axis=0)"
      ],
      "execution_count": null,
      "outputs": []
    },
    {
      "cell_type": "code",
      "metadata": {
        "id": "-I0bsLXpVTZR",
        "colab": {
          "base_uri": "https://localhost:8080/",
          "height": 439
        },
        "outputId": "c4282dbb-efc9-49b3-bf3a-2a51f4fd6a12"
      },
      "source": [
        "patients"
      ],
      "execution_count": null,
      "outputs": [
        {
          "output_type": "execute_result",
          "data": {
            "text/html": [
              "<div>\n",
              "<style scoped>\n",
              "    .dataframe tbody tr th:only-of-type {\n",
              "        vertical-align: middle;\n",
              "    }\n",
              "\n",
              "    .dataframe tbody tr th {\n",
              "        vertical-align: top;\n",
              "    }\n",
              "\n",
              "    .dataframe thead th {\n",
              "        text-align: right;\n",
              "    }\n",
              "</style>\n",
              "<table border=\"1\" class=\"dataframe\">\n",
              "  <thead>\n",
              "    <tr style=\"text-align: right;\">\n",
              "      <th></th>\n",
              "      <th>Gene0</th>\n",
              "      <th>Gene1</th>\n",
              "      <th>Gene2</th>\n",
              "      <th>Gene3</th>\n",
              "      <th>Gene4</th>\n",
              "      <th>Gene5</th>\n",
              "      <th>Gene6</th>\n",
              "      <th>Gene7</th>\n",
              "      <th>Gene8</th>\n",
              "      <th>Gene9</th>\n",
              "      <th>Gene10</th>\n",
              "      <th>Gene11</th>\n",
              "      <th>Gene12</th>\n",
              "      <th>Gene13</th>\n",
              "      <th>Gene14</th>\n",
              "      <th>Gene15</th>\n",
              "      <th>Gene16</th>\n",
              "      <th>Gene17</th>\n",
              "      <th>Gene18</th>\n",
              "      <th>Gene19</th>\n",
              "      <th>Gene20</th>\n",
              "      <th>Gene21</th>\n",
              "      <th>Gene22</th>\n",
              "      <th>Gene23</th>\n",
              "      <th>Gene24</th>\n",
              "      <th>Gene25</th>\n",
              "      <th>Gene26</th>\n",
              "      <th>Gene27</th>\n",
              "      <th>Gene28</th>\n",
              "      <th>Gene29</th>\n",
              "      <th>Gene30</th>\n",
              "      <th>Gene31</th>\n",
              "      <th>Gene32</th>\n",
              "      <th>Gene33</th>\n",
              "      <th>Gene34</th>\n",
              "      <th>Gene35</th>\n",
              "      <th>Gene36</th>\n",
              "      <th>Gene37</th>\n",
              "      <th>Gene38</th>\n",
              "      <th>Gene39</th>\n",
              "      <th>...</th>\n",
              "      <th>Gene9961</th>\n",
              "      <th>Gene9962</th>\n",
              "      <th>Gene9963</th>\n",
              "      <th>Gene9964</th>\n",
              "      <th>Gene9965</th>\n",
              "      <th>Gene9966</th>\n",
              "      <th>Gene9967</th>\n",
              "      <th>Gene9968</th>\n",
              "      <th>Gene9969</th>\n",
              "      <th>Gene9970</th>\n",
              "      <th>Gene9971</th>\n",
              "      <th>Gene9972</th>\n",
              "      <th>Gene9973</th>\n",
              "      <th>Gene9974</th>\n",
              "      <th>Gene9975</th>\n",
              "      <th>Gene9976</th>\n",
              "      <th>Gene9977</th>\n",
              "      <th>Gene9978</th>\n",
              "      <th>Gene9979</th>\n",
              "      <th>Gene9980</th>\n",
              "      <th>Gene9981</th>\n",
              "      <th>Gene9982</th>\n",
              "      <th>Gene9983</th>\n",
              "      <th>Gene9984</th>\n",
              "      <th>Gene9985</th>\n",
              "      <th>Gene9986</th>\n",
              "      <th>Gene9987</th>\n",
              "      <th>Gene9988</th>\n",
              "      <th>Gene9989</th>\n",
              "      <th>Gene9990</th>\n",
              "      <th>Gene9991</th>\n",
              "      <th>Gene9992</th>\n",
              "      <th>Gene9993</th>\n",
              "      <th>Gene9994</th>\n",
              "      <th>Gene9995</th>\n",
              "      <th>Gene9996</th>\n",
              "      <th>Gene9997</th>\n",
              "      <th>Gene9998</th>\n",
              "      <th>Gene9999</th>\n",
              "      <th>State</th>\n",
              "    </tr>\n",
              "  </thead>\n",
              "  <tbody>\n",
              "    <tr>\n",
              "      <th>0</th>\n",
              "      <td>0.925935</td>\n",
              "      <td>1.348882</td>\n",
              "      <td>2.035669</td>\n",
              "      <td>-0.481802</td>\n",
              "      <td>0.372642</td>\n",
              "      <td>-0.053925</td>\n",
              "      <td>-0.553449</td>\n",
              "      <td>-0.967005</td>\n",
              "      <td>0.146853</td>\n",
              "      <td>-0.060078</td>\n",
              "      <td>-1.611104</td>\n",
              "      <td>1.861278</td>\n",
              "      <td>0.658900</td>\n",
              "      <td>1.866762</td>\n",
              "      <td>1.474707</td>\n",
              "      <td>-1.852339</td>\n",
              "      <td>0.504873</td>\n",
              "      <td>-0.689925</td>\n",
              "      <td>-0.416532</td>\n",
              "      <td>1.181125</td>\n",
              "      <td>1.073866</td>\n",
              "      <td>-0.466686</td>\n",
              "      <td>0.135211</td>\n",
              "      <td>-0.747930</td>\n",
              "      <td>0.507493</td>\n",
              "      <td>0.339452</td>\n",
              "      <td>-0.598062</td>\n",
              "      <td>0.949097</td>\n",
              "      <td>0.589064</td>\n",
              "      <td>0.472312</td>\n",
              "      <td>-0.188801</td>\n",
              "      <td>1.178531</td>\n",
              "      <td>-0.281534</td>\n",
              "      <td>0.658672</td>\n",
              "      <td>1.711054</td>\n",
              "      <td>-0.351295</td>\n",
              "      <td>0.981155</td>\n",
              "      <td>-0.305473</td>\n",
              "      <td>0.567425</td>\n",
              "      <td>-0.037383</td>\n",
              "      <td>...</td>\n",
              "      <td>0.951612</td>\n",
              "      <td>-1.562606</td>\n",
              "      <td>-0.480564</td>\n",
              "      <td>0.140714</td>\n",
              "      <td>2.282218</td>\n",
              "      <td>-1.877665</td>\n",
              "      <td>0.186216</td>\n",
              "      <td>-0.752812</td>\n",
              "      <td>-0.383213</td>\n",
              "      <td>-1.580592</td>\n",
              "      <td>0.324258</td>\n",
              "      <td>0.213816</td>\n",
              "      <td>0.943554</td>\n",
              "      <td>-0.359136</td>\n",
              "      <td>0.112553</td>\n",
              "      <td>-1.419229</td>\n",
              "      <td>-1.390714</td>\n",
              "      <td>-0.603284</td>\n",
              "      <td>-0.438650</td>\n",
              "      <td>0.898299</td>\n",
              "      <td>-1.013337</td>\n",
              "      <td>-1.433521</td>\n",
              "      <td>0.421935</td>\n",
              "      <td>0.634119</td>\n",
              "      <td>0.869291</td>\n",
              "      <td>0.899079</td>\n",
              "      <td>-0.352819</td>\n",
              "      <td>1.482706</td>\n",
              "      <td>1.347993</td>\n",
              "      <td>0.384940</td>\n",
              "      <td>-0.497290</td>\n",
              "      <td>0.862167</td>\n",
              "      <td>-0.501739</td>\n",
              "      <td>-0.218418</td>\n",
              "      <td>-0.326961</td>\n",
              "      <td>-1.617842</td>\n",
              "      <td>0.353011</td>\n",
              "      <td>0.169626</td>\n",
              "      <td>-0.249892</td>\n",
              "      <td>H</td>\n",
              "    </tr>\n",
              "    <tr>\n",
              "      <th>1</th>\n",
              "      <td>0.035420</td>\n",
              "      <td>-0.140496</td>\n",
              "      <td>-1.572537</td>\n",
              "      <td>-0.033216</td>\n",
              "      <td>0.440870</td>\n",
              "      <td>-1.325369</td>\n",
              "      <td>-0.513308</td>\n",
              "      <td>0.565055</td>\n",
              "      <td>-0.465706</td>\n",
              "      <td>0.515569</td>\n",
              "      <td>1.234491</td>\n",
              "      <td>-2.582604</td>\n",
              "      <td>0.301934</td>\n",
              "      <td>-0.364335</td>\n",
              "      <td>0.584631</td>\n",
              "      <td>0.794063</td>\n",
              "      <td>0.497070</td>\n",
              "      <td>1.041345</td>\n",
              "      <td>2.043526</td>\n",
              "      <td>0.654754</td>\n",
              "      <td>0.256194</td>\n",
              "      <td>1.201056</td>\n",
              "      <td>1.012750</td>\n",
              "      <td>-0.213274</td>\n",
              "      <td>0.913264</td>\n",
              "      <td>-0.233955</td>\n",
              "      <td>-0.278203</td>\n",
              "      <td>0.126462</td>\n",
              "      <td>-0.786853</td>\n",
              "      <td>-1.302439</td>\n",
              "      <td>0.341610</td>\n",
              "      <td>0.792018</td>\n",
              "      <td>0.235464</td>\n",
              "      <td>0.409370</td>\n",
              "      <td>-3.531176</td>\n",
              "      <td>-0.146273</td>\n",
              "      <td>0.242147</td>\n",
              "      <td>1.378921</td>\n",
              "      <td>-0.411350</td>\n",
              "      <td>-2.092940</td>\n",
              "      <td>...</td>\n",
              "      <td>0.650756</td>\n",
              "      <td>-0.064152</td>\n",
              "      <td>-1.094815</td>\n",
              "      <td>-3.009165</td>\n",
              "      <td>0.762865</td>\n",
              "      <td>-0.723923</td>\n",
              "      <td>0.407599</td>\n",
              "      <td>-1.690471</td>\n",
              "      <td>-1.778126</td>\n",
              "      <td>-0.882834</td>\n",
              "      <td>0.486239</td>\n",
              "      <td>0.753798</td>\n",
              "      <td>-0.420475</td>\n",
              "      <td>1.291947</td>\n",
              "      <td>-0.513930</td>\n",
              "      <td>-0.953795</td>\n",
              "      <td>1.613514</td>\n",
              "      <td>-1.920056</td>\n",
              "      <td>-0.352175</td>\n",
              "      <td>-0.801742</td>\n",
              "      <td>-0.939994</td>\n",
              "      <td>1.549361</td>\n",
              "      <td>-0.026871</td>\n",
              "      <td>1.716224</td>\n",
              "      <td>1.251633</td>\n",
              "      <td>1.316942</td>\n",
              "      <td>-1.308953</td>\n",
              "      <td>1.227277</td>\n",
              "      <td>1.308198</td>\n",
              "      <td>0.954040</td>\n",
              "      <td>-0.231379</td>\n",
              "      <td>-0.327168</td>\n",
              "      <td>-0.930706</td>\n",
              "      <td>0.243767</td>\n",
              "      <td>1.354129</td>\n",
              "      <td>0.063578</td>\n",
              "      <td>0.553380</td>\n",
              "      <td>-0.261631</td>\n",
              "      <td>0.030496</td>\n",
              "      <td>H</td>\n",
              "    </tr>\n",
              "    <tr>\n",
              "      <th>2</th>\n",
              "      <td>-0.453866</td>\n",
              "      <td>-1.059780</td>\n",
              "      <td>0.866036</td>\n",
              "      <td>-0.912853</td>\n",
              "      <td>-0.489056</td>\n",
              "      <td>0.930322</td>\n",
              "      <td>-0.136927</td>\n",
              "      <td>-1.455584</td>\n",
              "      <td>-0.533088</td>\n",
              "      <td>-1.073200</td>\n",
              "      <td>-0.220498</td>\n",
              "      <td>-0.561451</td>\n",
              "      <td>-1.933264</td>\n",
              "      <td>0.008723</td>\n",
              "      <td>-0.849133</td>\n",
              "      <td>1.093845</td>\n",
              "      <td>-2.035705</td>\n",
              "      <td>-1.105540</td>\n",
              "      <td>-0.095039</td>\n",
              "      <td>-0.416932</td>\n",
              "      <td>-0.370996</td>\n",
              "      <td>0.127155</td>\n",
              "      <td>-1.582038</td>\n",
              "      <td>0.657588</td>\n",
              "      <td>-0.392914</td>\n",
              "      <td>-0.930249</td>\n",
              "      <td>1.181683</td>\n",
              "      <td>0.433585</td>\n",
              "      <td>-0.100499</td>\n",
              "      <td>-0.714011</td>\n",
              "      <td>0.706805</td>\n",
              "      <td>1.470041</td>\n",
              "      <td>1.355907</td>\n",
              "      <td>0.360089</td>\n",
              "      <td>-2.184152</td>\n",
              "      <td>0.913930</td>\n",
              "      <td>-1.487661</td>\n",
              "      <td>-0.459644</td>\n",
              "      <td>1.310503</td>\n",
              "      <td>0.589778</td>\n",
              "      <td>...</td>\n",
              "      <td>1.138484</td>\n",
              "      <td>0.485054</td>\n",
              "      <td>0.377498</td>\n",
              "      <td>0.907963</td>\n",
              "      <td>-1.518452</td>\n",
              "      <td>-0.356145</td>\n",
              "      <td>0.647248</td>\n",
              "      <td>-0.317344</td>\n",
              "      <td>-1.311270</td>\n",
              "      <td>-0.199463</td>\n",
              "      <td>1.684126</td>\n",
              "      <td>0.962251</td>\n",
              "      <td>0.506276</td>\n",
              "      <td>1.339552</td>\n",
              "      <td>0.249477</td>\n",
              "      <td>-0.802524</td>\n",
              "      <td>-0.375109</td>\n",
              "      <td>-0.036089</td>\n",
              "      <td>-0.371494</td>\n",
              "      <td>1.452477</td>\n",
              "      <td>-0.576713</td>\n",
              "      <td>-0.282003</td>\n",
              "      <td>0.346782</td>\n",
              "      <td>-0.877804</td>\n",
              "      <td>0.221842</td>\n",
              "      <td>0.192599</td>\n",
              "      <td>-1.588798</td>\n",
              "      <td>0.926194</td>\n",
              "      <td>1.021185</td>\n",
              "      <td>1.716748</td>\n",
              "      <td>-0.394020</td>\n",
              "      <td>-0.053979</td>\n",
              "      <td>0.133349</td>\n",
              "      <td>0.565096</td>\n",
              "      <td>-0.699138</td>\n",
              "      <td>0.999954</td>\n",
              "      <td>0.023737</td>\n",
              "      <td>-1.856454</td>\n",
              "      <td>-1.465021</td>\n",
              "      <td>H</td>\n",
              "    </tr>\n",
              "    <tr>\n",
              "      <th>3</th>\n",
              "      <td>0.896050</td>\n",
              "      <td>0.282893</td>\n",
              "      <td>1.564149</td>\n",
              "      <td>-0.343068</td>\n",
              "      <td>0.137741</td>\n",
              "      <td>0.164333</td>\n",
              "      <td>0.371658</td>\n",
              "      <td>0.004097</td>\n",
              "      <td>-1.073643</td>\n",
              "      <td>-0.024660</td>\n",
              "      <td>-1.507331</td>\n",
              "      <td>0.596423</td>\n",
              "      <td>0.104185</td>\n",
              "      <td>0.139318</td>\n",
              "      <td>-1.147271</td>\n",
              "      <td>-1.355551</td>\n",
              "      <td>-0.790863</td>\n",
              "      <td>-0.139517</td>\n",
              "      <td>0.552921</td>\n",
              "      <td>0.542803</td>\n",
              "      <td>-1.016234</td>\n",
              "      <td>0.246645</td>\n",
              "      <td>1.057321</td>\n",
              "      <td>0.429911</td>\n",
              "      <td>-0.640627</td>\n",
              "      <td>1.292829</td>\n",
              "      <td>1.483767</td>\n",
              "      <td>0.121714</td>\n",
              "      <td>-1.630521</td>\n",
              "      <td>-1.217768</td>\n",
              "      <td>0.044483</td>\n",
              "      <td>-0.677303</td>\n",
              "      <td>-1.514660</td>\n",
              "      <td>-0.151612</td>\n",
              "      <td>-0.749446</td>\n",
              "      <td>-1.433399</td>\n",
              "      <td>-0.544032</td>\n",
              "      <td>0.957136</td>\n",
              "      <td>-0.424226</td>\n",
              "      <td>0.764158</td>\n",
              "      <td>...</td>\n",
              "      <td>-0.074299</td>\n",
              "      <td>1.067733</td>\n",
              "      <td>-1.132774</td>\n",
              "      <td>1.511315</td>\n",
              "      <td>-1.042945</td>\n",
              "      <td>0.457995</td>\n",
              "      <td>-1.423509</td>\n",
              "      <td>-1.020821</td>\n",
              "      <td>-0.845672</td>\n",
              "      <td>1.544997</td>\n",
              "      <td>-0.573029</td>\n",
              "      <td>1.607165</td>\n",
              "      <td>-0.871827</td>\n",
              "      <td>0.994319</td>\n",
              "      <td>0.132044</td>\n",
              "      <td>-0.845848</td>\n",
              "      <td>-1.615347</td>\n",
              "      <td>1.103632</td>\n",
              "      <td>-1.447584</td>\n",
              "      <td>-1.158399</td>\n",
              "      <td>-0.077905</td>\n",
              "      <td>-0.623106</td>\n",
              "      <td>0.337395</td>\n",
              "      <td>-0.036959</td>\n",
              "      <td>-1.491630</td>\n",
              "      <td>0.266395</td>\n",
              "      <td>0.949298</td>\n",
              "      <td>0.157026</td>\n",
              "      <td>-0.124045</td>\n",
              "      <td>1.042012</td>\n",
              "      <td>0.809018</td>\n",
              "      <td>0.626930</td>\n",
              "      <td>0.123365</td>\n",
              "      <td>1.287190</td>\n",
              "      <td>-0.312695</td>\n",
              "      <td>1.761380</td>\n",
              "      <td>1.876644</td>\n",
              "      <td>0.380175</td>\n",
              "      <td>1.479545</td>\n",
              "      <td>H</td>\n",
              "    </tr>\n",
              "    <tr>\n",
              "      <th>4</th>\n",
              "      <td>1.589964</td>\n",
              "      <td>1.199870</td>\n",
              "      <td>-0.078596</td>\n",
              "      <td>1.218579</td>\n",
              "      <td>1.449019</td>\n",
              "      <td>0.702450</td>\n",
              "      <td>-0.169428</td>\n",
              "      <td>-0.097430</td>\n",
              "      <td>-0.710789</td>\n",
              "      <td>-1.228032</td>\n",
              "      <td>-1.640979</td>\n",
              "      <td>-0.571107</td>\n",
              "      <td>0.028870</td>\n",
              "      <td>-0.345304</td>\n",
              "      <td>-0.527111</td>\n",
              "      <td>0.430578</td>\n",
              "      <td>-0.078557</td>\n",
              "      <td>-0.274710</td>\n",
              "      <td>0.025970</td>\n",
              "      <td>-0.141445</td>\n",
              "      <td>-0.918889</td>\n",
              "      <td>0.308595</td>\n",
              "      <td>-0.256933</td>\n",
              "      <td>-0.370278</td>\n",
              "      <td>0.158454</td>\n",
              "      <td>-0.718349</td>\n",
              "      <td>0.018863</td>\n",
              "      <td>2.028213</td>\n",
              "      <td>-1.037082</td>\n",
              "      <td>-0.365857</td>\n",
              "      <td>-0.100251</td>\n",
              "      <td>-0.749118</td>\n",
              "      <td>0.706766</td>\n",
              "      <td>-0.037451</td>\n",
              "      <td>0.425110</td>\n",
              "      <td>0.556794</td>\n",
              "      <td>1.691743</td>\n",
              "      <td>0.118519</td>\n",
              "      <td>-0.041879</td>\n",
              "      <td>0.500818</td>\n",
              "      <td>...</td>\n",
              "      <td>0.049247</td>\n",
              "      <td>1.777208</td>\n",
              "      <td>0.220790</td>\n",
              "      <td>-0.674899</td>\n",
              "      <td>0.248841</td>\n",
              "      <td>-0.118660</td>\n",
              "      <td>-2.325046</td>\n",
              "      <td>-0.401759</td>\n",
              "      <td>1.657090</td>\n",
              "      <td>1.223100</td>\n",
              "      <td>-0.885334</td>\n",
              "      <td>-1.191820</td>\n",
              "      <td>-1.764850</td>\n",
              "      <td>1.716349</td>\n",
              "      <td>0.656039</td>\n",
              "      <td>-0.599146</td>\n",
              "      <td>-0.329432</td>\n",
              "      <td>-0.527122</td>\n",
              "      <td>1.476330</td>\n",
              "      <td>-1.021200</td>\n",
              "      <td>-1.607220</td>\n",
              "      <td>-0.158548</td>\n",
              "      <td>-1.572530</td>\n",
              "      <td>-0.554291</td>\n",
              "      <td>-0.458954</td>\n",
              "      <td>-1.438301</td>\n",
              "      <td>0.660012</td>\n",
              "      <td>0.451352</td>\n",
              "      <td>0.234091</td>\n",
              "      <td>-1.060292</td>\n",
              "      <td>0.841706</td>\n",
              "      <td>0.315674</td>\n",
              "      <td>-1.387825</td>\n",
              "      <td>-1.722234</td>\n",
              "      <td>0.660618</td>\n",
              "      <td>0.411597</td>\n",
              "      <td>-1.557302</td>\n",
              "      <td>0.644520</td>\n",
              "      <td>0.948787</td>\n",
              "      <td>H</td>\n",
              "    </tr>\n",
              "    <tr>\n",
              "      <th>...</th>\n",
              "      <td>...</td>\n",
              "      <td>...</td>\n",
              "      <td>...</td>\n",
              "      <td>...</td>\n",
              "      <td>...</td>\n",
              "      <td>...</td>\n",
              "      <td>...</td>\n",
              "      <td>...</td>\n",
              "      <td>...</td>\n",
              "      <td>...</td>\n",
              "      <td>...</td>\n",
              "      <td>...</td>\n",
              "      <td>...</td>\n",
              "      <td>...</td>\n",
              "      <td>...</td>\n",
              "      <td>...</td>\n",
              "      <td>...</td>\n",
              "      <td>...</td>\n",
              "      <td>...</td>\n",
              "      <td>...</td>\n",
              "      <td>...</td>\n",
              "      <td>...</td>\n",
              "      <td>...</td>\n",
              "      <td>...</td>\n",
              "      <td>...</td>\n",
              "      <td>...</td>\n",
              "      <td>...</td>\n",
              "      <td>...</td>\n",
              "      <td>...</td>\n",
              "      <td>...</td>\n",
              "      <td>...</td>\n",
              "      <td>...</td>\n",
              "      <td>...</td>\n",
              "      <td>...</td>\n",
              "      <td>...</td>\n",
              "      <td>...</td>\n",
              "      <td>...</td>\n",
              "      <td>...</td>\n",
              "      <td>...</td>\n",
              "      <td>...</td>\n",
              "      <td>...</td>\n",
              "      <td>...</td>\n",
              "      <td>...</td>\n",
              "      <td>...</td>\n",
              "      <td>...</td>\n",
              "      <td>...</td>\n",
              "      <td>...</td>\n",
              "      <td>...</td>\n",
              "      <td>...</td>\n",
              "      <td>...</td>\n",
              "      <td>...</td>\n",
              "      <td>...</td>\n",
              "      <td>...</td>\n",
              "      <td>...</td>\n",
              "      <td>...</td>\n",
              "      <td>...</td>\n",
              "      <td>...</td>\n",
              "      <td>...</td>\n",
              "      <td>...</td>\n",
              "      <td>...</td>\n",
              "      <td>...</td>\n",
              "      <td>...</td>\n",
              "      <td>...</td>\n",
              "      <td>...</td>\n",
              "      <td>...</td>\n",
              "      <td>...</td>\n",
              "      <td>...</td>\n",
              "      <td>...</td>\n",
              "      <td>...</td>\n",
              "      <td>...</td>\n",
              "      <td>...</td>\n",
              "      <td>...</td>\n",
              "      <td>...</td>\n",
              "      <td>...</td>\n",
              "      <td>...</td>\n",
              "      <td>...</td>\n",
              "      <td>...</td>\n",
              "      <td>...</td>\n",
              "      <td>...</td>\n",
              "      <td>...</td>\n",
              "      <td>...</td>\n",
              "    </tr>\n",
              "    <tr>\n",
              "      <th>95</th>\n",
              "      <td>0.039811</td>\n",
              "      <td>-0.188252</td>\n",
              "      <td>0.402287</td>\n",
              "      <td>0.030156</td>\n",
              "      <td>-0.284048</td>\n",
              "      <td>0.479326</td>\n",
              "      <td>-0.781809</td>\n",
              "      <td>-1.365406</td>\n",
              "      <td>0.995413</td>\n",
              "      <td>0.151298</td>\n",
              "      <td>0.259145</td>\n",
              "      <td>0.680706</td>\n",
              "      <td>0.478849</td>\n",
              "      <td>1.450300</td>\n",
              "      <td>-0.020044</td>\n",
              "      <td>1.302734</td>\n",
              "      <td>-0.328214</td>\n",
              "      <td>-1.827340</td>\n",
              "      <td>-1.569126</td>\n",
              "      <td>-0.754541</td>\n",
              "      <td>0.145408</td>\n",
              "      <td>-0.911661</td>\n",
              "      <td>-0.693001</td>\n",
              "      <td>-0.641627</td>\n",
              "      <td>0.840455</td>\n",
              "      <td>-0.559185</td>\n",
              "      <td>-0.474311</td>\n",
              "      <td>1.152038</td>\n",
              "      <td>-0.506777</td>\n",
              "      <td>0.414993</td>\n",
              "      <td>-1.121518</td>\n",
              "      <td>-0.525785</td>\n",
              "      <td>-0.734921</td>\n",
              "      <td>1.992555</td>\n",
              "      <td>-0.440228</td>\n",
              "      <td>-0.790544</td>\n",
              "      <td>-1.073925</td>\n",
              "      <td>-0.726267</td>\n",
              "      <td>0.797319</td>\n",
              "      <td>-0.983438</td>\n",
              "      <td>...</td>\n",
              "      <td>0.870840</td>\n",
              "      <td>0.264692</td>\n",
              "      <td>-1.239217</td>\n",
              "      <td>-1.904052</td>\n",
              "      <td>-0.483451</td>\n",
              "      <td>-0.012472</td>\n",
              "      <td>1.003888</td>\n",
              "      <td>0.047199</td>\n",
              "      <td>0.972661</td>\n",
              "      <td>-0.325437</td>\n",
              "      <td>1.421422</td>\n",
              "      <td>-0.470515</td>\n",
              "      <td>-0.719724</td>\n",
              "      <td>0.831348</td>\n",
              "      <td>-1.633926</td>\n",
              "      <td>1.111000</td>\n",
              "      <td>0.149240</td>\n",
              "      <td>0.689930</td>\n",
              "      <td>1.718230</td>\n",
              "      <td>-1.018217</td>\n",
              "      <td>-0.192861</td>\n",
              "      <td>-1.276727</td>\n",
              "      <td>0.015484</td>\n",
              "      <td>0.089655</td>\n",
              "      <td>0.479916</td>\n",
              "      <td>0.408970</td>\n",
              "      <td>1.229943</td>\n",
              "      <td>0.638584</td>\n",
              "      <td>-1.959356</td>\n",
              "      <td>-0.540128</td>\n",
              "      <td>0.444874</td>\n",
              "      <td>0.261647</td>\n",
              "      <td>-1.037732</td>\n",
              "      <td>1.414829</td>\n",
              "      <td>1.255725</td>\n",
              "      <td>0.679852</td>\n",
              "      <td>0.852110</td>\n",
              "      <td>-1.174487</td>\n",
              "      <td>-0.397374</td>\n",
              "      <td>D</td>\n",
              "    </tr>\n",
              "    <tr>\n",
              "      <th>96</th>\n",
              "      <td>-1.390939</td>\n",
              "      <td>-1.599610</td>\n",
              "      <td>-1.880864</td>\n",
              "      <td>-0.444880</td>\n",
              "      <td>1.093882</td>\n",
              "      <td>0.299558</td>\n",
              "      <td>-0.664509</td>\n",
              "      <td>0.478379</td>\n",
              "      <td>0.667719</td>\n",
              "      <td>0.908190</td>\n",
              "      <td>1.479133</td>\n",
              "      <td>-0.780124</td>\n",
              "      <td>-0.970616</td>\n",
              "      <td>-0.327208</td>\n",
              "      <td>0.670375</td>\n",
              "      <td>1.048863</td>\n",
              "      <td>0.902927</td>\n",
              "      <td>0.812708</td>\n",
              "      <td>-1.100657</td>\n",
              "      <td>0.411160</td>\n",
              "      <td>-0.388775</td>\n",
              "      <td>-1.229288</td>\n",
              "      <td>-0.315349</td>\n",
              "      <td>0.207445</td>\n",
              "      <td>-0.587010</td>\n",
              "      <td>0.642652</td>\n",
              "      <td>1.457679</td>\n",
              "      <td>2.169313</td>\n",
              "      <td>0.759614</td>\n",
              "      <td>0.264267</td>\n",
              "      <td>-1.870858</td>\n",
              "      <td>-0.428774</td>\n",
              "      <td>-0.184038</td>\n",
              "      <td>-0.733512</td>\n",
              "      <td>-0.353579</td>\n",
              "      <td>-0.343765</td>\n",
              "      <td>1.032182</td>\n",
              "      <td>0.785188</td>\n",
              "      <td>-0.196760</td>\n",
              "      <td>0.594658</td>\n",
              "      <td>...</td>\n",
              "      <td>-1.290656</td>\n",
              "      <td>0.256959</td>\n",
              "      <td>-0.754009</td>\n",
              "      <td>-0.140497</td>\n",
              "      <td>-0.250186</td>\n",
              "      <td>0.948268</td>\n",
              "      <td>0.368957</td>\n",
              "      <td>0.551262</td>\n",
              "      <td>0.355323</td>\n",
              "      <td>-0.371040</td>\n",
              "      <td>-0.747210</td>\n",
              "      <td>-1.175012</td>\n",
              "      <td>-1.684361</td>\n",
              "      <td>-1.415397</td>\n",
              "      <td>-0.299384</td>\n",
              "      <td>-3.128729</td>\n",
              "      <td>0.231048</td>\n",
              "      <td>1.661647</td>\n",
              "      <td>-0.053482</td>\n",
              "      <td>0.414798</td>\n",
              "      <td>0.566078</td>\n",
              "      <td>0.601040</td>\n",
              "      <td>0.722662</td>\n",
              "      <td>-0.524637</td>\n",
              "      <td>-0.077074</td>\n",
              "      <td>-0.418114</td>\n",
              "      <td>-0.810866</td>\n",
              "      <td>-0.663086</td>\n",
              "      <td>-1.423805</td>\n",
              "      <td>-1.076320</td>\n",
              "      <td>-0.238857</td>\n",
              "      <td>-0.977703</td>\n",
              "      <td>-0.349703</td>\n",
              "      <td>-1.001552</td>\n",
              "      <td>-0.218372</td>\n",
              "      <td>1.482747</td>\n",
              "      <td>0.457239</td>\n",
              "      <td>0.103972</td>\n",
              "      <td>-0.823093</td>\n",
              "      <td>D</td>\n",
              "    </tr>\n",
              "    <tr>\n",
              "      <th>97</th>\n",
              "      <td>0.139100</td>\n",
              "      <td>0.547752</td>\n",
              "      <td>2.110463</td>\n",
              "      <td>-1.511534</td>\n",
              "      <td>0.084376</td>\n",
              "      <td>-0.301852</td>\n",
              "      <td>1.477001</td>\n",
              "      <td>0.218170</td>\n",
              "      <td>0.858634</td>\n",
              "      <td>0.447781</td>\n",
              "      <td>-0.885686</td>\n",
              "      <td>0.755161</td>\n",
              "      <td>0.401144</td>\n",
              "      <td>2.237411</td>\n",
              "      <td>0.845723</td>\n",
              "      <td>0.392730</td>\n",
              "      <td>-1.478472</td>\n",
              "      <td>1.381927</td>\n",
              "      <td>1.125363</td>\n",
              "      <td>0.250996</td>\n",
              "      <td>2.140174</td>\n",
              "      <td>0.774072</td>\n",
              "      <td>-0.184591</td>\n",
              "      <td>0.556275</td>\n",
              "      <td>1.719701</td>\n",
              "      <td>-0.050474</td>\n",
              "      <td>0.276919</td>\n",
              "      <td>0.656845</td>\n",
              "      <td>0.632723</td>\n",
              "      <td>-1.243225</td>\n",
              "      <td>2.314398</td>\n",
              "      <td>0.269960</td>\n",
              "      <td>-0.253829</td>\n",
              "      <td>0.628334</td>\n",
              "      <td>1.493711</td>\n",
              "      <td>1.384253</td>\n",
              "      <td>1.328753</td>\n",
              "      <td>-1.001757</td>\n",
              "      <td>-0.053713</td>\n",
              "      <td>0.894401</td>\n",
              "      <td>...</td>\n",
              "      <td>-1.843723</td>\n",
              "      <td>0.823510</td>\n",
              "      <td>-0.560869</td>\n",
              "      <td>-1.181200</td>\n",
              "      <td>1.127107</td>\n",
              "      <td>-0.247514</td>\n",
              "      <td>-0.328666</td>\n",
              "      <td>0.292744</td>\n",
              "      <td>-1.915018</td>\n",
              "      <td>0.485592</td>\n",
              "      <td>-0.006035</td>\n",
              "      <td>-0.266720</td>\n",
              "      <td>-1.586029</td>\n",
              "      <td>-0.318669</td>\n",
              "      <td>-0.039019</td>\n",
              "      <td>-0.810361</td>\n",
              "      <td>1.117602</td>\n",
              "      <td>1.666288</td>\n",
              "      <td>0.772334</td>\n",
              "      <td>-0.110802</td>\n",
              "      <td>-0.321698</td>\n",
              "      <td>1.017901</td>\n",
              "      <td>-0.096044</td>\n",
              "      <td>-1.163127</td>\n",
              "      <td>0.211654</td>\n",
              "      <td>-0.807692</td>\n",
              "      <td>0.304678</td>\n",
              "      <td>-0.305071</td>\n",
              "      <td>-0.147963</td>\n",
              "      <td>0.222429</td>\n",
              "      <td>0.121225</td>\n",
              "      <td>0.742707</td>\n",
              "      <td>-0.065089</td>\n",
              "      <td>-1.122260</td>\n",
              "      <td>0.157225</td>\n",
              "      <td>0.596568</td>\n",
              "      <td>0.136020</td>\n",
              "      <td>0.608622</td>\n",
              "      <td>0.180871</td>\n",
              "      <td>D</td>\n",
              "    </tr>\n",
              "    <tr>\n",
              "      <th>98</th>\n",
              "      <td>-1.351995</td>\n",
              "      <td>-1.203902</td>\n",
              "      <td>0.752628</td>\n",
              "      <td>0.535410</td>\n",
              "      <td>0.349993</td>\n",
              "      <td>-1.052179</td>\n",
              "      <td>1.357961</td>\n",
              "      <td>0.770744</td>\n",
              "      <td>0.875379</td>\n",
              "      <td>-0.527047</td>\n",
              "      <td>-0.146981</td>\n",
              "      <td>0.727094</td>\n",
              "      <td>1.586496</td>\n",
              "      <td>2.456388</td>\n",
              "      <td>-1.527239</td>\n",
              "      <td>1.469378</td>\n",
              "      <td>-0.161976</td>\n",
              "      <td>0.707123</td>\n",
              "      <td>1.074078</td>\n",
              "      <td>1.514861</td>\n",
              "      <td>0.967856</td>\n",
              "      <td>1.432502</td>\n",
              "      <td>0.447567</td>\n",
              "      <td>-0.790889</td>\n",
              "      <td>1.255084</td>\n",
              "      <td>0.468666</td>\n",
              "      <td>-1.716117</td>\n",
              "      <td>1.430817</td>\n",
              "      <td>0.514572</td>\n",
              "      <td>-0.921087</td>\n",
              "      <td>-1.004951</td>\n",
              "      <td>-0.612430</td>\n",
              "      <td>-0.442104</td>\n",
              "      <td>-0.364740</td>\n",
              "      <td>-0.178426</td>\n",
              "      <td>-0.839195</td>\n",
              "      <td>-0.444591</td>\n",
              "      <td>0.807375</td>\n",
              "      <td>-0.863558</td>\n",
              "      <td>-0.412693</td>\n",
              "      <td>...</td>\n",
              "      <td>-0.338714</td>\n",
              "      <td>0.425449</td>\n",
              "      <td>0.028679</td>\n",
              "      <td>0.695145</td>\n",
              "      <td>0.873386</td>\n",
              "      <td>-0.538939</td>\n",
              "      <td>0.425389</td>\n",
              "      <td>1.376645</td>\n",
              "      <td>1.514486</td>\n",
              "      <td>-0.118703</td>\n",
              "      <td>1.059230</td>\n",
              "      <td>-0.186191</td>\n",
              "      <td>0.217969</td>\n",
              "      <td>0.005122</td>\n",
              "      <td>-1.860708</td>\n",
              "      <td>-1.388113</td>\n",
              "      <td>0.840569</td>\n",
              "      <td>-0.776542</td>\n",
              "      <td>-0.972815</td>\n",
              "      <td>-0.312945</td>\n",
              "      <td>0.557278</td>\n",
              "      <td>1.009256</td>\n",
              "      <td>1.097264</td>\n",
              "      <td>0.927385</td>\n",
              "      <td>0.394644</td>\n",
              "      <td>-1.601630</td>\n",
              "      <td>-1.494167</td>\n",
              "      <td>0.163602</td>\n",
              "      <td>0.641571</td>\n",
              "      <td>-1.322564</td>\n",
              "      <td>0.615581</td>\n",
              "      <td>-0.271622</td>\n",
              "      <td>-1.643547</td>\n",
              "      <td>-1.460294</td>\n",
              "      <td>1.958428</td>\n",
              "      <td>1.049441</td>\n",
              "      <td>0.797410</td>\n",
              "      <td>0.875897</td>\n",
              "      <td>0.647572</td>\n",
              "      <td>D</td>\n",
              "    </tr>\n",
              "    <tr>\n",
              "      <th>99</th>\n",
              "      <td>1.505565</td>\n",
              "      <td>0.818454</td>\n",
              "      <td>0.032316</td>\n",
              "      <td>0.479757</td>\n",
              "      <td>0.714318</td>\n",
              "      <td>0.037229</td>\n",
              "      <td>0.693249</td>\n",
              "      <td>-0.393904</td>\n",
              "      <td>-0.680791</td>\n",
              "      <td>0.193515</td>\n",
              "      <td>0.106540</td>\n",
              "      <td>1.419655</td>\n",
              "      <td>0.767119</td>\n",
              "      <td>-0.912812</td>\n",
              "      <td>-0.319135</td>\n",
              "      <td>0.341625</td>\n",
              "      <td>-0.132520</td>\n",
              "      <td>-1.005366</td>\n",
              "      <td>0.451244</td>\n",
              "      <td>0.710450</td>\n",
              "      <td>0.932520</td>\n",
              "      <td>-0.149157</td>\n",
              "      <td>-0.130043</td>\n",
              "      <td>1.873720</td>\n",
              "      <td>-2.005880</td>\n",
              "      <td>0.443623</td>\n",
              "      <td>0.415579</td>\n",
              "      <td>1.313113</td>\n",
              "      <td>0.015084</td>\n",
              "      <td>-0.809760</td>\n",
              "      <td>0.550824</td>\n",
              "      <td>0.771980</td>\n",
              "      <td>0.423011</td>\n",
              "      <td>0.264622</td>\n",
              "      <td>0.923921</td>\n",
              "      <td>-0.522684</td>\n",
              "      <td>0.327206</td>\n",
              "      <td>0.564446</td>\n",
              "      <td>-0.138938</td>\n",
              "      <td>-0.416414</td>\n",
              "      <td>...</td>\n",
              "      <td>-0.497535</td>\n",
              "      <td>-0.599949</td>\n",
              "      <td>1.004894</td>\n",
              "      <td>0.704791</td>\n",
              "      <td>-0.713242</td>\n",
              "      <td>-1.369278</td>\n",
              "      <td>0.488231</td>\n",
              "      <td>-0.635740</td>\n",
              "      <td>-0.314720</td>\n",
              "      <td>-0.032934</td>\n",
              "      <td>-0.540702</td>\n",
              "      <td>0.004888</td>\n",
              "      <td>-1.305385</td>\n",
              "      <td>-0.510869</td>\n",
              "      <td>-1.308977</td>\n",
              "      <td>-0.972763</td>\n",
              "      <td>0.986178</td>\n",
              "      <td>-1.561040</td>\n",
              "      <td>-0.730963</td>\n",
              "      <td>-1.418109</td>\n",
              "      <td>0.236877</td>\n",
              "      <td>2.079996</td>\n",
              "      <td>1.109123</td>\n",
              "      <td>-1.548854</td>\n",
              "      <td>0.054666</td>\n",
              "      <td>-0.058813</td>\n",
              "      <td>2.168748</td>\n",
              "      <td>0.268083</td>\n",
              "      <td>-0.529250</td>\n",
              "      <td>-0.820088</td>\n",
              "      <td>0.142564</td>\n",
              "      <td>0.747927</td>\n",
              "      <td>-1.790554</td>\n",
              "      <td>1.197929</td>\n",
              "      <td>0.631861</td>\n",
              "      <td>-0.035089</td>\n",
              "      <td>1.787003</td>\n",
              "      <td>-0.689073</td>\n",
              "      <td>0.073758</td>\n",
              "      <td>D</td>\n",
              "    </tr>\n",
              "  </tbody>\n",
              "</table>\n",
              "<p>200 rows × 10001 columns</p>\n",
              "</div>"
            ],
            "text/plain": [
              "       Gene0     Gene1     Gene2     Gene3  ...  Gene9997  Gene9998  Gene9999  State\n",
              "0   0.925935  1.348882  2.035669 -0.481802  ...  0.353011  0.169626 -0.249892      H\n",
              "1   0.035420 -0.140496 -1.572537 -0.033216  ...  0.553380 -0.261631  0.030496      H\n",
              "2  -0.453866 -1.059780  0.866036 -0.912853  ...  0.023737 -1.856454 -1.465021      H\n",
              "3   0.896050  0.282893  1.564149 -0.343068  ...  1.876644  0.380175  1.479545      H\n",
              "4   1.589964  1.199870 -0.078596  1.218579  ... -1.557302  0.644520  0.948787      H\n",
              "..       ...       ...       ...       ...  ...       ...       ...       ...    ...\n",
              "95  0.039811 -0.188252  0.402287  0.030156  ...  0.852110 -1.174487 -0.397374      D\n",
              "96 -1.390939 -1.599610 -1.880864 -0.444880  ...  0.457239  0.103972 -0.823093      D\n",
              "97  0.139100  0.547752  2.110463 -1.511534  ...  0.136020  0.608622  0.180871      D\n",
              "98 -1.351995 -1.203902  0.752628  0.535410  ...  0.797410  0.875897  0.647572      D\n",
              "99  1.505565  0.818454  0.032316  0.479757  ...  1.787003 -0.689073  0.073758      D\n",
              "\n",
              "[200 rows x 10001 columns]"
            ]
          },
          "metadata": {},
          "execution_count": 13
        }
      ]
    },
    {
      "cell_type": "code",
      "metadata": {
        "id": "YbeGHXdNVTZR"
      },
      "source": [
        "X = patients.drop(\"State\", axis=1)\n",
        "Y = patients['State']"
      ],
      "execution_count": null,
      "outputs": []
    },
    {
      "cell_type": "code",
      "metadata": {
        "id": "G02ZsBAiVTZR"
      },
      "source": [
        "top_k = 10\n",
        "\n",
        "diffs = X[Y == \"H\"].mean(axis=0) - X[Y == 'D'].mean(axis=0)\n",
        "top = np.abs(diffs).sort_values(ascending=False)[0:top_k]\n",
        "genes = top.index"
      ],
      "execution_count": null,
      "outputs": []
    },
    {
      "cell_type": "code",
      "metadata": {
        "id": "lNiXFCCJVTZR"
      },
      "source": [
        "X_selected = X[genes]"
      ],
      "execution_count": null,
      "outputs": []
    },
    {
      "cell_type": "code",
      "metadata": {
        "id": "UoATaE-dVTZR"
      },
      "source": [
        "X_train, X_test, y_train, y_test = train_test_split(X_selected, Y == \"D\", test_size=0.3)"
      ],
      "execution_count": null,
      "outputs": []
    },
    {
      "cell_type": "code",
      "metadata": {
        "id": "Lhwl2LRtVTZS",
        "colab": {
          "base_uri": "https://localhost:8080/"
        },
        "outputId": "6fff3aa9-9957-4b43-abb8-85c1f4d3717c"
      },
      "source": [
        "model = LogisticRegression()\n",
        "model.fit(X_train, y_train)\n"
      ],
      "execution_count": null,
      "outputs": [
        {
          "output_type": "execute_result",
          "data": {
            "text/plain": [
              "LogisticRegression(C=1.0, class_weight=None, dual=False, fit_intercept=True,\n",
              "                   intercept_scaling=1, l1_ratio=None, max_iter=100,\n",
              "                   multi_class='auto', n_jobs=None, penalty='l2',\n",
              "                   random_state=None, solver='lbfgs', tol=0.0001, verbose=0,\n",
              "                   warm_start=False)"
            ]
          },
          "metadata": {},
          "execution_count": 18
        }
      ]
    },
    {
      "cell_type": "code",
      "metadata": {
        "id": "azMGzb45VTZS",
        "colab": {
          "base_uri": "https://localhost:8080/"
        },
        "outputId": "6763c64c-c856-4a8b-d3b6-be81c08246f8"
      },
      "source": [
        "y_train_pred = model.predict_proba(X_train)[:, 1]\n",
        "train_rocauc = roc_auc_score(y_score=y_train_pred, y_true=y_train)\n",
        "train_prauc = average_precision_score(y_score=y_train_pred, y_true=y_train)\n",
        "train_accuracy = accuracy_score(y_pred=y_train_pred > 0.5, y_true=y_train)\n",
        "print(\"Train quality:\")\n",
        "print(f\"ROCAUC : {train_rocauc:.02f}\")\n",
        "print(f\"PRAUC : {train_prauc:.02f}\")\n",
        "print(f\"Accuracy: accuracy {train_accuracy:.02f}\")"
      ],
      "execution_count": null,
      "outputs": [
        {
          "output_type": "stream",
          "name": "stdout",
          "text": [
            "Train quality:\n",
            "ROCAUC : 0.87\n",
            "PRAUC : 0.89\n",
            "Accuracy: accuracy 0.77\n"
          ]
        }
      ]
    },
    {
      "cell_type": "code",
      "metadata": {
        "id": "xncgiX_YVTZS",
        "colab": {
          "base_uri": "https://localhost:8080/"
        },
        "outputId": "f1ce43b0-8c20-44d7-f006-b701b6a60d30"
      },
      "source": [
        "y_test_pred = model.predict_proba(X_test)[:, 1]\n",
        "train_rocauc = roc_auc_score(y_score=y_test_pred, y_true=y_test)\n",
        "train_prauc = average_precision_score(y_score=y_test_pred, y_true=y_test)\n",
        "train_accuracy = accuracy_score(y_pred=y_test_pred > 0.5, y_true=y_test)\n",
        "print(\"Test quality:\")\n",
        "print(f\"ROCAUC : {train_rocauc:.02f}\")\n",
        "print(f\"PRAUC : {train_prauc:.02f}\")\n",
        "print(f\"Accuracy: accuracy {train_accuracy:.02f}\")"
      ],
      "execution_count": null,
      "outputs": [
        {
          "output_type": "stream",
          "name": "stdout",
          "text": [
            "Test quality:\n",
            "ROCAUC : 0.85\n",
            "PRAUC : 0.85\n",
            "Accuracy: accuracy 0.77\n"
          ]
        }
      ]
    },
    {
      "cell_type": "markdown",
      "metadata": {
        "id": "Y_KQ9egKVTZS"
      },
      "source": [
        "Очевидно, что мы не могли выучить никаких разумных признаков. Однако, мы их все же выучили... Объясните полученный парадокс"
      ]
    },
    {
      "cell_type": "code",
      "metadata": {
        "id": "UhL2t9krVTZS"
      },
      "source": [
        ""
      ],
      "execution_count": null,
      "outputs": []
    },
    {
      "cell_type": "markdown",
      "metadata": {
        "id": "algOX766VTZS"
      },
      "source": [
        "Тем не менее, может мы просто что-то делаем не так. Попробуем встроенные в sklearn методы для выбора признаков"
      ]
    },
    {
      "cell_type": "code",
      "metadata": {
        "id": "dOtMM0aEVTZS"
      },
      "source": [
        "from sklearn.feature_selection import (SelectKBest, SelectFdr, SelectFwe,\n",
        "                                       SelectPercentile, f_classif)"
      ],
      "execution_count": null,
      "outputs": []
    },
    {
      "cell_type": "code",
      "metadata": {
        "id": "pgdhii9qVTZS"
      },
      "source": [
        "X_selected = SelectKBest(f_classif, k=10).fit_transform(X, Y)"
      ],
      "execution_count": null,
      "outputs": []
    },
    {
      "cell_type": "markdown",
      "metadata": {
        "id": "vBHWChyrVTZS"
      },
      "source": [
        "Повторите все на отобранных стандартным методом sklearn признаках. Результат объясните"
      ]
    },
    {
      "cell_type": "code",
      "metadata": {
        "id": "e9pju5OCVTZT"
      },
      "source": [
        ""
      ],
      "execution_count": null,
      "outputs": []
    },
    {
      "cell_type": "markdown",
      "metadata": {
        "id": "ZleySo7gVTZT"
      },
      "source": [
        "Что делает метод выделения признаков SelectFdr? Что такое FDR? Опишите ниже"
      ]
    },
    {
      "cell_type": "code",
      "metadata": {
        "id": "9NMi3g8PVTZT"
      },
      "source": [
        ""
      ],
      "execution_count": null,
      "outputs": []
    },
    {
      "cell_type": "markdown",
      "metadata": {
        "id": "s2ghiflkVTZT"
      },
      "source": [
        "Примените метод SelectFdr. Результат объясните"
      ]
    },
    {
      "cell_type": "code",
      "metadata": {
        "id": "Dwn-ZUrCVTZT"
      },
      "source": [
        ""
      ],
      "execution_count": null,
      "outputs": []
    },
    {
      "cell_type": "markdown",
      "metadata": {
        "id": "52ZN3b9XVTZT"
      },
      "source": [
        "Почему вообще возникла проблема в начале? Объясните"
      ]
    },
    {
      "cell_type": "code",
      "metadata": {
        "id": "ROUjLWPWVTZT"
      },
      "source": [
        ""
      ],
      "execution_count": null,
      "outputs": []
    },
    {
      "cell_type": "markdown",
      "metadata": {
        "id": "JC60oVsMVTZT"
      },
      "source": [
        "Как бы эту проблему можно было бы избежать?"
      ]
    },
    {
      "cell_type": "code",
      "metadata": {
        "id": "hNxbV2dZVTZT"
      },
      "source": [
        ""
      ],
      "execution_count": null,
      "outputs": []
    },
    {
      "cell_type": "markdown",
      "metadata": {
        "id": "Gxku-2Ea7g52"
      },
      "source": [
        "## Кластеризация химических веществ. "
      ]
    },
    {
      "cell_type": "code",
      "metadata": {
        "colab": {
          "base_uri": "https://localhost:8080/"
        },
        "id": "NIQJWQaPRBei",
        "outputId": "d89c396d-cd68-40a8-cf55-7a5ca4b81124"
      },
      "source": [
        "!pip install rdkit-pypi"
      ],
      "execution_count": null,
      "outputs": [
        {
          "output_type": "stream",
          "text": [
            "Requirement already satisfied: rdkit-pypi in /usr/local/lib/python3.7/dist-packages (2021.3.4)\n",
            "Requirement already satisfied: numpy>=1.19 in /usr/local/lib/python3.7/dist-packages (from rdkit-pypi) (1.19.5)\n"
          ],
          "name": "stdout"
        }
      ]
    },
    {
      "cell_type": "code",
      "metadata": {
        "colab": {
          "base_uri": "https://localhost:8080/"
        },
        "id": "QQIjx4sXWv_K",
        "outputId": "51e7d5e8-7f49-4d5b-ec89-64b208b49315"
      },
      "source": [
        "!pip install deepchem"
      ],
      "execution_count": null,
      "outputs": [
        {
          "output_type": "stream",
          "text": [
            "Requirement already satisfied: deepchem in /usr/local/lib/python3.7/dist-packages (2.5.0)\n",
            "Requirement already satisfied: scikit-learn in /usr/local/lib/python3.7/dist-packages (from deepchem) (0.22.2.post1)\n",
            "Requirement already satisfied: joblib in /usr/local/lib/python3.7/dist-packages (from deepchem) (1.0.1)\n",
            "Requirement already satisfied: scipy in /usr/local/lib/python3.7/dist-packages (from deepchem) (1.4.1)\n",
            "Requirement already satisfied: pandas in /usr/local/lib/python3.7/dist-packages (from deepchem) (1.1.5)\n",
            "Requirement already satisfied: numpy in /usr/local/lib/python3.7/dist-packages (from deepchem) (1.19.5)\n",
            "Requirement already satisfied: pytz>=2017.2 in /usr/local/lib/python3.7/dist-packages (from pandas->deepchem) (2018.9)\n",
            "Requirement already satisfied: python-dateutil>=2.7.3 in /usr/local/lib/python3.7/dist-packages (from pandas->deepchem) (2.8.2)\n",
            "Requirement already satisfied: six>=1.5 in /usr/local/lib/python3.7/dist-packages (from python-dateutil>=2.7.3->pandas->deepchem) (1.15.0)\n"
          ],
          "name": "stdout"
        }
      ]
    },
    {
      "cell_type": "code",
      "metadata": {
        "colab": {
          "base_uri": "https://localhost:8080/"
        },
        "id": "tjVqI_8epMYk",
        "outputId": "8c2631c1-e46b-4969-bf98-ce13bfb7c205"
      },
      "source": [
        "!pip install umap-learn"
      ],
      "execution_count": null,
      "outputs": [
        {
          "output_type": "stream",
          "text": [
            "Requirement already satisfied: umap-learn in /usr/local/lib/python3.7/dist-packages (0.5.1)\n",
            "Requirement already satisfied: scipy>=1.0 in /usr/local/lib/python3.7/dist-packages (from umap-learn) (1.4.1)\n",
            "Requirement already satisfied: pynndescent>=0.5 in /usr/local/lib/python3.7/dist-packages (from umap-learn) (0.5.4)\n",
            "Requirement already satisfied: numba>=0.49 in /usr/local/lib/python3.7/dist-packages (from umap-learn) (0.51.2)\n",
            "Requirement already satisfied: scikit-learn>=0.22 in /usr/local/lib/python3.7/dist-packages (from umap-learn) (0.22.2.post1)\n",
            "Requirement already satisfied: numpy>=1.17 in /usr/local/lib/python3.7/dist-packages (from umap-learn) (1.19.5)\n",
            "Requirement already satisfied: llvmlite<0.35,>=0.34.0.dev0 in /usr/local/lib/python3.7/dist-packages (from numba>=0.49->umap-learn) (0.34.0)\n",
            "Requirement already satisfied: setuptools in /usr/local/lib/python3.7/dist-packages (from numba>=0.49->umap-learn) (57.4.0)\n",
            "Requirement already satisfied: joblib>=0.11 in /usr/local/lib/python3.7/dist-packages (from pynndescent>=0.5->umap-learn) (1.0.1)\n"
          ],
          "name": "stdout"
        }
      ]
    },
    {
      "cell_type": "markdown",
      "metadata": {
        "id": "3Sq89FWFgiFk"
      },
      "source": [
        "### Молекулярные фингерпринты "
      ]
    },
    {
      "cell_type": "markdown",
      "metadata": {
        "id": "ZA8WL9JZYJ1K"
      },
      "source": [
        "Идея в том, что надо закодировать молекулярную структуру в численную последовательность. Как правило, в массив ноликов и единичек длиной 1000-4000 бит. Каждый бит фингерпринта соответствует фрагменту молекулы. Существуют разные алгоритмы хэширования фрагментов, но это не меняет сути."
      ]
    },
    {
      "cell_type": "code",
      "metadata": {
        "id": "E-6FahV0wTm_"
      },
      "source": [
        "from rdkit import Chem\n",
        "from rdkit.Chem import AllChem\n",
        "from IPython.display import display, Image\n",
        "from rdkit.Chem import Draw\n",
        "from rdkit.Chem.Draw import IPythonConsole \n",
        "from rdkit.Chem.Draw import SimilarityMaps"
      ],
      "execution_count": null,
      "outputs": []
    },
    {
      "cell_type": "code",
      "metadata": {
        "colab": {
          "base_uri": "https://localhost:8080/"
        },
        "id": "2_-rKHD3weOx",
        "outputId": "dd30d4da-2d43-4d95-a36a-19b01b74eb7d"
      },
      "source": [
        "ibu = Chem.MolFromSmiles('CC(C)CC1=CC=C(C=C1)C(C)C(=O)O')\n",
        "AllChem.Compute2DCoords(ibu)"
      ],
      "execution_count": null,
      "outputs": [
        {
          "output_type": "execute_result",
          "data": {
            "text/plain": [
              "0"
            ]
          },
          "metadata": {
            "tags": []
          },
          "execution_count": 6
        }
      ]
    },
    {
      "cell_type": "code",
      "metadata": {
        "colab": {
          "base_uri": "https://localhost:8080/",
          "height": 167
        },
        "id": "6Nb46vIEwneu",
        "outputId": "cfec0fe1-81d0-439c-ff81-2c1c3c963f35"
      },
      "source": [
        "display(ibu)"
      ],
      "execution_count": null,
      "outputs": [
        {
          "output_type": "display_data",
          "data": {
            "image/png": "[encoded data removed]",
            "text/plain": [
              "<rdkit.Chem.rdchem.Mol at 0x7fb062b5ce90>"
            ]
          },
          "metadata": {
            "tags": []
          }
        }
      ]
    },
    {
      "cell_type": "code",
      "metadata": {
        "colab": {
          "base_uri": "https://localhost:8080/"
        },
        "id": "Sbze7hZM1jJb",
        "outputId": "7b1d043a-7e62-4c6b-a8e6-726f9a86fa14"
      },
      "source": [
        "bit_info = {}\n",
        "fp = AllChem.GetMorganFingerprintAsBitVect(ibu, radius=2, bitInfo=bit_info)\n",
        "bit_info"
      ],
      "execution_count": null,
      "outputs": [
        {
          "output_type": "execute_result",
          "data": {
            "text/plain": [
              "{1: ((1, 0), (10, 0)),\n",
              " 79: ((3, 1),),\n",
              " 80: ((3, 0),),\n",
              " 283: ((0, 1), (2, 1), (11, 1)),\n",
              " 310: ((5, 2), (9, 2)),\n",
              " 389: ((14, 1),),\n",
              " 650: ((13, 0),),\n",
              " 807: ((12, 0), (14, 0)),\n",
              " 854: ((1, 2),),\n",
              " 857: ((4, 2),),\n",
              " 900: ((10, 1),),\n",
              " 921: ((12, 2),),\n",
              " 955: ((3, 2),),\n",
              " 1057: ((0, 0), (2, 0), (11, 0)),\n",
              " 1146: ((7, 2),),\n",
              " 1257: ((10, 2),),\n",
              " 1365: ((7, 1),),\n",
              " 1380: ((4, 0), (7, 0)),\n",
              " 1750: ((5, 1), (6, 1), (8, 1), (9, 1)),\n",
              " 1754: ((4, 1),),\n",
              " 1844: ((12, 1),),\n",
              " 1847: ((1, 1),),\n",
              " 1853: ((6, 2), (8, 2)),\n",
              " 1873: ((5, 0), (6, 0), (8, 0), (9, 0)),\n",
              " 1917: ((13, 1),)}"
            ]
          },
          "metadata": {
            "tags": []
          },
          "execution_count": 27
        }
      ]
    },
    {
      "cell_type": "markdown",
      "metadata": {
        "id": "sGLogBMxDWnl"
      },
      "source": [
        "**Интерпретация того, что выше, выглядит так:** \n",
        "\n",
        "* бит 1 встретился дважды: \n",
        " * у атома 1 в радиусе 0; \n",
        " * у атома 10 в радиусе 0.\n",
        "* бит 79 встретился однажды:\n",
        " * у атома 3 в радиусе 1.\n",
        "* и т.д."
      ]
    },
    {
      "cell_type": "code",
      "metadata": {
        "colab": {
          "base_uri": "https://localhost:8080/",
          "height": 787
        },
        "id": "HdySB8Lj62Yn",
        "outputId": "8ed651f0-f762-415c-c6bf-ea4cfbc31f7b"
      },
      "source": [
        "display(Draw.DrawMorganBit(ibu, 1, bit_info, useSVG=True))\n",
        "display(Draw.DrawMorganBit(ibu, 310, bit_info, useSVG=True))\n",
        "display(Draw.DrawMorganBit(ibu, 389, bit_info, useSVG=True))\n",
        "display(Draw.DrawMorganBit(ibu, 857, bit_info, useSVG=True))\n",
        "display(Draw.DrawMorganBit(ibu, 900, bit_info, useSVG=True))"
      ],
      "execution_count": null,
      "outputs": [
        {
          "output_type": "display_data",
          "data": {
            "text/plain": [
              "<IPython.core.display.SVG object>"
            ],
            "image/svg+xml": "<svg baseProfile=\"full\" height=\"150px\" version=\"1.1\" viewBox=\"0 0 150 150\" width=\"150px\" xml:space=\"preserve\" xmlns=\"http://www.w3.org/2000/svg\" xmlns:rdkit=\"http://www.rdkit.org/xml\" xmlns:xlink=\"http://www.w3.org/1999/xlink\">\n<!-- END OF HEADER -->\n<rect height=\"150\" style=\"opacity:1.0;fill:#FFFFFF;stroke:none\" width=\"150\" x=\"0\" y=\"0\"> </rect>\n<ellipse cx=\"91.2372\" cy=\"82.4732\" rx=\"14.5626\" ry=\"14.5626\" style=\"fill:#9999E5;fill-rule:evenodd;stroke:#9999E5;stroke-width:2.0px;stroke-linecap:butt;stroke-linejoin:miter;stroke-opacity:1\"/>\n<path class=\"bond-0 atom-0 atom-1\" d=\"M 25.2599,86.5233 L 91.2372,82.4732\" style=\"fill:none;fill-rule:evenodd;stroke:#E5E5E5;stroke-width:3.9px;stroke-linecap:butt;stroke-linejoin:miter;stroke-opacity:1\"/>\n<path class=\"bond-1 atom-1 atom-2\" d=\"M 91.2372,82.4732 L 123.327,18.075\" style=\"fill:none;fill-rule:evenodd;stroke:#E5E5E5;stroke-width:3.9px;stroke-linecap:butt;stroke-linejoin:miter;stroke-opacity:1\"/>\n<path class=\"bond-2 atom-1 atom-3\" d=\"M 91.2372,82.4732 L 124.74,133.066\" style=\"fill:none;fill-rule:evenodd;stroke:#E5E5E5;stroke-width:3.9px;stroke-linecap:butt;stroke-linejoin:miter;stroke-opacity:1\"/>\n<path class=\"atom-0\" d=\"M 14.6729 84.6337 L 17.702 81.5464 L 13.6827 80.7309 L 14.2943 78.663 L 17.9932 80.527 L 17.469 76.4786 L 19.6533 76.4495 L 19.0417 80.4979 L 22.7989 78.7504 L 23.4396 80.7309 L 19.3621 81.4881 L 22.2746 84.6045 L 20.498 85.886 L 18.4883 82.0415 L 16.4496 85.886 L 14.6729 84.6337 \" fill=\"#191919\"/>\n<path class=\"atom-2\" d=\"M 119.823 15.0023 L 122.852 11.9151 L 118.833 11.0996 L 119.445 9.03169 L 123.144 10.8957 L 122.619 6.84731 L 124.804 6.81818 L 124.192 10.8666 L 127.949 9.11907 L 128.59 11.0996 L 124.513 11.8568 L 127.425 14.9732 L 125.648 16.2547 L 123.639 12.4102 L 121.6 16.2547 L 119.823 15.0023 \" fill=\"#191919\"/>\n<path class=\"atom-3\" d=\"M 127.551 140.881 L 130.58 137.794 L 126.56 136.978 L 127.172 134.91 L 130.871 136.774 L 130.347 132.726 L 132.531 132.697 L 131.919 136.745 L 135.677 134.998 L 136.317 136.978 L 132.24 137.735 L 135.152 140.852 L 133.376 142.133 L 131.366 138.289 L 129.327 142.133 L 127.551 140.881 \" fill=\"#191919\"/>\n</svg>"
          },
          "metadata": {
            "tags": []
          }
        },
        {
          "output_type": "display_data",
          "data": {
            "text/plain": [
              "<IPython.core.display.SVG object>"
            ],
            "image/svg+xml": "<svg baseProfile=\"full\" height=\"150px\" version=\"1.1\" viewBox=\"0 0 150 150\" width=\"150px\" xml:space=\"preserve\" xmlns=\"http://www.w3.org/2000/svg\" xmlns:rdkit=\"http://www.rdkit.org/xml\" xmlns:xlink=\"http://www.w3.org/1999/xlink\">\n<!-- END OF HEADER -->\n<rect height=\"150\" style=\"opacity:1.0;fill:#FFFFFF;stroke:none\" width=\"150\" x=\"0\" y=\"0\"> </rect>\n<ellipse cx=\"53.9547\" cy=\"76.7858\" rx=\"5.82924\" ry=\"5.82924\" style=\"fill:#E5E533;fill-rule:evenodd;stroke:#E5E533;stroke-width:2.0px;stroke-linecap:butt;stroke-linejoin:miter;stroke-opacity:1\"/>\n<ellipse cx=\"66.9539\" cy=\"50.699\" rx=\"5.82924\" ry=\"5.82924\" style=\"fill:#9999E5;fill-rule:evenodd;stroke:#9999E5;stroke-width:2.0px;stroke-linecap:butt;stroke-linejoin:miter;stroke-opacity:1\"/>\n<ellipse cx=\"96.0453\" cy=\"48.9132\" rx=\"5.82924\" ry=\"5.82924\" style=\"fill:#E5E533;fill-rule:evenodd;stroke:#E5E533;stroke-width:2.0px;stroke-linecap:butt;stroke-linejoin:miter;stroke-opacity:1\"/>\n<ellipse cx=\"112.138\" cy=\"73.2142\" rx=\"5.82924\" ry=\"5.82924\" style=\"fill:#E5E533;fill-rule:evenodd;stroke:#E5E533;stroke-width:2.0px;stroke-linecap:butt;stroke-linejoin:miter;stroke-opacity:1\"/>\n<ellipse cx=\"70.047\" cy=\"101.087\" rx=\"5.82924\" ry=\"5.82924\" style=\"fill:#E5E533;fill-rule:evenodd;stroke:#E5E533;stroke-width:2.0px;stroke-linecap:butt;stroke-linejoin:miter;stroke-opacity:1\"/>\n<path class=\"bond-0 atom-0 atom-1\" d=\"M 8.97557,54.5796 L 24.8633,78.5717\" style=\"fill:none;fill-rule:evenodd;stroke:#E5E5E5;stroke-width:1.6px;stroke-linecap:butt;stroke-linejoin:miter;stroke-opacity:1\"/>\n<path class=\"bond-1 atom-1 atom-2\" d=\"M 24.8633,78.5717 L 53.9547,76.7858\" style=\"fill:none;fill-rule:evenodd;stroke:#000000;stroke-width:2.0px;stroke-linecap:butt;stroke-linejoin:miter;stroke-opacity:1\"/>\n<path class=\"bond-2 atom-2 atom-3\" d=\"M 53.9547,76.7858 L 66.9539,50.699\" style=\"fill:none;fill-rule:evenodd;stroke:#000000;stroke-width:2.0px;stroke-linecap:butt;stroke-linejoin:miter;stroke-opacity:1\"/>\n<path class=\"bond-2 atom-2 atom-3\" d=\"M 61.1219,75.4726 L 70.2214,57.2118\" style=\"fill:none;fill-rule:evenodd;stroke:#000000;stroke-width:2.0px;stroke-linecap:butt;stroke-linejoin:miter;stroke-opacity:1\"/>\n<path class=\"bond-8 atom-7 atom-2\" d=\"M 70.047,101.087 L 53.9547,76.7858\" style=\"fill:none;fill-rule:evenodd;stroke:#000000;stroke-width:2.0px;stroke-linecap:butt;stroke-linejoin:miter;stroke-opacity:1\"/>\n<path class=\"bond-3 atom-3 atom-4\" d=\"M 66.9539,50.699 L 96.0453,48.9132\" style=\"fill:none;fill-rule:evenodd;stroke:#000000;stroke-width:2.0px;stroke-linecap:butt;stroke-linejoin:miter;stroke-opacity:1\"/>\n<path class=\"bond-4 atom-4 atom-5\" d=\"M 96.0453,48.9132 L 112.138,73.2142\" style=\"fill:none;fill-rule:evenodd;stroke:#000000;stroke-width:2.0px;stroke-linecap:butt;stroke-linejoin:miter;stroke-opacity:1\"/>\n<path class=\"bond-4 atom-4 atom-5\" d=\"M 93.5989,55.7768 L 104.864,72.7875\" style=\"fill:none;fill-rule:evenodd;stroke:#000000;stroke-width:2.0px;stroke-linecap:butt;stroke-linejoin:miter;stroke-opacity:1\"/>\n<path class=\"bond-5 atom-5 atom-6\" d=\"M 112.138,73.2142 L 101.593,94.3753\" style=\"fill:none;fill-rule:evenodd;stroke:#E5E5E5;stroke-width:1.6px;stroke-linecap:butt;stroke-linejoin:miter;stroke-opacity:1\"/>\n<path class=\"bond-7 atom-5 atom-8\" d=\"M 112.138,73.2142 L 138.548,71.593\" style=\"fill:none;fill-rule:evenodd;stroke:#E5E5E5;stroke-width:1.6px;stroke-linecap:butt;stroke-linejoin:miter;stroke-opacity:1\"/>\n<path class=\"bond-6 atom-6 atom-7\" d=\"M 96.457,99.4656 L 70.047,101.087\" style=\"fill:none;fill-rule:evenodd;stroke:#E5E5E5;stroke-width:1.6px;stroke-linecap:butt;stroke-linejoin:miter;stroke-opacity:1\"/>\n<path class=\"bond-6 atom-6 atom-7\" d=\"M 92.1383,93.8905 L 73.6513,95.0254\" style=\"fill:none;fill-rule:evenodd;stroke:#E5E5E5;stroke-width:1.6px;stroke-linecap:butt;stroke-linejoin:miter;stroke-opacity:1\"/>\n<path class=\"atom-0\" d=\"M 7.21457 53.3496 L 8.42705 52.1138 L 6.81818 51.7874 L 7.06301 50.9596 L 8.54364 51.7058 L 8.33378 50.0852 L 9.20817 50.0736 L 8.96334 51.6941 L 10.4673 50.9946 L 10.7238 51.7874 L 9.09159 52.0905 L 10.2574 53.338 L 9.54627 53.8509 L 8.74183 52.312 L 7.92574 53.8509 L 7.21457 53.3496 \" fill=\"#191919\"/>\n<path class=\"atom-6\" d=\"M 97.582 98.38 L 98.7945 97.1442 L 97.1856 96.8178 L 97.4305 95.99 L 98.9111 96.7361 L 98.7012 95.1156 L 99.5756 95.104 L 99.3308 96.7245 L 100.835 96.025 L 101.091 96.8178 L 99.459 97.1209 L 100.625 98.3683 L 99.9137 98.8813 L 99.1093 97.3424 L 98.2932 98.8813 L 97.582 98.38 \" fill=\"#191919\"/>\n<path class=\"atom-8\" d=\"M 139.673 70.5073 L 140.885 69.2715 L 139.276 68.9451 L 139.521 68.1173 L 141.002 68.8635 L 140.792 67.243 L 141.666 67.2313 L 141.421 68.8518 L 142.925 68.1523 L 143.182 68.9451 L 141.55 69.2482 L 142.715 70.4957 L 142.004 71.0086 L 141.2 69.4697 L 140.384 71.0086 L 139.673 70.5073 \" fill=\"#191919\"/>\n</svg>"
          },
          "metadata": {
            "tags": []
          }
        },
        {
          "output_type": "display_data",
          "data": {
            "text/plain": [
              "<IPython.core.display.SVG object>"
            ],
            "image/svg+xml": "<svg baseProfile=\"full\" height=\"150px\" version=\"1.1\" viewBox=\"0 0 150 150\" width=\"150px\" xml:space=\"preserve\" xmlns=\"http://www.w3.org/2000/svg\" xmlns:rdkit=\"http://www.rdkit.org/xml\" xmlns:xlink=\"http://www.w3.org/1999/xlink\">\n<!-- END OF HEADER -->\n<rect height=\"150\" style=\"opacity:1.0;fill:#FFFFFF;stroke:none\" width=\"150\" x=\"0\" y=\"0\"> </rect>\n<ellipse cx=\"111.355\" cy=\"73.7132\" rx=\"12.9277\" ry=\"12.9277\" style=\"fill:#9999E5;fill-rule:evenodd;stroke:#9999E5;stroke-width:2.0px;stroke-linecap:butt;stroke-linejoin:miter;stroke-opacity:1\"/>\n<path class=\"bond-0 atom-0 atom-1\" d=\"M 23.4522,124.604 L 46.8375,77.6737\" style=\"fill:none;fill-rule:evenodd;stroke:#E5E5E5;stroke-width:3.4px;stroke-linecap:butt;stroke-linejoin:miter;stroke-opacity:1\"/>\n<path class=\"bond-1 atom-1 atom-2\" d=\"M 52.2268,74.1049 L 16.992,20.8967\" style=\"fill:none;fill-rule:evenodd;stroke:#E5E5E5;stroke-width:3.4px;stroke-linecap:butt;stroke-linejoin:miter;stroke-opacity:1\"/>\n<path class=\"bond-1 atom-1 atom-2\" d=\"M 41.4482,81.2426 L 6.21337,28.0344\" style=\"fill:none;fill-rule:evenodd;stroke:#E5E5E5;stroke-width:3.4px;stroke-linecap:butt;stroke-linejoin:miter;stroke-opacity:1\"/>\n<path class=\"bond-2 atom-1 atom-3\" d=\"M 46.8375,77.6737 L 74.0866,76.001\" style=\"fill:none;fill-rule:evenodd;stroke:#000000;stroke-width:2.0px;stroke-linecap:butt;stroke-linejoin:miter;stroke-opacity:1\"/>\n<path class=\"bond-2 atom-1 atom-3\" d=\"M 74.0866,76.001 L 101.336,74.3283\" style=\"fill:none;fill-rule:evenodd;stroke:#FF0000;stroke-width:2.0px;stroke-linecap:butt;stroke-linejoin:miter;stroke-opacity:1\"/>\n<path class=\"atom-0\" d=\"M 14.5571 133.485 L 17.246 130.744 L 13.678 130.02 L 14.2209 128.185 L 17.5046 129.839 L 17.0392 126.245 L 18.9783 126.22 L 18.4354 129.814 L 21.7707 128.262 L 22.3396 130.02 L 18.7198 130.693 L 21.3053 133.459 L 19.7282 134.597 L 17.9441 131.184 L 16.1342 134.597 L 14.5571 133.485 \" fill=\"#191919\"/>\n<path class=\"atom-2\" d=\"M 7.69727 21.7378 L 10.3862 18.9971 L 6.81818 18.2732 L 7.36115 16.4375 L 10.6448 18.0922 L 10.1794 14.4983 L 12.1186 14.4724 L 11.5756 18.0663 L 14.9109 16.515 L 15.4798 18.2732 L 11.86 18.9454 L 14.4455 21.712 L 12.8684 22.8496 L 11.0843 19.4367 L 9.27445 22.8496 L 7.69727 21.7378 \" fill=\"#191919\"/>\n<path class=\"atom-3\" d=\"M 102.952 73.7649 Q 102.952 69.3695, 105.124 66.9132 Q 107.295 64.457, 111.355 64.457 Q 115.414 64.457, 117.586 66.9132 Q 119.758 69.3695, 119.758 73.7649 Q 119.758 78.2121, 117.56 80.7459 Q 115.362 83.2539, 111.355 83.2539 Q 107.321 83.2539, 105.124 80.7459 Q 102.952 78.2379, 102.952 73.7649 M 111.355 81.1855 Q 114.147 81.1855, 115.647 79.3239 Q 117.172 77.4364, 117.172 73.7649 Q 117.172 70.171, 115.647 68.3612 Q 114.147 66.5254, 111.355 66.5254 Q 108.562 66.5254, 107.037 68.3353 Q 105.537 70.1452, 105.537 73.7649 Q 105.537 77.4623, 107.037 79.3239 Q 108.562 81.1855, 111.355 81.1855 \" fill=\"#FF0000\"/>\n<path class=\"atom-3\" d=\"M 121.955 64.6638 L 124.438 64.6638 L 124.438 72.4463 L 133.797 72.4463 L 133.797 64.6638 L 136.279 64.6638 L 136.279 82.9695 L 133.797 82.9695 L 133.797 74.5148 L 124.438 74.5148 L 124.438 82.9695 L 121.955 82.9695 L 121.955 64.6638 \" fill=\"#FF0000\"/>\n</svg>"
          },
          "metadata": {
            "tags": []
          }
        },
        {
          "output_type": "display_data",
          "data": {
            "text/plain": [
              "<IPython.core.display.SVG object>"
            ],
            "image/svg+xml": "<svg baseProfile=\"full\" height=\"150px\" version=\"1.1\" viewBox=\"0 0 150 150\" width=\"150px\" xml:space=\"preserve\" xmlns=\"http://www.w3.org/2000/svg\" xmlns:rdkit=\"http://www.rdkit.org/xml\" xmlns:xlink=\"http://www.w3.org/1999/xlink\">\n<!-- END OF HEADER -->\n<rect height=\"150\" style=\"opacity:1.0;fill:#FFFFFF;stroke:none\" width=\"150\" x=\"0\" y=\"0\"> </rect>\n<ellipse cx=\"83.0461\" cy=\"86.3344\" rx=\"5.82924\" ry=\"5.82924\" style=\"fill:#9999E5;fill-rule:evenodd;stroke:#9999E5;stroke-width:2.0px;stroke-linecap:butt;stroke-linejoin:miter;stroke-opacity:1\"/>\n<ellipse cx=\"96.0453\" cy=\"60.2476\" rx=\"5.82924\" ry=\"5.82924\" style=\"fill:#E5E533;fill-rule:evenodd;stroke:#E5E533;stroke-width:2.0px;stroke-linecap:butt;stroke-linejoin:miter;stroke-opacity:1\"/>\n<ellipse cx=\"125.137\" cy=\"58.4617\" rx=\"5.82924\" ry=\"5.82924\" style=\"fill:#E5E533;fill-rule:evenodd;stroke:#E5E533;stroke-width:2.0px;stroke-linecap:butt;stroke-linejoin:miter;stroke-opacity:1\"/>\n<ellipse cx=\"128.23\" cy=\"108.85\" rx=\"5.82924\" ry=\"5.82924\" style=\"fill:#E5E533;fill-rule:evenodd;stroke:#E5E533;stroke-width:2.0px;stroke-linecap:butt;stroke-linejoin:miter;stroke-opacity:1\"/>\n<ellipse cx=\"99.1384\" cy=\"110.635\" rx=\"5.82924\" ry=\"5.82924\" style=\"fill:#E5E533;fill-rule:evenodd;stroke:#E5E533;stroke-width:2.0px;stroke-linecap:butt;stroke-linejoin:miter;stroke-opacity:1\"/>\n<path class=\"bond-0 atom-0 atom-1\" d=\"M 11.4524,65.4404 L 37.8624,63.8192\" style=\"fill:none;fill-rule:evenodd;stroke:#E5E5E5;stroke-width:1.6px;stroke-linecap:butt;stroke-linejoin:miter;stroke-opacity:1\"/>\n<path class=\"bond-1 atom-1 atom-2\" d=\"M 37.8624,63.8192 L 50.7076,38.0413\" style=\"fill:none;fill-rule:evenodd;stroke:#E5E5E5;stroke-width:1.6px;stroke-linecap:butt;stroke-linejoin:miter;stroke-opacity:1\"/>\n<path class=\"bond-2 atom-1 atom-3\" d=\"M 37.8624,63.8192 L 53.9547,88.1202\" style=\"fill:none;fill-rule:evenodd;stroke:#000000;stroke-width:2.0px;stroke-linecap:butt;stroke-linejoin:miter;stroke-opacity:1\"/>\n<path class=\"bond-3 atom-3 atom-4\" d=\"M 53.9547,88.1202 L 83.0461,86.3344\" style=\"fill:none;fill-rule:evenodd;stroke:#000000;stroke-width:2.0px;stroke-linecap:butt;stroke-linejoin:miter;stroke-opacity:1\"/>\n<path class=\"bond-4 atom-4 atom-5\" d=\"M 83.0461,86.3344 L 96.0453,60.2476\" style=\"fill:none;fill-rule:evenodd;stroke:#000000;stroke-width:2.0px;stroke-linecap:butt;stroke-linejoin:miter;stroke-opacity:1\"/>\n<path class=\"bond-4 atom-4 atom-5\" d=\"M 90.2134,85.0212 L 99.3128,66.7604\" style=\"fill:none;fill-rule:evenodd;stroke:#000000;stroke-width:2.0px;stroke-linecap:butt;stroke-linejoin:miter;stroke-opacity:1\"/>\n<path class=\"bond-9 atom-9 atom-4\" d=\"M 99.1384,110.635 L 83.0461,86.3344\" style=\"fill:none;fill-rule:evenodd;stroke:#000000;stroke-width:2.0px;stroke-linecap:butt;stroke-linejoin:miter;stroke-opacity:1\"/>\n<path class=\"bond-5 atom-5 atom-6\" d=\"M 96.0453,60.2476 L 125.137,58.4617\" style=\"fill:none;fill-rule:evenodd;stroke:#000000;stroke-width:2.0px;stroke-linecap:butt;stroke-linejoin:miter;stroke-opacity:1\"/>\n<path class=\"bond-6 atom-6 atom-7\" d=\"M 125.137,58.4617 L 138.548,78.7135\" style=\"fill:none;fill-rule:evenodd;stroke:#E5E5E5;stroke-width:1.6px;stroke-linecap:butt;stroke-linejoin:miter;stroke-opacity:1\"/>\n<path class=\"bond-6 atom-6 atom-7\" d=\"M 122.288,64.718 L 131.676,78.8942\" style=\"fill:none;fill-rule:evenodd;stroke:#E5E5E5;stroke-width:1.6px;stroke-linecap:butt;stroke-linejoin:miter;stroke-opacity:1\"/>\n<path class=\"bond-7 atom-7 atom-8\" d=\"M 141.075,83.0717 L 128.23,108.85\" style=\"fill:none;fill-rule:evenodd;stroke:#E5E5E5;stroke-width:1.6px;stroke-linecap:butt;stroke-linejoin:miter;stroke-opacity:1\"/>\n<path class=\"bond-8 atom-8 atom-9\" d=\"M 128.23,108.85 L 99.1384,110.635\" style=\"fill:none;fill-rule:evenodd;stroke:#000000;stroke-width:2.0px;stroke-linecap:butt;stroke-linejoin:miter;stroke-opacity:1\"/>\n<path class=\"bond-8 atom-8 atom-9\" d=\"M 123.509,103.299 L 103.145,104.549\" style=\"fill:none;fill-rule:evenodd;stroke:#000000;stroke-width:2.0px;stroke-linecap:butt;stroke-linejoin:miter;stroke-opacity:1\"/>\n<path class=\"atom-0\" d=\"M 7.21457 64.684 L 8.42705 63.4482 L 6.81818 63.1218 L 7.06301 62.294 L 8.54364 63.0402 L 8.33378 61.4197 L 9.20817 61.408 L 8.96334 63.0285 L 10.4673 62.329 L 10.7238 63.1218 L 9.09159 63.4249 L 10.2574 64.6724 L 9.54627 65.1853 L 8.74183 63.6464 L 7.92574 65.1853 L 7.21457 64.684 \" fill=\"#191919\"/>\n<path class=\"atom-2\" d=\"M 49.3052 36.8114 L 50.5176 35.5756 L 48.9088 35.2491 L 49.1536 34.4214 L 50.6342 35.1675 L 50.4244 33.547 L 51.2988 33.5353 L 51.0539 35.1559 L 52.5579 34.4564 L 52.8144 35.2491 L 51.1822 35.5523 L 52.348 36.7997 L 51.6369 37.3127 L 50.8324 35.7738 L 50.0163 37.3127 L 49.3052 36.8114 \" fill=\"#191919\"/>\n<path class=\"atom-7\" d=\"M 139.673 81.8417 L 140.885 80.6059 L 139.276 80.2795 L 139.521 79.4517 L 141.002 80.1979 L 140.792 78.5774 L 141.666 78.5657 L 141.421 80.1862 L 142.925 79.4867 L 143.182 80.2795 L 141.55 80.5826 L 142.715 81.8301 L 142.004 82.3431 L 141.2 80.8041 L 140.384 82.3431 L 139.673 81.8417 \" fill=\"#191919\"/>\n</svg>"
          },
          "metadata": {
            "tags": []
          }
        },
        {
          "output_type": "display_data",
          "data": {
            "text/plain": [
              "<IPython.core.display.SVG object>"
            ],
            "image/svg+xml": "<svg baseProfile=\"full\" height=\"150px\" version=\"1.1\" viewBox=\"0 0 150 150\" width=\"150px\" xml:space=\"preserve\" xmlns=\"http://www.w3.org/2000/svg\" xmlns:rdkit=\"http://www.rdkit.org/xml\" xmlns:xlink=\"http://www.w3.org/1999/xlink\">\n<!-- END OF HEADER -->\n<rect height=\"150\" style=\"opacity:1.0;fill:#FFFFFF;stroke:none\" width=\"150\" x=\"0\" y=\"0\"> </rect>\n<ellipse cx=\"33.8054\" cy=\"97.6455\" rx=\"8.71789\" ry=\"8.71789\" style=\"fill:#E5E533;fill-rule:evenodd;stroke:#E5E533;stroke-width:2.0px;stroke-linecap:butt;stroke-linejoin:miter;stroke-opacity:1\"/>\n<ellipse cx=\"77.313\" cy=\"94.9747\" rx=\"8.71789\" ry=\"8.71789\" style=\"fill:#9999E5;fill-rule:evenodd;stroke:#9999E5;stroke-width:2.0px;stroke-linecap:butt;stroke-linejoin:miter;stroke-opacity:1\"/>\n<path class=\"bond-0 atom-0 atom-1\" d=\"M 6.41032,64.1709 L 30.1711,100.052\" style=\"fill:none;fill-rule:evenodd;stroke:#E5E5E5;stroke-width:2.3px;stroke-linecap:butt;stroke-linejoin:miter;stroke-opacity:1\"/>\n<path class=\"bond-0 atom-0 atom-1\" d=\"M 13.679,59.3576 L 37.4397,95.2388\" style=\"fill:none;fill-rule:evenodd;stroke:#E5E5E5;stroke-width:2.3px;stroke-linecap:butt;stroke-linejoin:miter;stroke-opacity:1;stroke-dasharray:6,6\"/>\n<path class=\"bond-1 atom-1 atom-2\" d=\"M 29.904,95.7014 L 14.134,127.349\" style=\"fill:none;fill-rule:evenodd;stroke:#E5E5E5;stroke-width:2.3px;stroke-linecap:butt;stroke-linejoin:miter;stroke-opacity:1\"/>\n<path class=\"bond-1 atom-1 atom-2\" d=\"M 37.7068,99.5895 L 21.9368,131.237\" style=\"fill:none;fill-rule:evenodd;stroke:#E5E5E5;stroke-width:2.3px;stroke-linecap:butt;stroke-linejoin:miter;stroke-opacity:1;stroke-dasharray:6,6\"/>\n<path class=\"bond-2 atom-1 atom-3\" d=\"M 33.8054,97.6455 L 77.313,94.9747\" style=\"fill:none;fill-rule:evenodd;stroke:#000000;stroke-width:2.0px;stroke-linecap:butt;stroke-linejoin:miter;stroke-opacity:1\"/>\n<path class=\"bond-3 atom-3 atom-4\" d=\"M 77.313,94.9747 L 101.38,131.318\" style=\"fill:none;fill-rule:evenodd;stroke:#000000;stroke-width:2.0px;stroke-linecap:butt;stroke-linejoin:miter;stroke-opacity:1\"/>\n<path class=\"bond-4 atom-3 atom-5\" d=\"M 77.313,94.9747 L 96.7538,55.9606\" style=\"fill:none;fill-rule:evenodd;stroke:#000000;stroke-width:2.0px;stroke-linecap:butt;stroke-linejoin:miter;stroke-opacity:1\"/>\n<path class=\"bond-5 atom-5 atom-6\" d=\"M 100.388,53.554 L 76.6273,17.6728\" style=\"fill:none;fill-rule:evenodd;stroke:#E5E5E5;stroke-width:2.3px;stroke-linecap:butt;stroke-linejoin:miter;stroke-opacity:1\"/>\n<path class=\"bond-5 atom-5 atom-6\" d=\"M 93.1194,58.3673 L 69.3587,22.4861\" style=\"fill:none;fill-rule:evenodd;stroke:#E5E5E5;stroke-width:2.3px;stroke-linecap:butt;stroke-linejoin:miter;stroke-opacity:1\"/>\n<path class=\"bond-6 atom-5 atom-7\" d=\"M 96.7538,55.9606 L 136.251,53.536\" style=\"fill:none;fill-rule:evenodd;stroke:#E5E5E5;stroke-width:2.3px;stroke-linecap:butt;stroke-linejoin:miter;stroke-opacity:1\"/>\n<path class=\"atom-0\" d=\"M 7.411 59.9248 L 9.22432 58.0766 L 6.81818 57.5884 L 7.18433 56.3504 L 9.39868 57.4663 L 9.08483 55.0428 L 10.3925 55.0253 L 10.0264 57.4489 L 12.2756 56.4028 L 12.6592 57.5884 L 10.2182 58.0417 L 11.9617 59.9073 L 10.8982 60.6745 L 9.69509 58.373 L 8.47458 60.6745 L 7.411 59.9248 \" fill=\"#191919\"/>\n<path class=\"atom-2\" d=\"M 12.0369 135.282 L 13.8503 133.434 L 11.4441 132.946 L 11.8103 131.708 L 14.0246 132.824 L 13.7108 130.4 L 15.0185 130.383 L 14.6523 132.806 L 16.9015 131.76 L 17.2851 132.946 L 14.8441 133.399 L 16.5877 135.265 L 15.5241 136.032 L 14.321 133.73 L 13.1005 136.032 L 12.0369 135.282 \" fill=\"#191919\"/>\n<path class=\"atom-6\" d=\"M 70.3594 18.24 L 72.1727 16.3918 L 69.7665 15.9036 L 70.1327 14.6656 L 72.347 15.7815 L 72.0332 13.3579 L 73.3409 13.3405 L 72.9747 15.7641 L 75.2239 14.7179 L 75.6075 15.9036 L 73.1665 16.3569 L 74.9101 18.2225 L 73.8465 18.9897 L 72.6434 16.6882 L 71.4229 18.9897 L 70.3594 18.24 \" fill=\"#191919\"/>\n<path class=\"atom-7\" d=\"M 137.934 51.9124 L 139.747 50.0642 L 137.341 49.576 L 137.707 48.3381 L 139.921 49.454 L 139.607 47.0304 L 140.915 47.013 L 140.549 49.4365 L 142.798 48.3904 L 143.182 49.576 L 140.741 50.0294 L 142.484 51.895 L 141.421 52.6622 L 140.218 50.3606 L 138.997 52.6622 L 137.934 51.9124 \" fill=\"#191919\"/>\n</svg>"
          },
          "metadata": {
            "tags": []
          }
        }
      ]
    },
    {
      "cell_type": "markdown",
      "metadata": {
        "id": "Jzt6oxnFLVmX"
      },
      "source": [
        "При помощи фингерпринтов можно сравнивать молекулы, исходя из *предположения*, что у похожих молекул похожие фингерпринты. "
      ]
    },
    {
      "cell_type": "code",
      "metadata": {
        "colab": {
          "base_uri": "https://localhost:8080/"
        },
        "id": "f7TQn7Q7Njl4",
        "outputId": "fdc2389f-8f03-4425-db6c-cb31723ef079"
      },
      "source": [
        "mol2 = Chem.MolFromSmiles('CC(C)CC1=CC=C(C=C1)C(C1=CN=NN1)(C)C(=O)O')\n",
        "AllChem.Compute2DCoords(mol2)"
      ],
      "execution_count": null,
      "outputs": [
        {
          "output_type": "execute_result",
          "data": {
            "text/plain": [
              "0"
            ]
          },
          "metadata": {
            "tags": []
          },
          "execution_count": 52
        }
      ]
    },
    {
      "cell_type": "code",
      "metadata": {
        "colab": {
          "base_uri": "https://localhost:8080/",
          "height": 167
        },
        "id": "UOgsDBziP5e_",
        "outputId": "f01d739a-77c4-4430-cce4-b40bf4b2ea47"
      },
      "source": [
        "display(mol2)"
      ],
      "execution_count": null,
      "outputs": [
        {
          "output_type": "display_data",
          "data": {
            "image/png": "[encoded data removed]",
            "text/plain": [
              "<rdkit.Chem.rdchem.Mol at 0x7f88036a6710>"
            ]
          },
          "metadata": {
            "tags": []
          }
        }
      ]
    },
    {
      "cell_type": "code",
      "metadata": {
        "colab": {
          "base_uri": "https://localhost:8080/",
          "height": 481
        },
        "id": "tLpD369pP-TX",
        "outputId": "f20f5f97-a631-462f-d319-8f483b4c1939"
      },
      "source": [
        "similarity = SimilarityMaps.GetSimilarityMapForFingerprint(ibu, mol2, SimilarityMaps.GetMorganFingerprint)"
      ],
      "execution_count": null,
      "outputs": [
        {
          "output_type": "display_data",
          "data": {
            "image/png": "[encoded data removed]",
            "text/plain": [
              "<Figure size 180x180 with 1 Axes>"
            ]
          },
          "metadata": {
            "tags": []
          }
        }
      ]
    },
    {
      "cell_type": "markdown",
      "metadata": {
        "id": "qWBpWQahVE1A"
      },
      "source": [
        "Красненькое - непохожее, зелёное - похожее."
      ]
    },
    {
      "cell_type": "markdown",
      "metadata": {
        "id": "G6z8T_LM9a3f"
      },
      "source": [
        "**Загрузим датасет.**"
      ]
    },
    {
      "cell_type": "code",
      "metadata": {
        "id": "btTFgTSLhwwd"
      },
      "source": [
        "import deepchem as dc\n",
        "import numpy as np\n",
        "\n",
        "\n",
        "tasks, datasets, transformers = dc.molnet.load_clintox(featurizer='ECFP', splitter=\"random\")\n",
        "train_dataset, valid_dataset, test_dataset = datasets"
      ],
      "execution_count": null,
      "outputs": []
    },
    {
      "cell_type": "code",
      "metadata": {
        "colab": {
          "base_uri": "https://localhost:8080/"
        },
        "id": "ZDr2W0R5nfKU",
        "outputId": "929f3f6c-9120-4094-b8f7-403f40a87001"
      },
      "source": [
        "train_dataset.X"
      ],
      "execution_count": null,
      "outputs": [
        {
          "output_type": "execute_result",
          "data": {
            "text/plain": [
              "array([[0., 0., 0., ..., 0., 0., 0.],\n",
              "       [0., 1., 0., ..., 0., 0., 0.],\n",
              "       [0., 0., 0., ..., 0., 0., 0.],\n",
              "       ...,\n",
              "       [0., 1., 0., ..., 0., 0., 0.],\n",
              "       [0., 0., 0., ..., 0., 0., 0.],\n",
              "       [0., 1., 0., ..., 0., 0., 0.]])"
            ]
          },
          "metadata": {
            "tags": []
          },
          "execution_count": 57
        }
      ]
    },
    {
      "cell_type": "code",
      "metadata": {
        "colab": {
          "base_uri": "https://localhost:8080/"
        },
        "id": "LK-dD9cRrPk1",
        "outputId": "6ca4142b-ff65-49bf-f8aa-4e645c4394db"
      },
      "source": [
        "train_dataset.y.reshape(1, -1)[0]"
      ],
      "execution_count": null,
      "outputs": [
        {
          "output_type": "execute_result",
          "data": {
            "text/plain": [
              "array([1., 0., 1., ..., 0., 1., 0.])"
            ]
          },
          "metadata": {
            "tags": []
          },
          "execution_count": 58
        }
      ]
    },
    {
      "cell_type": "code",
      "metadata": {
        "id": "XFKewQ0Zim8Y"
      },
      "source": [
        "train_X = np.concatenate([train_dataset.X, valid_dataset.X])\n",
        "train_Y = np.concatenate([train_dataset.y, valid_dataset.y])"
      ],
      "execution_count": null,
      "outputs": []
    },
    {
      "cell_type": "code",
      "metadata": {
        "colab": {
          "base_uri": "https://localhost:8080/"
        },
        "id": "5T2KVjRqQqR1",
        "outputId": "958d211e-f564-46ba-c996-5ce9d829c341"
      },
      "source": [
        "train_X.shape, train_Y.shape"
      ],
      "execution_count": null,
      "outputs": [
        {
          "output_type": "execute_result",
          "data": {
            "text/plain": [
              "((1330, 1024), (1330, 2))"
            ]
          },
          "metadata": {
            "tags": []
          },
          "execution_count": 60
        }
      ]
    },
    {
      "cell_type": "code",
      "metadata": {
        "colab": {
          "base_uri": "https://localhost:8080/"
        },
        "id": "C_PDZETTQ0Za",
        "outputId": "b10a4afb-ec11-4a4b-9bdb-c7023c2d71da"
      },
      "source": [
        "train_Y"
      ],
      "execution_count": null,
      "outputs": [
        {
          "output_type": "execute_result",
          "data": {
            "text/plain": [
              "array([[1., 0.],\n",
              "       [1., 0.],\n",
              "       [1., 0.],\n",
              "       ...,\n",
              "       [1., 0.],\n",
              "       [1., 0.],\n",
              "       [1., 0.]])"
            ]
          },
          "metadata": {
            "tags": []
          },
          "execution_count": 61
        }
      ]
    },
    {
      "cell_type": "code",
      "metadata": {
        "colab": {
          "base_uri": "https://localhost:8080/"
        },
        "id": "hG07PpUeXi-x",
        "outputId": "3822b8b1-b016-4317-efe5-5825b5d1df6f"
      },
      "source": [
        "int(sum(train_Y[:, 1])), len(train_Y[:, 1])"
      ],
      "execution_count": null,
      "outputs": [
        {
          "output_type": "execute_result",
          "data": {
            "text/plain": [
              "(97, 1330)"
            ]
          },
          "metadata": {
            "tags": []
          },
          "execution_count": 62
        }
      ]
    },
    {
      "cell_type": "code",
      "metadata": {
        "id": "moyNZp1NnbNj"
      },
      "source": [
        "import seaborn as sns\n",
        "from matplotlib import pyplot as plt\n",
        "from umap import UMAP\n",
        "\n",
        "sns.set_style(\"whitegrid\")"
      ],
      "execution_count": null,
      "outputs": []
    },
    {
      "cell_type": "code",
      "metadata": {
        "id": "xHv2yM1Mo09b"
      },
      "source": [
        "umap = UMAP(random_state=3)\n",
        "X = umap.fit_transform(train_X)"
      ],
      "execution_count": null,
      "outputs": []
    },
    {
      "cell_type": "code",
      "metadata": {
        "colab": {
          "base_uri": "https://localhost:8080/",
          "height": 418
        },
        "id": "OIGBAswso4hx",
        "outputId": "97293877-422e-4f14-aa5b-1320c32edd49"
      },
      "source": [
        "plt.figure(figsize=(8, 6))\n",
        "plt.title('UMAP plot', size=24)\n",
        "plt.xlabel('coordinate 1', size=16)\n",
        "plt.ylabel('coordinate 2', size=16)\n",
        "sns.scatterplot(x=X[:, 0], y=X[:, 1], hue=train_Y[:, 1]);"
      ],
      "execution_count": null,
      "outputs": [
        {
          "output_type": "display_data",
          "data": {
            "image/png": "[encoded data removed]",
            "text/plain": [
              "<Figure size 576x432 with 1 Axes>"
            ]
          },
          "metadata": {
            "tags": []
          }
        }
      ]
    },
    {
      "cell_type": "code",
      "metadata": {
        "id": "FUWVrfP5o8eL"
      },
      "source": [
        "from sklearn.cluster import KMeans"
      ],
      "execution_count": null,
      "outputs": []
    },
    {
      "cell_type": "markdown",
      "metadata": {
        "id": "FemQRlc1KG51"
      },
      "source": [
        "**Скластеризуйте молекулы при помощи метода K-means, отрисуйте UMAP-проекцию с покраской по метке кластера.**"
      ]
    },
    {
      "cell_type": "code",
      "metadata": {
        "id": "QAAO3iLgIWKz"
      },
      "source": [
        ""
      ],
      "execution_count": null,
      "outputs": []
    },
    {
      "cell_type": "markdown",
      "metadata": {
        "id": "YgPxnTZILtdp"
      },
      "source": [
        "**Посчитайте F1-метрику по разметке, получившейся с помощью кластеризации.**"
      ]
    },
    {
      "cell_type": "code",
      "metadata": {
        "id": "YWTC03d6QUSh"
      },
      "source": [
        "from sklearn.metrics import f1_score"
      ],
      "execution_count": null,
      "outputs": []
    },
    {
      "cell_type": "markdown",
      "metadata": {
        "id": "88_BZoN19kNf"
      },
      "source": [
        "**Сделайте вывод, всегда ли кластеризация по схожести фингерпринтов коррелирует с биомедицинскими характеристиками вещества.**"
      ]
    },
    {
      "cell_type": "markdown",
      "metadata": {
        "id": "dHG2nM8QY3P3"
      },
      "source": [
        ""
      ]
    },
    {
      "cell_type": "markdown",
      "metadata": {
        "id": "4pxmqKd6ujD3"
      },
      "source": [
        "## Филогенетическая реконструкция."
      ]
    },
    {
      "cell_type": "markdown",
      "metadata": {
        "id": "ld0kvQUOejRC"
      },
      "source": [
        "<img src=\"https://kodomo.fbb.msu.ru/FBB/year_20/ml/clustering/phylorec.png\" alt=\"Drawing\" width= \"700px;\"/>"
      ]
    },
    {
      "cell_type": "markdown",
      "metadata": {
        "id": "G6u2xLl_uluf"
      },
      "source": [
        "Среди всех методов реконструкции филогении можно выделить две группы: символьно-ориентированные методы и дистанционные методы. \n",
        "Первые принимают на вход выравнивание последовательностей, вторые - матрицу попарных расстояний между последовательностями. "
      ]
    },
    {
      "cell_type": "code",
      "metadata": {
        "colab": {
          "base_uri": "https://localhost:8080/"
        },
        "id": "b9IcmVCqulWj",
        "outputId": "488d33a3-1740-4f86-a08f-96fcd8ba5df2"
      },
      "source": [
        "!wget https://kodomo.fbb.msu.ru/FBB/year_20/ml/clustering/alignfam.fasta "
      ],
      "execution_count": null,
      "outputs": [
        {
          "output_type": "stream",
          "text": [
            "--2021-08-22 13:19:08--  https://kodomo.fbb.msu.ru/FBB/year_20/ml/clustering/alignfam.fasta\n",
            "Resolving kodomo.fbb.msu.ru (kodomo.fbb.msu.ru)... 93.180.63.127\n",
            "Connecting to kodomo.fbb.msu.ru (kodomo.fbb.msu.ru)|93.180.63.127|:443... connected.\n",
            "HTTP request sent, awaiting response... 200 OK\n",
            "Length: 26479 (26K)\n",
            "Saving to: ‘alignfam.fasta’\n",
            "\n",
            "alignfam.fasta      100%[===================>]  25.86K   155KB/s    in 0.2s    \n",
            "\n",
            "2021-08-22 13:19:09 (155 KB/s) - ‘alignfam.fasta’ saved [26479/26479]\n",
            "\n"
          ],
          "name": "stdout"
        }
      ]
    },
    {
      "cell_type": "code",
      "metadata": {
        "colab": {
          "base_uri": "https://localhost:8080/"
        },
        "id": "itvcY5nMBSpL",
        "outputId": "c7815cbe-419a-460c-b297-5eeb47b272cd"
      },
      "source": [
        "!pip install biopython"
      ],
      "execution_count": null,
      "outputs": [
        {
          "output_type": "stream",
          "text": [
            "Collecting biopython\n",
            "  Downloading biopython-1.79-cp37-cp37m-manylinux_2_5_x86_64.manylinux1_x86_64.whl (2.3 MB)\n",
            "\u001b[K     |████████████████████████████████| 2.3 MB 7.9 MB/s \n",
            "\u001b[?25hRequirement already satisfied: numpy in /usr/local/lib/python3.7/dist-packages (from biopython) (1.19.5)\n",
            "Installing collected packages: biopython\n",
            "Successfully installed biopython-1.79\n"
          ],
          "name": "stdout"
        }
      ]
    },
    {
      "cell_type": "code",
      "metadata": {
        "id": "B720UBJBA78k"
      },
      "source": [
        "from Bio import Phylo, AlignIO\n",
        "from Bio.Phylo.TreeConstruction import DistanceCalculator, DistanceTreeConstructor"
      ],
      "execution_count": null,
      "outputs": []
    },
    {
      "cell_type": "code",
      "metadata": {
        "id": "d6-cYNcPBRtH"
      },
      "source": [
        "align = AlignIO.read('alignfam.fasta', 'fasta')"
      ],
      "execution_count": null,
      "outputs": []
    },
    {
      "cell_type": "code",
      "metadata": {
        "colab": {
          "base_uri": "https://localhost:8080/"
        },
        "id": "5fl6PnPeBjJf",
        "outputId": "94350f47-00b9-48e2-b0f8-71f33e93ca1c"
      },
      "source": [
        "print(align)"
      ],
      "execution_count": null,
      "outputs": [
        {
          "output_type": "stream",
          "text": [
            "Alignment with 27 rows and 775 columns\n",
            "--------------------------MST-------WWLVVVAA...FL- gi|544584820|sp|P29523.4|PPB_BOMMO\n",
            "-------------------------MHCLV------ILGFLLGS...GL- gi|29427685|sp|Q24238.3|APH4_DROME\n",
            "--------------------------MWGA---C--LLLLGLSL...EP- gi|341941722|sp|P24823.2|PPBN_MOUSE\n",
            "--------------------------MQGD---WVLLLLLGLRI...VVS gi|130746|sp|P15693.1|PPBI1_RAT\n",
            "--------------------------MQGP---WV-LLLLGLRL...AES gi|130745|sp|P24822.1|PPBI_MOUSE\n",
            "--------------------------MQGA---WV-LLLLGFRL...R-- gi|1709730|sp|P51740.1|PPBI2_RAT\n",
            "--------------------------MQGA---CV-LLLLGLHL...LY- gi|2507183|sp|P19111.2|PPBI_BOVIN\n",
            "--------------------------MQGP---WV-LLLLGLRL...AP- gi|130744|sp|P09923.2|PPBI_HUMAN\n",
            "--------------------------MLGP-CMLLLLLLLGLRL...AP- gi|130737|sp|P05187.2|PPB1_HUMAN\n",
            "--------------------------MQGP---WV-LLLLGLRL...AP- gi|145559564|sp|P10696.4|PPBN_HUMAN\n",
            "---------------------------MKA------FLLTLLAQ...--- gi|6093774|sp|Q92058.1|PPBT_CHICK\n",
            "--------------------------------------------...--- gi|41017428|sp|P83456.1|PPB_GADMO\n",
            "--------------------------MISP------FLLLAIGT...--- gi|146345490|sp|P09487.2|PPBT_BOVIN\n",
            "--------------------------MISP------FLVLAIGT...--- gi|2499544|sp|Q29486.1|PPBT_FELCA\n",
            "--------------------------MISP------FLVLAIGT...--- gi|68067533|sp|P05186.4|PPBT_HUMAN\n",
            "--------------------------MILP------FLVLAIGT...--- gi|130751|sp|P08289.2|PPBT_RAT\n",
            "--------------------------MISP------FLVLAIGT...--- gi|341941723|sp|P09242.2|PPBT_MOUSE\n",
            "----MASERDPLLPVHGEGPESPSRRNWKTWIKHGILLILVLST...LF- gi|21542183|sp|O60109.1|PPB_SCHPO\n",
            "...\n",
            "--------------------------MKQS------AIALALLS...--- gi|130753|sp|P21948.1|PPB_ESCF3\n"
          ],
          "name": "stdout"
        }
      ]
    },
    {
      "cell_type": "code",
      "metadata": {
        "colab": {
          "base_uri": "https://localhost:8080/"
        },
        "id": "ra0uUPWUBl6l",
        "outputId": "a7309b95-545c-40cd-d024-d0c5dd27261c"
      },
      "source": [
        "calculator = DistanceCalculator('identity')\n",
        "distMatrix = calculator.get_distance(align)\n",
        "print(distMatrix)"
      ],
      "execution_count": null,
      "outputs": [
        {
          "output_type": "stream",
          "text": [
            "gi|544584820|sp|P29523.4|PPB_BOMMO\t0\n",
            "gi|29427685|sp|Q24238.3|APH4_DROME\t0.5290322580645161\t0\n",
            "gi|341941722|sp|P24823.2|PPBN_MOUSE\t0.47096774193548385\t0.4890322580645161\t0\n",
            "gi|130746|sp|P15693.1|PPBI1_RAT\t0.47612903225806447\t0.49290322580645163\t0.18838709677419352\t0\n",
            "gi|130745|sp|P24822.1|PPBI_MOUSE\t0.5058064516129033\t0.5187096774193549\t0.2154838709677419\t0.17548387096774198\t0\n",
            "gi|1709730|sp|P51740.1|PPBI2_RAT\t0.5045161290322581\t0.5161290322580645\t0.22709677419354835\t0.1858064516129032\t0.11483870967741938\t0\n",
            "gi|2507183|sp|P19111.2|PPBI_BOVIN\t0.4567741935483871\t0.49677419354838714\t0.2141935483870968\t0.2116129032258065\t0.23354838709677417\t0.2425806451612903\t0\n",
            "gi|130744|sp|P09923.2|PPBI_HUMAN\t0.447741935483871\t0.49935483870967745\t0.16258064516129034\t0.16645161290322585\t0.19483870967741934\t0.20516129032258068\t0.16387096774193544\t0\n",
            "gi|130737|sp|P05187.2|PPB1_HUMAN\t0.4541935483870968\t0.49935483870967745\t0.1780645161290323\t0.19612903225806455\t0.22193548387096773\t0.23612903225806448\t0.19354838709677424\t0.09677419354838712\t0\n",
            "gi|145559564|sp|P10696.4|PPBN_HUMAN\t0.4516129032258065\t0.4941935483870967\t0.17548387096774198\t0.19483870967741934\t0.2141935483870968\t0.22709677419354835\t0.1845161290322581\t0.0903225806451613\t0.024516129032258083\t0\n",
            "gi|6093774|sp|Q92058.1|PPBT_CHICK\t0.4245161290322581\t0.487741935483871\t0.31483870967741934\t0.3354838709677419\t0.3625806451612903\t0.3638709677419355\t0.3251612903225807\t0.3045161290322581\t0.32387096774193547\t0.31741935483870964\t0\n",
            "gi|41017428|sp|P83456.1|PPB_GADMO\t0.44645161290322577\t0.49677419354838714\t0.3290322580645161\t0.3341935483870968\t0.3690322580645161\t0.3716129032258064\t0.34064516129032263\t0.3251612903225807\t0.35225806451612907\t0.34580645161290324\t0.21935483870967742\t0\n",
            "gi|146345490|sp|P09487.2|PPBT_BOVIN\t0.432258064516129\t0.4903225806451613\t0.31612903225806455\t0.327741935483871\t0.34709677419354834\t0.34709677419354834\t0.32258064516129037\t0.3083870967741935\t0.32258064516129037\t0.31483870967741934\t0.16903225806451616\t0.20516129032258068\t0\n",
            "gi|2499544|sp|Q29486.1|PPBT_FELCA\t0.43999999999999995\t0.49677419354838714\t0.31870967741935485\t0.327741935483871\t0.34322580645161294\t0.3419354838709677\t0.32387096774193547\t0.3045161290322581\t0.31999999999999995\t0.3096774193548387\t0.17548387096774198\t0.2116129032258065\t0.04516129032258065\t0\n",
            "gi|68067533|sp|P05186.4|PPBT_HUMAN\t0.43612903225806454\t0.5032258064516129\t0.3251612903225807\t0.3329032258064516\t0.3574193548387097\t0.3587096774193549\t0.3341935483870968\t0.31225806451612903\t0.327741935483871\t0.31870967741935485\t0.17161290322580647\t0.20903225806451609\t0.06709677419354843\t0.06322580645161291\t0\n",
            "gi|130751|sp|P08289.2|PPBT_RAT\t0.43354838709677423\t0.4903225806451613\t0.31612903225806455\t0.32129032258064516\t0.34838709677419355\t0.3419354838709677\t0.327741935483871\t0.3058064516129032\t0.32258064516129037\t0.31354838709677424\t0.16774193548387095\t0.2129032258064516\t0.0619354838709677\t0.06322580645161291\t0.0619354838709677\t0\n",
            "gi|341941723|sp|P09242.2|PPBT_MOUSE\t0.43354838709677423\t0.4916129032258064\t0.31999999999999995\t0.32258064516129037\t0.35096774193548386\t0.34580645161290324\t0.3264516129032258\t0.3083870967741935\t0.3251612903225807\t0.31612903225806455\t0.17290322580645157\t0.2141935483870968\t0.06322580645161291\t0.06322580645161291\t0.06838709677419352\t0.015483870967741953\t0\n",
            "gi|21542183|sp|O60109.1|PPB_SCHPO\t0.6606451612903226\t0.7006451612903226\t0.6335483870967742\t0.64\t0.6658064516129032\t0.6632258064516129\t0.6309677419354839\t0.6258064516129032\t0.6283870967741936\t0.6283870967741936\t0.6180645161290322\t0.6258064516129032\t0.6090322580645161\t0.6129032258064516\t0.6129032258064516\t0.6116129032258064\t0.6077419354838709\t0\n",
            "gi|2851586|sp|P11491.2|PPB_YEAST\t0.6967741935483871\t0.7380645161290322\t0.6529032258064515\t0.6658064516129032\t0.6890322580645161\t0.6748387096774193\t0.6541935483870968\t0.6464516129032258\t0.6541935483870968\t0.6503225806451614\t0.6567741935483871\t0.6490322580645161\t0.6490322580645161\t0.6503225806451614\t0.6438709677419354\t0.64\t0.6374193548387097\t0.5032258064516129\t0\n",
            "gi|239938928|sp|P19406.4|PPB4_BACSU\t0.6129032258064516\t0.6658064516129032\t0.5858064516129032\t0.5961290322580646\t0.6180645161290322\t0.6141935483870968\t0.5870967741935484\t0.5832258064516129\t0.5935483870967742\t0.5896774193548386\t0.5729032258064516\t0.5316129032258065\t0.5664516129032258\t0.5625806451612902\t0.567741935483871\t0.5690322580645162\t0.5651612903225807\t0.5651612903225807\t0.5819354838709677\t0\n",
            "gi|251757504|sp|P19405.4|PPB3_BACSU\t0.6077419354838709\t0.6296774193548387\t0.5793548387096774\t0.5870967741935484\t0.6141935483870968\t0.6103225806451613\t0.5832258064516129\t0.5793548387096774\t0.5767741935483871\t0.5741935483870968\t0.5587096774193548\t0.527741935483871\t0.5535483870967741\t0.5587096774193548\t0.5651612903225807\t0.56\t0.5574193548387096\t0.5419354838709678\t0.5780645161290323\t0.28774193548387095\t0\n",
            "gi|134996|sp|P09401.2|STRK_STRGR\t0.6387096774193548\t0.672258064516129\t0.584516129032258\t0.6\t0.6193548387096774\t0.6141935483870968\t0.5793548387096774\t0.5767741935483871\t0.584516129032258\t0.5806451612903225\t0.5612903225806452\t0.544516129032258\t0.5780645161290323\t0.5780645161290323\t0.5806451612903225\t0.5741935483870968\t0.5729032258064516\t0.6296774193548387\t0.6425806451612903\t0.5303225806451612\t0.5419354838709678\t0\n",
            "gi|12231022|sp|P35483.2|PPBH_PSEAE\t0.6270967741935484\t0.6799999999999999\t0.5754838709677419\t0.5832258064516129\t0.6219354838709678\t0.6129032258064516\t0.584516129032258\t0.5741935483870968\t0.5780645161290323\t0.5741935483870968\t0.5574193548387096\t0.5393548387096774\t0.5664516129032258\t0.5638709677419355\t0.567741935483871\t0.5638709677419355\t0.5638709677419355\t0.6735483870967742\t0.6761290322580645\t0.544516129032258\t0.5470967741935484\t0.3909677419354839\t0\n",
            "gi|122260447|sp|Q02QC9.1|PPBH_PSEAB\t0.6270967741935484\t0.6812903225806451\t0.5767741935483871\t0.584516129032258\t0.6219354838709678\t0.6141935483870968\t0.5858064516129032\t0.5741935483870968\t0.5780645161290323\t0.5741935483870968\t0.5548387096774193\t0.5380645161290323\t0.5664516129032258\t0.5638709677419355\t0.567741935483871\t0.5638709677419355\t0.5638709677419355\t0.6748387096774193\t0.6761290322580645\t0.5470967741935484\t0.5483870967741935\t0.3909677419354839\t0.00903225806451613\t0\n",
            "gi|130754|sp|P19147.1|PPB_SERMA\t0.6258064516129032\t0.6825806451612904\t0.5716129032258064\t0.5858064516129032\t0.6154838709677419\t0.6051612903225807\t0.5806451612903225\t0.5703225806451613\t0.5780645161290323\t0.5741935483870968\t0.5612903225806452\t0.5380645161290323\t0.567741935483871\t0.5664516129032258\t0.5703225806451613\t0.567741935483871\t0.567741935483871\t0.6580645161290323\t0.6696774193548387\t0.5419354838709678\t0.544516129032258\t0.3870967741935484\t0.18709677419354842\t0.19225806451612903\t0\n",
            "gi|130752|sp|P00634.1|PPB_ECOLI\t0.6154838709677419\t0.6812903225806451\t0.5819354838709677\t0.5922580645161291\t0.6206451612903225\t0.616774193548387\t0.5896774193548386\t0.5806451612903225\t0.5870967741935484\t0.5819354838709677\t0.56\t0.5380645161290323\t0.5690322580645162\t0.5664516129032258\t0.5703225806451613\t0.567741935483871\t0.5703225806451613\t0.6632258064516129\t0.6748387096774193\t0.5393548387096774\t0.5419354838709678\t0.3716129032258064\t0.1845161290322581\t0.18838709677419352\t0.16258064516129034\t0\n",
            "gi|130753|sp|P21948.1|PPB_ESCF3\t0.6219354838709678\t0.6851612903225807\t0.584516129032258\t0.5935483870967742\t0.623225806451613\t0.6180645161290322\t0.5909677419354838\t0.5806451612903225\t0.5870967741935484\t0.5832258064516129\t0.5638709677419355\t0.5406451612903226\t0.5703225806451613\t0.567741935483871\t0.5716129032258064\t0.5690322580645162\t0.5716129032258064\t0.672258064516129\t0.6735483870967742\t0.5419354838709678\t0.5406451612903226\t0.37290322580645163\t0.1845161290322581\t0.1858064516129032\t0.16516129032258065\t0.05935483870967739\t0\n",
            "\tgi|544584820|sp|P29523.4|PPB_BOMMO\tgi|29427685|sp|Q24238.3|APH4_DROME\tgi|341941722|sp|P24823.2|PPBN_MOUSE\tgi|130746|sp|P15693.1|PPBI1_RAT\tgi|130745|sp|P24822.1|PPBI_MOUSE\tgi|1709730|sp|P51740.1|PPBI2_RAT\tgi|2507183|sp|P19111.2|PPBI_BOVIN\tgi|130744|sp|P09923.2|PPBI_HUMAN\tgi|130737|sp|P05187.2|PPB1_HUMAN\tgi|145559564|sp|P10696.4|PPBN_HUMAN\tgi|6093774|sp|Q92058.1|PPBT_CHICK\tgi|41017428|sp|P83456.1|PPB_GADMO\tgi|146345490|sp|P09487.2|PPBT_BOVIN\tgi|2499544|sp|Q29486.1|PPBT_FELCA\tgi|68067533|sp|P05186.4|PPBT_HUMAN\tgi|130751|sp|P08289.2|PPBT_RAT\tgi|341941723|sp|P09242.2|PPBT_MOUSE\tgi|21542183|sp|O60109.1|PPB_SCHPO\tgi|2851586|sp|P11491.2|PPB_YEAST\tgi|239938928|sp|P19406.4|PPB4_BACSU\tgi|251757504|sp|P19405.4|PPB3_BACSU\tgi|134996|sp|P09401.2|STRK_STRGR\tgi|12231022|sp|P35483.2|PPBH_PSEAE\tgi|122260447|sp|Q02QC9.1|PPBH_PSEAB\tgi|130754|sp|P19147.1|PPB_SERMA\tgi|130752|sp|P00634.1|PPB_ECOLI\tgi|130753|sp|P21948.1|PPB_ESCF3\n"
          ],
          "name": "stdout"
        }
      ]
    },
    {
      "cell_type": "code",
      "metadata": {
        "id": "puspDGXkBqGy"
      },
      "source": [
        "constructor = DistanceTreeConstructor()\n",
        "UPGMA_tree = constructor.upgma(distMatrix)"
      ],
      "execution_count": null,
      "outputs": []
    },
    {
      "cell_type": "code",
      "metadata": {
        "colab": {
          "base_uri": "https://localhost:8080/"
        },
        "id": "Y5Mq-VggByhL",
        "outputId": "321d835c-a412-44fe-e709-e33bb78011d6"
      },
      "source": [
        "UPGMA_tree.ladderize()\n",
        "Phylo.draw_ascii(UPGMA_tree)"
      ],
      "execution_count": null,
      "outputs": [
        {
          "output_type": "stream",
          "text": [
            "            ____________________ gi|2851586|sp|P11491.2|PPB_YEAST\n",
            "        ___|\n",
            "       |   |____________________ gi|21542183|sp|O60109.1|PPB_SCHPO\n",
            "       |\n",
            "  _____|                    ___________ gi|251757504|sp|P19405.4|PPB3_BACSU\n",
            " |     |         __________|\n",
            " |     |        |          |___________ gi|239938928|sp|P19406.4|PPB4_BACSU\n",
            " |     |________|\n",
            " |              |       _______________ gi|134996|sp|P09401.2|STRK_STRGR\n",
            " |              |      |\n",
            " |              |______|               , gi|122260447|sp|Q02QC9.1|PPBH_PSEAB\n",
            " |                     |         ______|\n",
            " |                     |        |      | gi|12231022|sp|P35483.2|PPBH_PSEAE\n",
            " |                     |________|\n",
            "_|                              | ______ gi|130754|sp|P19147.1|PPB_SERMA\n",
            " |                              ||\n",
            " |                               |    __ gi|130753|sp|P21948.1|PPB_ESCF3\n",
            " |                               |___|\n",
            " |                                   |__ gi|130752|sp|P00634.1|PPB_ECOLI\n",
            " |\n",
            " |      ____________________ gi|29427685|sp|Q24238.3|APH4_DROME\n",
            " |     |\n",
            " |     |  __________________ gi|544584820|sp|P29523.4|PPB_BOMMO\n",
            " |     | |\n",
            " |_____| |               ________ gi|41017428|sp|P83456.1|PPB_GADMO\n",
            "       | |              |\n",
            "       | |          ____|  ______ gi|6093774|sp|Q92058.1|PPBT_CHICK\n",
            "       | |         |    | |\n",
            "       |_|         |    |_|    __ gi|68067533|sp|P05186.4|PPBT_HUMAN\n",
            "         |         |      |   |\n",
            "         |         |      |___|  , gi|341941723|sp|P09242.2|PPBT_MOUSE\n",
            "         |         |          | _|\n",
            "         |         |          || | gi|130751|sp|P08289.2|PPBT_RAT\n",
            "         |         |          ||\n",
            "         |_________|           | _ gi|2499544|sp|Q29486.1|PPBT_FELCA\n",
            "                   |           ||\n",
            "                   |            |_ gi|146345490|sp|P09487.2|PPBT_BOVIN\n",
            "                   |\n",
            "                   |       _______ gi|130746|sp|P15693.1|PPBI1_RAT\n",
            "                   |     ,|\n",
            "                   |     ||   ____ gi|1709730|sp|P51740.1|PPBI2_RAT\n",
            "                   |     ||__|\n",
            "                   |_____|   |____ gi|130745|sp|P24822.1|PPBI_MOUSE\n",
            "                         |\n",
            "                         | _______ gi|2507183|sp|P19111.2|PPBI_BOVIN\n",
            "                         ||\n",
            "                          | ______ gi|341941722|sp|P24823.2|PPBN_MOUSE\n",
            "                          ||\n",
            "                           |   ___ gi|130744|sp|P09923.2|PPBI_HUMAN\n",
            "                           |__|\n",
            "                              |  , gi|145559564|sp|P10696.4|PPBN_HUMAN\n",
            "                              |__|\n",
            "                                 | gi|130737|sp|P05187.2|PPB1_HUMAN\n",
            "\n"
          ],
          "name": "stdout"
        }
      ]
    },
    {
      "cell_type": "markdown",
      "metadata": {
        "id": "gsfmzbIomanG"
      },
      "source": [
        "**Повторите то же самое с подсчётом матрицы расстояний с моделью 'blosum62'.**"
      ]
    },
    {
      "cell_type": "code",
      "metadata": {
        "id": "usvVwx78B0nT"
      },
      "source": [
        ""
      ],
      "execution_count": null,
      "outputs": []
    }
  ]
}