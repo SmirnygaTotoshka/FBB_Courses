{
  "nbformat": 4,
  "nbformat_minor": 0,
  "metadata": {
    "colab": {
      "name": "Докинг",
      "provenance": [],
      "collapsed_sections": [],
      "include_colab_link": true
    },
    "kernelspec": {
      "name": "python3",
      "display_name": "Python 3"
    },
    "widgets": {
      "application/vnd.jupyter.widget-state+json": {
        "1807b1e6170f4ae2bf2d4a3d79201cbd": {
          "model_module": "@jupyter-widgets/controls",
          "model_name": "VBoxModel",
          "model_module_version": "1.5.0",
          "state": {
            "_view_name": "VBoxView",
            "_dom_classes": [
              "widget-interact"
            ],
            "_model_name": "VBoxModel",
            "_view_module": "@jupyter-widgets/controls",
            "_model_module_version": "1.5.0",
            "_view_count": null,
            "_view_module_version": "1.5.0",
            "box_style": "",
            "layout": "IPY_MODEL_a8134e24007b488b9ec7a252d680a0e4",
            "_model_module": "@jupyter-widgets/controls",
            "children": [
              "IPY_MODEL_8010d30467a84c96845a3817687f6d63",
              "IPY_MODEL_c669af9dd4b54c97998ef8de1fc4b745"
            ]
          }
        },
        "a8134e24007b488b9ec7a252d680a0e4": {
          "model_module": "@jupyter-widgets/base",
          "model_name": "LayoutModel",
          "model_module_version": "1.2.0",
          "state": {
            "_view_name": "LayoutView",
            "grid_template_rows": null,
            "right": null,
            "justify_content": null,
            "_view_module": "@jupyter-widgets/base",
            "overflow": null,
            "_model_module_version": "1.2.0",
            "_view_count": null,
            "flex_flow": null,
            "width": null,
            "min_width": null,
            "border": null,
            "align_items": null,
            "bottom": null,
            "_model_module": "@jupyter-widgets/base",
            "top": null,
            "grid_column": null,
            "overflow_y": null,
            "overflow_x": null,
            "grid_auto_flow": null,
            "grid_area": null,
            "grid_template_columns": null,
            "flex": null,
            "_model_name": "LayoutModel",
            "justify_items": null,
            "grid_row": null,
            "max_height": null,
            "align_content": null,
            "visibility": null,
            "align_self": null,
            "height": null,
            "min_height": null,
            "padding": null,
            "grid_auto_rows": null,
            "grid_gap": null,
            "max_width": null,
            "order": null,
            "_view_module_version": "1.2.0",
            "grid_template_areas": null,
            "object_position": null,
            "object_fit": null,
            "grid_auto_columns": null,
            "margin": null,
            "display": null,
            "left": null
          }
        },
        "8010d30467a84c96845a3817687f6d63": {
          "model_module": "@jupyter-widgets/controls",
          "model_name": "TextModel",
          "model_module_version": "1.5.0",
          "state": {
            "_view_name": "TextView",
            "style": "IPY_MODEL_e0d0601fd58b43839823f382339bc504",
            "_dom_classes": [],
            "description": "smi",
            "_model_name": "TextModel",
            "placeholder": "​",
            "_view_module": "@jupyter-widgets/controls",
            "_model_module_version": "1.5.0",
            "value": "CC(C)(C)NC(=O)[C@@H]1CN(CC2=CN=CC=C2)CCN1C[C@@H](O)C[C@@H](CC1=CC=CC=C1)C(=O)N[C@@H]1[C@H](O)CC2=CC=CC=C12",
            "_view_count": null,
            "disabled": false,
            "_view_module_version": "1.5.0",
            "continuous_update": true,
            "description_tooltip": null,
            "_model_module": "@jupyter-widgets/controls",
            "layout": "IPY_MODEL_da10339099e144bda6c53afe359e9374"
          }
        },
        "c669af9dd4b54c97998ef8de1fc4b745": {
          "model_module": "@jupyter-widgets/output",
          "model_name": "OutputModel",
          "model_module_version": "1.0.0",
          "state": {
            "_view_name": "OutputView",
            "msg_id": "",
            "_dom_classes": [],
            "_model_name": "OutputModel",
            "outputs": [],
            "_view_module": "@jupyter-widgets/output",
            "_model_module_version": "1.0.0",
            "_view_count": null,
            "_view_module_version": "1.0.0",
            "layout": "IPY_MODEL_270d52125a65430f9dbfe3e3776c67df",
            "_model_module": "@jupyter-widgets/output"
          }
        },
        "e0d0601fd58b43839823f382339bc504": {
          "model_module": "@jupyter-widgets/controls",
          "model_name": "DescriptionStyleModel",
          "model_module_version": "1.5.0",
          "state": {
            "_view_name": "StyleView",
            "_model_name": "DescriptionStyleModel",
            "description_width": "",
            "_view_module": "@jupyter-widgets/base",
            "_model_module_version": "1.5.0",
            "_view_count": null,
            "_view_module_version": "1.2.0",
            "_model_module": "@jupyter-widgets/controls"
          }
        },
        "da10339099e144bda6c53afe359e9374": {
          "model_module": "@jupyter-widgets/base",
          "model_name": "LayoutModel",
          "model_module_version": "1.2.0",
          "state": {
            "_view_name": "LayoutView",
            "grid_template_rows": null,
            "right": null,
            "justify_content": null,
            "_view_module": "@jupyter-widgets/base",
            "overflow": null,
            "_model_module_version": "1.2.0",
            "_view_count": null,
            "flex_flow": null,
            "width": null,
            "min_width": null,
            "border": null,
            "align_items": null,
            "bottom": null,
            "_model_module": "@jupyter-widgets/base",
            "top": null,
            "grid_column": null,
            "overflow_y": null,
            "overflow_x": null,
            "grid_auto_flow": null,
            "grid_area": null,
            "grid_template_columns": null,
            "flex": null,
            "_model_name": "LayoutModel",
            "justify_items": null,
            "grid_row": null,
            "max_height": null,
            "align_content": null,
            "visibility": null,
            "align_self": null,
            "height": null,
            "min_height": null,
            "padding": null,
            "grid_auto_rows": null,
            "grid_gap": null,
            "max_width": null,
            "order": null,
            "_view_module_version": "1.2.0",
            "grid_template_areas": null,
            "object_position": null,
            "object_fit": null,
            "grid_auto_columns": null,
            "margin": null,
            "display": null,
            "left": null
          }
        },
        "270d52125a65430f9dbfe3e3776c67df": {
          "model_module": "@jupyter-widgets/base",
          "model_name": "LayoutModel",
          "model_module_version": "1.2.0",
          "state": {
            "_view_name": "LayoutView",
            "grid_template_rows": null,
            "right": null,
            "justify_content": null,
            "_view_module": "@jupyter-widgets/base",
            "overflow": null,
            "_model_module_version": "1.2.0",
            "_view_count": null,
            "flex_flow": null,
            "width": null,
            "min_width": null,
            "border": null,
            "align_items": null,
            "bottom": null,
            "_model_module": "@jupyter-widgets/base",
            "top": null,
            "grid_column": null,
            "overflow_y": null,
            "overflow_x": null,
            "grid_auto_flow": null,
            "grid_area": null,
            "grid_template_columns": null,
            "flex": null,
            "_model_name": "LayoutModel",
            "justify_items": null,
            "grid_row": null,
            "max_height": null,
            "align_content": null,
            "visibility": null,
            "align_self": null,
            "height": null,
            "min_height": null,
            "padding": null,
            "grid_auto_rows": null,
            "grid_gap": null,
            "max_width": null,
            "order": null,
            "_view_module_version": "1.2.0",
            "grid_template_areas": null,
            "object_position": null,
            "object_fit": null,
            "grid_auto_columns": null,
            "margin": null,
            "display": null,
            "left": null
          }
        }
      }
    }
  },
  "cells": [
    {
      "cell_type": "markdown",
      "metadata": {
        "id": "view-in-github",
        "colab_type": "text"
      },
      "source": [
        "<a href=\"https://colab.research.google.com/github/SmirnygaTotoshka/FBB_Courses/blob/main/%D0%94%D0%BE%D0%BA%D0%B8%D0%BD%D0%B3.ipynb\" target=\"_parent\"><img src=\"https://colab.research.google.com/assets/colab-badge.svg\" alt=\"Open In Colab\"/></a>"
      ]
    },
    {
      "cell_type": "markdown",
      "metadata": {
        "id": "WutUwTFo2e4j"
      },
      "source": [
        "#Докинг в AutoDock Vina"
      ]
    },
    {
      "cell_type": "markdown",
      "metadata": {
        "id": "buTRd47h4QfK"
      },
      "source": [
        "#Part 0 – Загрузка и установка необходимого програмного обеспечения"
      ]
    },
    {
      "cell_type": "markdown",
      "metadata": {
        "id": "KSAoowL_4XIV"
      },
      "source": [
        "Для начала вам понадобится скопровать этот ноутбук в свой гугл диск.\n",
        "\n",
        "В нулевом разделе мы загружаем небольшое колличество пактеов длядальнейшей работы:**py3Dmol**, **miniconda**, **OpenBabel**, **MGLtools**, **pdb2pqr**, **Autodock Vina**.\n",
        "\n",
        "С помощью Vina  и будет проводится докинг. Все \n",
        "это вы можете установить и в свое окружение python, а также локально на своем компьютере.\n",
        "\n",
        "В последующих ячейках, помимо установки будут еще и минимальные запуски установленных пакетов с опцией \"-h\" или \"--help\" для вывода их помощи к использованию.\n"
      ]
    },
    {
      "cell_type": "code",
      "metadata": {
        "id": "mFxdeBHvatJY",
        "colab": {
          "base_uri": "https://localhost:8080/"
        },
        "outputId": "b6da8db7-4d99-47df-b622-17de73054804"
      },
      "source": [
        "#Installing py3Dmol using pip\n",
        "!pip install py3Dmol\n",
        "#We will also install kora for using RDkit\n",
        "!pip install kora"
      ],
      "execution_count": null,
      "outputs": [
        {
          "output_type": "stream",
          "name": "stdout",
          "text": [
            "Traceback (most recent call last):\n",
            "  File \"/usr/local/bin/pip\", line 7, in <module>\n",
            "    from pip import main\n",
            "ImportError: No module named pip\n",
            "Traceback (most recent call last):\n",
            "  File \"/usr/local/bin/pip\", line 7, in <module>\n",
            "    from pip import main\n",
            "ImportError: No module named pip\n"
          ]
        }
      ]
    },
    {
      "cell_type": "code",
      "metadata": {
        "id": "jS2vRGLx40Du"
      },
      "source": [
        "#Importing py3Dmol for safety\n",
        "import py3Dmol"
      ],
      "execution_count": null,
      "outputs": []
    },
    {
      "cell_type": "code",
      "metadata": {
        "id": "CmcfMWrUm9eL",
        "colab": {
          "base_uri": "https://localhost:8080/"
        },
        "outputId": "ac909364-caa2-4b28-ba7e-1990f9a361ad"
      },
      "source": [
        "#Installing pdb2pqr using apt-get\n",
        "!apt-get install -y pdb2pqr"
      ],
      "execution_count": null,
      "outputs": [
        {
          "output_type": "stream",
          "name": "stdout",
          "text": [
            "Reading package lists... Done\n",
            "Building dependency tree       \n",
            "Reading state information... Done\n",
            "pdb2pqr is already the newest version (2.1.1+dfsg-2).\n",
            "0 upgraded, 0 newly installed, 0 to remove and 37 not upgraded.\n"
          ]
        }
      ]
    },
    {
      "cell_type": "code",
      "metadata": {
        "id": "BPObwIbRnGJI",
        "colab": {
          "base_uri": "https://localhost:8080/"
        },
        "outputId": "9a7d5423-1c08-4107-8edf-f89b50e3af0c"
      },
      "source": [
        "#Checking that pdb2pqr was properly installed\n",
        "!pdb2pqr -h"
      ],
      "execution_count": null,
      "outputs": [
        {
          "output_type": "stream",
          "name": "stdout",
          "text": [
            "Usage: pdb2pqr [options] PDB_PATH PQR_OUTPUT_PATH\n",
            "\n",
            "This module takes a PDB file as input and performs optimizations before\n",
            "yielding a new PQR-style file in PQR_OUTPUT_PATH. If PDB_PATH is an ID it will\n",
            "automatically be obtained from the PDB archive.\n",
            "\n",
            "Options:\n",
            "  --version             show program's version number and exit\n",
            "  -h, --help            show this help message and exit\n",
            "\n",
            "  Manditory options:\n",
            "    One of the following options must be used.\n",
            "\n",
            "    --ff=FIELD_NAME     The forcefield to use - currently amber, charmm,\n",
            "                        parse, tyl06, peoepb and swanson are supported.\n",
            "    --userff=USER_FIELD_FILE\n",
            "                        The user created forcefield file to use. Requires\n",
            "                        --usernames overrides --ff\n",
            "    --clean             Do no optimization, atom addition, or parameter\n",
            "                        assignment, just return the original PDB file in\n",
            "                        aligned format. Overrides --ff and --userff\n",
            "\n",
            "  General options:\n",
            "    --nodebump          Do not perform the debumping operation\n",
            "    --noopt             Do not perform hydrogen optimization\n",
            "    --chain             Keep the chain ID in the output PQR file\n",
            "    --assign-only       Only assign charges and radii - do not add atoms,\n",
            "                        debump, or optimize.\n",
            "    --ffout=FIELD_NAME  Instead of using the standard canonical naming scheme\n",
            "                        for residue and atom names, use the names from the\n",
            "                        given forcefield - currently amber, charmm, parse,\n",
            "                        tyl06, peoepb and swanson are supported.\n",
            "    --usernames=USER_NAME_FILE\n",
            "                        The user created names file to use. Required if using\n",
            "                        --userff\n",
            "    --apbs-input        Create a template APBS input file based on the\n",
            "                        generated PQR file.  Also creates a Python pickle for\n",
            "                        using these parameters in other programs.\n",
            "    --ligand=PATH       Calculate the parameters for the ligand in mol2 format\n",
            "                        at the given path. Pdb2pka must be compiled.\n",
            "    --whitespace        Insert whitespaces between atom name and residue name,\n",
            "                        between x and y, and between y and z.\n",
            "    --typemap           Create Typemap output.\n",
            "    --neutraln          Make the N-terminus of this protein neutral (default\n",
            "                        is charged). Requires PARSE force field.\n",
            "    --neutralc          Make the C-terminus of this protein neutral (default\n",
            "                        is charged). Requires PARSE force field.\n",
            "    -v, --verbose       Print information to stdout.\n",
            "    --drop-water        Drop waters before processing protein. Currently\n",
            "                        recognized and deleted are the following water types:\n",
            "                        HOH, WAT\n",
            "    --include-header    Include pdb header in pqr file. WARNING: The resulting\n",
            "                        PQR file will not work with APBS versions prior to 1.5\n",
            "\n",
            "  pH options:\n",
            "    --ph-calc-method=PH_METHOD\n",
            "                        Method used to calculate ph values. If a pH\n",
            "                        calculation method is selected, for each titratable\n",
            "                        residue pH values will be calculated and the residue\n",
            "                        potentially modified after comparison with the pH\n",
            "                        value supplied by --with_ph propka - Use PROPKA to\n",
            "                        calculate pH values. Actual PROPKA results will be\n",
            "                        output to <output-path>.propka. pdb2pka - Use PDB2PKA\n",
            "                        to calculate pH values. Requires the use of the PARSE\n",
            "                        force field. Warning: Larger residues can take a very\n",
            "                        long time to run using this method. EXPERIMENTAL!\n",
            "    --with-ph=PH        pH values to use when applying the results of the\n",
            "                        selected pH calculation method. Defaults to 7.0\n",
            "\n",
            "  PDB2PKA method options:\n",
            "    --pdb2pka-out=PDB2PKA_OUT\n",
            "                        Output directory for PDB2PKA results. Defaults to\n",
            "                        pdb2pka_output\n",
            "    --pdb2pka-resume    Resume run from state saved in output directory.\n",
            "    --pdie=PDB2PKA_PDIE\n",
            "                        Protein dielectric constant. Defaults to 8\n",
            "    --sdie=PDB2PKA_SDIE\n",
            "                        Solvent dielectric constant. Defaults to 80\n",
            "    --pairene=PDB2PKA_PAIRENE\n",
            "                        Cutoff energy in kT for calculating non charged-\n",
            "                        charged interaction energies. Default: 1.0\n",
            "\n",
            "  PROPKA method options:\n",
            "    --propka-reference=PROPKA_REFERENCE\n",
            "                        Setting which reference to use for stability\n",
            "                        calculations. See PROPKA 3.0 documentation.\n",
            "    --propka-verbose    Print extra proPKA information to stdout. WARNING:\n",
            "                        This produces an incredible amount of output.\n",
            "\n",
            "  Extension options:\n",
            "    --chi               Print the per-residue backbone chi angle to {output-\n",
            "                        path}.chi\n",
            "    --summary           Print protein summary information to {output-\n",
            "                        path}.summary.\n",
            "    --contact           Print a list of contacts to {output-path}.con\n",
            "    --newresinter       Print interaction energy between each residue pair in\n",
            "                        the protein to {output-path}.newresinter.\n",
            "    --salt              Print a list of salt bridges to {output-path}.salt\n",
            "\n",
            "  Hbond extension options:\n",
            "    --hbond             Print a list of hydrogen bonds to {output-path}.hbond\n",
            "    --whatif            Change hbond output to WHAT-IF format.\n",
            "    --angle_cutoff=ANGLE_CUTOFF\n",
            "                        Angle cutoff to use when creating hbond data (default\n",
            "                        30.0)\n",
            "    --distance_cutoff=DISTANCE_CUTOFF\n",
            "                        Distance cutoff to use when creating hbond data\n",
            "                        (default 3.4)\n",
            "    --old_distance_method\n",
            "                        Use distance from donor hydrogen to acceptor to\n",
            "                        calculate distance used with --distance_cutoff.\n",
            "\n",
            "  Resinter extension options:\n",
            "    --resinter          Print interaction energy between each residue pair in\n",
            "                        the protein to {output-path}.resinter.\n",
            "    --residue_combinations\n",
            "                        Remap residues to different titration states and rerun\n",
            "                        resinter appending output. Consider only the minimum\n",
            "                        number of whole protein titration combinations needed\n",
            "                        to test each possible pairing of residue titration\n",
            "                        states. Normally used with --noopt. If a protein\n",
            "                        titration state combination results in a pair of\n",
            "                        residue being  re-tested in the same individual\n",
            "                        titration states a warning will be generated if the\n",
            "                        re-tested result is different. This warning should not\n",
            "                        be possible if used with --noopt.\n",
            "    --all_residue_combinations\n",
            "                        Remap residues to ALL possible titration state\n",
            "                        combinations and rerun resinter appending output.\n",
            "                        Results with --noopt should be the same as\n",
            "                        --residue_combinations. Runs considerably slower than\n",
            "                        --residue_combinations and generates the same type of\n",
            "                        warnings.  Use without --noopt to discover how\n",
            "                        hydrogen optimization affects residue  interaction\n",
            "                        energies via the warnings in the output.\n",
            "\n",
            "  Rama extension options:\n",
            "    --rama              Print the per-residue phi and psi angles to {output-\n",
            "                        path}.rama for Ramachandran plots\n",
            "    --phi_only          Only include phi angles in output. Rename output file\n",
            "                        {output-path}.phi\n",
            "    --psi_only          Only include psi angles in output. Rename output file\n",
            "                        {output-path}.psi\n"
          ]
        }
      ]
    },
    {
      "cell_type": "markdown",
      "metadata": {
        "id": "1poPd39lTsPv"
      },
      "source": [
        "3. And then we will install conda to be able to install MGLtools and OpenBabel"
      ]
    },
    {
      "cell_type": "code",
      "metadata": {
        "id": "flYkISi4RpqN",
        "colab": {
          "base_uri": "https://localhost:8080/"
        },
        "outputId": "789ce791-bb73-46b0-a46f-fb094d26916b"
      },
      "source": [
        "#Install miniconda\n",
        "!wget https://repo.continuum.io/miniconda/Miniconda3-4.5.4-Linux-x86_64.sh\n",
        "!bash Miniconda3-4.5.4-Linux-x86_64.sh -bfp /usr/local\n",
        "import sys\n",
        "sys.path.append('/usr/local/lib/python3.6/site-packages')"
      ],
      "execution_count": null,
      "outputs": [
        {
          "output_type": "stream",
          "name": "stdout",
          "text": [
            "--2021-10-26 14:33:31--  https://repo.continuum.io/miniconda/Miniconda3-4.5.4-Linux-x86_64.sh\n",
            "Resolving repo.continuum.io (repo.continuum.io)... 104.18.201.79, 104.18.200.79, 2606:4700::6812:c84f, ...\n",
            "Connecting to repo.continuum.io (repo.continuum.io)|104.18.201.79|:443... connected.\n",
            "HTTP request sent, awaiting response... 301 Moved Permanently\n",
            "Location: https://repo.anaconda.com/miniconda/Miniconda3-4.5.4-Linux-x86_64.sh [following]\n",
            "--2021-10-26 14:33:31--  https://repo.anaconda.com/miniconda/Miniconda3-4.5.4-Linux-x86_64.sh\n",
            "Resolving repo.anaconda.com (repo.anaconda.com)... 104.16.130.3, 104.16.131.3, 2606:4700::6810:8303, ...\n",
            "Connecting to repo.anaconda.com (repo.anaconda.com)|104.16.130.3|:443... connected.\n",
            "HTTP request sent, awaiting response... 200 OK\n",
            "Length: 58468498 (56M) [application/x-sh]\n",
            "Saving to: ‘Miniconda3-4.5.4-Linux-x86_64.sh.1’\n",
            "\n",
            "Miniconda3-4.5.4-Li 100%[===================>]  55.76M   133MB/s    in 0.4s    \n",
            "\n",
            "2021-10-26 14:33:31 (133 MB/s) - ‘Miniconda3-4.5.4-Linux-x86_64.sh.1’ saved [58468498/58468498]\n",
            "\n",
            "PREFIX=/usr/local\n",
            "installing: python-3.6.5-hc3d631a_2 ...\n",
            "Python 3.6.5 :: Anaconda, Inc.\n",
            "installing: ca-certificates-2018.03.07-0 ...\n",
            "installing: conda-env-2.6.0-h36134e3_1 ...\n",
            "installing: libgcc-ng-7.2.0-hdf63c60_3 ...\n",
            "installing: libstdcxx-ng-7.2.0-hdf63c60_3 ...\n",
            "installing: libffi-3.2.1-hd88cf55_4 ...\n",
            "installing: ncurses-6.1-hf484d3e_0 ...\n",
            "installing: openssl-1.0.2o-h20670df_0 ...\n",
            "installing: tk-8.6.7-hc745277_3 ...\n",
            "installing: xz-5.2.4-h14c3975_4 ...\n",
            "installing: yaml-0.1.7-had09818_2 ...\n",
            "installing: zlib-1.2.11-ha838bed_2 ...\n",
            "installing: libedit-3.1.20170329-h6b74fdf_2 ...\n",
            "installing: readline-7.0-ha6073c6_4 ...\n",
            "installing: sqlite-3.23.1-he433501_0 ...\n",
            "installing: asn1crypto-0.24.0-py36_0 ...\n",
            "installing: certifi-2018.4.16-py36_0 ...\n",
            "installing: chardet-3.0.4-py36h0f667ec_1 ...\n",
            "installing: idna-2.6-py36h82fb2a8_1 ...\n",
            "installing: pycosat-0.6.3-py36h0a5515d_0 ...\n",
            "installing: pycparser-2.18-py36hf9f622e_1 ...\n",
            "installing: pysocks-1.6.8-py36_0 ...\n",
            "installing: ruamel_yaml-0.15.37-py36h14c3975_2 ...\n",
            "installing: six-1.11.0-py36h372c433_1 ...\n",
            "installing: cffi-1.11.5-py36h9745a5d_0 ...\n",
            "installing: setuptools-39.2.0-py36_0 ...\n",
            "installing: cryptography-2.2.2-py36h14c3975_0 ...\n",
            "installing: wheel-0.31.1-py36_0 ...\n",
            "installing: pip-10.0.1-py36_0 ...\n",
            "installing: pyopenssl-18.0.0-py36_0 ...\n",
            "installing: urllib3-1.22-py36hbe7ace6_0 ...\n",
            "installing: requests-2.18.4-py36he2e5f8d_1 ...\n",
            "installing: conda-4.5.4-py36_0 ...\n",
            "unlinking: ca-certificates-2021.10.8-ha878542_0\n",
            "unlinking: certifi-2021.5.30-py36h06a4308_0\n",
            "unlinking: cffi-1.14.6-py36h400218f_0\n",
            "unlinking: conda-4.10.3-py36h5fab9bb_2\n",
            "unlinking: cryptography-3.4.7-py36hd23ed53_0\n",
            "unlinking: idna-3.2-pyhd3eb1b0_0\n",
            "unlinking: libffi-3.3-he6710b0_2\n",
            "unlinking: libgcc-ng-9.3.0-h5101ec6_17\n",
            "unlinking: libstdcxx-ng-9.3.0-hd4cf53a_17\n",
            "unlinking: ncurses-6.2-he6710b0_1\n",
            "unlinking: openssl-1.1.1l-h7f8727e_0\n",
            "unlinking: pip-21.2.2-py36h06a4308_0\n",
            "unlinking: pycosat-0.6.3-py36h27cfd23_0\n",
            "unlinking: pycparser-2.20-py_2\n",
            "unlinking: pyopenssl-20.0.1-pyhd3eb1b0_1\n",
            "unlinking: pysocks-1.7.1-py36h06a4308_0\n",
            "unlinking: python-3.6.13-h12debd9_1\n",
            "unlinking: readline-8.1-h27cfd23_0\n",
            "unlinking: requests-2.26.0-pyhd3eb1b0_0\n",
            "unlinking: ruamel_yaml-0.15.100-py36h27cfd23_0\n",
            "unlinking: setuptools-58.0.4-py36h06a4308_0\n",
            "unlinking: six-1.16.0-pyhd3eb1b0_0\n",
            "unlinking: sqlite-3.36.0-hc218d9a_0\n",
            "unlinking: tk-8.6.11-h1ccaba5_0\n",
            "unlinking: urllib3-1.26.7-pyhd3eb1b0_0\n",
            "unlinking: wheel-0.37.0-pyhd3eb1b0_1\n",
            "unlinking: xz-5.2.5-h7b6447c_0\n",
            "unlinking: yaml-0.2.5-h7b6447c_0\n",
            "unlinking: zlib-1.2.11-h36c2ea0_1013\n",
            "installation finished.\n",
            "WARNING:\n",
            "    You currently have a PYTHONPATH environment variable set. This may cause\n",
            "    unexpected behavior when running the Python interpreter in Miniconda3.\n",
            "    For best results, please verify that your PYTHONPATH only points to\n",
            "    directories of packages that are compatible with the Python interpreter\n",
            "    in Miniconda3: /usr/local\n"
          ]
        }
      ]
    },
    {
      "cell_type": "code",
      "metadata": {
        "id": "nOtmXrtIsJfZ",
        "colab": {
          "base_uri": "https://localhost:8080/"
        },
        "outputId": "deb1b82d-481c-486d-f6bb-147322c57a87"
      },
      "source": [
        "#Here, we are updating conda to the latest version without changing the python version\n",
        "%%bash\n",
        "conda install --channel defaults conda python=3.6 --yes\n",
        "conda update --channel defaults --all --yes"
      ],
      "execution_count": null,
      "outputs": [
        {
          "output_type": "stream",
          "name": "stdout",
          "text": [
            "Solving environment: ...working... done\n",
            "\n",
            "## Package Plan ##\n",
            "\n",
            "  environment location: /usr/local\n",
            "\n",
            "  added / updated specs: \n",
            "    - conda\n",
            "    - python=3.6\n",
            "\n",
            "\n",
            "The following packages will be UPDATED:\n",
            "\n",
            "    ca-certificates: 2018.03.07-0          --> 2021.9.30-h06a4308_1    \n",
            "    certifi:         2018.4.16-py36_0      --> 2021.5.30-py36h06a4308_0\n",
            "    cffi:            1.11.5-py36h9745a5d_0 --> 1.14.6-py36h400218f_0   \n",
            "    conda:           4.5.4-py36_0          --> 4.10.3-py36h06a4308_0   \n",
            "    cryptography:    2.2.2-py36h14c3975_0  --> 3.4.7-py36hd23ed53_0    \n",
            "    libffi:          3.2.1-hd88cf55_4      --> 3.3-he6710b0_2          \n",
            "    libgcc-ng:       7.2.0-hdf63c60_3      --> 9.1.0-hdf63c60_0        \n",
            "    libstdcxx-ng:    7.2.0-hdf63c60_3      --> 9.1.0-hdf63c60_0        \n",
            "    ncurses:         6.1-hf484d3e_0        --> 6.2-he6710b0_1          \n",
            "    openssl:         1.0.2o-h20670df_0     --> 1.1.1l-h7f8727e_0       \n",
            "    python:          3.6.5-hc3d631a_2      --> 3.6.13-h12debd9_1       \n",
            "    readline:        7.0-ha6073c6_4        --> 8.1-h27cfd23_0          \n",
            "    sqlite:          3.23.1-he433501_0     --> 3.36.0-hc218d9a_0       \n",
            "    tk:              8.6.7-hc745277_3      --> 8.6.11-h1ccaba5_0       \n",
            "    xz:              5.2.4-h14c3975_4      --> 5.2.5-h7b6447c_0        \n",
            "\n",
            "Preparing transaction: ...working... done\n",
            "Verifying transaction: ...working... done\n",
            "Executing transaction: ...working... done\n",
            "Collecting package metadata (current_repodata.json): ...working... done\n",
            "Solving environment: ...working... failed with repodata from current_repodata.json, will retry with next repodata source.\n",
            "Solving environment: ...working... failed with repodata from current_repodata.json, will retry with next repodata source.\n",
            "Collecting package metadata (repodata.json): ...working... done\n",
            "Solving environment: ...working... failed\n",
            "Solving environment: ...working... \n",
            "Found conflicts! Looking for incompatible packages.\n",
            "This can take several minutes.  Press CTRL-C to abort.\n",
            "failed\n"
          ]
        },
        {
          "output_type": "stream",
          "name": "stderr",
          "text": [
            "\n",
            "The environment is inconsistent, please check the package plan carefully\n",
            "The following packages are causing the inconsistency:\n",
            "\n",
            "  - conda-forge/linux-64::libzlib==1.2.11=h36c2ea0_1013\n",
            "  - conda-forge/linux-64::libxcb==1.13=h7f98852_1003\n",
            "  - conda-forge/linux-64::cairo==1.16.0=h3fc0475_1005\n",
            "  - conda-forge/linux-64::xorg-kbproto==1.0.7=h7f98852_1002\n",
            "  - conda-forge/linux-64::xorg-libxrender==0.9.10=h7f98852_1003\n",
            "  - conda-forge/linux-64::xorg-libsm==1.2.3=hd9c2040_1000\n",
            "  - conda-forge/linux-64::xorg-xextproto==7.3.0=h7f98852_1002\n",
            "  - conda-forge/linux-64::xorg-libice==1.0.10=h7f98852_0\n",
            "  - conda-forge/linux-64::xorg-libxext==1.3.4=h7f98852_1\n",
            "  - conda-forge/linux-64::xorg-xproto==7.0.31=h7f98852_1007\n",
            "  - defaults/linux-64::glib==2.69.1=h5202010_0\n",
            "  - conda-forge/linux-64::xorg-libxdmcp==1.1.3=h7f98852_0\n",
            "  - conda-forge/linux-64::pcre==8.45=h9c3ff4c_0\n",
            "  - conda-forge/linux-64::freetype==2.10.4=h0708190_1\n",
            "  - conda-forge/linux-64::openbabel==3.1.1=py36h5ad5bf2_1\n",
            "  - conda-forge/linux-64::fontconfig==2.13.1=hba837de_1005\n",
            "  - conda-forge/linux-64::xorg-libx11==1.7.2=h7f98852_0\n",
            "  - conda-forge/linux-64::libuuid==2.32.1=h7f98852_1000\n",
            "  - conda-forge/linux-64::xorg-libxau==1.0.9=h7f98852_0\n",
            "  - conda-forge/linux-64::xorg-renderproto==0.11.1=h7f98852_1002\n",
            "\n",
            "The environment is inconsistent, please check the package plan carefully\n",
            "The following packages are causing the inconsistency:\n",
            "\n",
            "  - conda-forge/linux-64::libzlib==1.2.11=h36c2ea0_1013\n",
            "  - conda-forge/linux-64::libxcb==1.13=h7f98852_1003\n",
            "  - conda-forge/linux-64::cairo==1.16.0=h3fc0475_1005\n",
            "  - conda-forge/linux-64::xorg-kbproto==1.0.7=h7f98852_1002\n",
            "  - conda-forge/linux-64::xorg-libxrender==0.9.10=h7f98852_1003\n",
            "  - conda-forge/linux-64::xorg-libsm==1.2.3=hd9c2040_1000\n",
            "  - conda-forge/linux-64::xorg-xextproto==7.3.0=h7f98852_1002\n",
            "  - conda-forge/linux-64::xorg-libice==1.0.10=h7f98852_0\n",
            "  - conda-forge/linux-64::xorg-libxext==1.3.4=h7f98852_1\n",
            "  - conda-forge/linux-64::xorg-xproto==7.0.31=h7f98852_1007\n",
            "  - defaults/linux-64::glib==2.69.1=h5202010_0\n",
            "  - conda-forge/linux-64::xorg-libxdmcp==1.1.3=h7f98852_0\n",
            "  - conda-forge/linux-64::pcre==8.45=h9c3ff4c_0\n",
            "  - conda-forge/linux-64::freetype==2.10.4=h0708190_1\n",
            "  - conda-forge/linux-64::openbabel==3.1.1=py36h5ad5bf2_1\n",
            "  - conda-forge/linux-64::fontconfig==2.13.1=hba837de_1005\n",
            "  - conda-forge/linux-64::xorg-libx11==1.7.2=h7f98852_0\n",
            "  - conda-forge/linux-64::libuuid==2.32.1=h7f98852_1000\n",
            "  - conda-forge/linux-64::xorg-libxau==1.0.9=h7f98852_0\n",
            "  - conda-forge/linux-64::xorg-renderproto==0.11.1=h7f98852_1002\n",
            "\rBuilding graph of deps:   0%|          | 0/26 [00:00<?, ?it/s]\rExamining libzlib:   0%|          | 0/26 [00:00<?, ?it/s]     \rExamining xorg-renderproto:   4%|▍         | 1/26 [00:00<00:00, 1374.73it/s]\rExamining @/linux-64::__glibc==2.27=0:   8%|▊         | 2/26 [00:00<00:00, 1807.11it/s]\rExamining libxcb:  12%|█▏        | 3/26 [00:00<00:00, 2310.49it/s]                     \rExamining @/linux-64::__linux==5.4.104=0:  15%|█▌        | 4/26 [00:00<00:00, 740.81it/s]\rExamining cairo:  19%|█▉        | 5/26 [00:00<00:00, 889.49it/s]                         \rExamining xorg-xproto:  23%|██▎       | 6/26 [00:00<00:00, 144.91it/s]\rExamining pcre:  27%|██▋       | 7/26 [00:00<00:00, 164.86it/s]       \rExamining openbabel:  31%|███       | 8/26 [00:00<00:00, 171.53it/s]\rExamining glib:  35%|███▍      | 9/26 [00:00<00:00, 160.36it/s]     \rExamining @/linux-64::__unix==0=0:  38%|███▊      | 10/26 [00:00<00:00, 112.99it/s]\rExamining libuuid:  42%|████▏     | 11/26 [00:00<00:00, 123.75it/s]                \rExamining xorg-libsm:  46%|████▌     | 12/26 [00:00<00:00, 130.39it/s]\rExamining xorg-libice:  50%|█████     | 13/26 [00:00<00:00, 140.20it/s]\rExamining xorg-libxdmcp:  54%|█████▍    | 14/26 [00:00<00:00, 150.20it/s]\rExamining xorg-libxrender:  58%|█████▊    | 15/26 [00:00<00:00, 160.16it/s]\rExamining xorg-kbproto:  62%|██████▏   | 16/26 [00:00<00:00, 169.53it/s]   \rExamining xorg-libx11:  65%|██████▌   | 17/26 [00:00<00:00, 179.33it/s] \rExamining @/linux-64::__archspec==1=x86_64:  69%|██████▉   | 18/26 [00:00<00:00, 187.67it/s]\rExamining freetype:  73%|███████▎  | 19/26 [00:00<00:00, 197.71it/s]                        \rExamining xorg-libxau:  77%|███████▋  | 20/26 [00:00<00:00, 189.47it/s]\rExamining xorg-libxau:  81%|████████  | 21/26 [00:00<00:00, 198.58it/s]\rExamining conda[version='>=4.10.3']:  81%|████████  | 21/26 [00:00<00:00, 198.58it/s]\rExamining xorg-xextproto:  85%|████████▍ | 22/26 [00:00<00:00, 198.58it/s]           \rExamining xorg-libxext:  88%|████████▊ | 23/26 [00:00<00:00, 198.58it/s]  \rExamining fontconfig:  92%|█████████▏| 24/26 [00:00<00:00, 198.58it/s]  \rExamining python=3.6:  96%|█████████▌| 25/26 [00:00<00:00, 198.58it/s]\r                                                                      \r\rDetermining conflicts:   0%|          | 0/26 [00:00<?, ?it/s]\rExamining conflict for libzlib xorg-renderproto libxcb cairo xorg-xproto pcre openbabel glib libuuid xorg-libsm xorg-libice xorg-libxdmcp xorg-libxrender xorg-kbproto xorg-libx11 freetype xorg-libxau xorg-xextproto xorg-libxext fontconfig python:   0%|          | 0/26 [00:00<?, ?it/s]\rExamining conflict for libzlib xorg-renderproto __glibc libxcb cairo xorg-xproto pcre openbabel glib libuuid xorg-libsm xorg-libice xorg-libxdmcp xorg-libxrender xorg-kbproto xorg-libx11 freetype xorg-libxau xorg-xextproto xorg-libxext fontconfig python:   4%|▍         | 1/26 [00:00<00:02, 10.03it/s]\rExamining conflict for libzlib xorg-renderproto libxcb cairo xorg-xproto pcre openbabel glib libuuid xorg-libsm xorg-libice xorg-libxdmcp xorg-libxrender xorg-kbproto xorg-libx11 freetype xorg-libxau conda xorg-xextproto xorg-libxext fontconfig python:   8%|▊         | 2/26 [00:00<00:02, 10.07it/s]  \rExamining conflict for libzlib xorg-renderproto libxcb cairo xorg-xproto pcre openbabel glib libuuid xorg-libsm xorg-libice xorg-libxdmcp xorg-libxrender xorg-kbproto xorg-libx11 freetype xorg-libxau conda xorg-xextproto xorg-libxext fontconfig python:  12%|█▏        | 3/26 [00:00<00:01, 15.09it/s]\rExamining conflict for cairo xorg-renderproto xorg-libxrender:  12%|█▏        | 3/26 [00:00<00:01, 15.09it/s]                                                                                                                                                                                              \rExamining conflict for xorg-libxext xorg-libxrender libxcb cairo xorg-libx11 openbabel:  15%|█▌        | 4/26 [00:00<00:01, 15.09it/s]\rExamining conflict for xorg-libxext xorg-libxrender libxcb cairo xorg-libx11 openbabel:  19%|█▉        | 5/26 [00:00<00:01, 13.02it/s]\rExamining conflict for cairo xorg-libxdmcp xorg-libx11 libxcb:  19%|█▉        | 5/26 [00:00<00:01, 13.02it/s]                         \rExamining conflict for cairo xorg-libxau xorg-libx11 libxcb:  23%|██▎       | 6/26 [00:00<00:01, 13.02it/s]  \rExamining conflict for cairo xorg-libx11 libxcb:  27%|██▋       | 7/26 [00:00<00:01, 13.02it/s]            \rExamining conflict for cairo xorg-libx11 libxcb:  31%|███       | 8/26 [00:00<00:01, 17.89it/s]\rExamining conflict for cairo openbabel:  31%|███       | 8/26 [00:00<00:01, 17.89it/s]         \rExamining conflict for conda glib cairo python openbabel:  35%|███▍      | 9/26 [00:00<00:00, 17.89it/s]\rExamining conflict for cairo pcre glib:  38%|███▊      | 10/26 [00:00<00:00, 17.89it/s]                 \rExamining conflict for cairo pcre glib:  42%|████▏     | 11/26 [00:00<00:00, 16.90it/s]\rExamining conflict for fontconfig cairo openbabel:  42%|████▏     | 11/26 [00:00<00:00, 16.90it/s]\rExamining conflict for xorg-libxext xorg-libxrender cairo xorg-libx11 xorg-xproto:  46%|████▌     | 12/26 [00:00<00:00, 16.90it/s]\rExamining conflict for xorg-libxext xorg-libxrender cairo xorg-libx11 xorg-xproto:  50%|█████     | 13/26 [00:00<00:00, 17.29it/s]\rExamining conflict for cairo glib openbabel:  50%|█████     | 13/26 [00:00<00:00, 17.29it/s]                                      \rExamining conflict for cairo xorg-libice xorg-libsm openbabel:  54%|█████▍    | 14/26 [00:00<00:00, 17.29it/s]\rExamining conflict for cairo xorg-libice xorg-libsm openbabel:  58%|█████▊    | 15/26 [00:00<00:00, 17.63it/s]\rExamining conflict for cairo xorg-libxrender openbabel:  58%|█████▊    | 15/26 [00:00<00:00, 17.63it/s]       \rExamining conflict for conda glib cairo fontconfig pcre python openbabel:  62%|██████▏   | 16/26 [00:00<00:00, 17.63it/s]\rExamining conflict for fontconfig cairo freetype openbabel:  65%|██████▌   | 17/26 [00:01<00:00, 17.63it/s]              \rExamining conflict for fontconfig cairo freetype openbabel:  69%|██████▉   | 18/26 [00:01<00:00, 16.58it/s]\rExamining conflict for conda cairo fontconfig python openbabel:  69%|██████▉   | 18/26 [00:01<00:00, 16.58it/s]\rExamining conflict for xorg-libxext xorg-libxrender cairo xorg-libx11 openbabel:  73%|███████▎  | 19/26 [00:01<00:00, 16.58it/s]\rExamining conflict for xorg-libxext xorg-libxrender cairo xorg-libx11 openbabel:  77%|███████▋  | 20/26 [00:01<00:00, 14.59it/s]\rExamining conflict for cairo xorg-libxext xorg-xextproto:  77%|███████▋  | 20/26 [00:01<00:00, 14.59it/s]                       \rExamining conflict for fontconfig cairo xorg-libsm libuuid:  81%|████████  | 21/26 [00:01<00:00, 14.59it/s]\rExamining conflict for cairo xorg-libsm openbabel:  85%|████████▍ | 22/26 [00:01<00:00, 14.59it/s]         \rExamining conflict for cairo xorg-libsm openbabel:  88%|████████▊ | 23/26 [00:01<00:00, 17.44it/s]\rExamining conflict for cairo xorg-libxext openbabel:  88%|████████▊ | 23/26 [00:01<00:00, 17.44it/s]\rExamining conflict for conda glib cairo fontconfig python freetype openbabel:  92%|█████████▏| 24/26 [00:01<00:00, 17.44it/s]\rExamining conflict for xorg-libxext xorg-libxrender cairo xorg-kbproto xorg-libx11:  96%|█████████▌| 25/26 [00:01<00:00, 17.44it/s]\rExamining conflict for xorg-libxext xorg-libxrender cairo xorg-kbproto xorg-libx11: 100%|██████████| 26/26 [00:01<00:00, 19.25it/s]\rExamining conflict for conda python openbabel: 100%|██████████| 26/26 [00:01<00:00, 19.25it/s]                                     \rExamining conflict for fontconfig openbabel: : 27it [00:01, 19.25it/s]                        \rExamining conflict for conda python: : 28it [00:01, 19.25it/s]        \rExamining conflict for conda python: : 29it [00:01, 19.86it/s]\r                                                              \r\n",
            "UnsatisfiableError: The following specifications were found to be incompatible with each other:\n",
            "\n",
            "Output in format: Requested package -> Available versions\n",
            "\n",
            "Package xorg-libxau conflicts for:\n",
            "xorg-libxau\n",
            "libxcb -> xorg-libxau\n",
            "cairo -> libxcb[version='>=1.13,<2.0a0'] -> xorg-libxau\n",
            "xorg-libx11 -> libxcb=1 -> xorg-libxau\n",
            "\n",
            "Package _libgcc_mutex conflicts for:\n",
            "glib -> libgcc-ng[version='>=7.5.0'] -> _libgcc_mutex[version='*|0.1',build=main]\n",
            "freetype -> libgcc-ng[version='>=7.3.0'] -> _libgcc_mutex[version='*|0.1',build=main]\n",
            "xorg-libx11 -> libgcc-ng[version='>=9.3.0'] -> _libgcc_mutex[version='*|0.1',build=main]\n",
            "libxcb -> libgcc-ng[version='>=7.3.0'] -> _libgcc_mutex[version='*|0.1',build=main]\n",
            "fontconfig -> libgcc-ng[version='>=7.3.0'] -> _libgcc_mutex[version='*|0.1',build=main]\n",
            "xorg-libxext -> libgcc-ng[version='>=9.3.0'] -> _libgcc_mutex[version='*|0.1',build=main]\n",
            "xorg-xproto -> libgcc-ng[version='>=7.3.0'] -> _libgcc_mutex[version='*|0.1',build=main]\n",
            "xorg-libxrender -> libgcc-ng[version='>=9.3.0'] -> _libgcc_mutex[version='*|0.1',build=main]\n",
            "xorg-libsm -> libgcc-ng[version='>=9.3.0'] -> _libgcc_mutex[version='*|0.1',build=main]\n",
            "openbabel -> libgcc-ng[version='>=7.5.0'] -> _libgcc_mutex[version='*|0.1',build=main]\n",
            "xorg-libxdmcp -> libgcc-ng[version='>=9.3.0'] -> _libgcc_mutex[version='*|0.1',build=main]\n",
            "libzlib -> libgcc-ng[version='>=7.5.0'] -> _libgcc_mutex[version='*|0.1',build=main]\n",
            "xorg-renderproto -> libgcc-ng[version='>=9.3.0'] -> _libgcc_mutex[version='*|0.1',build=main]\n",
            "libuuid -> libgcc-ng[version='>=7.5.0'] -> _libgcc_mutex[version='*|0.1',build=main]\n",
            "xorg-kbproto -> libgcc-ng[version='>=9.3.0'] -> _libgcc_mutex[version='*|0.1',build=main]\n",
            "xorg-libxau -> libgcc-ng[version='>=9.3.0'] -> _libgcc_mutex[version='*|0.1',build=main]\n",
            "xorg-xextproto -> libgcc-ng[version='>=9.3.0'] -> _libgcc_mutex[version='*|0.1',build=main]\n",
            "python=3.6 -> libgcc-ng[version='>=7.5.0'] -> _libgcc_mutex[version='*|0.1',build=main]\n",
            "cairo -> libgcc-ng[version='>=7.3.0'] -> _libgcc_mutex[version='*|0.1',build=main]\n",
            "pcre -> libgcc-ng[version='>=7.5.0'] -> _libgcc_mutex[version='*|0.1',build=main]\n",
            "xorg-libice -> libgcc-ng[version='>=9.3.0'] -> _libgcc_mutex[version='*|0.1',build=main]\n",
            "\n",
            "Package libstdcxx-ng conflicts for:\n",
            "glib -> libstdcxx-ng[version='>=7.2.0|>=7.3.0|>=7.5.0']\n",
            "pcre -> libstdcxx-ng[version='>=7.2.0|>=7.3.0|>=7.5.0|>=9.3.0']\n",
            "openbabel -> libstdcxx-ng[version='>=7.5.0']\n",
            "fontconfig -> icu[version='>=58.2,<59.0a0'] -> libstdcxx-ng[version='>=7.2.0|>=7.3.0']\n",
            "conda[version='>=4.10.3'] -> python[version='>=3.6,<3.7.0a0'] -> libstdcxx-ng[version='>=7.2.0|>=7.3.0|>=7.5.0']\n",
            "python=3.6 -> libstdcxx-ng[version='>=7.2.0|>=7.3.0|>=7.5.0']\n",
            "cairo -> glib[version='>=2.67.4,<3.0a0'] -> libstdcxx-ng[version='>=7.5.0']\n",
            "cairo -> libstdcxx-ng[version='>=7.2.0|>=7.3.0']\n",
            "glib -> pcre[version='>=8.45,<9.0a0'] -> libstdcxx-ng[version='>=9.3.0']\n",
            "openbabel -> cairo[version='>=1.16.0,<1.17.0a0'] -> libstdcxx-ng[version='>=7.2.0|>=7.3.0']\n",
            "\n",
            "Package xorg-kbproto conflicts for:\n",
            "xorg-libx11 -> xorg-kbproto\n",
            "xorg-libxext -> xorg-libx11[version='>=1.7.0,<2.0a0'] -> xorg-kbproto\n",
            "xorg-libxrender -> xorg-libx11[version='>=1.7.0,<2.0a0'] -> xorg-kbproto\n",
            "cairo -> xorg-libx11 -> xorg-kbproto\n",
            "xorg-kbproto\n",
            "\n",
            "Package xorg-libxrender conflicts for:\n",
            "openbabel -> cairo[version='>=1.16.0,<1.17.0a0'] -> xorg-libxrender\n",
            "cairo -> xorg-libxrender\n",
            "xorg-libxrender\n",
            "\n",
            "Package libffi conflicts for:\n",
            "python=3.6 -> libffi[version='3.2.*|>=3.2.1,<3.3a0|>=3.3,<3.4.0a0']\n",
            "conda[version='>=4.10.3'] -> python[version='>=3.6,<3.7.0a0'] -> libffi[version='3.2.*|>=3.2.1,<3.3a0|>=3.3,<3.4.0a0']\n",
            "cairo -> glib[version='>=2.67.4,<3.0a0'] -> libffi[version='>=3.0.0|>=3.2.1,<3.3a0|>=3.3,<3.4.0a0']\n",
            "glib -> libffi[version='>=3.0.0|>=3.2.1,<3.3a0|>=3.3,<3.4.0a0']\n",
            "openbabel -> python[version='>=3.6,<3.7.0a0'] -> libffi[version='3.2.*|>=3.2.1,<3.3a0|>=3.3,<3.4.0a0']\n",
            "\n",
            "Package libgcc-ng conflicts for:\n",
            "fontconfig -> libuuid[version='>=1.0.3,<2.0a0'] -> libgcc-ng[version='>=7.5.0']\n",
            "xorg-libx11 -> libgcc-ng[version='>=9.3.0']\n",
            "cairo -> libgcc-ng[version='>=7.2.0|>=7.3.0|>=7.5.0']\n",
            "xorg-libxext -> libgcc-ng[version='>=9.3.0']\n",
            "xorg-libice -> libgcc-ng[version='>=9.3.0']\n",
            "openbabel -> libgcc-ng[version='>=7.5.0']\n",
            "xorg-libx11 -> libxcb=1 -> libgcc-ng[version='>=7.2.0|>=7.3.0']\n",
            "xorg-renderproto -> libgcc-ng[version='>=9.3.0']\n",
            "xorg-libxau -> libgcc-ng[version='>=9.3.0']\n",
            "conda[version='>=4.10.3'] -> conda-package-handling[version='>=1.3.0'] -> libgcc-ng[version='>=7.2.0|>=7.3.0|>=7.5.0']\n",
            "xorg-kbproto -> libgcc-ng[version='>=9.3.0']\n",
            "openbabel -> cairo[version='>=1.16.0,<1.17.0a0'] -> libgcc-ng[version='>=7.2.0|>=7.3.0|>=9.3.0']\n",
            "libuuid -> libgcc-ng[version='>=7.2.0|>=7.5.0|>=9.3.0']\n",
            "libxcb -> libgcc-ng[version='>=7.2.0|>=7.3.0|>=9.3.0']\n",
            "libzlib -> libgcc-ng[version='>=7.5.0']\n",
            "xorg-libsm -> libgcc-ng[version='>=9.3.0']\n",
            "pcre -> libgcc-ng[version='>=7.2.0|>=7.3.0|>=7.5.0|>=9.3.0']\n",
            "fontconfig -> libgcc-ng[version='>=7.2.0|>=7.3.0|>=9.3.0']\n",
            "xorg-libxdmcp -> libgcc-ng[version='>=9.3.0']\n",
            "freetype -> libpng[version='>=1.6.37,<1.7.0a0'] -> libgcc-ng[version='>=7.5.0']\n",
            "xorg-xproto -> libgcc-ng[version='>=7.3.0|>=9.3.0']\n",
            "xorg-xextproto -> libgcc-ng[version='>=9.3.0']\n",
            "freetype -> libgcc-ng[version='>=7.2.0|>=7.3.0|>=9.3.0']\n",
            "libxcb -> pthread-stubs -> libgcc-ng[version='>=7.5.0']\n",
            "xorg-libxrender -> libgcc-ng[version='>=9.3.0']\n",
            "glib -> libgcc-ng[version='>=7.2.0|>=7.3.0|>=7.5.0']\n",
            "python=3.6 -> libgcc-ng[version='>=7.2.0|>=7.3.0|>=7.5.0']\n",
            "glib -> pcre[version='>=8.45,<9.0a0'] -> libgcc-ng[version='>=9.3.0']\n",
            "cairo -> fontconfig[version='>=2.13.1,<3.0a0'] -> libgcc-ng[version='>=9.3.0']\n",
            "\n",
            "Package libxcb conflicts for:\n",
            "xorg-libxext -> xorg-libx11[version='>=1.7.0,<2.0a0'] -> libxcb=1\n",
            "xorg-libx11 -> libxcb=1\n",
            "cairo -> xorg-libx11 -> libxcb=1\n",
            "libxcb\n",
            "xorg-libxrender -> xorg-libx11[version='>=1.7.0,<2.0a0'] -> libxcb=1\n",
            "openbabel -> cairo[version='>=1.16.0,<1.17.0a0'] -> libxcb[version='>=1.14,<2.0a0']\n",
            "cairo -> libxcb[version='>=1.12,<2.0a0|>=1.13,<2.0a0|>=1.14,<2.0a0']\n",
            "\n",
            "Package zlib conflicts for:\n",
            "cairo -> zlib[version='>=1.2.11,<1.3.0a0']\n",
            "conda[version='>=4.10.3'] -> python[version='>=3.6,<3.7.0a0'] -> zlib[version='>=1.2.11,<1.3.0a0']\n",
            "python=3.6 -> zlib[version='>=1.2.11,<1.3.0a0']\n",
            "freetype -> zlib[version='>=1.2.11,<1.3.0a0']\n",
            "glib -> zlib[version='>=1.2.11,<1.3.0a0']\n",
            "fontconfig -> freetype[version='>=2.10.4,<3.0a0'] -> zlib[version='>=1.2.11,<1.3.0a0']\n",
            "openbabel -> zlib[version='>=1.2.11,<1.3.0a0']\n",
            "\n",
            "Package freetype conflicts for:\n",
            "cairo -> fontconfig[version='>=2.13.0,<3.0a0'] -> freetype[version='>=2.9,<3.0a0']\n",
            "freetype\n",
            "fontconfig -> freetype[version='>=2.10.4,<3.0a0|>=2.9.1,<3.0a0|>=2.9,<3.0a0|>=2.8,<2.9.0a0']\n",
            "cairo -> freetype[version='>=2.10.4,<3.0a0|>=2.9.1,<3.0a0|>=2.8,<2.9.0a0']\n",
            "openbabel -> cairo[version='>=1.16.0,<1.17.0a0'] -> freetype[version='>=2.10.4,<3.0a0|>=2.9.1,<3.0a0']\n",
            "\n",
            "Package glib conflicts for:\n",
            "openbabel -> cairo[version='>=1.16.0,<1.17.0a0'] -> glib[version='>=2.58.3,<3.0a0|>=2.67.4,<3.0a0']\n",
            "glib\n",
            "cairo -> glib[version='>=2.53.6,<3.0a0|>=2.56.1,<3.0a0|>=2.67.4,<3.0a0|>=2.58.3,<3.0a0']\n",
            "\n",
            "Package xorg-libxext conflicts for:\n",
            "cairo -> xorg-libxext\n",
            "openbabel -> cairo[version='>=1.16.0,<1.17.0a0'] -> xorg-libxext\n",
            "xorg-libxext\n",
            "\n",
            "Package xorg-libxdmcp conflicts for:\n",
            "libxcb -> xorg-libxdmcp\n",
            "xorg-libxdmcp\n",
            "cairo -> libxcb[version='>=1.13,<2.0a0'] -> xorg-libxdmcp\n",
            "xorg-libx11 -> libxcb=1 -> xorg-libxdmcp\n",
            "\n",
            "Package libuuid conflicts for:\n",
            "libuuid\n",
            "xorg-libsm -> libuuid[version='>=2.32.1,<3.0a0']\n",
            "fontconfig -> libuuid[version='>=1.0.3,<2.0a0|>=2.32.1,<3.0a0']\n",
            "cairo -> fontconfig[version='>=2.13.1,<3.0a0'] -> libuuid[version='>=1.0.3,<2.0a0|>=2.32.1,<3.0a0']\n",
            "\n",
            "Package xorg-libice conflicts for:\n",
            "cairo -> xorg-libsm -> xorg-libice=1.0\n",
            "cairo -> xorg-libice\n",
            "openbabel -> cairo[version='>=1.16.0,<1.17.0a0'] -> xorg-libice\n",
            "xorg-libice\n",
            "xorg-libsm -> xorg-libice=1.0\n",
            "\n",
            "Package xorg-xextproto conflicts for:\n",
            "xorg-xextproto\n",
            "xorg-libxext -> xorg-xextproto\n",
            "cairo -> xorg-libxext -> xorg-xextproto\n",
            "\n",
            "Package xorg-renderproto conflicts for:\n",
            "xorg-libxrender -> xorg-renderproto\n",
            "xorg-renderproto\n",
            "cairo -> xorg-libxrender -> xorg-renderproto\n",
            "\n",
            "Package xorg-libx11 conflicts for:\n",
            "openbabel -> cairo[version='>=1.16.0,<1.17.0a0'] -> xorg-libx11\n",
            "xorg-libxext -> xorg-libx11[version='>=1.7.0,<2.0a0']\n",
            "xorg-libx11\n",
            "xorg-libxrender -> xorg-libx11[version='>=1.7.0,<2.0a0']\n",
            "cairo -> xorg-libx11\n",
            "cairo -> xorg-libxext -> xorg-libx11[version='>=1.7.0,<2.0a0']\n",
            "\n",
            "Package xorg-xproto conflicts for:\n",
            "xorg-libx11 -> xorg-xproto\n",
            "xorg-xproto\n",
            "cairo -> xorg-libx11 -> xorg-xproto\n",
            "xorg-libxext -> xorg-libx11[version='>=1.7.0,<2.0a0'] -> xorg-xproto\n",
            "xorg-libxrender -> xorg-libx11[version='>=1.7.0,<2.0a0'] -> xorg-xproto\n",
            "\n",
            "Package cairo conflicts for:\n",
            "openbabel -> cairo[version='>=1.16.0,<1.17.0a0']\n",
            "cairo\n",
            "\n",
            "Package xorg-libsm conflicts for:\n",
            "cairo -> xorg-libsm\n",
            "openbabel -> cairo[version='>=1.16.0,<1.17.0a0'] -> xorg-libsm\n",
            "xorg-libsm\n",
            "\n",
            "Package pcre conflicts for:\n",
            "cairo -> glib[version='>=2.67.4,<3.0a0'] -> pcre[version='>=8.42,<9.0a0|>=8.43,<9.0a0|>=8.44,<9.0a0|>=8.45,<9.0a0']\n",
            "glib -> pcre[version='>=8.42,<9.0a0|>=8.43,<9.0a0|>=8.44,<9.0a0|>=8.45,<9.0a0']\n",
            "pcre\n",
            "\n",
            "Package fontconfig conflicts for:\n",
            "fontconfig\n",
            "cairo -> fontconfig[version='>=2.12.4,<3.0a0|>=2.12.6,<3.0a0|>=2.13.0,<3.0a0|>=2.13.1,<3.0a0']\n",
            "openbabel -> cairo[version='>=1.16.0,<1.17.0a0'] -> fontconfig[version='>=2.13.1,<3.0a0']\n",
            "\n",
            "Package pthread-stubs conflicts for:\n",
            "cairo -> libxcb[version='>=1.13,<2.0a0'] -> pthread-stubs\n",
            "xorg-libx11 -> libxcb=1 -> pthread-stubs\n",
            "libxcb -> pthread-stubs\n",
            "\n",
            "Package xz conflicts for:\n",
            "openbabel -> libxml2[version='>=2.9.10,<2.10.0a0'] -> xz[version='>=5.2.3,<6.0a0|>=5.2.4,<6.0a0|>=5.2.5,<5.3.0a0|>=5.2.5,<6.0a0']\n",
            "fontconfig -> libxml2[version='>=2.9.10,<2.10.0a0'] -> xz[version='>=5.2.3,<6.0a0|>=5.2.4,<6.0a0|>=5.2.5,<5.3.0a0|>=5.2.5,<6.0a0']\n",
            "python=3.6 -> xz[version='>=5.2.3,<6.0a0|>=5.2.4,<6.0a0|>=5.2.5,<6.0a0']\n",
            "conda[version='>=4.10.3'] -> python[version='>=3.6,<3.7.0a0'] -> xz[version='>=5.2.3,<6.0a0|>=5.2.4,<6.0a0|>=5.2.5,<6.0a0']\n",
            "cairo -> xz[version='>=5.2.3,<6.0a0|>=5.2.4,<6.0a0']\n",
            "\n",
            "Package libiconv conflicts for:\n",
            "fontconfig -> libxml2[version='>=2.9.10,<2.10.0a0'] -> libiconv[version='>=1.16,<1.17.0a0']\n",
            "openbabel -> libxml2[version='>=2.9.10,<2.10.0a0'] -> libiconv[version='>=1.16,<1.17.0a0']\n",
            "\n",
            "Package setuptools conflicts for:\n",
            "conda[version='>=4.10.3'] -> setuptools[version='>=31.0.1']\n",
            "python=3.6 -> pip -> setuptoolsThe following specifications were found to be incompatible with your system:\n",
            "\n",
            "  - feature:/linux-64::__glibc==2.27=0\n",
            "  - feature:|@/linux-64::__glibc==2.27=0\n",
            "  - cairo -> libgcc-ng[version='>=7.3.0'] -> __glibc[version='>=2.17']\n",
            "  - fontconfig -> libgcc-ng[version='>=7.3.0'] -> __glibc[version='>=2.17']\n",
            "  - freetype -> libgcc-ng[version='>=7.3.0'] -> __glibc[version='>=2.17']\n",
            "  - glib -> libgcc-ng[version='>=7.5.0'] -> __glibc[version='>=2.17']\n",
            "  - libuuid -> libgcc-ng[version='>=7.5.0'] -> __glibc[version='>=2.17']\n",
            "  - libxcb -> libgcc-ng[version='>=7.3.0'] -> __glibc[version='>=2.17']\n",
            "  - openbabel -> libgcc-ng[version='>=7.5.0'] -> __glibc[version='>=2.17']\n",
            "  - pcre -> libgcc-ng[version='>=7.5.0'] -> __glibc[version='>=2.17']\n",
            "  - python=3.6 -> libgcc-ng[version='>=7.5.0'] -> __glibc[version='>=2.17']\n",
            "  - xorg-kbproto -> libgcc-ng[version='>=9.3.0'] -> __glibc[version='>=2.17']\n",
            "  - xorg-libice -> libgcc-ng[version='>=9.3.0'] -> __glibc[version='>=2.17']\n",
            "  - xorg-libsm -> libgcc-ng[version='>=9.3.0'] -> __glibc[version='>=2.17']\n",
            "  - xorg-libx11 -> libgcc-ng[version='>=9.3.0'] -> __glibc[version='>=2.17']\n",
            "  - xorg-libxau -> libgcc-ng[version='>=9.3.0'] -> __glibc[version='>=2.17']\n",
            "  - xorg-libxdmcp -> libgcc-ng[version='>=9.3.0'] -> __glibc[version='>=2.17']\n",
            "  - xorg-libxext -> libgcc-ng[version='>=9.3.0'] -> __glibc[version='>=2.17']\n",
            "  - xorg-libxrender -> libgcc-ng[version='>=9.3.0'] -> __glibc[version='>=2.17']\n",
            "  - xorg-renderproto -> libgcc-ng[version='>=9.3.0'] -> __glibc[version='>=2.17']\n",
            "  - xorg-xextproto -> libgcc-ng[version='>=9.3.0'] -> __glibc[version='>=2.17']\n",
            "  - xorg-xproto -> libgcc-ng[version='>=7.3.0'] -> __glibc[version='>=2.17']\n",
            "\n",
            "Your installed version is: 2.27\n",
            "\n",
            "\n"
          ]
        }
      ]
    },
    {
      "cell_type": "code",
      "metadata": {
        "id": "6MdxlXL6pHrZ",
        "colab": {
          "base_uri": "https://localhost:8080/"
        },
        "outputId": "4bb55318-a550-40c2-e854-c1bccdb41583"
      },
      "source": [
        "#Installing MGLtools and OpenBabel\n",
        "!conda install mgltools openbabel zlib -c bioconda -c conda-forge --yes"
      ],
      "execution_count": null,
      "outputs": [
        {
          "output_type": "stream",
          "name": "stdout",
          "text": [
            "Collecting package metadata (current_repodata.json): - \b\b\\ \b\b| \b\b/ \b\b- \b\b\\ \b\b| \b\b/ \b\b- \b\b\\ \b\b| \b\b/ \b\b- \b\b\\ \b\b| \b\b/ \b\b- \b\b\\ \b\b| \b\b/ \b\b- \b\b\\ \b\b| \b\b/ \b\b- \b\b\\ \b\b| \b\b/ \b\b- \b\b\\ \b\b| \b\b/ \b\b- \b\b\\ \b\b| \b\b/ \b\b- \b\b\\ \b\b| \b\b/ \b\b- \b\b\\ \b\b| \b\b/ \b\b- \b\b\\ \b\b| \b\b/ \b\b- \b\b\\ \b\b| \b\b/ \b\b- \b\b\\ \b\b| \b\b/ \b\b- \b\b\\ \b\b| \b\b/ \b\b- \b\b\\ \b\b| \b\b/ \b\b- \b\b\\ \b\b| \b\b/ \b\b- \b\b\\ \b\b| \b\b/ \b\b- \b\b\\ \b\b| \b\b/ \b\b- \b\b\\ \b\b| \b\b/ \b\b- \b\b\\ \b\b| \b\b/ \b\b- \b\b\\ \b\bdone\n",
            "Solving environment: / \b\b- \b\b\\ \b\b| \b\b/ \b\b- \b\b\\ \b\b| \b\b/ \b\b- \b\b\\ \b\b| \b\b/ \b\b- \b\b\\ \b\b| \b\b/ \b\b- \b\b\\ \b\b| \b\b/ \b\b- \b\b\\ \b\b| \b\b/ \b\b- \b\b\\ \b\b| \b\b/ \b\b- \b\b\\ \n",
            "The environment is inconsistent, please check the package plan carefully\n",
            "The following packages are causing the inconsistency:\n",
            "\n",
            "  - conda-forge/linux-64::libzlib==1.2.11=h36c2ea0_1013\n",
            "  - conda-forge/linux-64::libxcb==1.13=h7f98852_1003\n",
            "  - conda-forge/linux-64::cairo==1.16.0=h3fc0475_1005\n",
            "  - conda-forge/linux-64::xorg-kbproto==1.0.7=h7f98852_1002\n",
            "  - conda-forge/linux-64::xorg-libxrender==0.9.10=h7f98852_1003\n",
            "  - conda-forge/linux-64::xorg-libsm==1.2.3=hd9c2040_1000\n",
            "  - conda-forge/linux-64::xorg-xextproto==7.3.0=h7f98852_1002\n",
            "  - conda-forge/linux-64::xorg-libice==1.0.10=h7f98852_0\n",
            "  - conda-forge/linux-64::xorg-libxext==1.3.4=h7f98852_1\n",
            "  - conda-forge/linux-64::xorg-xproto==7.0.31=h7f98852_1007\n",
            "  - defaults/linux-64::glib==2.69.1=h5202010_0\n",
            "  - conda-forge/linux-64::xorg-libxdmcp==1.1.3=h7f98852_0\n",
            "  - conda-forge/linux-64::pcre==8.45=h9c3ff4c_0\n",
            "  - conda-forge/linux-64::freetype==2.10.4=h0708190_1\n",
            "  - conda-forge/linux-64::openbabel==3.1.1=py36h5ad5bf2_1\n",
            "  - conda-forge/linux-64::fontconfig==2.13.1=hba837de_1005\n",
            "  - conda-forge/linux-64::xorg-libx11==1.7.2=h7f98852_0\n",
            "  - conda-forge/linux-64::libuuid==2.32.1=h7f98852_1000\n",
            "  - conda-forge/linux-64::xorg-libxau==1.0.9=h7f98852_0\n",
            "  - conda-forge/linux-64::xorg-renderproto==0.11.1=h7f98852_1002\n",
            "\b\b| \b\b/ \b\b- \b\b\\ \b\b| \b\b/ \b\b- \b\b\\ \b\b| \b\b/ \b\b- \b\b\\ \b\b| \b\b/ \b\bdone\n",
            "\n",
            "## Package Plan ##\n",
            "\n",
            "  environment location: /usr/local\n",
            "\n",
            "  added / updated specs:\n",
            "    - mgltools\n",
            "    - openbabel\n",
            "    - zlib\n",
            "\n",
            "\n",
            "The following packages will be downloaded:\n",
            "\n",
            "    package                    |            build\n",
            "    ---------------------------|-----------------\n",
            "    pcre-8.45                  |       h295c915_0         207 KB\n",
            "    ------------------------------------------------------------\n",
            "                                           Total:         207 KB\n",
            "\n",
            "The following packages will be UPDATED:\n",
            "\n",
            "  ca-certificates    pkgs/main::ca-certificates-2021.9.30-~ --> conda-forge::ca-certificates-2021.10.8-ha878542_0\n",
            "  conda              pkgs/main::conda-4.10.3-py36h06a4308_0 --> conda-forge::conda-4.10.3-py36h5fab9bb_2\n",
            "  libgcc-ng                                9.1.0-hdf63c60_0 --> 9.3.0-h5101ec6_17\n",
            "  zlib                    pkgs/main::zlib-1.2.11-ha838bed_2 --> conda-forge::zlib-1.2.11-h36c2ea0_1013\n",
            "\n",
            "The following packages will be SUPERSEDED by a higher-priority channel:\n",
            "\n",
            "  pcre                    conda-forge::pcre-8.45-h9c3ff4c_0 --> pkgs/main::pcre-8.45-h295c915_0\n",
            "\n",
            "\n",
            "\n",
            "Downloading and Extracting Packages\n",
            "pcre-8.45            | 207 KB    | : 100% 1.0/1 [00:00<00:00,  6.57it/s]               \n",
            "Preparing transaction: \\ \b\bdone\n",
            "Verifying transaction: / \b\bdone\n",
            "Executing transaction: \\ \b\bdone\n"
          ]
        }
      ]
    },
    {
      "cell_type": "markdown",
      "metadata": {
        "id": "T8Mbw9KE6Xss"
      },
      "source": [
        "4. Finally, we will download the Autodock Vina program from the Scripps website and make an alias to use it during this session"
      ]
    },
    {
      "cell_type": "code",
      "metadata": {
        "colab": {
          "base_uri": "https://localhost:8080/"
        },
        "id": "C0hUnYRQCF4t",
        "outputId": "d59b66f2-8aca-47f8-d636-4fb4e62183f5"
      },
      "source": [
        "!wget https://vina.scripps.edu/wp-content/uploads/sites/55/2020/12/autodock_vina_1_1_2_linux_x86.tgz --no-check-certificate"
      ],
      "execution_count": null,
      "outputs": [
        {
          "output_type": "stream",
          "name": "stdout",
          "text": [
            "--2021-10-26 14:38:38--  https://vina.scripps.edu/wp-content/uploads/sites/55/2020/12/autodock_vina_1_1_2_linux_x86.tgz\n",
            "Resolving vina.scripps.edu (vina.scripps.edu)... 192.26.252.19\n",
            "Connecting to vina.scripps.edu (vina.scripps.edu)|192.26.252.19|:443... connected.\n",
            "WARNING: cannot verify vina.scripps.edu's certificate, issued by ‘CN=DigiCert TLS RSA SHA256 2020 CA1,O=DigiCert Inc,C=US’:\n",
            "  Unable to locally verify the issuer's authority.\n",
            "HTTP request sent, awaiting response... 200 OK\n",
            "Length: 1238242 (1.2M) [application/x-gzip]\n",
            "Saving to: ‘autodock_vina_1_1_2_linux_x86.tgz’\n",
            "\n",
            "autodock_vina_1_1_2 100%[===================>]   1.18M  3.75MB/s    in 0.3s    \n",
            "\n",
            "2021-10-26 14:38:39 (3.75 MB/s) - ‘autodock_vina_1_1_2_linux_x86.tgz’ saved [1238242/1238242]\n",
            "\n"
          ]
        }
      ]
    },
    {
      "cell_type": "code",
      "metadata": {
        "id": "k4UpudGkCUYn",
        "colab": {
          "base_uri": "https://localhost:8080/"
        },
        "outputId": "b313f921-994c-4258-da4a-cd44702c1a5d"
      },
      "source": [
        "#Download and extract Autodock Vina from SCRIPPS\n",
        "#Then, we set up an alias for vina to be treated as a native binary\n",
        "%%bash\n",
        "tar xzvf autodock_vina_1_1_2_linux_x86.tgz"
      ],
      "execution_count": null,
      "outputs": [
        {
          "output_type": "stream",
          "name": "stdout",
          "text": [
            "autodock_vina_1_1_2_linux_x86/\n",
            "autodock_vina_1_1_2_linux_x86/LICENSE\n",
            "autodock_vina_1_1_2_linux_x86/bin/\n",
            "autodock_vina_1_1_2_linux_x86/bin/vina\n",
            "autodock_vina_1_1_2_linux_x86/bin/vina_split\n"
          ]
        }
      ]
    },
    {
      "cell_type": "code",
      "metadata": {
        "id": "s-4Jw2Om7GEn"
      },
      "source": [
        "alias vina /content/autodock_vina_1_1_2_linux_x86/bin/vina"
      ],
      "execution_count": null,
      "outputs": []
    },
    {
      "cell_type": "code",
      "metadata": {
        "id": "pebHw84YDj-5",
        "colab": {
          "base_uri": "https://localhost:8080/"
        },
        "outputId": "6d91c563-28b1-43f8-b18a-5280754df37c"
      },
      "source": [
        "!/content/autodock_vina_1_1_2_linux_x86/bin/vina --help"
      ],
      "execution_count": null,
      "outputs": [
        {
          "output_type": "stream",
          "name": "stdout",
          "text": [
            "\n",
            "Input:\n",
            "  --receptor arg        rigid part of the receptor (PDBQT)\n",
            "  --flex arg            flexible side chains, if any (PDBQT)\n",
            "  --ligand arg          ligand (PDBQT)\n",
            "\n",
            "Search space (required):\n",
            "  --center_x arg        X coordinate of the center\n",
            "  --center_y arg        Y coordinate of the center\n",
            "  --center_z arg        Z coordinate of the center\n",
            "  --size_x arg          size in the X dimension (Angstroms)\n",
            "  --size_y arg          size in the Y dimension (Angstroms)\n",
            "  --size_z arg          size in the Z dimension (Angstroms)\n",
            "\n",
            "Output (optional):\n",
            "  --out arg             output models (PDBQT), the default is chosen based on \n",
            "                        the ligand file name\n",
            "  --log arg             optionally, write log file\n",
            "\n",
            "Misc (optional):\n",
            "  --cpu arg                 the number of CPUs to use (the default is to try to\n",
            "                            detect the number of CPUs or, failing that, use 1)\n",
            "  --seed arg                explicit random seed\n",
            "  --exhaustiveness arg (=8) exhaustiveness of the global search (roughly \n",
            "                            proportional to time): 1+\n",
            "  --num_modes arg (=9)      maximum number of binding modes to generate\n",
            "  --energy_range arg (=3)   maximum energy difference between the best binding \n",
            "                            mode and the worst one displayed (kcal/mol)\n",
            "\n",
            "Configuration file (optional):\n",
            "  --config arg          the above options can be put here\n",
            "\n",
            "Information (optional):\n",
            "  --help                display usage summary\n",
            "  --help_advanced       display usage summary with advanced options\n",
            "  --version             display program version\n",
            "\n"
          ]
        }
      ]
    },
    {
      "cell_type": "markdown",
      "metadata": {
        "id": "bMaDj9PdZNlL"
      },
      "source": [
        "#Part 1 – Загрузка и обработка структуры рецептора для докинга."
      ]
    },
    {
      "cell_type": "markdown",
      "metadata": {
        "id": "NGNLlfnU748_"
      },
      "source": [
        "1. Для начала вам нужна структура белка в который вы хотите провести докинг. Напомню, что докинг - это попытка предсказать энергию и\\или геометрию связывания белка и лиганда. Расшифрованные из экспериментальных данных структуры белков лежат в базе данных **Protein Data Bank (PDB)** (https://www.rcsb.org/pdb) каждому белку присвен четырехсимвольных итдентификатор. Зайдя на сайт PDB, в поиске вы можете найти интересующий вас белок.\n",
        "\n",
        "  В этом примере мы будем брыть структуру 1HSG. Ее можно скачать из PDB с помощью *wget* и разархивировать *gzip."
      ]
    },
    {
      "cell_type": "code",
      "metadata": {
        "id": "9j_NvhBRhVA0",
        "colab": {
          "base_uri": "https://localhost:8080/"
        },
        "outputId": "a10e968c-ab5e-4d15-db59-dcc74f4f33cd"
      },
      "source": [
        "#Download a protein structure from PDB using and extract it\n",
        "#!wget http://www.rcsb.org/pdb/files/[PDB_ID].pdb.gz\n",
        "#!gzip -d [PDB_ID].pdb.gz \n",
        "#DO IT YOURSELF!\n",
        "!wget http://www.rcsb.org/pdb/files/1HSG.pdb.gz\n",
        "!gzip -d 1HSG.pdb.gz "
      ],
      "execution_count": null,
      "outputs": [
        {
          "output_type": "stream",
          "name": "stdout",
          "text": [
            "URL transformed to HTTPS due to an HSTS policy\n",
            "--2021-10-26 14:06:08--  https://www.rcsb.org/pdb/files/1HSG.pdb.gz\n",
            "Resolving www.rcsb.org (www.rcsb.org)... 128.6.159.248\n",
            "Connecting to www.rcsb.org (www.rcsb.org)|128.6.159.248|:443... connected.\n",
            "HTTP request sent, awaiting response... 301 Moved Permanently\n",
            "Location: https://files.rcsb.org/download/1HSG.pdb.gz [following]\n",
            "--2021-10-26 14:06:08--  https://files.rcsb.org/download/1HSG.pdb.gz\n",
            "Resolving files.rcsb.org (files.rcsb.org)... 132.249.210.234\n",
            "Connecting to files.rcsb.org (files.rcsb.org)|132.249.210.234|:443... connected.\n",
            "HTTP request sent, awaiting response... 200 OK\n",
            "Length: 39868 (39K) [application/octet-stream]\n",
            "Saving to: ‘1HSG.pdb.gz’\n",
            "\n",
            "1HSG.pdb.gz         100%[===================>]  38.93K  --.-KB/s    in 0.05s   \n",
            "\n",
            "2021-10-26 14:06:09 (772 KB/s) - ‘1HSG.pdb.gz’ saved [39868/39868]\n",
            "\n",
            "gzip: 1HSG.pdb already exists; do you wish to overwrite (y or n)? ^C\n"
          ]
        }
      ]
    },
    {
      "cell_type": "markdown",
      "metadata": {
        "id": "rGxSfayJ9OCP"
      },
      "source": [
        "2. В загруженной структуре помимо атомов белка могут быть атом сторонных молекул (например закристаллизовавшейся воды, кофакторов и прочих неинтересующих нас объектов)\n",
        "\n",
        "  Обычно строки записей атомов самого белка в файле формата pdb начинаются с кодового слова **\"ATOM\"**, атомы сторонних соединений с кодового слова **\"HETATM\"**. Также обычно после последнего атома каждой отдельной белковой молекулы принято записывать виртуальный атом **\"TER\"**.\n",
        "\n",
        "Скрипт снизу удаляет из файла рецептора все лишние и ненужные нам в дальнейшей работы записи. "
      ]
    },
    {
      "cell_type": "code",
      "metadata": {
        "id": "_iZeeP0_BrpV",
        "colab": {
          "base_uri": "https://localhost:8080/"
        },
        "outputId": "ae2a3625-0896-4015-d852-054f8405445f"
      },
      "source": [
        "#This script will create a folder called \"single-docking\" for our experiment\n",
        "#Then, it will print all \"ATOM\" and \"TER\" lines from a given PDB into a new file\n",
        "\n",
        "#Let's make a folder first. We need to import the os and path library\n",
        "import os\n",
        "from pathlib import Path \n",
        "\n",
        "#Then, we define the path of the folder we want to create.\n",
        "#Notice that the HOME folder for a hosted runtime in colab is /content/\n",
        "singlepath = Path(\"/content/single-dock/\")\n",
        "\n",
        "#Now, we create the folder using the os.mkdir() command\n",
        "#The if conditional is just to check whether the folder already exists\n",
        "#In which case, python returns an error\n",
        "if os.path.exists(singlepath):\n",
        "  print(\"path already exists\")\n",
        "if not os.path.exists(singlepath):\n",
        "  os.mkdir(singlepath)\n",
        "  print(\"path was succesfully created\")\n",
        "\n",
        "#Now we assign a variable \"protein\" with the name and extension of our pdb\n",
        "protein = \"1HSG.pdb\"\n",
        "\n",
        "#And we use the following script to selectively print the lines that contain the\n",
        "#string \"ATOM\" and \"TER\" into a new file inside our recently created folder\n",
        "with open(singlepath / \"1HSG_prot.pdb\",\"w\") as g:\n",
        "  f = open(protein,'r')\n",
        "  for line in f:\n",
        "    row = line.split()\n",
        "    if row[0] == \"ATOM\":\n",
        "      g.write(line)\n",
        "    elif row[0] == \"TER\":\n",
        "      g.write(\"TER\\n\")\n",
        "  g.write(\"END\")\n",
        "  print(\"file successfully created\")"
      ],
      "execution_count": null,
      "outputs": [
        {
          "output_type": "stream",
          "name": "stdout",
          "text": [
            "path already exists\n",
            "file successfully created\n"
          ]
        }
      ]
    },
    {
      "cell_type": "markdown",
      "metadata": {
        "id": "Qzw3p0A04Yol"
      },
      "source": [
        "Дальше нам нужно очищенный файл формата pdb перевести в фармат принимаемый программой для докинга. Так же, если структура которую вы используете была получена методом рентгеновской кристаллографии, то с большой вероятностью там не будет протонов, в таком случае их нужно добавить (в этом примере как раз такой случай).\n",
        "\n",
        "Обратите внимание, к большому сожалению, эти скрипты написаны еще на втором питоне."
      ]
    },
    {
      "cell_type": "code",
      "metadata": {
        "id": "2CdkBcwcQxk8",
        "colab": {
          "base_uri": "https://localhost:8080/"
        },
        "outputId": "0bb9d53f-9b50-428e-ffbb-01c3c153b825"
      },
      "source": [
        "#Parameterizing and adding Gasteiger charges into our protein using MGLtools\n",
        "!python2 /usr/local/bin/prepare_receptor4.py -r $singlepath/1HSG_prot.pdb -o $singlepath/1HSG_prot.pdbqt -A hydrogens -U nphs_lps -v"
      ],
      "execution_count": null,
      "outputs": [
        {
          "output_type": "stream",
          "name": "stdout",
          "text": [
            "set verbose to  True\n",
            "read  /content/single-dock/1HSG_prot.pdb\n",
            "setting up RPO with mode= automatic and outputfilename=  /content/single-dock/1HSG_prot.pdbqt\n",
            "charges_to_add= gasteiger\n",
            "delete_single_nonstd_residues= None\n",
            "adding gasteiger charges to peptide\n"
          ]
        }
      ]
    },
    {
      "cell_type": "markdown",
      "metadata": {
        "id": "Mg5oSpCb_9AO"
      },
      "source": [
        "Дальнейшая предобработка."
      ]
    },
    {
      "cell_type": "code",
      "metadata": {
        "id": "Gvq9H_C6DJvU",
        "colab": {
          "base_uri": "https://localhost:8080/"
        },
        "outputId": "ff842aca-7457-4eb7-dfe7-a379f198c378"
      },
      "source": [
        "#First, using pdb2pqr to parameterize our receptor with AMBER99ff, maintaining\n",
        "#the chain IDs and setting up the receptor at a pH of 7.4\n",
        "!pdb2pqr --ff=amber --chain --with-ph=7.4 --verbose $singlepath/1HSG_prot.pdb $singlepath/1HSG_prot.pqr\n",
        "\n",
        "#Then, convert the .pqr file into a .pdbqt file while deleting non-polar\n",
        "#hydrogens but without changing the AMBER parameters added to the protein\n",
        "!python2 /usr/local/bin/prepare_receptor4.py -r $singlepath/1HSG_prot.pqr -o $singlepath/1HSG_prot.pdbqt -C -U nphs_lps -v"
      ],
      "execution_count": null,
      "outputs": [
        {
          "output_type": "stream",
          "name": "stdout",
          "text": [
            "\n",
            "--------------------------\n",
            "PDB2PQR - a Python-based structural conversion utility\n",
            "--------------------------\n",
            "Please cite your use of PDB2PQR as:\n",
            "  Dolinsky TJ, Nielsen JE, McCammon JA, Baker NA.\n",
            "  PDB2PQR: an automated pipeline for the setup, execution,\n",
            "  and analysis of Poisson-Boltzmann electrostatics calculations.\n",
            "  Nucleic Acids Research 32 W665-W667 (2004).\n",
            "\n",
            "Beginning PDB2PQR...\n",
            "\n",
            "Parsed Amino Acid definition file.\n",
            "Created protein object -\n",
            "\tNumber of residues in protein: 198\n",
            "\tNumber of atoms in protein   : 1514\n",
            "Setting the termini... \n",
            "\tPATCH INFO: PRO A 1 patched with NEUTRAL-NTERM\n",
            "\tPATCH INFO: PHE A 99 patched with CTERM\n",
            "\tPATCH INFO: PRO B 1 patched with NEUTRAL-NTERM\n",
            "\tPATCH INFO: PHE B 99 patched with CTERM\n",
            "Done.\n",
            "\tPATCH INFO: GLN A 2 patched with PEPTIDE\n",
            "\tPATCH INFO: ILE A 3 patched with PEPTIDE\n",
            "\tPATCH INFO: THR A 4 patched with PEPTIDE\n",
            "\tPATCH INFO: LEU A 5 patched with PEPTIDE\n",
            "\tPATCH INFO: TRP A 6 patched with PEPTIDE\n",
            "\tPATCH INFO: GLN A 7 patched with PEPTIDE\n",
            "\tPATCH INFO: ARG A 8 patched with PEPTIDE\n",
            "\tPATCH INFO: PRO A 9 patched with PEPTIDE\n",
            "\tPATCH INFO: LEU A 10 patched with PEPTIDE\n",
            "\tPATCH INFO: VAL A 11 patched with PEPTIDE\n",
            "\tPATCH INFO: THR A 12 patched with PEPTIDE\n",
            "\tPATCH INFO: ILE A 13 patched with PEPTIDE\n",
            "\tPATCH INFO: LYS A 14 patched with PEPTIDE\n",
            "\tPATCH INFO: ILE A 15 patched with PEPTIDE\n",
            "\tPATCH INFO: GLY A 16 patched with PEPTIDE\n",
            "\tPATCH INFO: GLY A 17 patched with PEPTIDE\n",
            "\tPATCH INFO: GLN A 18 patched with PEPTIDE\n",
            "\tPATCH INFO: LEU A 19 patched with PEPTIDE\n",
            "\tPATCH INFO: LYS A 20 patched with PEPTIDE\n",
            "\tPATCH INFO: GLU A 21 patched with PEPTIDE\n",
            "\tPATCH INFO: ALA A 22 patched with PEPTIDE\n",
            "\tPATCH INFO: LEU A 23 patched with PEPTIDE\n",
            "\tPATCH INFO: LEU A 24 patched with PEPTIDE\n",
            "\tPATCH INFO: ASP A 25 patched with PEPTIDE\n",
            "\tPATCH INFO: THR A 26 patched with PEPTIDE\n",
            "\tPATCH INFO: GLY A 27 patched with PEPTIDE\n",
            "\tPATCH INFO: ALA A 28 patched with PEPTIDE\n",
            "\tPATCH INFO: ASP A 29 patched with PEPTIDE\n",
            "\tPATCH INFO: ASP A 30 patched with PEPTIDE\n",
            "\tPATCH INFO: THR A 31 patched with PEPTIDE\n",
            "\tPATCH INFO: VAL A 32 patched with PEPTIDE\n",
            "\tPATCH INFO: LEU A 33 patched with PEPTIDE\n",
            "\tPATCH INFO: GLU A 34 patched with PEPTIDE\n",
            "\tPATCH INFO: GLU A 35 patched with PEPTIDE\n",
            "\tPATCH INFO: MET A 36 patched with PEPTIDE\n",
            "\tPATCH INFO: SER A 37 patched with PEPTIDE\n",
            "\tPATCH INFO: LEU A 38 patched with PEPTIDE\n",
            "\tPATCH INFO: PRO A 39 patched with PEPTIDE\n",
            "\tPATCH INFO: GLY A 40 patched with PEPTIDE\n",
            "\tPATCH INFO: ARG A 41 patched with PEPTIDE\n",
            "\tPATCH INFO: TRP A 42 patched with PEPTIDE\n",
            "\tPATCH INFO: LYS A 43 patched with PEPTIDE\n",
            "\tPATCH INFO: PRO A 44 patched with PEPTIDE\n",
            "\tPATCH INFO: LYS A 45 patched with PEPTIDE\n",
            "\tPATCH INFO: MET A 46 patched with PEPTIDE\n",
            "\tPATCH INFO: ILE A 47 patched with PEPTIDE\n",
            "\tPATCH INFO: GLY A 48 patched with PEPTIDE\n",
            "\tPATCH INFO: GLY A 49 patched with PEPTIDE\n",
            "\tPATCH INFO: ILE A 50 patched with PEPTIDE\n",
            "\tPATCH INFO: GLY A 51 patched with PEPTIDE\n",
            "\tPATCH INFO: GLY A 52 patched with PEPTIDE\n",
            "\tPATCH INFO: PHE A 53 patched with PEPTIDE\n",
            "\tPATCH INFO: ILE A 54 patched with PEPTIDE\n",
            "\tPATCH INFO: LYS A 55 patched with PEPTIDE\n",
            "\tPATCH INFO: VAL A 56 patched with PEPTIDE\n",
            "\tPATCH INFO: ARG A 57 patched with PEPTIDE\n",
            "\tPATCH INFO: GLN A 58 patched with PEPTIDE\n",
            "\tPATCH INFO: TYR A 59 patched with PEPTIDE\n",
            "\tPATCH INFO: ASP A 60 patched with PEPTIDE\n",
            "\tPATCH INFO: GLN A 61 patched with PEPTIDE\n",
            "\tPATCH INFO: ILE A 62 patched with PEPTIDE\n",
            "\tPATCH INFO: LEU A 63 patched with PEPTIDE\n",
            "\tPATCH INFO: ILE A 64 patched with PEPTIDE\n",
            "\tPATCH INFO: GLU A 65 patched with PEPTIDE\n",
            "\tPATCH INFO: ILE A 66 patched with PEPTIDE\n",
            "\tPATCH INFO: CYS A 67 patched with PEPTIDE\n",
            "\tPATCH INFO: GLY A 68 patched with PEPTIDE\n",
            "\tPATCH INFO: HIS A 69 patched with PEPTIDE\n",
            "\tPATCH INFO: LYS A 70 patched with PEPTIDE\n",
            "\tPATCH INFO: ALA A 71 patched with PEPTIDE\n",
            "\tPATCH INFO: ILE A 72 patched with PEPTIDE\n",
            "\tPATCH INFO: GLY A 73 patched with PEPTIDE\n",
            "\tPATCH INFO: THR A 74 patched with PEPTIDE\n",
            "\tPATCH INFO: VAL A 75 patched with PEPTIDE\n",
            "\tPATCH INFO: LEU A 76 patched with PEPTIDE\n",
            "\tPATCH INFO: VAL A 77 patched with PEPTIDE\n",
            "\tPATCH INFO: GLY A 78 patched with PEPTIDE\n",
            "\tPATCH INFO: PRO A 79 patched with PEPTIDE\n",
            "\tPATCH INFO: THR A 80 patched with PEPTIDE\n",
            "\tPATCH INFO: PRO A 81 patched with PEPTIDE\n",
            "\tPATCH INFO: VAL A 82 patched with PEPTIDE\n",
            "\tPATCH INFO: ASN A 83 patched with PEPTIDE\n",
            "\tPATCH INFO: ILE A 84 patched with PEPTIDE\n",
            "\tPATCH INFO: ILE A 85 patched with PEPTIDE\n",
            "\tPATCH INFO: GLY A 86 patched with PEPTIDE\n",
            "\tPATCH INFO: ARG A 87 patched with PEPTIDE\n",
            "\tPATCH INFO: ASN A 88 patched with PEPTIDE\n",
            "\tPATCH INFO: LEU A 89 patched with PEPTIDE\n",
            "\tPATCH INFO: LEU A 90 patched with PEPTIDE\n",
            "\tPATCH INFO: THR A 91 patched with PEPTIDE\n",
            "\tPATCH INFO: GLN A 92 patched with PEPTIDE\n",
            "\tPATCH INFO: ILE A 93 patched with PEPTIDE\n",
            "\tPATCH INFO: GLY A 94 patched with PEPTIDE\n",
            "\tPATCH INFO: CYS A 95 patched with PEPTIDE\n",
            "\tPATCH INFO: THR A 96 patched with PEPTIDE\n",
            "\tPATCH INFO: LEU A 97 patched with PEPTIDE\n",
            "\tPATCH INFO: ASN A 98 patched with PEPTIDE\n",
            "\tPATCH INFO: GLN B 2 patched with PEPTIDE\n",
            "\tPATCH INFO: ILE B 3 patched with PEPTIDE\n",
            "\tPATCH INFO: THR B 4 patched with PEPTIDE\n",
            "\tPATCH INFO: LEU B 5 patched with PEPTIDE\n",
            "\tPATCH INFO: TRP B 6 patched with PEPTIDE\n",
            "\tPATCH INFO: GLN B 7 patched with PEPTIDE\n",
            "\tPATCH INFO: ARG B 8 patched with PEPTIDE\n",
            "\tPATCH INFO: PRO B 9 patched with PEPTIDE\n",
            "\tPATCH INFO: LEU B 10 patched with PEPTIDE\n",
            "\tPATCH INFO: VAL B 11 patched with PEPTIDE\n",
            "\tPATCH INFO: THR B 12 patched with PEPTIDE\n",
            "\tPATCH INFO: ILE B 13 patched with PEPTIDE\n",
            "\tPATCH INFO: LYS B 14 patched with PEPTIDE\n",
            "\tPATCH INFO: ILE B 15 patched with PEPTIDE\n",
            "\tPATCH INFO: GLY B 16 patched with PEPTIDE\n",
            "\tPATCH INFO: GLY B 17 patched with PEPTIDE\n",
            "\tPATCH INFO: GLN B 18 patched with PEPTIDE\n",
            "\tPATCH INFO: LEU B 19 patched with PEPTIDE\n",
            "\tPATCH INFO: LYS B 20 patched with PEPTIDE\n",
            "\tPATCH INFO: GLU B 21 patched with PEPTIDE\n",
            "\tPATCH INFO: ALA B 22 patched with PEPTIDE\n",
            "\tPATCH INFO: LEU B 23 patched with PEPTIDE\n",
            "\tPATCH INFO: LEU B 24 patched with PEPTIDE\n",
            "\tPATCH INFO: ASP B 25 patched with PEPTIDE\n",
            "\tPATCH INFO: THR B 26 patched with PEPTIDE\n",
            "\tPATCH INFO: GLY B 27 patched with PEPTIDE\n",
            "\tPATCH INFO: ALA B 28 patched with PEPTIDE\n",
            "\tPATCH INFO: ASP B 29 patched with PEPTIDE\n",
            "\tPATCH INFO: ASP B 30 patched with PEPTIDE\n",
            "\tPATCH INFO: THR B 31 patched with PEPTIDE\n",
            "\tPATCH INFO: VAL B 32 patched with PEPTIDE\n",
            "\tPATCH INFO: LEU B 33 patched with PEPTIDE\n",
            "\tPATCH INFO: GLU B 34 patched with PEPTIDE\n",
            "\tPATCH INFO: GLU B 35 patched with PEPTIDE\n",
            "\tPATCH INFO: MET B 36 patched with PEPTIDE\n",
            "\tPATCH INFO: SER B 37 patched with PEPTIDE\n",
            "\tPATCH INFO: LEU B 38 patched with PEPTIDE\n",
            "\tPATCH INFO: PRO B 39 patched with PEPTIDE\n",
            "\tPATCH INFO: GLY B 40 patched with PEPTIDE\n",
            "\tPATCH INFO: ARG B 41 patched with PEPTIDE\n",
            "\tPATCH INFO: TRP B 42 patched with PEPTIDE\n",
            "\tPATCH INFO: LYS B 43 patched with PEPTIDE\n",
            "\tPATCH INFO: PRO B 44 patched with PEPTIDE\n",
            "\tPATCH INFO: LYS B 45 patched with PEPTIDE\n",
            "\tPATCH INFO: MET B 46 patched with PEPTIDE\n",
            "\tPATCH INFO: ILE B 47 patched with PEPTIDE\n",
            "\tPATCH INFO: GLY B 48 patched with PEPTIDE\n",
            "\tPATCH INFO: GLY B 49 patched with PEPTIDE\n",
            "\tPATCH INFO: ILE B 50 patched with PEPTIDE\n",
            "\tPATCH INFO: GLY B 51 patched with PEPTIDE\n",
            "\tPATCH INFO: GLY B 52 patched with PEPTIDE\n",
            "\tPATCH INFO: PHE B 53 patched with PEPTIDE\n",
            "\tPATCH INFO: ILE B 54 patched with PEPTIDE\n",
            "\tPATCH INFO: LYS B 55 patched with PEPTIDE\n",
            "\tPATCH INFO: VAL B 56 patched with PEPTIDE\n",
            "\tPATCH INFO: ARG B 57 patched with PEPTIDE\n",
            "\tPATCH INFO: GLN B 58 patched with PEPTIDE\n",
            "\tPATCH INFO: TYR B 59 patched with PEPTIDE\n",
            "\tPATCH INFO: ASP B 60 patched with PEPTIDE\n",
            "\tPATCH INFO: GLN B 61 patched with PEPTIDE\n",
            "\tPATCH INFO: ILE B 62 patched with PEPTIDE\n",
            "\tPATCH INFO: LEU B 63 patched with PEPTIDE\n",
            "\tPATCH INFO: ILE B 64 patched with PEPTIDE\n",
            "\tPATCH INFO: GLU B 65 patched with PEPTIDE\n",
            "\tPATCH INFO: ILE B 66 patched with PEPTIDE\n",
            "\tPATCH INFO: CYS B 67 patched with PEPTIDE\n",
            "\tPATCH INFO: GLY B 68 patched with PEPTIDE\n",
            "\tPATCH INFO: HIS B 69 patched with PEPTIDE\n",
            "\tPATCH INFO: LYS B 70 patched with PEPTIDE\n",
            "\tPATCH INFO: ALA B 71 patched with PEPTIDE\n",
            "\tPATCH INFO: ILE B 72 patched with PEPTIDE\n",
            "\tPATCH INFO: GLY B 73 patched with PEPTIDE\n",
            "\tPATCH INFO: THR B 74 patched with PEPTIDE\n",
            "\tPATCH INFO: VAL B 75 patched with PEPTIDE\n",
            "\tPATCH INFO: LEU B 76 patched with PEPTIDE\n",
            "\tPATCH INFO: VAL B 77 patched with PEPTIDE\n",
            "\tPATCH INFO: GLY B 78 patched with PEPTIDE\n",
            "\tPATCH INFO: PRO B 79 patched with PEPTIDE\n",
            "\tPATCH INFO: THR B 80 patched with PEPTIDE\n",
            "\tPATCH INFO: PRO B 81 patched with PEPTIDE\n",
            "\tPATCH INFO: VAL B 82 patched with PEPTIDE\n",
            "\tPATCH INFO: ASN B 83 patched with PEPTIDE\n",
            "\tPATCH INFO: ILE B 84 patched with PEPTIDE\n",
            "\tPATCH INFO: ILE B 85 patched with PEPTIDE\n",
            "\tPATCH INFO: GLY B 86 patched with PEPTIDE\n",
            "\tPATCH INFO: ARG B 87 patched with PEPTIDE\n",
            "\tPATCH INFO: ASN B 88 patched with PEPTIDE\n",
            "\tPATCH INFO: LEU B 89 patched with PEPTIDE\n",
            "\tPATCH INFO: LEU B 90 patched with PEPTIDE\n",
            "\tPATCH INFO: THR B 91 patched with PEPTIDE\n",
            "\tPATCH INFO: GLN B 92 patched with PEPTIDE\n",
            "\tPATCH INFO: ILE B 93 patched with PEPTIDE\n",
            "\tPATCH INFO: GLY B 94 patched with PEPTIDE\n",
            "\tPATCH INFO: CYS B 95 patched with PEPTIDE\n",
            "\tPATCH INFO: THR B 96 patched with PEPTIDE\n",
            "\tPATCH INFO: LEU B 97 patched with PEPTIDE\n",
            "\tPATCH INFO: ASN B 98 patched with PEPTIDE\n",
            "Checking for missing heavy atoms... \n",
            "\tMissing OXT in PHE A 99\n",
            "\tMissing OXT in PHE B 99\n",
            "Missing 2 out of 1516 heavy atoms (0.13 percent) - Will attempt to repair.\n",
            "Rebuilding missing heavy atoms... \n",
            "\tAdded OXT to PHE A 99 at coordinates 26.780 34.489 -10.125\n",
            "\tAdded OXT to PHE B 99 at coordinates 26.380 42.929 4.902\n",
            "Done.\n",
            "Updating SS bridges...\n",
            "\tCYS B 67 is a free cysteine\n",
            "\tCYS B 95 is a free cysteine\n",
            "\tCYS A 67 is a free cysteine\n",
            "\tCYS A 95 is a free cysteine\n",
            "Done.\n",
            "Checking if we must debump any residues... \n",
            "Done.\n",
            "Adding hydrogens to the protein...\n",
            " Added 1614 hydrogen atoms.\n",
            "Checking if we must debump any residues... \n",
            "Done.\n",
            "Initializing full optimization...\n",
            "Done.\n",
            "Optimization progress:\n",
            "  Detecting potential hydrogen bonds:\n",
            "\t0% |                    | 100%\n",
            "\t    ********************\n",
            "  Optimizing hydrogen bonds:\n",
            "\t0% |                    | 100%\n",
            "\t    ********************\n",
            "Applying the forcefield to the protein...Done.\n",
            "Total time taken: 0.94 seconds\n",
            "\n",
            "set verbose to  True\n",
            "read  /content/single-dock/1HSG_prot.pqr\n",
            "setting up RPO with mode= automatic and outputfilename=  /content/single-dock/1HSG_prot.pdbqt\n",
            "charges_to_add= None\n",
            "delete_single_nonstd_residues= None\n"
          ]
        }
      ]
    },
    {
      "cell_type": "markdown",
      "metadata": {
        "id": "B4j--lVNGsDg"
      },
      "source": [
        "#Part 2 – Загрузка и предподготовка файла лиганда."
      ]
    },
    {
      "cell_type": "markdown",
      "metadata": {
        "id": "Feav4RTWH3Ol"
      },
      "source": [
        "1. В этом туториале мы будем в качестве лиганда подготавливать молекулу Индинавира,поскольку работаем с HIV-2 протеазой."
      ]
    },
    {
      "cell_type": "code",
      "metadata": {
        "id": "LX_ojmvdBTd4",
        "colab": {
          "base_uri": "https://localhost:8080/"
        },
        "outputId": "5c2af4bc-212b-4808-d316-54b9b62495ee"
      },
      "source": [
        "#Let's make a folder first. We need to import the os and path library\n",
        "import os\n",
        "from pathlib import Path\n",
        "\n",
        "#We will first create a path for all ligands that we will use in this tutorial\n",
        "#Notice that the HOME folder for a hosted runtime in colab is /content/\n",
        "ligandpath = Path(\"/content/ligands/\")\n",
        "\n",
        "#Now, we create the folder using the os.mkdir() command\n",
        "#The if conditional is just to check whether the folder already exists\n",
        "#In which case, python returns an error\n",
        "if os.path.exists(ligandpath):\n",
        "  print(\"ligand path already exists\")\n",
        "if not os.path.exists(ligandpath):\n",
        "  os.mkdir(ligandpath)\n",
        "  print(\"ligand path was succesfully created\")"
      ],
      "execution_count": null,
      "outputs": [
        {
          "output_type": "stream",
          "name": "stdout",
          "text": [
            "ligand path was succesfully created\n"
          ]
        }
      ]
    },
    {
      "cell_type": "markdown",
      "metadata": {
        "id": "tLanf4sTChrO"
      },
      "source": [
        "2. Теперь скачаем индинавир из базы данных **DrugBank** (*Nucleic Acids Res\n",
        ". 2006; 34, D668-72*). Это одна из крупных баз данных о соединенниях обладающих фармаколгической активностью.[in this DrugBank link](https://www.drugbank.ca/drugs/DB00224).\n",
        "\n",
        "  Мы его загрузим в форме SMILES, это способ записи молекулы в формате символьной строки, подробнее можно посмотреть здесь:\n",
        "\n",
        "  https://ru.m.wikipedia.org/wiki/SMILES\n",
        "\n"
      ]
    },
    {
      "cell_type": "code",
      "metadata": {
        "id": "iuI8pBj7aryA",
        "colab": {
          "base_uri": "https://localhost:8080/"
        },
        "outputId": "048d1f12-bb91-41ba-e8ba-e7bc334d21c4"
      },
      "source": [
        "#Downloading Indinavir from the DrugBank database in SMILES format\n",
        "!wget https://www.drugbank.ca/structures/small_molecule_drugs/DB00224.smiles -P $ligandpath"
      ],
      "execution_count": null,
      "outputs": [
        {
          "output_type": "stream",
          "name": "stdout",
          "text": [
            "--2021-10-26 13:59:13--  https://www.drugbank.ca/structures/small_molecule_drugs/DB00224.smiles\n",
            "Resolving www.drugbank.ca (www.drugbank.ca)... 172.66.40.133, 172.66.43.123, 2606:4700:3108::ac42:2885, ...\n",
            "Connecting to www.drugbank.ca (www.drugbank.ca)|172.66.40.133|:443... connected.\n",
            "HTTP request sent, awaiting response... 301 Moved Permanently\n",
            "Location: https://go.drugbank.com/structures/small_molecule_drugs/DB00224.smiles [following]\n",
            "--2021-10-26 13:59:13--  https://go.drugbank.com/structures/small_molecule_drugs/DB00224.smiles\n",
            "Resolving go.drugbank.com (go.drugbank.com)... 172.66.42.250, 172.66.41.6, 2606:4700:3108::ac42:2afa, ...\n",
            "Connecting to go.drugbank.com (go.drugbank.com)|172.66.42.250|:443... connected.\n",
            "HTTP request sent, awaiting response... 200 OK\n",
            "Length: unspecified [text/plain]\n",
            "Saving to: ‘/content/ligands/DB00224.smiles’\n",
            "\n",
            "DB00224.smiles          [ <=>                ]     106  --.-KB/s    in 0s      \n",
            "\n",
            "2021-10-26 13:59:13 (10.7 MB/s) - ‘/content/ligands/DB00224.smiles’ saved [106]\n",
            "\n"
          ]
        }
      ]
    },
    {
      "cell_type": "markdown",
      "metadata": {
        "id": "NEM5fwsTFcXd"
      },
      "source": [
        "3. Помимо базы указанной выше вы также можете использовать еще большую базу под название pubchem\n",
        "\n",
        "\n",
        "  **Let's take a look at the SMILES of Indinavir!**"
      ]
    },
    {
      "cell_type": "code",
      "metadata": {
        "id": "DWW3DTsY_J4F",
        "colab": {
          "base_uri": "https://localhost:8080/"
        },
        "outputId": "965b1114-e0df-4f31-ec81-c2d97d613b85"
      },
      "source": [
        "#Print the SMILES of indinavir to see what it is all about\n",
        "print((ligandpath / \"DB00224.smiles\").read_text())"
      ],
      "execution_count": null,
      "outputs": [
        {
          "output_type": "stream",
          "name": "stdout",
          "text": [
            "CC(C)(C)NC(=O)[C@@H]1CN(CC2=CN=CC=C2)CCN1C[C@@H](O)C[C@@H](CC1=CC=CC=C1)C(=O)N[C@@H]1[C@H](O)CC2=CC=CC=C12\n"
          ]
        }
      ]
    },
    {
      "cell_type": "markdown",
      "metadata": {
        "id": "FIeknKQy7GXo"
      },
      "source": [
        "Теперь нужно построить 3D структуру молекулы. Так же, для красоты визуализируем ее."
      ]
    },
    {
      "cell_type": "code",
      "metadata": {
        "id": "PjvRbRRMHrw_",
        "colab": {
          "base_uri": "https://localhost:8080/",
          "height": 497,
          "referenced_widgets": [
            "1807b1e6170f4ae2bf2d4a3d79201cbd",
            "a8134e24007b488b9ec7a252d680a0e4",
            "8010d30467a84c96845a3817687f6d63",
            "c669af9dd4b54c97998ef8de1fc4b745",
            "e0d0601fd58b43839823f382339bc504",
            "da10339099e144bda6c53afe359e9374",
            "270d52125a65430f9dbfe3e3776c67df"
          ]
        },
        "outputId": "0a722a15-fdff-4746-87a9-6aac68425fe6"
      },
      "source": [
        "#Use the following viewer to load your SMILES as a 3D molecule\n",
        "import py3Dmol\n",
        "import kora.install.rdkit\n",
        "from rdkit import Chem\n",
        "from rdkit.Chem import AllChem\n",
        "\n",
        "def MolTo3DView(mol, size=(300, 300), style=\"stick\", surface=False, opacity=0.5):\n",
        "    assert style in ('line', 'stick', 'sphere', 'carton')\n",
        "    mblock = Chem.MolToMolBlock(mol)\n",
        "    viewer = py3Dmol.view()\n",
        "    viewer.addModel(mblock, 'mol')\n",
        "    viewer.setStyle({style:{}})\n",
        "    if surface:\n",
        "        viewer.addSurface(py3Dmol.SAS, {'opacity': opacity})\n",
        "    viewer.zoomTo()\n",
        "    return viewer\n",
        "\n",
        "from ipywidgets import interact,fixed,IntSlider\n",
        "import ipywidgets\n",
        "\n",
        "def smi2conf(smiles):\n",
        "    '''Convert SMILES to rdkit.Mol with 3D coordinates'''\n",
        "    mol = Chem.MolFromSmiles(smiles)\n",
        "    if mol is not None:\n",
        "        mol = Chem.AddHs(mol)\n",
        "        AllChem.EmbedMolecule(mol)\n",
        "        AllChem.MMFFOptimizeMolecule(mol, maxIters=200)\n",
        "        return mol\n",
        "    else:\n",
        "        return None\n",
        "\n",
        "@interact\n",
        "def smi2viewer(smi='CC(C)(C)NC(=O)[C@@H]1CN(CC2=CN=CC=C2)CCN1C[C@@H](O)C[C@@H](CC1=CC=CC=C1)C(=O)N[C@@H]1[C@H](O)CC2=CC=CC=C12'):\n",
        "    try:\n",
        "        conf = smi2conf(smi)\n",
        "        return MolTo3DView(conf).show()\n",
        "    except:\n",
        "        return None"
      ],
      "execution_count": null,
      "outputs": [
        {
          "output_type": "display_data",
          "data": {
            "application/3dmoljs_load.v0": "<div id=\"3dmolviewer_16352578958584876\"  style=\"position: relative; width: 640px; height: 480px\">\n        <p id=\"3dmolwarning_16352578958584876\" style=\"background-color:#ffcccc;color:black\">You appear to be running in JupyterLab (or JavaScript failed to load for some other reason).  You need to install the 3dmol extension: <br>\n        <tt>jupyter labextension install jupyterlab_3dmol</tt></p>\n        </div>\n<script>\n\nvar loadScriptAsync = function(uri){\n  return new Promise((resolve, reject) => {\n    var tag = document.createElement('script');\n    tag.src = uri;\n    tag.async = true;\n    tag.onload = () => {\n      resolve();\n    };\n  var firstScriptTag = document.getElementsByTagName('script')[0];\n  firstScriptTag.parentNode.insertBefore(tag, firstScriptTag);\n});\n};\n\nif(typeof $3Dmolpromise === 'undefined') {\n$3Dmolpromise = null;\n  $3Dmolpromise = loadScriptAsync('https://3dmol.org/build/3Dmol.js');\n}\n\nvar viewer_16352578958584876 = null;\nvar warn = document.getElementById(\"3dmolwarning_16352578958584876\");\nif(warn) {\n    warn.parentNode.removeChild(warn);\n}\n$3Dmolpromise.then(function() {\nviewer_16352578958584876 = $3Dmol.createViewer($(\"#3dmolviewer_16352578958584876\"),{backgroundColor:\"white\"});\nviewer_16352578958584876.zoomTo();\n\tviewer_16352578958584876.addModel(\"\\n     RDKit          3D\\n\\n 92 96  0  0  0  0  0  0  0  0999 V2000\\n   -2.0327   -4.2508   -1.5254 C   0  0  0  0  0  0  0  0  0  0  0  0\\n   -3.1011   -4.2093   -0.4182 C   0  0  0  0  0  0  0  0  0  0  0  0\\n   -2.6916   -5.1208    0.7489 C   0  0  0  0  0  0  0  0  0  0  0  0\\n   -4.4188   -4.7426   -1.0113 C   0  0  0  0  0  0  0  0  0  0  0  0\\n   -3.3416   -2.8260    0.0322 N   0  0  0  0  0  0  0  0  0  0  0  0\\n   -2.3619   -2.0011    0.5629 C   0  0  0  0  0  0  0  0  0  0  0  0\\n   -1.2250   -2.4111    0.7751 O   0  0  0  0  0  0  0  0  0  0  0  0\\n   -2.8407   -0.5758    0.9479 C   0  0  2  0  0  0  0  0  0  0  0  0\\n   -3.9347   -0.0011   -0.0035 C   0  0  0  0  0  0  0  0  0  0  0  0\\n   -4.1838    1.4563    0.1334 N   0  0  0  0  0  0  0  0  0  0  0  0\\n   -5.5666    1.7767   -0.2393 C   0  0  0  0  0  0  0  0  0  0  0  0\\n   -5.8976    3.2459   -0.2322 C   0  0  0  0  0  0  0  0  0  0  0  0\\n   -5.3309    4.1187   -1.1566 C   0  0  0  0  0  0  0  0  0  0  0  0\\n   -5.6040    5.4451   -1.2156 N   0  0  0  0  0  0  0  0  0  0  0  0\\n   -6.4721    5.9262   -0.2999 C   0  0  0  0  0  0  0  0  0  0  0  0\\n   -7.0852    5.1460    0.6671 C   0  0  0  0  0  0  0  0  0  0  0  0\\n   -6.7928    3.7844    0.6992 C   0  0  0  0  0  0  0  0  0  0  0  0\\n   -3.8141    1.9128    1.4829 C   0  0  0  0  0  0  0  0  0  0  0  0\\n   -2.3362    1.5881    1.8552 C   0  0  0  0  0  0  0  0  0  0  0  0\\n   -1.7276    0.3990    1.1992 N   0  0  0  0  0  0  0  0  0  0  0  0\\n   -0.9972    0.8149   -0.0270 C   0  0  0  0  0  0  0  0  0  0  0  0\\n    0.1275   -0.1279   -0.5320 C   0  0  1  0  0  0  0  0  0  0  0  0\\n    0.7706    0.4911   -1.6562 O   0  0  0  0  0  0  0  0  0  0  0  0\\n    1.1680   -0.4870    0.5490 C   0  0  0  0  0  0  0  0  0  0  0  0\\n    2.1472    0.6378    0.9410 C   0  0  1  0  0  0  0  0  0  0  0  0\\n    2.7287    0.5109    2.3676 C   0  0  0  0  0  0  0  0  0  0  0  0\\n    3.1346   -0.8587    2.8645 C   0  0  0  0  0  0  0  0  0  0  0  0\\n    2.2250   -1.6526    3.5777 C   0  0  0  0  0  0  0  0  0  0  0  0\\n    2.5956   -2.9144    4.0450 C   0  0  0  0  0  0  0  0  0  0  0  0\\n    3.8824   -3.3939    3.8120 C   0  0  0  0  0  0  0  0  0  0  0  0\\n    4.7957   -2.6135    3.1085 C   0  0  0  0  0  0  0  0  0  0  0  0\\n    4.4264   -1.3508    2.6407 C   0  0  0  0  0  0  0  0  0  0  0  0\\n    3.2727    0.7243   -0.0892 C   0  0  0  0  0  0  0  0  0  0  0  0\\n    4.2150   -0.0621   -0.1302 O   0  0  0  0  0  0  0  0  0  0  0  0\\n    3.0863    1.7229   -1.0280 N   0  0  0  0  0  0  0  0  0  0  0  0\\n    3.9079    1.8415   -2.2233 C   0  0  2  0  0  0  0  0  0  0  0  0\\n    3.7462    0.6814   -3.2580 C   0  0  2  0  0  0  0  0  0  0  0  0\\n    3.3839   -0.5756   -2.6604 O   0  0  0  0  0  0  0  0  0  0  0  0\\n    5.1027    0.5449   -3.9786 C   0  0  0  0  0  0  0  0  0  0  0  0\\n    6.0609    1.1276   -2.9830 C   0  0  0  0  0  0  0  0  0  0  0  0\\n    7.4440    1.0295   -2.9916 C   0  0  0  0  0  0  0  0  0  0  0  0\\n    8.1623    1.6804   -1.9853 C   0  0  0  0  0  0  0  0  0  0  0  0\\n    7.4974    2.4291   -1.0020 C   0  0  0  0  0  0  0  0  0  0  0  0\\n    6.1047    2.5353   -1.0079 C   0  0  0  0  0  0  0  0  0  0  0  0\\n    5.3954    1.8705   -1.9992 C   0  0  0  0  0  0  0  0  0  0  0  0\\n   -2.3037   -3.5848   -2.3527 H   0  0  0  0  0  0  0  0  0  0  0  0\\n   -1.0467   -3.9399   -1.1638 H   0  0  0  0  0  0  0  0  0  0  0  0\\n   -1.9212   -5.2623   -1.9311 H   0  0  0  0  0  0  0  0  0  0  0  0\\n   -3.4429   -5.1061    1.5477 H   0  0  0  0  0  0  0  0  0  0  0  0\\n   -1.7394   -4.8165    1.1954 H   0  0  0  0  0  0  0  0  0  0  0  0\\n   -2.5749   -6.1554    0.4086 H   0  0  0  0  0  0  0  0  0  0  0  0\\n   -4.2997   -5.7571   -1.4089 H   0  0  0  0  0  0  0  0  0  0  0  0\\n   -5.2102   -4.7733   -0.2540 H   0  0  0  0  0  0  0  0  0  0  0  0\\n   -4.7734   -4.1004   -1.8265 H   0  0  0  0  0  0  0  0  0  0  0  0\\n   -4.2979   -2.6056    0.2745 H   0  0  0  0  0  0  0  0  0  0  0  0\\n   -3.3157   -0.7492    1.9281 H   0  0  0  0  0  0  0  0  0  0  0  0\\n   -3.6719   -0.2034   -1.0501 H   0  0  0  0  0  0  0  0  0  0  0  0\\n   -4.8656   -0.5523    0.1986 H   0  0  0  0  0  0  0  0  0  0  0  0\\n   -6.2752    1.2445    0.4101 H   0  0  0  0  0  0  0  0  0  0  0  0\\n   -5.7553    1.4161   -1.2573 H   0  0  0  0  0  0  0  0  0  0  0  0\\n   -4.6190    3.7656   -1.8986 H   0  0  0  0  0  0  0  0  0  0  0  0\\n   -6.6759    6.9922   -0.3675 H   0  0  0  0  0  0  0  0  0  0  0  0\\n   -7.7794    5.5834    1.3777 H   0  0  0  0  0  0  0  0  0  0  0  0\\n   -7.2632    3.1526    1.4520 H   0  0  0  0  0  0  0  0  0  0  0  0\\n   -4.4770    1.4486    2.2264 H   0  0  0  0  0  0  0  0  0  0  0  0\\n   -3.9391    2.9967    1.5790 H   0  0  0  0  0  0  0  0  0  0  0  0\\n   -2.3003    1.4159    2.9414 H   0  0  0  0  0  0  0  0  0  0  0  0\\n   -1.7200    2.4855    1.6921 H   0  0  0  0  0  0  0  0  0  0  0  0\\n   -0.5091    1.7821    0.1542 H   0  0  0  0  0  0  0  0  0  0  0  0\\n   -1.6782    1.0233   -0.8602 H   0  0  0  0  0  0  0  0  0  0  0  0\\n   -0.3282   -1.0391   -0.9270 H   0  0  0  0  0  0  0  0  0  0  0  0\\n    1.3837   -0.1882   -2.0263 H   0  0  0  0  0  0  0  0  0  0  0  0\\n    0.6302   -0.8336    1.4356 H   0  0  0  0  0  0  0  0  0  0  0  0\\n    1.7465   -1.3444    0.1752 H   0  0  0  0  0  0  0  0  0  0  0  0\\n    1.6177    1.6003    0.9299 H   0  0  0  0  0  0  0  0  0  0  0  0\\n    3.5901    1.1852    2.4719 H   0  0  0  0  0  0  0  0  0  0  0  0\\n    1.9810    0.9062    3.0682 H   0  0  0  0  0  0  0  0  0  0  0  0\\n    1.2143   -1.2964    3.7631 H   0  0  0  0  0  0  0  0  0  0  0  0\\n    1.8756   -3.5207    4.5850 H   0  0  0  0  0  0  0  0  0  0  0  0\\n    4.1704   -4.3771    4.1736 H   0  0  0  0  0  0  0  0  0  0  0  0\\n    5.7987   -2.9894    2.9183 H   0  0  0  0  0  0  0  0  0  0  0  0\\n    5.1544   -0.7577    2.0934 H   0  0  0  0  0  0  0  0  0  0  0  0\\n    2.1022    1.9275   -1.1944 H   0  0  0  0  0  0  0  0  0  0  0  0\\n    3.6321    2.7873   -2.7064 H   0  0  0  0  0  0  0  0  0  0  0  0\\n    2.9440    0.9052   -3.9695 H   0  0  0  0  0  0  0  0  0  0  0  0\\n    3.9794   -0.6853   -1.8827 H   0  0  0  0  0  0  0  0  0  0  0  0\\n    5.3433   -0.4963   -4.2112 H   0  0  0  0  0  0  0  0  0  0  0  0\\n    5.1260    1.1543   -4.8872 H   0  0  0  0  0  0  0  0  0  0  0  0\\n    7.9608    0.4574   -3.7544 H   0  0  0  0  0  0  0  0  0  0  0  0\\n    9.2476    1.6076   -1.9629 H   0  0  0  0  0  0  0  0  0  0  0  0\\n    8.0715    2.9263   -0.2227 H   0  0  0  0  0  0  0  0  0  0  0  0\\n    5.5889    3.1045   -0.2410 H   0  0  0  0  0  0  0  0  0  0  0  0\\n  1  2  1  0\\n  2  3  1  0\\n  2  4  1  0\\n  2  5  1  0\\n  5  6  1  0\\n  6  7  2  0\\n  6  8  1  0\\n  8  9  1  0\\n  9 10  1  0\\n 10 11  1  0\\n 11 12  1  0\\n 12 13  2  0\\n 13 14  1  0\\n 14 15  2  0\\n 15 16  1  0\\n 16 17  2  0\\n 10 18  1  0\\n 18 19  1  0\\n 19 20  1  0\\n 20 21  1  0\\n 21 22  1  0\\n 22 23  1  0\\n 22 24  1  0\\n 24 25  1  0\\n 25 26  1  0\\n 26 27  1  0\\n 27 28  2  0\\n 28 29  1  0\\n 29 30  2  0\\n 30 31  1  0\\n 31 32  2  0\\n 25 33  1  0\\n 33 34  2  0\\n 33 35  1  0\\n 35 36  1  0\\n 36 37  1  0\\n 37 38  1  0\\n 37 39  1  0\\n 39 40  1  0\\n 40 41  2  0\\n 41 42  1  0\\n 42 43  2  0\\n 43 44  1  0\\n 44 45  2  0\\n 20  8  1  0\\n 32 27  1  0\\n 45 36  1  0\\n 17 12  1  0\\n 45 40  1  0\\n  1 46  1  0\\n  1 47  1  0\\n  1 48  1  0\\n  3 49  1  0\\n  3 50  1  0\\n  3 51  1  0\\n  4 52  1  0\\n  4 53  1  0\\n  4 54  1  0\\n  5 55  1  0\\n  8 56  1  1\\n  9 57  1  0\\n  9 58  1  0\\n 11 59  1  0\\n 11 60  1  0\\n 13 61  1  0\\n 15 62  1  0\\n 16 63  1  0\\n 17 64  1  0\\n 18 65  1  0\\n 18 66  1  0\\n 19 67  1  0\\n 19 68  1  0\\n 21 69  1  0\\n 21 70  1  0\\n 22 71  1  6\\n 23 72  1  0\\n 24 73  1  0\\n 24 74  1  0\\n 25 75  1  1\\n 26 76  1  0\\n 26 77  1  0\\n 28 78  1  0\\n 29 79  1  0\\n 30 80  1  0\\n 31 81  1  0\\n 32 82  1  0\\n 35 83  1  0\\n 36 84  1  6\\n 37 85  1  6\\n 38 86  1  0\\n 39 87  1  0\\n 39 88  1  0\\n 41 89  1  0\\n 42 90  1  0\\n 43 91  1  0\\n 44 92  1  0\\nM  END\\n\",\"mol\");\n\tviewer_16352578958584876.setStyle({\"stick\": {}});\n\tviewer_16352578958584876.zoomTo();\nviewer_16352578958584876.render();\n});\n</script>",
            "text/html": [
              "<div id=\"3dmolviewer_16352578958584876\"  style=\"position: relative; width: 640px; height: 480px\">\n",
              "        <p id=\"3dmolwarning_16352578958584876\" style=\"background-color:#ffcccc;color:black\">You appear to be running in JupyterLab (or JavaScript failed to load for some other reason).  You need to install the 3dmol extension: <br>\n",
              "        <tt>jupyter labextension install jupyterlab_3dmol</tt></p>\n",
              "        </div>\n",
              "<script>\n",
              "\n",
              "var loadScriptAsync = function(uri){\n",
              "  return new Promise((resolve, reject) => {\n",
              "    var tag = document.createElement('script');\n",
              "    tag.src = uri;\n",
              "    tag.async = true;\n",
              "    tag.onload = () => {\n",
              "      resolve();\n",
              "    };\n",
              "  var firstScriptTag = document.getElementsByTagName('script')[0];\n",
              "  firstScriptTag.parentNode.insertBefore(tag, firstScriptTag);\n",
              "});\n",
              "};\n",
              "\n",
              "if(typeof $3Dmolpromise === 'undefined') {\n",
              "$3Dmolpromise = null;\n",
              "  $3Dmolpromise = loadScriptAsync('https://3dmol.org/build/3Dmol.js');\n",
              "}\n",
              "\n",
              "var viewer_16352578958584876 = null;\n",
              "var warn = document.getElementById(\"3dmolwarning_16352578958584876\");\n",
              "if(warn) {\n",
              "    warn.parentNode.removeChild(warn);\n",
              "}\n",
              "$3Dmolpromise.then(function() {\n",
              "viewer_16352578958584876 = $3Dmol.createViewer($(\"#3dmolviewer_16352578958584876\"),{backgroundColor:\"white\"});\n",
              "viewer_16352578958584876.zoomTo();\n",
              "\tviewer_16352578958584876.addModel(\"\\n     RDKit          3D\\n\\n 92 96  0  0  0  0  0  0  0  0999 V2000\\n   -2.0327   -4.2508   -1.5254 C   0  0  0  0  0  0  0  0  0  0  0  0\\n   -3.1011   -4.2093   -0.4182 C   0  0  0  0  0  0  0  0  0  0  0  0\\n   -2.6916   -5.1208    0.7489 C   0  0  0  0  0  0  0  0  0  0  0  0\\n   -4.4188   -4.7426   -1.0113 C   0  0  0  0  0  0  0  0  0  0  0  0\\n   -3.3416   -2.8260    0.0322 N   0  0  0  0  0  0  0  0  0  0  0  0\\n   -2.3619   -2.0011    0.5629 C   0  0  0  0  0  0  0  0  0  0  0  0\\n   -1.2250   -2.4111    0.7751 O   0  0  0  0  0  0  0  0  0  0  0  0\\n   -2.8407   -0.5758    0.9479 C   0  0  2  0  0  0  0  0  0  0  0  0\\n   -3.9347   -0.0011   -0.0035 C   0  0  0  0  0  0  0  0  0  0  0  0\\n   -4.1838    1.4563    0.1334 N   0  0  0  0  0  0  0  0  0  0  0  0\\n   -5.5666    1.7767   -0.2393 C   0  0  0  0  0  0  0  0  0  0  0  0\\n   -5.8976    3.2459   -0.2322 C   0  0  0  0  0  0  0  0  0  0  0  0\\n   -5.3309    4.1187   -1.1566 C   0  0  0  0  0  0  0  0  0  0  0  0\\n   -5.6040    5.4451   -1.2156 N   0  0  0  0  0  0  0  0  0  0  0  0\\n   -6.4721    5.9262   -0.2999 C   0  0  0  0  0  0  0  0  0  0  0  0\\n   -7.0852    5.1460    0.6671 C   0  0  0  0  0  0  0  0  0  0  0  0\\n   -6.7928    3.7844    0.6992 C   0  0  0  0  0  0  0  0  0  0  0  0\\n   -3.8141    1.9128    1.4829 C   0  0  0  0  0  0  0  0  0  0  0  0\\n   -2.3362    1.5881    1.8552 C   0  0  0  0  0  0  0  0  0  0  0  0\\n   -1.7276    0.3990    1.1992 N   0  0  0  0  0  0  0  0  0  0  0  0\\n   -0.9972    0.8149   -0.0270 C   0  0  0  0  0  0  0  0  0  0  0  0\\n    0.1275   -0.1279   -0.5320 C   0  0  1  0  0  0  0  0  0  0  0  0\\n    0.7706    0.4911   -1.6562 O   0  0  0  0  0  0  0  0  0  0  0  0\\n    1.1680   -0.4870    0.5490 C   0  0  0  0  0  0  0  0  0  0  0  0\\n    2.1472    0.6378    0.9410 C   0  0  1  0  0  0  0  0  0  0  0  0\\n    2.7287    0.5109    2.3676 C   0  0  0  0  0  0  0  0  0  0  0  0\\n    3.1346   -0.8587    2.8645 C   0  0  0  0  0  0  0  0  0  0  0  0\\n    2.2250   -1.6526    3.5777 C   0  0  0  0  0  0  0  0  0  0  0  0\\n    2.5956   -2.9144    4.0450 C   0  0  0  0  0  0  0  0  0  0  0  0\\n    3.8824   -3.3939    3.8120 C   0  0  0  0  0  0  0  0  0  0  0  0\\n    4.7957   -2.6135    3.1085 C   0  0  0  0  0  0  0  0  0  0  0  0\\n    4.4264   -1.3508    2.6407 C   0  0  0  0  0  0  0  0  0  0  0  0\\n    3.2727    0.7243   -0.0892 C   0  0  0  0  0  0  0  0  0  0  0  0\\n    4.2150   -0.0621   -0.1302 O   0  0  0  0  0  0  0  0  0  0  0  0\\n    3.0863    1.7229   -1.0280 N   0  0  0  0  0  0  0  0  0  0  0  0\\n    3.9079    1.8415   -2.2233 C   0  0  2  0  0  0  0  0  0  0  0  0\\n    3.7462    0.6814   -3.2580 C   0  0  2  0  0  0  0  0  0  0  0  0\\n    3.3839   -0.5756   -2.6604 O   0  0  0  0  0  0  0  0  0  0  0  0\\n    5.1027    0.5449   -3.9786 C   0  0  0  0  0  0  0  0  0  0  0  0\\n    6.0609    1.1276   -2.9830 C   0  0  0  0  0  0  0  0  0  0  0  0\\n    7.4440    1.0295   -2.9916 C   0  0  0  0  0  0  0  0  0  0  0  0\\n    8.1623    1.6804   -1.9853 C   0  0  0  0  0  0  0  0  0  0  0  0\\n    7.4974    2.4291   -1.0020 C   0  0  0  0  0  0  0  0  0  0  0  0\\n    6.1047    2.5353   -1.0079 C   0  0  0  0  0  0  0  0  0  0  0  0\\n    5.3954    1.8705   -1.9992 C   0  0  0  0  0  0  0  0  0  0  0  0\\n   -2.3037   -3.5848   -2.3527 H   0  0  0  0  0  0  0  0  0  0  0  0\\n   -1.0467   -3.9399   -1.1638 H   0  0  0  0  0  0  0  0  0  0  0  0\\n   -1.9212   -5.2623   -1.9311 H   0  0  0  0  0  0  0  0  0  0  0  0\\n   -3.4429   -5.1061    1.5477 H   0  0  0  0  0  0  0  0  0  0  0  0\\n   -1.7394   -4.8165    1.1954 H   0  0  0  0  0  0  0  0  0  0  0  0\\n   -2.5749   -6.1554    0.4086 H   0  0  0  0  0  0  0  0  0  0  0  0\\n   -4.2997   -5.7571   -1.4089 H   0  0  0  0  0  0  0  0  0  0  0  0\\n   -5.2102   -4.7733   -0.2540 H   0  0  0  0  0  0  0  0  0  0  0  0\\n   -4.7734   -4.1004   -1.8265 H   0  0  0  0  0  0  0  0  0  0  0  0\\n   -4.2979   -2.6056    0.2745 H   0  0  0  0  0  0  0  0  0  0  0  0\\n   -3.3157   -0.7492    1.9281 H   0  0  0  0  0  0  0  0  0  0  0  0\\n   -3.6719   -0.2034   -1.0501 H   0  0  0  0  0  0  0  0  0  0  0  0\\n   -4.8656   -0.5523    0.1986 H   0  0  0  0  0  0  0  0  0  0  0  0\\n   -6.2752    1.2445    0.4101 H   0  0  0  0  0  0  0  0  0  0  0  0\\n   -5.7553    1.4161   -1.2573 H   0  0  0  0  0  0  0  0  0  0  0  0\\n   -4.6190    3.7656   -1.8986 H   0  0  0  0  0  0  0  0  0  0  0  0\\n   -6.6759    6.9922   -0.3675 H   0  0  0  0  0  0  0  0  0  0  0  0\\n   -7.7794    5.5834    1.3777 H   0  0  0  0  0  0  0  0  0  0  0  0\\n   -7.2632    3.1526    1.4520 H   0  0  0  0  0  0  0  0  0  0  0  0\\n   -4.4770    1.4486    2.2264 H   0  0  0  0  0  0  0  0  0  0  0  0\\n   -3.9391    2.9967    1.5790 H   0  0  0  0  0  0  0  0  0  0  0  0\\n   -2.3003    1.4159    2.9414 H   0  0  0  0  0  0  0  0  0  0  0  0\\n   -1.7200    2.4855    1.6921 H   0  0  0  0  0  0  0  0  0  0  0  0\\n   -0.5091    1.7821    0.1542 H   0  0  0  0  0  0  0  0  0  0  0  0\\n   -1.6782    1.0233   -0.8602 H   0  0  0  0  0  0  0  0  0  0  0  0\\n   -0.3282   -1.0391   -0.9270 H   0  0  0  0  0  0  0  0  0  0  0  0\\n    1.3837   -0.1882   -2.0263 H   0  0  0  0  0  0  0  0  0  0  0  0\\n    0.6302   -0.8336    1.4356 H   0  0  0  0  0  0  0  0  0  0  0  0\\n    1.7465   -1.3444    0.1752 H   0  0  0  0  0  0  0  0  0  0  0  0\\n    1.6177    1.6003    0.9299 H   0  0  0  0  0  0  0  0  0  0  0  0\\n    3.5901    1.1852    2.4719 H   0  0  0  0  0  0  0  0  0  0  0  0\\n    1.9810    0.9062    3.0682 H   0  0  0  0  0  0  0  0  0  0  0  0\\n    1.2143   -1.2964    3.7631 H   0  0  0  0  0  0  0  0  0  0  0  0\\n    1.8756   -3.5207    4.5850 H   0  0  0  0  0  0  0  0  0  0  0  0\\n    4.1704   -4.3771    4.1736 H   0  0  0  0  0  0  0  0  0  0  0  0\\n    5.7987   -2.9894    2.9183 H   0  0  0  0  0  0  0  0  0  0  0  0\\n    5.1544   -0.7577    2.0934 H   0  0  0  0  0  0  0  0  0  0  0  0\\n    2.1022    1.9275   -1.1944 H   0  0  0  0  0  0  0  0  0  0  0  0\\n    3.6321    2.7873   -2.7064 H   0  0  0  0  0  0  0  0  0  0  0  0\\n    2.9440    0.9052   -3.9695 H   0  0  0  0  0  0  0  0  0  0  0  0\\n    3.9794   -0.6853   -1.8827 H   0  0  0  0  0  0  0  0  0  0  0  0\\n    5.3433   -0.4963   -4.2112 H   0  0  0  0  0  0  0  0  0  0  0  0\\n    5.1260    1.1543   -4.8872 H   0  0  0  0  0  0  0  0  0  0  0  0\\n    7.9608    0.4574   -3.7544 H   0  0  0  0  0  0  0  0  0  0  0  0\\n    9.2476    1.6076   -1.9629 H   0  0  0  0  0  0  0  0  0  0  0  0\\n    8.0715    2.9263   -0.2227 H   0  0  0  0  0  0  0  0  0  0  0  0\\n    5.5889    3.1045   -0.2410 H   0  0  0  0  0  0  0  0  0  0  0  0\\n  1  2  1  0\\n  2  3  1  0\\n  2  4  1  0\\n  2  5  1  0\\n  5  6  1  0\\n  6  7  2  0\\n  6  8  1  0\\n  8  9  1  0\\n  9 10  1  0\\n 10 11  1  0\\n 11 12  1  0\\n 12 13  2  0\\n 13 14  1  0\\n 14 15  2  0\\n 15 16  1  0\\n 16 17  2  0\\n 10 18  1  0\\n 18 19  1  0\\n 19 20  1  0\\n 20 21  1  0\\n 21 22  1  0\\n 22 23  1  0\\n 22 24  1  0\\n 24 25  1  0\\n 25 26  1  0\\n 26 27  1  0\\n 27 28  2  0\\n 28 29  1  0\\n 29 30  2  0\\n 30 31  1  0\\n 31 32  2  0\\n 25 33  1  0\\n 33 34  2  0\\n 33 35  1  0\\n 35 36  1  0\\n 36 37  1  0\\n 37 38  1  0\\n 37 39  1  0\\n 39 40  1  0\\n 40 41  2  0\\n 41 42  1  0\\n 42 43  2  0\\n 43 44  1  0\\n 44 45  2  0\\n 20  8  1  0\\n 32 27  1  0\\n 45 36  1  0\\n 17 12  1  0\\n 45 40  1  0\\n  1 46  1  0\\n  1 47  1  0\\n  1 48  1  0\\n  3 49  1  0\\n  3 50  1  0\\n  3 51  1  0\\n  4 52  1  0\\n  4 53  1  0\\n  4 54  1  0\\n  5 55  1  0\\n  8 56  1  1\\n  9 57  1  0\\n  9 58  1  0\\n 11 59  1  0\\n 11 60  1  0\\n 13 61  1  0\\n 15 62  1  0\\n 16 63  1  0\\n 17 64  1  0\\n 18 65  1  0\\n 18 66  1  0\\n 19 67  1  0\\n 19 68  1  0\\n 21 69  1  0\\n 21 70  1  0\\n 22 71  1  6\\n 23 72  1  0\\n 24 73  1  0\\n 24 74  1  0\\n 25 75  1  1\\n 26 76  1  0\\n 26 77  1  0\\n 28 78  1  0\\n 29 79  1  0\\n 30 80  1  0\\n 31 81  1  0\\n 32 82  1  0\\n 35 83  1  0\\n 36 84  1  6\\n 37 85  1  6\\n 38 86  1  0\\n 39 87  1  0\\n 39 88  1  0\\n 41 89  1  0\\n 42 90  1  0\\n 43 91  1  0\\n 44 92  1  0\\nM  END\\n\",\"mol\");\n",
              "\tviewer_16352578958584876.setStyle({\"stick\": {}});\n",
              "\tviewer_16352578958584876.zoomTo();\n",
              "viewer_16352578958584876.render();\n",
              "});\n",
              "</script>"
            ]
          },
          "metadata": {}
        }
      ]
    },
    {
      "cell_type": "markdown",
      "metadata": {
        "id": "OkjbrWHeooc_"
      },
      "source": [
        "4. Теперь как и в случае с рецептором, трансформируем структуру в формат читаемых программой для докинга."
      ]
    },
    {
      "cell_type": "code",
      "metadata": {
        "id": "sGUHorvYnJ9k",
        "colab": {
          "base_uri": "https://localhost:8080/"
        },
        "outputId": "ccf798a2-5ef6-4298-e003-9d723f267fe5"
      },
      "source": [
        "#Converting Indinavir from SMILES into a 3D PDB format\n",
        "!obabel $ligandpath/DB00224.smiles -O indinavir.mol2 --gen3d best -p 7.4 --canonical\n",
        "#Parameterizing and adding Gasteiger charges into our protein using MGLtools\n",
        "#Adding -z leads to a rigid ligand without any torsions\n",
        "!python2 /usr/local/bin/prepare_ligand4.py -l indinavir.mol2 -o $singlepath/indinavir.pdbqt -U nphs_lps -v\n",
        "#NOTE: for some reason, MGLtools does not recognize the ligand when inside a different folder\n",
        "#Here we are deleting the temporary PDB file required for generating the PDBQT file\n",
        "os.remove(\"indinavir.mol2\")"
      ],
      "execution_count": null,
      "outputs": [
        {
          "output_type": "stream",
          "name": "stdout",
          "text": [
            "1 molecule converted\n",
            "set verbose to  True\n",
            "read  indinavir.mol2\n",
            "setting up LPO with mode= automatic and outputfilename=  /content/single-dock/indinavir.pdbqt\n",
            "and check_for_fragments= False\n",
            "and bonds_to_inactivate= \n",
            "returning  0\n",
            "No change in atomic coordinates\n"
          ]
        }
      ]
    },
    {
      "cell_type": "markdown",
      "metadata": {
        "id": "j9aZXCeVnJlv"
      },
      "source": [
        "4. Далее идет оптимизация геометрии структуры, поскольку далеко не факт, что она была построена полностью корректно. Объяснять подробнее будет довольно долго и выходит за цели этого гайда."
      ]
    },
    {
      "cell_type": "code",
      "metadata": {
        "id": "RG6kDCBobRlT"
      },
      "source": [
        "#Converting Indinavir from SMILES into a 3D MOL2 format and perform an energy minimization of the conformer using the GAFF forcefield\n",
        "#Then, prepare ligand for docking using the Autodock script\n",
        "!obabel $ligandpath/DB00224.smiles -O indinavir.mol2 --gen3d --best --canonical --minimize --ff GAFF --steps 10000 --sd\n",
        "!python2 /usr/local/bin/prepare_ligand4.py -l indinavir.mol2 -o $singlepath/indinavir.pdbqt -U nphs_lps -v\n",
        "os.remove(\"indinavir.mol2\")"
      ],
      "execution_count": null,
      "outputs": []
    },
    {
      "cell_type": "code",
      "metadata": {
        "id": "Zo0K2pO0o6LP"
      },
      "source": [
        "#Converting Indinavir from SMILES into a 3D MOL2 format and perform a weighted rotor search for lowest energy conformer\n",
        "#Then, prepare ligand for docking using the Autodock script\n",
        "!obabel $ligandpath/DB00224.smiles -O indinavir.mol2 --gen3d --best --canonical --conformers --weighted --nconf 50 --ff GAFF\n",
        "!python2 /usr/local/bin/prepare_ligand4.py -l indinavir.mol2 -o $singlepath/indinavir.pdbqt -U nphs_lps -v\n",
        "os.remove(\"indinavir.mol2\")"
      ],
      "execution_count": null,
      "outputs": []
    },
    {
      "cell_type": "markdown",
      "metadata": {
        "id": "vZxnFIB-TW8X"
      },
      "source": [
        "#Part 3 – Setting up and Performing Molecular Docking with AutoDock"
      ]
    },
    {
      "cell_type": "markdown",
      "metadata": {
        "id": "ltabEnTrWzdT"
      },
      "source": [
        "1. Дальше, для большей части програм молекулярного докинга необходимо задать координаты пространства вокруг предполагаемого (или уже хорошо извастного сайта связывания). Точный подбор этих параметров *всегда* осуществляется с сильной зависимостью от конкретных биологических объектов с которыми вы работаете. Но для простых задач и в целях обучения, вам нужны координаты центра сайта связывания и размер кубика для докинга размером равный +- 20 ангстремам по каждой координате. \n",
        "\n",
        "В нашем случае, в исходной структуре *перед* стадией очистки от лишних записей уже был экспериментальный лиганд, и центром сайта связывания был выбран центр масс этого лиганда."
      ]
    },
    {
      "cell_type": "code",
      "metadata": {
        "id": "eyqcfX1ebPcg"
      },
      "source": [
        "#These definitions will enable loading our protein and then\n",
        "#drawing a box with a given size and centroid on the cartesian space\n",
        "#This box will enable us to set up the system coordinates for the simulation\n",
        "#\n",
        "#HINT: The active site of the HIV-2 protease is near the beta strands in green\n",
        "#\n",
        "#ACKNOWLEDGE: This script is largely based on the one created by Jose Manuel \n",
        "#Napoles Duarte, Physics Teacher at the Chemical Sciences Faculty of the \n",
        "#Autonomous University of Chihuahua (https://github.com/napoles-uach)\n",
        "#\n",
        "#First, we define the grid box\n",
        "def definegrid(object,bxi,byi,bzi,bxf,byf,bzf):\n",
        "  object.addBox({'center':{'x':bxi,'y':byi,'z':bzi},'dimensions': {'w':bxf,'h':byf,'d':bzf},'color':'blue','opacity': 0.6})\n",
        "\n",
        "#Next, we define how the protein will be shown in py3Dmol\n",
        "#Note that we are also adding a style representation for active site residues\n",
        "def viewprot(object,prot_PDBfile,resids):\n",
        "  mol1 = open(prot_PDBfile, 'r').read()\n",
        "  object.addModel(mol1,'pdb')\n",
        "  object.setStyle({'cartoon': {'color':'spectrum'}})\n",
        "  object.addStyle({'resi':resids},{'stick':{'colorscheme':'greenCarbon'}})\n",
        "\n",
        "#Lastly, we combine the box grid and protein into a single viewer\n",
        "def viewprotgrid(prot_PDBfile,resids,bxi,byi,bzi,bxf=10,byf=10,bzf=10):\n",
        "  mol_view = py3Dmol.view(800,400,viewergrid=(1,2))\n",
        "  definegrid(mol_view,bxi,byi,bzi,bxf,byf,bzf)\n",
        "  viewprot(mol_view,prot_PDBfile,resids)\n",
        "  mol_view.setBackgroundColor('0xffffff')\n",
        "  mol_view.rotate(90, {'x':0,'y':1,'z':0},viewer=(0,1));\n",
        "  mol_view.zoomTo()\n",
        "  mol_view.show() \n"
      ],
      "execution_count": null,
      "outputs": []
    },
    {
      "cell_type": "markdown",
      "metadata": {
        "id": "if9KlWLWAfvB"
      },
      "source": [
        "Немного визуализации. В resids можно загнать аминокислоты на ваш выбор."
      ]
    },
    {
      "cell_type": "code",
      "metadata": {
        "id": "eLphxzcKKbcf"
      },
      "source": [
        "from ipywidgets import interact,fixed,IntSlider\n",
        "import ipywidgets\n",
        "interact(viewprotgrid,\n",
        "         prot_PDBfile = ['/content/single-dock/1HSG_prot.pdb'],\n",
        "         resids = [(82, 83, 84)],\n",
        "         bxi=ipywidgets.IntSlider(min=-100,max=100, step=1),\n",
        "         byi=ipywidgets.IntSlider(min=-100,max=100, step=1),\n",
        "         bzi=ipywidgets.IntSlider(min=-100,max=100, step=1),\n",
        "         bxf=ipywidgets.IntSlider(min=0,max=30, step=1),\n",
        "         byf=ipywidgets.IntSlider(min=0,max=30, step=1),\n",
        "         bzf=ipywidgets.IntSlider(min=0,max=30, step=1))"
      ],
      "execution_count": null,
      "outputs": []
    },
    {
      "cell_type": "markdown",
      "metadata": {
        "id": "75yCJ-eNS7Ia"
      },
      "source": [
        "3. Теперь следует задать фконфигурационный фал с опциями для программы докинга. Сейчас мы используем эти, но когда вы возьметес за свою задачу желательно прочитать документацию.\n",
        "\n",
        "\n",
        "```\n",
        "#CONFIGURATION FILE\n",
        "\n",
        "#INPUT OPTIONS \n",
        "receptor = [target protein pdbqt file]\n",
        "ligand = [ligand pdbqt file]\n",
        "flex = [flexible residues in receptor in pdbqt format] \n",
        "\n",
        "#SEARCH SPACE CONFIGURATIONS \n",
        "#Center of the box (coordinates x, y and z \n",
        "center_x = [value] \n",
        "center_y = [value]\n",
        "center_z = [value]\n",
        "#Size of the box (dimensions in x, y and z) \n",
        "size_x = [value]\n",
        "size_y = [value]\n",
        "size_z = [value]\n",
        "\n",
        "#OUTPUT OPTIONS \n",
        "#out = [output pdbqt file for all conformations]\n",
        "#log = [output log file for binding energies]\n",
        "\n",
        "#OTHER OPTIONS \n",
        "cpu = [value] # more cpus reduces the computation time\n",
        "exhaustiveness = [value] # search time for finding the global minimum, default is 8\n",
        "num_modes = [value] # maximum number of binding modes to generate, default is 9\n",
        "energy_range = [value] # maximum energy difference between the best binding mode and the worst one displayed (kcal/mol), default is 3\n",
        "seed = [value] # explicit random seed, not required\n",
        "```\n",
        "\n"
      ]
    },
    {
      "cell_type": "code",
      "metadata": {
        "id": "Q8g2JIgB5fna"
      },
      "source": [
        "with open(singlepath / \"config_singledock\",\"w\") as f:\n",
        "  f.write(\"#CONFIGURATION FILE (options not used are commented) \\n\")\n",
        "  f.write(\"\\n\")\n",
        "  f.write(\"#INPUT OPTIONS \\n\")\n",
        "  f.write(\"receptor = 1HSG_prot.pdbqt \\n\")\n",
        "  f.write(\"ligand = indinavir.pdbqt \\n\")\n",
        "  f.write(\"#flex = [flexible residues in receptor in pdbqt format] \\n\")\n",
        "  f.write(\"#SEARCH SPACE CONFIGURATIONS \\n\")\n",
        "  f.write(\"#Center of the box (values bxi, byi and bzi) \\n\")\n",
        "  f.write(\"center_x = 13.00 \\n\")\n",
        "  f.write(\"center_y = 22.50 \\n\")\n",
        "  f.write(\"center_z = 5.5 \\n\")\n",
        "  f.write(\"#Size of the box (values bxf, byf and bzf) \\n\")\n",
        "  f.write(\"size_x = 20 \\n\")\n",
        "  f.write(\"size_y = 20 \\n\")\n",
        "  f.write(\"size_z = 20 \\n\")\n",
        "  f.write(\"#OUTPUT OPTIONS \\n\")\n",
        "  f.write(\"#out = \\n\")\n",
        "  f.write(\"#log = \\n\")\n",
        "  f.write(\"\\n\")\n",
        "  f.write(\"#OTHER OPTIONS \\n\")\n",
        "  f.write(\"#cpu =  \\n\")\n",
        "  f.write(\"#exhaustiveness = \\n\")\n",
        "  f.write(\"#num_modes = \\n\")\n",
        "  f.write(\"#energy_range = \\n\")\n",
        "  f.write(\"#seed = \")"
      ],
      "execution_count": null,
      "outputs": []
    },
    {
      "cell_type": "markdown",
      "metadata": {
        "id": "cfxxqcf-XdU3"
      },
      "source": [
        "4. Теперь мы наконец-то можем запустить докинг пакетом AutoDock Vina."
      ]
    },
    {
      "cell_type": "code",
      "metadata": {
        "id": "LRlv9MqoCC19"
      },
      "source": [
        "#Changing directory to the single docking folder\n",
        "os.chdir(singlepath)\n",
        "!pwd\n",
        "!ls\n",
        "#Executing AutoDock Vina with our configuration file\n",
        "%vina --config config_singledock --out output.pdbqt --log log.txt\n",
        "#Exiting the execution directory\n",
        "os.chdir(\"/content/\")"
      ],
      "execution_count": null,
      "outputs": []
    },
    {
      "cell_type": "markdown",
      "metadata": {
        "id": "If6YK_XVYPmB"
      },
      "source": [
        "5.В результате работы программы в вашей директории будет сохранено от 1 до 20 предполагаемых геометрий контакта белка с лигандом, а в выдаче программы будет показан отсортированный по предполагаемой энергии список этих геометрий."
      ]
    },
    {
      "cell_type": "code",
      "metadata": {
        "id": "P1P1XSGWv9pe"
      },
      "source": [
        "#Here, we will be extracting Indinavir, which is present in the structure of\n",
        "#HIV-2 protease (yes! this is a simulation with experimental validation!)\n",
        "#The approach is similar to printing the ATOM and TER lines, but we are using\n",
        "#the residue name given to the ligand in the experimentally solved structure: MK1\n",
        "protein = \"1HSG.pdb\"\n",
        "\n",
        "with open(singlepath/\"xtal_ligand.pdb\",\"w\") as g:\n",
        "  f = open(protein,'r')\n",
        "  for line in f:\n",
        "    row = line.split()\n",
        "    if \"MK1\" in row:\n",
        "      g.write(line)\n",
        "  g.write(\"END\")"
      ],
      "execution_count": null,
      "outputs": []
    },
    {
      "cell_type": "markdown",
      "metadata": {
        "id": "tGnWy5aVaFOP"
      },
      "source": [
        "6. Собственно запишем выдачу AutoDock Vina  в читаемый для нас формат"
      ]
    },
    {
      "cell_type": "code",
      "metadata": {
        "id": "JDkf9pyuZdd2"
      },
      "source": [
        "#We need to convert our Autodock Vina results from pdbqt into pdb\n",
        "#For this, we use babel\n",
        "!obabel -ipdbqt $singlepath/output.pdbqt -opdb -O $singlepath/indinavir_dock.pdb -m"
      ],
      "execution_count": null,
      "outputs": []
    },
    {
      "cell_type": "code",
      "metadata": {
        "id": "OfdbNwTaZU2r"
      },
      "source": [
        "#We finally create a visualization of the protein as cartoon,\n",
        "#the lowest-energy docking pose with its carbons in green\n",
        "#and the experimental binding pose with its carbons in gray\n",
        "def viewdocking(protein_name,ligand_name,exp_name):\n",
        "  mview = py3Dmol.view(800, 400)  \n",
        "  mol1 = open(protein_name, 'r').read()\n",
        "  mol2 = open(ligand_name, 'r').read()\n",
        "  mol3 = open(exp_name, 'r').read()\n",
        "  mview.addModel(mol1,'pdb')\n",
        "  mview.setStyle({'cartoon': {'color':'spectrum'}})\n",
        "  mview.addModel(mol2,'pdb')\n",
        "  mview.setStyle({'model':1},{'stick':{'colorscheme':'greenCarbon'}})\n",
        "  mview.addModel(mol3,'pdb')\n",
        "  mview.setStyle({'resn':'MK1'},{'stick':{}})\n",
        "  mview.setBackgroundColor('0xeeeeee')\n",
        "  mview.zoomTo()\n",
        "  mview.show()"
      ],
      "execution_count": null,
      "outputs": []
    },
    {
      "cell_type": "markdown",
      "metadata": {
        "id": "9qOWn5srwvOU"
      },
      "source": [
        "8. The ViewDocking visualizer can then be used as indicated below."
      ]
    },
    {
      "cell_type": "code",
      "metadata": {
        "id": "J4l1PJsfeeek",
        "colab": {
          "base_uri": "https://localhost:8080/",
          "height": 330
        },
        "outputId": "afc435b2-d430-4410-ca2e-d5dcdd9d8a74"
      },
      "source": [
        "#View docking results\n",
        "viewdocking('/content/single-dock/1HSG_prot.pdb','/content/single-dock/indinavir_dock1.pdb','/content/single-dock/xtal_ligand.pdb')\n",
        "#DO IT YOURSELF!\n"
      ],
      "execution_count": null,
      "outputs": [
        {
          "output_type": "error",
          "ename": "FileNotFoundError",
          "evalue": "ignored",
          "traceback": [
            "\u001b[0;31m---------------------------------------------------------------------------\u001b[0m",
            "\u001b[0;31mFileNotFoundError\u001b[0m                         Traceback (most recent call last)",
            "\u001b[0;32m<ipython-input-32-be96b3f65e31>\u001b[0m in \u001b[0;36m<module>\u001b[0;34m()\u001b[0m\n\u001b[1;32m      1\u001b[0m \u001b[0;31m#View docking results\u001b[0m\u001b[0;34m\u001b[0m\u001b[0;34m\u001b[0m\u001b[0;34m\u001b[0m\u001b[0m\n\u001b[0;32m----> 2\u001b[0;31m \u001b[0mviewdocking\u001b[0m\u001b[0;34m(\u001b[0m\u001b[0;34m'/content/single-dock/1HSG_prot.pdb'\u001b[0m\u001b[0;34m,\u001b[0m\u001b[0;34m'/content/single-dock/indinavir_dock1.pdb'\u001b[0m\u001b[0;34m,\u001b[0m\u001b[0;34m'/content/single-dock/xtal_ligand.pdb'\u001b[0m\u001b[0;34m)\u001b[0m\u001b[0;34m\u001b[0m\u001b[0;34m\u001b[0m\u001b[0m\n\u001b[0m\u001b[1;32m      3\u001b[0m \u001b[0;31m#DO IT YOURSELF!\u001b[0m\u001b[0;34m\u001b[0m\u001b[0;34m\u001b[0m\u001b[0;34m\u001b[0m\u001b[0m\n",
            "\u001b[0;32m<ipython-input-31-389decaca146>\u001b[0m in \u001b[0;36mviewdocking\u001b[0;34m(protein_name, ligand_name, exp_name)\u001b[0m\n\u001b[1;32m      5\u001b[0m   \u001b[0mmview\u001b[0m \u001b[0;34m=\u001b[0m \u001b[0mpy3Dmol\u001b[0m\u001b[0;34m.\u001b[0m\u001b[0mview\u001b[0m\u001b[0;34m(\u001b[0m\u001b[0;36m800\u001b[0m\u001b[0;34m,\u001b[0m \u001b[0;36m400\u001b[0m\u001b[0;34m)\u001b[0m\u001b[0;34m\u001b[0m\u001b[0;34m\u001b[0m\u001b[0m\n\u001b[1;32m      6\u001b[0m   \u001b[0mmol1\u001b[0m \u001b[0;34m=\u001b[0m \u001b[0mopen\u001b[0m\u001b[0;34m(\u001b[0m\u001b[0mprotein_name\u001b[0m\u001b[0;34m,\u001b[0m \u001b[0;34m'r'\u001b[0m\u001b[0;34m)\u001b[0m\u001b[0;34m.\u001b[0m\u001b[0mread\u001b[0m\u001b[0;34m(\u001b[0m\u001b[0;34m)\u001b[0m\u001b[0;34m\u001b[0m\u001b[0;34m\u001b[0m\u001b[0m\n\u001b[0;32m----> 7\u001b[0;31m   \u001b[0mmol2\u001b[0m \u001b[0;34m=\u001b[0m \u001b[0mopen\u001b[0m\u001b[0;34m(\u001b[0m\u001b[0mligand_name\u001b[0m\u001b[0;34m,\u001b[0m \u001b[0;34m'r'\u001b[0m\u001b[0;34m)\u001b[0m\u001b[0;34m.\u001b[0m\u001b[0mread\u001b[0m\u001b[0;34m(\u001b[0m\u001b[0;34m)\u001b[0m\u001b[0;34m\u001b[0m\u001b[0;34m\u001b[0m\u001b[0m\n\u001b[0m\u001b[1;32m      8\u001b[0m   \u001b[0mmol3\u001b[0m \u001b[0;34m=\u001b[0m \u001b[0mopen\u001b[0m\u001b[0;34m(\u001b[0m\u001b[0mexp_name\u001b[0m\u001b[0;34m,\u001b[0m \u001b[0;34m'r'\u001b[0m\u001b[0;34m)\u001b[0m\u001b[0;34m.\u001b[0m\u001b[0mread\u001b[0m\u001b[0;34m(\u001b[0m\u001b[0;34m)\u001b[0m\u001b[0;34m\u001b[0m\u001b[0;34m\u001b[0m\u001b[0m\n\u001b[1;32m      9\u001b[0m   \u001b[0mmview\u001b[0m\u001b[0;34m.\u001b[0m\u001b[0maddModel\u001b[0m\u001b[0;34m(\u001b[0m\u001b[0mmol1\u001b[0m\u001b[0;34m,\u001b[0m\u001b[0;34m'pdb'\u001b[0m\u001b[0;34m)\u001b[0m\u001b[0;34m\u001b[0m\u001b[0;34m\u001b[0m\u001b[0m\n",
            "\u001b[0;31mFileNotFoundError\u001b[0m: [Errno 2] No such file or directory: '/content/single-dock/indinavir_dock1.pdb'"
          ]
        }
      ]
    },
    {
      "cell_type": "markdown",
      "metadata": {
        "id": "01wvhddl-IAt"
      },
      "source": [
        "Так же, файлы сгенерированные в ходе этой шпаргалки можно скачать и поработать. Так же крайне рекомендую програмный пакет PyMOL для визуализации файлов pdb и других химических форматов!"
      ]
    },
    {
      "cell_type": "code",
      "metadata": {
        "id": "DPQP2YWD48xx"
      },
      "source": [
        "!zip -r singledocking.zip $singlepath\n",
        "from google.colab import files\n",
        "files.download(\"/content/singledocking.zip\")"
      ],
      "execution_count": null,
      "outputs": []
    },
    {
      "cell_type": "code",
      "metadata": {
        "id": "4UFJHE3Z6w8k"
      },
      "source": [
        ""
      ],
      "execution_count": null,
      "outputs": []
    },
    {
      "cell_type": "markdown",
      "metadata": {
        "id": "EwJxPWAIlwmi"
      },
      "source": [
        "## Машинное обучение для предсказания взаимодействия белок-лиганд "
      ]
    },
    {
      "cell_type": "markdown",
      "metadata": {
        "id": "dqIRlyGul4Op"
      },
      "source": [
        "Воспользуемся уже знакомые нам пакеты DeepChem и rdkit "
      ]
    },
    {
      "cell_type": "code",
      "metadata": {
        "id": "MiMY-8OOoDlA"
      },
      "source": [
        "!curl -Lo conda_installer.py https://raw.githubusercontent.com/deepchem/deepchem/master/scripts/colab_install.py\n"
      ],
      "execution_count": null,
      "outputs": []
    },
    {
      "cell_type": "code",
      "metadata": {
        "id": "QDUqQzgUoHka"
      },
      "source": [
        "import conda_installer\n",
        "conda_installer.install()\n"
      ],
      "execution_count": null,
      "outputs": []
    },
    {
      "cell_type": "code",
      "metadata": {
        "id": "hTO5ujjpl3AY"
      },
      "source": [
        "!pip install deepchem\n",
        "!pip install rdkit-pypi"
      ],
      "execution_count": null,
      "outputs": []
    },
    {
      "cell_type": "code",
      "metadata": {
        "id": "LauGL4P9oIrm"
      },
      "source": [
        "!/root/miniconda/bin/conda install -c conda-forge mdtraj -y -q  # needed for AtomicConvs\n",
        "\n",
        "!pip install --pre deepchem\n"
      ],
      "execution_count": null,
      "outputs": []
    },
    {
      "cell_type": "code",
      "metadata": {
        "id": "DJBzGaI2l98-"
      },
      "source": [
        "import deepchem as dc\n",
        "import os\n",
        "\n",
        "import numpy as np\n",
        "import tensorflow as tf\n",
        "\n",
        "import matplotlib.pyplot as plt\n",
        "\n",
        "from rdkit import Chem\n",
        "\n",
        "from deepchem.molnet import load_pdbbind\n",
        "from deepchem.models import AtomicConvModel\n",
        "from deepchem.feat import AtomicConvFeaturizer"
      ],
      "execution_count": null,
      "outputs": []
    },
    {
      "cell_type": "markdown",
      "metadata": {
        "id": "AzsQ7aLmmXwg"
      },
      "source": [
        "Теперь мы решим следующую задачу. \n",
        "\n",
        "Допустим, у нас уже есть комплекс лиганд-белок. Например, полученный при помощи докинга. \n",
        "\n",
        "Докинг оценивает энергию взаимодействия, но часто плохо. \n",
        "Возможно, можно сделать модель машинного обучения, которая на основе комплекса белка с лигандом, будет предсказывать энергию их взаимодействия "
      ]
    },
    {
      "cell_type": "markdown",
      "metadata": {
        "id": "2s7NrlFRpODV"
      },
      "source": [
        "Препроцессировать признаки и предсказывать их будет методами, описанными в [статье](https://arxiv.org/pdf/1703.10603.pdf) "
      ]
    },
    {
      "cell_type": "code",
      "metadata": {
        "id": "qUrfhLgUmEGw"
      },
      "source": [
        "f1_num_atoms = 100  # maximum number of atoms to consider in the ligand\n",
        "f2_num_atoms = 1000  # maximum number of atoms to consider in the protein\n",
        "max_num_neighbors = 12  # maximum number of spatial neighbors for an atom\n",
        "\n",
        "acf = AtomicConvFeaturizer(frag1_num_atoms=f1_num_atoms,\n",
        "                      frag2_num_atoms=f2_num_atoms,\n",
        "                      complex_num_atoms=f1_num_atoms+f2_num_atoms,\n",
        "                      max_num_neighbors=max_num_neighbors,\n",
        "                      neighbor_cutoff=4)"
      ],
      "execution_count": null,
      "outputs": []
    },
    {
      "cell_type": "code",
      "metadata": {
        "id": "sNsYEb63mQQX"
      },
      "source": [
        "%%time\n",
        "tasks, datasets, transformers = load_pdbbind(featurizer=acf,\n",
        "                                             save_dir='.',\n",
        "                                             data_dir='.',\n",
        "                                             pocket=True,\n",
        "                                             reload=False,\n",
        "                                             set_name='core')"
      ],
      "execution_count": null,
      "outputs": []
    },
    {
      "cell_type": "code",
      "metadata": {
        "id": "XYpruCnvnPJN"
      },
      "source": [
        "datasets"
      ],
      "execution_count": null,
      "outputs": []
    },
    {
      "cell_type": "code",
      "metadata": {
        "id": "6Fan4wWunUIb"
      },
      "source": [
        "train, val, test = datasets"
      ],
      "execution_count": null,
      "outputs": []
    },
    {
      "cell_type": "markdown",
      "metadata": {
        "id": "uFmIMCH-pWvJ"
      },
      "source": [
        "Создадим модель"
      ]
    },
    {
      "cell_type": "code",
      "metadata": {
        "id": "3euXLvzKnWKt"
      },
      "source": [
        "acm = AtomicConvModel(n_tasks=1,\n",
        "                      frag1_num_atoms=f1_num_atoms,\n",
        "                      frag2_num_atoms=f2_num_atoms,\n",
        "                      complex_num_atoms=f1_num_atoms+f2_num_atoms,\n",
        "                      max_num_neighbors=max_num_neighbors,\n",
        "                      batch_size=12,\n",
        "                      layer_sizes=[32, 32, 16],\n",
        "                      learning_rate=0.003,\n",
        "                      )\n"
      ],
      "execution_count": null,
      "outputs": []
    },
    {
      "cell_type": "code",
      "metadata": {
        "id": "96m2Nresnenp"
      },
      "source": [
        "losses, val_losses = [], []"
      ],
      "execution_count": null,
      "outputs": []
    },
    {
      "cell_type": "markdown",
      "metadata": {
        "id": "16b-MNG0pYUn"
      },
      "source": [
        "Обучим ее"
      ]
    },
    {
      "cell_type": "code",
      "metadata": {
        "id": "fOnC-WaLngy3"
      },
      "source": [
        "max_epochs = 50\n",
        "\n",
        "for epoch in range(max_epochs):\n",
        "  loss = acm.fit(train, nb_epoch=1, max_checkpoints_to_keep=1, all_losses=losses)\n",
        "  metric = dc.metrics.Metric(dc.metrics.score_function.rms_score)\n",
        "  val_losses.append(acm.evaluate(val, metrics=[metric])['rms_score']**2)  # L2 Loss\n",
        "\n"
      ],
      "execution_count": null,
      "outputs": []
    },
    {
      "cell_type": "code",
      "metadata": {
        "id": "DA96o4d7noP6"
      },
      "source": [
        "## Plot losses\n"
      ],
      "execution_count": null,
      "outputs": []
    },
    {
      "cell_type": "code",
      "metadata": {
        "id": "xhcAR3cYnisP"
      },
      "source": [
        "score = dc.metrics.Metric(dc.metrics.score_function.pearson_r2_score)\n",
        "for tvt, ds in zip(['train', 'val', 'test'], datasets):\n",
        "  print(tvt, acm.evaluate(ds, metrics=[score]))"
      ],
      "execution_count": null,
      "outputs": []
    },
    {
      "cell_type": "markdown",
      "metadata": {
        "id": "luuiKeICpafe"
      },
      "source": [
        "В принципе не очень плохой скор "
      ]
    },
    {
      "cell_type": "markdown",
      "metadata": {
        "id": "-yykW2kZpetE"
      },
      "source": [
        "Возьмите ваши комплексы из задания с докингом и проскорьте их. Изменилось ли ранжирование?"
      ]
    },
    {
      "cell_type": "code",
      "metadata": {
        "id": "ftkdUCgjnpgb"
      },
      "source": [
        ""
      ],
      "execution_count": null,
      "outputs": []
    },
    {
      "cell_type": "markdown",
      "metadata": {
        "id": "XqQX0lpSpvay"
      },
      "source": [
        "## Предсказание без предварительного докинга "
      ]
    },
    {
      "cell_type": "markdown",
      "metadata": {
        "id": "UdjJ2j7f0cil"
      },
      "source": [
        "Загрузите датасет с веществами с известной активностью в отношении киназы ddlr. \n",
        "\n",
        "Для этого используйте  [ChEMBL](https://www.ebi.ac.uk/chembl)\n",
        "\n"
      ]
    },
    {
      "cell_type": "code",
      "metadata": {
        "id": "XJ-eA_STpyhz"
      },
      "source": [
        "!wget https://kodomo.fbb.msu.ru/FBB/year_20/ml/kinase_inhibitors.csv "
      ],
      "execution_count": null,
      "outputs": []
    },
    {
      "cell_type": "code",
      "metadata": {
        "id": "iWvaOCeczqPd"
      },
      "source": [
        "import pandas as pd"
      ],
      "execution_count": null,
      "outputs": []
    },
    {
      "cell_type": "code",
      "metadata": {
        "id": "bhgQo3lDz2jl"
      },
      "source": [
        "inh = pd.read_csv(\"kinase_inhibitors.csv\", sep=\";\")"
      ],
      "execution_count": null,
      "outputs": []
    },
    {
      "cell_type": "markdown",
      "metadata": {
        "id": "AqzcyMTi0v43"
      },
      "source": [
        "Будет пробовать на основании smiles предсказывать pChEMBL Value, которая, по уутверждению авторов базы, позволяет более-менее сравнивать между собой разные единицы ингибирования "
      ]
    },
    {
      "cell_type": "code",
      "metadata": {
        "id": "Ezcky4Ekz7er"
      },
      "source": [
        "data = inh[['Smiles', 'pChEMBL Value']]"
      ],
      "execution_count": null,
      "outputs": []
    },
    {
      "cell_type": "code",
      "metadata": {
        "id": "DpMguJPj0DRZ"
      },
      "source": [
        "featurizer = dc.molnet.featurizers['ecfp']"
      ],
      "execution_count": null,
      "outputs": []
    },
    {
      "cell_type": "code",
      "metadata": {
        "id": "l6ILRzzS1MKS"
      },
      "source": [
        "X = featurizer.featurize(list(data['Smiles']))"
      ],
      "execution_count": null,
      "outputs": []
    },
    {
      "cell_type": "code",
      "metadata": {
        "id": "5dP4Qo9t1SXB"
      },
      "source": [
        "y = data['pChEMBL Value'].values"
      ],
      "execution_count": null,
      "outputs": []
    },
    {
      "cell_type": "code",
      "metadata": {
        "id": "-7GVwy3e1ToF"
      },
      "source": [
        "from sklearn.ensemble import RandomForestRegressor\n",
        "from sklearn.metrics import r2_score\n",
        "\n",
        "from sklearn.model_selection import train_test_split"
      ],
      "execution_count": null,
      "outputs": []
    },
    {
      "cell_type": "code",
      "metadata": {
        "id": "SxEmH01r1dfq"
      },
      "source": [
        "train_X, test_X, train_Y, test_Y = ..."
      ],
      "execution_count": null,
      "outputs": []
    },
    {
      "cell_type": "code",
      "metadata": {
        "id": "x3lBLbJj1W0A"
      },
      "source": [
        "model = RandomForestRegressor(n_estimators=500)\n",
        "#fit model"
      ],
      "execution_count": null,
      "outputs": []
    },
    {
      "cell_type": "code",
      "metadata": {
        "id": "YFKacnLN2GFc"
      },
      "source": [
        "print(r2_score(y_pred=model.predict(test_X), y_true=test_Y))"
      ],
      "execution_count": null,
      "outputs": []
    },
    {
      "cell_type": "markdown",
      "metadata": {
        "id": "2hN1KKhU2MEs"
      },
      "source": [
        "Видим, что наша модель в принципе научилась предсказывать связывание, пусть и неидеально. \n"
      ]
    },
    {
      "cell_type": "markdown",
      "metadata": {
        "id": "ugwy4Tbs2TDd"
      },
      "source": [
        "### *Добавление декоев\n",
        "\n",
        "У нас в датасете не хватает веществ, которые бы точно не связывались с нашим белком. \n",
        "Мы можем сгенерировать декои - вещества, похожие на наши, но точно не связывающиеся с нашим белком. \n",
        "\n",
        "Делается это при помощи сервиса [DUDE](http://dude.docking.org/generate)"
      ]
    },
    {
      "cell_type": "markdown",
      "metadata": {
        "id": "NNHOJ2bX3AgK"
      },
      "source": [
        "Сгенерируйте декои и добавьте их в датасет. Подумайте, какое значение y им стоит назначить? Или можно как-то переформулировать задачу? "
      ]
    },
    {
      "cell_type": "code",
      "metadata": {
        "id": "9nWwPgDZ-Y_M"
      },
      "source": [
        ""
      ],
      "execution_count": null,
      "outputs": []
    }
  ]
}