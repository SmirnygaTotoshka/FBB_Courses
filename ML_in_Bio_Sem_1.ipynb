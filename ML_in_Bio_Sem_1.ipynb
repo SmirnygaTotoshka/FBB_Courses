{
  "nbformat": 4,
  "nbformat_minor": 0,
  "metadata": {
    "kernelspec": {
      "display_name": "Python 3",
      "language": "python",
      "name": "python3"
    },
    "language_info": {
      "codemirror_mode": {
        "name": "ipython",
        "version": 3
      },
      "file_extension": ".py",
      "mimetype": "text/x-python",
      "name": "python",
      "nbconvert_exporter": "python",
      "pygments_lexer": "ipython3",
      "version": "3.8.5"
    },
    "colab": {
      "name": "ML_in_Bio_Sem_1.ipynb",
      "provenance": [],
      "collapsed_sections": [],
      "include_colab_link": true
    }
  },
  "cells": [
    {
      "cell_type": "markdown",
      "metadata": {
        "id": "view-in-github",
        "colab_type": "text"
      },
      "source": [
        "<a href=\"https://colab.research.google.com/github/SmirnygaTotoshka/FBB_Courses/blob/main/ML_in_Bio_Sem_1.ipynb\" target=\"_parent\"><img src=\"https://colab.research.google.com/assets/colab-badge.svg\" alt=\"Open In Colab\"/></a>"
      ]
    },
    {
      "cell_type": "markdown",
      "metadata": {
        "id": "S2YUk2EqK2I8"
      },
      "source": [
        "# Python for data science"
      ]
    },
    {
      "cell_type": "markdown",
      "metadata": {
        "id": "FrkhU99L8aHW"
      },
      "source": [
        "Если Вы плоховато помните \"голый\" питон - то <a href='https://docs.python.org/3/tutorial/'>вспоминайте</a>."
      ]
    },
    {
      "cell_type": "markdown",
      "metadata": {
        "id": "Mi6Lp_YL9XXh"
      },
      "source": [
        "## Numpy"
      ]
    },
    {
      "cell_type": "markdown",
      "metadata": {
        "id": "YTPNsPAj7juZ"
      },
      "source": [
        "Numpy - библиотека для векторизованных вычислений, манипуляций с многомерными данными, статистического моделирования и многого другого.\n",
        "\n",
        "<a href='https://betterprogramming.pub/numpy-illustrated-the-visual-guide-to-numpy-3b1d4976de1d'>Рекомендую</a>"
      ]
    },
    {
      "cell_type": "code",
      "metadata": {
        "id": "KiuzqiGh9Yz4"
      },
      "source": [
        "import numpy as np"
      ],
      "execution_count": null,
      "outputs": []
    },
    {
      "cell_type": "code",
      "metadata": {
        "colab": {
          "base_uri": "https://localhost:8080/"
        },
        "id": "CdeCKgzZFdZq",
        "outputId": "a16ecdc3-36bb-461d-cbba-c9ed3c5a461e"
      },
      "source": [
        "a = np.arange(15).reshape(3, 5)\n",
        "a"
      ],
      "execution_count": null,
      "outputs": [
        {
          "output_type": "execute_result",
          "data": {
            "text/plain": [
              "array([[ 0,  1,  2,  3,  4],\n",
              "       [ 5,  6,  7,  8,  9],\n",
              "       [10, 11, 12, 13, 14]])"
            ]
          },
          "metadata": {},
          "execution_count": 2
        }
      ]
    },
    {
      "cell_type": "code",
      "metadata": {
        "colab": {
          "base_uri": "https://localhost:8080/"
        },
        "id": "ah62sTZiYhG7",
        "outputId": "f2d7c907-3a45-4c64-86c8-dd0572db5397"
      },
      "source": [
        "type(a)"
      ],
      "execution_count": null,
      "outputs": [
        {
          "output_type": "execute_result",
          "data": {
            "text/plain": [
              "numpy.ndarray"
            ]
          },
          "metadata": {},
          "execution_count": 3
        }
      ]
    },
    {
      "cell_type": "code",
      "metadata": {
        "colab": {
          "base_uri": "https://localhost:8080/"
        },
        "id": "n2JR5qKwYP0o",
        "outputId": "6a222f41-73f2-4839-dd57-548209f5b832"
      },
      "source": [
        "a.shape"
      ],
      "execution_count": null,
      "outputs": [
        {
          "output_type": "execute_result",
          "data": {
            "text/plain": [
              "(3, 5)"
            ]
          },
          "metadata": {},
          "execution_count": 4
        }
      ]
    },
    {
      "cell_type": "code",
      "metadata": {
        "colab": {
          "base_uri": "https://localhost:8080/"
        },
        "id": "4SwUBs1KYSLP",
        "outputId": "524fe784-20d5-4c00-ef07-2935d6cab66f"
      },
      "source": [
        "a.ndim"
      ],
      "execution_count": null,
      "outputs": [
        {
          "output_type": "execute_result",
          "data": {
            "text/plain": [
              "2"
            ]
          },
          "metadata": {},
          "execution_count": 5
        }
      ]
    },
    {
      "cell_type": "code",
      "metadata": {
        "colab": {
          "base_uri": "https://localhost:8080/"
        },
        "id": "pGd25C0yYTxB",
        "outputId": "c2a1f166-9337-4103-896f-3c5dbdfc0268"
      },
      "source": [
        "a.dtype"
      ],
      "execution_count": null,
      "outputs": [
        {
          "output_type": "execute_result",
          "data": {
            "text/plain": [
              "dtype('int64')"
            ]
          },
          "metadata": {},
          "execution_count": 6
        }
      ]
    },
    {
      "cell_type": "code",
      "metadata": {
        "colab": {
          "base_uri": "https://localhost:8080/"
        },
        "id": "N4kzrw8NYV37",
        "outputId": "4f957a4c-de30-4202-d4e1-2559d5fe6a7c"
      },
      "source": [
        "a.itemsize"
      ],
      "execution_count": null,
      "outputs": [
        {
          "output_type": "execute_result",
          "data": {
            "text/plain": [
              "8"
            ]
          },
          "metadata": {},
          "execution_count": 7
        }
      ]
    },
    {
      "cell_type": "code",
      "metadata": {
        "colab": {
          "base_uri": "https://localhost:8080/"
        },
        "id": "kwrh8xf2YX7z",
        "outputId": "0b78f4fb-76ef-4113-b7de-7ab6b94dad43"
      },
      "source": [
        "a.size"
      ],
      "execution_count": null,
      "outputs": [
        {
          "output_type": "execute_result",
          "data": {
            "text/plain": [
              "15"
            ]
          },
          "metadata": {},
          "execution_count": 8
        }
      ]
    },
    {
      "cell_type": "code",
      "metadata": {
        "colab": {
          "base_uri": "https://localhost:8080/"
        },
        "id": "qkgUGsvYYjqc",
        "outputId": "8f8dab4b-efbd-4e77-b400-ac0298449a3f"
      },
      "source": [
        "[feature for feature in dir(a) if '__' not in feature]"
      ],
      "execution_count": null,
      "outputs": [
        {
          "output_type": "execute_result",
          "data": {
            "text/plain": [
              "['T',\n",
              " 'all',\n",
              " 'any',\n",
              " 'argmax',\n",
              " 'argmin',\n",
              " 'argpartition',\n",
              " 'argsort',\n",
              " 'astype',\n",
              " 'base',\n",
              " 'byteswap',\n",
              " 'choose',\n",
              " 'clip',\n",
              " 'compress',\n",
              " 'conj',\n",
              " 'conjugate',\n",
              " 'copy',\n",
              " 'ctypes',\n",
              " 'cumprod',\n",
              " 'cumsum',\n",
              " 'data',\n",
              " 'diagonal',\n",
              " 'dot',\n",
              " 'dtype',\n",
              " 'dump',\n",
              " 'dumps',\n",
              " 'fill',\n",
              " 'flags',\n",
              " 'flat',\n",
              " 'flatten',\n",
              " 'getfield',\n",
              " 'imag',\n",
              " 'item',\n",
              " 'itemset',\n",
              " 'itemsize',\n",
              " 'max',\n",
              " 'mean',\n",
              " 'min',\n",
              " 'nbytes',\n",
              " 'ndim',\n",
              " 'newbyteorder',\n",
              " 'nonzero',\n",
              " 'partition',\n",
              " 'prod',\n",
              " 'ptp',\n",
              " 'put',\n",
              " 'ravel',\n",
              " 'real',\n",
              " 'repeat',\n",
              " 'reshape',\n",
              " 'resize',\n",
              " 'round',\n",
              " 'searchsorted',\n",
              " 'setfield',\n",
              " 'setflags',\n",
              " 'shape',\n",
              " 'size',\n",
              " 'sort',\n",
              " 'squeeze',\n",
              " 'std',\n",
              " 'strides',\n",
              " 'sum',\n",
              " 'swapaxes',\n",
              " 'take',\n",
              " 'tobytes',\n",
              " 'tofile',\n",
              " 'tolist',\n",
              " 'tostring',\n",
              " 'trace',\n",
              " 'transpose',\n",
              " 'var',\n",
              " 'view']"
            ]
          },
          "metadata": {},
          "execution_count": 9
        }
      ]
    },
    {
      "cell_type": "markdown",
      "metadata": {
        "id": "lIiyMRpxc_-d"
      },
      "source": [
        "Создание массива"
      ]
    },
    {
      "cell_type": "code",
      "metadata": {
        "colab": {
          "base_uri": "https://localhost:8080/"
        },
        "id": "CnezIf61dB2l",
        "outputId": "225b0cf6-470e-4611-bf31-917620638208"
      },
      "source": [
        "a = np.array([2, 3, 4])\n",
        "b = np.array([1.2, 3.5, 5.1])\n",
        "\n",
        "a.dtype, b.dtype"
      ],
      "execution_count": null,
      "outputs": [
        {
          "output_type": "execute_result",
          "data": {
            "text/plain": [
              "(dtype('int64'), dtype('float64'))"
            ]
          },
          "metadata": {},
          "execution_count": 10
        }
      ]
    },
    {
      "cell_type": "code",
      "metadata": {
        "colab": {
          "base_uri": "https://localhost:8080/"
        },
        "id": "Sp44Vb5WdKDa",
        "outputId": "5fc44dc9-3371-4237-b3ef-ee505ef3e1fc"
      },
      "source": [
        "c = np.array([(1.5, 2, 3), (4, 5, 6)])\n",
        "c"
      ],
      "execution_count": null,
      "outputs": [
        {
          "output_type": "execute_result",
          "data": {
            "text/plain": [
              "array([[1.5, 2. , 3. ],\n",
              "       [4. , 5. , 6. ]])"
            ]
          },
          "metadata": {},
          "execution_count": 11
        }
      ]
    },
    {
      "cell_type": "code",
      "metadata": {
        "colab": {
          "base_uri": "https://localhost:8080/"
        },
        "id": "Tl1eztcjdMGa",
        "outputId": "3238b056-9f72-426c-bd3c-fb558ae67b96"
      },
      "source": [
        "d = np.array([[1, 2], [3, 4]], dtype=complex)\n",
        "d"
      ],
      "execution_count": null,
      "outputs": [
        {
          "output_type": "execute_result",
          "data": {
            "text/plain": [
              "array([[1.+0.j, 2.+0.j],\n",
              "       [3.+0.j, 4.+0.j]])"
            ]
          },
          "metadata": {},
          "execution_count": 12
        }
      ]
    },
    {
      "cell_type": "markdown",
      "metadata": {
        "id": "Ck0PuDD8dTR-"
      },
      "source": [
        "Вместо "
      ]
    },
    {
      "cell_type": "code",
      "metadata": {
        "colab": {
          "base_uri": "https://localhost:8080/"
        },
        "id": "jahTrpOqdSx_",
        "outputId": "29d329f6-c83a-4e22-eb62-a6e642e3f20c"
      },
      "source": [
        "x = 10\n",
        "y = 3\n",
        "[[0] * x] * y"
      ],
      "execution_count": null,
      "outputs": [
        {
          "output_type": "execute_result",
          "data": {
            "text/plain": [
              "[[0, 0, 0, 0, 0, 0, 0, 0, 0, 0],\n",
              " [0, 0, 0, 0, 0, 0, 0, 0, 0, 0],\n",
              " [0, 0, 0, 0, 0, 0, 0, 0, 0, 0]]"
            ]
          },
          "metadata": {},
          "execution_count": 13
        }
      ]
    },
    {
      "cell_type": "markdown",
      "metadata": {
        "id": "bJfV98xldaan"
      },
      "source": [
        "Можно делать"
      ]
    },
    {
      "cell_type": "code",
      "metadata": {
        "colab": {
          "base_uri": "https://localhost:8080/"
        },
        "id": "dZ_7tnAJdZt7",
        "outputId": "524a99ac-e4fa-415f-a7c5-1783aa143ecd"
      },
      "source": [
        "np.zeros((3, 10), dtype='int')"
      ],
      "execution_count": null,
      "outputs": [
        {
          "output_type": "execute_result",
          "data": {
            "text/plain": [
              "array([[0, 0, 0, 0, 0, 0, 0, 0, 0, 0],\n",
              "       [0, 0, 0, 0, 0, 0, 0, 0, 0, 0],\n",
              "       [0, 0, 0, 0, 0, 0, 0, 0, 0, 0]])"
            ]
          },
          "metadata": {},
          "execution_count": 14
        }
      ]
    },
    {
      "cell_type": "code",
      "metadata": {
        "colab": {
          "base_uri": "https://localhost:8080/"
        },
        "id": "UWfGbOrYdi36",
        "outputId": "fcac9c42-134e-42dd-c45b-4f9a2cc24ab5"
      },
      "source": [
        "np.ones((2, 3, 4), dtype=np.int16)"
      ],
      "execution_count": null,
      "outputs": [
        {
          "output_type": "execute_result",
          "data": {
            "text/plain": [
              "array([[[1, 1, 1, 1],\n",
              "        [1, 1, 1, 1],\n",
              "        [1, 1, 1, 1]],\n",
              "\n",
              "       [[1, 1, 1, 1],\n",
              "        [1, 1, 1, 1],\n",
              "        [1, 1, 1, 1]]], dtype=int16)"
            ]
          },
          "metadata": {},
          "execution_count": 15
        }
      ]
    },
    {
      "cell_type": "code",
      "metadata": {
        "colab": {
          "base_uri": "https://localhost:8080/"
        },
        "id": "wZvXh5WJdmSr",
        "outputId": "d4fdf27c-9fdc-4d4c-c1ec-923ec90200f7"
      },
      "source": [
        "np.empty((2, 3))"
      ],
      "execution_count": null,
      "outputs": [
        {
          "output_type": "execute_result",
          "data": {
            "text/plain": [
              "array([[1.5, 2. , 3. ],\n",
              "       [4. , 5. , 6. ]])"
            ]
          },
          "metadata": {},
          "execution_count": 17
        }
      ]
    },
    {
      "cell_type": "code",
      "metadata": {
        "colab": {
          "base_uri": "https://localhost:8080/"
        },
        "id": "QVb8_DZddyKm",
        "outputId": "df7992ed-df66-48df-914c-f7ebb0370d54"
      },
      "source": [
        "np.arange(10, 30, 5)"
      ],
      "execution_count": null,
      "outputs": [
        {
          "output_type": "execute_result",
          "data": {
            "text/plain": [
              "array([10, 15, 20, 25])"
            ]
          },
          "metadata": {},
          "execution_count": 18
        }
      ]
    },
    {
      "cell_type": "code",
      "metadata": {
        "colab": {
          "base_uri": "https://localhost:8080/"
        },
        "id": "YFlinI6tdzVR",
        "outputId": "8cf20541-1dc8-4808-8be3-87d4438754cd"
      },
      "source": [
        "np.arange(0, 2, 0.3)"
      ],
      "execution_count": null,
      "outputs": [
        {
          "output_type": "execute_result",
          "data": {
            "text/plain": [
              "array([0. , 0.3, 0.6, 0.9, 1.2, 1.5, 1.8])"
            ]
          },
          "metadata": {},
          "execution_count": 19
        }
      ]
    },
    {
      "cell_type": "code",
      "metadata": {
        "colab": {
          "base_uri": "https://localhost:8080/"
        },
        "id": "97_xNGy5d40D",
        "outputId": "58947ab0-560e-4c4f-ac00-0475b94c0cac"
      },
      "source": [
        "np.linspace(0, 2, 9) "
      ],
      "execution_count": null,
      "outputs": [
        {
          "output_type": "execute_result",
          "data": {
            "text/plain": [
              "array([0.  , 0.25, 0.5 , 0.75, 1.  , 1.25, 1.5 , 1.75, 2.  ])"
            ]
          },
          "metadata": {},
          "execution_count": 20
        }
      ]
    },
    {
      "cell_type": "code",
      "metadata": {
        "colab": {
          "base_uri": "https://localhost:8080/"
        },
        "id": "tfNeqV28gumm",
        "outputId": "c9a7224a-cd5c-4890-fa55-6c7a159ad09c"
      },
      "source": [
        "np.random.normal(10, 3, 4)"
      ],
      "execution_count": null,
      "outputs": [
        {
          "output_type": "execute_result",
          "data": {
            "text/plain": [
              "array([11.69956459,  9.7544464 ,  6.0307197 ,  3.45981353])"
            ]
          },
          "metadata": {},
          "execution_count": 24
        }
      ]
    },
    {
      "cell_type": "code",
      "metadata": {
        "colab": {
          "base_uri": "https://localhost:8080/"
        },
        "id": "BXgP8pcakE3h",
        "outputId": "70fceac8-f2b6-4781-a875-e947b1137558"
      },
      "source": [
        "np.random.normal(10, 3, 4)"
      ],
      "execution_count": null,
      "outputs": [
        {
          "output_type": "execute_result",
          "data": {
            "text/plain": [
              "array([13.71253263,  7.76656124,  8.26819974,  9.11031986])"
            ]
          },
          "metadata": {},
          "execution_count": 25
        }
      ]
    },
    {
      "cell_type": "code",
      "metadata": {
        "id": "EhZYb5LREpn_"
      },
      "source": [
        "np.random.seed(10)\n",
        "a = np.random.binomial(10, .4, 12)\n",
        "np.random.seed(10)\n",
        "b = np.random.binomial(10, .4, 12)"
      ],
      "execution_count": null,
      "outputs": []
    },
    {
      "cell_type": "code",
      "metadata": {
        "colab": {
          "base_uri": "https://localhost:8080/"
        },
        "id": "64yLH2owFl-h",
        "outputId": "cdb05da9-969e-4373-b2bf-4600c12fd080"
      },
      "source": [
        "a, b"
      ],
      "execution_count": null,
      "outputs": [
        {
          "output_type": "execute_result",
          "data": {
            "text/plain": [
              "(array([5, 1, 5, 5, 4, 3, 3, 5, 3, 2, 5, 7]),\n",
              " array([5, 1, 5, 5, 4, 3, 3, 5, 3, 2, 5, 7]))"
            ]
          },
          "metadata": {},
          "execution_count": 55
        }
      ]
    },
    {
      "cell_type": "markdown",
      "metadata": {
        "id": "xEcRPGRVeEf8"
      },
      "source": [
        "Арифметика на нампаевских массивах "
      ]
    },
    {
      "cell_type": "code",
      "metadata": {
        "colab": {
          "base_uri": "https://localhost:8080/"
        },
        "id": "jk8ViOnheJj_",
        "outputId": "2fc9ab5f-4db2-4a42-cb67-eb691d96184b"
      },
      "source": [
        "a, b"
      ],
      "execution_count": null,
      "outputs": [
        {
          "output_type": "execute_result",
          "data": {
            "text/plain": [
              "(array([5, 1, 5, 5, 4, 3, 3, 5, 3, 2, 5, 7]),\n",
              " array([5, 1, 5, 5, 4, 3, 3, 5, 3, 2, 5, 7]))"
            ]
          },
          "metadata": {},
          "execution_count": 56
        }
      ]
    },
    {
      "cell_type": "code",
      "metadata": {
        "colab": {
          "base_uri": "https://localhost:8080/"
        },
        "id": "G2GZEBJTd56n",
        "outputId": "77c65e90-ab8b-46c8-aa60-49a4c4b4d9cb"
      },
      "source": [
        "a + b"
      ],
      "execution_count": null,
      "outputs": [
        {
          "output_type": "execute_result",
          "data": {
            "text/plain": [
              "array([10,  2, 10, 10,  8,  6,  6, 10,  6,  4, 10, 14])"
            ]
          },
          "metadata": {},
          "execution_count": 57
        }
      ]
    },
    {
      "cell_type": "code",
      "metadata": {
        "colab": {
          "base_uri": "https://localhost:8080/"
        },
        "id": "rS-TO_KveK6O",
        "outputId": "58b5131a-33b6-4a77-d0a2-ad03e31eb697"
      },
      "source": [
        "10 * np.cos(a)"
      ],
      "execution_count": null,
      "outputs": [
        {
          "output_type": "execute_result",
          "data": {
            "text/plain": [
              "array([ 2.83662185,  5.40302306,  2.83662185,  2.83662185, -6.53643621,\n",
              "       -9.89992497, -9.89992497,  2.83662185, -9.89992497, -4.16146837,\n",
              "        2.83662185,  7.53902254])"
            ]
          },
          "metadata": {},
          "execution_count": 59
        }
      ]
    },
    {
      "cell_type": "code",
      "metadata": {
        "colab": {
          "base_uri": "https://localhost:8080/"
        },
        "id": "O1nIfuqCeN5c",
        "outputId": "62b5a65e-f670-4d9f-cf54-817080bc0ca5"
      },
      "source": [
        "a < 3"
      ],
      "execution_count": null,
      "outputs": [
        {
          "output_type": "execute_result",
          "data": {
            "text/plain": [
              "array([False,  True, False, False, False, False, False, False, False,\n",
              "        True, False, False])"
            ]
          },
          "metadata": {},
          "execution_count": 60
        }
      ]
    },
    {
      "cell_type": "code",
      "metadata": {
        "colab": {
          "base_uri": "https://localhost:8080/"
        },
        "id": "NSy_rBTwpyEh",
        "outputId": "e305f269-99e1-484d-86dd-f7890d3ef4a7"
      },
      "source": [
        "a.sum()"
      ],
      "execution_count": null,
      "outputs": [
        {
          "output_type": "execute_result",
          "data": {
            "text/plain": [
              "48"
            ]
          },
          "metadata": {},
          "execution_count": 61
        }
      ]
    },
    {
      "cell_type": "code",
      "metadata": {
        "id": "9srOh32MeQPm"
      },
      "source": [
        "A = np.array([[1, 1],\n",
        "              [0, 1]])\n",
        "B = np.array([[2, 0],\n",
        "              [3, 4]])"
      ],
      "execution_count": null,
      "outputs": []
    },
    {
      "cell_type": "code",
      "metadata": {
        "colab": {
          "base_uri": "https://localhost:8080/"
        },
        "id": "FiuY7eOeeXpc",
        "outputId": "44c641e8-d6e3-420e-e80b-6e6d10c2304d"
      },
      "source": [
        "A * B    # Поэлементно"
      ],
      "execution_count": null,
      "outputs": [
        {
          "output_type": "execute_result",
          "data": {
            "text/plain": [
              "array([[2, 0],\n",
              "       [0, 4]])"
            ]
          },
          "metadata": {},
          "execution_count": 63
        }
      ]
    },
    {
      "cell_type": "code",
      "metadata": {
        "colab": {
          "base_uri": "https://localhost:8080/"
        },
        "id": "ZR7lP5UyeaWn",
        "outputId": "3cdf2178-ef6a-4686-9fd0-39a76ad4a5e5"
      },
      "source": [
        "A @ B    # Матричное"
      ],
      "execution_count": null,
      "outputs": [
        {
          "output_type": "execute_result",
          "data": {
            "text/plain": [
              "array([[5, 4],\n",
              "       [3, 4]])"
            ]
          },
          "metadata": {},
          "execution_count": 64
        }
      ]
    },
    {
      "cell_type": "code",
      "metadata": {
        "colab": {
          "base_uri": "https://localhost:8080/"
        },
        "id": "CUKyMxDxecsY",
        "outputId": "8610df63-ed27-4f68-c7e9-23c2b36724b3"
      },
      "source": [
        "A.dot(B)"
      ],
      "execution_count": null,
      "outputs": [
        {
          "output_type": "execute_result",
          "data": {
            "text/plain": [
              "array([[5, 4],\n",
              "       [3, 4]])"
            ]
          },
          "metadata": {},
          "execution_count": 65
        }
      ]
    },
    {
      "cell_type": "code",
      "metadata": {
        "id": "iF4wNl5Bg2y1",
        "colab": {
          "base_uri": "https://localhost:8080/"
        },
        "outputId": "78c7baf0-53f9-4e99-b103-293779e0a42c"
      },
      "source": [
        "b = np.arange(12).reshape(3, 4)\n",
        "b"
      ],
      "execution_count": null,
      "outputs": [
        {
          "output_type": "execute_result",
          "data": {
            "text/plain": [
              "array([[ 0,  1,  2,  3],\n",
              "       [ 4,  5,  6,  7],\n",
              "       [ 8,  9, 10, 11]])"
            ]
          },
          "metadata": {},
          "execution_count": 67
        }
      ]
    },
    {
      "cell_type": "code",
      "metadata": {
        "colab": {
          "base_uri": "https://localhost:8080/"
        },
        "id": "RfyN8jU8p5-U",
        "outputId": "54666349-a280-4d10-d326-f6b11107ae80"
      },
      "source": [
        "b.sum(axis=0)    # Колонки"
      ],
      "execution_count": null,
      "outputs": [
        {
          "output_type": "execute_result",
          "data": {
            "text/plain": [
              "array([12, 15, 18, 21])"
            ]
          },
          "metadata": {},
          "execution_count": 68
        }
      ]
    },
    {
      "cell_type": "code",
      "metadata": {
        "colab": {
          "base_uri": "https://localhost:8080/"
        },
        "id": "-BTwJraRH-lq",
        "outputId": "cddd783a-0f65-48f3-f2d2-934014bd7404"
      },
      "source": [
        "b.sum()"
      ],
      "execution_count": null,
      "outputs": [
        {
          "output_type": "execute_result",
          "data": {
            "text/plain": [
              "66"
            ]
          },
          "metadata": {},
          "execution_count": 72
        }
      ]
    },
    {
      "cell_type": "code",
      "metadata": {
        "colab": {
          "base_uri": "https://localhost:8080/"
        },
        "id": "BtjCd7oGp8cz",
        "outputId": "7557a294-1beb-4072-f5c9-46007d5c7360"
      },
      "source": [
        "b.sum(axis=1)    # Строки"
      ],
      "execution_count": null,
      "outputs": [
        {
          "output_type": "execute_result",
          "data": {
            "text/plain": [
              "array([ 6, 22, 38])"
            ]
          },
          "metadata": {},
          "execution_count": 69
        }
      ]
    },
    {
      "cell_type": "code",
      "metadata": {
        "colab": {
          "base_uri": "https://localhost:8080/"
        },
        "id": "aZk7qKFAp-AF",
        "outputId": "35db0269-c6f1-4e21-a647-b3b8569c2cef"
      },
      "source": [
        "b.min(axis=1)"
      ],
      "execution_count": null,
      "outputs": [
        {
          "output_type": "execute_result",
          "data": {
            "text/plain": [
              "array([0, 4, 8])"
            ]
          },
          "metadata": {},
          "execution_count": 70
        }
      ]
    },
    {
      "cell_type": "code",
      "metadata": {
        "colab": {
          "base_uri": "https://localhost:8080/"
        },
        "id": "LY5AAocqIB52",
        "outputId": "68273dbf-7b5c-416d-fc7c-93c43f3be0d0"
      },
      "source": [
        "b.min()"
      ],
      "execution_count": null,
      "outputs": [
        {
          "output_type": "execute_result",
          "data": {
            "text/plain": [
              "0"
            ]
          },
          "metadata": {},
          "execution_count": 73
        }
      ]
    },
    {
      "cell_type": "code",
      "metadata": {
        "colab": {
          "base_uri": "https://localhost:8080/"
        },
        "id": "Y2rIDaSCqDp7",
        "outputId": "5aab3e02-128f-469f-8a3e-4197cf29ff1d"
      },
      "source": [
        "b.cumsum(axis=1)"
      ],
      "execution_count": null,
      "outputs": [
        {
          "output_type": "execute_result",
          "data": {
            "text/plain": [
              "array([[ 0,  1,  3,  6],\n",
              "       [ 4,  9, 15, 22],\n",
              "       [ 8, 17, 27, 38]])"
            ]
          },
          "metadata": {},
          "execution_count": 71
        }
      ]
    },
    {
      "cell_type": "markdown",
      "metadata": {
        "id": "JpJbCKRIqKjA"
      },
      "source": [
        "Функции"
      ]
    },
    {
      "cell_type": "code",
      "metadata": {
        "colab": {
          "base_uri": "https://localhost:8080/"
        },
        "id": "2teOUJj2qG50",
        "outputId": "2d7614c8-ff8f-4935-904e-2de116a1b5f9"
      },
      "source": [
        "np.exp(b)"
      ],
      "execution_count": null,
      "outputs": [
        {
          "output_type": "execute_result",
          "data": {
            "text/plain": [
              "array([[1.00000000e+00, 2.71828183e+00, 7.38905610e+00, 2.00855369e+01],\n",
              "       [5.45981500e+01, 1.48413159e+02, 4.03428793e+02, 1.09663316e+03],\n",
              "       [2.98095799e+03, 8.10308393e+03, 2.20264658e+04, 5.98741417e+04]])"
            ]
          },
          "metadata": {},
          "execution_count": 74
        }
      ]
    },
    {
      "cell_type": "code",
      "metadata": {
        "colab": {
          "base_uri": "https://localhost:8080/"
        },
        "id": "fNcEgwA5qM_F",
        "outputId": "646b275e-7df8-4321-9ad7-4d32203317ff"
      },
      "source": [
        "np.sqrt(b)"
      ],
      "execution_count": null,
      "outputs": [
        {
          "output_type": "execute_result",
          "data": {
            "text/plain": [
              "array([[0.        , 1.        , 1.41421356, 1.73205081],\n",
              "       [2.        , 2.23606798, 2.44948974, 2.64575131],\n",
              "       [2.82842712, 3.        , 3.16227766, 3.31662479]])"
            ]
          },
          "metadata": {},
          "execution_count": 75
        }
      ]
    },
    {
      "cell_type": "code",
      "metadata": {
        "colab": {
          "base_uri": "https://localhost:8080/"
        },
        "id": "rWoWF7exqPEI",
        "outputId": "6b677e6d-5a95-42cb-e9f3-0d1d0b91344c"
      },
      "source": [
        "c = np.array([2., -1., 4., 5])\n",
        "np.add(b, c)                     # Обратите внимание на бродкастинг!"
      ],
      "execution_count": null,
      "outputs": [
        {
          "output_type": "execute_result",
          "data": {
            "text/plain": [
              "array([[ 2.,  0.,  6.,  8.],\n",
              "       [ 6.,  4., 10., 12.],\n",
              "       [10.,  8., 14., 16.]])"
            ]
          },
          "metadata": {},
          "execution_count": 76
        }
      ]
    },
    {
      "cell_type": "code",
      "metadata": {
        "colab": {
          "base_uri": "https://localhost:8080/"
        },
        "id": "su3qOkJgqX3-",
        "outputId": "f51e3770-2290-48e7-8039-e65115890723"
      },
      "source": [
        "np.transpose(b)"
      ],
      "execution_count": null,
      "outputs": [
        {
          "output_type": "execute_result",
          "data": {
            "text/plain": [
              "array([[ 0,  4,  8],\n",
              "       [ 1,  5,  9],\n",
              "       [ 2,  6, 10],\n",
              "       [ 3,  7, 11]])"
            ]
          },
          "metadata": {},
          "execution_count": 77
        }
      ]
    },
    {
      "cell_type": "code",
      "metadata": {
        "colab": {
          "base_uri": "https://localhost:8080/"
        },
        "id": "nOkbtp3bqe9C",
        "outputId": "e5440edc-a175-4686-9060-ff3f137ab438"
      },
      "source": [
        "b.T"
      ],
      "execution_count": null,
      "outputs": [
        {
          "output_type": "execute_result",
          "data": {
            "text/plain": [
              "array([[ 0,  4,  8],\n",
              "       [ 1,  5,  9],\n",
              "       [ 2,  6, 10],\n",
              "       [ 3,  7, 11]])"
            ]
          },
          "metadata": {},
          "execution_count": 78
        }
      ]
    },
    {
      "cell_type": "markdown",
      "metadata": {
        "id": "rKVl7ZBVqwWJ"
      },
      "source": [
        "Индексация"
      ]
    },
    {
      "cell_type": "code",
      "metadata": {
        "colab": {
          "base_uri": "https://localhost:8080/"
        },
        "id": "SJWlbzGAqyOa",
        "outputId": "411856d2-9e5c-479f-e259-8f138d37925a"
      },
      "source": [
        "a = np.arange(10)**3\n",
        "a"
      ],
      "execution_count": null,
      "outputs": [
        {
          "output_type": "execute_result",
          "data": {
            "text/plain": [
              "array([  0,   1,   8,  27,  64, 125, 216, 343, 512, 729])"
            ]
          },
          "metadata": {},
          "execution_count": 79
        }
      ]
    },
    {
      "cell_type": "code",
      "metadata": {
        "colab": {
          "base_uri": "https://localhost:8080/"
        },
        "id": "2SQFHhwCq2Ve",
        "outputId": "d9f8ac4b-dd87-4e7a-d128-0606e09b2384"
      },
      "source": [
        "a[2:5]"
      ],
      "execution_count": null,
      "outputs": [
        {
          "output_type": "execute_result",
          "data": {
            "text/plain": [
              "array([ 8, 27, 64])"
            ]
          },
          "metadata": {},
          "execution_count": 80
        }
      ]
    },
    {
      "cell_type": "code",
      "metadata": {
        "colab": {
          "base_uri": "https://localhost:8080/"
        },
        "id": "gwsZn5o5q7Z0",
        "outputId": "711bbb93-4f19-4c82-8387-f6750d906533"
      },
      "source": [
        "a[:6:2] = 1000\n",
        "a"
      ],
      "execution_count": null,
      "outputs": [
        {
          "output_type": "execute_result",
          "data": {
            "text/plain": [
              "array([1000,    1, 1000,   27, 1000,  125,  216,  343,  512,  729])"
            ]
          },
          "metadata": {},
          "execution_count": 81
        }
      ]
    },
    {
      "cell_type": "code",
      "metadata": {
        "colab": {
          "base_uri": "https://localhost:8080/"
        },
        "id": "ydMqPAdjq-Zz",
        "outputId": "ef1abbc1-6a50-4eae-8a5a-cf547aa24139"
      },
      "source": [
        "a[::-1]"
      ],
      "execution_count": null,
      "outputs": [
        {
          "output_type": "execute_result",
          "data": {
            "text/plain": [
              "array([ 729,  512,  343,  216,  125, 1000,   27, 1000,    1, 1000])"
            ]
          },
          "metadata": {},
          "execution_count": 82
        }
      ]
    },
    {
      "cell_type": "code",
      "metadata": {
        "colab": {
          "base_uri": "https://localhost:8080/"
        },
        "id": "f_b3exSoqo4b",
        "outputId": "dc01a27c-179d-449c-8321-864207d50cee"
      },
      "source": [
        "b"
      ],
      "execution_count": null,
      "outputs": [
        {
          "output_type": "execute_result",
          "data": {
            "text/plain": [
              "array([[ 0,  1,  2,  3],\n",
              "       [ 4,  5,  6,  7],\n",
              "       [ 8,  9, 10, 11]])"
            ]
          },
          "metadata": {},
          "execution_count": 83
        }
      ]
    },
    {
      "cell_type": "code",
      "metadata": {
        "colab": {
          "base_uri": "https://localhost:8080/"
        },
        "id": "1j9AZocQIgy6",
        "outputId": "d1dd863b-e5bd-46a9-c581-02ee6b64de41"
      },
      "source": [
        "b[1]"
      ],
      "execution_count": null,
      "outputs": [
        {
          "output_type": "execute_result",
          "data": {
            "text/plain": [
              "array([4, 5, 6, 7])"
            ]
          },
          "metadata": {},
          "execution_count": 88
        }
      ]
    },
    {
      "cell_type": "code",
      "metadata": {
        "colab": {
          "base_uri": "https://localhost:8080/"
        },
        "id": "Pvs-jjAztqHJ",
        "outputId": "f1b0237f-b61c-4475-8f07-6e2c3134c54a"
      },
      "source": [
        "b[:, 2]"
      ],
      "execution_count": null,
      "outputs": [
        {
          "output_type": "execute_result",
          "data": {
            "text/plain": [
              "array([ 2,  6, 10])"
            ]
          },
          "metadata": {},
          "execution_count": 85
        }
      ]
    },
    {
      "cell_type": "code",
      "metadata": {
        "colab": {
          "base_uri": "https://localhost:8080/"
        },
        "id": "EnQ_-P8UtuvV",
        "outputId": "5873eaf7-8a88-46c4-9307-2c7030ff82a2"
      },
      "source": [
        "b[-1]"
      ],
      "execution_count": null,
      "outputs": [
        {
          "output_type": "execute_result",
          "data": {
            "text/plain": [
              "array([ 8,  9, 10, 11])"
            ]
          },
          "metadata": {},
          "execution_count": 89
        }
      ]
    },
    {
      "cell_type": "code",
      "metadata": {
        "colab": {
          "base_uri": "https://localhost:8080/"
        },
        "id": "1KAWucP_toIL",
        "outputId": "a024bf91-bf59-4cb2-c8f5-50ab61b3f806"
      },
      "source": [
        "np.where(b > 5)"
      ],
      "execution_count": null,
      "outputs": [
        {
          "output_type": "execute_result",
          "data": {
            "text/plain": [
              "(array([1, 1, 2, 2, 2, 2]), array([2, 3, 0, 1, 2, 3]))"
            ]
          },
          "metadata": {},
          "execution_count": 90
        }
      ]
    },
    {
      "cell_type": "code",
      "metadata": {
        "colab": {
          "base_uri": "https://localhost:8080/"
        },
        "id": "ExUq4O0yqgP4",
        "outputId": "7f625f4d-f3fb-4633-be18-053692bdc19c"
      },
      "source": [
        "b[np.where(b > 5)]"
      ],
      "execution_count": null,
      "outputs": [
        {
          "output_type": "execute_result",
          "data": {
            "text/plain": [
              "array([ 6,  7,  8,  9, 10, 11])"
            ]
          },
          "metadata": {
            "tags": []
          },
          "execution_count": 66
        }
      ]
    },
    {
      "cell_type": "code",
      "metadata": {
        "id": "VNOSeb9zqt70"
      },
      "source": [
        "c = np.array([[[  0,  1,  2],  \n",
        "               [ 10, 12, 13]],\n",
        "              [[100, 101, 102],\n",
        "               [110, 112, 113]]])"
      ],
      "execution_count": null,
      "outputs": []
    },
    {
      "cell_type": "code",
      "metadata": {
        "colab": {
          "base_uri": "https://localhost:8080/"
        },
        "id": "e0ANtcpCt7Rb",
        "outputId": "039536d7-3e60-4062-c0cb-6c8ea20ad46f"
      },
      "source": [
        "c[1, ...]"
      ],
      "execution_count": null,
      "outputs": [
        {
          "output_type": "execute_result",
          "data": {
            "text/plain": [
              "array([[100, 101, 102],\n",
              "       [110, 112, 113]])"
            ]
          },
          "metadata": {},
          "execution_count": 92
        }
      ]
    },
    {
      "cell_type": "code",
      "metadata": {
        "colab": {
          "base_uri": "https://localhost:8080/"
        },
        "id": "STBSiks4t-RT",
        "outputId": "3777d2a7-caec-4446-e841-0e5475383d19"
      },
      "source": [
        "c[..., 2]"
      ],
      "execution_count": null,
      "outputs": [
        {
          "output_type": "execute_result",
          "data": {
            "text/plain": [
              "array([[  2,  13],\n",
              "       [102, 113]])"
            ]
          },
          "metadata": {},
          "execution_count": 93
        }
      ]
    },
    {
      "cell_type": "code",
      "metadata": {
        "colab": {
          "base_uri": "https://localhost:8080/"
        },
        "id": "53_MxreguBJ7",
        "outputId": "b6a7b7ce-7a34-45dd-d928-1d5075efb7e3"
      },
      "source": [
        "for row in b:\n",
        "  print(row)"
      ],
      "execution_count": null,
      "outputs": [
        {
          "output_type": "stream",
          "name": "stdout",
          "text": [
            "[0 1 2 3]\n",
            "[4 5 6 7]\n",
            "[ 8  9 10 11]\n"
          ]
        }
      ]
    },
    {
      "cell_type": "code",
      "metadata": {
        "colab": {
          "base_uri": "https://localhost:8080/"
        },
        "id": "TsnpUpwVuEjU",
        "outputId": "f7583cf2-83e3-453d-fa59-899d2708612a"
      },
      "source": [
        "for element in b.flat:\n",
        "  print(element)"
      ],
      "execution_count": null,
      "outputs": [
        {
          "output_type": "stream",
          "name": "stdout",
          "text": [
            "0\n",
            "1\n",
            "2\n",
            "3\n",
            "4\n",
            "5\n",
            "6\n",
            "7\n",
            "8\n",
            "9\n",
            "10\n",
            "11\n"
          ]
        }
      ]
    },
    {
      "cell_type": "markdown",
      "metadata": {
        "id": "n8YRR_YouMFo"
      },
      "source": [
        "Изменение формы"
      ]
    },
    {
      "cell_type": "code",
      "metadata": {
        "colab": {
          "base_uri": "https://localhost:8080/",
          "height": 185
        },
        "id": "PLH4rN-muK_4",
        "outputId": "6e021f90-6605-4571-b962-dea75bcd2af1"
      },
      "source": [
        "a = np.floor(10 * rg.random((3, 4)))\n",
        "a"
      ],
      "execution_count": null,
      "outputs": [
        {
          "output_type": "error",
          "ename": "NameError",
          "evalue": "ignored",
          "traceback": [
            "\u001b[0;31m---------------------------------------------------------------------------\u001b[0m",
            "\u001b[0;31mNameError\u001b[0m                                 Traceback (most recent call last)",
            "\u001b[0;32m<ipython-input-96-980011d4385f>\u001b[0m in \u001b[0;36m<module>\u001b[0;34m()\u001b[0m\n\u001b[0;32m----> 1\u001b[0;31m \u001b[0ma\u001b[0m \u001b[0;34m=\u001b[0m \u001b[0mnp\u001b[0m\u001b[0;34m.\u001b[0m\u001b[0mfloor\u001b[0m\u001b[0;34m(\u001b[0m\u001b[0;36m10\u001b[0m \u001b[0;34m*\u001b[0m \u001b[0mrg\u001b[0m\u001b[0;34m.\u001b[0m\u001b[0mrandom\u001b[0m\u001b[0;34m(\u001b[0m\u001b[0;34m(\u001b[0m\u001b[0;36m3\u001b[0m\u001b[0;34m,\u001b[0m \u001b[0;36m4\u001b[0m\u001b[0;34m)\u001b[0m\u001b[0;34m)\u001b[0m\u001b[0;34m)\u001b[0m\u001b[0;34m\u001b[0m\u001b[0;34m\u001b[0m\u001b[0m\n\u001b[0m\u001b[1;32m      2\u001b[0m \u001b[0ma\u001b[0m\u001b[0;34m\u001b[0m\u001b[0;34m\u001b[0m\u001b[0m\n",
            "\u001b[0;31mNameError\u001b[0m: name 'rg' is not defined"
          ]
        }
      ]
    },
    {
      "cell_type": "code",
      "metadata": {
        "colab": {
          "base_uri": "https://localhost:8080/"
        },
        "id": "39m_M8nyuQXx",
        "outputId": "332f9083-9e4d-4f5e-be0f-acc873d03e95"
      },
      "source": [
        "a.ravel()"
      ],
      "execution_count": null,
      "outputs": [
        {
          "output_type": "execute_result",
          "data": {
            "text/plain": [
              "array([1., 8., 6., 7., 1., 8., 1., 0., 8., 8., 8., 4.])"
            ]
          },
          "metadata": {
            "tags": []
          },
          "execution_count": 89
        }
      ]
    },
    {
      "cell_type": "code",
      "metadata": {
        "colab": {
          "base_uri": "https://localhost:8080/"
        },
        "id": "PqNH6XKwuTAs",
        "outputId": "fdc0539c-d854-4de0-bdbe-afb7d2e4ca9b"
      },
      "source": [
        "a.reshape(6, 2) "
      ],
      "execution_count": null,
      "outputs": [
        {
          "output_type": "execute_result",
          "data": {
            "text/plain": [
              "array([[1., 8.],\n",
              "       [6., 7.],\n",
              "       [1., 8.],\n",
              "       [1., 0.],\n",
              "       [8., 8.],\n",
              "       [8., 4.]])"
            ]
          },
          "metadata": {
            "tags": []
          },
          "execution_count": 90
        }
      ]
    },
    {
      "cell_type": "code",
      "metadata": {
        "colab": {
          "base_uri": "https://localhost:8080/"
        },
        "id": "S3OD6QNPuUtM",
        "outputId": "854f7b6f-884d-4bfc-ae60-c75e3f84de85"
      },
      "source": [
        "a.T"
      ],
      "execution_count": null,
      "outputs": [
        {
          "output_type": "execute_result",
          "data": {
            "text/plain": [
              "array([[1., 1., 8.],\n",
              "       [8., 8., 8.],\n",
              "       [6., 1., 8.],\n",
              "       [7., 0., 4.]])"
            ]
          },
          "metadata": {
            "tags": []
          },
          "execution_count": 91
        }
      ]
    },
    {
      "cell_type": "code",
      "metadata": {
        "colab": {
          "base_uri": "https://localhost:8080/"
        },
        "id": "hJXxRlbNuYaH",
        "outputId": "8f961191-a4d6-423e-e33a-865a305e76da"
      },
      "source": [
        "a.resize((2, 6))\n",
        "a"
      ],
      "execution_count": null,
      "outputs": [
        {
          "output_type": "execute_result",
          "data": {
            "text/plain": [
              "array([[1., 8., 6., 7., 1., 8.],\n",
              "       [1., 0., 8., 8., 8., 4.]])"
            ]
          },
          "metadata": {
            "tags": []
          },
          "execution_count": 92
        }
      ]
    },
    {
      "cell_type": "code",
      "metadata": {
        "colab": {
          "base_uri": "https://localhost:8080/"
        },
        "id": "QHaFiT-evHw8",
        "outputId": "30044a2f-3309-446e-d8d3-0410482805a0"
      },
      "source": [
        "a = np.arange(30)\n",
        "b = a.reshape((2, -1, 3))\n",
        "b"
      ],
      "execution_count": null,
      "outputs": [
        {
          "output_type": "execute_result",
          "data": {
            "text/plain": [
              "array([[[ 0,  1,  2],\n",
              "        [ 3,  4,  5],\n",
              "        [ 6,  7,  8],\n",
              "        [ 9, 10, 11],\n",
              "        [12, 13, 14]],\n",
              "\n",
              "       [[15, 16, 17],\n",
              "        [18, 19, 20],\n",
              "        [21, 22, 23],\n",
              "        [24, 25, 26],\n",
              "        [27, 28, 29]]])"
            ]
          },
          "metadata": {
            "tags": []
          },
          "execution_count": 100
        }
      ]
    },
    {
      "cell_type": "code",
      "metadata": {
        "colab": {
          "base_uri": "https://localhost:8080/"
        },
        "id": "ME2b_MUOuZgv",
        "outputId": "b0ed9fdb-94fd-4b05-99af-a58a3540c11d"
      },
      "source": [
        "a = np.floor(10 * rg.random((2, 2)))\n",
        "b = np.floor(10 * rg.random((2, 2)))\n",
        "\n",
        "a, b "
      ],
      "execution_count": null,
      "outputs": [
        {
          "output_type": "execute_result",
          "data": {
            "text/plain": [
              "(array([[2., 0.],\n",
              "        [6., 7.]]), array([[8., 2.],\n",
              "        [2., 6.]]))"
            ]
          },
          "metadata": {
            "tags": []
          },
          "execution_count": 93
        }
      ]
    },
    {
      "cell_type": "code",
      "metadata": {
        "colab": {
          "base_uri": "https://localhost:8080/"
        },
        "id": "sZgbtu9funb0",
        "outputId": "0a75f00f-e3f9-4f62-d7ad-5d8e51183be6"
      },
      "source": [
        "np.vstack((a, b))"
      ],
      "execution_count": null,
      "outputs": [
        {
          "output_type": "execute_result",
          "data": {
            "text/plain": [
              "array([[2., 0.],\n",
              "       [6., 7.],\n",
              "       [8., 2.],\n",
              "       [2., 6.]])"
            ]
          },
          "metadata": {
            "tags": []
          },
          "execution_count": 94
        }
      ]
    },
    {
      "cell_type": "code",
      "metadata": {
        "colab": {
          "base_uri": "https://localhost:8080/"
        },
        "id": "nszCYtU7upj8",
        "outputId": "b8b8e32a-adb7-40a7-9db6-bacc9c80a632"
      },
      "source": [
        "np.hstack((a, b))"
      ],
      "execution_count": null,
      "outputs": [
        {
          "output_type": "execute_result",
          "data": {
            "text/plain": [
              "array([[2., 0., 8., 2.],\n",
              "       [6., 7., 2., 6.]])"
            ]
          },
          "metadata": {
            "tags": []
          },
          "execution_count": 95
        }
      ]
    },
    {
      "cell_type": "code",
      "metadata": {
        "id": "VwV-xBKKuwnP"
      },
      "source": [
        "a = np.floor(10 * rg.random((2, 12)))"
      ],
      "execution_count": null,
      "outputs": []
    },
    {
      "cell_type": "code",
      "metadata": {
        "colab": {
          "base_uri": "https://localhost:8080/"
        },
        "id": "ByASqj6SuxwE",
        "outputId": "1fe0c9f8-af69-45c6-8634-87dcd16285f3"
      },
      "source": [
        "np.hsplit(a, 3)"
      ],
      "execution_count": null,
      "outputs": [
        {
          "output_type": "execute_result",
          "data": {
            "text/plain": [
              "[array([[8., 9., 1., 4.],\n",
              "        [6., 2., 7., 2.]]), array([[8., 4., 5., 0.],\n",
              "        [8., 0., 8., 1.]]), array([[6., 9., 8., 8.],\n",
              "        [3., 3., 6., 1.]])]"
            ]
          },
          "metadata": {
            "tags": []
          },
          "execution_count": 97
        }
      ]
    },
    {
      "cell_type": "code",
      "metadata": {
        "colab": {
          "base_uri": "https://localhost:8080/"
        },
        "id": "inHHKd2xuzhK",
        "outputId": "279c3424-4a9e-4f1c-a4fd-f39b59e59fa5"
      },
      "source": [
        "np.hsplit(a, (3, 4))"
      ],
      "execution_count": null,
      "outputs": [
        {
          "output_type": "execute_result",
          "data": {
            "text/plain": [
              "[array([[8., 9., 1.],\n",
              "        [6., 2., 7.]]), array([[4.],\n",
              "        [2.]]), array([[8., 4., 5., 0., 6., 9., 8., 8.],\n",
              "        [8., 0., 8., 1., 3., 3., 6., 1.]])]"
            ]
          },
          "metadata": {
            "tags": []
          },
          "execution_count": 98
        }
      ]
    },
    {
      "cell_type": "markdown",
      "metadata": {
        "id": "fCYg1FP2Fe3j"
      },
      "source": [
        "## Matplotlib"
      ]
    },
    {
      "cell_type": "markdown",
      "metadata": {
        "id": "JBok7dnYwP2_"
      },
      "source": [
        "Matplotlib - это библиотека для визуализации данных. "
      ]
    },
    {
      "cell_type": "markdown",
      "metadata": {
        "id": "KMOgbVKYXrkR"
      },
      "source": [
        "Одна из лучших <a href='https://github.com/matplotlib/cheatsheets'>шпаргалок</a> по работе с matplotlib. Также посмотрите на <a href='https://matplotlib.org/stable/gallery/index.html'>примеры</a> на портале библиотеки."
      ]
    },
    {
      "cell_type": "code",
      "metadata": {
        "id": "1kWm4I43wPFG"
      },
      "source": [
        "import matplotlib.pyplot as plt\n",
        "from matplotlib import cm"
      ],
      "execution_count": null,
      "outputs": []
    },
    {
      "cell_type": "markdown",
      "metadata": {
        "id": "-3imqHQFZ22E"
      },
      "source": [
        "Разберём по шагам."
      ]
    },
    {
      "cell_type": "code",
      "metadata": {
        "colab": {
          "base_uri": "https://localhost:8080/",
          "height": 667
        },
        "id": "fOkftPX4xTvo",
        "outputId": "14a2c5e3-7800-4769-dfdb-ea84129ba6a2"
      },
      "source": [
        "plt.style.use('ggplot')\n",
        "\n",
        "\n",
        "fig, axs_ = plt.subplots(nrows=2, ncols=2, figsize=(12, 12))\n",
        "axs = axs_.flatten()\n",
        "\n",
        "\n",
        "x = np.linspace(-np.pi / 2, np.pi / 2, 361)\n",
        "y = np.tan(x)\n",
        "axs[0].set_ylim(-10, 10)\n",
        "axs[0].set_title('Tangent plot', fontdict={'fontsize': 24})\n",
        "axs[0].set_xlabel('X', fontdict={'fontsize': 18})\n",
        "axs[0].set_xticks([-np.pi / 2, -np.pi / 4, 0, np.pi / 4, np.pi / 2])\n",
        "axs[0].set_xticklabels([\"$-\\pi/2$\", \"$-\\pi/4$\", \"0\", \"$\\pi/4$\", \"$\\pi/2$\"],\n",
        "                   fontdict={'fontsize': 14})\n",
        "axs[0].set_ylabel('tan(X)', fontdict={'fontsize': 18})\n",
        "axs[0].set_yticks([-10, -5, -2, 0, 2, 5, 10])\n",
        "axs[0].set_yticklabels(['-10', '-5', '-2', '0', '2', '5', '10'],\n",
        "                   fontdict={'fontsize': 14})\n",
        "axs[0].plot(x, y, lw=4, color=\"green\")\n",
        "axs[0].grid()    # Если стиль - ggplot, то это отключение сетки!\n",
        "\n",
        "\n",
        "x = np.random.normal(0, 1, 100)\n",
        "y = (x + np.random.normal(0, 1, 100)) / 2\n",
        "\n",
        "m, b = np.polyfit(x, y, 1)  \n",
        "x0, x1 = x.min(), x.max()\n",
        "y0, y1 = m * x0 + b, m * x1 + b\n",
        "axs[1].set_title('Regression plot', fontdict={'fontsize': 24})\n",
        "axs[1].set_xlabel('Predictor', fontdict={'fontsize': 18})\n",
        "axs[1].set_ylabel('Outcome', fontdict={'fontsize': 18})\n",
        "axs[1].scatter(x, y, color=\"grey\", marker=\"x\", s=20)\n",
        "axs[1].plot([x0, x1], [y0, y1], color=\"black\", ls=\"-.\",\n",
        "            label=f\"y={m:.2f}x + {b:.2f}\")\n",
        "axs[1].legend(fontsize='xx-large')\n",
        "\n",
        "\n",
        "n_bins = 10\n",
        "x = np.random.randn(1000, 3)\n",
        "\n",
        "axs[2].set_title('Stacked bar', fontdict={'fontsize': 24})\n",
        "axs[2].set_xlabel('Value bins', fontdict={'fontsize': 18})\n",
        "axs[2].set_ylabel('Frequency', fontdict={'fontsize': 18})\n",
        "axs[2].hist(x, n_bins, density=True, histtype='bar', stacked=True)\n",
        "\n",
        "\n",
        "delta = 0.5\n",
        "x = np.arange(-3.0, 4.001, delta)\n",
        "y = np.arange(-4.0, 3.001, delta)\n",
        "X, Y = np.meshgrid(x, y)\n",
        "Z1 = np.exp(-X**2 - Y**2)\n",
        "Z2 = np.exp(-(X - 1)**2 - (Y - 1)**2)\n",
        "Z = (Z1 - Z2) * 2\n",
        "levels = np.arange(-2.0, 1.601, 0.4)\n",
        "\n",
        "norm = cm.colors.Normalize(vmax=abs(Z).max(), vmin=-abs(Z).max())\n",
        "cmap = cm.PRGn\n",
        "\n",
        "axs[3].set_title('Filled contours', fontdict={'fontsize': 24})\n",
        "axs[2].set_xlabel('X', fontdict={'fontsize': 18})\n",
        "axs[2].set_ylabel('Y', fontdict={'fontsize': 18})\n",
        "\n",
        "cset1 = axs[3].contourf(X, Y, Z, levels, norm=norm,\n",
        "                        cmap=cm.get_cmap(cmap, len(levels) - 1))\n",
        "\n",
        "cset2 = axs[3].contour(X, Y, Z, cset1.levels, colors='k')\n",
        "for c in cset2.collections:\n",
        "    c.set_linestyle('solid')\n",
        "\n",
        "cset3 = axs[3].contour(X, Y, Z, (0,), colors='g', linewidths=2)\n",
        "\n",
        "fig.colorbar(cset1, ax=axs[3], label='Z')\n",
        "\n",
        "\n",
        "fig.tight_layout();"
      ],
      "execution_count": null,
      "outputs": [
        {
          "output_type": "display_data",
          "data": {
            "image/png": "[encoded data removed]",
            "text/plain": [
              "<Figure size 864x864 with 5 Axes>"
            ]
          },
          "metadata": {}
        }
      ]
    },
    {
      "cell_type": "markdown",
      "metadata": {
        "id": "Fw309kMraqkC"
      },
      "source": [
        "Многие конкретные рецепты приходится гуглить, это нормально. С первого (а также второго, третьего и N-ого) раза очень сложно запомнить такое множество трюков для модификации картинки."
      ]
    },
    {
      "cell_type": "code",
      "metadata": {
        "colab": {
          "base_uri": "https://localhost:8080/",
          "height": 532
        },
        "id": "ZUoF7cuyd40o",
        "outputId": "f36a09d1-c6ac-4fd6-e724-e0853a3e8b26"
      },
      "source": [
        "a = np.random.normal(0, size=50)\n",
        "b = np.random.normal(1.2, size=190)\n",
        "c = np.random.normal(0.7, 2, size=101)\n",
        "d = np.random.normal(-1, 0.2, size=120)\n",
        "\n",
        "plt.figure(figsize=(12,9))\n",
        "boxprops = dict(linestyle='-', linewidth=3, color='#FFCC11')\n",
        "plt.boxplot([a, b, c, d],\n",
        "            vert=False,\n",
        "            labels=[\"Alpha\", \"Beta\", \"Gamma\", \"Delta\"],\n",
        "            boxprops=boxprops)\n",
        "plt.axvline(0, ls=\"--\", lw=1, color=\"k\")\n",
        "plt.show();"
      ],
      "execution_count": null,
      "outputs": [
        {
          "output_type": "stream",
          "name": "stderr",
          "text": [
            "/usr/local/lib/python3.7/dist-packages/numpy/core/_asarray.py:83: VisibleDeprecationWarning: Creating an ndarray from ragged nested sequences (which is a list-or-tuple of lists-or-tuples-or ndarrays with different lengths or shapes) is deprecated. If you meant to do this, you must specify 'dtype=object' when creating the ndarray\n",
            "  return array(a, dtype, copy=False, order=order)\n"
          ]
        },
        {
          "output_type": "display_data",
          "data": {
            "image/png": "[encoded data removed]",
            "text/plain": [
              "<Figure size 864x648 with 1 Axes>"
            ]
          },
          "metadata": {}
        }
      ]
    },
    {
      "cell_type": "code",
      "metadata": {
        "colab": {
          "base_uri": "https://localhost:8080/",
          "height": 248
        },
        "id": "9m_b4K01dKXK",
        "outputId": "316972e5-00f0-4983-8191-8fcd83362d31"
      },
      "source": [
        "import matplotlib.patches as patches\n",
        "import matplotlib.cbook as cbook\n",
        "\n",
        "# https://ru.wikipedia.org/wiki/%D0%A5%D0%BE%D0%BF%D0%BF%D0%B5%D1%80,_%D0%93%D1%80%D0%B5%D0%B9%D1%81\n",
        "with cbook.get_sample_data('grace_hopper.jpg') as image_file:\n",
        "    image = plt.imread(image_file)\n",
        "\n",
        "fig, ax = plt.subplots()\n",
        "im = ax.imshow(image)\n",
        "patch = patches.Circle((260, 200), radius=200, transform=ax.transData)\n",
        "im.set_clip_path(patch)\n",
        "\n",
        "ax.axis('off')\n",
        "plt.show()"
      ],
      "execution_count": null,
      "outputs": [
        {
          "output_type": "display_data",
          "data": {
            "image/png": "[encoded data removed]",
            "text/plain": [
              "<Figure size 432x288 with 1 Axes>"
            ]
          },
          "metadata": {
            "tags": []
          }
        }
      ]
    },
    {
      "cell_type": "markdown",
      "metadata": {
        "id": "Z1wIrO10fHWJ"
      },
      "source": [
        "### Что рисовать?"
      ]
    },
    {
      "cell_type": "markdown",
      "metadata": {
        "id": "YDbLovLwe7GZ"
      },
      "source": [
        "1. **Тренд или функция**:\n",
        "  1. *Одномерный тренд/функция* -> line plot\n",
        "  2. *Двумерная функция* -> heatmap\n",
        "2. **Сравнение**:\n",
        "  1. *Доли с известным целым* -> pie chart\n",
        "  2. *Остальное* -> bar plot и другие\n",
        "3. **Распределение, зависимость**:\n",
        "  1. *Единственная переменная* -> histogram\n",
        "  2. *Совместное распределение* -> scatter plot, heatmap (если слишком плотно)\n",
        "  3. *Независимые распределения* -> box plot"
      ]
    },
    {
      "cell_type": "markdown",
      "metadata": {
        "id": "uNaj1Qifds8f"
      },
      "source": [
        "## Pandas"
      ]
    },
    {
      "cell_type": "markdown",
      "metadata": {
        "id": "ddhnqpRukQiI"
      },
      "source": [
        "Pandas - это продвинутая высокоуровневая библиотека для анализа табличных данных.\n",
        "\n",
        "В нём реализовано огромное количество методов работы с данными, смотрите <a href='https://pandas.pydata.org/pandas-docs/stable/user_guide/index.html'>User Guide</a>."
      ]
    },
    {
      "cell_type": "code",
      "metadata": {
        "id": "fqmdEcwwfXRH"
      },
      "source": [
        "import pandas as pd"
      ],
      "execution_count": null,
      "outputs": []
    },
    {
      "cell_type": "markdown",
      "metadata": {
        "id": "rLQwrBDkoGvm"
      },
      "source": [
        "Series - одномерный поименованный массив, способный содержать данные любого типа. Его поведение похоже на приятную смесь numpy.ndarray и питоновского словаря."
      ]
    },
    {
      "cell_type": "code",
      "metadata": {
        "colab": {
          "base_uri": "https://localhost:8080/"
        },
        "id": "ki6zu8Y2kP5L",
        "outputId": "95aa8429-0c87-4c6f-c334-98cd6f78620c"
      },
      "source": [
        "s = pd.Series([1, 3, 5, np.nan, 6, 8])\n",
        "s"
      ],
      "execution_count": null,
      "outputs": [
        {
          "output_type": "execute_result",
          "data": {
            "text/plain": [
              "0    1.0\n",
              "1    3.0\n",
              "2    5.0\n",
              "3    NaN\n",
              "4    6.0\n",
              "5    8.0\n",
              "dtype: float64"
            ]
          },
          "metadata": {},
          "execution_count": 109
        }
      ]
    },
    {
      "cell_type": "code",
      "metadata": {
        "colab": {
          "base_uri": "https://localhost:8080/"
        },
        "id": "E1aa8fPOoW7i",
        "outputId": "83a96785-7ea7-400d-da85-b9cdfc3848b2"
      },
      "source": [
        "s = pd.Series([1, 3, 5, np.nan, 6, 8],\n",
        "              index=['a', 'b', 'c', 'd', 'e', 'f'],\n",
        "              name='I AM A PANDAS SERIES',\n",
        "              dtype=np.float32)\n",
        "s"
      ],
      "execution_count": null,
      "outputs": [
        {
          "output_type": "execute_result",
          "data": {
            "text/plain": [
              "a    1.0\n",
              "b    3.0\n",
              "c    5.0\n",
              "d    NaN\n",
              "e    6.0\n",
              "f    8.0\n",
              "Name: I AM A PANDAS SERIES, dtype: float32"
            ]
          },
          "metadata": {},
          "execution_count": 110
        }
      ]
    },
    {
      "cell_type": "code",
      "metadata": {
        "colab": {
          "base_uri": "https://localhost:8080/"
        },
        "id": "EY_bOSQ_ophN",
        "outputId": "8845799a-4111-4263-f641-85d5860b5c45"
      },
      "source": [
        "s.values"
      ],
      "execution_count": null,
      "outputs": [
        {
          "output_type": "execute_result",
          "data": {
            "text/plain": [
              "array([ 1.,  3.,  5., nan,  6.,  8.], dtype=float32)"
            ]
          },
          "metadata": {},
          "execution_count": 111
        }
      ]
    },
    {
      "cell_type": "code",
      "metadata": {
        "colab": {
          "base_uri": "https://localhost:8080/"
        },
        "id": "D-9IpaAlpyVh",
        "outputId": "fddcf21c-71e2-42b9-bf7b-58766ad96f5b"
      },
      "source": [
        "s.index"
      ],
      "execution_count": null,
      "outputs": [
        {
          "output_type": "execute_result",
          "data": {
            "text/plain": [
              "Index(['a', 'b', 'c', 'd', 'e', 'f'], dtype='object')"
            ]
          },
          "metadata": {},
          "execution_count": 112
        }
      ]
    },
    {
      "cell_type": "code",
      "metadata": {
        "colab": {
          "base_uri": "https://localhost:8080/",
          "height": 35
        },
        "id": "UWd18b4Jpz92",
        "outputId": "340123fd-dd31-4aa6-ac2e-df588c234a53"
      },
      "source": [
        "s.name"
      ],
      "execution_count": null,
      "outputs": [
        {
          "output_type": "execute_result",
          "data": {
            "application/vnd.google.colaboratory.intrinsic+json": {
              "type": "string"
            },
            "text/plain": [
              "'I AM A PANDAS SERIES'"
            ]
          },
          "metadata": {},
          "execution_count": 113
        }
      ]
    },
    {
      "cell_type": "code",
      "metadata": {
        "colab": {
          "base_uri": "https://localhost:8080/"
        },
        "id": "YhSTpnwXp2cO",
        "outputId": "5eb0b2fc-fdc0-4099-bc07-4be8f653faea"
      },
      "source": [
        "s.dtype"
      ],
      "execution_count": null,
      "outputs": [
        {
          "output_type": "execute_result",
          "data": {
            "text/plain": [
              "dtype('float32')"
            ]
          },
          "metadata": {},
          "execution_count": 114
        }
      ]
    },
    {
      "cell_type": "code",
      "metadata": {
        "colab": {
          "base_uri": "https://localhost:8080/"
        },
        "id": "8FSZuivHorvC",
        "outputId": "20bccdc9-9fcb-4047-bfb7-13d5197ef378"
      },
      "source": [
        "s.sum()"
      ],
      "execution_count": null,
      "outputs": [
        {
          "output_type": "execute_result",
          "data": {
            "text/plain": [
              "23.0"
            ]
          },
          "metadata": {},
          "execution_count": 115
        }
      ]
    },
    {
      "cell_type": "code",
      "metadata": {
        "colab": {
          "base_uri": "https://localhost:8080/"
        },
        "id": "nmtjUSW6qtbM",
        "outputId": "654b8168-8938-4569-a87d-0afd553862eb"
      },
      "source": [
        "s['b']"
      ],
      "execution_count": null,
      "outputs": [
        {
          "output_type": "execute_result",
          "data": {
            "text/plain": [
              "3.0"
            ]
          },
          "metadata": {},
          "execution_count": 116
        }
      ]
    },
    {
      "cell_type": "code",
      "metadata": {
        "colab": {
          "base_uri": "https://localhost:8080/"
        },
        "id": "NnZNNR4cqupi",
        "outputId": "2e4ac5ec-fd60-4fb7-a9db-d2aaa1cd4f2f"
      },
      "source": [
        "s[['a', 'c']] = -1\n",
        "s"
      ],
      "execution_count": null,
      "outputs": [
        {
          "output_type": "execute_result",
          "data": {
            "text/plain": [
              "a   -1.0\n",
              "b    3.0\n",
              "c   -1.0\n",
              "d    NaN\n",
              "e    6.0\n",
              "f    8.0\n",
              "Name: I AM A PANDAS SERIES, dtype: float32"
            ]
          },
          "metadata": {},
          "execution_count": 119
        }
      ]
    },
    {
      "cell_type": "code",
      "metadata": {
        "colab": {
          "base_uri": "https://localhost:8080/"
        },
        "id": "M-15Ab5Dq3Ag",
        "outputId": "42f34133-aa71-4c8e-bbb7-2c6d8fc721a0"
      },
      "source": [
        "s['h'] = 'h'\n",
        "s"
      ],
      "execution_count": null,
      "outputs": [
        {
          "output_type": "execute_result",
          "data": {
            "text/plain": [
              "a     -1\n",
              "b      3\n",
              "c     -1\n",
              "d    NaN\n",
              "e      6\n",
              "f      8\n",
              "h      h\n",
              "Name: I AM A PANDAS SERIES, dtype: object"
            ]
          },
          "metadata": {
            "tags": []
          },
          "execution_count": 55
        }
      ]
    },
    {
      "cell_type": "code",
      "metadata": {
        "colab": {
          "base_uri": "https://localhost:8080/"
        },
        "id": "GbBmuJ3krBNK",
        "outputId": "89ef42cc-55d3-4e17-8a86-7e15f74cdef1"
      },
      "source": [
        "s.index.name = 'I AM AN INDEX'\n",
        "s"
      ],
      "execution_count": null,
      "outputs": [
        {
          "output_type": "execute_result",
          "data": {
            "text/plain": [
              "I AM AN INDEX\n",
              "a   -1.0\n",
              "b    3.0\n",
              "c   -1.0\n",
              "d    NaN\n",
              "e    6.0\n",
              "f    8.0\n",
              "Name: I AM A PANDAS SERIES, dtype: float32"
            ]
          },
          "metadata": {},
          "execution_count": 120
        }
      ]
    },
    {
      "cell_type": "markdown",
      "metadata": {
        "id": "GGF-uhLtowK4"
      },
      "source": [
        "DataFrame - это табличка, ячейки которой имеют индекс - строку и колонку. "
      ]
    },
    {
      "cell_type": "code",
      "metadata": {
        "colab": {
          "base_uri": "https://localhost:8080/",
          "height": 236
        },
        "id": "pXpY6GORo9b7",
        "outputId": "12c23e41-acf5-4cd9-8628-6c2b2e8f001a"
      },
      "source": [
        "dates = pd.date_range(\"20210101\", periods=6, freq='M')\n",
        "df = pd.DataFrame(np.random.randn(6, 4), index=dates, columns=list(\"ABCD\"))\n",
        "df"
      ],
      "execution_count": null,
      "outputs": [
        {
          "output_type": "execute_result",
          "data": {
            "text/html": [
              "<div>\n",
              "<style scoped>\n",
              "    .dataframe tbody tr th:only-of-type {\n",
              "        vertical-align: middle;\n",
              "    }\n",
              "\n",
              "    .dataframe tbody tr th {\n",
              "        vertical-align: top;\n",
              "    }\n",
              "\n",
              "    .dataframe thead th {\n",
              "        text-align: right;\n",
              "    }\n",
              "</style>\n",
              "<table border=\"1\" class=\"dataframe\">\n",
              "  <thead>\n",
              "    <tr style=\"text-align: right;\">\n",
              "      <th></th>\n",
              "      <th>A</th>\n",
              "      <th>B</th>\n",
              "      <th>C</th>\n",
              "      <th>D</th>\n",
              "    </tr>\n",
              "  </thead>\n",
              "  <tbody>\n",
              "    <tr>\n",
              "      <th>2021-01-31</th>\n",
              "      <td>-0.252395</td>\n",
              "      <td>0.599954</td>\n",
              "      <td>1.450082</td>\n",
              "      <td>-0.726527</td>\n",
              "    </tr>\n",
              "    <tr>\n",
              "      <th>2021-02-28</th>\n",
              "      <td>-0.126977</td>\n",
              "      <td>0.539455</td>\n",
              "      <td>1.294321</td>\n",
              "      <td>-0.395683</td>\n",
              "    </tr>\n",
              "    <tr>\n",
              "      <th>2021-03-31</th>\n",
              "      <td>0.739258</td>\n",
              "      <td>1.478942</td>\n",
              "      <td>-0.085556</td>\n",
              "      <td>-0.772307</td>\n",
              "    </tr>\n",
              "    <tr>\n",
              "      <th>2021-04-30</th>\n",
              "      <td>0.008603</td>\n",
              "      <td>1.298943</td>\n",
              "      <td>1.838002</td>\n",
              "      <td>-1.633394</td>\n",
              "    </tr>\n",
              "    <tr>\n",
              "      <th>2021-05-31</th>\n",
              "      <td>-0.578044</td>\n",
              "      <td>0.737387</td>\n",
              "      <td>-0.006182</td>\n",
              "      <td>0.546091</td>\n",
              "    </tr>\n",
              "    <tr>\n",
              "      <th>2021-06-30</th>\n",
              "      <td>-0.005305</td>\n",
              "      <td>0.021605</td>\n",
              "      <td>-1.676793</td>\n",
              "      <td>-0.561351</td>\n",
              "    </tr>\n",
              "  </tbody>\n",
              "</table>\n",
              "</div>"
            ],
            "text/plain": [
              "                   A         B         C         D\n",
              "2021-01-31 -0.252395  0.599954  1.450082 -0.726527\n",
              "2021-02-28 -0.126977  0.539455  1.294321 -0.395683\n",
              "2021-03-31  0.739258  1.478942 -0.085556 -0.772307\n",
              "2021-04-30  0.008603  1.298943  1.838002 -1.633394\n",
              "2021-05-31 -0.578044  0.737387 -0.006182  0.546091\n",
              "2021-06-30 -0.005305  0.021605 -1.676793 -0.561351"
            ]
          },
          "metadata": {},
          "execution_count": 126
        }
      ]
    },
    {
      "cell_type": "code",
      "metadata": {
        "colab": {
          "base_uri": "https://localhost:8080/"
        },
        "id": "DCqcvkOKpUoS",
        "outputId": "d7479339-1e5b-4fa5-d9da-5f9a5d98b87b"
      },
      "source": [
        "df.info()"
      ],
      "execution_count": null,
      "outputs": [
        {
          "output_type": "stream",
          "name": "stdout",
          "text": [
            "<class 'pandas.core.frame.DataFrame'>\n",
            "DatetimeIndex: 6 entries, 2021-01-31 to 2021-06-30\n",
            "Freq: M\n",
            "Data columns (total 4 columns):\n",
            " #   Column  Non-Null Count  Dtype  \n",
            "---  ------  --------------  -----  \n",
            " 0   A       6 non-null      float64\n",
            " 1   B       6 non-null      float64\n",
            " 2   C       6 non-null      float64\n",
            " 3   D       6 non-null      float64\n",
            "dtypes: float64(4)\n",
            "memory usage: 240.0 bytes\n"
          ]
        }
      ]
    },
    {
      "cell_type": "code",
      "metadata": {
        "id": "k2AAIyRySK4C"
      },
      "source": [
        "df.at['2021-01-31', 'A'] = 'a'"
      ],
      "execution_count": null,
      "outputs": []
    },
    {
      "cell_type": "code",
      "metadata": {
        "colab": {
          "base_uri": "https://localhost:8080/",
          "height": 299
        },
        "id": "wzMUL98cpQ0Q",
        "outputId": "78fcda42-d8d3-44a5-9c26-6f03a5f1e6d1"
      },
      "source": [
        "df.describe()"
      ],
      "execution_count": null,
      "outputs": [
        {
          "output_type": "execute_result",
          "data": {
            "text/html": [
              "<div>\n",
              "<style scoped>\n",
              "    .dataframe tbody tr th:only-of-type {\n",
              "        vertical-align: middle;\n",
              "    }\n",
              "\n",
              "    .dataframe tbody tr th {\n",
              "        vertical-align: top;\n",
              "    }\n",
              "\n",
              "    .dataframe thead th {\n",
              "        text-align: right;\n",
              "    }\n",
              "</style>\n",
              "<table border=\"1\" class=\"dataframe\">\n",
              "  <thead>\n",
              "    <tr style=\"text-align: right;\">\n",
              "      <th></th>\n",
              "      <th>A</th>\n",
              "      <th>B</th>\n",
              "      <th>C</th>\n",
              "      <th>D</th>\n",
              "    </tr>\n",
              "  </thead>\n",
              "  <tbody>\n",
              "    <tr>\n",
              "      <th>count</th>\n",
              "      <td>6.000000</td>\n",
              "      <td>6.000000</td>\n",
              "      <td>6.000000</td>\n",
              "      <td>6.000000</td>\n",
              "    </tr>\n",
              "    <tr>\n",
              "      <th>mean</th>\n",
              "      <td>-0.035810</td>\n",
              "      <td>0.779381</td>\n",
              "      <td>0.468979</td>\n",
              "      <td>-0.590529</td>\n",
              "    </tr>\n",
              "    <tr>\n",
              "      <th>std</th>\n",
              "      <td>0.436548</td>\n",
              "      <td>0.533868</td>\n",
              "      <td>1.315720</td>\n",
              "      <td>0.702827</td>\n",
              "    </tr>\n",
              "    <tr>\n",
              "      <th>min</th>\n",
              "      <td>-0.578044</td>\n",
              "      <td>0.021605</td>\n",
              "      <td>-1.676793</td>\n",
              "      <td>-1.633394</td>\n",
              "    </tr>\n",
              "    <tr>\n",
              "      <th>25%</th>\n",
              "      <td>-0.221041</td>\n",
              "      <td>0.554580</td>\n",
              "      <td>-0.065713</td>\n",
              "      <td>-0.760862</td>\n",
              "    </tr>\n",
              "    <tr>\n",
              "      <th>50%</th>\n",
              "      <td>-0.066141</td>\n",
              "      <td>0.668670</td>\n",
              "      <td>0.644070</td>\n",
              "      <td>-0.643939</td>\n",
              "    </tr>\n",
              "    <tr>\n",
              "      <th>75%</th>\n",
              "      <td>0.005126</td>\n",
              "      <td>1.158554</td>\n",
              "      <td>1.411141</td>\n",
              "      <td>-0.437100</td>\n",
              "    </tr>\n",
              "    <tr>\n",
              "      <th>max</th>\n",
              "      <td>0.739258</td>\n",
              "      <td>1.478942</td>\n",
              "      <td>1.838002</td>\n",
              "      <td>0.546091</td>\n",
              "    </tr>\n",
              "  </tbody>\n",
              "</table>\n",
              "</div>"
            ],
            "text/plain": [
              "              A         B         C         D\n",
              "count  6.000000  6.000000  6.000000  6.000000\n",
              "mean  -0.035810  0.779381  0.468979 -0.590529\n",
              "std    0.436548  0.533868  1.315720  0.702827\n",
              "min   -0.578044  0.021605 -1.676793 -1.633394\n",
              "25%   -0.221041  0.554580 -0.065713 -0.760862\n",
              "50%   -0.066141  0.668670  0.644070 -0.643939\n",
              "75%    0.005126  1.158554  1.411141 -0.437100\n",
              "max    0.739258  1.478942  1.838002  0.546091"
            ]
          },
          "metadata": {},
          "execution_count": 133
        }
      ]
    },
    {
      "cell_type": "code",
      "metadata": {
        "colab": {
          "base_uri": "https://localhost:8080/",
          "height": 174
        },
        "id": "y0H1kkEypZF8",
        "outputId": "4563f5d3-e2ac-4969-8dab-2fd087ff458a"
      },
      "source": [
        "df2 = pd.DataFrame(\n",
        "      {\n",
        "          \"A\": 1.0,\n",
        "          \"B\": pd.Timestamp(\"20130102\"),\n",
        "          \"C\": pd.Series(1, index=list(range(4)), dtype=\"float32\"),\n",
        "          \"D\": np.array([3] * 4, dtype=\"int32\"),\n",
        "          \"E\": pd.Categorical([\"test\", \"train\", \"test\", \"train\"]),\n",
        "          \"F\": \"foo\",\n",
        "      }\n",
        ")\n",
        "df2"
      ],
      "execution_count": null,
      "outputs": [
        {
          "output_type": "execute_result",
          "data": {
            "text/html": [
              "<div>\n",
              "<style scoped>\n",
              "    .dataframe tbody tr th:only-of-type {\n",
              "        vertical-align: middle;\n",
              "    }\n",
              "\n",
              "    .dataframe tbody tr th {\n",
              "        vertical-align: top;\n",
              "    }\n",
              "\n",
              "    .dataframe thead th {\n",
              "        text-align: right;\n",
              "    }\n",
              "</style>\n",
              "<table border=\"1\" class=\"dataframe\">\n",
              "  <thead>\n",
              "    <tr style=\"text-align: right;\">\n",
              "      <th></th>\n",
              "      <th>A</th>\n",
              "      <th>B</th>\n",
              "      <th>C</th>\n",
              "      <th>D</th>\n",
              "      <th>E</th>\n",
              "      <th>F</th>\n",
              "    </tr>\n",
              "  </thead>\n",
              "  <tbody>\n",
              "    <tr>\n",
              "      <th>0</th>\n",
              "      <td>1.0</td>\n",
              "      <td>2013-01-02</td>\n",
              "      <td>1.0</td>\n",
              "      <td>3</td>\n",
              "      <td>test</td>\n",
              "      <td>foo</td>\n",
              "    </tr>\n",
              "    <tr>\n",
              "      <th>1</th>\n",
              "      <td>1.0</td>\n",
              "      <td>2013-01-02</td>\n",
              "      <td>1.0</td>\n",
              "      <td>3</td>\n",
              "      <td>train</td>\n",
              "      <td>foo</td>\n",
              "    </tr>\n",
              "    <tr>\n",
              "      <th>2</th>\n",
              "      <td>1.0</td>\n",
              "      <td>2013-01-02</td>\n",
              "      <td>1.0</td>\n",
              "      <td>3</td>\n",
              "      <td>test</td>\n",
              "      <td>foo</td>\n",
              "    </tr>\n",
              "    <tr>\n",
              "      <th>3</th>\n",
              "      <td>1.0</td>\n",
              "      <td>2013-01-02</td>\n",
              "      <td>1.0</td>\n",
              "      <td>3</td>\n",
              "      <td>train</td>\n",
              "      <td>foo</td>\n",
              "    </tr>\n",
              "  </tbody>\n",
              "</table>\n",
              "</div>"
            ],
            "text/plain": [
              "     A          B    C  D      E    F\n",
              "0  1.0 2013-01-02  1.0  3   test  foo\n",
              "1  1.0 2013-01-02  1.0  3  train  foo\n",
              "2  1.0 2013-01-02  1.0  3   test  foo\n",
              "3  1.0 2013-01-02  1.0  3  train  foo"
            ]
          },
          "metadata": {},
          "execution_count": 138
        }
      ]
    },
    {
      "cell_type": "code",
      "metadata": {
        "colab": {
          "base_uri": "https://localhost:8080/"
        },
        "id": "M8w1FPsXpi9r",
        "outputId": "c84b16dc-2938-4382-9785-a8855469700a"
      },
      "source": [
        "df2.dtypes"
      ],
      "execution_count": null,
      "outputs": [
        {
          "output_type": "execute_result",
          "data": {
            "text/plain": [
              "A           float64\n",
              "B    datetime64[ns]\n",
              "C           float32\n",
              "D             int32\n",
              "E          category\n",
              "F            object\n",
              "dtype: object"
            ]
          },
          "metadata": {},
          "execution_count": 139
        }
      ]
    },
    {
      "cell_type": "code",
      "metadata": {
        "colab": {
          "base_uri": "https://localhost:8080/"
        },
        "id": "v_jc5VMIqEPO",
        "outputId": "ca9e8da7-8255-4e52-90c2-50a287dd7bf0"
      },
      "source": [
        "[feature for feature in dir(df) if '_' not in feature]"
      ],
      "execution_count": null,
      "outputs": [
        {
          "output_type": "execute_result",
          "data": {
            "text/plain": [
              "['A',\n",
              " 'B',\n",
              " 'C',\n",
              " 'D',\n",
              " 'T',\n",
              " 'abs',\n",
              " 'add',\n",
              " 'agg',\n",
              " 'aggregate',\n",
              " 'align',\n",
              " 'all',\n",
              " 'any',\n",
              " 'append',\n",
              " 'apply',\n",
              " 'applymap',\n",
              " 'asfreq',\n",
              " 'asof',\n",
              " 'assign',\n",
              " 'astype',\n",
              " 'at',\n",
              " 'attrs',\n",
              " 'axes',\n",
              " 'backfill',\n",
              " 'bfill',\n",
              " 'bool',\n",
              " 'boxplot',\n",
              " 'clip',\n",
              " 'columns',\n",
              " 'combine',\n",
              " 'compare',\n",
              " 'copy',\n",
              " 'corr',\n",
              " 'corrwith',\n",
              " 'count',\n",
              " 'cov',\n",
              " 'cummax',\n",
              " 'cummin',\n",
              " 'cumprod',\n",
              " 'cumsum',\n",
              " 'describe',\n",
              " 'diff',\n",
              " 'div',\n",
              " 'divide',\n",
              " 'dot',\n",
              " 'drop',\n",
              " 'droplevel',\n",
              " 'dropna',\n",
              " 'dtypes',\n",
              " 'duplicated',\n",
              " 'empty',\n",
              " 'eq',\n",
              " 'equals',\n",
              " 'eval',\n",
              " 'ewm',\n",
              " 'expanding',\n",
              " 'explode',\n",
              " 'ffill',\n",
              " 'fillna',\n",
              " 'filter',\n",
              " 'first',\n",
              " 'floordiv',\n",
              " 'ge',\n",
              " 'get',\n",
              " 'groupby',\n",
              " 'gt',\n",
              " 'head',\n",
              " 'hist',\n",
              " 'iat',\n",
              " 'idxmax',\n",
              " 'idxmin',\n",
              " 'iloc',\n",
              " 'index',\n",
              " 'info',\n",
              " 'insert',\n",
              " 'interpolate',\n",
              " 'isin',\n",
              " 'isna',\n",
              " 'isnull',\n",
              " 'items',\n",
              " 'iteritems',\n",
              " 'iterrows',\n",
              " 'itertuples',\n",
              " 'join',\n",
              " 'keys',\n",
              " 'kurt',\n",
              " 'kurtosis',\n",
              " 'last',\n",
              " 'le',\n",
              " 'loc',\n",
              " 'lookup',\n",
              " 'lt',\n",
              " 'mad',\n",
              " 'mask',\n",
              " 'max',\n",
              " 'mean',\n",
              " 'median',\n",
              " 'melt',\n",
              " 'merge',\n",
              " 'min',\n",
              " 'mod',\n",
              " 'mode',\n",
              " 'mul',\n",
              " 'multiply',\n",
              " 'ndim',\n",
              " 'ne',\n",
              " 'nlargest',\n",
              " 'notna',\n",
              " 'notnull',\n",
              " 'nsmallest',\n",
              " 'nunique',\n",
              " 'pad',\n",
              " 'pipe',\n",
              " 'pivot',\n",
              " 'plot',\n",
              " 'pop',\n",
              " 'pow',\n",
              " 'prod',\n",
              " 'product',\n",
              " 'quantile',\n",
              " 'query',\n",
              " 'radd',\n",
              " 'rank',\n",
              " 'rdiv',\n",
              " 'reindex',\n",
              " 'rename',\n",
              " 'replace',\n",
              " 'resample',\n",
              " 'rfloordiv',\n",
              " 'rmod',\n",
              " 'rmul',\n",
              " 'rolling',\n",
              " 'round',\n",
              " 'rpow',\n",
              " 'rsub',\n",
              " 'rtruediv',\n",
              " 'sample',\n",
              " 'sem',\n",
              " 'shape',\n",
              " 'shift',\n",
              " 'size',\n",
              " 'skew',\n",
              " 'squeeze',\n",
              " 'stack',\n",
              " 'std',\n",
              " 'style',\n",
              " 'sub',\n",
              " 'subtract',\n",
              " 'sum',\n",
              " 'swapaxes',\n",
              " 'swaplevel',\n",
              " 'tail',\n",
              " 'take',\n",
              " 'transform',\n",
              " 'transpose',\n",
              " 'truediv',\n",
              " 'truncate',\n",
              " 'unstack',\n",
              " 'update',\n",
              " 'values',\n",
              " 'var',\n",
              " 'where',\n",
              " 'xs']"
            ]
          },
          "metadata": {},
          "execution_count": 140
        }
      ]
    },
    {
      "cell_type": "code",
      "metadata": {
        "colab": {
          "base_uri": "https://localhost:8080/",
          "height": 205
        },
        "id": "Gtd80F77qj0q",
        "outputId": "464fa3c8-dacd-44ef-ada3-cf983e5fd2d1"
      },
      "source": [
        "df.head()"
      ],
      "execution_count": null,
      "outputs": [
        {
          "output_type": "execute_result",
          "data": {
            "text/html": [
              "<div>\n",
              "<style scoped>\n",
              "    .dataframe tbody tr th:only-of-type {\n",
              "        vertical-align: middle;\n",
              "    }\n",
              "\n",
              "    .dataframe tbody tr th {\n",
              "        vertical-align: top;\n",
              "    }\n",
              "\n",
              "    .dataframe thead th {\n",
              "        text-align: right;\n",
              "    }\n",
              "</style>\n",
              "<table border=\"1\" class=\"dataframe\">\n",
              "  <thead>\n",
              "    <tr style=\"text-align: right;\">\n",
              "      <th></th>\n",
              "      <th>A</th>\n",
              "      <th>B</th>\n",
              "      <th>C</th>\n",
              "      <th>D</th>\n",
              "    </tr>\n",
              "  </thead>\n",
              "  <tbody>\n",
              "    <tr>\n",
              "      <th>2021-01-31</th>\n",
              "      <td>-0.252395</td>\n",
              "      <td>0.599954</td>\n",
              "      <td>1.450082</td>\n",
              "      <td>-0.726527</td>\n",
              "    </tr>\n",
              "    <tr>\n",
              "      <th>2021-02-28</th>\n",
              "      <td>-0.126977</td>\n",
              "      <td>0.539455</td>\n",
              "      <td>1.294321</td>\n",
              "      <td>-0.395683</td>\n",
              "    </tr>\n",
              "    <tr>\n",
              "      <th>2021-03-31</th>\n",
              "      <td>0.739258</td>\n",
              "      <td>1.478942</td>\n",
              "      <td>-0.085556</td>\n",
              "      <td>-0.772307</td>\n",
              "    </tr>\n",
              "    <tr>\n",
              "      <th>2021-04-30</th>\n",
              "      <td>0.008603</td>\n",
              "      <td>1.298943</td>\n",
              "      <td>1.838002</td>\n",
              "      <td>-1.633394</td>\n",
              "    </tr>\n",
              "    <tr>\n",
              "      <th>2021-05-31</th>\n",
              "      <td>-0.578044</td>\n",
              "      <td>0.737387</td>\n",
              "      <td>-0.006182</td>\n",
              "      <td>0.546091</td>\n",
              "    </tr>\n",
              "  </tbody>\n",
              "</table>\n",
              "</div>"
            ],
            "text/plain": [
              "                   A         B         C         D\n",
              "2021-01-31 -0.252395  0.599954  1.450082 -0.726527\n",
              "2021-02-28 -0.126977  0.539455  1.294321 -0.395683\n",
              "2021-03-31  0.739258  1.478942 -0.085556 -0.772307\n",
              "2021-04-30  0.008603  1.298943  1.838002 -1.633394\n",
              "2021-05-31 -0.578044  0.737387 -0.006182  0.546091"
            ]
          },
          "metadata": {},
          "execution_count": 143
        }
      ]
    },
    {
      "cell_type": "code",
      "metadata": {
        "colab": {
          "base_uri": "https://localhost:8080/",
          "height": 80
        },
        "id": "t3bcwyDYql2N",
        "outputId": "b187734e-f333-4665-a731-34b5349d8540"
      },
      "source": [
        "df.tail(1)"
      ],
      "execution_count": null,
      "outputs": [
        {
          "output_type": "execute_result",
          "data": {
            "text/html": [
              "<div>\n",
              "<style scoped>\n",
              "    .dataframe tbody tr th:only-of-type {\n",
              "        vertical-align: middle;\n",
              "    }\n",
              "\n",
              "    .dataframe tbody tr th {\n",
              "        vertical-align: top;\n",
              "    }\n",
              "\n",
              "    .dataframe thead th {\n",
              "        text-align: right;\n",
              "    }\n",
              "</style>\n",
              "<table border=\"1\" class=\"dataframe\">\n",
              "  <thead>\n",
              "    <tr style=\"text-align: right;\">\n",
              "      <th></th>\n",
              "      <th>A</th>\n",
              "      <th>B</th>\n",
              "      <th>C</th>\n",
              "      <th>D</th>\n",
              "    </tr>\n",
              "  </thead>\n",
              "  <tbody>\n",
              "    <tr>\n",
              "      <th>2021-06-30</th>\n",
              "      <td>-0.005305</td>\n",
              "      <td>0.021605</td>\n",
              "      <td>-1.676793</td>\n",
              "      <td>-0.561351</td>\n",
              "    </tr>\n",
              "  </tbody>\n",
              "</table>\n",
              "</div>"
            ],
            "text/plain": [
              "                   A         B         C         D\n",
              "2021-06-30 -0.005305  0.021605 -1.676793 -0.561351"
            ]
          },
          "metadata": {},
          "execution_count": 144
        }
      ]
    },
    {
      "cell_type": "code",
      "metadata": {
        "colab": {
          "base_uri": "https://localhost:8080/"
        },
        "id": "P3MUKag6qn7e",
        "outputId": "7f1a732b-f040-4e22-f30f-9ef57b2756a6"
      },
      "source": [
        "df.to_numpy()"
      ],
      "execution_count": null,
      "outputs": [
        {
          "output_type": "execute_result",
          "data": {
            "text/plain": [
              "array([[-0.25239518,  0.59995386,  1.45008162, -0.726527  ],\n",
              "       [-0.12697741,  0.53945517,  1.29432077, -0.3956829 ],\n",
              "       [ 0.73925778,  1.47894221, -0.08555611, -0.77230747],\n",
              "       [ 0.00860263,  1.2989429 ,  1.8380025 , -1.63339435],\n",
              "       [-0.5780443 ,  0.73738659, -0.00618171,  0.5460912 ],\n",
              "       [-0.00530491,  0.02160532, -1.67679284, -0.56135103]])"
            ]
          },
          "metadata": {},
          "execution_count": 145
        }
      ]
    },
    {
      "cell_type": "code",
      "metadata": {
        "colab": {
          "base_uri": "https://localhost:8080/",
          "height": 174
        },
        "id": "xd2aUQK7sEGs",
        "outputId": "35d25c90-3b8b-4ad2-e07e-be1523c2ce2d"
      },
      "source": [
        "df.T"
      ],
      "execution_count": null,
      "outputs": [
        {
          "output_type": "execute_result",
          "data": {
            "text/html": [
              "<div>\n",
              "<style scoped>\n",
              "    .dataframe tbody tr th:only-of-type {\n",
              "        vertical-align: middle;\n",
              "    }\n",
              "\n",
              "    .dataframe tbody tr th {\n",
              "        vertical-align: top;\n",
              "    }\n",
              "\n",
              "    .dataframe thead th {\n",
              "        text-align: right;\n",
              "    }\n",
              "</style>\n",
              "<table border=\"1\" class=\"dataframe\">\n",
              "  <thead>\n",
              "    <tr style=\"text-align: right;\">\n",
              "      <th></th>\n",
              "      <th>2021-01-31</th>\n",
              "      <th>2021-02-28</th>\n",
              "      <th>2021-03-31</th>\n",
              "      <th>2021-04-30</th>\n",
              "      <th>2021-05-31</th>\n",
              "      <th>2021-06-30</th>\n",
              "    </tr>\n",
              "  </thead>\n",
              "  <tbody>\n",
              "    <tr>\n",
              "      <th>A</th>\n",
              "      <td>-0.252395</td>\n",
              "      <td>-0.126977</td>\n",
              "      <td>0.739258</td>\n",
              "      <td>0.008603</td>\n",
              "      <td>-0.578044</td>\n",
              "      <td>-0.005305</td>\n",
              "    </tr>\n",
              "    <tr>\n",
              "      <th>B</th>\n",
              "      <td>0.599954</td>\n",
              "      <td>0.539455</td>\n",
              "      <td>1.478942</td>\n",
              "      <td>1.298943</td>\n",
              "      <td>0.737387</td>\n",
              "      <td>0.021605</td>\n",
              "    </tr>\n",
              "    <tr>\n",
              "      <th>C</th>\n",
              "      <td>1.450082</td>\n",
              "      <td>1.294321</td>\n",
              "      <td>-0.085556</td>\n",
              "      <td>1.838002</td>\n",
              "      <td>-0.006182</td>\n",
              "      <td>-1.676793</td>\n",
              "    </tr>\n",
              "    <tr>\n",
              "      <th>D</th>\n",
              "      <td>-0.726527</td>\n",
              "      <td>-0.395683</td>\n",
              "      <td>-0.772307</td>\n",
              "      <td>-1.633394</td>\n",
              "      <td>0.546091</td>\n",
              "      <td>-0.561351</td>\n",
              "    </tr>\n",
              "  </tbody>\n",
              "</table>\n",
              "</div>"
            ],
            "text/plain": [
              "   2021-01-31  2021-02-28  2021-03-31  2021-04-30  2021-05-31  2021-06-30\n",
              "A   -0.252395   -0.126977    0.739258    0.008603   -0.578044   -0.005305\n",
              "B    0.599954    0.539455    1.478942    1.298943    0.737387    0.021605\n",
              "C    1.450082    1.294321   -0.085556    1.838002   -0.006182   -1.676793\n",
              "D   -0.726527   -0.395683   -0.772307   -1.633394    0.546091   -0.561351"
            ]
          },
          "metadata": {},
          "execution_count": 146
        }
      ]
    },
    {
      "cell_type": "code",
      "metadata": {
        "colab": {
          "base_uri": "https://localhost:8080/",
          "height": 236
        },
        "id": "D4k7V-nBsQyG",
        "outputId": "563e5477-3bb2-42ad-b1f2-fd1fcd19e560"
      },
      "source": [
        "df.sort_values('B', ascending=False)"
      ],
      "execution_count": null,
      "outputs": [
        {
          "output_type": "execute_result",
          "data": {
            "text/html": [
              "<div>\n",
              "<style scoped>\n",
              "    .dataframe tbody tr th:only-of-type {\n",
              "        vertical-align: middle;\n",
              "    }\n",
              "\n",
              "    .dataframe tbody tr th {\n",
              "        vertical-align: top;\n",
              "    }\n",
              "\n",
              "    .dataframe thead th {\n",
              "        text-align: right;\n",
              "    }\n",
              "</style>\n",
              "<table border=\"1\" class=\"dataframe\">\n",
              "  <thead>\n",
              "    <tr style=\"text-align: right;\">\n",
              "      <th></th>\n",
              "      <th>A</th>\n",
              "      <th>B</th>\n",
              "      <th>C</th>\n",
              "      <th>D</th>\n",
              "    </tr>\n",
              "  </thead>\n",
              "  <tbody>\n",
              "    <tr>\n",
              "      <th>2021-03-31</th>\n",
              "      <td>0.739258</td>\n",
              "      <td>1.478942</td>\n",
              "      <td>-0.085556</td>\n",
              "      <td>-0.772307</td>\n",
              "    </tr>\n",
              "    <tr>\n",
              "      <th>2021-04-30</th>\n",
              "      <td>0.008603</td>\n",
              "      <td>1.298943</td>\n",
              "      <td>1.838002</td>\n",
              "      <td>-1.633394</td>\n",
              "    </tr>\n",
              "    <tr>\n",
              "      <th>2021-05-31</th>\n",
              "      <td>-0.578044</td>\n",
              "      <td>0.737387</td>\n",
              "      <td>-0.006182</td>\n",
              "      <td>0.546091</td>\n",
              "    </tr>\n",
              "    <tr>\n",
              "      <th>2021-01-31</th>\n",
              "      <td>-0.252395</td>\n",
              "      <td>0.599954</td>\n",
              "      <td>1.450082</td>\n",
              "      <td>-0.726527</td>\n",
              "    </tr>\n",
              "    <tr>\n",
              "      <th>2021-02-28</th>\n",
              "      <td>-0.126977</td>\n",
              "      <td>0.539455</td>\n",
              "      <td>1.294321</td>\n",
              "      <td>-0.395683</td>\n",
              "    </tr>\n",
              "    <tr>\n",
              "      <th>2021-06-30</th>\n",
              "      <td>-0.005305</td>\n",
              "      <td>0.021605</td>\n",
              "      <td>-1.676793</td>\n",
              "      <td>-0.561351</td>\n",
              "    </tr>\n",
              "  </tbody>\n",
              "</table>\n",
              "</div>"
            ],
            "text/plain": [
              "                   A         B         C         D\n",
              "2021-03-31  0.739258  1.478942 -0.085556 -0.772307\n",
              "2021-04-30  0.008603  1.298943  1.838002 -1.633394\n",
              "2021-05-31 -0.578044  0.737387 -0.006182  0.546091\n",
              "2021-01-31 -0.252395  0.599954  1.450082 -0.726527\n",
              "2021-02-28 -0.126977  0.539455  1.294321 -0.395683\n",
              "2021-06-30 -0.005305  0.021605 -1.676793 -0.561351"
            ]
          },
          "metadata": {},
          "execution_count": 147
        }
      ]
    },
    {
      "cell_type": "markdown",
      "metadata": {
        "id": "gq_shqU-tAMi"
      },
      "source": [
        "Индексация бывает по лэйблу и по позиции"
      ]
    },
    {
      "cell_type": "code",
      "metadata": {
        "colab": {
          "base_uri": "https://localhost:8080/"
        },
        "id": "_pKsmqCQsaRP",
        "outputId": "e457bc5f-ae31-4a50-e8f0-56ac0511ca67"
      },
      "source": [
        "df['A']"
      ],
      "execution_count": null,
      "outputs": [
        {
          "output_type": "execute_result",
          "data": {
            "text/plain": [
              "2021-01-31   -0.252395\n",
              "2021-02-28   -0.126977\n",
              "2021-03-31    0.739258\n",
              "2021-04-30    0.008603\n",
              "2021-05-31   -0.578044\n",
              "2021-06-30   -0.005305\n",
              "Freq: M, Name: A, dtype: float64"
            ]
          },
          "metadata": {},
          "execution_count": 148
        }
      ]
    },
    {
      "cell_type": "code",
      "metadata": {
        "colab": {
          "base_uri": "https://localhost:8080/",
          "height": 143
        },
        "id": "Vz8xATgftECq",
        "outputId": "e4e30233-c1f0-4a6d-87d3-805fb6ec39e9"
      },
      "source": [
        "df[0:3]"
      ],
      "execution_count": null,
      "outputs": [
        {
          "output_type": "execute_result",
          "data": {
            "text/html": [
              "<div>\n",
              "<style scoped>\n",
              "    .dataframe tbody tr th:only-of-type {\n",
              "        vertical-align: middle;\n",
              "    }\n",
              "\n",
              "    .dataframe tbody tr th {\n",
              "        vertical-align: top;\n",
              "    }\n",
              "\n",
              "    .dataframe thead th {\n",
              "        text-align: right;\n",
              "    }\n",
              "</style>\n",
              "<table border=\"1\" class=\"dataframe\">\n",
              "  <thead>\n",
              "    <tr style=\"text-align: right;\">\n",
              "      <th></th>\n",
              "      <th>A</th>\n",
              "      <th>B</th>\n",
              "      <th>C</th>\n",
              "      <th>D</th>\n",
              "    </tr>\n",
              "  </thead>\n",
              "  <tbody>\n",
              "    <tr>\n",
              "      <th>2021-01-31</th>\n",
              "      <td>-0.252395</td>\n",
              "      <td>0.599954</td>\n",
              "      <td>1.450082</td>\n",
              "      <td>-0.726527</td>\n",
              "    </tr>\n",
              "    <tr>\n",
              "      <th>2021-02-28</th>\n",
              "      <td>-0.126977</td>\n",
              "      <td>0.539455</td>\n",
              "      <td>1.294321</td>\n",
              "      <td>-0.395683</td>\n",
              "    </tr>\n",
              "    <tr>\n",
              "      <th>2021-03-31</th>\n",
              "      <td>0.739258</td>\n",
              "      <td>1.478942</td>\n",
              "      <td>-0.085556</td>\n",
              "      <td>-0.772307</td>\n",
              "    </tr>\n",
              "  </tbody>\n",
              "</table>\n",
              "</div>"
            ],
            "text/plain": [
              "                   A         B         C         D\n",
              "2021-01-31 -0.252395  0.599954  1.450082 -0.726527\n",
              "2021-02-28 -0.126977  0.539455  1.294321 -0.395683\n",
              "2021-03-31  0.739258  1.478942 -0.085556 -0.772307"
            ]
          },
          "metadata": {},
          "execution_count": 149
        }
      ]
    },
    {
      "cell_type": "code",
      "metadata": {
        "colab": {
          "base_uri": "https://localhost:8080/"
        },
        "id": "ommlYhl_tFN6",
        "outputId": "f69d0a17-60d0-4173-eaca-59bf4dc5e212"
      },
      "source": [
        "df.at['20210131', 'A']"
      ],
      "execution_count": null,
      "outputs": [
        {
          "output_type": "execute_result",
          "data": {
            "text/plain": [
              "-0.2523951825327349"
            ]
          },
          "metadata": {},
          "execution_count": 150
        }
      ]
    },
    {
      "cell_type": "code",
      "metadata": {
        "colab": {
          "base_uri": "https://localhost:8080/"
        },
        "id": "UO8rAh-FtImQ",
        "outputId": "d7b0cd82-8713-4baf-a4de-d62317d383a4"
      },
      "source": [
        "df.loc[dates[0]]"
      ],
      "execution_count": null,
      "outputs": [
        {
          "output_type": "execute_result",
          "data": {
            "text/plain": [
              "A   -0.252395\n",
              "B    0.599954\n",
              "C    1.450082\n",
              "D   -0.726527\n",
              "Name: 2021-01-31 00:00:00, dtype: float64"
            ]
          },
          "metadata": {},
          "execution_count": 151
        }
      ]
    },
    {
      "cell_type": "code",
      "metadata": {
        "colab": {
          "base_uri": "https://localhost:8080/",
          "height": 236
        },
        "id": "8WxZXo9VtLn7",
        "outputId": "51fb2ffe-18f3-46a5-ee09-f8d7fbeb549f"
      },
      "source": [
        "df.loc[:, [\"A\", \"B\"]]"
      ],
      "execution_count": null,
      "outputs": [
        {
          "output_type": "execute_result",
          "data": {
            "text/html": [
              "<div>\n",
              "<style scoped>\n",
              "    .dataframe tbody tr th:only-of-type {\n",
              "        vertical-align: middle;\n",
              "    }\n",
              "\n",
              "    .dataframe tbody tr th {\n",
              "        vertical-align: top;\n",
              "    }\n",
              "\n",
              "    .dataframe thead th {\n",
              "        text-align: right;\n",
              "    }\n",
              "</style>\n",
              "<table border=\"1\" class=\"dataframe\">\n",
              "  <thead>\n",
              "    <tr style=\"text-align: right;\">\n",
              "      <th></th>\n",
              "      <th>A</th>\n",
              "      <th>B</th>\n",
              "    </tr>\n",
              "  </thead>\n",
              "  <tbody>\n",
              "    <tr>\n",
              "      <th>2021-01-31</th>\n",
              "      <td>-0.252395</td>\n",
              "      <td>0.599954</td>\n",
              "    </tr>\n",
              "    <tr>\n",
              "      <th>2021-02-28</th>\n",
              "      <td>-0.126977</td>\n",
              "      <td>0.539455</td>\n",
              "    </tr>\n",
              "    <tr>\n",
              "      <th>2021-03-31</th>\n",
              "      <td>0.739258</td>\n",
              "      <td>1.478942</td>\n",
              "    </tr>\n",
              "    <tr>\n",
              "      <th>2021-04-30</th>\n",
              "      <td>0.008603</td>\n",
              "      <td>1.298943</td>\n",
              "    </tr>\n",
              "    <tr>\n",
              "      <th>2021-05-31</th>\n",
              "      <td>-0.578044</td>\n",
              "      <td>0.737387</td>\n",
              "    </tr>\n",
              "    <tr>\n",
              "      <th>2021-06-30</th>\n",
              "      <td>-0.005305</td>\n",
              "      <td>0.021605</td>\n",
              "    </tr>\n",
              "  </tbody>\n",
              "</table>\n",
              "</div>"
            ],
            "text/plain": [
              "                   A         B\n",
              "2021-01-31 -0.252395  0.599954\n",
              "2021-02-28 -0.126977  0.539455\n",
              "2021-03-31  0.739258  1.478942\n",
              "2021-04-30  0.008603  1.298943\n",
              "2021-05-31 -0.578044  0.737387\n",
              "2021-06-30 -0.005305  0.021605"
            ]
          },
          "metadata": {},
          "execution_count": 152
        }
      ]
    },
    {
      "cell_type": "code",
      "metadata": {
        "colab": {
          "base_uri": "https://localhost:8080/"
        },
        "id": "ABUmbQBRtOGe",
        "outputId": "0d8ca8e8-b1c1-4d8b-ec08-9e677398f72a"
      },
      "source": [
        "df.iloc[3]"
      ],
      "execution_count": null,
      "outputs": [
        {
          "output_type": "execute_result",
          "data": {
            "text/plain": [
              "A    0.008603\n",
              "B    1.298943\n",
              "C    1.838002\n",
              "D   -1.633394\n",
              "Name: 2021-04-30 00:00:00, dtype: float64"
            ]
          },
          "metadata": {},
          "execution_count": 153
        }
      ]
    },
    {
      "cell_type": "code",
      "metadata": {
        "colab": {
          "base_uri": "https://localhost:8080/"
        },
        "id": "YPpy-KDqtgTc",
        "outputId": "d4300b1f-1f36-40a3-8d1b-8cea34010f5c"
      },
      "source": [
        "df.iat[1, 1]"
      ],
      "execution_count": null,
      "outputs": [
        {
          "output_type": "execute_result",
          "data": {
            "text/plain": [
              "0.5394551747702221"
            ]
          },
          "metadata": {},
          "execution_count": 154
        }
      ]
    },
    {
      "cell_type": "markdown",
      "metadata": {
        "id": "6eTqjr6rtlit"
      },
      "source": [
        "Как и в NumPy, в Pandas доступна индексация по bool, таким образом возможно фильтровать данные."
      ]
    },
    {
      "cell_type": "code",
      "metadata": {
        "id": "fgIDGJ-wtifM",
        "colab": {
          "base_uri": "https://localhost:8080/",
          "height": 111
        },
        "outputId": "6fe6696e-c065-4f0e-f72a-3da97b7e58ab"
      },
      "source": [
        "df[df[\"A\"] > 0]"
      ],
      "execution_count": null,
      "outputs": [
        {
          "output_type": "execute_result",
          "data": {
            "text/html": [
              "<div>\n",
              "<style scoped>\n",
              "    .dataframe tbody tr th:only-of-type {\n",
              "        vertical-align: middle;\n",
              "    }\n",
              "\n",
              "    .dataframe tbody tr th {\n",
              "        vertical-align: top;\n",
              "    }\n",
              "\n",
              "    .dataframe thead th {\n",
              "        text-align: right;\n",
              "    }\n",
              "</style>\n",
              "<table border=\"1\" class=\"dataframe\">\n",
              "  <thead>\n",
              "    <tr style=\"text-align: right;\">\n",
              "      <th></th>\n",
              "      <th>A</th>\n",
              "      <th>B</th>\n",
              "      <th>C</th>\n",
              "      <th>D</th>\n",
              "    </tr>\n",
              "  </thead>\n",
              "  <tbody>\n",
              "    <tr>\n",
              "      <th>2021-03-31</th>\n",
              "      <td>0.739258</td>\n",
              "      <td>1.478942</td>\n",
              "      <td>-0.085556</td>\n",
              "      <td>-0.772307</td>\n",
              "    </tr>\n",
              "    <tr>\n",
              "      <th>2021-04-30</th>\n",
              "      <td>0.008603</td>\n",
              "      <td>1.298943</td>\n",
              "      <td>1.838002</td>\n",
              "      <td>-1.633394</td>\n",
              "    </tr>\n",
              "  </tbody>\n",
              "</table>\n",
              "</div>"
            ],
            "text/plain": [
              "                   A         B         C         D\n",
              "2021-03-31  0.739258  1.478942 -0.085556 -0.772307\n",
              "2021-04-30  0.008603  1.298943  1.838002 -1.633394"
            ]
          },
          "metadata": {},
          "execution_count": 155
        }
      ]
    },
    {
      "cell_type": "code",
      "metadata": {
        "colab": {
          "base_uri": "https://localhost:8080/",
          "height": 236
        },
        "id": "7-2YRze7uK_N",
        "outputId": "f0aaeeeb-9d70-4419-a4d6-92efe3b4ec1c"
      },
      "source": [
        "df[df > 0]"
      ],
      "execution_count": null,
      "outputs": [
        {
          "output_type": "execute_result",
          "data": {
            "text/html": [
              "<div>\n",
              "<style scoped>\n",
              "    .dataframe tbody tr th:only-of-type {\n",
              "        vertical-align: middle;\n",
              "    }\n",
              "\n",
              "    .dataframe tbody tr th {\n",
              "        vertical-align: top;\n",
              "    }\n",
              "\n",
              "    .dataframe thead th {\n",
              "        text-align: right;\n",
              "    }\n",
              "</style>\n",
              "<table border=\"1\" class=\"dataframe\">\n",
              "  <thead>\n",
              "    <tr style=\"text-align: right;\">\n",
              "      <th></th>\n",
              "      <th>A</th>\n",
              "      <th>B</th>\n",
              "      <th>C</th>\n",
              "      <th>D</th>\n",
              "    </tr>\n",
              "  </thead>\n",
              "  <tbody>\n",
              "    <tr>\n",
              "      <th>2021-01-31</th>\n",
              "      <td>NaN</td>\n",
              "      <td>0.599954</td>\n",
              "      <td>1.450082</td>\n",
              "      <td>NaN</td>\n",
              "    </tr>\n",
              "    <tr>\n",
              "      <th>2021-02-28</th>\n",
              "      <td>NaN</td>\n",
              "      <td>0.539455</td>\n",
              "      <td>1.294321</td>\n",
              "      <td>NaN</td>\n",
              "    </tr>\n",
              "    <tr>\n",
              "      <th>2021-03-31</th>\n",
              "      <td>0.739258</td>\n",
              "      <td>1.478942</td>\n",
              "      <td>NaN</td>\n",
              "      <td>NaN</td>\n",
              "    </tr>\n",
              "    <tr>\n",
              "      <th>2021-04-30</th>\n",
              "      <td>0.008603</td>\n",
              "      <td>1.298943</td>\n",
              "      <td>1.838002</td>\n",
              "      <td>NaN</td>\n",
              "    </tr>\n",
              "    <tr>\n",
              "      <th>2021-05-31</th>\n",
              "      <td>NaN</td>\n",
              "      <td>0.737387</td>\n",
              "      <td>NaN</td>\n",
              "      <td>0.546091</td>\n",
              "    </tr>\n",
              "    <tr>\n",
              "      <th>2021-06-30</th>\n",
              "      <td>NaN</td>\n",
              "      <td>0.021605</td>\n",
              "      <td>NaN</td>\n",
              "      <td>NaN</td>\n",
              "    </tr>\n",
              "  </tbody>\n",
              "</table>\n",
              "</div>"
            ],
            "text/plain": [
              "                   A         B         C         D\n",
              "2021-01-31       NaN  0.599954  1.450082       NaN\n",
              "2021-02-28       NaN  0.539455  1.294321       NaN\n",
              "2021-03-31  0.739258  1.478942       NaN       NaN\n",
              "2021-04-30  0.008603  1.298943  1.838002       NaN\n",
              "2021-05-31       NaN  0.737387       NaN  0.546091\n",
              "2021-06-30       NaN  0.021605       NaN       NaN"
            ]
          },
          "metadata": {},
          "execution_count": 156
        }
      ]
    },
    {
      "cell_type": "code",
      "metadata": {
        "colab": {
          "base_uri": "https://localhost:8080/",
          "height": 111
        },
        "id": "NBy7Ld5LuMMz",
        "outputId": "738227a2-9365-46f8-9adf-243715264d13"
      },
      "source": [
        "df[df['A'].between(0, 1)]"
      ],
      "execution_count": null,
      "outputs": [
        {
          "output_type": "execute_result",
          "data": {
            "text/html": [
              "<div>\n",
              "<style scoped>\n",
              "    .dataframe tbody tr th:only-of-type {\n",
              "        vertical-align: middle;\n",
              "    }\n",
              "\n",
              "    .dataframe tbody tr th {\n",
              "        vertical-align: top;\n",
              "    }\n",
              "\n",
              "    .dataframe thead th {\n",
              "        text-align: right;\n",
              "    }\n",
              "</style>\n",
              "<table border=\"1\" class=\"dataframe\">\n",
              "  <thead>\n",
              "    <tr style=\"text-align: right;\">\n",
              "      <th></th>\n",
              "      <th>A</th>\n",
              "      <th>B</th>\n",
              "      <th>C</th>\n",
              "      <th>D</th>\n",
              "    </tr>\n",
              "  </thead>\n",
              "  <tbody>\n",
              "    <tr>\n",
              "      <th>2021-03-31</th>\n",
              "      <td>0.739258</td>\n",
              "      <td>1.478942</td>\n",
              "      <td>-0.085556</td>\n",
              "      <td>-0.772307</td>\n",
              "    </tr>\n",
              "    <tr>\n",
              "      <th>2021-04-30</th>\n",
              "      <td>0.008603</td>\n",
              "      <td>1.298943</td>\n",
              "      <td>1.838002</td>\n",
              "      <td>-1.633394</td>\n",
              "    </tr>\n",
              "  </tbody>\n",
              "</table>\n",
              "</div>"
            ],
            "text/plain": [
              "                   A         B         C         D\n",
              "2021-03-31  0.739258  1.478942 -0.085556 -0.772307\n",
              "2021-04-30  0.008603  1.298943  1.838002 -1.633394"
            ]
          },
          "metadata": {},
          "execution_count": 157
        }
      ]
    },
    {
      "cell_type": "code",
      "metadata": {
        "colab": {
          "base_uri": "https://localhost:8080/",
          "height": 143
        },
        "id": "dHcrun5suQnE",
        "outputId": "c03fc849-2189-4391-aad5-f14cee69fe62"
      },
      "source": [
        "df2 = df.copy()\n",
        "df2[\"E\"] = [\"one\", \"one\", \"two\", \"three\", \"four\", \"three\"]\n",
        "df2[df2['E'].isin(['three', 'four'])]"
      ],
      "execution_count": null,
      "outputs": [
        {
          "output_type": "execute_result",
          "data": {
            "text/html": [
              "<div>\n",
              "<style scoped>\n",
              "    .dataframe tbody tr th:only-of-type {\n",
              "        vertical-align: middle;\n",
              "    }\n",
              "\n",
              "    .dataframe tbody tr th {\n",
              "        vertical-align: top;\n",
              "    }\n",
              "\n",
              "    .dataframe thead th {\n",
              "        text-align: right;\n",
              "    }\n",
              "</style>\n",
              "<table border=\"1\" class=\"dataframe\">\n",
              "  <thead>\n",
              "    <tr style=\"text-align: right;\">\n",
              "      <th></th>\n",
              "      <th>A</th>\n",
              "      <th>B</th>\n",
              "      <th>C</th>\n",
              "      <th>D</th>\n",
              "      <th>E</th>\n",
              "    </tr>\n",
              "  </thead>\n",
              "  <tbody>\n",
              "    <tr>\n",
              "      <th>2021-04-30</th>\n",
              "      <td>0.008603</td>\n",
              "      <td>1.298943</td>\n",
              "      <td>1.838002</td>\n",
              "      <td>-1.633394</td>\n",
              "      <td>three</td>\n",
              "    </tr>\n",
              "    <tr>\n",
              "      <th>2021-05-31</th>\n",
              "      <td>-0.578044</td>\n",
              "      <td>0.737387</td>\n",
              "      <td>-0.006182</td>\n",
              "      <td>0.546091</td>\n",
              "      <td>four</td>\n",
              "    </tr>\n",
              "    <tr>\n",
              "      <th>2021-06-30</th>\n",
              "      <td>-0.005305</td>\n",
              "      <td>0.021605</td>\n",
              "      <td>-1.676793</td>\n",
              "      <td>-0.561351</td>\n",
              "      <td>three</td>\n",
              "    </tr>\n",
              "  </tbody>\n",
              "</table>\n",
              "</div>"
            ],
            "text/plain": [
              "                   A         B         C         D      E\n",
              "2021-04-30  0.008603  1.298943  1.838002 -1.633394  three\n",
              "2021-05-31 -0.578044  0.737387 -0.006182  0.546091   four\n",
              "2021-06-30 -0.005305  0.021605 -1.676793 -0.561351  three"
            ]
          },
          "metadata": {},
          "execution_count": 158
        }
      ]
    },
    {
      "cell_type": "code",
      "metadata": {
        "colab": {
          "base_uri": "https://localhost:8080/"
        },
        "id": "PmyexihgxJnp",
        "outputId": "b0024439-3ae4-4394-ffa7-e770bfe08d23"
      },
      "source": [
        "df2['E'].value_counts()"
      ],
      "execution_count": null,
      "outputs": [
        {
          "output_type": "execute_result",
          "data": {
            "text/plain": [
              "three    2\n",
              "one      2\n",
              "two      1\n",
              "four     1\n",
              "Name: E, dtype: int64"
            ]
          },
          "metadata": {
            "tags": []
          },
          "execution_count": 87
        }
      ]
    },
    {
      "cell_type": "code",
      "metadata": {
        "colab": {
          "base_uri": "https://localhost:8080/"
        },
        "id": "i3htO6Qfu8MX",
        "outputId": "32bd7ea8-63ac-4cb1-b465-8996beaa4b00"
      },
      "source": [
        "s1 = pd.Series([1, 2, 3, 4, 5, 6], index=pd.date_range(\"20210201\", periods=6, freq='M'))\n",
        "s1"
      ],
      "execution_count": null,
      "outputs": [
        {
          "output_type": "execute_result",
          "data": {
            "text/plain": [
              "2021-02-28    1\n",
              "2021-03-31    2\n",
              "2021-04-30    3\n",
              "2021-05-31    4\n",
              "2021-06-30    5\n",
              "2021-07-31    6\n",
              "Freq: M, dtype: int64"
            ]
          },
          "metadata": {
            "tags": []
          },
          "execution_count": 76
        }
      ]
    },
    {
      "cell_type": "code",
      "metadata": {
        "colab": {
          "base_uri": "https://localhost:8080/",
          "height": 235
        },
        "id": "jgXRK1XawDEh",
        "outputId": "88b37617-290f-487a-9898-98ee87f1db4d"
      },
      "source": [
        "df[\"F\"] = s1\n",
        "df.at[dates[0], \"A\"] = 0\n",
        "df.iat[0, 1] = 1_000_000\n",
        "df.loc[:, \"D\"] = np.array([5] * len(df))\n",
        "df"
      ],
      "execution_count": null,
      "outputs": [
        {
          "output_type": "execute_result",
          "data": {
            "text/html": [
              "<div>\n",
              "<style scoped>\n",
              "    .dataframe tbody tr th:only-of-type {\n",
              "        vertical-align: middle;\n",
              "    }\n",
              "\n",
              "    .dataframe tbody tr th {\n",
              "        vertical-align: top;\n",
              "    }\n",
              "\n",
              "    .dataframe thead th {\n",
              "        text-align: right;\n",
              "    }\n",
              "</style>\n",
              "<table border=\"1\" class=\"dataframe\">\n",
              "  <thead>\n",
              "    <tr style=\"text-align: right;\">\n",
              "      <th></th>\n",
              "      <th>A</th>\n",
              "      <th>B</th>\n",
              "      <th>C</th>\n",
              "      <th>D</th>\n",
              "      <th>F</th>\n",
              "    </tr>\n",
              "  </thead>\n",
              "  <tbody>\n",
              "    <tr>\n",
              "      <th>2021-01-31</th>\n",
              "      <td>0.000000</td>\n",
              "      <td>1000000.000000</td>\n",
              "      <td>1.350773</td>\n",
              "      <td>5</td>\n",
              "      <td>NaN</td>\n",
              "    </tr>\n",
              "    <tr>\n",
              "      <th>2021-02-28</th>\n",
              "      <td>0.383120</td>\n",
              "      <td>-1.089258</td>\n",
              "      <td>-0.507267</td>\n",
              "      <td>5</td>\n",
              "      <td>1.0</td>\n",
              "    </tr>\n",
              "    <tr>\n",
              "      <th>2021-03-31</th>\n",
              "      <td>-0.235783</td>\n",
              "      <td>0.246031</td>\n",
              "      <td>-1.015486</td>\n",
              "      <td>5</td>\n",
              "      <td>2.0</td>\n",
              "    </tr>\n",
              "    <tr>\n",
              "      <th>2021-04-30</th>\n",
              "      <td>-1.324159</td>\n",
              "      <td>-0.524090</td>\n",
              "      <td>-0.272355</td>\n",
              "      <td>5</td>\n",
              "      <td>3.0</td>\n",
              "    </tr>\n",
              "    <tr>\n",
              "      <th>2021-05-31</th>\n",
              "      <td>-0.112176</td>\n",
              "      <td>-0.102025</td>\n",
              "      <td>-0.475840</td>\n",
              "      <td>5</td>\n",
              "      <td>4.0</td>\n",
              "    </tr>\n",
              "    <tr>\n",
              "      <th>2021-06-30</th>\n",
              "      <td>0.693999</td>\n",
              "      <td>2.862773</td>\n",
              "      <td>-1.093318</td>\n",
              "      <td>5</td>\n",
              "      <td>5.0</td>\n",
              "    </tr>\n",
              "  </tbody>\n",
              "</table>\n",
              "</div>"
            ],
            "text/plain": [
              "                   A               B         C  D    F\n",
              "2021-01-31  0.000000  1000000.000000  1.350773  5  NaN\n",
              "2021-02-28  0.383120       -1.089258 -0.507267  5  1.0\n",
              "2021-03-31 -0.235783        0.246031 -1.015486  5  2.0\n",
              "2021-04-30 -1.324159       -0.524090 -0.272355  5  3.0\n",
              "2021-05-31 -0.112176       -0.102025 -0.475840  5  4.0\n",
              "2021-06-30  0.693999        2.862773 -1.093318  5  5.0"
            ]
          },
          "metadata": {
            "tags": []
          },
          "execution_count": 77
        }
      ]
    },
    {
      "cell_type": "code",
      "metadata": {
        "colab": {
          "base_uri": "https://localhost:8080/",
          "height": 235
        },
        "id": "9Cs7ynAKwT0s",
        "outputId": "748377bc-1277-4fc8-e12b-de01841f590e"
      },
      "source": [
        "df[df > 0] = -df\n",
        "df"
      ],
      "execution_count": null,
      "outputs": [
        {
          "output_type": "execute_result",
          "data": {
            "text/html": [
              "<div>\n",
              "<style scoped>\n",
              "    .dataframe tbody tr th:only-of-type {\n",
              "        vertical-align: middle;\n",
              "    }\n",
              "\n",
              "    .dataframe tbody tr th {\n",
              "        vertical-align: top;\n",
              "    }\n",
              "\n",
              "    .dataframe thead th {\n",
              "        text-align: right;\n",
              "    }\n",
              "</style>\n",
              "<table border=\"1\" class=\"dataframe\">\n",
              "  <thead>\n",
              "    <tr style=\"text-align: right;\">\n",
              "      <th></th>\n",
              "      <th>A</th>\n",
              "      <th>B</th>\n",
              "      <th>C</th>\n",
              "      <th>D</th>\n",
              "      <th>F</th>\n",
              "    </tr>\n",
              "  </thead>\n",
              "  <tbody>\n",
              "    <tr>\n",
              "      <th>2021-01-31</th>\n",
              "      <td>0.000000</td>\n",
              "      <td>-1000000.000000</td>\n",
              "      <td>-1.350773</td>\n",
              "      <td>-5</td>\n",
              "      <td>NaN</td>\n",
              "    </tr>\n",
              "    <tr>\n",
              "      <th>2021-02-28</th>\n",
              "      <td>-0.383120</td>\n",
              "      <td>-1.089258</td>\n",
              "      <td>-0.507267</td>\n",
              "      <td>-5</td>\n",
              "      <td>-1.0</td>\n",
              "    </tr>\n",
              "    <tr>\n",
              "      <th>2021-03-31</th>\n",
              "      <td>-0.235783</td>\n",
              "      <td>-0.246031</td>\n",
              "      <td>-1.015486</td>\n",
              "      <td>-5</td>\n",
              "      <td>-2.0</td>\n",
              "    </tr>\n",
              "    <tr>\n",
              "      <th>2021-04-30</th>\n",
              "      <td>-1.324159</td>\n",
              "      <td>-0.524090</td>\n",
              "      <td>-0.272355</td>\n",
              "      <td>-5</td>\n",
              "      <td>-3.0</td>\n",
              "    </tr>\n",
              "    <tr>\n",
              "      <th>2021-05-31</th>\n",
              "      <td>-0.112176</td>\n",
              "      <td>-0.102025</td>\n",
              "      <td>-0.475840</td>\n",
              "      <td>-5</td>\n",
              "      <td>-4.0</td>\n",
              "    </tr>\n",
              "    <tr>\n",
              "      <th>2021-06-30</th>\n",
              "      <td>-0.693999</td>\n",
              "      <td>-2.862773</td>\n",
              "      <td>-1.093318</td>\n",
              "      <td>-5</td>\n",
              "      <td>-5.0</td>\n",
              "    </tr>\n",
              "  </tbody>\n",
              "</table>\n",
              "</div>"
            ],
            "text/plain": [
              "                   A               B         C  D    F\n",
              "2021-01-31  0.000000 -1000000.000000 -1.350773 -5  NaN\n",
              "2021-02-28 -0.383120       -1.089258 -0.507267 -5 -1.0\n",
              "2021-03-31 -0.235783       -0.246031 -1.015486 -5 -2.0\n",
              "2021-04-30 -1.324159       -0.524090 -0.272355 -5 -3.0\n",
              "2021-05-31 -0.112176       -0.102025 -0.475840 -5 -4.0\n",
              "2021-06-30 -0.693999       -2.862773 -1.093318 -5 -5.0"
            ]
          },
          "metadata": {
            "tags": []
          },
          "execution_count": 78
        }
      ]
    },
    {
      "cell_type": "code",
      "metadata": {
        "colab": {
          "base_uri": "https://localhost:8080/",
          "height": 204
        },
        "id": "AYxKZyYrwk7Z",
        "outputId": "f0121604-4e59-43ad-b5bd-4e3e5cc15843"
      },
      "source": [
        "df.dropna()"
      ],
      "execution_count": null,
      "outputs": [
        {
          "output_type": "execute_result",
          "data": {
            "text/html": [
              "<div>\n",
              "<style scoped>\n",
              "    .dataframe tbody tr th:only-of-type {\n",
              "        vertical-align: middle;\n",
              "    }\n",
              "\n",
              "    .dataframe tbody tr th {\n",
              "        vertical-align: top;\n",
              "    }\n",
              "\n",
              "    .dataframe thead th {\n",
              "        text-align: right;\n",
              "    }\n",
              "</style>\n",
              "<table border=\"1\" class=\"dataframe\">\n",
              "  <thead>\n",
              "    <tr style=\"text-align: right;\">\n",
              "      <th></th>\n",
              "      <th>A</th>\n",
              "      <th>B</th>\n",
              "      <th>C</th>\n",
              "      <th>D</th>\n",
              "      <th>F</th>\n",
              "    </tr>\n",
              "  </thead>\n",
              "  <tbody>\n",
              "    <tr>\n",
              "      <th>2021-02-28</th>\n",
              "      <td>-0.383120</td>\n",
              "      <td>-1.089258</td>\n",
              "      <td>-0.507267</td>\n",
              "      <td>-5</td>\n",
              "      <td>-1.0</td>\n",
              "    </tr>\n",
              "    <tr>\n",
              "      <th>2021-03-31</th>\n",
              "      <td>-0.235783</td>\n",
              "      <td>-0.246031</td>\n",
              "      <td>-1.015486</td>\n",
              "      <td>-5</td>\n",
              "      <td>-2.0</td>\n",
              "    </tr>\n",
              "    <tr>\n",
              "      <th>2021-04-30</th>\n",
              "      <td>-1.324159</td>\n",
              "      <td>-0.524090</td>\n",
              "      <td>-0.272355</td>\n",
              "      <td>-5</td>\n",
              "      <td>-3.0</td>\n",
              "    </tr>\n",
              "    <tr>\n",
              "      <th>2021-05-31</th>\n",
              "      <td>-0.112176</td>\n",
              "      <td>-0.102025</td>\n",
              "      <td>-0.475840</td>\n",
              "      <td>-5</td>\n",
              "      <td>-4.0</td>\n",
              "    </tr>\n",
              "    <tr>\n",
              "      <th>2021-06-30</th>\n",
              "      <td>-0.693999</td>\n",
              "      <td>-2.862773</td>\n",
              "      <td>-1.093318</td>\n",
              "      <td>-5</td>\n",
              "      <td>-5.0</td>\n",
              "    </tr>\n",
              "  </tbody>\n",
              "</table>\n",
              "</div>"
            ],
            "text/plain": [
              "                   A         B         C  D    F\n",
              "2021-02-28 -0.383120 -1.089258 -0.507267 -5 -1.0\n",
              "2021-03-31 -0.235783 -0.246031 -1.015486 -5 -2.0\n",
              "2021-04-30 -1.324159 -0.524090 -0.272355 -5 -3.0\n",
              "2021-05-31 -0.112176 -0.102025 -0.475840 -5 -4.0\n",
              "2021-06-30 -0.693999 -2.862773 -1.093318 -5 -5.0"
            ]
          },
          "metadata": {
            "tags": []
          },
          "execution_count": 79
        }
      ]
    },
    {
      "cell_type": "code",
      "metadata": {
        "colab": {
          "base_uri": "https://localhost:8080/",
          "height": 235
        },
        "id": "u9kU9dhdwn6w",
        "outputId": "64685182-c99e-419a-fc4a-df4c52f2348f"
      },
      "source": [
        "df.fillna(0.)"
      ],
      "execution_count": null,
      "outputs": [
        {
          "output_type": "execute_result",
          "data": {
            "text/html": [
              "<div>\n",
              "<style scoped>\n",
              "    .dataframe tbody tr th:only-of-type {\n",
              "        vertical-align: middle;\n",
              "    }\n",
              "\n",
              "    .dataframe tbody tr th {\n",
              "        vertical-align: top;\n",
              "    }\n",
              "\n",
              "    .dataframe thead th {\n",
              "        text-align: right;\n",
              "    }\n",
              "</style>\n",
              "<table border=\"1\" class=\"dataframe\">\n",
              "  <thead>\n",
              "    <tr style=\"text-align: right;\">\n",
              "      <th></th>\n",
              "      <th>A</th>\n",
              "      <th>B</th>\n",
              "      <th>C</th>\n",
              "      <th>D</th>\n",
              "      <th>F</th>\n",
              "    </tr>\n",
              "  </thead>\n",
              "  <tbody>\n",
              "    <tr>\n",
              "      <th>2021-01-31</th>\n",
              "      <td>0.000000</td>\n",
              "      <td>-1000000.000000</td>\n",
              "      <td>-1.350773</td>\n",
              "      <td>-5</td>\n",
              "      <td>0.0</td>\n",
              "    </tr>\n",
              "    <tr>\n",
              "      <th>2021-02-28</th>\n",
              "      <td>-0.383120</td>\n",
              "      <td>-1.089258</td>\n",
              "      <td>-0.507267</td>\n",
              "      <td>-5</td>\n",
              "      <td>-1.0</td>\n",
              "    </tr>\n",
              "    <tr>\n",
              "      <th>2021-03-31</th>\n",
              "      <td>-0.235783</td>\n",
              "      <td>-0.246031</td>\n",
              "      <td>-1.015486</td>\n",
              "      <td>-5</td>\n",
              "      <td>-2.0</td>\n",
              "    </tr>\n",
              "    <tr>\n",
              "      <th>2021-04-30</th>\n",
              "      <td>-1.324159</td>\n",
              "      <td>-0.524090</td>\n",
              "      <td>-0.272355</td>\n",
              "      <td>-5</td>\n",
              "      <td>-3.0</td>\n",
              "    </tr>\n",
              "    <tr>\n",
              "      <th>2021-05-31</th>\n",
              "      <td>-0.112176</td>\n",
              "      <td>-0.102025</td>\n",
              "      <td>-0.475840</td>\n",
              "      <td>-5</td>\n",
              "      <td>-4.0</td>\n",
              "    </tr>\n",
              "    <tr>\n",
              "      <th>2021-06-30</th>\n",
              "      <td>-0.693999</td>\n",
              "      <td>-2.862773</td>\n",
              "      <td>-1.093318</td>\n",
              "      <td>-5</td>\n",
              "      <td>-5.0</td>\n",
              "    </tr>\n",
              "  </tbody>\n",
              "</table>\n",
              "</div>"
            ],
            "text/plain": [
              "                   A               B         C  D    F\n",
              "2021-01-31  0.000000 -1000000.000000 -1.350773 -5  0.0\n",
              "2021-02-28 -0.383120       -1.089258 -0.507267 -5 -1.0\n",
              "2021-03-31 -0.235783       -0.246031 -1.015486 -5 -2.0\n",
              "2021-04-30 -1.324159       -0.524090 -0.272355 -5 -3.0\n",
              "2021-05-31 -0.112176       -0.102025 -0.475840 -5 -4.0\n",
              "2021-06-30 -0.693999       -2.862773 -1.093318 -5 -5.0"
            ]
          },
          "metadata": {
            "tags": []
          },
          "execution_count": 80
        }
      ]
    },
    {
      "cell_type": "code",
      "metadata": {
        "colab": {
          "base_uri": "https://localhost:8080/",
          "height": 235
        },
        "id": "0S7KHHbDwraF",
        "outputId": "91f631ff-1dd6-4d61-8b8e-33eea5adfd5f"
      },
      "source": [
        "pd.isna(df)"
      ],
      "execution_count": null,
      "outputs": [
        {
          "output_type": "execute_result",
          "data": {
            "text/html": [
              "<div>\n",
              "<style scoped>\n",
              "    .dataframe tbody tr th:only-of-type {\n",
              "        vertical-align: middle;\n",
              "    }\n",
              "\n",
              "    .dataframe tbody tr th {\n",
              "        vertical-align: top;\n",
              "    }\n",
              "\n",
              "    .dataframe thead th {\n",
              "        text-align: right;\n",
              "    }\n",
              "</style>\n",
              "<table border=\"1\" class=\"dataframe\">\n",
              "  <thead>\n",
              "    <tr style=\"text-align: right;\">\n",
              "      <th></th>\n",
              "      <th>A</th>\n",
              "      <th>B</th>\n",
              "      <th>C</th>\n",
              "      <th>D</th>\n",
              "      <th>F</th>\n",
              "    </tr>\n",
              "  </thead>\n",
              "  <tbody>\n",
              "    <tr>\n",
              "      <th>2021-01-31</th>\n",
              "      <td>False</td>\n",
              "      <td>False</td>\n",
              "      <td>False</td>\n",
              "      <td>False</td>\n",
              "      <td>True</td>\n",
              "    </tr>\n",
              "    <tr>\n",
              "      <th>2021-02-28</th>\n",
              "      <td>False</td>\n",
              "      <td>False</td>\n",
              "      <td>False</td>\n",
              "      <td>False</td>\n",
              "      <td>False</td>\n",
              "    </tr>\n",
              "    <tr>\n",
              "      <th>2021-03-31</th>\n",
              "      <td>False</td>\n",
              "      <td>False</td>\n",
              "      <td>False</td>\n",
              "      <td>False</td>\n",
              "      <td>False</td>\n",
              "    </tr>\n",
              "    <tr>\n",
              "      <th>2021-04-30</th>\n",
              "      <td>False</td>\n",
              "      <td>False</td>\n",
              "      <td>False</td>\n",
              "      <td>False</td>\n",
              "      <td>False</td>\n",
              "    </tr>\n",
              "    <tr>\n",
              "      <th>2021-05-31</th>\n",
              "      <td>False</td>\n",
              "      <td>False</td>\n",
              "      <td>False</td>\n",
              "      <td>False</td>\n",
              "      <td>False</td>\n",
              "    </tr>\n",
              "    <tr>\n",
              "      <th>2021-06-30</th>\n",
              "      <td>False</td>\n",
              "      <td>False</td>\n",
              "      <td>False</td>\n",
              "      <td>False</td>\n",
              "      <td>False</td>\n",
              "    </tr>\n",
              "  </tbody>\n",
              "</table>\n",
              "</div>"
            ],
            "text/plain": [
              "                A      B      C      D      F\n",
              "2021-01-31  False  False  False  False   True\n",
              "2021-02-28  False  False  False  False  False\n",
              "2021-03-31  False  False  False  False  False\n",
              "2021-04-30  False  False  False  False  False\n",
              "2021-05-31  False  False  False  False  False\n",
              "2021-06-30  False  False  False  False  False"
            ]
          },
          "metadata": {
            "tags": []
          },
          "execution_count": 81
        }
      ]
    },
    {
      "cell_type": "code",
      "metadata": {
        "colab": {
          "base_uri": "https://localhost:8080/"
        },
        "id": "kx_5TvY_wxmA",
        "outputId": "a9be11e0-bfde-4fa9-e1ab-60acf3d04d0b"
      },
      "source": [
        "df.sum()"
      ],
      "execution_count": null,
      "outputs": [
        {
          "output_type": "execute_result",
          "data": {
            "text/plain": [
              "A   -2.749237e+00\n",
              "B   -1.000005e+06\n",
              "C   -4.715039e+00\n",
              "D   -3.000000e+01\n",
              "F   -1.500000e+01\n",
              "dtype: float64"
            ]
          },
          "metadata": {
            "tags": []
          },
          "execution_count": 82
        }
      ]
    },
    {
      "cell_type": "code",
      "metadata": {
        "colab": {
          "base_uri": "https://localhost:8080/"
        },
        "id": "2ZCxRDlMwzCg",
        "outputId": "fce510c6-a090-444e-f74b-07129b3a8c6c"
      },
      "source": [
        "df.sum(axis=1)"
      ],
      "execution_count": null,
      "outputs": [
        {
          "output_type": "execute_result",
          "data": {
            "text/plain": [
              "2021-01-31   -1.000006e+06\n",
              "2021-02-28   -7.979646e+00\n",
              "2021-03-31   -8.497300e+00\n",
              "2021-04-30   -1.012060e+01\n",
              "2021-05-31   -9.690040e+00\n",
              "2021-06-30   -1.465009e+01\n",
              "Freq: M, dtype: float64"
            ]
          },
          "metadata": {
            "tags": []
          },
          "execution_count": 83
        }
      ]
    },
    {
      "cell_type": "code",
      "metadata": {
        "colab": {
          "base_uri": "https://localhost:8080/",
          "height": 235
        },
        "id": "3u2MaAnxw3ft",
        "outputId": "c3abde01-5d41-4917-b9ce-6ac73277f367"
      },
      "source": [
        "df.apply(np.cumsum)"
      ],
      "execution_count": null,
      "outputs": [
        {
          "output_type": "execute_result",
          "data": {
            "text/html": [
              "<div>\n",
              "<style scoped>\n",
              "    .dataframe tbody tr th:only-of-type {\n",
              "        vertical-align: middle;\n",
              "    }\n",
              "\n",
              "    .dataframe tbody tr th {\n",
              "        vertical-align: top;\n",
              "    }\n",
              "\n",
              "    .dataframe thead th {\n",
              "        text-align: right;\n",
              "    }\n",
              "</style>\n",
              "<table border=\"1\" class=\"dataframe\">\n",
              "  <thead>\n",
              "    <tr style=\"text-align: right;\">\n",
              "      <th></th>\n",
              "      <th>A</th>\n",
              "      <th>B</th>\n",
              "      <th>C</th>\n",
              "      <th>D</th>\n",
              "      <th>F</th>\n",
              "    </tr>\n",
              "  </thead>\n",
              "  <tbody>\n",
              "    <tr>\n",
              "      <th>2021-01-31</th>\n",
              "      <td>0.000000</td>\n",
              "      <td>-1.000000e+06</td>\n",
              "      <td>-1.350773</td>\n",
              "      <td>-5</td>\n",
              "      <td>NaN</td>\n",
              "    </tr>\n",
              "    <tr>\n",
              "      <th>2021-02-28</th>\n",
              "      <td>-0.383120</td>\n",
              "      <td>-1.000001e+06</td>\n",
              "      <td>-1.858040</td>\n",
              "      <td>-10</td>\n",
              "      <td>-1.0</td>\n",
              "    </tr>\n",
              "    <tr>\n",
              "      <th>2021-03-31</th>\n",
              "      <td>-0.618903</td>\n",
              "      <td>-1.000001e+06</td>\n",
              "      <td>-2.873526</td>\n",
              "      <td>-15</td>\n",
              "      <td>-3.0</td>\n",
              "    </tr>\n",
              "    <tr>\n",
              "      <th>2021-04-30</th>\n",
              "      <td>-1.943063</td>\n",
              "      <td>-1.000002e+06</td>\n",
              "      <td>-3.145882</td>\n",
              "      <td>-20</td>\n",
              "      <td>-6.0</td>\n",
              "    </tr>\n",
              "    <tr>\n",
              "      <th>2021-05-31</th>\n",
              "      <td>-2.055238</td>\n",
              "      <td>-1.000002e+06</td>\n",
              "      <td>-3.621721</td>\n",
              "      <td>-25</td>\n",
              "      <td>-10.0</td>\n",
              "    </tr>\n",
              "    <tr>\n",
              "      <th>2021-06-30</th>\n",
              "      <td>-2.749237</td>\n",
              "      <td>-1.000005e+06</td>\n",
              "      <td>-4.715039</td>\n",
              "      <td>-30</td>\n",
              "      <td>-15.0</td>\n",
              "    </tr>\n",
              "  </tbody>\n",
              "</table>\n",
              "</div>"
            ],
            "text/plain": [
              "                   A             B         C   D     F\n",
              "2021-01-31  0.000000 -1.000000e+06 -1.350773  -5   NaN\n",
              "2021-02-28 -0.383120 -1.000001e+06 -1.858040 -10  -1.0\n",
              "2021-03-31 -0.618903 -1.000001e+06 -2.873526 -15  -3.0\n",
              "2021-04-30 -1.943063 -1.000002e+06 -3.145882 -20  -6.0\n",
              "2021-05-31 -2.055238 -1.000002e+06 -3.621721 -25 -10.0\n",
              "2021-06-30 -2.749237 -1.000005e+06 -4.715039 -30 -15.0"
            ]
          },
          "metadata": {
            "tags": []
          },
          "execution_count": 84
        }
      ]
    },
    {
      "cell_type": "code",
      "metadata": {
        "colab": {
          "base_uri": "https://localhost:8080/"
        },
        "id": "-T458Ahaw6Or",
        "outputId": "d8a6e525-49cb-443d-bc99-95442a7ec975"
      },
      "source": [
        "df.apply(lambda x: x.max() - x.min())"
      ],
      "execution_count": null,
      "outputs": [
        {
          "output_type": "execute_result",
          "data": {
            "text/plain": [
              "A         1.324159\n",
              "B    999999.897975\n",
              "C         1.078417\n",
              "D         0.000000\n",
              "F         4.000000\n",
              "dtype: float64"
            ]
          },
          "metadata": {
            "tags": []
          },
          "execution_count": 85
        }
      ]
    },
    {
      "cell_type": "markdown",
      "metadata": {
        "id": "Iknu-HnAxOfT"
      },
      "source": [
        "Если элементы Series - строки, то с ними можно очень удобно работать."
      ]
    },
    {
      "cell_type": "code",
      "metadata": {
        "colab": {
          "base_uri": "https://localhost:8080/"
        },
        "id": "sLt8epY8xNTU",
        "outputId": "bbda0917-83db-42a0-b874-809504d00a8e"
      },
      "source": [
        "s = pd.Series([\"A\", \"B\", \"C\", \"Aaba\", \"Baca\", np.nan, \"CABA\", \"dog\", \"cat\"])\n",
        "s.str.lower()"
      ],
      "execution_count": null,
      "outputs": [
        {
          "output_type": "execute_result",
          "data": {
            "text/plain": [
              "0       a\n",
              "1       b\n",
              "2       c\n",
              "3    aaba\n",
              "4    baca\n",
              "5     NaN\n",
              "6    caba\n",
              "7     dog\n",
              "8     cat\n",
              "dtype: object"
            ]
          },
          "metadata": {
            "tags": []
          },
          "execution_count": 88
        }
      ]
    },
    {
      "cell_type": "code",
      "metadata": {
        "colab": {
          "base_uri": "https://localhost:8080/"
        },
        "id": "l_YdBYvoxWpZ",
        "outputId": "d8d8864c-618f-46b4-cf6e-bf93288f624b"
      },
      "source": [
        "s.str.lower().str.count('a')"
      ],
      "execution_count": null,
      "outputs": [
        {
          "output_type": "execute_result",
          "data": {
            "text/plain": [
              "0    1.0\n",
              "1    0.0\n",
              "2    0.0\n",
              "3    3.0\n",
              "4    2.0\n",
              "5    NaN\n",
              "6    2.0\n",
              "7    0.0\n",
              "8    1.0\n",
              "dtype: float64"
            ]
          },
          "metadata": {
            "tags": []
          },
          "execution_count": 89
        }
      ]
    },
    {
      "cell_type": "markdown",
      "metadata": {
        "id": "fJsjF47fxfcI"
      },
      "source": [
        "Сливание табличек"
      ]
    },
    {
      "cell_type": "code",
      "metadata": {
        "colab": {
          "base_uri": "https://localhost:8080/",
          "height": 359
        },
        "id": "jGzVwhw26kp-",
        "outputId": "f669b75f-595f-43fc-e015-86ac4cd8477f"
      },
      "source": [
        "df = pd.DataFrame(np.random.randn(10, 4))\n",
        "df"
      ],
      "execution_count": null,
      "outputs": [
        {
          "output_type": "execute_result",
          "data": {
            "text/html": [
              "<div>\n",
              "<style scoped>\n",
              "    .dataframe tbody tr th:only-of-type {\n",
              "        vertical-align: middle;\n",
              "    }\n",
              "\n",
              "    .dataframe tbody tr th {\n",
              "        vertical-align: top;\n",
              "    }\n",
              "\n",
              "    .dataframe thead th {\n",
              "        text-align: right;\n",
              "    }\n",
              "</style>\n",
              "<table border=\"1\" class=\"dataframe\">\n",
              "  <thead>\n",
              "    <tr style=\"text-align: right;\">\n",
              "      <th></th>\n",
              "      <th>0</th>\n",
              "      <th>1</th>\n",
              "      <th>2</th>\n",
              "      <th>3</th>\n",
              "    </tr>\n",
              "  </thead>\n",
              "  <tbody>\n",
              "    <tr>\n",
              "      <th>0</th>\n",
              "      <td>0.292850</td>\n",
              "      <td>1.556134</td>\n",
              "      <td>1.034698</td>\n",
              "      <td>0.309067</td>\n",
              "    </tr>\n",
              "    <tr>\n",
              "      <th>1</th>\n",
              "      <td>-0.351916</td>\n",
              "      <td>-0.941375</td>\n",
              "      <td>0.191783</td>\n",
              "      <td>-1.024159</td>\n",
              "    </tr>\n",
              "    <tr>\n",
              "      <th>2</th>\n",
              "      <td>0.218294</td>\n",
              "      <td>-0.498688</td>\n",
              "      <td>0.744376</td>\n",
              "      <td>-0.331465</td>\n",
              "    </tr>\n",
              "    <tr>\n",
              "      <th>3</th>\n",
              "      <td>1.022698</td>\n",
              "      <td>-0.998595</td>\n",
              "      <td>0.905099</td>\n",
              "      <td>0.925074</td>\n",
              "    </tr>\n",
              "    <tr>\n",
              "      <th>4</th>\n",
              "      <td>0.603996</td>\n",
              "      <td>-1.701850</td>\n",
              "      <td>0.030153</td>\n",
              "      <td>0.898009</td>\n",
              "    </tr>\n",
              "    <tr>\n",
              "      <th>5</th>\n",
              "      <td>0.080104</td>\n",
              "      <td>-0.642342</td>\n",
              "      <td>1.085135</td>\n",
              "      <td>-0.912605</td>\n",
              "    </tr>\n",
              "    <tr>\n",
              "      <th>6</th>\n",
              "      <td>-0.492590</td>\n",
              "      <td>-1.212487</td>\n",
              "      <td>1.069515</td>\n",
              "      <td>-0.041577</td>\n",
              "    </tr>\n",
              "    <tr>\n",
              "      <th>7</th>\n",
              "      <td>-0.137713</td>\n",
              "      <td>0.853901</td>\n",
              "      <td>1.118936</td>\n",
              "      <td>-1.813862</td>\n",
              "    </tr>\n",
              "    <tr>\n",
              "      <th>8</th>\n",
              "      <td>1.749548</td>\n",
              "      <td>0.135982</td>\n",
              "      <td>1.747763</td>\n",
              "      <td>0.202795</td>\n",
              "    </tr>\n",
              "    <tr>\n",
              "      <th>9</th>\n",
              "      <td>0.850169</td>\n",
              "      <td>-2.413825</td>\n",
              "      <td>-1.661534</td>\n",
              "      <td>0.020128</td>\n",
              "    </tr>\n",
              "  </tbody>\n",
              "</table>\n",
              "</div>"
            ],
            "text/plain": [
              "          0         1         2         3\n",
              "0  0.292850  1.556134  1.034698  0.309067\n",
              "1 -0.351916 -0.941375  0.191783 -1.024159\n",
              "2  0.218294 -0.498688  0.744376 -0.331465\n",
              "3  1.022698 -0.998595  0.905099  0.925074\n",
              "4  0.603996 -1.701850  0.030153  0.898009\n",
              "5  0.080104 -0.642342  1.085135 -0.912605\n",
              "6 -0.492590 -1.212487  1.069515 -0.041577\n",
              "7 -0.137713  0.853901  1.118936 -1.813862\n",
              "8  1.749548  0.135982  1.747763  0.202795\n",
              "9  0.850169 -2.413825 -1.661534  0.020128"
            ]
          },
          "metadata": {
            "tags": []
          },
          "execution_count": 91
        }
      ]
    },
    {
      "cell_type": "code",
      "metadata": {
        "id": "qxbgaiVs7dxA"
      },
      "source": [
        "pieces = [df[:3], df[3:7], df[7:]]"
      ],
      "execution_count": null,
      "outputs": []
    },
    {
      "cell_type": "code",
      "metadata": {
        "colab": {
          "base_uri": "https://localhost:8080/",
          "height": 359
        },
        "id": "ICOXSP8V7gye",
        "outputId": "0164d9ea-257b-4828-cbf6-14079265bb07"
      },
      "source": [
        "pd.concat(pieces)"
      ],
      "execution_count": null,
      "outputs": [
        {
          "output_type": "execute_result",
          "data": {
            "text/html": [
              "<div>\n",
              "<style scoped>\n",
              "    .dataframe tbody tr th:only-of-type {\n",
              "        vertical-align: middle;\n",
              "    }\n",
              "\n",
              "    .dataframe tbody tr th {\n",
              "        vertical-align: top;\n",
              "    }\n",
              "\n",
              "    .dataframe thead th {\n",
              "        text-align: right;\n",
              "    }\n",
              "</style>\n",
              "<table border=\"1\" class=\"dataframe\">\n",
              "  <thead>\n",
              "    <tr style=\"text-align: right;\">\n",
              "      <th></th>\n",
              "      <th>0</th>\n",
              "      <th>1</th>\n",
              "      <th>2</th>\n",
              "      <th>3</th>\n",
              "    </tr>\n",
              "  </thead>\n",
              "  <tbody>\n",
              "    <tr>\n",
              "      <th>0</th>\n",
              "      <td>0.292850</td>\n",
              "      <td>1.556134</td>\n",
              "      <td>1.034698</td>\n",
              "      <td>0.309067</td>\n",
              "    </tr>\n",
              "    <tr>\n",
              "      <th>1</th>\n",
              "      <td>-0.351916</td>\n",
              "      <td>-0.941375</td>\n",
              "      <td>0.191783</td>\n",
              "      <td>-1.024159</td>\n",
              "    </tr>\n",
              "    <tr>\n",
              "      <th>2</th>\n",
              "      <td>0.218294</td>\n",
              "      <td>-0.498688</td>\n",
              "      <td>0.744376</td>\n",
              "      <td>-0.331465</td>\n",
              "    </tr>\n",
              "    <tr>\n",
              "      <th>3</th>\n",
              "      <td>1.022698</td>\n",
              "      <td>-0.998595</td>\n",
              "      <td>0.905099</td>\n",
              "      <td>0.925074</td>\n",
              "    </tr>\n",
              "    <tr>\n",
              "      <th>4</th>\n",
              "      <td>0.603996</td>\n",
              "      <td>-1.701850</td>\n",
              "      <td>0.030153</td>\n",
              "      <td>0.898009</td>\n",
              "    </tr>\n",
              "    <tr>\n",
              "      <th>5</th>\n",
              "      <td>0.080104</td>\n",
              "      <td>-0.642342</td>\n",
              "      <td>1.085135</td>\n",
              "      <td>-0.912605</td>\n",
              "    </tr>\n",
              "    <tr>\n",
              "      <th>6</th>\n",
              "      <td>-0.492590</td>\n",
              "      <td>-1.212487</td>\n",
              "      <td>1.069515</td>\n",
              "      <td>-0.041577</td>\n",
              "    </tr>\n",
              "    <tr>\n",
              "      <th>7</th>\n",
              "      <td>-0.137713</td>\n",
              "      <td>0.853901</td>\n",
              "      <td>1.118936</td>\n",
              "      <td>-1.813862</td>\n",
              "    </tr>\n",
              "    <tr>\n",
              "      <th>8</th>\n",
              "      <td>1.749548</td>\n",
              "      <td>0.135982</td>\n",
              "      <td>1.747763</td>\n",
              "      <td>0.202795</td>\n",
              "    </tr>\n",
              "    <tr>\n",
              "      <th>9</th>\n",
              "      <td>0.850169</td>\n",
              "      <td>-2.413825</td>\n",
              "      <td>-1.661534</td>\n",
              "      <td>0.020128</td>\n",
              "    </tr>\n",
              "  </tbody>\n",
              "</table>\n",
              "</div>"
            ],
            "text/plain": [
              "          0         1         2         3\n",
              "0  0.292850  1.556134  1.034698  0.309067\n",
              "1 -0.351916 -0.941375  0.191783 -1.024159\n",
              "2  0.218294 -0.498688  0.744376 -0.331465\n",
              "3  1.022698 -0.998595  0.905099  0.925074\n",
              "4  0.603996 -1.701850  0.030153  0.898009\n",
              "5  0.080104 -0.642342  1.085135 -0.912605\n",
              "6 -0.492590 -1.212487  1.069515 -0.041577\n",
              "7 -0.137713  0.853901  1.118936 -1.813862\n",
              "8  1.749548  0.135982  1.747763  0.202795\n",
              "9  0.850169 -2.413825 -1.661534  0.020128"
            ]
          },
          "metadata": {
            "tags": []
          },
          "execution_count": 93
        }
      ]
    },
    {
      "cell_type": "code",
      "metadata": {
        "colab": {
          "base_uri": "https://localhost:8080/",
          "height": 173
        },
        "id": "bbFrYrmSBJ07",
        "outputId": "11e41555-f553-4d72-eb62-d183289f2968"
      },
      "source": [
        "left = pd.DataFrame({\"key\": [\"foo\", \"foo\"], \"lval\": [1, 2]})\n",
        "right = pd.DataFrame({\"key\": [\"foo\", \"foo\"], \"rval\": [4, 5]})\n",
        "\n",
        "pd.merge(left, right, on=\"key\")"
      ],
      "execution_count": null,
      "outputs": [
        {
          "output_type": "execute_result",
          "data": {
            "text/html": [
              "<div>\n",
              "<style scoped>\n",
              "    .dataframe tbody tr th:only-of-type {\n",
              "        vertical-align: middle;\n",
              "    }\n",
              "\n",
              "    .dataframe tbody tr th {\n",
              "        vertical-align: top;\n",
              "    }\n",
              "\n",
              "    .dataframe thead th {\n",
              "        text-align: right;\n",
              "    }\n",
              "</style>\n",
              "<table border=\"1\" class=\"dataframe\">\n",
              "  <thead>\n",
              "    <tr style=\"text-align: right;\">\n",
              "      <th></th>\n",
              "      <th>key</th>\n",
              "      <th>lval</th>\n",
              "      <th>rval</th>\n",
              "    </tr>\n",
              "  </thead>\n",
              "  <tbody>\n",
              "    <tr>\n",
              "      <th>0</th>\n",
              "      <td>foo</td>\n",
              "      <td>1</td>\n",
              "      <td>4</td>\n",
              "    </tr>\n",
              "    <tr>\n",
              "      <th>1</th>\n",
              "      <td>foo</td>\n",
              "      <td>1</td>\n",
              "      <td>5</td>\n",
              "    </tr>\n",
              "    <tr>\n",
              "      <th>2</th>\n",
              "      <td>foo</td>\n",
              "      <td>2</td>\n",
              "      <td>4</td>\n",
              "    </tr>\n",
              "    <tr>\n",
              "      <th>3</th>\n",
              "      <td>foo</td>\n",
              "      <td>2</td>\n",
              "      <td>5</td>\n",
              "    </tr>\n",
              "  </tbody>\n",
              "</table>\n",
              "</div>"
            ],
            "text/plain": [
              "   key  lval  rval\n",
              "0  foo     1     4\n",
              "1  foo     1     5\n",
              "2  foo     2     4\n",
              "3  foo     2     5"
            ]
          },
          "metadata": {
            "tags": []
          },
          "execution_count": 98
        }
      ]
    },
    {
      "cell_type": "code",
      "metadata": {
        "colab": {
          "base_uri": "https://localhost:8080/",
          "height": 111
        },
        "id": "MCruQ004BVEA",
        "outputId": "fc6f94e5-c6ca-400f-a06b-489109d117fc"
      },
      "source": [
        "left = pd.DataFrame({\"key\": [\"foo\", \"bar\"], \"lval\": [1, 2]})\n",
        "right = pd.DataFrame({\"key\": [\"foo\", \"bar\"], \"rval\": [4, 5]})\n",
        "\n",
        "pd.merge(left, right, on=\"key\")"
      ],
      "execution_count": null,
      "outputs": [
        {
          "output_type": "execute_result",
          "data": {
            "text/html": [
              "<div>\n",
              "<style scoped>\n",
              "    .dataframe tbody tr th:only-of-type {\n",
              "        vertical-align: middle;\n",
              "    }\n",
              "\n",
              "    .dataframe tbody tr th {\n",
              "        vertical-align: top;\n",
              "    }\n",
              "\n",
              "    .dataframe thead th {\n",
              "        text-align: right;\n",
              "    }\n",
              "</style>\n",
              "<table border=\"1\" class=\"dataframe\">\n",
              "  <thead>\n",
              "    <tr style=\"text-align: right;\">\n",
              "      <th></th>\n",
              "      <th>key</th>\n",
              "      <th>lval</th>\n",
              "      <th>rval</th>\n",
              "    </tr>\n",
              "  </thead>\n",
              "  <tbody>\n",
              "    <tr>\n",
              "      <th>0</th>\n",
              "      <td>foo</td>\n",
              "      <td>1</td>\n",
              "      <td>4</td>\n",
              "    </tr>\n",
              "    <tr>\n",
              "      <th>1</th>\n",
              "      <td>bar</td>\n",
              "      <td>2</td>\n",
              "      <td>5</td>\n",
              "    </tr>\n",
              "  </tbody>\n",
              "</table>\n",
              "</div>"
            ],
            "text/plain": [
              "   key  lval  rval\n",
              "0  foo     1     4\n",
              "1  bar     2     5"
            ]
          },
          "metadata": {
            "tags": []
          },
          "execution_count": 99
        }
      ]
    },
    {
      "cell_type": "markdown",
      "metadata": {
        "id": "N13sHHxDBfPw"
      },
      "source": [
        "Группировка"
      ]
    },
    {
      "cell_type": "code",
      "metadata": {
        "id": "mQfG2Z5iBgrN"
      },
      "source": [
        "df = pd.DataFrame(\n",
        "        {\n",
        "            \"A\": [\"foo\", \"bar\", \"foo\", \"bar\", \"foo\", \"bar\", \"foo\", \"foo\"],\n",
        "            \"B\": [\"one\", \"one\", \"two\", \"three\", \"two\", \"two\", \"one\", \"three\"],\n",
        "            \"C\": np.random.randn(8),\n",
        "            \"D\": np.random.randn(8),\n",
        "        }\n",
        ")"
      ],
      "execution_count": null,
      "outputs": []
    },
    {
      "cell_type": "code",
      "metadata": {
        "colab": {
          "base_uri": "https://localhost:8080/",
          "height": 297
        },
        "id": "8ox1fSBSB58_",
        "outputId": "7805d4e3-d177-4112-c39a-b2d613387f4f"
      },
      "source": [
        "df"
      ],
      "execution_count": null,
      "outputs": [
        {
          "output_type": "execute_result",
          "data": {
            "text/html": [
              "<div>\n",
              "<style scoped>\n",
              "    .dataframe tbody tr th:only-of-type {\n",
              "        vertical-align: middle;\n",
              "    }\n",
              "\n",
              "    .dataframe tbody tr th {\n",
              "        vertical-align: top;\n",
              "    }\n",
              "\n",
              "    .dataframe thead th {\n",
              "        text-align: right;\n",
              "    }\n",
              "</style>\n",
              "<table border=\"1\" class=\"dataframe\">\n",
              "  <thead>\n",
              "    <tr style=\"text-align: right;\">\n",
              "      <th></th>\n",
              "      <th>A</th>\n",
              "      <th>B</th>\n",
              "      <th>C</th>\n",
              "      <th>D</th>\n",
              "    </tr>\n",
              "  </thead>\n",
              "  <tbody>\n",
              "    <tr>\n",
              "      <th>0</th>\n",
              "      <td>foo</td>\n",
              "      <td>one</td>\n",
              "      <td>-0.556219</td>\n",
              "      <td>0.911883</td>\n",
              "    </tr>\n",
              "    <tr>\n",
              "      <th>1</th>\n",
              "      <td>bar</td>\n",
              "      <td>one</td>\n",
              "      <td>-1.764667</td>\n",
              "      <td>-2.024843</td>\n",
              "    </tr>\n",
              "    <tr>\n",
              "      <th>2</th>\n",
              "      <td>foo</td>\n",
              "      <td>two</td>\n",
              "      <td>-0.769676</td>\n",
              "      <td>0.542681</td>\n",
              "    </tr>\n",
              "    <tr>\n",
              "      <th>3</th>\n",
              "      <td>bar</td>\n",
              "      <td>three</td>\n",
              "      <td>0.704450</td>\n",
              "      <td>0.114869</td>\n",
              "    </tr>\n",
              "    <tr>\n",
              "      <th>4</th>\n",
              "      <td>foo</td>\n",
              "      <td>two</td>\n",
              "      <td>0.737775</td>\n",
              "      <td>-0.005990</td>\n",
              "    </tr>\n",
              "    <tr>\n",
              "      <th>5</th>\n",
              "      <td>bar</td>\n",
              "      <td>two</td>\n",
              "      <td>-0.330085</td>\n",
              "      <td>-0.410042</td>\n",
              "    </tr>\n",
              "    <tr>\n",
              "      <th>6</th>\n",
              "      <td>foo</td>\n",
              "      <td>one</td>\n",
              "      <td>-0.742041</td>\n",
              "      <td>0.175931</td>\n",
              "    </tr>\n",
              "    <tr>\n",
              "      <th>7</th>\n",
              "      <td>foo</td>\n",
              "      <td>three</td>\n",
              "      <td>-1.150991</td>\n",
              "      <td>-0.672622</td>\n",
              "    </tr>\n",
              "  </tbody>\n",
              "</table>\n",
              "</div>"
            ],
            "text/plain": [
              "     A      B         C         D\n",
              "0  foo    one -0.556219  0.911883\n",
              "1  bar    one -1.764667 -2.024843\n",
              "2  foo    two -0.769676  0.542681\n",
              "3  bar  three  0.704450  0.114869\n",
              "4  foo    two  0.737775 -0.005990\n",
              "5  bar    two -0.330085 -0.410042\n",
              "6  foo    one -0.742041  0.175931\n",
              "7  foo  three -1.150991 -0.672622"
            ]
          },
          "metadata": {
            "tags": []
          },
          "execution_count": 101
        }
      ]
    },
    {
      "cell_type": "code",
      "metadata": {
        "colab": {
          "base_uri": "https://localhost:8080/",
          "height": 142
        },
        "id": "G-62KrbSB3_j",
        "outputId": "1c24317a-1bce-43c8-edce-17f76e0ed73c"
      },
      "source": [
        "df.groupby(\"A\").sum()"
      ],
      "execution_count": null,
      "outputs": [
        {
          "output_type": "execute_result",
          "data": {
            "text/html": [
              "<div>\n",
              "<style scoped>\n",
              "    .dataframe tbody tr th:only-of-type {\n",
              "        vertical-align: middle;\n",
              "    }\n",
              "\n",
              "    .dataframe tbody tr th {\n",
              "        vertical-align: top;\n",
              "    }\n",
              "\n",
              "    .dataframe thead th {\n",
              "        text-align: right;\n",
              "    }\n",
              "</style>\n",
              "<table border=\"1\" class=\"dataframe\">\n",
              "  <thead>\n",
              "    <tr style=\"text-align: right;\">\n",
              "      <th></th>\n",
              "      <th>C</th>\n",
              "      <th>D</th>\n",
              "    </tr>\n",
              "    <tr>\n",
              "      <th>A</th>\n",
              "      <th></th>\n",
              "      <th></th>\n",
              "    </tr>\n",
              "  </thead>\n",
              "  <tbody>\n",
              "    <tr>\n",
              "      <th>bar</th>\n",
              "      <td>-1.390302</td>\n",
              "      <td>-2.320016</td>\n",
              "    </tr>\n",
              "    <tr>\n",
              "      <th>foo</th>\n",
              "      <td>-2.481151</td>\n",
              "      <td>0.951882</td>\n",
              "    </tr>\n",
              "  </tbody>\n",
              "</table>\n",
              "</div>"
            ],
            "text/plain": [
              "            C         D\n",
              "A                      \n",
              "bar -1.390302 -2.320016\n",
              "foo -2.481151  0.951882"
            ]
          },
          "metadata": {
            "tags": []
          },
          "execution_count": 102
        }
      ]
    },
    {
      "cell_type": "code",
      "metadata": {
        "colab": {
          "base_uri": "https://localhost:8080/",
          "height": 266
        },
        "id": "v9lBJTffB656",
        "outputId": "ca31da9b-85e8-48ba-97e0-decd9e174791"
      },
      "source": [
        "df.groupby([\"A\", \"B\"]).sum()"
      ],
      "execution_count": null,
      "outputs": [
        {
          "output_type": "execute_result",
          "data": {
            "text/html": [
              "<div>\n",
              "<style scoped>\n",
              "    .dataframe tbody tr th:only-of-type {\n",
              "        vertical-align: middle;\n",
              "    }\n",
              "\n",
              "    .dataframe tbody tr th {\n",
              "        vertical-align: top;\n",
              "    }\n",
              "\n",
              "    .dataframe thead th {\n",
              "        text-align: right;\n",
              "    }\n",
              "</style>\n",
              "<table border=\"1\" class=\"dataframe\">\n",
              "  <thead>\n",
              "    <tr style=\"text-align: right;\">\n",
              "      <th></th>\n",
              "      <th></th>\n",
              "      <th>C</th>\n",
              "      <th>D</th>\n",
              "    </tr>\n",
              "    <tr>\n",
              "      <th>A</th>\n",
              "      <th>B</th>\n",
              "      <th></th>\n",
              "      <th></th>\n",
              "    </tr>\n",
              "  </thead>\n",
              "  <tbody>\n",
              "    <tr>\n",
              "      <th rowspan=\"3\" valign=\"top\">bar</th>\n",
              "      <th>one</th>\n",
              "      <td>-1.764667</td>\n",
              "      <td>-2.024843</td>\n",
              "    </tr>\n",
              "    <tr>\n",
              "      <th>three</th>\n",
              "      <td>0.704450</td>\n",
              "      <td>0.114869</td>\n",
              "    </tr>\n",
              "    <tr>\n",
              "      <th>two</th>\n",
              "      <td>-0.330085</td>\n",
              "      <td>-0.410042</td>\n",
              "    </tr>\n",
              "    <tr>\n",
              "      <th rowspan=\"3\" valign=\"top\">foo</th>\n",
              "      <th>one</th>\n",
              "      <td>-1.298260</td>\n",
              "      <td>1.087814</td>\n",
              "    </tr>\n",
              "    <tr>\n",
              "      <th>three</th>\n",
              "      <td>-1.150991</td>\n",
              "      <td>-0.672622</td>\n",
              "    </tr>\n",
              "    <tr>\n",
              "      <th>two</th>\n",
              "      <td>-0.031901</td>\n",
              "      <td>0.536691</td>\n",
              "    </tr>\n",
              "  </tbody>\n",
              "</table>\n",
              "</div>"
            ],
            "text/plain": [
              "                  C         D\n",
              "A   B                        \n",
              "bar one   -1.764667 -2.024843\n",
              "    three  0.704450  0.114869\n",
              "    two   -0.330085 -0.410042\n",
              "foo one   -1.298260  1.087814\n",
              "    three -1.150991 -0.672622\n",
              "    two   -0.031901  0.536691"
            ]
          },
          "metadata": {
            "tags": []
          },
          "execution_count": 103
        }
      ]
    },
    {
      "cell_type": "markdown",
      "metadata": {
        "id": "m0NTxTJmCRKn"
      },
      "source": [
        "В Pandas есть встроенная визуализация (с matplotlib в качестве графического бэкенда)"
      ]
    },
    {
      "cell_type": "code",
      "metadata": {
        "colab": {
          "base_uri": "https://localhost:8080/",
          "height": 277
        },
        "id": "FoL0fUegCY9W",
        "outputId": "0c228802-bd86-43d7-c6fc-04f9708fe2c4"
      },
      "source": [
        "ts = pd.Series(np.random.randn(1000), index=pd.date_range(\"1/1/2000\", periods=1000))\n",
        "ts = ts.cumsum()\n",
        "ts.plot();"
      ],
      "execution_count": null,
      "outputs": [
        {
          "output_type": "display_data",
          "data": {
            "image/png": "[encoded data removed]",
            "text/plain": [
              "<Figure size 432x288 with 1 Axes>"
            ]
          },
          "metadata": {
            "tags": []
          }
        }
      ]
    },
    {
      "cell_type": "code",
      "metadata": {
        "colab": {
          "base_uri": "https://localhost:8080/",
          "height": 294
        },
        "id": "soWNhg5ICiB3",
        "outputId": "9159f327-1edd-4b19-b697-43977ed422ab"
      },
      "source": [
        "df = pd.DataFrame(\n",
        "     np.random.randn(1000, 4), index=ts.index, columns=[\"A\", \"B\", \"C\", \"D\"]\n",
        ")\n",
        "df = df.cumsum()\n",
        "plt.figure();\n",
        "df.plot();\n",
        "plt.legend();"
      ],
      "execution_count": null,
      "outputs": [
        {
          "output_type": "display_data",
          "data": {
            "text/plain": [
              "<Figure size 432x288 with 0 Axes>"
            ]
          },
          "metadata": {
            "tags": []
          }
        },
        {
          "output_type": "display_data",
          "data": {
            "image/png": "[encoded data removed]",
            "text/plain": [
              "<Figure size 432x288 with 1 Axes>"
            ]
          },
          "metadata": {
            "tags": []
          }
        }
      ]
    },
    {
      "cell_type": "markdown",
      "metadata": {
        "id": "aoE7RICLDDuF"
      },
      "source": [
        "Чтение данных \n",
        "\n",
        "    pd.read_csv(filename)\n",
        "    pd.read_excel(filename)\n",
        "    pd.read_sql(query, connection_object) \n",
        "    pd.read_table(filename)\n",
        "    pd.read_json(json_string)\n",
        "    pd.read_html(url) \n"
      ]
    },
    {
      "cell_type": "markdown",
      "metadata": {
        "id": "jz0kwbDtDGCE"
      },
      "source": [
        "Запись данных \n",
        "\n",
        "    df.to_csv(filename) \n",
        "    df.to_excel(filename) \n",
        "    df.to_sql(table_name, connection_object)\n",
        "    df.to_json(filename)\n",
        "    df.to_html(filename)\n"
      ]
    },
    {
      "cell_type": "markdown",
      "metadata": {
        "id": "ecA6VIx6DJfW"
      },
      "source": [
        "## Seaborn"
      ]
    },
    {
      "cell_type": "markdown",
      "metadata": {
        "id": "rRBCz1aaDLo1"
      },
      "source": [
        "Seaborn - это продвинутая высокоуровневая библиотека для визуализации данных, основанная на matplotlib, предоставляющая более простой доступ к \"красивым\" графикам."
      ]
    },
    {
      "cell_type": "code",
      "metadata": {
        "id": "UBngJUwsDLFI"
      },
      "source": [
        "import seaborn as sns"
      ],
      "execution_count": null,
      "outputs": []
    },
    {
      "cell_type": "code",
      "metadata": {
        "colab": {
          "base_uri": "https://localhost:8080/",
          "height": 221
        },
        "id": "U9Eik-gIDvXo",
        "outputId": "695ea5a7-2ffe-421e-d45d-64e09c66f340"
      },
      "source": [
        "tips = sns.load_dataset(\"tips\")\n",
        "print(tips.shape)\n",
        "tips.head()"
      ],
      "execution_count": null,
      "outputs": [
        {
          "output_type": "stream",
          "text": [
            "(244, 7)\n"
          ],
          "name": "stdout"
        },
        {
          "output_type": "execute_result",
          "data": {
            "text/html": [
              "<div>\n",
              "<style scoped>\n",
              "    .dataframe tbody tr th:only-of-type {\n",
              "        vertical-align: middle;\n",
              "    }\n",
              "\n",
              "    .dataframe tbody tr th {\n",
              "        vertical-align: top;\n",
              "    }\n",
              "\n",
              "    .dataframe thead th {\n",
              "        text-align: right;\n",
              "    }\n",
              "</style>\n",
              "<table border=\"1\" class=\"dataframe\">\n",
              "  <thead>\n",
              "    <tr style=\"text-align: right;\">\n",
              "      <th></th>\n",
              "      <th>total_bill</th>\n",
              "      <th>tip</th>\n",
              "      <th>sex</th>\n",
              "      <th>smoker</th>\n",
              "      <th>day</th>\n",
              "      <th>time</th>\n",
              "      <th>size</th>\n",
              "    </tr>\n",
              "  </thead>\n",
              "  <tbody>\n",
              "    <tr>\n",
              "      <th>0</th>\n",
              "      <td>16.99</td>\n",
              "      <td>1.01</td>\n",
              "      <td>Female</td>\n",
              "      <td>No</td>\n",
              "      <td>Sun</td>\n",
              "      <td>Dinner</td>\n",
              "      <td>2</td>\n",
              "    </tr>\n",
              "    <tr>\n",
              "      <th>1</th>\n",
              "      <td>10.34</td>\n",
              "      <td>1.66</td>\n",
              "      <td>Male</td>\n",
              "      <td>No</td>\n",
              "      <td>Sun</td>\n",
              "      <td>Dinner</td>\n",
              "      <td>3</td>\n",
              "    </tr>\n",
              "    <tr>\n",
              "      <th>2</th>\n",
              "      <td>21.01</td>\n",
              "      <td>3.50</td>\n",
              "      <td>Male</td>\n",
              "      <td>No</td>\n",
              "      <td>Sun</td>\n",
              "      <td>Dinner</td>\n",
              "      <td>3</td>\n",
              "    </tr>\n",
              "    <tr>\n",
              "      <th>3</th>\n",
              "      <td>23.68</td>\n",
              "      <td>3.31</td>\n",
              "      <td>Male</td>\n",
              "      <td>No</td>\n",
              "      <td>Sun</td>\n",
              "      <td>Dinner</td>\n",
              "      <td>2</td>\n",
              "    </tr>\n",
              "    <tr>\n",
              "      <th>4</th>\n",
              "      <td>24.59</td>\n",
              "      <td>3.61</td>\n",
              "      <td>Female</td>\n",
              "      <td>No</td>\n",
              "      <td>Sun</td>\n",
              "      <td>Dinner</td>\n",
              "      <td>4</td>\n",
              "    </tr>\n",
              "  </tbody>\n",
              "</table>\n",
              "</div>"
            ],
            "text/plain": [
              "   total_bill   tip     sex smoker  day    time  size\n",
              "0       16.99  1.01  Female     No  Sun  Dinner     2\n",
              "1       10.34  1.66    Male     No  Sun  Dinner     3\n",
              "2       21.01  3.50    Male     No  Sun  Dinner     3\n",
              "3       23.68  3.31    Male     No  Sun  Dinner     2\n",
              "4       24.59  3.61  Female     No  Sun  Dinner     4"
            ]
          },
          "metadata": {},
          "execution_count": 3
        }
      ]
    },
    {
      "cell_type": "code",
      "metadata": {
        "colab": {
          "base_uri": "https://localhost:8080/",
          "height": 282
        },
        "id": "uUkFB9zHDws0",
        "outputId": "5d2ab4d0-19a0-4e39-c5cb-d0285595a9aa"
      },
      "source": [
        "sns.scatterplot(x=\"total_bill\", y=\"tip\", data=tips);"
      ],
      "execution_count": null,
      "outputs": [
        {
          "output_type": "display_data",
          "data": {
            "image/png": "[encoded data removed]",
            "text/plain": [
              "<Figure size 432x288 with 1 Axes>"
            ]
          },
          "metadata": {
            "tags": []
          }
        }
      ]
    },
    {
      "cell_type": "code",
      "metadata": {
        "colab": {
          "base_uri": "https://localhost:8080/",
          "height": 282
        },
        "id": "PfYyLYtoEAK6",
        "outputId": "3e7c068c-4f4e-4065-d82a-22652eb398f5"
      },
      "source": [
        "sns.scatterplot(x=\"total_bill\", y=\"tip\", hue=\"day\", size=\"size\", style=\"smoker\", data=tips);"
      ],
      "execution_count": null,
      "outputs": [
        {
          "output_type": "display_data",
          "data": {
            "image/png": "[encoded data removed]",
            "text/plain": [
              "<Figure size 432x288 with 1 Axes>"
            ]
          },
          "metadata": {
            "tags": []
          }
        }
      ]
    },
    {
      "cell_type": "markdown",
      "metadata": {
        "id": "PAAvm2roEMjH"
      },
      "source": [
        "Мешанина какая-то"
      ]
    },
    {
      "cell_type": "code",
      "metadata": {
        "colab": {
          "base_uri": "https://localhost:8080/",
          "height": 458
        },
        "id": "MmPstOMJEOZw",
        "outputId": "7f6fc132-17c6-4bbb-d29f-35ac1e7eb574"
      },
      "source": [
        "sns.relplot(x=\"total_bill\", y=\"tip\", hue=\"size\", col=\"smoker\", row=\"time\", data=tips,\n",
        "            height=3);"
      ],
      "execution_count": null,
      "outputs": [
        {
          "output_type": "display_data",
          "data": {
            "image/png": "[encoded data removed]",
            "text/plain": [
              "<Figure size 474.375x432 with 4 Axes>"
            ]
          },
          "metadata": {
            "tags": []
          }
        }
      ]
    },
    {
      "cell_type": "code",
      "metadata": {
        "colab": {
          "base_uri": "https://localhost:8080/",
          "height": 369
        },
        "id": "qLlYvZgeEbA4",
        "outputId": "df13fcca-9c13-4591-8883-bce4e1a8706b"
      },
      "source": [
        "sns.displot(x=\"total_bill\", kde=True, data=tips);"
      ],
      "execution_count": null,
      "outputs": [
        {
          "output_type": "display_data",
          "data": {
            "image/png": "[encoded data removed]",
            "text/plain": [
              "<Figure size 360x360 with 1 Axes>"
            ]
          },
          "metadata": {
            "tags": []
          }
        }
      ]
    },
    {
      "cell_type": "code",
      "metadata": {
        "colab": {
          "base_uri": "https://localhost:8080/",
          "height": 369
        },
        "id": "9_Sfq8JREduz",
        "outputId": "1f3a3164-f4c5-4cee-e12b-3c1dc972cdcc"
      },
      "source": [
        "sns.displot(x=\"total_bill\", y=\"tip\", data=tips);"
      ],
      "execution_count": null,
      "outputs": [
        {
          "output_type": "display_data",
          "data": {
            "image/png": "[encoded data removed]",
            "text/plain": [
              "<Figure size 360x360 with 1 Axes>"
            ]
          },
          "metadata": {
            "tags": []
          }
        }
      ]
    },
    {
      "cell_type": "code",
      "metadata": {
        "colab": {
          "base_uri": "https://localhost:8080/",
          "height": 567
        },
        "id": "Ti5X-Ys3Ekuo",
        "outputId": "b17b4e7e-1e61-48a8-edb3-817018fce849"
      },
      "source": [
        "sns.set_style('dark')\n",
        "g = sns.jointplot(x='total_bill', y='tip', data=tips, kind='hex')\n",
        "g.fig.set_size_inches(8, 8)\n",
        "g.set_axis_labels(\"Total Bill\", \"Tip\")\n",
        "plt.show();"
      ],
      "execution_count": null,
      "outputs": [
        {
          "output_type": "display_data",
          "data": {
            "image/png": "[encoded data removed]",
            "text/plain": [
              "<Figure size 576x576 with 3 Axes>"
            ]
          },
          "metadata": {
            "tags": []
          }
        }
      ]
    },
    {
      "cell_type": "code",
      "metadata": {
        "colab": {
          "base_uri": "https://localhost:8080/",
          "height": 386
        },
        "id": "nWQYE60jFKoo",
        "outputId": "3d70e497-516d-42e8-b509-232e017e139a"
      },
      "source": [
        "sns.catplot(x=\"day\", y=\"total_bill\", hue=\"smoker\", kind=\"box\", data=tips);"
      ],
      "execution_count": null,
      "outputs": [
        {
          "output_type": "display_data",
          "data": {
            "image/png": "[encoded data removed]",
            "text/plain": [
              "<Figure size 412x360 with 1 Axes>"
            ]
          },
          "metadata": {
            "tags": []
          }
        }
      ]
    },
    {
      "cell_type": "code",
      "metadata": {
        "colab": {
          "base_uri": "https://localhost:8080/",
          "height": 159
        },
        "id": "oMZJ6Mk7H4-C",
        "outputId": "9e8ee8a2-13e7-4d1f-e157-01d213a7c8bb"
      },
      "source": [
        "car_crashes = sns.load_dataset(\"car_crashes\")\n",
        "print(car_crashes.shape)\n",
        "car_crashes.head(3)"
      ],
      "execution_count": null,
      "outputs": [
        {
          "output_type": "stream",
          "text": [
            "(51, 8)\n"
          ],
          "name": "stdout"
        },
        {
          "output_type": "execute_result",
          "data": {
            "text/html": [
              "<div>\n",
              "<style scoped>\n",
              "    .dataframe tbody tr th:only-of-type {\n",
              "        vertical-align: middle;\n",
              "    }\n",
              "\n",
              "    .dataframe tbody tr th {\n",
              "        vertical-align: top;\n",
              "    }\n",
              "\n",
              "    .dataframe thead th {\n",
              "        text-align: right;\n",
              "    }\n",
              "</style>\n",
              "<table border=\"1\" class=\"dataframe\">\n",
              "  <thead>\n",
              "    <tr style=\"text-align: right;\">\n",
              "      <th></th>\n",
              "      <th>total</th>\n",
              "      <th>speeding</th>\n",
              "      <th>alcohol</th>\n",
              "      <th>not_distracted</th>\n",
              "      <th>no_previous</th>\n",
              "      <th>ins_premium</th>\n",
              "      <th>ins_losses</th>\n",
              "      <th>abbrev</th>\n",
              "    </tr>\n",
              "  </thead>\n",
              "  <tbody>\n",
              "    <tr>\n",
              "      <th>0</th>\n",
              "      <td>18.8</td>\n",
              "      <td>7.332</td>\n",
              "      <td>5.640</td>\n",
              "      <td>18.048</td>\n",
              "      <td>15.040</td>\n",
              "      <td>784.55</td>\n",
              "      <td>145.08</td>\n",
              "      <td>AL</td>\n",
              "    </tr>\n",
              "    <tr>\n",
              "      <th>1</th>\n",
              "      <td>18.1</td>\n",
              "      <td>7.421</td>\n",
              "      <td>4.525</td>\n",
              "      <td>16.290</td>\n",
              "      <td>17.014</td>\n",
              "      <td>1053.48</td>\n",
              "      <td>133.93</td>\n",
              "      <td>AK</td>\n",
              "    </tr>\n",
              "    <tr>\n",
              "      <th>2</th>\n",
              "      <td>18.6</td>\n",
              "      <td>6.510</td>\n",
              "      <td>5.208</td>\n",
              "      <td>15.624</td>\n",
              "      <td>17.856</td>\n",
              "      <td>899.47</td>\n",
              "      <td>110.35</td>\n",
              "      <td>AZ</td>\n",
              "    </tr>\n",
              "  </tbody>\n",
              "</table>\n",
              "</div>"
            ],
            "text/plain": [
              "   total  speeding  alcohol  ...  ins_premium  ins_losses  abbrev\n",
              "0   18.8     7.332    5.640  ...       784.55      145.08      AL\n",
              "1   18.1     7.421    4.525  ...      1053.48      133.93      AK\n",
              "2   18.6     6.510    5.208  ...       899.47      110.35      AZ\n",
              "\n",
              "[3 rows x 8 columns]"
            ]
          },
          "metadata": {},
          "execution_count": 5
        }
      ]
    },
    {
      "cell_type": "code",
      "metadata": {
        "colab": {
          "base_uri": "https://localhost:8080/",
          "height": 385
        },
        "id": "xdFs37e1H4ys",
        "outputId": "4ec1549f-fc3d-47a2-dd3f-d5703e55b2dc"
      },
      "source": [
        "plt.figure(figsize=(6, 5))\n",
        "sns.heatmap(car_crashes.corr(), cmap=\"seismic\", center=0, linewidths=.5);"
      ],
      "execution_count": null,
      "outputs": [
        {
          "output_type": "display_data",
          "data": {
            "image/png": "[encoded data removed]",
            "text/plain": [
              "<Figure size 432x360 with 2 Axes>"
            ]
          },
          "metadata": {
            "tags": []
          }
        }
      ]
    },
    {
      "cell_type": "code",
      "metadata": {
        "colab": {
          "base_uri": "https://localhost:8080/",
          "height": 730
        },
        "id": "0BOaWe_JIMoT",
        "outputId": "9a4ecb39-34b4-4942-d773-2660efa1ecf1"
      },
      "source": [
        "sns.clustermap(car_crashes.corr(), cmap=\"seismic\", center=0, linewidths=.5);"
      ],
      "execution_count": null,
      "outputs": [
        {
          "output_type": "display_data",
          "data": {
            "image/png": "[encoded data removed]",
            "text/plain": [
              "<Figure size 720x720 with 4 Axes>"
            ]
          },
          "metadata": {
            "tags": []
          }
        }
      ]
    },
    {
      "cell_type": "markdown",
      "metadata": {
        "id": "9BJ1hi4RK2I9"
      },
      "source": [
        "## От инструментам к данным\n",
        "\n",
        "###Проклятье размерности"
      ]
    },
    {
      "cell_type": "markdown",
      "metadata": {
        "id": "BnFKlaovK2I-"
      },
      "source": [
        "###  Сэмплируем из многомерного нормального распределения. Построить распределение расстояния до нуля координат. "
      ]
    },
    {
      "cell_type": "code",
      "metadata": {
        "id": "EExbCeg0UtUV"
      },
      "source": [
        "import seaborn as sns"
      ],
      "execution_count": null,
      "outputs": []
    },
    {
      "cell_type": "code",
      "metadata": {
        "id": "1-8RLNQlK2I-",
        "colab": {
          "base_uri": "https://localhost:8080/"
        },
        "outputId": "778e3c34-0363-49b3-c24e-38749a88b6be"
      },
      "source": [
        "points = np.random.normal(0, 1, \n",
        "                 size=(5, 10)) \n",
        "# вычисляем расстояние от 5 точек в 10мернорм пространстве до 0\n",
        "np.linalg.norm(points, axis=1)"
      ],
      "execution_count": null,
      "outputs": [
        {
          "output_type": "execute_result",
          "data": {
            "text/plain": [
              "array([3.55921032, 3.90063125, 2.77958261, 3.63698666, 2.05074319])"
            ]
          },
          "metadata": {},
          "execution_count": 159
        }
      ]
    },
    {
      "cell_type": "code",
      "metadata": {
        "id": "SXQz_ZIMK2I_",
        "colab": {
          "base_uri": "https://localhost:8080/",
          "height": 319
        },
        "outputId": "b45af668-ec04-4fbf-920c-c5afd693c617"
      },
      "source": [
        "points = np.random.normal(0, 1, \n",
        "                          size=(1000, 1)) # вычисляем расстояние от 1000 точек в 1 мерном пространстве до 0\n",
        "d = np.linalg.norm(points, axis=1)\n",
        "\n",
        "sns.distplot(d, hist=True, kde=False, color = 'blue',\n",
        "             hist_kws={'edgecolor':'black'});"
      ],
      "execution_count": null,
      "outputs": [
        {
          "output_type": "stream",
          "name": "stderr",
          "text": [
            "/usr/local/lib/python3.7/dist-packages/seaborn/distributions.py:2557: FutureWarning: `distplot` is a deprecated function and will be removed in a future version. Please adapt your code to use either `displot` (a figure-level function with similar flexibility) or `histplot` (an axes-level function for histograms).\n",
            "  warnings.warn(msg, FutureWarning)\n"
          ]
        },
        {
          "output_type": "display_data",
          "data": {
            "image/png": "[encoded data removed]",
            "text/plain": [
              "<Figure size 432x288 with 1 Axes>"
            ]
          },
          "metadata": {}
        }
      ]
    },
    {
      "cell_type": "code",
      "metadata": {
        "id": "g9_i0i0eK2JA",
        "colab": {
          "base_uri": "https://localhost:8080/",
          "height": 319
        },
        "outputId": "ebc491c9-95f8-4150-a291-78d5ce84beb9"
      },
      "source": [
        "sns.distplot(d, hist=False, kde=True, color = 'blue',\n",
        "             hist_kws={'edgecolor':'black'});"
      ],
      "execution_count": null,
      "outputs": [
        {
          "output_type": "stream",
          "name": "stderr",
          "text": [
            "/usr/local/lib/python3.7/dist-packages/seaborn/distributions.py:2557: FutureWarning: `distplot` is a deprecated function and will be removed in a future version. Please adapt your code to use either `displot` (a figure-level function with similar flexibility) or `kdeplot` (an axes-level function for kernel density plots).\n",
            "  warnings.warn(msg, FutureWarning)\n"
          ]
        },
        {
          "output_type": "display_data",
          "data": {
            "image/png": "[encoded data removed]",
            "text/plain": [
              "<Figure size 432x288 with 1 Axes>"
            ]
          },
          "metadata": {}
        }
      ]
    },
    {
      "cell_type": "markdown",
      "metadata": {
        "id": "ciMPCNLNK2JB"
      },
      "source": [
        "### Постройте распределение расстояния от центра координат до точек для размерностей N=5, N=10, N=20 и N = 200 на одном графике.  Какие выводы можно сделать? "
      ]
    },
    {
      "cell_type": "code",
      "metadata": {
        "id": "oLV8UTXDK2JC"
      },
      "source": [
        ""
      ],
      "execution_count": null,
      "outputs": []
    },
    {
      "cell_type": "markdown",
      "metadata": {
        "id": "Ti_nMLSsK2JC"
      },
      "source": [
        "### * Объясните полученную картину с помощью теории вероятности. \n",
        "\n",
        "* Указание: подсчитайте вероятность того, что сумма квадратов N независимых нормальных величин будет меньше $R^2$ для некоторого фиксированного $R$. "
      ]
    },
    {
      "cell_type": "code",
      "metadata": {
        "id": "z28II_drK2JD"
      },
      "source": [
        ""
      ],
      "execution_count": null,
      "outputs": []
    },
    {
      "cell_type": "markdown",
      "metadata": {
        "id": "iBgt8g84K2JD"
      },
      "source": [
        "## *Повторите графики для равномерного распределения. "
      ]
    },
    {
      "cell_type": "code",
      "metadata": {
        "id": "7idHfTcZK2JD"
      },
      "source": [
        ""
      ],
      "execution_count": null,
      "outputs": []
    }
  ]
}