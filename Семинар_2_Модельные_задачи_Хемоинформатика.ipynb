{
  "nbformat": 4,
  "nbformat_minor": 0,
  "metadata": {
    "accelerator": "GPU",
    "colab": {
      "name": "Семинар 2. Модельные задачи. Хемоинформатика",
      "provenance": [],
      "collapsed_sections": [],
      "include_colab_link": true
    },
    "kernelspec": {
      "display_name": "Python 3",
      "language": "python",
      "name": "python3"
    },
    "language_info": {
      "codemirror_mode": {
        "name": "ipython",
        "version": 3
      },
      "file_extension": ".py",
      "mimetype": "text/x-python",
      "name": "python",
      "nbconvert_exporter": "python",
      "pygments_lexer": "ipython3",
      "version": "3.8.3"
    }
  },
  "cells": [
    {
      "cell_type": "markdown",
      "metadata": {
        "id": "view-in-github",
        "colab_type": "text"
      },
      "source": [
        "<a href=\"https://colab.research.google.com/github/SmirnygaTotoshka/FBB_Courses/blob/main/%D0%A1%D0%B5%D0%BC%D0%B8%D0%BD%D0%B0%D1%80_2_%D0%9C%D0%BE%D0%B4%D0%B5%D0%BB%D1%8C%D0%BD%D1%8B%D0%B5_%D0%B7%D0%B0%D0%B4%D0%B0%D1%87%D0%B8_%D0%A5%D0%B5%D0%BC%D0%BE%D0%B8%D0%BD%D1%84%D0%BE%D1%80%D0%BC%D0%B0%D1%82%D0%B8%D0%BA%D0%B0.ipynb\" target=\"_parent\"><img src=\"https://colab.research.google.com/assets/colab-badge.svg\" alt=\"Open In Colab\"/></a>"
      ]
    },
    {
      "cell_type": "markdown",
      "metadata": {
        "id": "jh9_XVNA0d_p"
      },
      "source": [
        "## Machine learning"
      ]
    },
    {
      "cell_type": "markdown",
      "metadata": {
        "id": "h79Ps8dN0d_v"
      },
      "source": [
        "## Важность правильного разбиения для химических веществ"
      ]
    },
    {
      "cell_type": "code",
      "metadata": {
        "id": "nPHiufDtKQZQ"
      },
      "source": [
        "import pandas as pd\n"
      ],
      "execution_count": null,
      "outputs": []
    },
    {
      "cell_type": "markdown",
      "metadata": {
        "id": "c6e33fae-8f5c-4207-abe5-b27cf4d47436"
      },
      "source": [
        "Датасет [BACE](http://moleculenet.ai/datasets-1) загружен за вас, определены `X`, `y` и `smiles`."
      ]
    },
    {
      "cell_type": "code",
      "metadata": {
        "id": "26b131ae-2a07-48f3-a24f-d406471a99b1",
        "colab": {
          "base_uri": "https://localhost:8080/",
          "height": 387
        },
        "outputId": "9682ed54-d529-4fd5-9d44-40a004d237ac"
      },
      "source": [
        "bace = pd.read_csv(\"./bace.csv\", header=0)\n",
        "bace.head(3)"
      ],
      "execution_count": null,
      "outputs": [
        {
          "output_type": "error",
          "ename": "FileNotFoundError",
          "evalue": "ignored",
          "traceback": [
            "\u001b[0;31m---------------------------------------------------------------------------\u001b[0m",
            "\u001b[0;31mFileNotFoundError\u001b[0m                         Traceback (most recent call last)",
            "\u001b[0;32m<ipython-input-5-787ee8b0b2b0>\u001b[0m in \u001b[0;36m<module>\u001b[0;34m()\u001b[0m\n\u001b[0;32m----> 1\u001b[0;31m \u001b[0mbace\u001b[0m \u001b[0;34m=\u001b[0m \u001b[0mpd\u001b[0m\u001b[0;34m.\u001b[0m\u001b[0mread_csv\u001b[0m\u001b[0;34m(\u001b[0m\u001b[0;34m\"./bace.csv\"\u001b[0m\u001b[0;34m,\u001b[0m \u001b[0mheader\u001b[0m\u001b[0;34m=\u001b[0m\u001b[0;36m0\u001b[0m\u001b[0;34m)\u001b[0m\u001b[0;34m\u001b[0m\u001b[0;34m\u001b[0m\u001b[0m\n\u001b[0m\u001b[1;32m      2\u001b[0m \u001b[0mbace\u001b[0m\u001b[0;34m.\u001b[0m\u001b[0mhead\u001b[0m\u001b[0;34m(\u001b[0m\u001b[0;36m3\u001b[0m\u001b[0;34m)\u001b[0m\u001b[0;34m\u001b[0m\u001b[0;34m\u001b[0m\u001b[0m\n",
            "\u001b[0;32m/usr/local/lib/python3.7/dist-packages/pandas/io/parsers.py\u001b[0m in \u001b[0;36mread_csv\u001b[0;34m(filepath_or_buffer, sep, delimiter, header, names, index_col, usecols, squeeze, prefix, mangle_dupe_cols, dtype, engine, converters, true_values, false_values, skipinitialspace, skiprows, skipfooter, nrows, na_values, keep_default_na, na_filter, verbose, skip_blank_lines, parse_dates, infer_datetime_format, keep_date_col, date_parser, dayfirst, cache_dates, iterator, chunksize, compression, thousands, decimal, lineterminator, quotechar, quoting, doublequote, escapechar, comment, encoding, dialect, error_bad_lines, warn_bad_lines, delim_whitespace, low_memory, memory_map, float_precision)\u001b[0m\n\u001b[1;32m    686\u001b[0m     )\n\u001b[1;32m    687\u001b[0m \u001b[0;34m\u001b[0m\u001b[0m\n\u001b[0;32m--> 688\u001b[0;31m     \u001b[0;32mreturn\u001b[0m \u001b[0m_read\u001b[0m\u001b[0;34m(\u001b[0m\u001b[0mfilepath_or_buffer\u001b[0m\u001b[0;34m,\u001b[0m \u001b[0mkwds\u001b[0m\u001b[0;34m)\u001b[0m\u001b[0;34m\u001b[0m\u001b[0;34m\u001b[0m\u001b[0m\n\u001b[0m\u001b[1;32m    689\u001b[0m \u001b[0;34m\u001b[0m\u001b[0m\n\u001b[1;32m    690\u001b[0m \u001b[0;34m\u001b[0m\u001b[0m\n",
            "\u001b[0;32m/usr/local/lib/python3.7/dist-packages/pandas/io/parsers.py\u001b[0m in \u001b[0;36m_read\u001b[0;34m(filepath_or_buffer, kwds)\u001b[0m\n\u001b[1;32m    452\u001b[0m \u001b[0;34m\u001b[0m\u001b[0m\n\u001b[1;32m    453\u001b[0m     \u001b[0;31m# Create the parser.\u001b[0m\u001b[0;34m\u001b[0m\u001b[0;34m\u001b[0m\u001b[0;34m\u001b[0m\u001b[0m\n\u001b[0;32m--> 454\u001b[0;31m     \u001b[0mparser\u001b[0m \u001b[0;34m=\u001b[0m \u001b[0mTextFileReader\u001b[0m\u001b[0;34m(\u001b[0m\u001b[0mfp_or_buf\u001b[0m\u001b[0;34m,\u001b[0m \u001b[0;34m**\u001b[0m\u001b[0mkwds\u001b[0m\u001b[0;34m)\u001b[0m\u001b[0;34m\u001b[0m\u001b[0;34m\u001b[0m\u001b[0m\n\u001b[0m\u001b[1;32m    455\u001b[0m \u001b[0;34m\u001b[0m\u001b[0m\n\u001b[1;32m    456\u001b[0m     \u001b[0;32mif\u001b[0m \u001b[0mchunksize\u001b[0m \u001b[0;32mor\u001b[0m \u001b[0miterator\u001b[0m\u001b[0;34m:\u001b[0m\u001b[0;34m\u001b[0m\u001b[0;34m\u001b[0m\u001b[0m\n",
            "\u001b[0;32m/usr/local/lib/python3.7/dist-packages/pandas/io/parsers.py\u001b[0m in \u001b[0;36m__init__\u001b[0;34m(self, f, engine, **kwds)\u001b[0m\n\u001b[1;32m    946\u001b[0m             \u001b[0mself\u001b[0m\u001b[0;34m.\u001b[0m\u001b[0moptions\u001b[0m\u001b[0;34m[\u001b[0m\u001b[0;34m\"has_index_names\"\u001b[0m\u001b[0;34m]\u001b[0m \u001b[0;34m=\u001b[0m \u001b[0mkwds\u001b[0m\u001b[0;34m[\u001b[0m\u001b[0;34m\"has_index_names\"\u001b[0m\u001b[0;34m]\u001b[0m\u001b[0;34m\u001b[0m\u001b[0;34m\u001b[0m\u001b[0m\n\u001b[1;32m    947\u001b[0m \u001b[0;34m\u001b[0m\u001b[0m\n\u001b[0;32m--> 948\u001b[0;31m         \u001b[0mself\u001b[0m\u001b[0;34m.\u001b[0m\u001b[0m_make_engine\u001b[0m\u001b[0;34m(\u001b[0m\u001b[0mself\u001b[0m\u001b[0;34m.\u001b[0m\u001b[0mengine\u001b[0m\u001b[0;34m)\u001b[0m\u001b[0;34m\u001b[0m\u001b[0;34m\u001b[0m\u001b[0m\n\u001b[0m\u001b[1;32m    949\u001b[0m \u001b[0;34m\u001b[0m\u001b[0m\n\u001b[1;32m    950\u001b[0m     \u001b[0;32mdef\u001b[0m \u001b[0mclose\u001b[0m\u001b[0;34m(\u001b[0m\u001b[0mself\u001b[0m\u001b[0;34m)\u001b[0m\u001b[0;34m:\u001b[0m\u001b[0;34m\u001b[0m\u001b[0;34m\u001b[0m\u001b[0m\n",
            "\u001b[0;32m/usr/local/lib/python3.7/dist-packages/pandas/io/parsers.py\u001b[0m in \u001b[0;36m_make_engine\u001b[0;34m(self, engine)\u001b[0m\n\u001b[1;32m   1178\u001b[0m     \u001b[0;32mdef\u001b[0m \u001b[0m_make_engine\u001b[0m\u001b[0;34m(\u001b[0m\u001b[0mself\u001b[0m\u001b[0;34m,\u001b[0m \u001b[0mengine\u001b[0m\u001b[0;34m=\u001b[0m\u001b[0;34m\"c\"\u001b[0m\u001b[0;34m)\u001b[0m\u001b[0;34m:\u001b[0m\u001b[0;34m\u001b[0m\u001b[0;34m\u001b[0m\u001b[0m\n\u001b[1;32m   1179\u001b[0m         \u001b[0;32mif\u001b[0m \u001b[0mengine\u001b[0m \u001b[0;34m==\u001b[0m \u001b[0;34m\"c\"\u001b[0m\u001b[0;34m:\u001b[0m\u001b[0;34m\u001b[0m\u001b[0;34m\u001b[0m\u001b[0m\n\u001b[0;32m-> 1180\u001b[0;31m             \u001b[0mself\u001b[0m\u001b[0;34m.\u001b[0m\u001b[0m_engine\u001b[0m \u001b[0;34m=\u001b[0m \u001b[0mCParserWrapper\u001b[0m\u001b[0;34m(\u001b[0m\u001b[0mself\u001b[0m\u001b[0;34m.\u001b[0m\u001b[0mf\u001b[0m\u001b[0;34m,\u001b[0m \u001b[0;34m**\u001b[0m\u001b[0mself\u001b[0m\u001b[0;34m.\u001b[0m\u001b[0moptions\u001b[0m\u001b[0;34m)\u001b[0m\u001b[0;34m\u001b[0m\u001b[0;34m\u001b[0m\u001b[0m\n\u001b[0m\u001b[1;32m   1181\u001b[0m         \u001b[0;32melse\u001b[0m\u001b[0;34m:\u001b[0m\u001b[0;34m\u001b[0m\u001b[0;34m\u001b[0m\u001b[0m\n\u001b[1;32m   1182\u001b[0m             \u001b[0;32mif\u001b[0m \u001b[0mengine\u001b[0m \u001b[0;34m==\u001b[0m \u001b[0;34m\"python\"\u001b[0m\u001b[0;34m:\u001b[0m\u001b[0;34m\u001b[0m\u001b[0;34m\u001b[0m\u001b[0m\n",
            "\u001b[0;32m/usr/local/lib/python3.7/dist-packages/pandas/io/parsers.py\u001b[0m in \u001b[0;36m__init__\u001b[0;34m(self, src, **kwds)\u001b[0m\n\u001b[1;32m   2008\u001b[0m         \u001b[0mkwds\u001b[0m\u001b[0;34m[\u001b[0m\u001b[0;34m\"usecols\"\u001b[0m\u001b[0;34m]\u001b[0m \u001b[0;34m=\u001b[0m \u001b[0mself\u001b[0m\u001b[0;34m.\u001b[0m\u001b[0musecols\u001b[0m\u001b[0;34m\u001b[0m\u001b[0;34m\u001b[0m\u001b[0m\n\u001b[1;32m   2009\u001b[0m \u001b[0;34m\u001b[0m\u001b[0m\n\u001b[0;32m-> 2010\u001b[0;31m         \u001b[0mself\u001b[0m\u001b[0;34m.\u001b[0m\u001b[0m_reader\u001b[0m \u001b[0;34m=\u001b[0m \u001b[0mparsers\u001b[0m\u001b[0;34m.\u001b[0m\u001b[0mTextReader\u001b[0m\u001b[0;34m(\u001b[0m\u001b[0msrc\u001b[0m\u001b[0;34m,\u001b[0m \u001b[0;34m**\u001b[0m\u001b[0mkwds\u001b[0m\u001b[0;34m)\u001b[0m\u001b[0;34m\u001b[0m\u001b[0;34m\u001b[0m\u001b[0m\n\u001b[0m\u001b[1;32m   2011\u001b[0m         \u001b[0mself\u001b[0m\u001b[0;34m.\u001b[0m\u001b[0munnamed_cols\u001b[0m \u001b[0;34m=\u001b[0m \u001b[0mself\u001b[0m\u001b[0;34m.\u001b[0m\u001b[0m_reader\u001b[0m\u001b[0;34m.\u001b[0m\u001b[0munnamed_cols\u001b[0m\u001b[0;34m\u001b[0m\u001b[0;34m\u001b[0m\u001b[0m\n\u001b[1;32m   2012\u001b[0m \u001b[0;34m\u001b[0m\u001b[0m\n",
            "\u001b[0;32mpandas/_libs/parsers.pyx\u001b[0m in \u001b[0;36mpandas._libs.parsers.TextReader.__cinit__\u001b[0;34m()\u001b[0m\n",
            "\u001b[0;32mpandas/_libs/parsers.pyx\u001b[0m in \u001b[0;36mpandas._libs.parsers.TextReader._setup_parser_source\u001b[0;34m()\u001b[0m\n",
            "\u001b[0;31mFileNotFoundError\u001b[0m: [Errno 2] No such file or directory: './bace.csv'"
          ]
        }
      ]
    },
    {
      "cell_type": "code",
      "metadata": {
        "id": "4d7630b3-92e2-4d1f-b305-30e211de181e"
      },
      "source": [
        "X = bace.iloc[:,4:].values\n",
        "y = bace[\"Class\"].values\n",
        "smiles = bace[\"mol\"].values"
      ],
      "execution_count": null,
      "outputs": []
    },
    {
      "cell_type": "markdown",
      "metadata": {
        "id": "b82862fa-1ac5-4418-ba1f-8db8173ebd8b"
      },
      "source": [
        "**Разбейте X и y на тренировочную и тестовую выборки**, как в лекции. Соотношение train/test поставьте равным 3:1.\\\n",
        "*Подсказка*: воспользуйтесь функцией `train_test_split`."
      ]
    },
    {
      "cell_type": "code",
      "metadata": {
        "id": "3be4f823-3b68-4988-a597-bae25c8ddd73"
      },
      "source": [
        ""
      ],
      "execution_count": null,
      "outputs": []
    },
    {
      "cell_type": "markdown",
      "metadata": {
        "id": "e8413973-d3b5-49f4-8234-c115fd15ad23"
      },
      "source": [
        "**Осуществите стандартизацию признаков в выборке**."
      ]
    },
    {
      "cell_type": "code",
      "metadata": {
        "id": "7d2574c1-bc21-4dc6-b983-1303269b3bed"
      },
      "source": [
        ""
      ],
      "execution_count": null,
      "outputs": []
    },
    {
      "cell_type": "markdown",
      "metadata": {
        "id": "6c71dc81-9935-4493-b1a2-56fb5be672d0"
      },
      "source": [
        "**Импортируйте модель логистической регрессии и обучите ее на соответствующей части выборки (`model.fit`)**."
      ]
    },
    {
      "cell_type": "code",
      "metadata": {
        "id": "f674454a-45e0-4427-960a-94c82e78d7d1"
      },
      "source": [
        ""
      ],
      "execution_count": null,
      "outputs": []
    },
    {
      "cell_type": "markdown",
      "metadata": {
        "id": "b12d7f89-ee99-47aa-b0ff-52e312a0938f"
      },
      "source": [
        "**Получите предсказание на оставшейся выборке**. Оцените его качество метриками из отчета о классификации (`classification_report`)."
      ]
    },
    {
      "cell_type": "code",
      "metadata": {
        "id": "a4561cf9-15ca-4d45-903f-14b478ac8448"
      },
      "source": [
        ""
      ],
      "execution_count": null,
      "outputs": []
    },
    {
      "cell_type": "markdown",
      "metadata": {
        "id": "258f3c59-f419-4394-aa87-fa5c58a8c2d1"
      },
      "source": [
        "Функция `fingerprint_train_test_split`, приведенная ниже, осуществляет **разбиение train/test на основании молекулярных \"отпечатков\" (molecular fingerprints)**. Воспользуйтесь ей, чтобы получить **неслучайное разбиение на train/test** и повторите предыдущие шаги, чтобы оценить качество модели на таком случае."
      ]
    },
    {
      "cell_type": "code",
      "metadata": {
        "id": "9a29ae65-3c94-4bf3-8a17-204607b8dc57"
      },
      "source": [
        "from rdkit import Chem\n",
        "from rdkit.Chem import AllChem\n",
        "from rdkit import DataStructs"
      ],
      "execution_count": null,
      "outputs": []
    },
    {
      "cell_type": "code",
      "metadata": {
        "id": "7b6cb627-57fc-4bcb-971c-40a30e850f75"
      },
      "source": [
        "def _split_fingerprints(fps, size1, size2):\n",
        "    \"\"\"This is called by fingerprint_train_test_split to divide a list of fingerprints into\n",
        "    two groups.\n",
        "    \"\"\"\n",
        "    assert len(fps) == size1 + size2\n",
        "\n",
        "    # Begin by assigning the first molecule to the first group.\n",
        "\n",
        "    fp_in_group = [[fps[0]], []]\n",
        "    indices_in_group = ([0], [])\n",
        "    remaining_fp = fps[1:]\n",
        "    remaining_indices = list(range(1, len(fps)))\n",
        "    max_similarity_to_group = [\n",
        "        DataStructs.BulkTanimotoSimilarity(fps[0], remaining_fp),\n",
        "        [0] * len(remaining_fp)\n",
        "    ]\n",
        "    while len(remaining_fp) > 0:\n",
        "    # Decide which group to assign a molecule to.\n",
        "        group = 0 if len(fp_in_group[0]) / size1 <= len(\n",
        "            fp_in_group[1]) / size2 else 1\n",
        "\n",
        "        # Identify the unassigned molecule that is least similar to everything in\n",
        "        # the other group.\n",
        "\n",
        "        i = np.argmin(max_similarity_to_group[1 - group])\n",
        "\n",
        "        # Add it to the group.\n",
        "\n",
        "        fp = remaining_fp[i]\n",
        "        fp_in_group[group].append(fp)\n",
        "        indices_in_group[group].append(remaining_indices[i])\n",
        "\n",
        "        # Update the data on unassigned molecules.\n",
        "\n",
        "        similarity = DataStructs.BulkTanimotoSimilarity(fp, remaining_fp)\n",
        "        max_similarity_to_group[group] = np.delete(\n",
        "            np.maximum(similarity, max_similarity_to_group[group]), i)\n",
        "        max_similarity_to_group[1 - group] = np.delete(\n",
        "            max_similarity_to_group[1 - group], i)\n",
        "        del remaining_fp[i]\n",
        "        del remaining_indices[i]\n",
        "    return indices_in_group"
      ],
      "execution_count": null,
      "outputs": []
    },
    {
      "cell_type": "code",
      "metadata": {
        "id": "cfe6c073-0fc4-4f23-8fab-8744f725db28"
      },
      "source": [
        "def fingerprint_train_test_split(X, y, smiles, test_size=0.1):\n",
        "    assert X.shape[0] == y.shape[0] == smiles.shape[0]\n",
        "    mols = [Chem.MolFromSmiles(s) for s in smiles]\n",
        "    fps = [AllChem.GetMorganFingerprintAsBitVect(x, 2, 1024) for x in mols]\n",
        "\n",
        "    # Split into two groups: training set and everything else.\n",
        "\n",
        "    test_size = int(test_size * len(y))\n",
        "    train_size = len(y) - test_size\n",
        "    train_inds, test_inds = _split_fingerprints(fps, train_size, test_size)\n",
        "    \n",
        "    X_train = X[train_inds,:]\n",
        "    X_test = X[test_inds,:]\n",
        "    y_train = y[train_inds]\n",
        "    y_test = y[test_inds]\n",
        "    \n",
        "    return X_train, X_test, y_train, y_test"
      ],
      "execution_count": null,
      "outputs": []
    },
    {
      "cell_type": "code",
      "metadata": {
        "id": "bac99465-3e69-4eb6-a05e-2abfffe97fe1"
      },
      "source": [
        ""
      ],
      "execution_count": null,
      "outputs": []
    },
    {
      "cell_type": "markdown",
      "metadata": {
        "id": "d1051f3a-d90a-4cfb-887c-97aad6b31158"
      },
      "source": [
        "**Сделайте выводы**."
      ]
    },
    {
      "cell_type": "code",
      "metadata": {
        "id": "e26b8e9c-1824-406c-a423-d006bfdbc9e8"
      },
      "source": [
        ""
      ],
      "execution_count": null,
      "outputs": []
    },
    {
      "cell_type": "markdown",
      "metadata": {
        "id": "ipjwTrsLp1-U"
      },
      "source": [
        "# AlphaFold2 "
      ]
    },
    {
      "cell_type": "markdown",
      "metadata": {
        "id": "MZUTriw3yCYy"
      },
      "source": [
        "Ну и, наконец, AlphaFold2. \n",
        "\n",
        "Воспользуемся ноутбуком, выложенным в публичный доступ Сергеем Овчинниковым - [ссылка](https://colab.research.google.com/github/sokrypton/ColabFold/blob/main/AlphaFold2.ipynb)\n",
        "\n",
        "В этом ноутбуке все полностью автоматизировано "
      ]
    },
    {
      "cell_type": "markdown",
      "metadata": {
        "id": "LwhLuY2qyy4x"
      },
      "source": [
        "## Победы AlphaFold2"
      ]
    },
    {
      "cell_type": "markdown",
      "metadata": {
        "id": "zWbRNpr0GEKx"
      },
      "source": [
        "Не включайте template search, иначе совсем нечестно"
      ]
    },
    {
      "cell_type": "code",
      "metadata": {
        "id": "0KYfE0F3p38b"
      },
      "source": [
        "seq1 = \"TTYKLILNLKQAKEEAIKELVDAGTAEKYIKLIANAKTVEGVWTLKDEIKTFTVTE\"\n",
        "seq2 = \"TTYKLILNLKQAKEEAIKEAVDAGTAEKYFKLIANAKTVEGVWTYKDEIKTFTVTE\""
      ],
      "execution_count": null,
      "outputs": []
    },
    {
      "cell_type": "code",
      "metadata": {
        "id": "Upg-Askb8Ozi",
        "colab": {
          "base_uri": "https://localhost:8080/"
        },
        "outputId": "0a5d5f40-d862-4286-cedd-11e51258e45a"
      },
      "source": [
        "for ind, (s1, s2) in enumerate(zip(seq1, seq2) ):\n",
        "  if s1 != s2:\n",
        "    print(f\"Differ: {s1}{ind}{s2}\")"
      ],
      "execution_count": null,
      "outputs": [
        {
          "output_type": "stream",
          "name": "stdout",
          "text": [
            "Differ: L19A\n",
            "Differ: I29F\n",
            "Differ: L44Y\n"
          ]
        }
      ]
    },
    {
      "cell_type": "markdown",
      "metadata": {
        "id": "lOy4GcG0F4Ji"
      },
      "source": [
        "Должно получиться как в [этой статье](https://www.ncbi.nlm.nih.gov/pmc/articles/PMC2779201/)"
      ]
    },
    {
      "cell_type": "markdown",
      "metadata": {
        "id": "j1omLPDkF8K7"
      },
      "source": [
        "Конечно, можно заметить, что при обучении модель видела структуры, выложенные в PDB. Но у AlphaFold бывают успехи и на структурах, которые еще не были опубликованы и при этом сложны. "
      ]
    },
    {
      "cell_type": "markdown",
      "metadata": {
        "id": "jYZyAnrN5oem"
      },
      "source": [
        "## Поражения AlphaFold2\n",
        "\n",
        "Промоделируйте следующую последовательность: \n",
        "\n"
      ]
    },
    {
      "cell_type": "code",
      "metadata": {
        "id": "2yrz5is67paR"
      },
      "source": [
        "seq = '''MDQNNSLPPYAQGLASPQGAMTPGIPIFSPMMPYGTGLTPQPIQNTNSLSILEEQQRQQQ\n",
        "QQQQQQQQQQQQQQQQQQQQQQQQQQQQQQQQQQQAVAAAAVQQSTSQQATQGTSGQAPQ\n",
        "LFHSQTLTTAPLPGTTPLYPSPMTPMTPITPATPASESSGIVPQLQNIVSTVNLGCKLDL\n",
        "KTIALRARNAEYNPKRFAAVIMRIREPRTTALIFSSGKMVCTGAKSEEQSRLAARKYARV\n",
        "VQKLGFPAKFLDFKIQNMVGSCDVKFPIRLEGLVLTHQQFSSYEPELFPGLIYRMIKPRI\n",
        "VLLIFVSGKVVLTGAKVRAEIYEAFENIYPILKGFRKTT'''"
      ],
      "execution_count": null,
      "outputs": []
    },
    {
      "cell_type": "markdown",
      "metadata": {
        "id": "VBkIfDca7Q9N"
      },
      "source": [
        "Сравните с тем, что [должно](https://twitter.com/PappulabWashU/status/1418332465740066816/photo/2) получиться "
      ]
    },
    {
      "cell_type": "code",
      "metadata": {
        "id": "k_t3IR-m0d_8"
      },
      "source": [
        ""
      ],
      "execution_count": null,
      "outputs": []
    },
    {
      "cell_type": "markdown",
      "metadata": {
        "id": "0V2Dmm8MdyoW"
      },
      "source": [
        "## Click-chemistry \n"
      ]
    },
    {
      "cell_type": "code",
      "metadata": {
        "id": "8s3hKNjGrKts",
        "colab": {
          "base_uri": "https://localhost:8080/"
        },
        "outputId": "3f122984-279a-4f06-ac11-c56908457e74"
      },
      "source": [
        "!pip install rdkit-pypi"
      ],
      "execution_count": null,
      "outputs": [
        {
          "output_type": "stream",
          "name": "stdout",
          "text": [
            "Requirement already satisfied: rdkit-pypi in /usr/local/lib/python3.7/dist-packages (2021.3.5.1)\n",
            "Requirement already satisfied: numpy>=1.19 in /usr/local/lib/python3.7/dist-packages (from rdkit-pypi) (1.19.5)\n"
          ]
        }
      ]
    },
    {
      "cell_type": "code",
      "metadata": {
        "id": "JI8cE1i9LJVt"
      },
      "source": [
        "from IPython.display import display,Image"
      ],
      "execution_count": null,
      "outputs": []
    },
    {
      "cell_type": "markdown",
      "metadata": {
        "id": "K2VNIgfhnM4G"
      },
      "source": [
        "Популярная реакция в клик-химии это азид-алкиновое циклоприсоединение.\n"
      ]
    },
    {
      "cell_type": "code",
      "metadata": {
        "id": "uS1hilHWnOhb",
        "colab": {
          "base_uri": "https://localhost:8080/",
          "height": 88
        },
        "outputId": "1583e95f-b14d-4eb7-9c1b-4ea886f6d9df"
      },
      "source": [
        "\n",
        "display(Image('https://upload.wikimedia.org/wikipedia/commons/thumb/6/66/CuAAC.svg/768px-CuAAC.svg.png'))"
      ],
      "execution_count": null,
      "outputs": [
        {
          "output_type": "display_data",
          "data": {
            "image/png": "[encoded data removed]",
            "text/plain": [
              "<IPython.core.display.Image object>"
            ]
          },
          "metadata": {}
        }
      ]
    },
    {
      "cell_type": "markdown",
      "metadata": {
        "id": "1h1M-E_7m1bX"
      },
      "source": [
        "Модицифируем наш ибупрофен таким образом, чтобы с ним было можно делать клик-химию"
      ]
    },
    {
      "cell_type": "code",
      "metadata": {
        "id": "VUnXsiXlMPqX"
      },
      "source": [
        "from rdkit import Chem\n",
        "from rdkit.Chem.Draw import IPythonConsole\n",
        "from rdkit.Chem import Draw"
      ],
      "execution_count": null,
      "outputs": []
    },
    {
      "cell_type": "code",
      "metadata": {
        "id": "-ABbpiX7rRs3",
        "colab": {
          "base_uri": "https://localhost:8080/",
          "height": 167
        },
        "outputId": "79556058-eb4e-4983-c3e2-db794978969a"
      },
      "source": [
        "mod_ibu=Chem.MolFromSmiles('CC(C)CC1=CC=C(C(C#C)=C1)C(C)C(=O)O')\n",
        "AllChem.Compute2DCoords(mod_ibu)\n",
        "display(al_ibu)"
      ],
      "execution_count": null,
      "outputs": [
        {
          "output_type": "display_data",
          "data": {
            "image/png": "[encoded data removed]",
            "text/plain": [
              "<rdkit.Chem.rdchem.Mol at 0x7f3d8b78c3a0>"
            ]
          },
          "metadata": {}
        }
      ]
    },
    {
      "cell_type": "markdown",
      "metadata": {
        "id": "-4a_9BjBrSXD"
      },
      "source": [
        "А теперь представим, что кликхимия произошла, и за N-N-N - другая молекула "
      ]
    },
    {
      "cell_type": "code",
      "metadata": {
        "id": "Cn2Jsx2tm583",
        "colab": {
          "base_uri": "https://localhost:8080/",
          "height": 167
        },
        "outputId": "9f12d7a6-e863-43c0-dd67-9e81fbd237a8"
      },
      "source": [
        "al_ibu=Chem.MolFromSmiles('CC(C)CC1=CC=C(C=C1)C(C1=CN=NN1)(C)C(=O)O')\n",
        "AllChem.Compute2DCoords(al_ibu)\n",
        "display(al_ibu)"
      ],
      "execution_count": null,
      "outputs": [
        {
          "output_type": "display_data",
          "data": {
            "image/png": "[encoded data removed]",
            "text/plain": [
              "<rdkit.Chem.rdchem.Mol at 0x7f3d8b78c3a0>"
            ]
          },
          "metadata": {}
        }
      ]
    },
    {
      "cell_type": "markdown",
      "metadata": {
        "id": "45VO1oienQWn"
      },
      "source": [
        "И перерисуем"
      ]
    },
    {
      "cell_type": "code",
      "metadata": {
        "id": "6KVNOX57nXSA"
      },
      "source": [
        "template = 'N1N=NC(=C1)C(C)(C(=O)O)C1=CC=C(C=C1)CC(C)C'\n",
        "template_mol = Chem.MolFromSmiles(template)\n",
        "AllChem.Compute2DCoords(template_mol)\n",
        "display(template_mol)"
      ],
      "execution_count": null,
      "outputs": []
    },
    {
      "cell_type": "markdown",
      "metadata": {
        "id": "bghMt1YBraf_"
      },
      "source": [
        "Зачем? Чтобы потом просто заменять в молекуле азид на наш \"ибупрофен\""
      ]
    },
    {
      "cell_type": "markdown",
      "metadata": {
        "id": "tklTmUMKncqs"
      },
      "source": [
        "Теперь нам надо скачать соединения из PubChem, содержащие азид"
      ]
    },
    {
      "cell_type": "code",
      "metadata": {
        "id": "z5-8_HNMeizi"
      },
      "source": [
        "!pip install pubchempy"
      ],
      "execution_count": null,
      "outputs": []
    },
    {
      "cell_type": "code",
      "metadata": {
        "id": "WaSfgQJ-efAo"
      },
      "source": [
        "\n",
        "import pubchempy as pcp"
      ],
      "execution_count": null,
      "outputs": []
    },
    {
      "cell_type": "markdown",
      "metadata": {
        "id": "sH-NqDuyib0d"
      },
      "source": [
        "Скачаем 100000 азидов (можно и больше, но их там больше миллиона включая стереоизомеры. Устанем)"
      ]
    },
    {
      "cell_type": "code",
      "metadata": {
        "id": "7pWLCttielaJ"
      },
      "source": [
        "samples = 10000\n",
        "steps = 10\n",
        "smiles = \"N=[N+]=[N-]\"\n",
        "azides = []\n",
        "\n",
        "for step in range(steps):\n",
        "  print(f\"Step {step}\")\n",
        "  cur_azides = pcp.get_properties(properties=\"CanonicalSMILES\", \n",
        "                            identifier=smiles, \n",
        "                            namespace=\"smiles\", \n",
        "                            searchtype=\"substructure\",\n",
        "                            RingsNotEmbedded=False,\n",
        "                            listkey_count=samples,\n",
        "                            listkey_start= step * samples )\n",
        "  azides.extend(cur_azides)"
      ],
      "execution_count": null,
      "outputs": []
    },
    {
      "cell_type": "markdown",
      "metadata": {
        "id": "5evrljvCqeoJ"
      },
      "source": [
        "Берем только smiles "
      ]
    },
    {
      "cell_type": "code",
      "metadata": {
        "id": "Ebq8ZpQtgyhS"
      },
      "source": [
        "azides_smiles = [x['CanonicalSMILES'] for x in azides]\n",
        "azides_smiles[:10]"
      ],
      "execution_count": null,
      "outputs": []
    },
    {
      "cell_type": "markdown",
      "metadata": {
        "id": "OGOcH0rtsLdw"
      },
      "source": [
        "Поиск в PubChem увлекателен. Давайте проверим, везде ли в найденных веществах есть азид"
      ]
    },
    {
      "cell_type": "code",
      "metadata": {
        "colab": {
          "base_uri": "https://localhost:8080/",
          "height": 164
        },
        "id": "oTOkxrFXPgSN",
        "outputId": "b0b434ff-1dfd-4ffc-b86c-3e1e1e2ba7a7"
      },
      "source": [
        "azides_smiles[0:10]"
      ],
      "execution_count": null,
      "outputs": [
        {
          "output_type": "error",
          "ename": "NameError",
          "evalue": "ignored",
          "traceback": [
            "\u001b[0;31m---------------------------------------------------------------------------\u001b[0m",
            "\u001b[0;31mNameError\u001b[0m                                 Traceback (most recent call last)",
            "\u001b[0;32m<ipython-input-31-03c36ca9c4fa>\u001b[0m in \u001b[0;36m<module>\u001b[0;34m()\u001b[0m\n\u001b[0;32m----> 1\u001b[0;31m \u001b[0mazides_smiles\u001b[0m\u001b[0;34m[\u001b[0m\u001b[0;36m0\u001b[0m\u001b[0;34m:\u001b[0m\u001b[0;36m10\u001b[0m\u001b[0;34m]\u001b[0m\u001b[0;34m\u001b[0m\u001b[0;34m\u001b[0m\u001b[0m\n\u001b[0m",
            "\u001b[0;31mNameError\u001b[0m: name 'azides_smiles' is not defined"
          ]
        }
      ]
    },
    {
      "cell_type": "code",
      "metadata": {
        "id": "6aRWA5farB3h"
      },
      "source": [
        "for smi in azides_smiles:\n",
        "    \n",
        "  # CODE HERE\n",
        "  # check if \"N=[N+]=[N-]\" in smi. If not - break from cycle\n",
        "\n",
        "print(smi)\n",
        "Chem.MolFromSmiles(smi)"
      ],
      "execution_count": null,
      "outputs": []
    },
    {
      "cell_type": "markdown",
      "metadata": {
        "id": "s0oGcTvZp2xs"
      },
      "source": [
        "Потому придется фильтровать наш список от \"незваных\" молекул"
      ]
    },
    {
      "cell_type": "markdown",
      "metadata": {
        "id": "bsZh3EnTuJ-B"
      },
      "source": [
        "Кроме того, можно грубо прикинуть, сколько максимально тяжелых атомов мы можем иметь в молекуле, чтобы она соответствовала правилу Липински"
      ]
    },
    {
      "cell_type": "code",
      "metadata": {
        "id": "6G2owaUPuSU7",
        "colab": {
          "base_uri": "https://localhost:8080/"
        },
        "outputId": "0e7fb777-7c7f-48b2-9346-26f315406fe1"
      },
      "source": [
        "500 /12"
      ],
      "execution_count": null,
      "outputs": [
        {
          "output_type": "execute_result",
          "data": {
            "text/plain": [
              "41.666666666666664"
            ]
          },
          "metadata": {},
          "execution_count": 1
        }
      ]
    },
    {
      "cell_type": "markdown",
      "metadata": {
        "id": "BSv0GmiiuVgf"
      },
      "source": [
        "Потому все smiles бОльшей длины выкинем"
      ]
    },
    {
      "cell_type": "code",
      "metadata": {
        "id": "b7ZYZRIsfU3G"
      },
      "source": [
        "filtered_azides = [x for x in azides_smiles if ##len(x) <= and ]"
      ],
      "execution_count": null,
      "outputs": []
    },
    {
      "cell_type": "code",
      "metadata": {
        "id": "jqNlxLKSukio"
      },
      "source": [
        "len(filtered_azides)"
      ],
      "execution_count": null,
      "outputs": []
    },
    {
      "cell_type": "markdown",
      "metadata": {
        "id": "34r2fmR1umLh"
      },
      "source": [
        "Жить стало легче, жить стало веселее. "
      ]
    },
    {
      "cell_type": "markdown",
      "metadata": {
        "id": "frLkp1eEu0V0"
      },
      "source": [
        "Отстается \"провести\" click-chemistry"
      ]
    },
    {
      "cell_type": "code",
      "metadata": {
        "id": "ZtRDxNv8u8nv"
      },
      "source": [
        "new_compounds = {}\n",
        "for az in filtered_azides:\n",
        "    product = az.replace(\"N=[N+]=[N-]\", template)\n",
        "    product_mol =  Chem.MolFromSmiles(product)\n",
        "    new_compounds[product] = product_mol"
      ],
      "execution_count": null,
      "outputs": []
    },
    {
      "cell_type": "markdown",
      "metadata": {
        "id": "vE_rKBAAv1Qu"
      },
      "source": [
        "В паре мест что-то сломалось(( \n",
        "Как это проявляется?"
      ]
    },
    {
      "cell_type": "code",
      "metadata": {
        "id": "qc28mshuR1FH"
      },
      "source": [
        "for value in new_compounds.values():\n",
        "    print(type(value))\n",
        "    break\n",
        " mol = value"
      ],
      "execution_count": null,
      "outputs": []
    },
    {
      "cell_type": "code",
      "metadata": {
        "id": "dXu2z1-oSCK4"
      },
      "source": [
        "for value in new_compounds.values():\n",
        "    if type(mol) != type(value):\n",
        "        print(value)\n",
        "        break\n",
        " "
      ],
      "execution_count": null,
      "outputs": []
    },
    {
      "cell_type": "code",
      "metadata": {
        "id": "mAvx-p_9ez3J"
      },
      "source": [
        "# try to find non=trivial values in output"
      ],
      "execution_count": null,
      "outputs": []
    },
    {
      "cell_type": "markdown",
      "metadata": {
        "id": "SF6LjJ-hwNis"
      },
      "source": [
        "Поправим наш код"
      ]
    },
    {
      "cell_type": "code",
      "metadata": {
        "id": "4pgpDCK4wPXp"
      },
      "source": [
        "new_compounds = {}\n",
        "for az in filtered_azides:\n",
        "    product = az.replace(\"N=[N+]=[N-]\", template)\n",
        "    product_mol =  Chem.MolFromSmiles(product)\n",
        "    \n",
        "    #YOUR CODE IS HERE\n",
        "    if product_mol is not None:\n",
        "      new_compounds[product] = product_mol"
      ],
      "execution_count": null,
      "outputs": []
    },
    {
      "cell_type": "markdown",
      "metadata": {
        "id": "sbPFJVaNwVcO"
      },
      "source": [
        "Отлично, осталось проверить молекулы на соответствие правилу Липински"
      ]
    },
    {
      "cell_type": "code",
      "metadata": {
        "id": "vx8qdPwNgFKH"
      },
      "source": [
        "lipinsi_ok = {smi: mol for smi, mol in new_compounds.items() if is_lipinsky(mol)}"
      ],
      "execution_count": null,
      "outputs": []
    },
    {
      "cell_type": "code",
      "metadata": {
        "id": "SD4iLHRmwnq8"
      },
      "source": [
        "len(lipinsi_ok)"
      ],
      "execution_count": null,
      "outputs": []
    },
    {
      "cell_type": "markdown",
      "metadata": {
        "id": "LfgoWmAFwrOd"
      },
      "source": [
        "Много их нашлось. Возьмем первые 64"
      ]
    },
    {
      "cell_type": "code",
      "metadata": {
        "id": "csGt2VRlwyAU"
      },
      "source": [
        "from itertools import islice\n",
        "mols = list(islice(lipinsi_ok.values(), 64))"
      ],
      "execution_count": null,
      "outputs": []
    },
    {
      "cell_type": "code",
      "metadata": {
        "id": "t99cg7qUwqR0"
      },
      "source": [
        "Draw.MolsToGridImage(mols, molsPerRow=8, subImgSize=(150, 150))"
      ],
      "execution_count": null,
      "outputs": []
    },
    {
      "cell_type": "markdown",
      "metadata": {
        "id": "bo4rAlY4xOGE"
      },
      "source": [
        "Посчитаем сходство какой-нить из сгенерированных молекул с исходной"
      ]
    },
    {
      "cell_type": "code",
      "metadata": {
        "id": "afIsEAEVw9Gs"
      },
      "source": [
        "from rdkit.Chem.Draw import SimilarityMaps\n",
        "similarity = SimilarityMaps.GetSimilarityMapForFingerprint(ibu, mols[2], SimilarityMaps.GetMorganFingerprint)"
      ],
      "execution_count": null,
      "outputs": []
    },
    {
      "cell_type": "code",
      "metadata": {
        "id": "Diqg3Ng2xYGi"
      },
      "source": [
        "similarity[1]"
      ],
      "execution_count": null,
      "outputs": []
    },
    {
      "cell_type": "markdown",
      "metadata": {
        "id": "pa29UpFVxd2H"
      },
      "source": [
        "Маленькая "
      ]
    },
    {
      "cell_type": "markdown",
      "metadata": {
        "id": "HrNkRCd8y2CW"
      },
      "source": [
        "Посмотрим на молекулу в 3d"
      ]
    },
    {
      "cell_type": "code",
      "metadata": {
        "id": "Eg9SUgSVxbht"
      },
      "source": [
        "mol = mols[0]\n",
        "\n",
        "m3d = Chem.AddHs(mol)\n",
        "Chem.AllChem.EmbedMolecule(m3d)\n",
        "AllChem.MMFFOptimizeMolecule(m3d, maxIters=500, nonBondedThresh=200)\n",
        "display(m3d)"
      ],
      "execution_count": null,
      "outputs": []
    },
    {
      "cell_type": "markdown",
      "metadata": {
        "id": "QpwJxCnV_9v1"
      },
      "source": [
        "## Токсичность"
      ]
    },
    {
      "cell_type": "markdown",
      "metadata": {
        "id": "RPkLo3Aq8l_o"
      },
      "source": [
        "У нас очень много веществ кандидатов. Хотелось бы как-то сузить список. \n",
        "Сделаем очень простое машинное обучение. "
      ]
    },
    {
      "cell_type": "code",
      "metadata": {
        "id": "MKsVIx-L0Vmx"
      },
      "source": [
        "!pip install deepchem"
      ],
      "execution_count": null,
      "outputs": []
    },
    {
      "cell_type": "markdown",
      "metadata": {
        "id": "SF94jt0M8uWF"
      },
      "source": [
        "Загрузим при помощи пакета deepchem себе датасет токсичности и каждую молекулу охарактеризуем фингерпринтом"
      ]
    },
    {
      "cell_type": "code",
      "metadata": {
        "id": "YcE-o1Ep0m4Q"
      },
      "source": [
        "import deepchem as dc\n",
        "tasks, datasets, transformers = dc.molnet.load_clintox(featurizer='ECFP', splitter=\"random\")\n",
        "train_dataset, valid_dataset, test_dataset = datasets"
      ],
      "execution_count": null,
      "outputs": []
    },
    {
      "cell_type": "markdown",
      "metadata": {
        "id": "6IvepUmh-K3-"
      },
      "source": [
        "Будем учиться отличать токсичные вещества от нетоксичных"
      ]
    },
    {
      "cell_type": "markdown",
      "metadata": {
        "id": "Z4X2ZkP48xvm"
      },
      "source": [
        "Загрузим простую логистическую регрессию "
      ]
    },
    {
      "cell_type": "code",
      "metadata": {
        "id": "hY5ZjJ0Q1o7J"
      },
      "source": [
        "from sklearn.linear_model import LogisticRegression\n",
        "from sklearn.metrics import roc_auc_score"
      ],
      "execution_count": null,
      "outputs": []
    },
    {
      "cell_type": "markdown",
      "metadata": {
        "id": "Oh6GhiH69_Zq"
      },
      "source": [
        "Запускать ее будет с параметрами по-умолчанию, потому валидационный датасет нам не понадобится, сольем его с обучающим"
      ]
    },
    {
      "cell_type": "code",
      "metadata": {
        "id": "FF6xiIAR8MEP"
      },
      "source": [
        "train_X = np.concatenate([train_dataset.X, valid_dataset.X])\n",
        "train_Y = np.concatenate([train_dataset.y[:, 1], valid_dataset.y[:, 1]])"
      ],
      "execution_count": null,
      "outputs": []
    },
    {
      "cell_type": "markdown",
      "metadata": {
        "id": "V7WzaN8Q-GWL"
      },
      "source": [
        "Качество нашей модели неплохое"
      ]
    },
    {
      "cell_type": "code",
      "metadata": {
        "id": "RyKXGNfD60gn"
      },
      "source": [
        "model = LogisticRegression(penalty=\"l2\")\n",
        "### YOUR CODE HERE\n",
        "print(roc_auc_score(y_score=model.predict_proba(test_dataset.X)[:, 1], y_true=test_dataset.y[:, 1]))"
      ],
      "execution_count": null,
      "outputs": []
    },
    {
      "cell_type": "markdown",
      "metadata": {
        "id": "JMwH8q46-SlR"
      },
      "source": [
        "Попробуем для наших сгеенерированных веществ предсказать токсичность"
      ]
    },
    {
      "cell_type": "code",
      "metadata": {
        "id": "HFPDJ41y2Gel"
      },
      "source": [
        "featurizer = dc.molnet.featurizers['ecfp']"
      ],
      "execution_count": null,
      "outputs": []
    },
    {
      "cell_type": "code",
      "metadata": {
        "id": "Pqx796j_7J1M"
      },
      "source": [
        "?featurizer"
      ],
      "execution_count": null,
      "outputs": []
    },
    {
      "cell_type": "code",
      "metadata": {
        "id": "vB6RhBeN7U2r"
      },
      "source": [
        "mols = featurizer.featurize(list(lipinsi_ok.values()))"
      ],
      "execution_count": null,
      "outputs": []
    },
    {
      "cell_type": "code",
      "metadata": {
        "id": "Dchur_cq7oyF"
      },
      "source": [
        "is_toxic = model.predict(mols)"
      ],
      "execution_count": null,
      "outputs": []
    },
    {
      "cell_type": "code",
      "metadata": {
        "id": "QwjwT5DB_py-"
      },
      "source": [
        "is_toxic.mean()"
      ],
      "execution_count": null,
      "outputs": []
    },
    {
      "cell_type": "markdown",
      "metadata": {
        "id": "cEHlXPzW_zZx"
      },
      "source": [
        "Видим, что 33% молекул в наших 9000 - токсичны. И можем их выкинуть"
      ]
    },
    {
      "cell_type": "markdown",
      "metadata": {
        "id": "KXKzhdEA_4mD"
      },
      "source": [
        "Интересно, а токсична ли первая сгенерированная молекула по мнению модели?"
      ]
    },
    {
      "cell_type": "code",
      "metadata": {
        "id": "lY-_NNWf_we_"
      },
      "source": [
        "is_toxic[0]"
      ],
      "execution_count": null,
      "outputs": []
    },
    {
      "cell_type": "code",
      "metadata": {
        "id": "88nrjHtf_x2M"
      },
      "source": [
        "flat_list = set(x for sublist in lipinsi_ok.keys() for x in sublist)"
      ],
      "execution_count": null,
      "outputs": []
    },
    {
      "cell_type": "code",
      "metadata": {
        "id": "PJTFSV-aEsfE"
      },
      "source": [
        "flat_list"
      ],
      "execution_count": null,
      "outputs": []
    },
    {
      "cell_type": "code",
      "metadata": {
        "id": "6xxbhBpGE2E7"
      },
      "source": [
        ""
      ],
      "execution_count": null,
      "outputs": []
    }
  ]
}